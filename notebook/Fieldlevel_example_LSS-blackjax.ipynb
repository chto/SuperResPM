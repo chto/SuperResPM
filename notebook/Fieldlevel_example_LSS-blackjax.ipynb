{
 "cells": [
  {
   "cell_type": "code",
   "execution_count": 1,
   "metadata": {
    "id": "lH6MY5HunOxO"
   },
   "outputs": [],
   "source": [
    "#git clone --recurse-submodules -j8 https://github.com/chto/SuperResPM.git\n",
    "#!cd SuperResPM\n",
    "#!sh install.sh"
   ]
  },
  {
   "cell_type": "code",
   "execution_count": 2,
   "metadata": {},
   "outputs": [],
   "source": [
    "from functools import partial\n",
    "import numpyro.distributions as dist\n",
    "#import jax.numpy.fft as fft\n",
    "import jax\n",
    "import jax.numpy as jnp\n",
    "import jax_cosmo as jc\n",
    "import numpy as np\n",
    "import numpyro\n",
    "from numpyro.handlers import condition\n",
    "from pathlib import Path\n",
    "import diffrax\n",
    "import os,sys\n",
    "import pickle\n",
    "from diffrax import LeapfrogMidpoint, ODETerm, SaveAt, diffeqsolve, ConstantStepSize\n",
    "from jax.scipy.ndimage import map_coordinates\n",
    "from jax_cosmo.scipy.integrate import simps\n",
    "from jaxpm.pm import growth_factor, growth_rate, pm_forces\n",
    "from jaxpm.kernels import fftk, gradient_kernel, invlaplace_kernel, longrange_kernel\n",
    "from jaxpm.painting import cic_paint, cic_paint_2d, cic_read, compensate_cic\n",
    "from jaxpm.distributed import fft3d, ifft3d, normal_field\n",
    "from collections import namedtuple\n",
    "import diffrax\n",
    "from SuperResPM.configure import Configuration\n",
    "from jax import tree\n",
    "from SuperResPM.diffrax_helper import FPMODE,FPMLeapFrog,symplectic_ode\n",
    "from jaxpm.growth import (dGf2a, dGfa, growth_factor, growth_factor_second,\n",
    "                          growth_rate, growth_rate_second)\n",
    "from jaxpm.pm import linear_field, lpt\n",
    "import matplotlib.pyplot as plt\n",
    "%matplotlib inline "
   ]
  },
  {
   "cell_type": "code",
   "execution_count": 3,
   "metadata": {},
   "outputs": [
    {
     "name": "stdout",
     "output_type": "stream",
     "text": [
      "Fri Apr 25 05:22:16 2025       \n",
      "+-----------------------------------------------------------------------------------------+\n",
      "| NVIDIA-SMI 550.127.08             Driver Version: 550.127.08     CUDA Version: 12.4     |\n",
      "|-----------------------------------------+------------------------+----------------------+\n",
      "| GPU  Name                 Persistence-M | Bus-Id          Disp.A | Volatile Uncorr. ECC |\n",
      "| Fan  Temp   Perf          Pwr:Usage/Cap |           Memory-Usage | GPU-Util  Compute M. |\n",
      "|                                         |                        |               MIG M. |\n",
      "|=========================================+========================+======================|\n",
      "|   0  NVIDIA A100-SXM4-40GB          On  |   00000000:82:00.0 Off |                    0 |\n",
      "| N/A   30C    P0             49W /  400W |       1MiB /  40960MiB |      0%      Default |\n",
      "|                                         |                        |             Disabled |\n",
      "+-----------------------------------------+------------------------+----------------------+\n",
      "                                                                                         \n",
      "+-----------------------------------------------------------------------------------------+\n",
      "| Processes:                                                                              |\n",
      "|  GPU   GI   CI        PID   Type   Process name                              GPU Memory |\n",
      "|        ID   ID                                                               Usage      |\n",
      "|=========================================================================================|\n",
      "|  No running processes found                                                             |\n",
      "+-----------------------------------------------------------------------------------------+\n"
     ]
    }
   ],
   "source": [
    "!nvidia-smi"
   ]
  },
  {
   "cell_type": "code",
   "execution_count": 4,
   "metadata": {
    "colab": {
     "base_uri": "https://localhost:8080/"
    },
    "id": "SsAE47_OuNzC",
    "outputId": "cb57b8f0-cb1d-48cb-bea4-495a6be6b119"
   },
   "outputs": [],
   "source": [
    "\n",
    "os.environ[\"XLA_PYTHON_CLIENT_MEM_FRACTION\"] = \".99\"\n",
    "os.environ[\"XLA_PYTHON_CLIENT_PREALLOCATE\"] = \"true\"\n",
    "jax.config.update(\"jax_enable_x64\", False)\n",
    "\n",
    "\n",
    "def linear_field_pm(mesh_shape, box_size, pk, seed, sharding=None,field=None):\n",
    "    \"\"\"\n",
    "    Generate initial conditions.\n",
    "    \"\"\"\n",
    "    # Initialize a random field with one slice on each gpu\n",
    "    #field = normal_field(mesh_shape, seed=seed, sharding=sharding)]\n",
    "\n",
    "    field = fft3d(field)\n",
    "    kvec = fftk(field)\n",
    "    kmesh = sum((kk / box_size[i] * mesh_shape[i])**2\n",
    "                for i, kk in enumerate(kvec))**0.5\n",
    "    pkmesh = pk(kmesh) * (mesh_shape[0] * mesh_shape[1] * mesh_shape[2]) / (\n",
    "        box_size[0] * box_size[1] * box_size[2])\n",
    "\n",
    "    field = field * (pkmesh)**0.5\n",
    "    field = ifft3d(field)\n",
    "    return field\n",
    "\n",
    "\n",
    "\n",
    "\n",
    "\n",
    "\n",
    "def build_model(\n",
    "    linear_field,\n",
    "    dens_model,\n",
    "    cubegrid_size,\n",
    "    cube_size,\n",
    "):\n",
    "    @jax.jit\n",
    "    def model(cosmoparaminit):\n",
    "        cosmoparam = cosmoparaminit[0]\n",
    "        init = cosmoparaminit[1]\n",
    "        Omega_c, sigma8 = cosmoparam \n",
    "        model_cosmo = jc.Cosmology(\n",
    "            Omega_c=Omega_c,\n",
    "            sigma8=sigma8,\n",
    "            Omega_b=0.0492,\n",
    "            Omega_k=0.0,\n",
    "            h=0.67,\n",
    "            n_s=0.96,\n",
    "            w0=-1.0,\n",
    "            wa=0.0,\n",
    "        )\n",
    "        Workspace = namedtuple('_workspace', ['background_radial_comoving_distance', 'background_growth_factor'])\n",
    "        model_cosmo._workspace =Workspace(None, None)\n",
    "        ain=jnp.atleast_1d(1)\n",
    "        _,model_cosmo = growth_rate(model_cosmo, ain)\n",
    "        _,model_cosmo =  growth_rate_second(model_cosmo,ain)\n",
    "        _,model_cosmo= growth_factor(model_cosmo, ain)\n",
    "        _, model_cosmo= jc.background.radial_comoving_distance(model_cosmo, ain)\n",
    "    \n",
    "        # Generate linear field\n",
    "        def pk_fn(x):\n",
    "            # Create a small function to generate the matter power spectrum\n",
    "            k = jnp.logspace(-4, 1, 128)\n",
    "            pk = jc.power.linear_matter_power(model_cosmo, k)\n",
    "            return jc.scipy.interpolate.interp(x.reshape([-1]), k, pk).reshape(x.shape)\n",
    "        mesh_shape = [cubegrid_size, cubegrid_size, cubegrid_size]\n",
    "#        field = numpyro.sample(\n",
    "#            \"initial_conditions\", dist.Normal(jnp.zeros(mesh_shape), jnp.ones(mesh_shape))\n",
    "#        )\n",
    "        field = init\n",
    "        lin_field = linear_field_pm(\n",
    "            [cubegrid_size, cubegrid_size, cubegrid_size],\n",
    "            [cube_size, cube_size, cube_size],\n",
    "            pk_fn, jax.random.PRNGKey(0), field=field\n",
    "        )\n",
    "    \n",
    "        # Evolve the density field\n",
    "        dens = dens_model(model_cosmo, lin_field)\n",
    "    \n",
    "        return dens\n",
    "    return model\n",
    "\n",
    "def full_field_model_pm(\n",
    "    cube_size,\n",
    "    cubegrid_size,\n",
    "    a_init,\n",
    "    a_center,\n",
    "    a_final, \n",
    "    dt\n",
    "):\n",
    "    @jax.jit\n",
    "    def forward_model(cosmo, lin_field):\n",
    "        # Create particles\n",
    "        particles = jnp.stack(\n",
    "            jnp.meshgrid(\n",
    "                *[jnp.arange(s) for s in [cubegrid_size, cubegrid_size, cubegrid_size]]\n",
    "            ),\n",
    "            axis=-1,\n",
    "        ).reshape([-1, 3])\n",
    "        mesh_shape = [cubegrid_size, cubegrid_size, cubegrid_size]\n",
    "        conf = Configuration(mesh_shape=mesh_shape, \n",
    "                     snapshots= a_center[::-1],\n",
    "                     BoxSize=cube_size, \n",
    "                     initial_t0=a_init,\n",
    "                     final_time =a_final,\n",
    "                     density_plane_npix = 10,\n",
    "                     dt0=dt)\n",
    "\n",
    "\n",
    "        def paint_density(t, y, args):\n",
    "            # Load positions and apply boundary conditions\n",
    "            pos = y[0]\n",
    "            #print(y.shape)\n",
    "            x = pos[..., 1]\n",
    "            y = pos[..., 2]\n",
    "            z = pos[..., 0]\n",
    "\n",
    "            # Paint all the particles that fall into slice\n",
    "            ss=args[3].mesh_shape\n",
    "            density = cic_paint(jnp.zeros(ss),jnp.c_[x, y, z])\n",
    "            delta_k = fft3d(density)\n",
    "            return delta_k\n",
    "        \n",
    "    \n",
    "\n",
    "        eps, p, f = lpt(cosmo, lin_field, particles, a=conf.initial_t0)\n",
    "        \n",
    "        term = tree.map(\n",
    "            FPMODE,\n",
    "            symplectic_ode(conf.mesh_shape, paint_absolute_pos=True)\n",
    "        )\n",
    "        initforce = pm_forces(\n",
    "            particles + eps,\n",
    "            mesh_shape=mesh_shape,\n",
    "            paint_absolute_pos=True,\n",
    "        )* 1.5* cosmo.Omega_m  \n",
    "        solver = FPMLeapFrog(initial_t0=conf.initial_t0, final_t1=conf.final_time)\n",
    "        saveat = SaveAt(ts=a_center[::-1], fn=paint_density)\n",
    "        \n",
    "        stepsize_controller = ConstantStepSize()\n",
    "        solution = diffeqsolve(\n",
    "            term,\n",
    "            solver,\n",
    "            t0=conf.initial_t0,\n",
    "            t1=conf.final_time,\n",
    "            dt0=conf.dt0,\n",
    "            y0=jnp.stack([particles + eps, p, initforce], axis=0),\n",
    "            args=[cosmo, None, conf.initial_t0, conf, 0, 0],\n",
    "            saveat=saveat,\n",
    "            adjoint=diffrax.ReversibleAdjoint(),\n",
    "            #max_steps=32,\n",
    "            stepsize_controller=stepsize_controller,\n",
    "        )        \n",
    "        return solution.ys[-1,:,:,:] # Just returning the last snapshot\n",
    "\n",
    "    return forward_model\n"
   ]
  },
  {
   "cell_type": "code",
   "execution_count": 5,
   "metadata": {},
   "outputs": [],
   "source": [
    "#####################################################################################################################\n",
    "key_number = 1\n",
    "# Set output directory\n",
    "dir_out = \"./\"\n",
    "Path(dir_out).mkdir(parents=True, exist_ok=True)\n",
    "# Sim configuration\n",
    "cube_size = 64 # Mpc/h\n",
    "cubegrid_size = 16  # npix\n",
    "a_init = 0.05 #t0\n",
    "a_final = 1 #t1\n",
    "dt = 0.2#dt\n",
    "# Initialize the density model\n",
    "dens_model = full_field_model_pm(\n",
    "    cube_size=cube_size,\n",
    "    cubegrid_size=cubegrid_size,\n",
    "    a_init = a_init,\n",
    "    a_center=[1],#jnp.linspace(a_init,1,41)[::-1], \n",
    "    a_final =a_final,\n",
    "    dt = dt\n",
    ")\n",
    "# Partially fix the forward model\n",
    "model = build_model(\n",
    "    linear_field=linear_field_pm,\n",
    "    dens_model=dens_model,\n",
    "    cubegrid_size=cubegrid_size,\n",
    "    cube_size=cube_size,\n",
    ")"
   ]
  },
  {
   "cell_type": "code",
   "execution_count": null,
   "metadata": {},
   "outputs": [],
   "source": []
  },
  {
   "cell_type": "code",
   "execution_count": 6,
   "metadata": {},
   "outputs": [],
   "source": [
    "cosmoparaminit = [jnp.array([0.286,0.8]), normal_field([cubegrid_size,cubegrid_size,cubegrid_size], seed=jax.random.PRNGKey(0), sharding=None)]"
   ]
  },
  {
   "cell_type": "code",
   "execution_count": 7,
   "metadata": {},
   "outputs": [
    {
     "name": "stderr",
     "output_type": "stream",
     "text": [
      "/global/homes/c/chto100/.conda/envs/chtonew2/lib/python3.10/site-packages/jax/_src/numpy/array_methods.py:122: UserWarning: Explicitly requested dtype <class 'jax.numpy.int64'> requested in astype is not available, and will be truncated to dtype int32. To enable more dtypes, set the jax_enable_x64 configuration option or the JAX_ENABLE_X64 shell environment variable. See https://github.com/jax-ml/jax#current-gotchas for more.\n",
      "  return lax_numpy.astype(self, dtype, copy=copy, device=device)\n"
     ]
    }
   ],
   "source": [
    "obs = model(cosmoparaminit)"
   ]
  },
  {
   "cell_type": "code",
   "execution_count": 8,
   "metadata": {},
   "outputs": [],
   "source": [
    "def lnlike(cosmoparaminit):\n",
    "    pred= model(cosmoparaminit)\n",
    "    return -0.5*(jnp.sum(jnp.absolute(pred-obs)**2/jnp.absolute(obs)**2)+jnp.sum(cosmoparaminit[1]**2))\n",
    "    "
   ]
  },
  {
   "cell_type": "code",
   "execution_count": 9,
   "metadata": {},
   "outputs": [],
   "source": [
    "from jax_tqdm import scan_tqdm\n",
    "import jax\n",
    "import jax.numpy as jnp\n",
    "import jax.scipy.stats as stats\n",
    "from blackjax.mcmc.hmc import HMCState\n",
    "import blackjax\n",
    "import numpy as np\n",
    "import matplotlib.pyplot as plt\n",
    "from jax import lax\n"
   ]
  },
  {
   "cell_type": "code",
   "execution_count": 12,
   "metadata": {},
   "outputs": [],
   "source": [
    "def run_mclmc(logdensity_fn, num_steps, initial_position, key, transform, desired_energy_variance):\n",
    "    init_key, tune_key, run_key = jax.random.split(key, 3)\n",
    "    # create an initial state for the sampler\n",
    "    initial_state = blackjax.mcmc.mclmc.init(\n",
    "        position=initial_position, logdensity_fn=logdensity_fn, rng_key=init_key\n",
    "    )\n",
    "\n",
    "    # build the kernel\n",
    "    kernel = lambda inverse_mass_matrix : blackjax.mcmc.mclmc.build_kernel(\n",
    "        logdensity_fn=logdensity_fn,\n",
    "        integrator=blackjax.mcmc.integrators.isokinetic_velocity_verlet,\n",
    "        inverse_mass_matrix=inverse_mass_matrix,\n",
    "    )\n",
    "\n",
    "    # find values for L and step_size\n",
    "    (\n",
    "        blackjax_state_after_tuning,\n",
    "        blackjax_mclmc_sampler_params,\n",
    "        _\n",
    "    ) = blackjax.mclmc_find_L_and_step_size(\n",
    "        mclmc_kernel=kernel,\n",
    "        num_steps=num_steps,\n",
    "        state=initial_state,\n",
    "        frac_tune1=0.2,\n",
    "        frac_tune2=0.2,\n",
    "        frac_tune3=0.0,\n",
    "        rng_key=tune_key,\n",
    "        diagonal_preconditioning=False,\n",
    "        desired_energy_var=desired_energy_variance,num_effective_samples=256\n",
    "    )\n",
    "    print(blackjax_mclmc_sampler_params)\n",
    "\n",
    "    # use the quick wrapper to build a new kernel with the tuned parameters\n",
    "    sampling_alg = blackjax.mclmc(\n",
    "        logdensity_fn,\n",
    "        L=blackjax_mclmc_sampler_params.L,\n",
    "        step_size=blackjax_mclmc_sampler_params.step_size,\n",
    "    )\n",
    "\n",
    "    # run the sampler\n",
    "    #_, samples = blackjax.util.run_inference_algorithm(\n",
    "    #    rng_key=run_key,\n",
    "    #    initial_state=initial_state,\n",
    "    #    inference_algorithm=sampling_alg,\n",
    "    #    num_steps=num_steps,\n",
    "    #    transform=transform,\n",
    "    #    progress_bar=True,\n",
    "    #)\n",
    "    from tqdm import tqdm\n",
    "    #cpus = jax.devices(\"cpu\")\n",
    "    #gpus = jax.devices(\"gpu\")\n",
    "\n",
    "    ys = []\n",
    "    keys = jax.random.split(run_key, num_steps)\n",
    "    samplefunc = jax.jit(lambda x,y: sampling_alg.step(x,y))\n",
    "    state = initial_state\n",
    "    for k in tqdm(keys):\n",
    "        state, y = samplefunc(k, state)\n",
    "        #y = jax.jit(lambda y:y, device=gpus[0])(y) \n",
    "        ys.append(state.position)\n",
    "    return ys, blackjax_state_after_tuning, blackjax_mclmc_sampler_params, run_key\n",
    "\n",
    "def run_adjusted_mclmc_dynamic(\n",
    "    logdensity_fn,\n",
    "    num_steps,\n",
    "    initial_position,\n",
    "    key,\n",
    "    transform=lambda state, _ : state.position,\n",
    "    diagonal_preconditioning=True,\n",
    "    random_trajectory_length=True,\n",
    "    L_proposal_factor=jnp.inf\n",
    "):\n",
    "\n",
    "    init_key, tune_key, run_key = jax.random.split(key, 3)\n",
    "\n",
    "    initial_state = blackjax.mcmc.adjusted_mclmc_dynamic.init(\n",
    "        position=initial_position,\n",
    "        logdensity_fn=logdensity_fn,\n",
    "        random_generator_arg=init_key,\n",
    "    )\n",
    "\n",
    "    if random_trajectory_length:\n",
    "        integration_steps_fn = lambda avg_num_integration_steps: lambda k: jnp.ceil(\n",
    "            jax.random.uniform(k) * rescale(avg_num_integration_steps))\n",
    "    else:\n",
    "        integration_steps_fn = lambda avg_num_integration_steps: lambda _: jnp.ceil(avg_num_integration_steps)\n",
    "\n",
    "    kernel = lambda rng_key, state, avg_num_integration_steps, step_size, inverse_mass_matrix: blackjax.mcmc.adjusted_mclmc_dynamic.build_kernel(\n",
    "        integration_steps_fn=integration_steps_fn(avg_num_integration_steps),\n",
    "        inverse_mass_matrix=inverse_mass_matrix,\n",
    "    )(\n",
    "        rng_key=rng_key,\n",
    "        state=state,\n",
    "        step_size=step_size,\n",
    "        logdensity_fn=logdensity_fn,\n",
    "        L_proposal_factor=L_proposal_factor,\n",
    "    )\n",
    "\n",
    "    target_acc_rate = 0.9 # our recommendation\n",
    "\n",
    "    (\n",
    "        blackjax_state_after_tuning,\n",
    "        blackjax_mclmc_sampler_params,\n",
    "        _\n",
    "    ) = blackjax.adjusted_mclmc_find_L_and_step_size(\n",
    "        mclmc_kernel=kernel,\n",
    "        num_steps=num_steps,\n",
    "        state=initial_state,\n",
    "        rng_key=tune_key,\n",
    "        target=target_acc_rate,\n",
    "        frac_tune1=0.1,\n",
    "        frac_tune2=0.1,\n",
    "        frac_tune3=0.1, # our recommendation\n",
    "        diagonal_preconditioning=diagonal_preconditioning\n",
    "    )\n",
    "\n",
    "    step_size = blackjax_mclmc_sampler_params.step_size\n",
    "    L = blackjax_mclmc_sampler_params.L\n",
    "\n",
    "    alg = blackjax.adjusted_mclmc_dynamic(\n",
    "        logdensity_fn=logdensity_fn,\n",
    "        step_size=step_size,\n",
    "        integration_steps_fn=lambda key: jnp.ceil(\n",
    "            jax.random.uniform(key) * rescale(L / step_size)\n",
    "        ),\n",
    "        inverse_mass_matrix=blackjax_mclmc_sampler_params.inverse_mass_matrix,\n",
    "        L_proposal_factor=L_proposal_factor,\n",
    "    )\n",
    "\n",
    "    \n",
    "    from tqdm import tqdm\n",
    "\n",
    "    ys = []\n",
    "    keys = jax.random.split(run_key, num_steps)\n",
    "    samplefunc = jax.jit(lambda x,y: alg.step(x,y))\n",
    "    state = initial_state\n",
    "    for k in tqdm(keys):\n",
    "        state, y = samplefunc(k, state)\n",
    "        #y = jax.jit(lambda y:y, device=gpus[0])(y) \n",
    "        ys.append(state.position)\n",
    "\n",
    "    return ys"
   ]
  },
  {
   "cell_type": "code",
   "execution_count": 13,
   "metadata": {},
   "outputs": [
    {
     "name": "stdout",
     "output_type": "stream",
     "text": [
      "MCLMCAdaptationState(L=Array(0.04150224, dtype=float32), step_size=Array(0.00101646, dtype=float32), inverse_mass_matrix=Array([1., 1., 1., ..., 1., 1., 1.], dtype=float32))\n"
     ]
    },
    {
     "name": "stderr",
     "output_type": "stream",
     "text": [
      "100%|██████████| 1000/1000 [29:08<00:00,  1.75s/it]\n"
     ]
    }
   ],
   "source": [
    "from blackjax.mcmc.adjusted_mclmc_dynamic import rescale\n",
    "\n",
    "rng_key = jax.random.key(0)\n",
    "logdensity_fn = lnlike\n",
    "num_steps = 1000\n",
    "transform = lambda state, info: state.position\n",
    "sample_key, rng_key = jax.random.split(rng_key)\n",
    "samples, initial_state, params, chain_key = run_mclmc(\n",
    "    logdensity_fn=logdensity_fn,\n",
    "    num_steps=num_steps,\n",
    "    initial_position = cosmoparaminit,\n",
    "    key=sample_key,\n",
    "    transform=transform,  desired_energy_variance=1E-6\n",
    ")"
   ]
  },
  {
   "cell_type": "code",
   "execution_count": null,
   "metadata": {},
   "outputs": [],
   "source": [
    "from blackjax.mcmc.adjusted_mclmc_dynamic import rescale\n",
    "\n",
    "rng_key = jax.random.key(0)\n",
    "logdensity_fn = lnlike\n",
    "num_steps = 1000\n",
    "transform = lambda state, info: state.position\n",
    "sample_key, rng_key = jax.random.split(rng_key)\n",
    "samples2  = run_adjusted_mclmc_dynamic(\n",
    "    logdensity_fn=logdensity_fn,\n",
    "    num_steps=num_steps,\n",
    "    initial_position = cosmoparaminit,\n",
    "    key=sample_key,\n",
    "    transform=transform\n",
    ")"
   ]
  },
  {
   "cell_type": "code",
   "execution_count": 14,
   "metadata": {},
   "outputs": [],
   "source": [
    "sall = []\n",
    "for s in samples:\n",
    "    sall.append(s[0])\n",
    "sall = np.array(sall)"
   ]
  },
  {
   "cell_type": "code",
   "execution_count": 15,
   "metadata": {},
   "outputs": [
    {
     "data": {
      "text/plain": [
       "(1000, 2)"
      ]
     },
     "execution_count": 15,
     "metadata": {},
     "output_type": "execute_result"
    }
   ],
   "source": [
    "sall.shape"
   ]
  },
  {
   "cell_type": "code",
   "execution_count": 16,
   "metadata": {},
   "outputs": [
    {
     "data": {
      "text/plain": [
       "<matplotlib.lines.Line2D at 0x7f0ae847f910>"
      ]
     },
     "execution_count": 16,
     "metadata": {},
     "output_type": "execute_result"
    },
    {
     "data": {
      "image/png": "[encoded data removed]",
      "text/plain": [
       "<Figure size 640x480 with 2 Axes>"
      ]
     },
     "metadata": {},
     "output_type": "display_data"
    }
   ],
   "source": [
    "plt.scatter(sall[:,0], sall[:,1], c=np.arange(0,len(sall)))\n",
    "plt.colorbar()\n",
    "plt.axvline(0.286)\n",
    "plt.axhline(0.8)"
   ]
  },
  {
   "cell_type": "code",
   "execution_count": 17,
   "metadata": {},
   "outputs": [],
   "source": [
    "inv_mass_matrix = 0.1*np.ones(1)\n",
    "step_size = 1e-3\n",
    "nuts = blackjax.nuts(lnlike, step_size, inv_mass_matrix,max_num_doublings=8)"
   ]
  },
  {
   "cell_type": "code",
   "execution_count": 18,
   "metadata": {},
   "outputs": [
    {
     "name": "stdout",
     "output_type": "stream",
     "text": [
      "Running window adaptation\n"
     ]
    },
    {
     "data": {
      "text/html": [
       "\n",
       "<style>\n",
       "    /* Turns off some styling */\n",
       "    progress {\n",
       "        /* gets rid of default border in Firefox and Opera. */\n",
       "        border: none;\n",
       "        /* Needs to be in here for Safari polyfill so background images work as expected. */\n",
       "        background-size: auto;\n",
       "    }\n",
       "    progress:not([value]), progress:not([value])::-webkit-progress-bar {\n",
       "        background: repeating-linear-gradient(45deg, #7e7e7e, #7e7e7e 10px, #5c5c5c 10px, #5c5c5c 20px);\n",
       "    }\n",
       "    .progress-bar-interrupted, .progress-bar-interrupted::-webkit-progress-bar {\n",
       "        background: #F44336;\n",
       "    }\n",
       "</style>\n"
      ],
      "text/plain": [
       "<IPython.core.display.HTML object>"
      ]
     },
     "metadata": {},
     "output_type": "display_data"
    },
    {
     "data": {
      "text/html": [
       "\n",
       "    <div>\n",
       "      <progress value='10' class='' max='10' style='width:300px; height:20px; vertical-align: middle;'></progress>\n",
       "      100.00% [10/10 00:00&lt;?]\n",
       "    </div>\n",
       "    "
      ],
      "text/plain": [
       "<IPython.core.display.HTML object>"
      ]
     },
     "metadata": {},
     "output_type": "display_data"
    }
   ],
   "source": [
    "rng_key = jax.random.key(0)\n",
    "initial_position = cosmoparaminit\n",
    "warmup = blackjax.window_adaptation(blackjax.nuts, lnlike, progress_bar=True,max_num_doublings=8)\n",
    "rng_key, warmup_key, sample_key = jax.random.split(rng_key, 3)\n",
    "(state, parameters), _ = warmup.run(warmup_key, initial_position, num_steps=10)"
   ]
  },
  {
   "cell_type": "code",
   "execution_count": 19,
   "metadata": {},
   "outputs": [
    {
     "data": {
      "text/plain": [
       "{'step_size': Array(0.00423736, dtype=float32, weak_type=True),\n",
       " 'inverse_mass_matrix': Array([1., 1., 1., ..., 1., 1., 1.], dtype=float32),\n",
       " 'max_num_doublings': 8}"
      ]
     },
     "execution_count": 19,
     "metadata": {},
     "output_type": "execute_result"
    }
   ],
   "source": [
    "parameters"
   ]
  },
  {
   "cell_type": "code",
   "execution_count": 20,
   "metadata": {},
   "outputs": [],
   "source": [
    "kernel = blackjax.nuts(lnlike,**parameters)"
   ]
  },
  {
   "cell_type": "code",
   "execution_count": null,
   "metadata": {},
   "outputs": [
    {
     "name": "stderr",
     "output_type": "stream",
     "text": [
      "  0%|          | 5/1000 [01:15<3:17:49, 11.93s/it] "
     ]
    }
   ],
   "source": [
    "from tqdm import tqdm\n",
    "cpus = jax.devices(\"cpu\")\n",
    "gpus = jax.devices(\"gpu\")\n",
    "\n",
    "ys = []\n",
    "num_samples=1000\n",
    "initial_position = cosmoparaminit\n",
    "initial_state = nuts.init(initial_position)\n",
    "keys = jax.random.split(rng_key, num_samples)\n",
    "state = initial_state\n",
    "kernel_step = jax.jit(lambda x, y:nuts.step(x,y))\n",
    "for k in tqdm(keys):\n",
    "    state, y = kernel_step(k, state)\n",
    "    #y = jax.jit(lambda y:y, device=gpus[0])(y) \n",
    "    ys.append(state.position)\n",
    "    #jax.clear_caches()\n"
   ]
  },
  {
   "cell_type": "code",
   "execution_count": null,
   "metadata": {},
   "outputs": [],
   "source": [
    "sall_nuts = []\n",
    "for s in ys:\n",
    "    sall_nuts.append(s[0])\n",
    "sall_nuts = np.array(sall_nuts)"
   ]
  },
  {
   "cell_type": "code",
   "execution_count": null,
   "metadata": {},
   "outputs": [],
   "source": [
    "plt.scatter(sall_nuts[:,0], sall_nuts[:,1], c=np.arange(0,len(sall_nuts)))\n",
    "plt.colorbar()"
   ]
  },
  {
   "cell_type": "code",
   "execution_count": null,
   "metadata": {},
   "outputs": [],
   "source": [
    "if __name__ == \"__main__\":\n",
    "    key_number = 1\n",
    "    # Set output directory\n",
    "    dir_out = \"./\"\n",
    "    Path(dir_out).mkdir(parents=True, exist_ok=True)\n",
    "\n",
    "    # Sim configuration\n",
    "    cube_size = 128  # Mpc/h\n",
    "    cubegrid_size = 100  # npix\n",
    "    a_init = 0.05\n",
    "    a_final = 1\n",
    "    dt = 0.03\n",
    "    # Initialize the density model\n",
    "    dens_model = full_field_model_pm(\n",
    "        cube_size=cube_size,\n",
    "        cubegrid_size=cubegrid_size,\n",
    "        a_init = a_init,\n",
    "        a_center=np.linspace(a_init,1,41)[::-1], \n",
    "        a_final =a_final,\n",
    "        dt = dt\n",
    "    )\n",
    "\n",
    "    # Partially fix the forward model\n",
    "    model = partial(\n",
    "        PM_numpyro_forward_model,\n",
    "        linear_field=linear_field_pm,\n",
    "        dens_model=dens_model,\n",
    "        cubegrid_size=cubegrid_size,\n",
    "        cube_size=cube_size,\n",
    "    )\n",
    "\n",
    "    # Set keys\n",
    "    keys = jax.random.PRNGKey(3)\n",
    "    subkey = jax.random.split(keys, 200)\n",
    "    key_data = subkey[key_number]\n",
    "    key_run = subkey[key_number + 100]\n",
    "\n",
    "    # Create a random realization of a map with fixed cosmology\n",
    "    gen_model = condition(model, {\"sigma8\": 0.83, \"Omega_c\": 0.26})\n",
    "    model_tracer = numpyro.handlers.trace(numpyro.handlers.seed(gen_model, key_data))\n",
    "    model_trace = model_tracer.get_trace()\n",
    "    #jax.debug.breakpoint()\n",
    "\n",
    "    with open(dir_out+'model_trace.pkl', 'wb') as handle:\n",
    "        pickle.dump(model_trace, handle, protocol=pickle.HIGHEST_PROTOCOL)\n",
    "\n",
    "\n",
    "    # Set the starting point of the sampling (truth here)\n",
    "    init_values = {\n",
    "        \"initial_conditions\": model_trace[\"initial_conditions\"][\"value\"],\n",
    "        \"sigma8\": 0.83,\n",
    "        \"Omegac\": 0.26,\n",
    "    }\n",
    "\n",
    "    # Condition the model (i.e. set target map)\n",
    "    observed_model = condition(\n",
    "        model,\n",
    "        {'obs_dens': model_trace[\"obs_dens\"][\"value\"]}\n",
    "    )\n",
    "\n",
    "    # Setup NUTS kernel\n",
    "    nuts_kernel = numpyro.infer.NUTS(\n",
    "        model=observed_model,\n",
    "        init_strategy=numpyro.infer.init_to_value(values=init_values),\n",
    "        max_tree_depth=5,\n",
    "        step_size=0.01,\n",
    "    )\n",
    "\n",
    "    # Set up MCMC\n",
    "    mcmc = numpyro.infer.MCMC(\n",
    "        nuts_kernel,\n",
    "        num_warmup=1,\n",
    "        num_samples=1,\n",
    "        thinning=1,\n",
    "        num_chains=1,\n",
    "        chain_method=\"vectorized\",\n",
    "        progress_bar=True,\n",
    "    )\n",
    "    with jax.profiler.trace(\"tensorborard/\"):\n",
    "        # Start sampling\n",
    "        mcmc.run(key_run)\n",
    "        res2 = mcmc.get_samples()\n",
    "    #with open(dir_out+'sample.pkl', 'wb') as handle:\n",
    "    #    pickle.dump(res, handle, protocol=pickle.HIGHEST_PROTOCOL)\n"
   ]
  },
  {
   "cell_type": "code",
   "execution_count": null,
   "metadata": {},
   "outputs": [],
   "source": []
  },
  {
   "cell_type": "code",
   "execution_count": null,
   "metadata": {},
   "outputs": [],
   "source": []
  },
  {
   "cell_type": "code",
   "execution_count": null,
   "metadata": {},
   "outputs": [],
   "source": []
  },
  {
   "cell_type": "code",
   "execution_count": null,
   "metadata": {},
   "outputs": [],
   "source": []
  },
  {
   "cell_type": "code",
   "execution_count": null,
   "metadata": {},
   "outputs": [],
   "source": []
  },
  {
   "cell_type": "code",
   "execution_count": null,
   "metadata": {},
   "outputs": [],
   "source": []
  }
 ],
 "metadata": {
  "colab": {
   "provenance": []
  },
  "kernelspec": {
   "display_name": "chtonew2",
   "language": "python",
   "name": "chtonew2"
  },
  "language_info": {
   "codemirror_mode": {
    "name": "ipython",
    "version": 3
   },
   "file_extension": ".py",
   "mimetype": "text/x-python",
   "name": "python",
   "nbconvert_exporter": "python",
   "pygments_lexer": "ipython3",
   "version": "3.10.13"
  }
 },
 "nbformat": 4,
 "nbformat_minor": 4
}
