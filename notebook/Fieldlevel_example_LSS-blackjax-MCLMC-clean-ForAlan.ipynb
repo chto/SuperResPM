{
 "cells": [
  {
   "cell_type": "code",
   "execution_count": 2,
   "metadata": {},
   "outputs": [],
   "source": [
    "import os\n",
    "os.environ[\"CUDA_VISIBLE_DEVICES\"] ='1'\n",
    "\n",
    "\n",
    "\n",
    "import copy\n",
    "from jax.scipy.special import logsumexp\n",
    "from functools import partial\n",
    "import numpyro.distributions as dist\n",
    "#import jax.numpy.fft as fft\n",
    "import jax\n",
    "import jax.numpy as jnp\n",
    "import jax_cosmo as jc\n",
    "import numpy as np\n",
    "import numpyro\n",
    "from numpyro.handlers import condition\n",
    "from pathlib import Path\n",
    "import diffrax\n",
    "import os,sys\n",
    "import pickle\n",
    "from diffrax import LeapfrogMidpoint, ODETerm, SaveAt, diffeqsolve, ConstantStepSize\n",
    "from jax.scipy.ndimage import map_coordinates\n",
    "from jax_cosmo.scipy.integrate import simps\n",
    "from jaxpm.pm import growth_factor, growth_rate, pm_forces\n",
    "from jaxpm.kernels import fftk, gradient_kernel, invlaplace_kernel, longrange_kernel\n",
    "from jaxpm.painting import cic_paint, cic_paint_2d, cic_read, compensate_cic\n",
    "from jaxpm.distributed import fft3d, ifft3d, normal_field\n",
    "from collections import namedtuple\n",
    "import diffrax\n",
    "from SuperResPM.configure import Configuration\n",
    "from jax import tree\n",
    "from SuperResPM.diffrax_helper import FPMODE,FPMLeapFrog,symplectic_ode\n",
    "from jaxpm.growth import (dGf2a, dGfa, growth_factor, growth_factor_second,\n",
    "                          growth_rate, growth_rate_second)\n",
    "from jaxpm.pm import lpt\n",
    "import matplotlib.pyplot as plt\n",
    "from jax.flatten_util import ravel_pytree\n",
    "from blackjax.mcmc.integrators import isokinetic_mclachlan, isokinetic_velocity_verlet, isokinetic_yoshida, isokinetic_omelyan\n",
    "from functools import partial\n",
    "from jax import numpy as jnp, random as jr\n",
    "import jax.numpy as jnp\n",
    "import jax_cosmo as jc\n",
    "\n",
    "from jaxpm.distributed import fft3d, ifft3d, normal_field\n",
    "from jaxpm.growth import (dGf2a, dGfa, growth_factor, growth_factor_second,\n",
    "                          growth_rate, growth_rate_second)\n",
    "from jaxpm.kernels import (PGD_kernel, fftk, gradient_kernel,\n",
    "                           invlaplace_kernel, longrange_kernel)\n",
    "from jaxpm.painting import cic_paint, cic_paint_dx, cic_read, cic_read_dx\n",
    "%matplotlib inline "
   ]
  },
  {
   "cell_type": "code",
   "execution_count": null,
   "metadata": {},
   "outputs": [],
   "source": []
  },
  {
   "cell_type": "code",
   "execution_count": 3,
   "metadata": {
    "scrolled": true
   },
   "outputs": [
    {
     "name": "stdout",
     "output_type": "stream",
     "text": [
      "Sat May 31 17:20:43 2025       \n",
      "+---------------------------------------------------------------------------------------+\n",
      "| NVIDIA-SMI 535.161.08             Driver Version: 535.161.08   CUDA Version: 12.2     |\n",
      "|-----------------------------------------+----------------------+----------------------+\n",
      "| GPU  Name                 Persistence-M | Bus-Id        Disp.A | Volatile Uncorr. ECC |\n",
      "| Fan  Temp   Perf          Pwr:Usage/Cap |         Memory-Usage | GPU-Util  Compute M. |\n",
      "|                                         |                      |               MIG M. |\n",
      "|=========================================+======================+======================|\n",
      "|   0  NVIDIA H100 NVL                On  | 00000000:19:00.0 Off |                    0 |\n",
      "| N/A   39C    P0              91W / 400W |  95011MiB / 95830MiB |      0%      Default |\n",
      "|                                         |                      |             Disabled |\n",
      "+-----------------------------------------+----------------------+----------------------+\n",
      "|   1  NVIDIA H100 NVL                On  | 00000000:1A:00.0 Off |                    0 |\n",
      "| N/A   34C    P0              56W / 400W |      0MiB / 95830MiB |      0%      Default |\n",
      "|                                         |                      |             Disabled |\n",
      "+-----------------------------------------+----------------------+----------------------+\n",
      "                                                                                         \n",
      "+---------------------------------------------------------------------------------------+\n",
      "| Processes:                                                                            |\n",
      "|  GPU   GI   CI        PID   Type   Process name                            GPU Memory |\n",
      "|        ID   ID                                                             Usage      |\n",
      "|=======================================================================================|\n",
      "|    0   N/A  N/A    196785      C   ...to/chto/anaconda/newenv4/bin/python    95002MiB |\n",
      "+---------------------------------------------------------------------------------------+\n"
     ]
    }
   ],
   "source": [
    "!nvidia-smi"
   ]
  },
  {
   "cell_type": "markdown",
   "metadata": {},
   "source": [
    "# Some necessary function"
   ]
  },
  {
   "cell_type": "code",
   "execution_count": 4,
   "metadata": {},
   "outputs": [],
   "source": [
    "def invlowbody(y, low=-jnp.inf, high=jnp.inf):\n",
    "    cdf_low, cdf_high = norm.cdf(low), norm.cdf(high)\n",
    "    cdf_x = (norm.cdf(y) - cdf_low) / (cdf_high - cdf_low)\n",
    "    return norm.ppf(cdf_x)\n",
    "\n",
    "def invhighbody(y, low=-jnp.inf, high=jnp.inf):\n",
    "    cdf_nlow, cdf_nhigh = norm.cdf(-low), norm.cdf(-high) # cdf(-x) = 1-cdf(x), more stable\n",
    "    cdf_nx = (cdf_nhigh - norm.cdf(-y)) / (cdf_nhigh - cdf_nlow)\n",
    "    return - norm.ppf(cdf_nx)\n",
    "\n",
    "def invbody(y, low=-jnp.inf, high=jnp.inf):\n",
    "    condlist = [y < 0.]\n",
    "    funclist = [invlowbody, invhighbody]\n",
    "    return jnp.piecewise(y, condlist, funclist, low=low, high=high)\n",
    "\n",
    "def invhightail(y, low=None, high=jnp.inf):\n",
    "    temp = 1/6.2842226/2 # best temperature at 12 sigma\n",
    "    energy, b = jnp.split(jnp.stack(jnp.broadcast_arrays(y, high, 1, -1), axis=0), 2)\n",
    "    return - temp * logsumexp( - energy / temp, axis=0, b=b)\n",
    "\n",
    "def invlowtail(y, low=-jnp.inf, high=None):\n",
    "    temp = 1/6.2842226/2 # best temperature at 12 sigma\n",
    "    energy, b = jnp.split(jnp.stack(jnp.broadcast_arrays(-y, -low, 1, -1), axis=0), 2)\n",
    "    return temp * logsumexp( - energy / temp, axis=0, b=b)\n",
    "\n",
    "def trunc2std(y, loc=0., scale=1., low=-jnp.inf, high=jnp.inf):\n",
    "    \"\"\"\n",
    "    Transport a general truncated normal variable to a standard normal variable.\n",
    "    \"\"\"\n",
    "    y, low, high = (y - loc) / scale, (low - loc) / scale, (high - loc) / scale\n",
    "    lim = 12 # switch to a more stable approx at 12 sigma, for float32\n",
    "    condlist = [(y < -lim) & (low < -lim), (lim < y) & (lim < high)]\n",
    "    funclist = [invlowtail, invhightail, invbody]\n",
    "    return jnp.piecewise(y, condlist, funclist, low=low, high=high)\n",
    "\n",
    "\n",
    "\n",
    "def lowtail(x, low=-jnp.inf, high=None):\n",
    "    temp = 1/6.2842226/2 # best temperature at 12 sigma\n",
    "    energy = - jnp.stack(jnp.broadcast_arrays(x, low), axis=0)\n",
    "    return temp * logsumexp( - energy / temp, axis=0)\n",
    "\n",
    "def hightail(x, low=None, high=jnp.inf):\n",
    "    temp = 1/6.2842226/2 # best temperature at 12 sigma\n",
    "    energy = jnp.stack(jnp.broadcast_arrays(x, high), axis=0)\n",
    "    return - temp * logsumexp( - energy / temp, axis=0)\n",
    "\n",
    "def lowbody(x, low=-jnp.inf, high=jnp.inf):\n",
    "    cdf_low, cdf_high = norm.cdf(low), norm.cdf(high)\n",
    "    cdf_y = cdf_low + (cdf_high - cdf_low) * norm.cdf(x)\n",
    "    return norm.ppf(cdf_y)\n",
    "\n",
    "def highbody(x, low=-jnp.inf, high=jnp.inf):\n",
    "    cdf_nlow, cdf_nhigh = norm.cdf(-low), norm.cdf(-high) # cdf(-x) = 1-cdf(x), more stable\n",
    "    cdf_ny = cdf_nhigh - (cdf_nhigh - cdf_nlow) * norm.cdf(-x)\n",
    "    return - norm.ppf(cdf_ny)\n",
    "\n",
    "def body(x, low=-jnp.inf, high=jnp.inf):\n",
    "    condlist = [x < 0.]\n",
    "    funclist = [lowbody, highbody]\n",
    "    return jnp.piecewise(x, condlist, funclist, low=low, high=high)\n",
    "def std2trunc(x, loc=0., scale=1., low=-jnp.inf, high=jnp.inf):\n",
    "    \"\"\"\n",
    "    Transport standard normal variable to a general truncated normal variable.\n",
    "    \"\"\"\n",
    "    if scale==0:\n",
    "        return loc * jnp.ones_like(x)\n",
    "    low, high = (low - loc) / scale, (high - loc) / scale\n",
    "    lim = 12 # switch to a more stable approx at 12 sigma, for float32\n",
    "    condlist = [(x < -lim) & (low < -lim), (lim < x) & (lim < high)]\n",
    "    funclist = [lowtail, hightail, body]\n",
    "    return loc + scale * jnp.piecewise(x, condlist, funclist, low=low, high=high)\n",
    "#############################\n",
    "# Fourier reparametrization #\n",
    "#############################\n",
    "def _rg2cgh(mesh, part=\"real\", norm=\"backward\"):\n",
    "    \"\"\"\n",
    "    Return the real and imaginary parts of a complex Gaussian Hermitian tensor\n",
    "    obtained by permuting and reweighting a real Gaussian tensor (3D).\n",
    "    Handle the Hermitian symmetry, specifically at border faces, edges, and vertices.\n",
    "    \"\"\"\n",
    "    shape = np.array(mesh.shape)\n",
    "    assert np.all(shape % 2 == 0), \"dimension lengths must be even.\"\n",
    "    \n",
    "    hx, hy, hz = shape // 2\n",
    "    meshk = jnp.zeros(r2chshape(shape))\n",
    "    if part == \"imag\":\n",
    "        slix, sliy, sliz = slice(hx + 1, None), slice(hy + 1, None), slice(hz + 1, None)\n",
    "    else:\n",
    "        assert part == \"real\", \"part must be either 'real' or 'imag'.\"\n",
    "        slix, sliy, sliz = slice(1, hx), slice(1, hy), slice(1, hz)\n",
    "    meshk = meshk.at[:, :, 1:-1].set(mesh[:, :, sliz])\n",
    "        \n",
    "    for k in [0, hz]:  # two faces\n",
    "        meshk = meshk.at[:, 1:hy, k].set(mesh[:, sliy, k])\n",
    "        meshk = meshk.at[1:, hy + 1:, k].set(mesh[1:, sliy, k][::-1, ::-1])\n",
    "        meshk = meshk.at[0, hy + 1:, k].set(mesh[0, sliy, k][::-1])  # handle the border\n",
    "        if part == \"imag\" and norm != \"amp\":\n",
    "            meshk = meshk.at[:, hy + 1:, k].multiply(-1.)\n",
    "\n",
    "        for j in [0, hy]:  # two edges per face\n",
    "            meshk = meshk.at[1:hx, j, k].set(mesh[slix, j, k])\n",
    "            meshk = meshk.at[hx + 1:, j, k].set(mesh[slix, j, k][::-1])\n",
    "            if part == \"imag\" and norm != \"amp\":\n",
    "                meshk = meshk.at[hx + 1:, j, k].multiply(-1.)\n",
    "\n",
    "            for i in [0, hx]:  # two points per edge\n",
    "                if part == \"real\":\n",
    "                    meshk = meshk.at[i, j, k].set(mesh[i, j, k])\n",
    "                    if norm != \"amp\":\n",
    "                        meshk = meshk.at[i, j, k].multiply(2**.5)\n",
    "\n",
    "    shape = shape.astype(float)\n",
    "    if norm == \"backward\":\n",
    "        meshk /= (2 / shape.prod())**.5\n",
    "    elif norm == \"forward\":\n",
    "        meshk /= (2 * shape.prod())**.5\n",
    "    elif norm == \"ortho\":\n",
    "        meshk /= 2**.5\n",
    "    else:\n",
    "        assert norm == \"amp\", \"norm must be either 'backward', 'forward', 'ortho', or 'amp'.\"\n",
    "\n",
    "    return meshk\n",
    "\n",
    "\n",
    "def _cgh2rg(meshk, part=\"real\", norm=\"backward\"):\n",
    "    \"\"\"\n",
    "    Return the \"real\" and \"imaginary\" partitions of a real Gaussian tensor (3D)\n",
    "    obtained by permuting and reweighting the real or imaginary parts of a \n",
    "    complex Gaussian Hermitian tensor.\n",
    "    Handle the Hermitian symmetry, specifically at border faces, edges, and vertices.\n",
    "    \"\"\"\n",
    "    shape = np.array(ch2rshape(meshk.shape))\n",
    "    assert np.all(shape % 2 == 0), \"dimension lengths must be even.\"\n",
    "\n",
    "    hx, hy, hz = shape // 2\n",
    "    mesh = jnp.zeros(shape)\n",
    "\n",
    "    if part == \"imag\":\n",
    "        slix, sliy, sliz = slice(hx + 1, None), slice(hy + 1, None), slice(hz + 1, None)\n",
    "    else:\n",
    "        assert part == \"real\", \"part must be either 'real' or 'imag'.\"\n",
    "        slix, sliy, sliz = slice(1, hx), slice(1, hy), slice(1, hz)\n",
    "    mesh = mesh.at[:, :, sliz].set(meshk[:, :, 1:-1])\n",
    "        \n",
    "    for k in [0, hz]:  # two faces\n",
    "        mesh = mesh.at[:, sliy, k].set(meshk[:, 1:hy, k])\n",
    "        mesh = mesh.at[1:, sliy, k].set(meshk[1:, hy + 1:, k][::-1, ::-1])\n",
    "        mesh = mesh.at[0, sliy, k].set(meshk[0, hy + 1:, k][::-1])  # handle the border\n",
    "        if part == \"imag\" and norm != \"amp\":\n",
    "            mesh = mesh.at[:, sliy, k].multiply(-1.)\n",
    "\n",
    "        for j in [0, hy]:  # two edges per face\n",
    "            mesh = mesh.at[slix, j, k].set(meshk[1:hx, j, k])\n",
    "            mesh = mesh.at[slix, j, k].set(meshk[hx + 1:, j, k][::-1])\n",
    "            if part == \"imag\" and norm != \"amp\":\n",
    "                mesh = mesh.at[slix, j, k].multiply(-1.)\n",
    "\n",
    "            for i in [0, hx]:  # two points per edge\n",
    "                if part == \"real\":\n",
    "                    mesh = mesh.at[i, j, k].set(meshk[i, j, k])\n",
    "                    if norm != \"amp\":\n",
    "                        mesh = mesh.at[i, j, k].divide(2**.5)\n",
    "\n",
    "    shape = shape.astype(float)\n",
    "    if norm == \"backward\":\n",
    "        mesh *= (2 / shape.prod())**.5\n",
    "    elif norm == \"forward\":\n",
    "        mesh *= (2 * shape.prod())**.5\n",
    "    elif norm == \"ortho\":\n",
    "        mesh *= 2**.5\n",
    "    else:\n",
    "        assert norm == \"amp\", \"norm must be either 'backward', 'forward', 'ortho', or 'amp'.\"\n",
    "\n",
    "    return mesh\n",
    "\n",
    "\n",
    "def rg2cgh(mesh, norm=\"backward\"):\n",
    "    \"\"\"\n",
    "    Permute and reweight a real Gaussian tensor (3D) into a complex Gaussian Hermitian tensor.\n",
    "    The output would therefore be distributed as the real Fourier transform of a Gaussian tensor.\n",
    "\n",
    "    This means that by setting `mean, amp = cgh2rg(meank, norm), cgh2rg(ampk, \"amp\")`\\\\\n",
    "    then `rg2cgh(mean + amp * N(0,I), norm)` is distributed as `meank + ampk * rfftn(N(0,I), norm)`\n",
    "\n",
    "    In particular `rg2cgh(N(0,I), norm)` is distributed as `rfftn(N(0,I), norm)`\n",
    "    \"\"\"\n",
    "    real = _rg2cgh(mesh, part=\"real\", norm=norm)\n",
    "    if norm == \"amp\":\n",
    "        return real\n",
    "    else:\n",
    "        imag = _rg2cgh(mesh, part=\"imag\", norm=norm)\n",
    "        return real + 1j * imag\n",
    "\n",
    "\n",
    "def cgh2rg(meshk, norm=\"backward\"):\n",
    "    \"\"\"\n",
    "    Permute and reweight a complex Gaussian Hermitian tensor into a real Gaussian tensor (3D).\n",
    "\n",
    "    This means that by setting `mean, amp = cgh2rg(meank, norm), cgh2rg(ampk, \"amp\")`\\\\\n",
    "    then `rg2cgh(mean + amp * N(0,I), norm)` is distributed as `meank + ampk * rfftn(N(0,I), norm)`\n",
    "\n",
    "    In particular `rg2cgh(N(0,I), norm)` is distributed as `rfftn(N(0,I), norm)`\n",
    "    \"\"\"\n",
    "    real = _cgh2rg(meshk.real, part=\"real\", norm=norm)\n",
    "    if norm == \"amp\":\n",
    "        # Give same amplitude to wavevector real and imaginary part\n",
    "        imag = _cgh2rg(meshk.real, part=\"imag\", norm=norm)\n",
    "    else:\n",
    "        imag = _cgh2rg(meshk.imag, part=\"imag\", norm=norm)\n",
    "    return real + imag\n",
    "\n",
    "\n",
    "def ch2rshape(kshape):\n",
    "    \"\"\"\n",
    "    Complex Hermitian shape to real shape.\n",
    "    \n",
    "    Assume last real shape is even to lift the ambiguity.\n",
    "    \"\"\"\n",
    "    return (*kshape[:2], 2*(kshape[2]-1))\n",
    "\n",
    "def r2chshape(shape):\n",
    "    \"\"\"\n",
    "    Real shape to complex Hermitian shape.\n",
    "    \"\"\"\n",
    "    return (*shape[:2], shape[2]//2+1)\n",
    "import jax\n",
    "import jax.numpy as jnp\n",
    "\n",
    "import jax\n",
    "import jax.numpy as jnp\n",
    "import jax.numpy as jnp\n",
    "\n",
    "def extract_rfftn_from_fftn_jax(full_fft):\n",
    "    \"\"\"\n",
    "    Extract the rfftn-compatible non-redundant part from a Hermitian-symmetric full FFT result.\n",
    "    \n",
    "    Parameters:\n",
    "    -----------\n",
    "    full_fft : jnp.ndarray\n",
    "        Complex-valued FFT output (e.g., from jnp.fft.fftn of real input).\n",
    "        Shape must be 3D and Hermitian-symmetric along the last axis.\n",
    "    \n",
    "    Returns:\n",
    "    --------\n",
    "    rfftn_data : jnp.ndarray\n",
    "        The reduced FFT array matching jnp.fft.rfftn output shape.\n",
    "    \"\"\"\n",
    "    N1, N2, N3 = full_fft.shape\n",
    "    return full_fft[:, :, :N3//2 + 1]\n",
    "def reconstruct_fftn_from_rfftn_jax(rfftn_data, original_shape):\n",
    "    \"\"\"\n",
    "    Vectorized reconstruction of full FFT from rfftn result in JAX (3D version).\n",
    "    \n",
    "    Parameters:\n",
    "    -----------\n",
    "    rfftn_data : jnp.ndarray\n",
    "        Output from jnp.fft.rfftn on real-valued input.\n",
    "    original_shape : tuple of ints\n",
    "        Shape of the original real input (must be 3D).\n",
    "    \n",
    "    Returns:\n",
    "    --------\n",
    "    full_fft : jnp.ndarray\n",
    "        Complex-valued array equivalent to jnp.fft.fftn(real_input).\n",
    "    \"\"\"\n",
    "    N1, N2, N3 = original_shape\n",
    "    full_fft = jnp.zeros((N1, N2, N3), dtype=rfftn_data.dtype)\n",
    "\n",
    "    # Copy non-redundant part\n",
    "    full_fft = full_fft.at[:, :, :N3//2 + 1].set(rfftn_data)\n",
    "\n",
    "    # Compute indices of the redundant part\n",
    "    i = jnp.arange(N1)\n",
    "    j = jnp.arange(N2)\n",
    "    k = jnp.arange(1, N3//2)  # skip k=0 and Nyquist\n",
    "\n",
    "    # Create 3D grids of indices for the input (non-redundant part)\n",
    "    ii, jj, kk = jnp.meshgrid(i, j, k, indexing='ij')  # shape (N1, N2, N3//2 - 1)\n",
    "\n",
    "    # Compute the target indices for Hermitian symmetry\n",
    "    ii_sym = (-ii) % N1\n",
    "    jj_sym = (-jj) % N2\n",
    "    kk_sym = (-kk) % N3\n",
    "\n",
    "    # Get values to assign (conjugates)\n",
    "    conj_vals = jnp.conj(rfftn_data[ii, jj, kk])\n",
    "\n",
    "    # Flatten the arrays for indexed assignment\n",
    "    full_fft = full_fft.at[\n",
    "        ii_sym.ravel(), jj_sym.ravel(), kk_sym.ravel()\n",
    "    ].set(conj_vals.ravel())\n",
    "\n",
    "    return full_fft\n",
    "\n",
    "\n",
    "def lpt_chto(cosmo,\n",
    "        initial_conditions,\n",
    "        particles=None,\n",
    "        a=0.1,\n",
    "        halo_size=0,\n",
    "        sharding=None,\n",
    "        order=1):\n",
    "    \"\"\"\n",
    "    Computes first and second order LPT displacement and momentum,\n",
    "    e.g. Eq. 2 and 3 [Jenkins2010](https://arxiv.org/pdf/0910.0258)\n",
    "    \"\"\"\n",
    "    paint_absolute_pos = particles is not None\n",
    "    if particles is None:\n",
    "        particles = jnp.zeros_like(initial_conditions,\n",
    "                                   shape=(*initial_conditions.shape, 3))\n",
    "    \n",
    "    a = jnp.atleast_1d(a)\n",
    "    E = jnp.sqrt(jc.background.Esqr(cosmo, a))\n",
    "    delta_k = fft3d(initial_conditions)\n",
    "    initial_force = pm_forces(particles,\n",
    "                              delta=delta_k,\n",
    "                              paint_absolute_pos=paint_absolute_pos,\n",
    "                              halo_size=halo_size,\n",
    "                              sharding=sharding)\n",
    "\n",
    "    gf, cosmo = growth_factor(cosmo, a) \n",
    "    #jax.debug.print(\"gf{x}\", x=gf)\n",
    "    gr, cosmo = growth_rate(cosmo, a)\n",
    "    dx= gf* initial_force\n",
    "    p = a**2 *gr  * E * dx\n",
    "    f = a**2 * E * dGfa(cosmo, a) * initial_force\n",
    "\n",
    "    return dx, p, f"
   ]
  },
  {
   "cell_type": "code",
   "execution_count": 5,
   "metadata": {
    "colab": {
     "base_uri": "https://localhost:8080/"
    },
    "id": "SsAE47_OuNzC",
    "outputId": "cb57b8f0-cb1d-48cb-bea4-495a6be6b119"
   },
   "outputs": [],
   "source": [
    "def build_model(\n",
    "    linear_field,\n",
    "    dens_model,\n",
    "    cubegrid_size,\n",
    "    cube_size,\n",
    "):\n",
    "    @jax.jit\n",
    "    def model(cosmo, field):\n",
    "        #cosmoparam = cosmoparaminit[0]\n",
    "        #init = cosmoparaminit[1]\n",
    "        cosmoparam = cosmo\n",
    "        Omega_c, sigma8 = cosmoparam \n",
    "        model_cosmo = jc.Cosmology(\n",
    "            Omega_c=Omega_c,\n",
    "            sigma8=sigma8,\n",
    "            Omega_b=0.0492,\n",
    "            Omega_k=0.0,\n",
    "            h=0.67,\n",
    "            n_s=0.96,\n",
    "            w0=-1.0,\n",
    "            wa=0.0,\n",
    "        )\n",
    "        Workspace = namedtuple('_workspace', ['background_radial_comoving_distance', 'background_growth_factor'])\n",
    "        model_cosmo._workspace =Workspace(None, None)\n",
    "        ain=jnp.atleast_1d(1)\n",
    "        _,model_cosmo = growth_rate(model_cosmo, ain)\n",
    "        _,model_cosmo =  growth_rate_second(model_cosmo,ain)\n",
    "        _,model_cosmo= growth_factor(model_cosmo, ain)\n",
    "        _, model_cosmo= jc.background.radial_comoving_distance(model_cosmo, ain)\n",
    "    \n",
    "        # Generate linear field\n",
    "        def pk_fn(x):\n",
    "            # Create a small function to generate the matter power spectrum\n",
    "            k = jnp.logspace(-4, 1, 128)\n",
    "            pk = jc.power.linear_matter_power(model_cosmo, k)\n",
    "            return jc.scipy.interpolate.interp(x.reshape([-1]), k, pk).reshape(x.shape)\n",
    "        mesh_shape = [cubegrid_size, cubegrid_size, cubegrid_size]\n",
    "\n",
    "        lin_field = linear_field(\n",
    "            [cubegrid_size, cubegrid_size, cubegrid_size],\n",
    "            [cube_size, cube_size, cube_size],\n",
    "            pk_fn, fieldin=field\n",
    "        )\n",
    "    \n",
    "        # Evolve the density field\n",
    "        dens = dens_model(model_cosmo, lin_field)\n",
    "    \n",
    "        return dens\n",
    "    return model\n",
    "def deconv_paint(mesh, order=2):\n",
    "    \"\"\"\n",
    "    Deconvolve the mesh by the paint kernel of given order.\n",
    "    \"\"\"\n",
    "    if jnp.isrealobj(mesh):\n",
    "        kvec = rfftk(mesh.shape)\n",
    "        mesh = jnp.fft.rfftn(mesh)\n",
    "        mesh /= paint_kernel(kvec, order)\n",
    "        mesh = jnp.fft.irfftn(mesh)\n",
    "    else:\n",
    "        kvec = rfftk(ch2rshape(mesh.shape))\n",
    "        mesh /= paint_kernel(kvec, order)\n",
    "    return mesh\n",
    "def full_field_model_pm(\n",
    "    cube_size,\n",
    "    cubegrid_size,\n",
    "    a_init,\n",
    "    a_center,\n",
    "    a_final, \n",
    "    dt\n",
    "):\n",
    "    @jax.jit\n",
    "    def forward_model(cosmo, lin_field):\n",
    "        # Create particles\n",
    "        particles = jnp.stack(\n",
    "            jnp.meshgrid(\n",
    "                *[jnp.arange(s) for s in [cubegrid_size, cubegrid_size, cubegrid_size]]\n",
    "            ),\n",
    "            axis=-1,\n",
    "        ).reshape([-1, 3])\n",
    "        \n",
    "        mesh_shape = [cubegrid_size, cubegrid_size, cubegrid_size]\n",
    "        conf = Configuration(mesh_shape=mesh_shape, \n",
    "                     snapshots= a_center[::-1],\n",
    "                     BoxSize=cube_size, \n",
    "                     initial_t0=a_init,\n",
    "                     final_time =a_final,\n",
    "                     density_plane_npix = 10,\n",
    "                     dt0=dt)\n",
    "\n",
    "\n",
    "        def paint_density(t, y, args):\n",
    "            # Load positions and apply boundary conditions\n",
    "            pos = y[0]\n",
    "            #print(y.shape)\n",
    "            x = pos[..., 0]\n",
    "            y = pos[..., 1]\n",
    "            z = pos[..., 2]\n",
    "\n",
    "            # Paint all the particles that fall into slice\n",
    "            ss=args[3].mesh_shape\n",
    "            density = cic_paint(jnp.zeros(ss),jnp.c_[x, y, z])\n",
    "            #density = deconv_paint(density, order=2)\n",
    "            #delta_k = fft3d(density)\n",
    "            return density-1#delta_k\n",
    "        \n",
    "    \n",
    "\n",
    "        #eps, p, f = lpt(cosmo, lin_field, particles, a=conf.initial_t0)\n",
    "        #\n",
    "        #term = tree.map(\n",
    "        #    FPMODE,\n",
    "        #    symplectic_ode(conf.mesh_shape, paint_absolute_pos=True)\n",
    "        #)\n",
    "        #initforce = pm_forces(\n",
    "        #    particles + eps,\n",
    "        #    mesh_shape=mesh_shape,\n",
    "        #    paint_absolute_pos=True,\n",
    "        #)* 1.5* cosmo.Omega_m  \n",
    "        #solver = FPMLeapFrog(initial_t0=conf.initial_t0, final_t1=conf.final_time)\n",
    "        #saveat = SaveAt(ts=a_center[::-1], fn=paint_density)\n",
    "        #\n",
    "        #stepsize_controller = ConstantStepSize()\n",
    "        #solution = diffeqsolve(\n",
    "        #    term,\n",
    "        #    solver,\n",
    "        #    t0=conf.initial_t0,\n",
    "        #    t1=conf.final_time,\n",
    "        #    dt0=conf.dt0,\n",
    "        #    y0=jnp.stack([particles + eps, p, initforce], axis=0),\n",
    "        #    args=[cosmo, None, conf.initial_t0, conf, 0, 0],\n",
    "        #    saveat=saveat,\n",
    "        #    adjoint=diffrax.ReversibleAdjoint(),\n",
    "        #    #max_steps=32,\n",
    "        #    stepsize_controller=stepsize_controller,\n",
    "        #)        \n",
    "        #return solution.ys[-1,:,:,:] # Just returning the last snapshot\n",
    "        eps, p, f = lpt_chto(cosmo, lin_field, particles, a=1.0)\n",
    "        #jax.debug.print(\"{x}\", x=(eps+particles).shape)\n",
    "        return paint_density(None, [(eps+particles)%cubegrid_size],[None, None, None, conf])\n",
    "        #return lin_field\n",
    "    return forward_model\n"
   ]
  },
  {
   "cell_type": "code",
   "execution_count": 6,
   "metadata": {},
   "outputs": [],
   "source": [
    "omegamdict = {\n",
    "'loc':0.26,\n",
    " 'scale':0.5,\n",
    " 'scale_fid':0.02,\n",
    " 'low': 0.05, # XXX: Omega_m < Omega_b implies nan\n",
    " 'high': 1.}\n",
    "sigma8dict = {\n",
    "    'loc':0.83,\n",
    "    'scale':0.5,\n",
    "    'scale_fid':0.02,\n",
    "    'low': 0.,\n",
    "    'high':jnp.inf\n",
    "}\n",
    "from jax.scipy.stats import norm\n",
    "def cosmo2base(cosmo, inv=False):\n",
    "    cosmoreturn = copy.deepcopy(cosmo)\n",
    "    if not inv:\n",
    "        push_cosmo_omegam = std2trunc(cosmo['cosmo'][0], omegamdict['loc'], omegamdict['scale_fid'], omegamdict['low'], omegamdict['high'])\n",
    "        push_cosmo_sigma8 = std2trunc(cosmo['cosmo'][1], sigma8dict['loc'], sigma8dict['scale_fid'], sigma8dict['low'], sigma8dict['high'])\n",
    "        cosmoreturn['cosmo']=jnp.array([push_cosmo_omegam,push_cosmo_sigma8])\n",
    "    else:\n",
    "        push_cosmo_omegam = trunc2std(cosmo['cosmo'][0], omegamdict['loc'], omegamdict['scale_fid'], omegamdict['low'], omegamdict['high'])\n",
    "        push_cosmo_sigma8 = trunc2std(cosmo['cosmo'][1], sigma8dict['loc'], sigma8dict['scale_fid'], sigma8dict['low'], sigma8dict['high'])\n",
    "        cosmoreturn['cosmo']=jnp.array([push_cosmo_omegam,push_cosmo_sigma8])\n",
    "    return cosmoreturn\n",
    "os.environ[\"XLA_PYTHON_CLIENT_MEM_FRACTION\"] = \".99\"\n",
    "os.environ[\"XLA_PYTHON_CLIENT_PREALLOCATE\"] = \"true\"\n",
    "jax.config.update(\"jax_enable_x64\",True)\n",
    "\n",
    "\n",
    "def linear_field_pm(mesh_shape, box_size, pk, fieldin=None):\n",
    "    \"\"\"\n",
    "    Generate initial conditions.\n",
    "    \"\"\"\n",
    "    # Initialize a random field with one slice on each gpu\n",
    "    #field = normal_field(mesh_shape, seed=seed, sharding=sharding)]\n",
    "\n",
    "\n",
    "    mesh = rg2cgh(fieldin)\n",
    "    field = reconstruct_fftn_from_rfftn_jax(mesh, fieldin.shape)\n",
    "    #field = fft3d(fieldin)\n",
    "    \n",
    "    #jax.debug.print(\"{x}, {y}\", x=field[0,0,0], y=mesh[0,0,0])\n",
    "    #field = fft3d(fieldin)\n",
    "\n",
    "    \n",
    "    kvec = fftk(field)\n",
    "    kmesh = sum((kk / box_size[i] * mesh_shape[i])**2\n",
    "                for i, kk in enumerate(kvec))**0.5\n",
    "    pkmesh = pk(kmesh) * (mesh_shape[0] * mesh_shape[1] * mesh_shape[2]) / (\n",
    "        box_size[0] * box_size[1] * box_size[2])\n",
    "\n",
    "    field = field * (pkmesh)**0.5\n",
    "    field = ifft3d(field)\n",
    "    return field"
   ]
  },
  {
   "cell_type": "markdown",
   "metadata": {},
   "source": [
    "# Define cosmology parameters"
   ]
  },
  {
   "cell_type": "code",
   "execution_count": 7,
   "metadata": {},
   "outputs": [],
   "source": [
    "model_cosmo = jc.Cosmology(\n",
    "            Omega_c=0.26,\n",
    "            sigma8=0.83,\n",
    "            Omega_b=0.0492,\n",
    "            Omega_k=0.0,\n",
    "            h=0.67,\n",
    "            n_s=0.96,\n",
    "            w0=-1.0,\n",
    "            wa=0.0,\n",
    "        )\n",
    "def pk_fn(x):\n",
    "    # Create a small function to generate the matter power spectrum\n",
    "    k = jnp.logspace(-4, 1, 128)\n",
    "    pk = jc.power.linear_matter_power(model_cosmo, k)\n",
    "    return jc.scipy.interpolate.interp(x.reshape([-1]), k, pk).reshape(x.shape)"
   ]
  },
  {
   "cell_type": "markdown",
   "metadata": {},
   "source": [
    "# Declare forward model"
   ]
  },
  {
   "cell_type": "code",
   "execution_count": 8,
   "metadata": {},
   "outputs": [],
   "source": [
    "#####################################################################################################################\n",
    "key_number = 1\n",
    "# Set output directory\n",
    "dir_out = \"./\"\n",
    "Path(dir_out).mkdir(parents=True, exist_ok=True)\n",
    "# Sim configuration\n",
    "cube_size = 256. # Mpc/h\n",
    "cubegrid_size =64  # npix\n",
    "a_init = 0.05 #t0\n",
    "a_final = 1 #t1\n",
    "dt = 0.05 #dt\n",
    "# Initialize the density model\n",
    "dens_model = full_field_model_pm(\n",
    "    cube_size=cube_size,\n",
    "    cubegrid_size=cubegrid_size,\n",
    "    a_init = a_init,\n",
    "    a_center=jnp.linspace(a_init,1,41)[::-1], \n",
    "    a_final =a_final,\n",
    "    dt = dt\n",
    ")\n",
    "# Partially fix the forward model\n",
    "model_fn = build_model(\n",
    "    linear_field=linear_field_pm,\n",
    "    dens_model=dens_model,\n",
    "    cubegrid_size=cubegrid_size,\n",
    "    cube_size=cube_size,\n",
    ")\n",
    "model = lambda x: model_fn(**x)"
   ]
  },
  {
   "cell_type": "code",
   "execution_count": 9,
   "metadata": {},
   "outputs": [],
   "source": [
    "cosmoparaminit_true = {'cosmo':jnp.array([0.26,0.83]), 'field':normal_field([cubegrid_size,cubegrid_size,cubegrid_size], seed=jax.random.PRNGKey(0), sharding=None)}\n",
    "box_size = [cube_size, cube_size, cube_size]\n",
    "#kvec = rfftk(cosmoparaminit_true['field'].shape)\n",
    "#kmesh2 = sum(kk**2 for kk in kvec)**0.5 /cube_size*cubegrid_size # in Mpc/h\n",
    "box_size=[cube_size, cube_size, cube_size]\n",
    "mesh_shape=[cubegrid_size, cubegrid_size, cubegrid_size]\n",
    "mesh = rg2cgh(cosmoparaminit_true['field'])\n",
    "mesh = reconstruct_fftn_from_rfftn_jax(mesh, cosmoparaminit_true['field'].shape)\n",
    "#field = reconstruct_fftn_from_rfftn_jax(mesh, cosmoparaminit_true['field'].shape)\n",
    "kvec = fftk(mesh)\n",
    "kmesh = sum((kk / box_size[i] * mesh_shape[i])**2\n",
    "                for i, kk in enumerate(kvec))**0.5\n",
    "pkmesh =pk_fn(kmesh) * ( cubegrid_size* cubegrid_size * cubegrid_size) / (\n",
    "        cube_size**3)*growth_factor(model_cosmo, 1.0)[0]**2\n",
    "gf, cosmo = growth_factor(model_cosmo, 1.) \n",
    "gr, _ = growth_rate(model_cosmo, 1.)"
   ]
  },
  {
   "cell_type": "code",
   "execution_count": 11,
   "metadata": {},
   "outputs": [],
   "source": [
    "fieldin=cosmoparaminit_true['field']\n",
    "mesh = rg2cgh(fieldin)\n",
    "field2 = reconstruct_fftn_from_rfftn_jax(mesh, fieldin.shape)\n",
    "#field = fft3d(fieldin)\n",
    "\n",
    "#jax.debug.print(\"{x}, {y}\", x=field[0,0,0], y=mesh[0,0,0])\n",
    "#field = fft3d(fieldin)\n",
    "\n",
    "kvec = fftk(field2)\n",
    "kmesh = sum((kk / box_size[i] * mesh_shape[i])**2\n",
    "            for i, kk in enumerate(kvec))**0.5\n",
    "pkmesh = pk_fn(kmesh) * (mesh_shape[0] * mesh_shape[1] * mesh_shape[2]) / (\n",
    "    box_size[0] * box_size[1] * box_size[2])\n",
    "field1 = field2 * (pkmesh)**0.5\n",
    "field_test = ifft3d(field1)"
   ]
  },
  {
   "cell_type": "code",
   "execution_count": 13,
   "metadata": {},
   "outputs": [],
   "source": [
    "lin_field = linear_field_pm(\n",
    "    [cubegrid_size, cubegrid_size, cubegrid_size],\n",
    "    [cube_size, cube_size, cube_size],\n",
    "    pk_fn, fieldin=cosmoparaminit_true['field']\n",
    ")"
   ]
  },
  {
   "cell_type": "markdown",
   "metadata": {},
   "source": [
    "# Get observation"
   ]
  },
  {
   "cell_type": "code",
   "execution_count": 20,
   "metadata": {},
   "outputs": [],
   "source": [
    "obs = model(jax.lax.stop_gradient(cosmoparaminit_true))+1./np.sqrt(0.25)*jax.random.normal(jax.random.PRNGKey(0),[cubegrid_size,cubegrid_size,cubegrid_size])\n",
    "#obs = cgh2rg(extract_rfftn_from_fftn_jax(fft3d(obs)))+jax.random.normal(jax.random.PRNGKey(0),[cubegrid_size,cubegrid_size,cubegrid_size])\n",
    "#obs = ifft3d(((reconstruct_fftn_from_rfftn_jax(rg2cgh(obs), [cubegrid_size,cubegrid_size,cubegrid_size]))))"
   ]
  },
  {
   "cell_type": "code",
   "execution_count": 18,
   "metadata": {},
   "outputs": [],
   "source": [
    "def get_delta(pos_in):\n",
    "    delta = np.zeros((cubegrid_size,cubegrid_size,cubegrid_size), dtype=np.float32)\n",
    "    # construct 3D density field\n",
    "    MASL.MA(pos_in, delta, cube_size, MAS, verbose=verbose)\n",
    "    #delta *= Masses[1]\n",
    "    \n",
    "    # now check that the mass in the density field is equal to the total mass in the simulation\n",
    "    #print('%.3e should be equal to\\n%.3e'%(np.sum(delta, dtype=np.float64), pos.shape[0]*Masses[1]))\n",
    "    # at this point, delta contains the effective number of particles in each voxel\n",
    "    # now compute overdensity and density constrast\n",
    "    delta /= np.mean(delta, dtype=np.float64);  delta -= 1.0\n",
    "    return delta"
   ]
  },
  {
   "cell_type": "code",
   "execution_count": 19,
   "metadata": {},
   "outputs": [],
   "source": [
    "#import MAS_library as MASL\n",
    "#delta = get_delta(np.array((obs/cubegrid_size*cube_size)%(cube_size), dtype=np.float32))"
   ]
  },
  {
   "cell_type": "code",
   "execution_count": 20,
   "metadata": {},
   "outputs": [
    {
     "data": {
      "text/plain": [
       "<matplotlib.image.AxesImage at 0x7fb256c25150>"
      ]
     },
     "execution_count": 20,
     "metadata": {},
     "output_type": "execute_result"
    },
    {
     "data": {
      "image/png": "[encoded data removed]",
      "text/plain": [
       "<Figure size 640x480 with 1 Axes>"
      ]
     },
     "metadata": {},
     "output_type": "display_data"
    }
   ],
   "source": [
    "plt.imshow(obs[0])"
   ]
  },
  {
   "cell_type": "markdown",
   "metadata": {},
   "source": [
    "# Define likelihood"
   ]
  },
  {
   "cell_type": "code",
   "execution_count": 17,
   "metadata": {},
   "outputs": [],
   "source": [
    "import jax.scipy.stats as stats\n",
    "def mesh2base(mesh, inv=False):\n",
    "    A = 1./0.25\n",
    "    meshreturn = copy.deepcopy(mesh)\n",
    "    sigma = 1/(gf**2/A+1./(pkmesh))**0.5 /jnp.sqrt(pkmesh)\n",
    "    mu = fft3d(copy.deepcopy(obs))*sigma**2*gf*jnp.sqrt(pkmesh)/A\n",
    "    #cgh2rg(extract_rfftn_from_fftn_jax((fft3d(field)/np.sqrt(pkmesh))))\n",
    "    #\n",
    "    #mu =  cgh2rg(extract_rfftn_from_fftn_jax((fft3d(obs)/np.sqrt(pkmesh))))#*sigma**2*jnp.sqrt(pkmesh)*100\n",
    "    if not inv:\n",
    "        meshreturn['field'] = cgh2rg(extract_rfftn_from_fftn_jax(fft3d(mesh['field'])*sigma+mu))\n",
    "    else:\n",
    "        meshreturn['field'] = ifft3d(((reconstruct_fftn_from_rfftn_jax(rg2cgh(mesh['field']), mesh['field'].shape))-mu)/sigma)\n",
    "    return meshreturn    \n",
    "@jax.jit\n",
    "def lnlike(cosmoparam):\n",
    "    cosmoparamnew = cosmo2base(copy.deepcopy(cosmoparam))\n",
    "    cosmoparamnew = mesh2base(cosmoparamnew)\n",
    "    pred= model(cosmoparamnew)\n",
    "    ngal=0.25#cgh2rg(extract_rfftn_from_fftn_jax(fft3d(obs)))\n",
    "    #jax.debug.print(\"{x}\", x=jnp.sum(stats.norm.logpdf(obs, pred, 1./np.sqrt(ngal)*jnp.ones_like((pred)))))\n",
    "    return jnp.sum(stats.norm.logpdf(obs, pred, 1./np.sqrt(ngal)*jnp.ones_like((pred))))+jnp.sum(stats.norm.logpdf(cosmoparamnew['field'],jnp.zeros_like(cosmoparam['field']), jnp.ones_like(cosmoparamnew['field'])))+jnp.sum(stats.norm.logpdf(cosmoparamnew['cosmo'], jnp.array([0.26,0.83]), jnp.array([0.2,1.0])))\n",
    "@jax.jit\n",
    "def lnlike_fixedcosmo(cosmoparam):\n",
    "    cosmoparamnew = copy.deepcopy(cosmoparaminit_true_new)\n",
    "    cosmoparamnew = cosmo2base(cosmoparamnew)\n",
    "    cosmoparamnew['field'] = cosmoparam['field']\n",
    "    cosmoparamnew = mesh2base(cosmoparamnew)\n",
    "    pred= model(cosmoparamnew)\n",
    "    ngal=0.25\n",
    "    return jnp.sum(stats.norm.logpdf(obs,pred, 1./np.sqrt(ngal)*jnp.ones_like((pred))))+jnp.sum(stats.norm.logpdf(cosmoparamnew['field'],jnp.zeros_like(cosmoparam['field']), jnp.ones_like(cosmoparamnew['field'])))+jnp.sum(stats.norm.logpdf(cosmoparamnew['cosmo'], jnp.array([0.26,0.83]), jnp.array([0.2,1.0])))\n"
   ]
  },
  {
   "cell_type": "code",
   "execution_count": 33,
   "metadata": {},
   "outputs": [],
   "source": [
    "from jax_tqdm import scan_tqdm\n",
    "import jax\n",
    "import jax.numpy as jnp\n",
    "import jax.scipy.stats as stats\n",
    "from blackjax.mcmc.hmc import HMCState\n",
    "import blackjax\n",
    "import numpy as np\n",
    "import matplotlib.pyplot as plt\n",
    "from jax import lax\n"
   ]
  },
  {
   "cell_type": "code",
   "execution_count": 24,
   "metadata": {},
   "outputs": [],
   "source": [
    "from blackjax.adaptation.mclmc_adaptation import MCLMCAdaptationState\n",
    "def get_mclmc_warmup(logdf, n_steps=None, config=None,\n",
    "              desired_energy_var=5e-4, diagonal_preconditioning=False, stepsize=None,Length=None):\n",
    "    return partial(mclmc_warmup,\n",
    "                   logdf=logdf,\n",
    "                   n_steps=n_steps,\n",
    "                   config=config,\n",
    "                   desired_energy_var=desired_energy_var,\n",
    "                   diagonal_preconditioning=diagonal_preconditioning)#, stepsize=stepsize, Length=Length)\n",
    "def mclmc_warmup(rng, init_pos, logdf, n_steps=0, config=None,\n",
    "              desired_energy_var=5e-4, diagonal_preconditioning=False):\n",
    "    init_key, tune_key = jr.split(rng, 2)\n",
    "\n",
    "    # Create an initial state for the sampler\n",
    "    state = blackjax.mcmc.mclmc.init(\n",
    "        position=init_pos, logdensity_fn=logdf, rng_key=init_key\n",
    "    )\n",
    "\n",
    "    if config is None:\n",
    "        n_dim = len(ravel_pytree(state.position)[0])\n",
    "        config = MCLMCAdaptationState(\n",
    "            n_dim**.5, n_dim**.5 / 4, inverse_mass_matrix=jnp.ones(n_dim))\n",
    "\n",
    "    elif isinstance(config, dict):\n",
    "        L = config['L']\n",
    "        step_size = config['step_size']\n",
    "        inverse_mass_matrix = config.get('inverse_mass_matrix', 1.0)\n",
    "        config = MCLMCAdaptationState(L=L, step_size=step_size, inverse_mass_matrix=inverse_mass_matrix)\n",
    "\n",
    "    else:\n",
    "        assert isinstance(config, MCLMCAdaptationState), \\\n",
    "        \"config must be either None, a dict, or a MCLMCAdaptationState\"\n",
    "\n",
    "    if n_steps > 0:\n",
    "        # Build the kernel\n",
    "        kernel = lambda inverse_mass_matrix : blackjax.mcmc.mclmc.build_kernel(\n",
    "            logdensity_fn=logdf,\n",
    "            integrator=isokinetic_mclachlan,\n",
    "            inverse_mass_matrix=inverse_mass_matrix,\n",
    "        )\n",
    "\n",
    "        # Find values for L and step_size\n",
    "        frac_tune1 = 0.5\n",
    "        frac_tune2 = 0.5\n",
    "        frac_tune3 = 0.\n",
    "        # NOTE: can't afford to save every samples to estimate effective sample size, so adapt L afterwards\n",
    "        num_steps = round(n_steps / (frac_tune1 + frac_tune2 * (1 + diagonal_preconditioning / 3) + frac_tune3))\n",
    "        # NOTE: num_steps to pass to mclmc_find_L_and_step_size to actually perform n_steps adaptation steps\n",
    "\n",
    "        state, config, n_steps_tot = blackjax.mclmc_find_L_and_step_size(\n",
    "            mclmc_kernel=kernel,\n",
    "            num_steps=num_steps,\n",
    "            state=state,\n",
    "            rng_key=tune_key,\n",
    "            desired_energy_var=desired_energy_var,\n",
    "            diagonal_preconditioning=diagonal_preconditioning,\n",
    "            frac_tune1=frac_tune1,\n",
    "            frac_tune2=frac_tune2,\n",
    "            frac_tune3=frac_tune3,\n",
    "            num_effective_samples=256, # NOTE: higher value implies slower averaging rate\n",
    "            # TODO: add config as first guess (next blackjax update)\n",
    "            )\n",
    "        jax.debug.print(\"Performed {n_steps_tot} adaptation steps\", n_steps_tot=n_steps_tot)\n",
    "\n",
    "    return state, config"
   ]
  },
  {
   "cell_type": "code",
   "execution_count": null,
   "metadata": {},
   "outputs": [],
   "source": [
    "cosmoparaminit_true_new = copy.deepcopy(cosmoparaminit_true)\n",
    "cosmoparaminit_true_new = cosmo2base(cosmoparaminit_true_new, inv=True)\n",
    "cosmoparaminit_true_new = mesh2base(cosmoparaminit_true_new, inv=True)"
   ]
  },
  {
   "cell_type": "code",
   "execution_count": 32,
   "metadata": {},
   "outputs": [],
   "source": [
    "test_param = copy.deepcopy(cosmoparaminit_true)\n",
    "test_param = cosmo2base(test_param, inv=True)\n",
    "#test_param = mesh2base(cosmoparaminit_true, inv=True)\n",
    "test_param['field'] = jnp.zeros_like(mesh2base(test_param, inv=True)['field'])\n"
   ]
  },
  {
   "cell_type": "code",
   "execution_count": 33,
   "metadata": {},
   "outputs": [],
   "source": [
    "@jax.jit\n",
    "def lnlike_fixedcosmo_test(cosmoparam):\n",
    "    cosmoparamnew = copy.deepcopy(cosmoparaminit_true_new)\n",
    "    cosmoparamnew = cosmo2base(cosmoparamnew)\n",
    "    cosmoparamnew['field'] = cosmoparam['field']\n",
    "    cosmoparamnew = mesh2base(cosmoparamnew)\n",
    "    pred= model(cosmoparamnew)\n",
    "    ngal=0.25\n",
    "    like = jnp.sum(stats.norm.logpdf(obs,pred, 1./np.sqrt(ngal)*jnp.ones_like((pred))))+jnp.sum(stats.norm.logpdf(cosmoparamnew['field'],jnp.zeros_like(cosmoparam['field']), jnp.ones_like(cosmoparamnew['field'])))+jnp.sum(stats.norm.logpdf(cosmoparamnew['cosmo'], jnp.array([0.26,0.83]), jnp.array([0.2,1.0])))\n",
    "\n",
    "    #jax.debug.print(\"{x}, {y}\", x=cosmoparamnew['cosmo'], y=like)\n",
    "    return like"
   ]
  },
  {
   "cell_type": "markdown",
   "metadata": {},
   "source": [
    "# First iteration"
   ]
  },
  {
   "cell_type": "code",
   "execution_count": 69,
   "metadata": {},
   "outputs": [
    {
     "name": "stdout",
     "output_type": "stream",
     "text": [
      "Performed 16384.0 adaptation steps\n"
     ]
    }
   ],
   "source": [
    "from jax import numpy as jnp, random as jr\n",
    "from jax.flatten_util import ravel_pytree\n",
    "from blackjax.mcmc.integrators import isokinetic_mclachlan, isokinetic_velocity_verlet, isokinetic_yoshida, isokinetic_omelyan\n",
    "from functools import partial\n",
    "\n",
    "warmup_fn = get_mclmc_warmup(lnlike_fixedcosmo_test, n_steps=8192*2, config=None, \n",
    "                            desired_energy_var=1e-6, diagonal_preconditioning=False)\n",
    "state1, config1 = warmup_fn(jr.key(43),test_param)\n"
   ]
  },
  {
   "cell_type": "code",
   "execution_count": 70,
   "metadata": {},
   "outputs": [],
   "source": [
    "test_param = copy.deepcopy(state1.position)\n",
    "test_param['cosmo']=cosmoparaminit_true_new['cosmo']#jnp.array([0.0,0.0])\n",
    "test_param = cosmo2base(test_param)\n",
    "test_param = mesh2base(test_param)\n",
    "#test_param['field'] = cgh2rg(extract_rfftn_from_fftn_jax((fft3d(obs)/np.sqrt(pkmesh))))#\n",
    "test = model(jax.lax.stop_gradient(test_param))#+jax.random.normal(jax.random.PRNGKey(0),[cubegrid_size,cubegrid_size,cubegrid_size])"
   ]
  },
  {
   "cell_type": "code",
   "execution_count": 71,
   "metadata": {},
   "outputs": [
    {
     "data": {
      "text/plain": [
       "<matplotlib.image.AxesImage at 0x7efded6f3c70>"
      ]
     },
     "execution_count": 71,
     "metadata": {},
     "output_type": "execute_result"
    },
    {
     "data": {
      "image/png": "[encoded data removed]",
      "text/plain": [
       "<Figure size 640x480 with 1 Axes>"
      ]
     },
     "metadata": {},
     "output_type": "display_data"
    }
   ],
   "source": [
    "plt.imshow(test[0], vmax=8)"
   ]
  },
  {
   "cell_type": "code",
   "execution_count": 72,
   "metadata": {},
   "outputs": [
    {
     "data": {
      "text/plain": [
       "<matplotlib.image.AxesImage at 0x7efdee731b10>"
      ]
     },
     "execution_count": 72,
     "metadata": {},
     "output_type": "execute_result"
    },
    {
     "data": {
      "image/png": "[encoded data removed]",
      "text/plain": [
       "<Figure size 640x480 with 1 Axes>"
      ]
     },
     "metadata": {},
     "output_type": "display_data"
    }
   ],
   "source": [
    "plt.imshow(obs[0], vmax=8)"
   ]
  },
  {
   "cell_type": "code",
   "execution_count": 73,
   "metadata": {},
   "outputs": [],
   "source": [
    "from jaxpm.utils import pktranscoh\n",
    "ks, pk0, pk1, t1,t2= pktranscoh(test, obs, box_shape=[cube_size, cube_size, cube_size])"
   ]
  },
  {
   "cell_type": "code",
   "execution_count": 74,
   "metadata": {},
   "outputs": [
    {
     "data": {
      "text/plain": [
       "[<matplotlib.lines.Line2D at 0x7efdee952620>]"
      ]
     },
     "execution_count": 74,
     "metadata": {},
     "output_type": "execute_result"
    },
    {
     "data": {
      "image/png": "[encoded data removed]",
      "text/plain": [
       "<Figure size 640x480 with 1 Axes>"
      ]
     },
     "metadata": {},
     "output_type": "display_data"
    }
   ],
   "source": [
    "plt.semilogx(ks, t1, label=\"test\")\n"
   ]
  },
  {
   "cell_type": "code",
   "execution_count": 75,
   "metadata": {},
   "outputs": [
    {
     "data": {
      "text/plain": [
       "<matplotlib.legend.Legend at 0x7efded65ffa0>"
      ]
     },
     "execution_count": 75,
     "metadata": {},
     "output_type": "execute_result"
    },
    {
     "data": {
      "image/png": "[encoded data removed]",
      "text/plain": [
       "<Figure size 640x480 with 1 Axes>"
      ]
     },
     "metadata": {},
     "output_type": "display_data"
    }
   ],
   "source": [
    "plt.loglog(ks, pk0, label=\"test\")\n",
    "plt.loglog(ks, pk1, label=\"obs\", ls=\"--\")\n",
    "plt.legend()"
   ]
  },
  {
   "cell_type": "code",
   "execution_count": 41,
   "metadata": {},
   "outputs": [],
   "source": [
    "#k, pk = spectrum(obs, box_shape=[cube_size, cube_size, cube_size])"
   ]
  },
  {
   "cell_type": "code",
   "execution_count": 76,
   "metadata": {
    "scrolled": true
   },
   "outputs": [
    {
     "data": {
      "text/plain": [
       "Array([1.        , 0.38327236], dtype=float64)"
      ]
     },
     "execution_count": 76,
     "metadata": {},
     "output_type": "execute_result"
    }
   ],
   "source": [
    "cosmo2base(state1.position)['cosmo']"
   ]
  },
  {
   "cell_type": "code",
   "execution_count": 77,
   "metadata": {},
   "outputs": [
    {
     "data": {
      "text/plain": [
       "(array([4.0000e+00, 1.1000e+01, 1.7000e+01, 6.3000e+01, 3.1900e+02,\n",
       "        1.7270e+03, 8.4940e+03, 2.7649e+04, 5.6412e+04, 7.1837e+04,\n",
       "        5.7238e+04, 2.8020e+04, 8.5420e+03, 1.6040e+03, 1.8800e+02,\n",
       "        1.6000e+01, 0.0000e+00, 0.0000e+00, 0.0000e+00]),\n",
       " array([-10.        ,  -8.94736842,  -7.89473684,  -6.84210526,\n",
       "         -5.78947368,  -4.73684211,  -3.68421053,  -2.63157895,\n",
       "         -1.57894737,  -0.52631579,   0.52631579,   1.57894737,\n",
       "          2.63157895,   3.68421053,   4.73684211,   5.78947368,\n",
       "          6.84210526,   7.89473684,   8.94736842,  10.        ]),\n",
       " <BarContainer object of 19 artists>)"
      ]
     },
     "execution_count": 77,
     "metadata": {},
     "output_type": "execute_result"
    },
    {
     "data": {
      "image/png": "[encoded data removed]",
      "text/plain": [
       "<Figure size 640x480 with 1 Axes>"
      ]
     },
     "metadata": {},
     "output_type": "display_data"
    }
   ],
   "source": [
    "plt.hist(state1.position['field'].flatten(), bins=np.linspace(-10,10,20))\n",
    "plt.hist(cosmoparaminit_true_new['field'].flatten(),bins=np.linspace(-10,10,20))\n"
   ]
  },
  {
   "cell_type": "markdown",
   "metadata": {},
   "source": [
    "# 2nd iteration"
   ]
  },
  {
   "cell_type": "code",
   "execution_count": 90,
   "metadata": {},
   "outputs": [],
   "source": [
    "newparam = copy.deepcopy(state1.position)\n",
    "newparam['cosmo']=jnp.array([0.00,0.00])#cosmoparaminit_true_new['cosmo']"
   ]
  },
  {
   "cell_type": "code",
   "execution_count": null,
   "metadata": {},
   "outputs": [],
   "source": []
  },
  {
   "cell_type": "code",
   "execution_count": 91,
   "metadata": {},
   "outputs": [],
   "source": [
    "@jax.jit\n",
    "def lnlike_test(cosmoparam):\n",
    "    cosmoparamnew = cosmo2base(copy.deepcopy(cosmoparam))\n",
    "    cosmoparamnew = mesh2base(cosmoparamnew)\n",
    "    pred= model(cosmoparamnew)\n",
    "    ngal=0.25#cgh2rg(extract_rfftn_from_fftn_jax(fft3d(obs)))\n",
    "    like=jnp.sum(stats.norm.logpdf(obs, pred, 1./np.sqrt(ngal)*jnp.ones_like((pred))))+jnp.sum(stats.norm.logpdf(cosmoparamnew['field'],jnp.zeros_like(cosmoparam['field']), jnp.ones_like(cosmoparamnew['field'])))+jnp.sum(stats.norm.logpdf(cosmoparamnew['cosmo'], jnp.array([0.26,0.83]), jnp.array([0.2,1.0])))\n",
    "    jax.debug.print(\"{x}, {y}\", x=cosmoparamnew['cosmo'], y=like)\n",
    "    return like"
   ]
  },
  {
   "cell_type": "code",
   "execution_count": 92,
   "metadata": {
    "scrolled": true
   },
   "outputs": [
    {
     "name": "stdout",
     "output_type": "stream",
     "text": [
      "[0.26 0.83], -926456.0921913922\n",
      "[0.25840453 0.83158974], -926853.253204576\n",
      "[0.3021348  0.80665583], -930106.4450089043\n",
      "[0.29564115 0.81129411], -929136.1602828607\n",
      "[0.28816404 0.81658948], -928166.6187896295\n",
      "[0.28106164 0.82157997], -927427.3769969307\n",
      "[0.27344251 0.82689154], -926864.306248007\n",
      "[0.26933326 0.82974141], -926675.1467835611\n",
      "[0.26516356 0.83262427], -926572.9933714711\n",
      "[0.26141776 0.83521303], -926566.6223917132\n",
      "[0.25768307 0.8377915 ], -926645.4376793201\n",
      "[0.25382    0.84045517], -926820.8784515456\n",
      "[0.25004027 0.84306622], -927087.1852982603\n",
      "[0.24624056 0.84569672], -927453.9165209149\n",
      "[0.24261383 0.84822536], -927899.4648780457\n",
      "[0.2391294  0.85067209], -928418.9955079017\n",
      "[0.23590544 0.85297155], -928982.1828182961\n",
      "[0.2328807  0.85516031], -929587.8347974368\n",
      "[0.23019992 0.85716014], -930191.4336527024\n",
      "[0.22777542 0.85901538], -930794.4946575598\n",
      "[0.22576706 0.86064758], -931343.0346951357\n",
      "[0.22402334 0.8621431 ], -931860.3422456516\n",
      "[0.22277308 0.8633782 ], -932271.3612668384\n",
      "[0.22184472 0.86445853], -932610.4741074828\n",
      "[0.22146232 0.86525299], -932805.0733879529\n",
      "[0.22143154 0.86586924], -932904.3469619632\n",
      "[0.22197808 0.86618273], -932840.5791007874\n",
      "[0.22289424 0.86631754], -932676.852806331\n",
      "[0.22438543 0.86614752], -932359.4841647953\n",
      "[0.22625234 0.86578402], -931955.8553406689\n",
      "[0.22866482 0.8651257 ], -931432.0183683562\n",
      "[0.2314172  0.86429268], -930859.6323125897\n",
      "[0.23465483 0.86318873], -930222.823752315\n",
      "[0.23806257 0.86197039], -929607.5933735403\n",
      "[0.24184726 0.86053236], -928986.4873069886\n",
      "[0.24585887 0.85896883], -928409.4550760775\n",
      "[0.25015631 0.85722881], -927878.5117515713\n",
      "[0.25461822 0.85538674], -927424.9749789311\n",
      "[0.25926836 0.8534171 ], -927057.7288832287\n",
      "[0.26393219 0.85141639], -926793.0819146506\n",
      "[0.26868405 0.84934291], -926624.3839257768\n",
      "[0.27341567 0.84726115], -926556.6283846152\n",
      "[0.27814863 0.84515762], -926581.3199579983\n",
      "[0.28271915 0.8431121 ], -926688.4228293882\n",
      "[0.28722107 0.8410899 ], -926865.5792008893\n",
      "[0.29167012 0.83909174], -927106.926362385\n",
      "[0.29599205 0.83715592], -927399.6957878032\n",
      "[0.3000951  0.83532704], -927724.8089583197\n",
      "[0.30403417 0.83358889], -928074.6917562801\n",
      "[0.30787091 0.8319183 ], -928447.2012738531\n",
      "[0.31150795 0.83036529], -928825.0860991252\n",
      "[0.31489394 0.82893879], -929197.5521025102\n",
      "[0.31806773 0.82764205], -929561.1085629326\n",
      "[0.32108387 0.82644422], -929918.2211563523\n",
      "[0.32387029 0.8253911 ], -930252.9927401907\n",
      "[0.32651868 0.82443494], -930575.9544581502\n",
      "[0.32892142 0.82363723], -930867.8961986626\n",
      "[0.33116695 0.82293702], -931140.8796340368\n",
      "[0.33315462 0.82240629], -931376.3772130053\n",
      "[0.33498045 0.82198823], -931588.5779730033\n",
      "[0.33653735 0.82174864], -931758.1621758715\n",
      "[0.33792204 0.82161358], -931901.2919313405\n",
      "[0.33903089 0.82166264], -931998.3496580959\n",
      "[0.33996202 0.82183401], -932065.6192072681\n",
      "[0.34061257 0.8221927 ], -932085.3364209766\n",
      "[0.3410951  0.82266633], -932076.6842775684\n",
      "[0.34129614 0.8233274 ], -932020.5795047192\n",
      "[0.34131933 0.82411143], -931935.5649402292\n",
      "[0.34106037 0.82508179], -931804.4553693219\n",
      "[0.34062527 0.82616379], -931646.4429689622\n",
      "[0.33990988 0.82742798], -931445.3083293329\n",
      "[0.33902126 0.82880116], -931220.5137523365\n",
      "[0.33785736 0.83034964], -930958.0691184548\n",
      "[0.33652959 0.83200185], -930677.1878974754\n",
      "[0.33493492 0.83381938], -930365.20110773\n",
      "[0.33317766 0.83573844], -930040.9535267983\n",
      "[0.33116598 0.83780955], -929694.7020186144\n",
      "[0.32899819 0.83996851], -929345.2792227848\n",
      "[0.32659398 0.84226191], -928985.8269086095\n",
      "[0.32406123 0.84461992], -928635.8570265211\n",
      "[0.32131785 0.84708938], -928290.4002224505\n",
      "[0.31846567 0.8495977 ], -927967.716330085\n",
      "[0.3154355  0.85219029], -927667.6770671182\n",
      "[0.31230197 0.85482117], -927404.2603897105\n",
      "[0.30903005 0.8575044 ], -927180.816988423\n",
      "[0.30568643 0.86020176], -927010.9768584223\n",
      "[0.30225498 0.86291505], -926896.8451294308\n",
      "[0.298791   0.86562478], -926848.078800553\n",
      "[0.29529981 0.86830927], -926867.4081381243\n",
      "[0.29190279 0.87088865], -926954.7438562172\n",
      "[0.2885433  0.87340343], -927109.2209084737\n",
      "[0.28523378 0.87586238], -927330.8781091\n",
      "[0.28203117 0.87821486], -927611.1148495997\n",
      "[0.27893954 0.88047908], -927946.2827965195\n",
      "[0.2760258  0.88259662], -928323.5080782452\n",
      "[0.27325772 0.88459983], -928738.027125144\n",
      "[0.27073894 0.88641792], -929167.2749940372\n",
      "[0.26840267 0.88810911], -929610.6946810266\n",
      "[0.26638362 0.88957976], -930032.4736203686\n",
      "[0.26459296 0.89090292], -930439.9445116409\n",
      "[0.26317684 0.89197678], -930791.4645985891\n",
      "[0.26202322 0.89288038], -931101.8935042038\n",
      "[0.26128527 0.89351534], -931328.7762497744\n",
      "[0.2608204  0.89397184], -931498.0392809288\n",
      "[0.26079825 0.89414669], -931566.2708517071\n",
      "[0.26105569 0.89414399], -931569.8552144954\n",
      "[0.26176262 0.89385595], -931468.5132069029\n",
      "[0.26275185 0.89338889], -931304.5735925097\n",
      "[0.26417515 0.89264325], -931047.4086240068\n",
      "[0.26586674 0.89172768], -930741.8054846965\n",
      "[0.2679612  0.89054719], -930365.3473213466\n",
      "[0.27028851 0.88920741], -929963.7809066824\n",
      "[0.27297069 0.8876262 ], -929524.6133474627\n",
      "[0.27583355 0.88591166], -929090.7753018258\n",
      "[0.27898683 0.88398868], -928653.6880892994\n",
      "[0.28229302 0.88194984], -928245.909024291\n",
      "[0.28581956 0.87974   ], -927865.9510928211\n",
      "[0.28943741 0.87744228], -927536.2489870233\n",
      "[0.29320176 0.87501532], -927255.6446385747\n",
      "[0.29702134 0.87253513], -927036.377444852\n",
      "[0.30091689 0.86996824], -926876.6190091679\n",
      "[0.30482651 0.86736687], -926782.5249207126\n",
      "[0.30874577 0.86472168], -926751.8252079103\n",
      "[0.31262874 0.86207852], -926782.01697314\n",
      "[0.31646171 0.85943211], -926867.7556233176\n",
      "[0.3202284 0.8568086], -927004.8761352908\n",
      "[0.3238924 0.8542196], -927184.8543370059\n",
      "[0.32744518 0.85166626], -927401.6966995947\n",
      "[0.33085224 0.84918086], -927646.0915612713\n",
      "[0.33415044 0.84674756], -927916.3453978505\n",
      "[0.33726668 0.84441271], -928196.9066699455\n",
      "[0.34024953 0.84216482], -928488.8732599178\n",
      "[0.34302162 0.84004058], -928778.1727583078\n",
      "[0.34565935 0.83800287], -929068.8935145119\n",
      "[0.34806356 0.83611046], -929344.9539508412\n",
      "[0.35031467 0.83431022], -929613.50640225\n",
      "[0.35231458 0.832673  ], -929858.5058223594\n",
      "[0.35414324 0.83113986], -930088.2558278695\n",
      "[0.3557061  0.82978483], -930285.6705397024\n",
      "[0.35710316 0.82854511], -930463.2643772947\n",
      "[0.35822419 0.82749445], -930603.4874970972\n",
      "[0.35917195 0.82656397], -930720.0023505575\n",
      "[0.35983669 0.8258306 ], -930795.1792499506\n",
      "[0.36032292 0.82522318], -930844.6369820661\n",
      "[0.36052148 0.8248185 ], -930850.6271002605\n",
      "[0.36052831 0.82453792], -930829.3776331543\n",
      "[0.36024706 0.82446165], -930764.702178822\n",
      "[0.35978768 0.82451136], -930674.3355858456\n",
      "[0.35904233 0.82476427], -930542.1776912392\n",
      "[0.35812876 0.82513915], -930387.2818138533\n",
      "[0.35693445 0.82571323], -930194.2521615939\n",
      "[0.35557425 0.82640763], -929982.1875368456\n",
      "[0.35394326 0.82729229], -929737.7472207806\n",
      "[0.3521436  0.82829782], -929478.4168945263\n",
      "[0.35008673 0.82948155], -929195.2332068388\n",
      "[0.34787613 0.8307647 ], -928905.1102173295\n",
      "[0.34542561 0.83221008], -928601.2849617264\n",
      "[0.34283865 0.83374846], -928299.8083748609\n",
      "[0.34003565 0.83542856], -927996.897728452\n",
      "[0.33711177 0.83717554], -927709.0547388794\n",
      "[0.33400313 0.83903839], -927434.198600094\n",
      "[0.33080016 0.84096207], -927186.1546306818\n",
      "[0.32745188 0.84297126], -926968.0589121409\n",
      "[0.32403716 0.84502769], -926791.3982011249\n",
      "[0.32052738 0.84713278], -926660.7108327904\n",
      "[0.31700483 0.84924414], -926582.552218078\n",
      "[0.31344551 0.85136351], -926559.5421052637\n",
      "[0.30991609 0.85345298], -926594.5095398683\n",
      "[0.30641433 0.85550784], -926688.4158047797\n",
      "[0.30298516 0.85750127], -926838.1377001759\n",
      "[0.29965008 0.85941825], -927041.2389799643\n",
      "[0.2964153  0.86125984], -927296.0624163861\n",
      "[0.29334752 0.86298104], -927590.7064746144\n",
      "[0.29040943 0.86460294], -927922.1339491324\n",
      "[0.28771033 0.86606267], -928270.20396298\n",
      "[0.28518556 0.86740705], -928636.4804869022\n",
      "[0.28296966 0.86855013], -928990.5244554897\n",
      "[0.28097439 0.86954996], -929336.9506508433\n",
      "[0.27934799 0.87031615], -929639.8155559511\n",
      "[0.27797502 0.87092171], -929911.2013373943\n",
      "[0.2770171  0.87126941], -930111.8510489553\n",
      "[0.27633558 0.87145691], -930263.2604582874\n",
      "[0.27609649 0.87137219], -930327.2158975585\n",
      "[0.27613724 0.87111474], -930334.2412936881\n",
      "[0.27662636 0.87058266], -930250.1066376093\n",
      "[0.27739299 0.86987439], -930111.3638896575\n",
      "[0.27859479 0.86889885], -929891.3484665336\n",
      "[0.28006227 0.86775323], -929629.642741983\n",
      "[0.28193185 0.86635843], -929308.9476910778\n",
      "[0.28403225 0.86481969], -928969.3847951414\n",
      "[0.28648405 0.86305956], -928600.1086814351\n",
      "[0.28913642 0.86117471], -928236.6747780958\n",
      "[0.29207641 0.85910464], -927874.8368351314\n",
      "[0.29516963 0.85695005], -927541.617706542\n",
      "[0.29847953 0.85465204], -927237.0042944254\n",
      "[0.3018859  0.85228106], -926977.4200389561\n",
      "[0.30543654 0.84981074], -926763.0184699064\n",
      "[0.30901913 0.84731991], -926604.5602791847\n",
      "[0.31267319 0.84477676], -926500.0986144415\n",
      "[0.31633728 0.84221619], -926451.0527775624\n",
      "[0.32000697 0.83964758], -926455.613813164\n",
      "[0.32364605 0.83709934], -926511.1775890127\n",
      "[0.32723143 0.83458517], -926612.0266348192\n",
      "[0.33073263 0.83213746], -926753.6400222126\n",
      "[0.33412998 0.82976209], -926927.5631509075\n",
      "[0.33744378 0.82746704], -927130.6448987892\n",
      "[0.34061134 0.82527826], -927352.5964431844\n",
      "[0.34366519 0.82318263], -927592.6296792914\n",
      "[0.34653692 0.8212237 ], -927838.3298156555\n",
      "[0.34926603 0.81936995], -928088.4038853337\n",
      "[0.35178575 0.81767646], -928330.2572826851\n",
      "[0.35414115 0.81611633], -928565.4703686716\n",
      "[0.35626733 0.81473458], -928781.8152598874\n",
      "[0.35823445 0.81346946], -928986.2201798825\n",
      "[0.3599562  0.81239771], -929163.9817768187\n",
      "[0.36152189 0.81145683], -929324.8468415807\n",
      "[0.36282986 0.81072136], -929453.3027870775\n",
      "[0.36397257 0.81012719], -929560.9877617392\n",
      "[0.36484927 0.80974697], -929632.0877597713\n",
      "[0.36555173 0.80950573], -929679.3107815558\n",
      "[0.36598343 0.80948284], -929687.7385744452\n",
      "[0.36624207 0.80959347], -929672.6250670896\n",
      "[0.36622881 0.80992323], -929618.5751787886\n",
      "[0.3660455  0.81038157], -929542.0246528932\n",
      "[0.36559318 0.81105592], -929428.304008625\n",
      "[0.36497199 0.81185423], -929293.929669801\n",
      "[0.36408819 0.81286167], -929126.5105136217\n",
      "[0.36304856 0.81399486], -928942.7462434756\n",
      "[0.36175699 0.81532621], -928731.6017502818\n",
      "[0.36030435 0.81677417], -928508.862002296\n",
      "[0.35861455 0.81840563], -928266.6883518025\n",
      "[0.35678933 0.82014132], -928020.5256841495\n",
      "[0.35474608 0.82204202], -927765.556788881\n",
      "[0.35257893 0.82403066], -927517.336414167\n",
      "[0.35022144 0.82615903], -927271.7569756556\n",
      "[0.34777608 0.82836241], -927042.489146217\n",
      "[0.34517331 0.83067712], -926827.7459650419\n",
      "[0.3424983 0.8330405], -926638.8508045193\n",
      "[0.33970458 0.8354824 ], -926477.2176566792\n",
      "[0.33686703 0.83794491], -926350.8918094905\n",
      "[0.33395694 0.84044917], -926262.2781512443\n",
      "[0.33102722 0.84296438], -926216.0999615442\n",
      "[0.32807726 0.84548091], -926213.246453798\n",
      "[0.32514467 0.84797295], -926257.6483907761\n",
      "[0.32225169 0.85042307], -926348.1747917593\n",
      "[0.31941597 0.85280594], -926484.521901868\n",
      "[0.31668343 0.85510278], -926659.0073335783\n",
      "[0.31404114 0.85731701], -926871.1531310438\n",
      "[0.3115665  0.85940234], -927110.7504361898\n",
      "[0.30923105 0.86138244], -927375.6828532666\n",
      "[0.3071277  0.86319196], -927647.492795278\n",
      "[0.30518687 0.86487576], -927928.9051842098\n",
      "[0.30353678 0.86635139], -928194.8972584516\n",
      "[0.30208373 0.86768229], -928450.8638829218\n",
      "[0.30096969 0.86877548], -928668.8956330353\n",
      "[0.30008426 0.86970409], -928859.7269959367\n",
      "[0.29957259 0.87037355], -928993.9224720929\n",
      "[0.29931331 0.87086711], -929087.9419733452\n",
      "[0.29944637 0.8710904 ], -929115.0110726252\n",
      "[0.29983392 0.87113945], -929098.6884750738\n",
      "[0.30061564 0.87091606], -929014.7187325046\n",
      "[0.3016304  0.87051678], -928892.3353507314\n",
      "[0.30302434 0.86985224], -928711.0282804468\n",
      "[0.30463915 0.86903948], -928502.8829249045\n",
      "[0.30660153 0.86797929], -928253.4323320937\n",
      "[0.30875744 0.86678176], -927993.1317505743\n",
      "[0.31121405 0.86536422], -927712.7176938411\n",
      "[0.31384128 0.86383074], -927437.0365728503\n",
      "[0.31671457 0.86210999], -927163.1571501471\n",
      "[0.31970334 0.86029169], -926912.1696165388\n",
      "[0.32287482 0.85832624], -926683.3594862162\n",
      "[0.32612434 0.85628191], -926489.3411653774\n",
      "[0.32949264 0.85413267], -926329.7576285376\n",
      "[0.33290297 0.85193884], -926211.2655573817\n",
      "[0.33636942 0.84968259], -926132.8729287816\n",
      "[0.33984529 0.84740058], -926096.6079566482\n",
      "[0.34331907 0.8450985 ], -926101.1415602354\n",
      "[0.3467647  0.84280549], -926144.6058727849\n",
      "[0.35015518 0.84053335], -926222.3833842778\n",
      "[0.35348786 0.83829773], -926332.9997169941\n",
      "[0.3567187 0.8361217], -926470.9054790759\n",
      "[0.35985506 0.83399887], -926632.3341779758\n",
      "[0.36284847 0.8319697 ], -926808.8260847195\n",
      "[0.36572722 0.83002765], -926998.3813508253\n",
      "[0.36842981 0.82820847], -927192.1148677531\n",
      "[0.37100559 0.82648543], -927390.5699006686\n",
      "[0.37337727 0.82491059], -927582.3067755502\n",
      "[0.37560514 0.82344201], -927770.6189846571\n",
      "[0.37760662 0.82214294], -927943.5551002482\n",
      "[0.37946274 0.82097496], -928106.8834781867\n",
      "[0.38107557 0.81999351], -928246.9172771089\n",
      "[0.38252269 0.81913468], -928371.3123198082\n",
      "[0.38371425 0.81847515], -928466.9557837584\n",
      "[0.38473704 0.81794727], -928544.1564905471\n",
      "[0.3854959  0.81762695], -928589.1019671505\n",
      "[0.38607556 0.81744046], -928612.5205483314\n",
      "[0.38638722 0.81746552], -928601.9992111301\n",
      "[0.3865349  0.81762428], -928571.0189500401\n",
      "[0.3864155  0.81799364], -928506.6664847604\n",
      "[0.386134   0.81849348], -928423.5508195059\n",
      "[0.38559011 0.81919934], -928309.6222712267\n",
      "[0.38488685 0.82002489], -928179.7829326238\n",
      "[0.38393007 0.82104725], -928023.424545422\n",
      "[0.38282593 0.8221801 ], -927856.1252707269\n",
      "[0.38148142 0.82349616], -927668.7405602622\n",
      "[0.379999   0.82492115], -927475.9203781693\n",
      "[0.37829561 0.82651032], -927271.4451963811\n",
      "[0.37646995 0.82818543], -927068.2017297337\n",
      "[0.37444647 0.83000266], -926862.5156747221\n",
      "[0.37231834 0.8318917 ], -926667.0013166657\n",
      "[0.37002264 0.83389516], -926478.9155138377\n",
      "[0.36764848 0.8359576 ], -926309.2016075903\n",
      "[0.36514295 0.83810242], -926157.8275967414\n",
      "[0.36258599 0.84027319], -926032.5117195634\n",
      "[0.35993935 0.84249131], -925934.4277312006\n",
      "[0.35724795 0.8447199 ], -925867.8910905755\n",
      "[0.35451411 0.84695726], -925834.5261111585\n",
      "[0.35177411 0.84919135], -925836.8829797285\n",
      "[0.34904381 0.85139351], -925875.9325771892\n",
      "[0.34635692 0.85356007], -925951.8656950049\n",
      "[0.34373774 0.85565162], -926061.4827740097\n",
      "[0.34119748 0.85765948], -926203.0839869089\n",
      "[0.33878332 0.85955055], -926370.5156846137\n",
      "[0.33647948 0.86135426], -926561.5364341929\n",
      "[0.3343602  0.86300083], -926764.9624098742\n",
      "[0.33239116 0.8645373 ], -926980.7712912519\n",
      "[0.33066388 0.86587935], -927191.8110033773\n",
      "[0.3291104  0.86707361], -927398.6635273522\n",
      "[0.32784471 0.8680439 ], -927581.6140529562\n",
      "[0.32678407 0.86886305], -927747.3557415196\n",
      "[0.32604675 0.86943569], -927873.913555817\n",
      "[0.32551481 0.86984664], -927974.7477702294\n",
      "[0.3253289  0.86999693], -928025.9481924173\n",
      "[0.32536685 0.86997537], -928044.5352889764\n",
      "[0.32575869 0.86968839], -928009.9769566074\n",
      "[0.32636773 0.86923872], -927944.011910374\n",
      "[0.3273236  0.86852843], -927828.5830703727\n",
      "[0.3284905  0.86766451], -927687.2944206697\n",
      "[0.32998336 0.86655325], -927506.7569191185\n",
      "[0.33166032 0.86529962], -927311.0023953405\n",
      "[0.33363053 0.86381946], -927090.2799062049\n",
      "[0.33574832 0.8622119 ], -926868.1674471099\n",
      "[0.33811374 0.86040767], -926640.2923735988\n",
      "[0.34060662 0.858497  ], -926426.1925027777\n",
      "[0.34329099 0.85642762], -926222.9332064169\n",
      "[0.34606911 0.85428124], -926043.2165497039\n",
      "[0.34898108 0.85201677], -925887.707610061\n",
      "[0.35194089 0.84970575], -925763.8734759538\n",
      "[0.35497553 0.84732019], -925671.1680191265\n",
      "[0.35802674 0.84490963], -925612.8532162784\n",
      "[0.36109681 0.84246786], -925588.700157202\n",
      "[0.36414133 0.84002838], -925599.3157526677\n",
      "[0.36715085 0.83760124], -925639.7845981629\n",
      "[0.3701111  0.83521631], -925707.9860175172\n",
      "[0.37299168 0.83288139], -925800.1213508294\n",
      "[0.37579303 0.83060983], -925914.9063921374\n",
      "[0.37847258 0.82842524], -926046.3704531692\n",
      "[0.38105393 0.82632187], -926192.6251999859\n",
      "[0.38347682 0.82433946], -926345.9542008742\n",
      "[0.38578655 0.82245364], -926506.2247549809\n",
      "[0.38790772 0.82071841], -926663.8550850035\n",
      "[0.38989609 0.81908787], -926821.2767952967\n",
      "[0.39167091 0.81763278], -926966.2249753464\n",
      "[0.39330553 0.81631483], -927103.1612938797\n",
      "[0.39470855 0.81519094], -927220.6220326729\n",
      "[0.39595774 0.81420058], -927325.3602584377\n",
      "[0.39696211 0.81341872], -927405.1055211748\n",
      "[0.3978117  0.81277647], -927468.7192315545\n",
      "[0.3984086  0.81235183], -927503.9298756488\n",
      "[0.39884081 0.81205989], -927521.4908016559\n",
      "[0.3990168  0.81199002], -927509.2611915942\n",
      "[0.3990429  0.81206697], -927479.4268837547\n",
      "[0.39881378 0.81236524], -927420.3662259964\n",
      "[0.39842273 0.81279585], -927344.6455624088\n",
      "[0.39778177 0.81344278], -927242.214066463\n",
      "[0.39699725 0.8142204 ], -927127.0288625334\n",
      "[0.3959731  0.81520377], -926989.8101070551\n",
      "[0.39480139 0.81630288], -926843.194900777\n",
      "[0.39340525 0.81759232], -926680.7851811497\n",
      "[0.39187719 0.81898707], -926515.8702176397\n",
      "[0.39014638 0.82055068], -926343.9285233642\n",
      "[0.38829925 0.82220306], -926176.366274797\n",
      "[0.38627729 0.82399744], -926010.7327691121\n",
      "[0.38415557 0.82586487], -925856.1458731018\n",
      "[0.38189179 0.82784401], -925712.789485453\n",
      "[0.37955367 0.82987069], -925589.4665734016\n",
      "[0.37711427 0.8319727 ], -925486.2190219938\n",
      "[0.37462129 0.83409823], -925409.7251427863\n",
      "[0.37207415 0.83625836], -925360.0744609381\n",
      "[0.36950974 0.83841813], -925340.3608667739\n",
      "[0.36694042 0.8405714 ], -925349.5920989868\n",
      "[0.36439621 0.84269452], -925390.1951814748\n",
      "[0.36190098 0.84476702], -925459.8456575784\n",
      "[0.35946746 0.84678906], -925558.0945164843\n",
      "[0.35714018 0.84871692], -925679.8038564342\n",
      "[0.35490944 0.8505528 ], -925825.6211241597\n",
      "[0.35284321 0.85225071], -925985.3823687645\n",
      "[0.35090701 0.85384068], -926157.7047013482\n",
      "[0.3491907  0.85525336], -926329.4064697269\n",
      "[0.34764147 0.85653733], -926500.83589142\n",
      "[0.34635904 0.857611  ], -926655.5117532525\n",
      "[0.3452702  0.85853329], -926797.6081787113\n",
      "[0.3444856  0.85921991], -926909.2117772652\n",
      "[0.34390838 0.85974741], -926998.9220701727\n",
      "[0.34365975 0.86002231], -927047.6754732896\n",
      "[0.3436194  0.86013519], -927070.3581605193\n",
      "[0.34391776 0.85998828], -927048.1359942143\n",
      "[0.34442825 0.8596899 ], -926999.5526300875\n",
      "[0.34527147 0.85913546], -926908.672912524\n",
      "[0.34631629 0.85842358], -926795.3679173972\n",
      "[0.34767393 0.85746912], -926648.6120923429\n",
      "[0.34920125 0.85638243], -926489.8515881646\n",
      "[0.35100911 0.8550743 ], -926309.9494850006\n",
      "[0.35298527 0.85365141], -926128.5276267254\n",
      "[0.35519724 0.85203747], -925941.75555397\n",
      "[0.3575311  0.85032006], -925764.4408713295\n",
      "[0.36004968 0.84844789], -925594.8417308566\n",
      "[0.36265728 0.84650834], -925446.2931653752\n",
      "[0.36539303 0.84445612], -925318.1443295729\n",
      "[0.36818655 0.84234551], -925216.3814761614\n",
      "[0.37105098 0.84016661], -925141.6207644052\n",
      "[0.37392653 0.83796684], -925097.3666108563\n",
      "[0.37681622 0.83574413], -925081.6059797766\n",
      "[0.37969024 0.83352617], -925094.7250687995\n",
      "[0.38252766 0.8313286 ], -925133.2567374523\n",
      "[0.38531836 0.82915716], -925197.2755745371\n",
      "[0.38802501 0.82704779], -925281.4588375519\n",
      "[0.39064505 0.82499556], -925384.4726046954\n",
      "[0.39313993 0.82304314], -925500.2274399668\n",
      "[0.39553539 0.82117675], -925627.6840921033\n",
      "[0.39776976 0.81944382], -925758.9015405655\n",
      "[0.39988513 0.81780603], -925894.3298493974\n",
      "[0.40181035 0.81633027], -926024.2093390753\n",
      "[0.40360645 0.81497887], -926151.651564703\n",
      "[0.40518876 0.81381304], -926266.0484613446\n",
      "[0.40662284 0.81278164], -926371.5563840137\n",
      "[0.40782491 0.81195439], -926457.7281798562\n",
      "[0.40886654 0.81126928], -926531.0896145066\n",
      "[0.40966356 0.81080168], -926580.2991613571\n",
      "[0.41029984 0.81047261], -926614.3221455105\n",
      "[0.41068533 0.81036732], -926621.7436088689\n",
      "[0.41092565 0.81039837], -926613.7565283765\n",
      "[0.41091362 0.81065436], -926578.7686879929\n",
      "[0.41073985 0.81105115], -926528.0458994819\n",
      "[0.41031798 0.81166814], -926452.3415710173\n",
      "[0.4097469  0.81241583], -926364.0022700328\n",
      "[0.40893752 0.81337282], -926254.6875533958\n",
      "[0.4079874 0.8144642], -926136.4040836742\n",
      "[0.40681411 0.81574877], -926002.5685482988\n",
      "[0.40550992 0.81714541], -925864.9284650503\n",
      "[0.40400307 0.81871364], -925719.7726502941\n",
      "[0.40238082 0.82037057], -925577.7048981254\n",
      "[0.40058335 0.82217152], -925436.4393296869\n",
      "[0.39868342 0.82403795], -925304.150090001\n",
      "[0.39664016 0.82601682], -925180.5087432242\n",
      "[0.3945347  0.82804922], -925072.6631523225\n",
      "[0.39232362 0.83015819], -924981.0981128815\n",
      "[0.39005872 0.83228992], -924911.3238688591\n",
      "[0.38773296 0.83445669], -924865.0977694888\n",
      "[0.38538787 0.83662658], -924844.987332116\n",
      "[0.38303177 0.83878667], -924850.8316483678\n",
      "[0.38068572 0.84091607], -924884.2036211129\n",
      "[0.3783829  0.84298954], -924942.2589657385\n",
      "[0.37613999 0.84499915], -925025.2308615161\n",
      "[0.37399618 0.84690739], -925128.3196644314\n",
      "[0.37194929 0.84873783], -925249.4134813668\n",
      "[0.37005608 0.85042363], -925381.6665474768\n",
      "[0.36829112 0.85198873], -925523.7968363159\n",
      "[0.36673176 0.85336933], -925664.258841348\n",
      "[0.36532389 0.85461436], -925804.7352015419\n",
      "[0.36416657 0.85564075], -925930.5519458406\n",
      "[0.36318395 0.85652079], -926045.7890211313\n",
      "[0.36248535 0.85715802], -926134.2946144023\n",
      "[0.36197286 0.85762992], -926205.0714488013\n",
      "[0.36176585 0.85784351], -926241.5306813106\n",
      "[0.36175989 0.85788575], -926255.5103938022\n",
      "[0.36206777 0.85766328], -926232.1167858618\n",
      "[0.36257101 0.85727399], -926186.1838424648\n",
      "[0.36338292 0.85662351], -926105.1495146145\n",
      "[0.36438783 0.85580989], -926005.1890149165\n",
      "[0.36568156 0.85474959], -925878.0137062661\n",
      "[0.36714392 0.85352947], -925740.4997324174\n",
      "[0.36886228 0.85208646], -925587.4153944622\n",
      "[0.37072202 0.85051606], -925434.5141889476\n",
      "[0.37279366 0.84875613], -925278.7933085308\n",
      "[0.37496451 0.84688698], -925133.196272775\n",
      "[0.37729711 0.84486665], -924997.7322876647\n",
      "[0.3797086  0.84276645], -924881.2214897493\n",
      "[0.38222576 0.84056038], -924784.5091007326\n",
      "[0.38477183 0.83832523], -924711.3278383932\n",
      "[0.38736898 0.836031  ], -924662.04524285\n",
      "[0.38995413 0.83372213], -924639.412445871\n",
      "[0.39253524 0.83140125], -924640.4087310112\n",
      "[0.39508687 0.82910233], -924665.4642684672\n",
      "[0.39758522 0.82683699], -924712.6395411494\n",
      "[0.40003275 0.82462644], -924779.7671725675\n",
      "[0.40238274 0.82249188], -924862.0764578744\n",
      "[0.40462372 0.82042573], -924957.992346991\n",
      "[0.40672823 0.8184739 ], -925061.9717942186\n",
      "[0.40873421 0.8166097 ], -925173.7912169555\n",
      "[0.4105709 0.8148939], -925285.0828203207\n",
      "[0.41227494 0.81328216], -925397.1816925632\n",
      "[0.41378365 0.81184611], -925501.0540610387\n",
      "[0.41516109 0.81054261], -925600.080937537\n",
      "[0.41632213 0.8094376 ], -925684.3549077648\n",
      "[0.41731327 0.80846887], -925757.7986626114\n",
      "[0.41807336 0.80771485], -925811.3680459445\n",
      "[0.4186774  0.80710731], -925851.8199169154\n",
      "[0.41904228 0.80672402], -925869.3041553015\n",
      "[0.41924579 0.80649106], -925871.8255489563\n",
      "[0.41920699 0.80648658], -925850.4071480954\n",
      "[0.41901686 0.80662447], -925815.5328674793\n",
      "[0.41858754 0.80698814], -925757.7467883548\n",
      "[0.41801149 0.80749416], -925687.7235078462\n",
      "[0.41720487 0.8082167 ], -925598.3055575071\n",
      "[0.4162655  0.80905152], -925501.7916596786\n",
      "[0.41510987 0.81008807], -925390.7806064878\n",
      "[0.41382666 0.81125009], -925275.5960905021\n",
      "[0.41234789 0.812592  ], -925152.7525967805\n",
      "[0.41075767 0.81403802], -925031.9934017747\n",
      "[0.40899937 0.81563697], -924911.3438359147\n",
      "[0.40716238 0.81731411], -924798.9533618117\n",
      "[0.40519084 0.81911196], -924693.996113613\n",
      "[0.4031533  0.82096359], -924603.6734636719\n",
      "[0.40102106 0.82289751], -924528.4604337079\n",
      "[0.39883923 0.82485205], -924473.9180674494\n",
      "[0.39660916 0.82684582], -924438.9439853594\n",
      "[0.39437164 0.82884447], -924426.9996769181\n",
      "[0.39213628 0.83083629], -924437.3375736923\n",
      "[0.38991527 0.83281279], -924471.9707774715\n",
      "[0.38775145 0.83473528], -924528.149654535\n",
      "[0.38566047 0.8365897 ], -924605.5008645443\n",
      "[0.38368134 0.83834326], -924698.9305765084\n",
      "[0.38180003 0.8400088 ], -924807.3928524156\n",
      "[0.38008484 0.84152937], -924922.6177786087\n",
      "[0.37850073 0.84293346], -925044.1805679408\n",
      "[0.37713082 0.84415499], -925160.0867294788\n",
      "[0.37591336 0.84524138], -925273.2540096751\n",
      "[0.37494902 0.84611545], -925370.5279080719\n",
      "[0.37415459 0.84684666], -925457.4072736624\n",
      "[0.37364414 0.84734193], -925519.1442966523\n",
      "[0.37332029 0.84768132], -925564.225605156\n",
      "[0.37329969 0.84777011], -925577.8961838355\n",
      "[0.37346198 0.84769007], -925572.2733777389\n",
      "[0.37393043 0.84735741], -925534.2940361168\n",
      "[0.37459011 0.84687086], -925478.4266867678\n",
      "[0.37554344 0.84614143], -925394.7538975237\n",
      "[0.37666963 0.84527998], -925298.5374371234\n",
      "[0.37806458 0.84419468], -925182.5530293647\n",
      "[0.37960688 0.84298812], -925062.5077881519\n",
      "[0.38138057 0.84158586], -924933.5113696661\n",
      "[0.38327654 0.84008212], -924809.2294260041\n",
      "[0.38535861 0.83841826], -924687.1762171222\n",
      "[0.3875352  0.83668154], -924577.8720097645\n",
      "[0.38984659 0.83482659], -924480.5008865135\n",
      "[0.39220731 0.83291682], -924401.4064820751\n",
      "[0.39464967 0.83093376], -924340.9903374409\n",
      "[0.39710937 0.82893089], -924302.2394323801\n",
      "[0.39959611 0.82690278], -924284.3894045536\n",
      "[0.40206709 0.82488735], -924288.207270047\n",
      "[0.40451431 0.82289237], -924311.0835665546\n",
      "[0.40691455 0.82092976], -924352.9844060319\n",
      "[0.40924396 0.81903174], -924411.1140037599\n",
      "[0.4115087  0.81720075], -924484.8627371987\n",
      "[0.41365903 0.81547665], -924567.7584264458\n",
      "[0.41570908 0.81384211], -924659.0651118583\n",
      "[0.41760916 0.81234871], -924751.7131320327\n",
      "[0.41937863 0.810964  ], -924846.4653055171\n",
      "[0.42096939 0.80974994], -924935.7106707359\n",
      "[0.4224269 0.8086506], -925022.297681976\n",
      "[0.42368187 0.80774615], -925096.8502898082\n",
      "[0.4247913  0.80697459], -925163.2461793891\n",
      "[0.42568175 0.80641537], -925212.7228290101\n",
      "[0.42641844 0.80599476], -925251.2879953876\n",
      "[0.42692592 0.80579727], -925269.7401536932\n",
      "[0.42728079 0.8057408 ], -925275.7096208266\n",
      "[0.42740294 0.80591099], -925260.5654768362\n",
      "[0.42739132 0.80622562], -925233.4477669345\n",
      "[0.42714986 0.80676319], -925186.3603101433\n",
      "[0.42676134 0.80743169], -925129.0692665091\n",
      "[0.42615128 0.80831397], -925054.6580504783\n",
      "[0.42539598 0.80931069], -924973.7428302018\n",
      "[0.42443509 0.81050327], -924880.5610444425\n",
      "[0.42335575 0.81180455], -924784.9743378168\n",
      "[0.42209222 0.8132784 ], -924683.4426626442\n",
      "[0.4207382  0.81483897], -924585.0721479394\n",
      "[0.41922785 0.81654307], -924487.4123016109\n",
      "[0.41761511 0.81831704], -924397.7044040703\n",
      "[0.41587966 0.82020013], -924315.6039221577\n",
      "[0.41408288 0.8221339 ], -924247.9704332885\n",
      "[0.41220518 0.82413555], -924194.2839320974\n",
      "[0.4103013  0.82614873], -924158.6466151954\n",
      "[0.40836262 0.82818491], -924141.2505314965\n",
      "[0.40643393 0.83021109], -924144.6647169864\n",
      "[0.40452127 0.8322131 ], -924166.582659688\n",
      "[0.40264733 0.83416844], -924207.1470475735\n",
      "[0.40083969 0.83605368], -924263.2832835516\n",
      "[0.39910169 0.83786391], -924335.1472240495\n",
      "[0.39748009 0.83955923], -924417.2487781704\n",
      "[0.39594429 0.84116156], -924509.8549117725\n",
      "[0.39457472 0.84260662], -924604.8874158108\n",
      "[0.39331428 0.84392239], -924702.5172072025\n",
      "[0.39226273 0.8450446 ], -924792.9946614417\n",
      "[0.39136033 0.84602643], -924878.3623892965\n",
      "[0.39070065 0.84678726], -924947.228600879\n",
      "[0.39020632 0.84739533], -925004.8293131812\n",
      "[0.38997892 0.84776242], -925039.0556742833\n",
      "[0.38993832 0.84797111], -925057.7954844597\n",
      "[0.39017506 0.84792981], -925049.9597025116\n",
      "[0.39058156 0.84773179], -925026.2868637642\n",
      "[0.39126178 0.84728607], -924977.3611600886\n",
      "[0.39211496 0.84668724], -924915.3461580875\n",
      "[0.39322413 0.84585455], -924833.5743613488\n",
      "[0.39445835 0.84487356], -924745.2537543268\n",
      "[0.39591954 0.84368211], -924645.1244949774\n",
      "[0.39750636 0.84236369], -924545.1626260586\n",
      "[0.39928126 0.84086731], -924443.2301128822\n",
      "[0.40114175 0.83928923], -924350.3567165046\n",
      "[0.40314292 0.83757355], -924264.0179208358\n",
      "[0.4051945 0.8357867], -924191.5905678498\n",
      "[0.40733658 0.83390612], -924131.9550643626\n",
      "[0.40951381 0.83198965], -924089.2288244474\n",
      "[0.41173145 0.83002423], -924062.4902649827\n",
      "[0.41394648 0.82804815], -924055.2136885858\n",
      "[0.41615099 0.82607106], -924065.0459352302\n",
      "[0.41832262 0.82413555], -924092.0677992523\n",
      "[0.42043577 0.82224488], -924134.2377711396\n",
      "[0.42248414 0.82041593], -924190.2157034366\n",
      "[0.42443064 0.81867459], -924255.1096842033\n",
      "[0.42629597 0.81699921], -924328.8348906318\n",
      "[0.42802255 0.81544792], -924406.0060308866\n",
      "[0.42965395 0.81400416], -924486.3580903647\n",
      "[0.43111537 0.81271656], -924563.073306887\n",
      "[0.43245708 0.81153128], -924638.4739291234\n",
      "[0.43360537 0.81052715], -924704.553187085\n",
      "[0.43462712 0.80963713], -924765.6288766707\n",
      "[0.43543826 0.80894773], -924812.6646756345\n",
      "[0.43611571 0.80838407], -924851.501173667\n",
      "[0.43657179 0.80803322], -924873.2961019725\n",
      "[0.43686952 0.80782584], -924883.7771805413\n",
      "[0.43694191 0.80783552], -924876.0887427339\n",
      "[0.43687378 0.80798832], -924857.5712422827\n",
      "[0.43658224 0.80835651], -924821.4469096503\n",
      "[0.4361518  0.80885678], -924776.2241296864\n",
      "[0.43550557 0.80956404], -924715.8103799412\n",
      "[0.43472752 0.81038465], -924649.7713394524\n",
      "[0.43374846 0.81139562], -924573.1291464772\n",
      "[0.43265302 0.81251329], -924494.8088737391\n",
      "[0.43137974 0.81379706], -924411.4832272498\n",
      "[0.42999461 0.81517383], -924330.6613535639\n",
      "[0.42846073 0.816687  ], -924251.2274539453\n",
      "[0.42685496 0.81827417], -924180.0270183318\n",
      "[0.42513618 0.81996148], -924116.2039197519\n",
      "[0.42337119 0.82169259], -924065.1558352318\n",
      "[0.42153494 0.82348209], -924026.8512061583\n",
      "[0.41969451 0.82527959], -924004.581063229\n",
      "[0.41782974 0.82709028], -923997.9001523444\n",
      "[0.41597236 0.828876  ], -924008.9425541756\n",
      "[0.4141417  0.83062751], -924035.9127163914\n",
      "[0.41233702 0.83232985], -924079.2090061557\n",
      "[0.41061179 0.83395039], -924135.2997924421\n",
      "[0.40894781 0.83548956], -924203.6960701261\n",
      "[0.4074135  0.83690239], -924278.5263144695\n",
      "[0.40597558 0.83821286], -924359.9949666595\n",
      "[0.4047138  0.83935638], -924440.3753142759\n",
      "[0.40357476 0.84037324], -924520.5682314066\n",
      "[0.4026499  0.84119002], -924590.9936160119\n",
      "[0.40186811 0.84187165], -924655.2966763037\n",
      "[0.40133103 0.8423277 ], -924702.515319969\n",
      "[0.40095603 0.84264243], -924738.6952291941\n",
      "[0.40084296 0.84271771], -924753.0075088994\n",
      "[0.40088733 0.84264229], -924754.4583621074\n",
      "[0.40119844 0.84232331], -924732.837952861\n",
      "[0.40167527 0.84185412], -924698.7036023686\n",
      "[0.40240914 0.84114976], -924644.2913986777\n",
      "[0.40328708 0.84031787], -924581.4266580172\n",
      "[0.40440037 0.83927014], -924504.353637319\n",
      "[0.40564525 0.83810062], -924424.4945393006\n",
      "[0.40709099 0.83674405], -924338.109874782\n",
      "[0.40864805 0.83528165], -924254.7655583232\n",
      "[0.41036587 0.83366754], -924173.631980476\n",
      "[0.41214846 0.83197915], -924102.8310230866\n",
      "[0.41404178 0.83018302], -924041.4720695454\n",
      "[0.41596994 0.82835819], -923994.6635616836\n",
      "[0.41795693 0.82647272], -923961.975800597\n",
      "[0.41996491 0.82457064], -923946.5528160585\n",
      "[0.42197743 0.82265928], -923947.1412090885\n",
      "[0.42396957 0.82078202], -923964.0737325007\n",
      "[0.42591555 0.81894441], -923994.1256121895\n",
      "[0.42781701 0.81713566], -924037.0874008877\n",
      "[0.42962941 0.81540905], -924089.9544239087\n",
      "[0.43135039 0.81376855], -924151.9640268983\n",
      "[0.43294177 0.81225175], -924217.7741606318\n",
      "[0.43441709 0.81084191], -924287.0656525204\n",
      "[0.43572947 0.80958988], -924353.1515717622\n",
      "[0.43694241 0.80845278], -924418.5509183264\n",
      "[0.43796758 0.80749965], -924475.6689093434\n",
      "[0.43885684 0.80667383], -924527.473025805\n",
      "[0.43953883 0.80605311], -924566.3319743975\n",
      "[0.44006968 0.80557696], -924596.8051433985\n",
      "[0.44038221 0.8053184 ], -924611.2871189687\n",
      "[0.44055265 0.80518206], -924616.6154552414\n",
      "[0.44050113 0.80526733], -924605.0598649068\n",
      "[0.44031273 0.80547235], -924584.9733016818\n",
      "[0.43990547 0.80589571], -924549.0484961616\n",
      "[0.43936951 0.80643883], -924506.5228898309\n",
      "[0.43862595 0.80718788], -924450.9371865051\n",
      "[0.43775044 0.8080576 ], -924390.5821371931\n",
      "[0.43668546 0.8091139 ], -924321.9589425991\n",
      "[0.43550385 0.81025907], -924253.6772588665\n",
      "[0.4341584  0.81156365], -924182.6560117613\n",
      "[0.43271761 0.81294813], -924115.4767231032\n",
      "[0.43114574 0.81445812], -924052.3109456693\n",
      "[0.42951768 0.81602855], -923998.354430351\n",
      "[0.42779894 0.81768309], -923953.9046813281\n",
      "[0.42604628 0.81937004], -923922.7052847407\n",
      "[0.4242488  0.82109501], -923904.423375289\n",
      "[0.4224456  0.82282422], -923901.3460742893\n",
      "[0.42064768 0.82454411], -923912.6435416068\n",
      "[0.41888138 0.82623133], -923939.8669271444\n",
      "[0.41717487 0.82785695], -923980.6401536218\n",
      "[0.41553877 0.82941948], -924033.3680267398\n",
      "[0.41401286 0.83087409], -924093.8771204838\n",
      "[0.41257612 0.83223989], -924162.6586230365\n",
      "[0.41129842 0.83345374], -924232.4806498131\n",
      "[0.41014678 0.83455207], -924303.8956988248\n",
      "[0.40919544 0.83546222], -924368.3191542869\n",
      "[0.40837976 0.83625306], -924429.1973006943\n",
      "[0.40779808 0.83682736], -924476.2156203483\n",
      "[0.40737374 0.83725599], -924514.3856577014\n",
      "[0.4072039  0.83744985], -924533.3318731764\n",
      "[0.40718587 0.83748699], -924540.6100534857\n",
      "[0.40742819 0.8372848 ], -924527.2455747807\n",
      "[0.40782752 0.83693771], -924502.593731216\n",
      "[0.4084793  0.83635745], -924459.4704919497\n",
      "[0.4092838  0.83563619], -924408.1043359136\n",
      "[0.41031715 0.8347014 ], -924344.1778817478\n",
      "[0.41147693 0.83364709], -924277.5811564625\n",
      "[0.41283074 0.83240897], -924205.754087863\n",
      "[0.41427257 0.83106309], -924137.8582330738\n",
      "[0.41586412 0.82957222], -924072.3408578052\n",
      "[0.41751829 0.82800612], -924015.542227656\n",
      "[0.41927435 0.82633817], -923967.7566662737\n",
      "[0.42106369 0.82462675], -923933.1132616757\n",
      "[0.42290296 0.82286181], -923911.5435745642\n",
      "[0.42475448 0.82108201], -923905.4915293094\n",
      "[0.42660139 0.81930037], -923912.9853634204\n",
      "[0.42840555 0.81753604], -923935.0981194854\n",
      "[0.43015438 0.81581922], -923969.1369979281\n",
      "[0.43185396 0.81414595], -924014.6780040131\n",
      "[0.43345276 0.81256571], -924067.5052136783\n",
      "[0.43495116 0.81107228], -924127.0096618892\n",
      "[0.43630851 0.80971274], -924187.683125932\n",
      "[0.43755503 0.80845868], -924249.5979530689\n",
      "[0.43862934 0.8073713 ], -924306.9313239488\n",
      "[0.43959554 0.80639438], -924362.5128167926\n",
      "[0.44036531 0.80560977], -924408.4260328562\n",
      "[0.44100193 0.80495605], -924447.9352419754\n",
      "[0.44142669 0.80451168], -924474.0830350863\n",
      "[0.44170875 0.80420361], -924492.4209351251\n",
      "[0.44177016 0.80411417], -924495.2825122847\n",
      "[0.44170324 0.80417392], -924489.3239928369\n",
      "[0.44141606 0.80445187], -924468.1738747789\n",
      "[0.44099636 0.80485868], -924439.8339379939\n",
      "[0.44036507 0.80547386], -924398.4911723995\n",
      "[0.43959148 0.80620431], -924351.8403219588\n",
      "[0.43862214 0.80712583], -924295.978919421\n",
      "[0.43754705 0.80815252], -924239.2386902266\n",
      "[0.43630117 0.80934362], -924178.7648094485\n",
      "[0.43496767 0.8106168 ], -924121.6695911619\n",
      "[0.43349586 0.81202037], -924066.5923281861\n",
      "[0.43196639 0.81347466], -924019.4661088034\n",
      "[0.43033842 0.81501846], -923979.0996652629\n",
      "[0.42867193 0.81659968], -923949.7537731742\n",
      "[0.42695193 0.81822505], -923931.9882041019\n",
      "[0.42521518 0.81984903], -923928.8803069019\n",
      "[0.42347803 0.8214658 ], -923938.931233316\n",
      "[0.42176063 0.82305762], -923963.3138647528\n",
      "[0.4200973  0.82459158], -923999.1153065857\n",
      "[0.41849071 0.82606194], -924046.3699215878\n",
      "[0.41699175 0.82742463], -924100.5963358461\n",
      "[0.4155971 0.8286838], -924161.1881704368\n",
      "[0.41435884 0.82979114], -924222.206280076\n",
      "[0.41325056 0.83079835], -924284.8889493499\n",
      "[0.41234014 0.83161672], -924340.5331437351\n",
      "[0.41156841 0.8323179 ], -924392.5920663811\n",
      "[0.41102513 0.83280252], -924431.5682865297\n",
      "[0.41063339 0.8331359 ], -924461.3890240733\n",
      "[0.41048838 0.83323652], -924473.8231716091\n",
      "[0.41049038 0.83317289], -924475.3536269228\n",
      "[0.4107427  0.83287353], -924458.7515332393\n",
      "[0.41115007 0.83243424], -924433.3044622114\n",
      "[0.41179759 0.83176836], -924392.3742424235\n",
      "[0.4125862  0.83097605], -924345.4862647298\n",
      "[0.41358904 0.82997987], -924289.1747793056\n",
      "[0.41468802 0.82885727], -924232.8407316584\n",
      "[0.41596344 0.8275651 ], -924173.54544831\n",
      "[0.41732324 0.82618345], -924119.2441427395\n",
      "[0.41881405 0.82467174], -924068.9054266794\n",
      "[0.42036197 0.8231161 ], -924028.2996285304\n",
      "[0.42199084 0.82147704], -923996.1738621064\n",
      "[0.42363837 0.81981013], -923976.986700986\n",
      "[0.42531414 0.81810897], -923969.2315762722\n",
      "[0.42696864 0.81640113], -923974.8801962528\n",
      "[0.42859825 0.81470952], -923991.5525677399\n",
      "[0.43018401 0.81305497], -924020.6329336902\n",
      "[0.43169525 0.81146602], -924058.9056242098\n",
      "[0.43314073 0.80993339], -924106.4129377757\n",
      "[0.43446735 0.80851179], -924157.3282022626\n",
      "[0.43568662 0.80719192], -924211.5703732888\n",
      "[0.43675123 0.80602043], -924264.0651591206\n",
      "[0.43770328 0.80495239], -924316.2965648244\n",
      "[0.43847214 0.80406286], -924361.5788821628\n",
      "[0.43913128 0.80328037], -924403.3808084544\n",
      "[0.4395859  0.80269878], -924434.0157326084\n",
      "[0.43992227 0.80227525], -924457.9653281549\n",
      "[0.44004323 0.80206439], -924468.3360100129\n",
      "[0.44001508 0.80200595], -924470.0707694916\n",
      "[0.43976948 0.80216253], -924457.7186255234\n",
      "[0.43939194 0.80246071], -924437.9317884163\n",
      "[0.43880436 0.8029667 ], -924405.8140953213\n",
      "[0.43809086 0.80358791], -924368.9083488547\n",
      "[0.43718397 0.80439886], -924323.4445508701\n",
      "[0.4361697  0.80530208], -924277.2066776596\n",
      "[0.43498786 0.80636798], -924227.201023178\n",
      "[0.43372235 0.80752173], -924180.0714454197\n",
      "[0.43232105 0.8088052 ], -924133.9869711988\n",
      "[0.43085107 0.81015564], -924095.1372196126\n",
      "[0.42928709 0.81159342], -924062.4813433756\n",
      "[0.42767439 0.81305793], -924040.168506781\n",
      "[0.42601629 0.81456168], -924028.7004041151\n",
      "[0.42435237 0.81606007], -924029.7059742514\n",
      "[0.42269664 0.81754491], -924042.2262420234\n",
      "[0.4210818  0.81897721], -924066.6846884757\n",
      "[0.41952995 0.82034446], -924100.0652832509\n",
      "[0.41803179 0.82164635], -924142.5870087611\n",
      "[0.4166481  0.82283544], -924189.9724154356\n",
      "[0.4153576  0.82395556], -924242.8421005124\n",
      "[0.4142293  0.82491959], -924294.697655995\n",
      "[0.41324334 0.82576698], -924346.0057351232\n",
      "[0.41245967 0.82642188], -924389.7938412199\n",
      "[0.4118359 0.8269498], -924428.7825641449\n",
      "[0.41144478 0.82725939], -924454.4053992539\n",
      "[0.41120045 0.82741498], -924471.6228067115\n",
      "[0.41120167 0.82734038], -924472.477666001\n",
      "[0.41137622 0.82711998], -924463.5592533232\n",
      "[0.41179434 0.8266713 ], -924438.9729169742\n",
      "[0.41235923 0.82610428], -924407.8810024633\n",
      "[0.41314933 0.82532501], -924364.9766473455\n",
      "[0.41406206 0.82442633], -924319.3624022217\n",
      "[0.41516633 0.82334479], -924268.3240551037\n",
      "[0.41636022 0.82216463], -924219.5711281593\n",
      "[0.41770421 0.82083989], -924171.5201285594\n",
      "[0.41914269 0.81943738], -924129.9560142319\n",
      "[0.42068254 0.81793547], -924095.3273092033\n",
      "[0.4222767  0.81640412], -924072.1684075643\n",
      "[0.42391615 0.81482589], -924058.9774687242\n",
      "[0.42555784 0.81324017], -924057.9806911456\n",
      "[0.42719136 0.81165845], -924067.3458573751\n",
      "[0.4287934  0.81013397], -924088.2248965834\n",
      "[0.43033443 0.80866544], -924117.1711418714\n",
      "[0.43179361 0.80724462], -924154.3053887386\n",
      "[0.4331455  0.80592562], -924195.6363452399\n",
      "[0.43441455 0.80468671], -924241.5852943725\n",
      "[0.43553731 0.80359056], -924286.4193275647\n",
      "[0.43655529 0.80261614], -924331.5362413418\n",
      "[0.43739615 0.80181654], -924370.3837715738\n",
      "[0.43810058 0.80113897], -924405.6977969357\n",
      "[0.43860745 0.80065751], -924430.9512406894\n",
      "[0.43898702 0.80031699], -924450.3249557986\n",
      "[0.43915738 0.80018481], -924457.4871701397\n",
      "[0.43918242 0.80017316], -924458.4394056471\n",
      "[0.43899641 0.80037193], -924446.8715679869\n",
      "[0.43867007 0.80068607], -924429.1116416114\n",
      "[0.43814164 0.80120137], -924400.5480002624\n",
      "[0.43749434 0.80184382], -924368.3494651952\n",
      "[0.43666282 0.80266833], -924329.0268308909\n",
      "[0.43573533 0.80358893], -924289.3713824195\n",
      "[0.43465098 0.80466313], -924247.0427173864\n",
      "[0.43348966 0.8058077 ], -924208.0911753008\n",
      "[0.43220634 0.80707053], -924171.6005680764\n",
      "[0.43088332 0.80839764], -924142.1809780286\n",
      "[0.42948334 0.80979678], -924119.3404580528\n",
      "[0.42804457 0.81121449], -924106.5319069974\n",
      "[0.42657876 0.81265404], -924102.834612632\n",
      "[0.42510852 0.81408592], -924111.1316138617\n",
      "[0.42366565 0.81548658], -924128.958605702\n",
      "[0.42226442 0.81684202], -924156.814591217\n",
      "[0.42094428 0.81811457], -924191.4265316882\n",
      "[0.41969896 0.81932312], -924233.3133202968\n",
      "[0.41858517 0.82040108], -924277.178345606\n",
      "[0.41755738 0.82137784], -924323.5280029044\n",
      "[0.41670488 0.82218354], -924365.995134311\n",
      "[0.41599467 0.82285198], -924405.2613360327\n",
      "[0.41549283 0.82331937], -924434.8745110391\n",
      "[0.41512707 0.82366821], -924459.1639844832\n",
      "[0.41498978 0.82379823], -924470.1436826007\n",
      "[0.41499829 0.823817  ], -924474.6886823545\n",
      "[0.41524103 0.82361234], -924464.8298870595\n",
      "[0.41562962 0.82327805], -924447.6802643486\n",
      "[0.41624305 0.82272897], -924418.152918986\n",
      "[0.41697539 0.82202678], -924383.6188209556\n",
      "[0.41790902 0.82113049], -924341.1848175394\n",
      "[0.41896779 0.82012535], -924298.2348493302\n",
      "[0.42018982 0.81896165], -924253.5817516563\n",
      "[0.42150912 0.81773276], -924214.2573840084\n",
      "[0.42294375 0.81639012], -924179.0467155093\n",
      "[0.42442986 0.81500884], -924153.0649455534\n",
      "[0.42597764 0.81356518], -924135.4101070787\n",
      "[0.4275357  0.81209447], -924128.9764732479\n",
      "[0.42909937 0.81061658], -924131.8431767507\n",
      "[0.43063679 0.8091531 ], -924145.3743469933\n",
      "[0.43212747 0.80773506], -924166.9332131753\n",
      "[0.4335574  0.80636562], -924197.3842923654\n",
      "[0.43489163 0.8050905 ], -924232.6125363376\n",
      "[0.43614489 0.80391756], -924272.4668545861\n",
      "[0.43726003 0.80288137], -924311.6731864684\n",
      "[0.43824949 0.80196991], -924350.7165226359\n",
      "[0.43906972 0.80122782], -924384.487666782\n",
      "[0.43976513 0.80061351], -924415.2470334849\n",
      "[0.44026906 0.80019217], -924437.0227389153\n",
      "[0.44064113 0.79989121], -924453.8813793464\n",
      "[0.44081077 0.79979469], -924459.6622844051\n",
      "[0.44087637 0.79983641], -924459.9113267357\n",
      "[0.44073825 0.80008445], -924448.8549283689\n",
      "[0.44047402 0.80045837], -924432.5682173873\n",
      "[0.44001469 0.80102901], -924406.6639109309\n",
      "[0.43945261 0.80170023], -924378.5654712636\n",
      "[0.43871321 0.80254892], -924344.0731486868\n",
      "[0.43787538 0.80348414], -924309.915175039\n",
      "[0.43688781 0.80456763], -924273.4521747055\n",
      "[0.4358407  0.80572606], -924241.0824893386\n",
      "[0.4346795  0.80699538], -924210.5779285914\n",
      "[0.433463   0.80829433], -924187.3004941763\n",
      "[0.43217615 0.8096595 ], -924170.2118335449\n",
      "[0.43086296 0.81102614], -924162.2444578344\n",
      "[0.42953048 0.81240826], -924161.7879201659\n",
      "[0.42821521 0.81377158], -924171.0454623507\n",
      "[0.42693349 0.81509862], -924187.840795945\n",
      "[0.42568191 0.81638763], -924213.8484411415\n",
      "[0.42451715 0.81758887], -924245.0172942359\n",
      "[0.42343802 0.81872853], -924281.7599048605\n",
      "[0.42249416 0.81973356], -924318.8042836827\n",
      "[0.42163211 0.82064627], -924357.9233543368\n",
      "[0.42094609 0.82138636], -924392.0642459437\n",
      "[0.42038749 0.82199446], -924423.7541993817\n",
      "[0.42003374 0.82240255], -924445.8574484681\n",
      "[0.4198024  0.82267154], -924462.8501980052\n",
      "[0.41979096 0.82272738], -924467.7432829622\n",
      "[0.41992535 0.82264197], -924466.0399474899\n",
      "[0.42027913 0.82234326], -924452.3631095219\n",
      "[0.42076976 0.82191299], -924433.1520614065\n",
      "[0.42146409 0.82128346], -924404.8465247599\n",
      "[0.42226388 0.82055543], -924375.4551859874\n",
      "[0.42323727 0.81965662], -924341.5531612614\n",
      "[0.42429229 0.81867628], -924310.3732568696\n",
      "[0.42547897 0.81756311], -924279.5102898137\n",
      "[0.42672177 0.81636678], -924254.1742625138\n",
      "[0.4280468  0.81508334], -924233.6960110745\n",
      "[0.42940086 0.81377127], -924221.606145983\n",
      "[0.43078547 0.81242208], -924216.7304599329\n",
      "[0.43216642 0.81107891], -924221.4725493524\n",
      "[0.43352523 0.80975087], -924233.0261504109\n",
      "[0.43483179 0.80844371], -924252.8270894045\n",
      "[0.43606812 0.8072006 ], -924277.6894781719\n",
      "[0.43723786 0.80601622], -924308.4138234457\n",
      "[0.43829347 0.80494121], -924340.4686576708\n",
      "[0.43925016 0.80395782], -924374.6125734488\n",
      "[0.4400573  0.80312075], -924406.2045602296\n",
      "[0.44076407 0.80239998], -924437.2187016205\n",
      "[0.44129465 0.80185432], -924461.7660172809\n",
      "[0.44170034 0.80141782], -924483.1057338101\n",
      "[0.4419129  0.80117509], -924495.2797334003\n",
      "[0.44198406 0.80104513], -924502.4583597253\n",
      "[0.44185676 0.80111556], -924499.5080605102\n",
      "[0.44160843 0.80131081], -924492.3476066823\n",
      "[0.44116742 0.8017004 ], -924476.0285896636\n",
      "[0.44061747 0.80220283], -924457.0556946961\n",
      "[0.43989192 0.80288147], -924431.6582226126\n",
      "[0.43908429 0.80363872], -924406.1111778906\n",
      "[0.43812663 0.80454517], -924377.5931369007\n",
      "[0.43706994 0.80552459], -924351.857692433\n",
      "[0.4358993  0.80661489], -924327.4922491068\n",
      "[0.43468228 0.80774555], -924308.6564471252\n",
      "[0.43339357 0.80894493], -924294.162823082\n",
      "[0.43209141 0.81014474], -924287.8942666478\n",
      "[0.43076779 0.81136359], -924287.7762193921\n",
      "[0.42945707 0.81258802], -924295.4430872602\n",
      "[0.42817562 0.81378163], -924309.4687699408\n",
      "[0.42694136 0.81492465], -924331.0265878426\n",
      "[0.42578814 0.81598686], -924356.6632936858\n",
      "[0.42470869 0.81698445], -924386.8697148763\n",
      "[0.42375673 0.81785745], -924417.064858119\n",
      "[0.42291113 0.81863107], -924448.7146890196\n",
      "[0.42223256 0.81924421], -924476.0508960489\n",
      "[0.42168277 0.81974314], -924501.2722611829\n",
      "[0.42132895 0.82005417], -924518.0682268176\n",
      "[0.42111475 0.82025888], -924530.1859839591\n",
      "[0.42110984 0.82026454], -924531.877497575\n",
      "[0.42121785 0.82013965], -924529.2413645888\n",
      "[0.42153399 0.81981699], -924516.6023865688\n",
      "[0.4219814  0.81937656], -924500.351330042\n",
      "[0.42261946 0.81875421], -924476.47504613\n",
      "[0.42337207 0.81802368], -924451.7680595161\n",
      "[0.42428389 0.81714013], -924424.2767169527\n",
      "[0.4252735 0.8161912], -924399.9147112675\n",
      "[0.42637975 0.81512964], -924376.9302916378\n",
      "[0.42751099 0.81403399], -924359.7796060103\n",
      "[0.42871203 0.81286932], -924346.6430531382\n",
      "[0.42992404 0.81170162], -924341.3951943495\n",
      "[0.43115512 0.8105146 ], -924341.7274152957\n",
      "[0.43235282 0.80932477], -924350.0487965328\n",
      "[0.4335191  0.80816531], -924363.543912248\n",
      "[0.43464743 0.8070598 ], -924383.206720103\n",
      "[0.43569856 0.80603056], -924405.879809866\n",
      "[0.43666339 0.80506587], -924431.7335331308\n",
      "[0.43751158 0.80421716], -924457.3958361142\n",
      "[0.43828408 0.80346879], -924484.44017325\n",
      "[0.43890897 0.80286757], -924507.9632419974\n",
      "[0.43941468 0.80236801], -924529.8224690879\n",
      "[0.43975147 0.80203777], -924545.1748808769\n",
      "[0.43995392 0.80183151], -924556.5744203556\n",
      "[0.43997724 0.80180587], -924559.9972801403\n",
      "[0.43988134 0.80187995], -924560.220371546\n",
      "[0.43960687 0.80213362], -924552.6203653645\n",
      "[0.43924362 0.80251007], -924542.3994762017\n",
      "[0.43871327 0.80305357], -924526.0627553453\n",
      "[0.43811052 0.80368988], -924509.5583623631\n",
      "[0.43736314 0.80446939], -924489.7338200124\n",
      "[0.43653914 0.80534916], -924471.341147403\n",
      "[0.43560078 0.80634168], -924452.8081007896\n",
      "[0.43462553 0.80740124], -924438.5508615316\n",
      "[0.43357487 0.80853302], -924427.2791964496\n",
      "[0.43250365 0.80967944], -924422.500575015\n",
      "[0.43140264 0.81085171], -924422.404089599\n",
      "[0.43029304 0.81203537], -924428.6007586652\n",
      "[0.42920116 0.81319686], -924439.586983552\n",
      "[0.42811878 0.81431942], -924457.6244633968\n",
      "[0.42710216 0.81537105], -924479.1147863998\n",
      "[0.42613989 0.81634637], -924504.5700985016\n",
      "[0.42528957 0.81720522], -924530.0617401047\n",
      "[0.42451971 0.81797648], -924557.291727875\n",
      "[0.42389819 0.81859525], -924581.0917926056\n",
      "[0.42336785 0.81911036], -924603.5520197572\n",
      "[0.42301181 0.81944738], -924619.3404274589\n",
      "[0.42277554 0.81963485], -924631.1251003698\n",
      "[0.42272756 0.81963132], -924634.2299192373\n",
      "[0.42277683 0.81949708], -924633.1533200089\n",
      "[0.42301262 0.81917321], -924623.751307203\n",
      "[0.42335162 0.81873651], -924611.776296072\n",
      "[0.42386133 0.81812593], -924593.6902702217\n",
      "[0.42446927 0.81740356], -924574.9785262399\n",
      "[0.42521874 0.81653483], -924553.6785853725\n",
      "[0.42602757 0.81559748], -924535.4907691497\n",
      "[0.42693557 0.81455418], -924518.667950527\n",
      "[0.42788564 0.81346597], -924506.7630437816\n",
      "[0.4288883  0.81231817], -924498.4600815208\n",
      "[0.42989429 0.8111544 ], -924496.5642763614\n",
      "[0.43090383 0.80997861], -924499.3893586051\n",
      "[0.43188425 0.80881658], -924508.6059124535\n",
      "[0.43281848 0.80769235], -924521.8936537955\n",
      "[0.43370153 0.80660324], -924540.200252675\n",
      "[0.43449304 0.80559795], -924560.190221778\n",
      "[0.4351955  0.80463927], -924583.0893436525\n",
      "[0.43576978 0.80380287], -924604.3964308727\n",
      "[0.4362497  0.80303492], -924626.4146053692\n",
      "[0.43657414 0.80241949], -924643.8749095969\n",
      "[0.43680013 0.8019051 ], -924659.9206744968\n",
      "[0.43685368 0.80156231], -924669.1806321085\n",
      "[0.43680428 0.80133291], -924675.5573801642\n",
      "[0.43657589 0.80128242], -924674.2362432698\n",
      "[0.43623013 0.80132753], -924670.0731977341\n",
      "[0.43571099 0.80154606], -924658.9848839882\n",
      "[0.43510132 0.80185266], -924646.3421374493\n",
      "[0.43433397 0.80231693], -924628.7355851809\n",
      "[0.4334852  0.80285565], -924611.9049690418\n",
      "[0.43250482 0.80352445], -924592.9605850914\n",
      "[0.43147405 0.80425155], -924576.5134882547\n",
      "[0.43034751 0.80507311], -924560.8019187037\n",
      "[0.42917408 0.80593881], -924549.4433261687\n",
      "[0.42794789 0.806857  ], -924541.5667303966\n",
      "[0.42672079 0.80779195], -924539.8619863519\n",
      "[0.4254881  0.80873376], -924542.439042123\n",
      "[0.42427923 0.80966704], -924550.9982675147\n",
      "[0.4231161  0.81055802], -924563.476947069\n",
      "[0.42198648 0.8113945 ], -924581.1775043856\n",
      "[0.42095231 0.8121407 ], -924600.2894690143\n",
      "[0.41999652 0.81281764], -924621.990898782\n",
      "[0.41917917 0.81336447], -924641.5508285027\n",
      "[0.41846839 0.81382871], -924661.4031718789\n",
      "[0.41792964 0.81413195], -924675.8690772147\n",
      "[0.41750698 0.81431542], -924688.1023005769\n",
      "[0.41727502 0.81432089], -924692.5625409028\n",
      "[0.41716624 0.81421001], -924693.8765442293\n",
      "[0.41725038 0.81392062], -924687.2142914685\n",
      "[0.41744835 0.81352359], -924677.9816400144\n",
      "[0.41782662 0.81296118], -924662.5040500948\n",
      "[0.41832353 0.81230212], -924646.231927202\n",
      "[0.41897358 0.81150313], -924626.7399153371\n",
      "[0.41969453 0.81063077], -924609.6626547748\n",
      "[0.42052873 0.80965484], -924593.1350137403\n",
      "[0.42141225 0.80861774], -924581.9311002016\n",
      "[0.42235901 0.80752504], -924574.5850046208\n",
      "[0.42332541 0.80640729], -924573.7418795776\n",
      "[0.4242996  0.80528882], -924577.5734857904\n",
      "[0.42525415 0.80417966], -924587.3812266339\n",
      "[0.42616677 0.80311887], -924600.6960684225\n",
      "[0.42703072 0.80210506], -924619.5865874595\n",
      "[0.42780445 0.80118866], -924640.0862984351\n",
      "[0.4284917  0.80035483], -924662.9742872037\n",
      "[0.42904884 0.79965891], -924683.6594592347\n",
      "[0.42952122 0.79906631], -924704.3328548206\n",
      "[0.42983629 0.79863788], -924719.9712126192\n",
      "[0.43005604 0.79830528], -924733.9664959649\n",
      "[0.43010177 0.79815312], -924741.0743513705\n",
      "[0.42999794 0.79813144], -924744.1258541011\n",
      "[0.42971664 0.79829408], -924739.8594217728\n",
      "[0.42933121 0.79859289], -924732.5114746885\n",
      "[0.42878   0.7990642], -924719.1829605735\n",
      "[0.4281325  0.79963667], -924704.8483014352\n",
      "[0.42734166 0.80035802], -924687.3049049549\n",
      "[0.42649206 0.80114232], -924671.9387474112\n",
      "[0.42553417 0.80203905], -924656.7033900447\n",
      "[0.42454902 0.80299103], -924645.9583471593\n",
      "[0.42350025 0.80401026], -924637.9937561322\n",
      "[0.42243807 0.80504332], -924635.6113658779\n",
      "[0.42136361 0.80609199], -924637.3614810498\n",
      "[0.42030647 0.80711078], -924645.5445568651\n",
      "[0.4192921  0.80808986], -924657.4982328143\n",
      "[0.41831914 0.80904452], -924674.5554647682\n",
      "[0.41743904 0.80990992], -924693.1344626792\n",
      "[0.41666066 0.81070148], -924713.8060878539\n",
      "[0.41602013 0.81135917], -924732.4868295836\n",
      "[0.4154919  0.81189861], -924750.6849757927\n",
      "[0.41513317 0.8122736 ], -924763.30133875\n",
      "[0.41489005 0.81254233], -924773.2390513957\n",
      "[0.41483321 0.81263021], -924775.7218267885\n",
      "[0.41489271 0.81261767], -924776.1194394311\n",
      "[0.41513788 0.8124232 ], -924769.1217970309\n",
      "[0.41549327 0.8121049 ], -924759.3905516117\n",
      "[0.41601575 0.8116202 ], -924744.5491153802\n",
      "[0.41664695 0.81101862], -924729.596112226\n",
      "[0.41741061 0.81028077], -924712.8833842543\n",
      "[0.41822012 0.80947052], -924699.626684208\n",
      "[0.41911522 0.80856745], -924687.6850342149\n",
      "[0.4200334  0.80761485], -924680.9059778992\n",
      "[0.4209862  0.80661705], -924677.6091271337\n",
      "[0.42193845 0.80562584], -924680.2896788225\n",
      "[0.42287196 0.80464167], -924686.8709076716\n",
      "[0.42377289 0.80368904], -924698.9874500813\n",
      "[0.4246056  0.80279343], -924713.0127594043\n",
      "[0.42537904 0.80197215], -924730.4733867921\n",
      "[0.4260418  0.80125025], -924747.4350921396\n",
      "[0.42663203 0.80060925], -924765.6905568222\n",
      "[0.42707906 0.80010001], -924780.6269216908\n",
      "[0.4274233  0.79968587], -924795.2500308891\n",
      "[0.42760329 0.79942379], -924804.3561735398\n",
      "[0.42770795 0.79926409], -924811.6193355386\n",
      "[0.42764014 0.799265  ], -924812.6169943205\n",
      "[0.42746783 0.79937882], -924811.6852805298\n",
      "[0.42712689 0.79964936], -924804.90591457\n",
      "[0.42670303 0.80003423], -924796.852968381\n",
      "[0.42612693 0.80055901], -924784.6774960164\n",
      "[0.42547878 0.80115533], -924773.5778480448\n",
      "[0.42470556 0.8018635 ], -924760.9089789749\n",
      "[0.42386567 0.80261035], -924751.1186851755\n",
      "[0.42293899 0.80343123], -924742.3392570553\n",
      "[0.42196872 0.80428854], -924737.6931015647\n",
      "[0.42095678 0.80517449], -924735.7067299318\n",
      "[0.41993458 0.80606739], -924739.5452913606\n",
      "[0.41892158 0.8069392 ], -924746.4216918615\n",
      "[0.41794211 0.80776674], -924758.2847187818\n",
      "[0.41702101 0.80852598], -924771.8992198156\n",
      "[0.41617605 0.80920494], -924788.4964347974\n",
      "[0.41543357 0.80977356], -924804.3691006013\n",
      "[0.414754   0.81025264], -924821.1054754542\n",
      "[0.41421202 0.81058911], -924834.4537154313\n",
      "[0.41377996 0.81084143], -924846.4791569079\n",
      "[0.41350921 0.81092943], -924852.9560464831\n",
      "[0.41336915 0.81091795], -924857.2323618241\n",
      "[0.41339829 0.81073662], -924855.2287602356\n",
      "[0.41354234 0.81045269], -924851.0600200966\n",
      "[0.41384723 0.81000709], -924841.5261370688\n",
      "[0.41425999 0.80948357], -924831.3158819523\n",
      "[0.41480956 0.80882173], -924817.8999492142\n",
      "[0.41543731 0.80809515], -924806.7489721584\n",
      "[0.41616448 0.80726585], -924795.310811898\n",
      "[0.41694134 0.80636529], -924787.6751873592\n",
      "[0.41777207 0.80540613], -924781.7663712451\n",
      "[0.41863784 0.80442264], -924780.156446661\n",
      "[0.41951117 0.80342643], -924781.5898360554\n",
      "[0.42037874 0.80241862], -924788.1462812994\n",
      "[0.42120354 0.80144849], -924797.083927665\n",
      "[0.42199939 0.80051273], -924811.2047311366\n",
      "[0.42270479 0.79966295], -924825.9483898915\n",
      "[0.42332395 0.79888226], -924842.9388265071\n",
      "[0.42381544 0.79822476], -924857.8490371726\n",
      "[0.424209   0.79763906], -924873.3481132294\n",
      "[0.4244484  0.79720489], -924884.3707968743\n",
      "[0.42455667 0.79689072], -924893.4296320495\n",
      "[0.42449716 0.79674303], -924896.4493599907\n",
      "[0.42432207 0.79667857], -924897.2900736852\n",
      "[0.42398146 0.79678029], -924892.3101951294\n",
      "[0.42352155 0.79698745], -924886.1068667285\n",
      "[0.42290972 0.79734796], -924875.3578448283\n",
      "[0.42225276 0.79777396], -924866.0022462218\n",
      "[0.42146929 0.79832944], -924854.3778205393\n",
      "[0.42060348 0.79892931], -924844.5252816201\n",
      "[0.41964958 0.79962114], -924835.0336953452\n",
      "[0.41867368 0.80035976], -924829.5326642076\n",
      "[0.41765636 0.80114567], -924826.2954783904\n",
      "[0.4166258  0.80194087], -924828.4436192523\n",
      "[0.41560535 0.80273445], -924833.6223830578\n",
      "[0.4146115  0.80351056], -924843.6361106453\n",
      "[0.41368167 0.80423396], -924855.7357863361\n",
      "[0.41281739 0.80489255], -924871.6952862843\n",
      "[0.41206553 0.80545279], -924887.1877359332\n",
      "[0.41139987 0.80593663], -924903.5407576866\n",
      "[0.41088623 0.80628366], -924916.4368877206\n",
      "[0.4104708  0.80652051], -924928.4322064272\n",
      "[0.41022978 0.80659904], -924934.7667604508\n",
      "[0.41009469 0.80657129], -924938.9784943549\n",
      "[0.41014153 0.80637835], -924936.7838850043\n",
      "[0.41030852 0.80609148], -924932.7855412855\n",
      "[0.41064651 0.80565003], -924923.4955557567\n",
      "[0.41105881 0.8051446 ], -924914.1984264165\n",
      "[0.41161561 0.80450945], -924901.9387948903\n",
      "[0.4122587  0.80381861], -924891.5936361302\n",
      "[0.41300828 0.80303529], -924880.8882428703\n",
      "[0.41379368 0.80220929], -924873.6286832796\n",
      "[0.41463884 0.80133566], -924868.1671132295\n",
      "[0.41547393 0.80044211], -924867.7323524283\n",
      "[0.41631638 0.79955201], -924870.1472906664\n",
      "[0.41715502 0.79868645], -924877.9647078093\n",
      "[0.41795103 0.79787373], -924887.7780059571\n",
      "[0.41868783 0.797126  ], -924900.8897877508\n",
      "[0.41933437 0.79647731], -924913.7023279705\n",
      "[0.4199074  0.79591831], -924928.4476513375\n",
      "[0.42035338 0.7954953 ], -924940.5865824068\n",
      "[0.42068791 0.79520019], -924951.8939845418\n",
      "[0.42087145 0.79506328], -924958.3017816751\n",
      "[0.42095167 0.79502373], -924963.7118942981\n",
      "[0.42087147 0.79515031], -924963.4474982593\n",
      "[0.42068362 0.79537119], -924961.6374985438\n",
      "[0.42034069 0.79575166], -924954.8473609813\n",
      "[0.41991225 0.79622529], -924947.5034827678\n",
      "[0.41934972 0.79683389], -924937.2867057468\n",
      "[0.41872992 0.79752499], -924928.8854861975\n",
      "[0.41801161 0.79831442], -924920.1348650622\n",
      "[0.41725663 0.79913041], -924915.2280594007\n",
      "[0.41644875 0.79999881], -924911.9122821799\n",
      "[0.41565163 0.80084234], -924913.7737794959\n",
      "[0.41485217 0.80168779], -924917.6026190213\n",
      "[0.41406612 0.80251496], -924925.925061894\n",
      "[0.41332531 0.80329814], -924935.3659254351\n",
      "[0.41261821 0.80405718], -924948.7026247252\n",
      "[0.41200089 0.80472866], -924961.7284728724\n",
      "[0.41147394 0.80531441], -924976.3126983129\n",
      "[0.41107264 0.80577622], -924988.3161272559\n",
      "[0.41075996 0.80611682], -925000.1492737833\n",
      "[0.41059663 0.8063093 ], -925007.4486952911\n",
      "[0.41052396 0.80640317], -925013.3037334686\n",
      "[0.41060873 0.80634176], -925013.8171085817\n",
      "[0.410778   0.80618075], -925013.2391461905\n",
      "[0.41109826 0.80586973], -925007.9698864876\n",
      "[0.41149816 0.80546513], -925002.4810345031\n",
      "[0.41202534 0.80493445], -924994.364608452\n",
      "[0.41261745 0.80432508], -924987.3245713094\n",
      "[0.4132989  0.80362525], -924980.0756698009\n",
      "[0.41402587 0.80288865], -924976.242506725\n",
      "[0.41479442 0.80210723], -924973.6463249814\n",
      "[0.41556492 0.8012778 ], -924975.7652449261\n",
      "[0.41632673 0.80045104], -924979.6543181682\n",
      "[0.41705234 0.79964405], -924987.7648292592\n",
      "[0.41772022 0.79888885], -924996.6662153293\n",
      "[0.41833435 0.79816371], -925008.0013940869\n",
      "[0.41885218 0.79752917], -925018.292266036\n",
      "[0.41931869 0.7969475 ], -925030.1100759042\n",
      "[0.41965619 0.796489  ], -925038.9809030371\n",
      "[0.4199252  0.79609398], -925048.1246295054\n",
      "[0.42004539 0.79584344], -925052.8713699998\n",
      "[0.42007315 0.79567937], -925057.1324051761\n",
      "[0.41994531 0.79566671], -925056.3692260721\n",
      "[0.41973089 0.79574835], -925054.4537885983\n",
      "[0.41936805 0.79597416], -925047.9632793705\n",
      "[0.41893513 0.79627179], -925041.319269979\n",
      "[0.41837381 0.79669496], -925031.8181362058\n",
      "[0.41772341 0.79716223], -925023.6964571717\n",
      "[0.41697557 0.79772321], -925014.7619801183\n",
      "[0.41619397 0.79832969], -925009.9022046749\n",
      "[0.41536078 0.79898517], -925006.0193733261\n",
      "[0.41452052 0.79962284], -925006.4602078819\n",
      "[0.41367617 0.80026413], -925008.5278112828\n",
      "[0.41282621 0.80088504], -925014.5922377213\n",
      "[0.41202227 0.8014627 ], -925021.8629253705\n",
      "[0.41128123 0.80198658], -925032.6875187613\n",
      "[0.41063381 0.80242346], -925042.9185187059\n",
      "[0.41004387 0.80282928], -925054.9536861771\n",
      "[0.40958407 0.80311278], -925064.396240605\n",
      "[0.40921873 0.80330321], -925073.7582115994\n",
      "[0.40900932 0.80334722], -925078.4683480534\n",
      "[0.40891574 0.80330023], -925081.9162210777\n",
      "[0.40898573 0.80310134], -925080.0559157688\n",
      "[0.40915706 0.80279406], -925077.26905151\n",
      "[0.40948198 0.80234528], -925070.0997525179\n",
      "[0.40989286 0.80181636], -925063.4978968871\n",
      "[0.41043044 0.80117295], -925054.5607610855\n",
      "[0.41101989 0.80047561], -925048.2622003431\n",
      "[0.41169579 0.7997041 ], -925041.8145587684\n",
      "[0.41239397 0.79890533], -925039.3710908192\n",
      "[0.41312907 0.79808135], -925038.0624830392\n",
      "[0.41384466 0.79725171], -925040.540457845\n",
      "[0.41454829 0.79644661], -925044.4993030226\n",
      "[0.41521351 0.79568297], -925052.8816194191\n",
      "[0.41581862 0.79499219], -925061.575714982\n",
      "[0.41637626 0.79438524], -925072.3705471705\n",
      "[0.41683374 0.79389134], -925081.3662351806\n",
      "[0.41724017 0.79346798], -925090.884720852\n",
      "[0.41752227 0.79318292], -925096.8883202291\n",
      "[0.41772565 0.79297032], -925103.4405660727\n",
      "[0.41778998 0.79291045], -925105.561248213\n",
      "[0.41774626 0.79293362], -925106.7265771166\n",
      "[0.41756481 0.79310822], -925103.4266708755\n",
      "[0.41730312 0.79338092], -925099.8961515126\n",
      "[0.41691851 0.79379013], -925092.9553291372\n",
      "[0.41647221 0.79431156], -925086.7127040703\n",
      "[0.41593224 0.79494013], -925079.1866042041\n",
      "[0.41534064 0.79562113], -925074.4756388679\n",
      "[0.41469862 0.79636534], -925070.3325241664\n",
      "[0.41405369 0.79712328], -925069.4482842917\n",
      "[0.41340718 0.79789507], -925069.7486097143\n",
      "[0.41277572 0.79863915], -925073.896867938\n",
      "[0.41219127 0.79934852], -925078.8239669919\n",
      "[0.41168409 0.80000824], -925086.8298319929\n",
      "[0.41126687 0.80058938], -925093.9308132365\n",
      "[0.41093339 0.80110743], -925101.1969992834\n",
      "[0.4107225  0.80151469], -925105.7002309959\n",
      "[0.41061877 0.80185599], -925110.8366823278\n",
      "[0.4106556  0.80206822], -925111.9584791666\n",
      "[0.41077397 0.8021877 ], -925112.596624056\n",
      "[0.41103691 0.80217376], -925108.9741896607\n",
      "[0.4113886  0.80206673], -925105.0624738139\n",
      "[0.4118702  0.80183689], -925097.7921140165\n",
      "[0.41244537 0.80152966], -925090.7154254405\n",
      "[0.41312092 0.80112616], -925082.1529754646\n",
      "[0.41383215 0.80067016], -925075.1416162456\n",
      "[0.41460101 0.80015644], -925068.1153835278\n",
      "[0.41537225 0.79959381], -925064.7926585921\n",
      "[0.41615642 0.7990156 ], -925062.1758166812\n",
      "[0.41693704 0.79846546], -925063.2076099808\n",
      "[0.41768253 0.79794563], -925064.6082632255\n",
      "[0.41839525 0.79746983], -925069.0813108672\n",
      "[0.4190312  0.79706417], -925072.8038567335\n",
      "[0.4195841  0.79672027], -925077.0963613546\n",
      "[0.4200276  0.79647697], -925078.9437161332\n",
      "[0.42037088 0.79630107], -925080.603320886\n",
      "[0.42058545 0.79624512], -925078.8185082385\n",
      "[0.42069081 0.79626807], -925077.1540308887\n",
      "[0.42066405 0.79641403], -925071.7091124736\n",
      "[0.42056201 0.79664438], -925066.7291363915\n",
      "[0.4203366 0.7969864], -925058.621294031\n",
      "[0.42002094 0.79738859], -925051.7691754467\n",
      "[0.41960564 0.79787881], -925043.0210344036\n",
      "[0.4191515 0.7983933], -925035.7911432077\n",
      "[0.41862855 0.79896561], -925027.9065056457\n",
      "[0.41809045 0.79954688], -925022.977404493\n",
      "[0.41752218 0.80014605], -925018.3299973604\n",
      "[0.41697615 0.8007381 ], -925017.6569643216\n",
      "[0.41643828 0.80130916], -925017.0081542276\n",
      "[0.41591869 0.80184073], -925019.2704206612\n",
      "[0.41544581 0.80231173], -925020.9447734264\n",
      "[0.41502565 0.80273692], -925024.5467152838\n",
      "[0.41468486 0.80307114], -925026.4437219192\n",
      "[0.41439854 0.80334729], -925029.6787766358\n",
      "[0.41421566 0.80350957], -925030.0948113463\n",
      "[0.41410262 0.80358643], -925030.6668154263\n",
      "[0.41410414 0.80353797], -925027.7889976619\n",
      "[0.41416491 0.80340843], -925024.5646295628\n",
      "[0.41433947 0.80315477], -925017.9239909183\n",
      "[0.41456986 0.80282944], -925011.8443989679\n",
      "[0.41489835 0.80239573], -925003.4690779354\n",
      "[0.41526917 0.80191899], -924997.5777829287\n",
      "[0.41570794 0.80136441], -924990.6256235304\n",
      "[0.41619584 0.80075575], -924985.7930899495\n",
      "[0.41671444 0.80010458], -924981.063005574\n",
      "[0.4172448  0.79944679], -924979.9023291129\n",
      "[0.4177641  0.79878957], -924979.0267135825\n",
      "[0.41825078 0.79814226], -924981.1511451878\n",
      "[0.41868412 0.79753932], -924982.9365628549\n",
      "[0.41907979 0.79695287], -924986.5673509296\n",
      "[0.41938811 0.79644478], -924988.7574598101\n",
      "[0.4196208  0.79598431], -924992.4760741225\n",
      "[0.41973737 0.79563113], -924993.370735083\n",
      "[0.4197681  0.79534054], -924995.3209969562\n",
      "[0.41966884 0.79517191], -924993.7686230497\n",
      "[0.41949319 0.7951006 ], -924992.5194426186\n",
      "[0.4191875  0.79515252], -924987.6690868904\n",
      "[0.41879467 0.79527198], -924983.674554017\n",
      "[0.41828823 0.79550015], -924976.9150070593\n",
      "[0.41773038 0.79575067], -924971.5832436361\n",
      "[0.41708675 0.79608333], -924964.7802792544\n",
      "[0.41638652 0.79646014], -924960.2663435847\n",
      "[0.41564046 0.79688033], -924955.6164595867\n",
      "[0.41488059 0.79730398], -924953.9794025529\n",
      "[0.41411867 0.7977292 ], -924952.5578275478\n",
      "[0.41336143 0.798136  ], -924954.334729875\n",
      "[0.41264678 0.79850091], -924955.784765142\n",
      "[0.41197871 0.7988327 ], -924959.1190068218\n",
      "[0.41139307 0.79908731], -924960.9617327708\n",
      "[0.41087988 0.7992953 ], -924964.5352196837\n",
      "[0.41047791 0.79940029], -924965.5866371896\n",
      "[0.41018609 0.79944661], -924967.2045726577\n",
      "[0.41002376 0.79937383], -924965.1946926921\n",
      "[0.40993911 0.79923645], -924963.6132116041\n",
      "[0.40998266 0.79898264], -924958.4848334655\n",
      "[0.41012912 0.79866058], -924953.9099778838\n",
      "[0.41038977 0.79823689], -924946.7145767194\n",
      "[0.41070843 0.79778182], -924941.1023218238\n",
      "[0.41110951 0.79725594], -924934.2960596238\n",
      "[0.41150623 0.79668883], -924930.4267000011\n",
      "[0.41194469 0.79608983], -924926.3564043215\n",
      "[0.41239795 0.7955008 ], -924925.5352909984\n",
      "[0.41285158 0.79492084], -924924.6593824246\n",
      "[0.41329162 0.79435992], -924926.7484241043\n",
      "[0.41369079 0.79384801], -924928.3596128643\n",
      "[0.41407935 0.79339865], -924931.533004848\n",
      "[0.41439357 0.79303145], -924933.1844545476\n",
      "[0.41463359 0.79274498], -924936.0706119053\n",
      "[0.41477557 0.79256392], -924936.4214601695\n",
      "[0.4148707  0.79246334], -924937.534720437\n",
      "[0.41485427 0.79247939], -924935.4542974881\n",
      "[0.41478104 0.79255107], -924934.0489198462\n",
      "[0.41459496 0.79273966], -924929.378696889\n",
      "[0.41436036 0.79300023], -924926.186327171\n",
      "[0.41402634 0.79336204], -924920.4722179906\n",
      "[0.41365787 0.79379721], -924916.3664896712\n",
      "[0.41321573 0.79430693], -924910.7673204084\n",
      "[0.41274319 0.79488172], -924907.7781801671\n",
      "[0.41223101 0.79549585], -924904.1278012358\n",
      "[0.41171752 0.79610682], -924903.180717087\n",
      "[0.41120186 0.79671833], -924902.0711898865\n",
      "[0.41071315 0.79730318], -924903.6944237988\n",
      "[0.41026398 0.79784549], -924904.7198059902\n",
      "[0.40984239 0.79835128], -924908.0794660671\n",
      "[0.40949533 0.79877811], -924909.8890000649\n",
      "[0.40920743 0.79914107], -924914.1777103612\n",
      "[0.40902053 0.7993974 ], -924915.8592703637\n",
      "[0.40887729 0.79960377], -924918.7991292101\n",
      "[0.40884928 0.79968662], -924918.3128839645\n",
      "[0.408885   0.79970189], -924918.6864742273\n",
      "[0.40903437 0.79959389], -924915.59717562\n",
      "[0.40926919 0.79942864], -924914.0208908152\n",
      "[0.40959955 0.79915637], -924909.8486051908\n",
      "[0.41000583 0.79882067], -924906.8405815668\n",
      "[0.4104766  0.79840673], -924902.6641069957\n",
      "[0.41097483 0.79794451], -924901.799556074\n",
      "[0.4114941  0.79744417], -924900.660456798\n",
      "[0.4120178  0.79692284], -924902.5723998202\n",
      "[0.41251922 0.79640504], -924904.2738587288\n",
      "[0.41298101 0.79590015], -924908.9340694479\n",
      "[0.41337777 0.79544079], -924912.5919270163\n",
      "[0.41371342 0.79502886], -924918.5238749364\n",
      "[0.41394837 0.79469634], -924922.3923559405\n",
      "[0.41410553 0.79445336], -924926.7452069792\n",
      "[0.4141397 0.7943112], -924927.9261555636\n",
      "[0.41408831 0.79422931], -924930.0672378404\n",
      "[0.41390937 0.79425546], -924928.7956195038\n",
      "[0.41364923 0.79438846], -924927.7163457838\n",
      "[0.41326941 0.79462259], -924923.4714816912\n",
      "[0.41285099 0.79493157], -924920.7162305715\n",
      "[0.41233789 0.7953181 ], -924916.1071329026\n",
      "[0.41176947 0.79574028], -924913.8077234613\n",
      "[0.41114088 0.79620474], -924910.7253455183\n",
      "[0.410504   0.79670902], -924911.4060939526\n",
      "[0.40985273 0.79721211], -924911.9473705884\n",
      "[0.40922049 0.79769604], -924915.7091053033\n",
      "[0.40861872 0.79813426], -924918.9210771006\n",
      "[0.40806924 0.79855709], -924925.2905604113\n",
      "[0.40759118 0.79889701], -924930.052817909\n",
      "[0.40715583 0.79919806], -924936.6259509671\n",
      "[0.4068215  0.79938942], -924940.7015615939\n",
      "[0.40658255 0.79953353], -924945.293072297\n",
      "[0.40646524 0.7995505 ], -924946.2713790098\n",
      "[0.4064409  0.79947337], -924947.4102133471\n",
      "[0.40653755 0.79926989], -924945.0373211215\n",
      "[0.40667357 0.79898472], -924942.9995253638\n",
      "[0.40691215 0.79859078], -924938.401634825\n",
      "[0.4071947  0.79813765], -924935.3710800646\n",
      "[0.40754831 0.79760546], -924930.9384024716\n",
      "[0.40793175 0.79704645], -924928.3284638704\n",
      "[0.40834395 0.79645065], -924925.3515273042\n",
      "[0.40877707 0.79586428], -924925.3718158643\n",
      "[0.40919205 0.79528834], -924925.2193559168\n",
      "[0.40961062 0.79473454], -924928.3704788446\n",
      "[0.40996497 0.79423813], -924930.5704256835\n",
      "[0.41027988 0.79380421], -924935.1531616697\n",
      "[0.41049541 0.79346393], -924937.3757103275\n",
      "[0.41063446 0.79315548], -924941.3046370265\n",
      "[0.41065015 0.79296447], -924941.9808113568\n",
      "[0.41057222 0.79284934], -924942.8849697708\n",
      "[0.4103637  0.79285931], -924940.2201976483\n",
      "[0.4100735  0.79297399], -924937.8330080593\n",
      "[0.40966194 0.7932058 ], -924932.2865929671\n",
      "[0.40919472 0.79347152], -924928.0335813796\n",
      "[0.40863145 0.79382984], -924921.7661614727\n",
      "[0.40807159 0.79423879], -924917.9372321273\n",
      "[0.40745396 0.79470252], -924913.2796745051\n",
      "[0.40685337 0.79517428], -924912.059262755\n",
      "[0.40624019 0.79565793], -924910.2935495665\n",
      "[0.40564452 0.79611212], -924912.1458643076\n",
      "[0.40508221 0.79653547], -924913.2815752154\n",
      "[0.40452667 0.79695196], -924917.7757535352\n",
      "[0.40404533 0.79730001], -924920.9092814241\n",
      "[0.40362908 0.79757795], -924925.7041749809\n",
      "[0.40331628 0.79775925], -924927.8595992058\n",
      "[0.40306993 0.79785535], -924931.3464762981\n",
      "[0.4029416  0.79784003], -924931.5522264029\n",
      "[0.40290194 0.79773873], -924932.0078706788\n",
      "[0.40298013 0.7975272 ], -924929.2242966142\n",
      "[0.40310877 0.79724318], -924926.7781560245\n",
      "[0.40333467 0.7968679 ], -924921.9947229271\n",
      "[0.40357167 0.79644561], -924919.6935073684\n",
      "[0.40387235 0.79596291], -924916.1708367913\n",
      "[0.40420531 0.79545559], -924915.873430044\n",
      "[0.40456105 0.79492752], -924915.0156639344\n",
      "[0.40495028 0.79438064], -924917.8537010585\n",
      "[0.40531629 0.7938567 ], -924920.1314396564\n",
      "[0.40565413 0.79334456], -924925.4057760128\n",
      "[0.40592582 0.79289616], -924929.535644427\n",
      "[0.40612115 0.79248802], -924936.7218656864\n",
      "[0.40621541 0.79217806], -924941.4939145616\n",
      "[0.40626387 0.79193942], -924947.2731598199\n",
      "[0.40619136 0.79181867], -924949.8434028389\n",
      "[0.40602866 0.79175211], -924953.3286594978\n",
      "[0.40574041 0.79180796], -924953.3133554872\n",
      "[0.40535055 0.79192681], -924954.4069359311\n",
      "[0.40484695 0.79215691], -924952.6400901992\n",
      "[0.40432454 0.79246188], -924953.5622462229\n",
      "[0.40371836 0.7928476 ], -924952.6413557968\n",
      "[0.40307761 0.79327611], -924954.4165805847\n",
      "[0.40239281 0.79374719], -924955.2789999915\n",
      "[0.40170441 0.79420971], -924959.2020461962\n",
      "[0.40101834 0.79467072], -924962.7713312763\n",
      "[0.40030817 0.79508168], -924968.9732167745\n",
      "[0.39964956 0.79544458], -924974.2419516913\n",
      "[0.39903648 0.79575948], -924981.3042600079\n",
      "[0.39851578 0.79598776], -924986.284048037\n",
      "[0.39806418 0.79617185], -924992.6254827423\n",
      "[0.39773075 0.79624617], -924995.8907871702\n",
      "[0.39750117 0.79624986], -925000.1423108415\n",
      "[0.39739883 0.79613697], -925000.8705362633\n",
      "[0.39738121 0.79595694], -925002.6887671995\n",
      "[0.39748157 0.79566928], -925001.4780820613\n",
      "[0.39764374 0.79534063], -925001.7984987809\n",
      "[0.39789352 0.7949316 ], -925000.1967218178\n",
      "[0.39817709 0.79451562], -925001.7883354625\n",
      "[0.39850554 0.79405731], -925002.5905546416\n",
      "[0.39886572 0.79357121], -925006.5454065537\n",
      "[0.39922422 0.79308537], -925009.7490987494\n",
      "[0.39952756 0.79262404], -925015.4042168773\n",
      "[0.39978406 0.79220745], -925020.0482054121\n",
      "[0.40004086 0.79182015], -925027.9914590415\n",
      "[0.40021182 0.79151474], -925033.9665418277\n",
      "[0.40030737 0.79126472], -925041.4535564597\n",
      "[0.40029118 0.79112115], -925046.0681415572\n",
      "[0.40022719 0.79103887], -925052.2437329554\n",
      "[0.40004032 0.79107323], -925054.8726315139\n",
      "[0.39976661 0.79117587], -925058.7986441195\n",
      "[0.39937491 0.79139109], -925059.5196301242\n",
      "[0.39891989 0.79166843], -925061.6736666091\n",
      "[0.39837401 0.79203242], -925061.8005414001\n",
      "[0.39780518 0.79241725], -925064.1838978959\n",
      "[0.3971875  0.79284887], -925065.6014445628\n",
      "[0.39655035 0.79328281], -925070.0029845439\n",
      "[0.39591072 0.79372081], -925073.8835780859\n",
      "[0.39531115 0.79412373], -925081.4877152386\n",
      "[0.39475538 0.79448895], -925087.8331289437\n",
      "[0.39423499 0.79479726], -925096.79729968\n",
      "[0.39379728 0.79503457], -925103.6653889017\n",
      "[0.39342606 0.79523741], -925111.8514367063\n",
      "[0.39316495 0.7953456 ], -925117.1641534788\n",
      "[0.39297669 0.79536606], -925122.8102869636\n",
      "[0.39290652 0.7952847 ], -925125.1315519429\n",
      "[0.39291897 0.79513603], -925128.2247807984\n",
      "[0.39303867 0.79489521], -925128.6418226096\n",
      "[0.39321732 0.79459611], -925130.8820273598\n",
      "[0.39347555 0.79423204], -925131.4599114974\n",
      "[0.39378458 0.79383453], -925134.9421724235\n",
      "[0.3941326  0.79341189], -925137.3673576907\n",
      "[0.39449263 0.7930428 ], -925142.8466589056\n",
      "[0.39484451 0.79269221], -925147.5716250316\n",
      "[0.3951378  0.79238422], -925154.1999792831\n",
      "[0.39538269 0.79213312], -925159.230771468\n",
      "[0.39561563 0.79192177], -925165.626698973\n",
      "[0.39576968 0.79179553], -925169.8096728224\n",
      "[0.3958822  0.79171173], -925175.6621384136\n",
      "[0.39589327 0.79173335], -925178.6043045055\n",
      "[0.39585268 0.7918009 ], -925182.8179191236\n",
      "[0.39570587 0.79197759], -925183.8885139407\n",
      "[0.39550338 0.79221225], -925185.9902163177\n",
      "[0.3952038  0.79254552], -925185.3729956829\n",
      "[0.39487761 0.7929494 ], -925186.3740675283\n",
      "[0.39447683 0.79342735], -925185.5031858903\n",
      "[0.39403257 0.79393734], -925186.6870931283\n",
      "[0.39355158 0.79448312], -925186.771343437\n",
      "[0.39303674 0.79502337], -925190.1048137578\n",
      "[0.3925331  0.79555313], -925192.4941878007\n",
      "[0.39208799 0.79605776], -925196.9911754831\n",
      "[0.39169603 0.79650932], -925199.910672991\n",
      "[0.39137345 0.79693439], -925205.4126924258\n",
      "[0.39113616 0.79727296], -925208.5533325425\n",
      "[0.39098439 0.79754387], -925213.1689763761\n",
      "[0.39093847 0.79770883], -925214.4895080996\n",
      "[0.3909271  0.79778394], -925216.5134816656\n",
      "[0.39101966 0.79775543], -925215.4478622954\n",
      "[0.39117255 0.79768101], -925215.8172277297\n",
      "[0.39141062 0.79751838], -925213.7402786497\n",
      "[0.39171456 0.7973127 ], -925213.6786662741\n",
      "[0.39207142 0.79704861], -925211.9399274449\n",
      "[0.39247982 0.79673558], -925213.8516316978\n",
      "[0.39289151 0.79640862], -925214.9777389829\n",
      "[0.39328092 0.79608662], -925219.7038017653\n",
      "[0.39362518 0.79579497], -925223.1722693131\n",
      "[0.39392932 0.7955595 ], -925229.4583600519\n",
      "[0.39414939 0.79539089], -925233.5500015691\n",
      "[0.3943032  0.79525267], -925238.9711542262\n",
      "[0.39434559 0.79520642], -925241.4540463642\n",
      "[0.3943206  0.79521975], -925245.1846165567\n",
      "[0.39417508 0.79533237], -925245.627978965\n",
      "[0.39391835 0.79551823], -925247.6815391044\n",
      "[0.39355356 0.79579374], -925246.8028418159\n",
      "[0.39310203 0.79608606], -925247.105507345\n",
      "[0.39257081 0.79644222], -925245.5321415088\n",
      "[0.39202593 0.79677147], -925246.8830461802\n",
      "[0.39144117 0.79712787], -925246.9896174548\n",
      "[0.39085608 0.79747865], -925250.253752876\n",
      "[0.39027839 0.79781386], -925252.3912604349\n",
      "[0.38971378 0.79811055], -925257.8242156504\n",
      "[0.38919969 0.79835257], -925261.6235350744\n",
      "[0.38877081 0.79850295], -925267.3526061944\n",
      "[0.38842537 0.7985704 ], -925270.5706739433\n",
      "[0.38812451 0.79859207], -925275.832362857\n",
      "[0.38792499 0.79851777], -925278.2842599151\n",
      "[0.38775636 0.79840339], -925283.2172224913\n",
      "[0.38769254 0.7981927 ], -925285.0918074236\n",
      "[0.38770129 0.79794526], -925289.3656338518\n",
      "[0.38779761 0.79761948], -925291.1190088467\n",
      "[0.38792135 0.79726598], -925294.7202625233\n",
      "[0.38810098 0.79686792], -925296.630933809\n",
      "[0.38827387 0.79643135], -925302.206811568\n",
      "[0.38846374 0.79599077], -925306.5833560124\n",
      "[0.38862292 0.79558642], -925313.2313313574\n",
      "[0.38876283 0.79521614], -925318.3167029304\n",
      "[0.38889108 0.79489474], -925326.3255325223\n",
      "[0.38897122 0.79463519], -925332.2333763845\n",
      "[0.38903813 0.79444869], -925340.2291922381\n",
      "[0.38903673 0.79434559], -925345.6121533575\n",
      "[0.38898055 0.7942996 ], -925352.8782700994\n",
      "[0.38884884 0.79434453], -925357.2966001874\n",
      "[0.38870934 0.79443949], -925363.5528107523\n",
      "[0.38849994 0.79462097], -925367.0386163763\n",
      "[0.38822542 0.79487193], -925372.6645389252\n",
      "[0.38790014 0.7951924 ], -925375.9790449239\n",
      "[0.38753587 0.79556455], -925381.8099617523\n",
      "[0.38715049 0.79597878], -925385.7629654427\n",
      "[0.38680019 0.79637495], -925391.7494066342\n",
      "[0.38647039 0.79677324], -925396.0064691246\n",
      "[0.38617425 0.79716211], -925402.4535570125\n",
      "[0.385932  0.7975209], -925406.8681657307\n",
      "[0.38574418 0.7978671 ], -925412.441555273\n",
      "[0.38563488 0.79815883], -925415.5503416848\n",
      "[0.38560596 0.79844046], -925420.0087660956\n",
      "[0.38566825 0.798652  ], -925421.64112569\n",
      "[0.38576838 0.79884721], -925425.2880321924\n",
      "[0.38595454 0.79897241], -925426.0979096992\n",
      "[0.38622199 0.79905507], -925428.0283128193\n",
      "[0.38655873 0.79907753], -925427.6301013476\n",
      "[0.38691189 0.79906662], -925430.3208647919\n",
      "[0.38730326 0.7990176 ], -925430.9436479253\n",
      "[0.38766318 0.79897353], -925434.6801190871\n",
      "[0.38802554 0.79891897], -925436.745451448\n",
      "[0.38839685 0.79886663], -925441.4326753016\n",
      "[0.38873688 0.79883018], -925444.1239391131\n",
      "[0.38904313 0.79882514], -925449.1214517491\n",
      "[0.38929197 0.79885759], -925451.7596252494\n",
      "[0.38950567 0.79893153], -925456.0299179167\n",
      "[0.38964531 0.7990562 ], -925457.7662805358\n",
      "[0.38974172 0.7991895 ], -925461.5885772919\n",
      "[0.38975467 0.79937652], -925462.659530454\n",
      "[0.38971875 0.79957255], -925466.0887375604\n",
      "[0.38960636 0.79981441], -925467.1678739053\n",
      "[0.38946933 0.80007832], -925470.1828031279\n",
      "[0.38927106 0.80037293], -925471.0266730153\n",
      "[0.38905936 0.80063209], -925474.2482795521\n",
      "[0.38880745 0.80090067], -925475.3712920756\n",
      "[0.38854221 0.80116874], -925479.1598755632\n",
      "[0.38826044 0.80142383], -925480.9790706047\n",
      "[0.38800095 0.80163857], -925486.0100232505\n",
      "[0.38774889 0.8018198 ], -925489.1057721275\n",
      "[0.38752704 0.8020116 ], -925494.0258131509\n",
      "[0.3873312  0.80215313], -925496.7212361244\n",
      "[0.38721461 0.80223011], -925501.4186863204\n",
      "[0.38713406 0.80224895], -925503.7884311252\n",
      "[0.38703203 0.80227275], -925508.8096462394\n",
      "[0.38697095 0.80223546], -925511.3752482805\n",
      "[0.38693721 0.80217461], -925515.895696764\n",
      "[0.38693714 0.80205913], -925517.9782936735\n",
      "[0.38695846 0.80190612], -925521.0641625822\n",
      "[0.38700167 0.80171097], -925522.0283281833\n",
      "[0.38705354 0.80150529], -925524.6782079915\n",
      "[0.38710689 0.80127928], -925525.2624517496\n",
      "[0.38717969 0.80105409], -925528.4724508469\n",
      "[0.38723269 0.80082788], -925529.6453481384\n",
      "[0.38726992 0.80058976], -925533.8500765678\n",
      "[0.38726518 0.800374  ], -925535.7773543076\n",
      "[0.38724154 0.80016539], -925540.1752405801\n",
      "[0.38715736 0.79999888], -925542.201815522\n",
      "[0.38703658 0.79987556], -925546.6878544725\n",
      "[0.38685006 0.79980179], -925548.6094432226\n",
      "[0.386622   0.79977447], -925552.6194869104\n",
      "[0.38633184 0.79979936], -925554.1098287037\n",
      "[0.3859812 0.7998151], -925558.052377388\n",
      "[0.38558547 0.79986948], -925559.8135852402\n",
      "[0.38518887 0.79994276], -925564.4994987156\n",
      "[0.38477423 0.8000334 ], -925567.253584926\n",
      "[0.3843322  0.80010188], -925572.0727082175\n",
      "[0.38390332 0.8001621 ], -925574.7539113915\n",
      "[0.38347667 0.80024786], -925580.3265769393\n",
      "[0.38308876 0.80030425], -925583.5361257222\n",
      "[0.38274268 0.80034787], -925589.124431699\n",
      "[0.38245743 0.80034695], -925592.2819653574\n",
      "[0.38217376 0.80029982], -925597.2177647856\n",
      "[0.38196178 0.80020153], -925599.5139625492\n",
      "[0.38183364 0.80004881], -925603.8815555171\n",
      "[0.38177493 0.79985142], -925605.5928521042\n",
      "[0.38171814 0.79966625], -925609.3116136054\n",
      "[0.38171452 0.79945272], -925610.6234604152\n",
      "[0.38175621 0.79925661], -925614.4387392539\n",
      "[0.38182966 0.79905245], -925616.1352527632\n",
      "[0.38190809 0.79887244], -925620.599232663\n",
      "[0.38199291 0.79870667], -925622.774879009\n",
      "[0.38203483 0.79858038], -925627.5951262446\n",
      "[0.38206022 0.79849136], -925630.1148910642\n",
      "[0.38209671 0.79843473], -925635.6904522537\n",
      "[0.3821049  0.79842793], -925638.892833381\n",
      "[0.382043   0.79848855], -925643.7521755089\n",
      "[0.38194114 0.7986046 ], -925646.009129462\n",
      "[0.38181766 0.79873627], -925651.4165847562\n",
      "[0.38166155 0.79891681], -925654.3459126549\n",
      "[0.38149011 0.79910098], -925659.2419097122\n",
      "[0.38129853 0.7993198 ], -925661.7568803359\n",
      "[0.38112216 0.79958023], -925666.8053439679\n",
      "[0.38094103 0.79986006], -925669.5809448665\n",
      "[0.3807557  0.80012959], -925674.1471159386\n",
      "[0.38058376 0.80040038], -925676.3676930908\n",
      "[0.38042628 0.80061519], -925680.6623662577\n",
      "[0.38029425 0.80081725], -925682.6094533151\n",
      "[0.3802048  0.80098206], -925686.5973574837\n",
      "[0.38015026 0.8011244 ], -925688.0926657956\n",
      "[0.38011326 0.8012078 ], -925692.0492050508\n",
      "[0.38011136 0.80126632], -925693.5263954531\n",
      "[0.38015202 0.80130324], -925696.478234692\n",
      "[0.38022043 0.80132267], -925697.0089801186\n",
      "[0.38031353 0.80129638], -925699.4778194427\n",
      "[0.38042117 0.80126322], -925699.460270738\n",
      "[0.38056041 0.80119719], -925701.7678434768\n",
      "[0.38069067 0.80114486], -925701.8770014715\n",
      "[0.38080064 0.80112606], -925703.7163313073\n",
      "[0.38088539 0.80113264], -925703.0553765573\n",
      "[0.38093376 0.80117569], -925704.1960156905\n",
      "[0.38094488 0.80125273], -925702.7702548082\n",
      "[0.38089565 0.80132321], -925703.7151839873\n",
      "[0.38080874 0.80142469], -925701.9601601947\n",
      "[0.38071721 0.80154621], -925703.7509180157\n",
      "[0.38059287 0.80169157], -925703.1536979472\n",
      "[0.3804393  0.80186743], -925705.4223153901\n",
      "[0.3802632  0.80205632], -925705.1542292103\n",
      "[0.3801038  0.80229507], -925706.6870571774\n",
      "[0.37993342 0.80253449], -925705.5882667032\n",
      "[0.37972421 0.80275591], -925706.5500123701\n",
      "[0.37952255 0.80296092], -925705.087563004\n",
      "[0.37932946 0.80317153], -925706.1555004272\n",
      "[0.37915752 0.80335099], -925704.6485528136\n",
      "[0.37902565 0.80351674], -925706.6472584428\n",
      "[0.37892747 0.80363789], -925706.0833385688\n",
      "[0.37881727 0.80372494], -925708.2565117893\n",
      "[0.37874691 0.80376162], -925707.5659402868\n",
      "[0.37873792 0.80377862], -925709.2076956634\n",
      "[0.37876192 0.80375195], -925708.2460283119\n",
      "[0.37880287 0.80372265], -925709.6324918214\n",
      "[0.37885964 0.80366229], -925708.4727989683\n",
      "[0.37893762 0.80361674], -925709.483172708\n",
      "[0.37901213 0.80355669], -925708.0697866302\n",
      "[0.37903969 0.80347888], -925709.9224918329\n",
      "[0.37904453 0.8034019 ], -925709.3308893245\n",
      "[0.37902915 0.80334888], -925711.8736095772\n",
      "[0.3789767  0.80330865], -925711.9078161924\n",
      "[0.3788415  0.80328797], -925715.4078423872\n",
      "[0.37866332 0.80328485], -925716.3528227805\n",
      "[0.3784653  0.80329052], -925719.1975694618\n",
      "[0.37822748 0.80331203], -925719.5175128425\n",
      "[0.37794207 0.80333436], -925723.2722080782\n",
      "[0.3776298  0.80336246], -925724.6037790397\n",
      "[0.37733869 0.80337472], -925728.2483009296\n",
      "[0.37703494 0.80338295], -925729.3576307974\n",
      "[0.37674053 0.80340998], -925732.2229883745\n",
      "[0.37645259 0.80341906], -925732.6196984816\n",
      "[0.37615581 0.8033687 ], -925735.7408834185\n",
      "[0.37588269 0.80328967], -925736.2850942989\n",
      "[0.37565614 0.80314821], -925739.8081689961\n",
      "[0.37546418 0.80297581], -925740.8327062753\n",
      "[0.37531901 0.80280325], -925743.7768883462\n",
      "[0.37520425 0.80260611], -925744.2165921754\n",
      "[0.37512436 0.80238273], -925747.540969999\n",
      "[0.37506467 0.80214938], -925748.2979234426\n",
      "[0.37504775 0.80191455], -925751.9076020543\n",
      "[0.3750302  0.80169054], -925753.031103338\n",
      "[0.3749662  0.80147444], -925756.736221134\n",
      "[0.37488355 0.80128646], -925757.560341345\n",
      "[0.37483237 0.80114701], -925761.1347510803\n",
      "[0.3747516  0.80104976], -925761.9546813495\n",
      "[0.37467098 0.80096656], -925765.0401058182\n",
      "[0.37455267 0.80093548], -925765.3050246664\n",
      "[0.37440585 0.80094031], -925767.0487003756\n",
      "[0.37422403 0.80099744], -925765.8489959359\n",
      "[0.37403158 0.80105999], -925766.8199079605\n",
      "[0.37381895 0.80116058], -925764.8573051688\n",
      "[0.37363289 0.8012812 ], -925765.6604252568\n",
      "[0.37343963 0.80142877], -925763.7331771938\n",
      "[0.37329139 0.8015968 ], -925764.6638872391\n",
      "[0.37315434 0.80177403], -925762.8830757531\n",
      "[0.37298859 0.80194413], -925763.3421390746\n",
      "[0.37284894 0.80210754], -925761.4064660138\n",
      "[0.3727357  0.80226248], -925763.170278526\n",
      "[0.37265901 0.80239866], -925762.2665578546\n",
      "[0.37258308 0.80253764], -925763.9769321099\n",
      "[0.37254889 0.8026494 ], -925762.9076873471\n",
      "[0.37254958 0.80272461], -925763.7966668187\n",
      "[0.37259129 0.80276829], -925761.9414241018\n",
      "[0.37266719 0.80275653], -925762.5030240475\n",
      "[0.37276949 0.80272324], -925760.5580504636\n",
      "[0.37282316 0.80267101], -925761.5646159698\n",
      "[0.37288519 0.80261129], -925760.1083725415\n",
      "[0.37293251 0.8025832 ], -925760.9391927731\n",
      "[0.37296853 0.80256311], -925759.2925144614\n",
      "[0.37295099 0.80255518], -925760.8405224865\n",
      "[0.37290944 0.80256612], -925759.7534436042\n",
      "[0.37284025 0.80259607], -925761.3678097243\n",
      "[0.3727471  0.80264148], -925760.2423627925\n",
      "[0.37266233 0.80264185], -925761.2086956041\n",
      "[0.37254923 0.80266114], -925759.5043917265\n",
      "[0.37241933 0.80270806], -925761.1312107361\n",
      "[0.37226641 0.80276877], -925760.2311067308\n",
      "[0.37212947 0.80289257], -925763.0260095841\n",
      "[0.37197873 0.80301966], -925762.991544011\n",
      "[0.37184194 0.80312861], -925765.6726347712\n",
      "[0.37169909 0.80323126], -925765.518203552\n",
      "[0.37153686 0.80332007], -925768.0771737426\n",
      "[0.37138274 0.80339102], -925767.9444352658\n",
      "[0.37129426 0.80348025], -925770.6142896306\n",
      "[0.37122071 0.80354135], -925770.435003272\n",
      "[0.37110765 0.80358373], -925773.3150446241\n",
      "[0.37101348 0.80359113], -925773.3987291728\n",
      "[0.3709147  0.80356204], -925777.1721564708\n",
      "[0.37083196 0.8034979 ], -925778.030124642\n",
      "[0.37072197 0.80339133], -925781.9009187866\n",
      "[0.37061912 0.80325846], -925782.9059841792\n",
      "[0.37047496 0.80314334], -925786.6418120741\n",
      "[0.37033432 0.80300548], -925787.4360630087\n",
      "[0.3702052  0.80285456], -925790.947259463\n",
      "[0.37007235 0.8026893 ], -925791.84916922\n",
      "[0.36995971 0.80251792], -925795.3390172464\n",
      "[0.36983728 0.80234177], -925796.0412026977\n",
      "[0.36971698 0.8021475 ], -925800.1157243236\n",
      "[0.36958341 0.80195912], -925801.6324307467\n",
      "[0.36947237 0.8018258 ], -925805.5581564027\n",
      "[0.36934249 0.80170444], -925806.6938853966\n",
      "[0.36922595 0.80158301], -925810.4846544941\n",
      "[0.36908535 0.80148164], -925811.5322093582\n",
      "[0.36896002 0.80138013], -925815.9319815321\n",
      "[0.36880956 0.80130311], -925817.5107833684\n",
      "[0.36864324 0.80124799], -925821.836077233\n",
      "[0.36845371 0.80121804], -925823.4956633701\n",
      "[0.36823319 0.80115922], -925827.7034524677\n",
      "[0.36799906 0.80111698], -925829.0995005621\n",
      "[0.36781499 0.80108814], -925833.4416412445\n",
      "[0.3676333  0.80106716], -925835.1258964662\n",
      "[0.36749672 0.80106448], -925840.4275770033\n",
      "[0.36737132 0.80106789], -925843.0129016126\n",
      "[0.36728154 0.8010345 ], -925849.5117465778\n",
      "[0.36720855 0.80100422], -925853.3665463667\n",
      "[0.36712729 0.80099004], -925861.2636997246\n",
      "[0.3670648  0.80098038], -925866.3817836443\n",
      "[0.36697354 0.80093436], -925875.0255866081\n",
      "[0.36690268 0.80089471], -925880.8616960198\n",
      "[0.36686459 0.80084392], -925889.1946557537\n",
      "[0.36685075 0.80079865], -925894.8104697309\n",
      "[0.36679533 0.80078741], -925905.0777032457\n",
      "[0.36676532 0.80078151], -925912.3390932896\n",
      "[0.36673253 0.80074935], -925923.0752312223\n",
      "[0.36672886 0.80072088], -925930.9837109464\n",
      "[0.36675279 0.80070321], -925942.1132059095\n",
      "[0.36680602 0.80068997], -925950.1639139752\n",
      "[0.36688037 0.80066069], -925962.1170325109\n",
      "[0.36697456 0.80064413], -925971.0000968594\n",
      "[0.36709073 0.8006307 ], -925981.6420532039\n",
      "[0.36722048 0.80063912], -925989.2835988259\n",
      "[0.36732598 0.80067548], -925998.1617349881\n",
      "[0.36742997 0.80074546], -926004.0853703849\n",
      "[0.36751988 0.80084809], -926013.4545582121\n",
      "[0.36760623 0.8009841 ], -926019.934125808\n",
      "[0.36767338 0.80111654], -926028.5718815171\n",
      "[0.36773201 0.8012806 ], -926034.3212383257\n",
      "[0.3677839  0.80143298], -926044.0728425414\n",
      "[0.36782642 0.80161377], -926050.6956607001\n",
      "[0.36786982 0.80179809], -926060.3628596407\n",
      "[0.36790844 0.80200508], -926066.9595917618\n",
      "[0.36792958 0.80223907], -926076.2491551102\n",
      "[0.36795569 0.80248651], -926082.5170965865\n",
      "[0.36794589 0.80271688], -926091.5592054778\n",
      "[0.36794809 0.80294967], -926097.6334421164\n",
      "[0.36792645 0.80318288], -926106.5110447012\n",
      "[0.36792918 0.80340554], -926112.0456158521\n",
      "[0.36802692 0.80359992], -926119.3525418825\n",
      "[0.36815391 0.80377846], -926123.4759137128\n",
      "[0.36834581 0.80395006], -926129.662247469\n",
      "[0.36855702 0.80410559], -926132.7615423873\n",
      "[0.36875665 0.80421173], -926138.005389297\n",
      "[0.36896138 0.80431015], -926140.158633473\n",
      "[0.36912561 0.80441347], -926144.2708729705\n",
      "[0.36928194 0.80451775], -926145.3410100051\n",
      "[0.36939563 0.80467029], -926149.056188171\n",
      "[0.36948528 0.804831  ], -926149.7489433682\n",
      "[0.36956997 0.80499508], -926152.4202731095\n",
      "[0.36962714 0.80516769], -926151.8996072446\n",
      "[0.36966385 0.80537443], -926154.5940651181\n",
      "[0.36967753 0.80557643], -926154.237728933\n",
      "[0.36971938 0.80578823], -926155.7562509767\n",
      "[0.36974369 0.80598545], -926154.1529922937\n",
      "[0.3697544  0.80609376], -926155.8123931733\n",
      "[0.36975286 0.80618047], -926154.3972111018\n",
      "[0.36972054 0.80628322], -926156.4420260981\n",
      "[0.36967713 0.8063625 ], -926155.4738607589\n",
      "[0.36961436 0.80642924], -926157.4222418289\n",
      "[0.36954677 0.80646826], -926156.1370964856\n",
      "[0.36947947 0.80647539], -926157.8823571411\n",
      "[0.36941413 0.80644855], -926156.5020148704\n",
      "[0.36936088 0.80639566], -926158.8151795757\n",
      "[0.36931321 0.80631144], -926158.0947093914\n",
      "[0.36932815 0.80616375], -926159.6595722239\n",
      "[0.36934952 0.80598803], -926158.2863955052\n",
      "[0.36938089 0.80576228], -926158.6058080125\n",
      "[0.36940113 0.80552752], -926156.0755422957\n",
      "[0.36938494 0.80531532], -926157.2241858981\n",
      "[0.36934556 0.80510947], -926155.5100381619\n",
      "[0.36927378 0.8049579 ], -926155.7101599571\n",
      "[0.36916974 0.80482412], -926152.984710433\n",
      "[0.3690117  0.80470455], -926152.7615060783\n",
      "[0.36882284 0.80460942], -926149.7043948893\n",
      "[0.36868295 0.80455408], -926150.002279916\n",
      "[0.36852228 0.80452165], -926147.0996025047\n",
      "[0.36835984 0.80450442], -926147.6436849661\n",
      "[0.36819186 0.80449919], -926145.1164318101\n",
      "[0.36806568 0.80447172], -926146.7728603827\n",
      "[0.36794887 0.80444544], -926145.4848045877\n",
      "[0.36788711 0.80444841], -926146.7724482873\n",
      "[0.36783914 0.80445528], -926144.8023899463\n",
      "[0.36776455 0.80445772], -926146.6973077677\n",
      "[0.36771541 0.80445828], -926145.4634745314\n",
      "[0.36763354 0.80449043], -926147.1897925598\n",
      "[0.36759187 0.80450923], -926145.7488970906\n",
      "[0.36757307 0.80457763], -926147.1870119802\n",
      "[0.36760703 0.80462417], -926145.4246410996\n",
      "[0.36766177 0.80467715], -926145.9956914078\n",
      "[0.36776826 0.80470874], -926143.1626983768\n",
      "[0.36785181 0.80473832], -926143.0742261675\n",
      "[0.36798279 0.80475363], -926139.6071544754\n",
      "[0.36812564 0.80473322], -926141.7672359068\n",
      "[0.36829832 0.80471441], -926140.6614800009\n",
      "[0.3684314  0.80474049], -926142.5685702752\n",
      "[0.36857757 0.80478311], -926141.2893980794\n",
      "[0.36869296 0.80483295], -926143.9245059307\n",
      "[0.36880901 0.80490984], -926143.1562692681\n",
      "[0.36893166 0.80498846], -926145.0482371481\n",
      "[0.36904862 0.80509565], -926143.6260279907\n",
      "[0.36916671 0.80520042], -926144.9533927051\n",
      "[0.36926959 0.80533652], -926142.9101093599\n",
      "[0.36934849 0.80543795], -926144.3743964212\n",
      "[0.36940944 0.80557002], -926142.7063300184\n",
      "[0.36943973 0.80574853], -926144.3086865547\n",
      "[0.36945101 0.8059542 ], -926142.5208476888\n",
      "[0.36941124 0.80621158], -926144.2661755219\n",
      "[0.36936404 0.806479  ], -926142.7612885117\n",
      "[0.36934809 0.80674525], -926144.3120847685\n",
      "[0.36933546 0.8070046 ], -926142.6366783341\n",
      "[0.36937193 0.80725962], -926144.4291789803\n",
      "[0.36942324 0.80749232], -926142.8854227497\n",
      "[0.36955012 0.80769842], -926144.9946878031\n",
      "[0.36969521 0.80787426], -926143.6534007455\n",
      "[0.36987776 0.80800602], -926144.8440057919\n",
      "[0.37006366 0.80811144], -926142.7483771746\n",
      "[0.37025306 0.80818705], -926144.1582376104\n",
      "[0.37043371 0.80824209], -926142.0909073453\n",
      "[0.37059993 0.808289  ], -926141.6882182452\n",
      "[0.3707384  0.80832961], -926137.747957614\n",
      "[0.37090039 0.8083544 ], -926136.8005496\n",
      "[0.3710166  0.80838337], -926132.3949701147\n",
      "[0.37108289 0.80844831], -926132.554841164\n",
      "[0.371078   0.80853377], -926128.9348104905\n",
      "[0.37104643 0.80860178], -926127.0451110501\n",
      "[0.37094245 0.8086868 ], -926121.4244410691\n",
      "[0.37082448 0.80880796], -926118.7812803409\n",
      "[0.37064535 0.80893222], -926112.5439736533\n",
      "[0.37044358 0.8090086 ], -926109.0909218452\n",
      "[0.37019663 0.80907302], -926102.4186595052\n",
      "[0.36992864 0.80904993], -926100.182651819\n",
      "[0.36963942 0.80899748], -926094.3716347072\n",
      "[0.36934784 0.80892239], -926091.7007159279\n",
      "[0.36904925 0.80880615], -926085.4846172958\n",
      "[0.36879817 0.80860802], -926082.5867459966\n",
      "[0.36854376 0.80837024], -926076.0217765175\n",
      "[0.36829681 0.80807773], -926073.492159804\n",
      "[0.36804304 0.80775483], -926067.7399932968\n",
      "[0.36782159 0.80744862], -926065.7709156674\n",
      "[0.36758391 0.8071272 ], -926060.2944305365\n",
      "[0.36732308 0.80675739], -926059.1588030478\n",
      "[0.36703435 0.80638927], -926054.7158942609\n",
      "[0.36666006 0.80605389], -926051.4762831021\n",
      "[0.36625982 0.80572726], -926044.7393273117\n",
      "[0.36580728 0.80538729], -926042.5842704654\n",
      "[0.36534165 0.80505537], -926036.9064251863\n",
      "[0.36484291 0.80470941], -926035.4047061845\n",
      "[0.36434188 0.80437517], -926030.4568196795\n",
      "[0.36387393 0.80405621], -926029.473868421\n",
      "[0.36343129 0.80373828], -926025.4630352951\n",
      "[0.36309822 0.80344164], -926025.2076152386\n",
      "[0.3628054  0.80314036], -926021.5491353956\n",
      "[0.36253396 0.80281367], -926021.9274212128\n",
      "[0.36230092 0.80249345], -926018.9378656294\n",
      "[0.36205846 0.80215705], -926020.1796955838\n",
      "[0.36184918 0.80184198], -926018.0226032276\n",
      "[0.3616815  0.80159409], -926018.4753681888\n",
      "[0.3615362  0.80137999], -926015.4937436921\n",
      "[0.36138147 0.80121546], -926016.4175128714\n",
      "[0.36123934 0.80109457], -926013.6893803374\n",
      "[0.36107421 0.80094801], -926015.0063929555\n",
      "[0.36091396 0.80085195], -926012.8685438392\n",
      "[0.36077   0.8007171], -926014.8899909761\n",
      "[0.36062771 0.80063643], -926013.5238391564\n",
      "[0.36051141 0.80057211], -926016.4416121686\n",
      "[0.36039465 0.80056235], -926015.7234449228\n",
      "[0.36030429 0.80058423], -926018.1383595953\n",
      "[0.36020473 0.80066658], -926017.0480107726\n",
      "[0.36011316 0.80078794], -926020.7073273793\n",
      "[0.36001346 0.80096135], -926020.8489080553\n",
      "[0.35988688 0.80115801], -926024.7460958457\n",
      "[0.35975732 0.80139214], -926024.7978266854\n",
      "[0.35961129 0.80159787], -926028.0735455909\n",
      "[0.35948191 0.80181704], -926027.989515027\n",
      "[0.3593548  0.80207108], -926032.5167339252\n",
      "[0.35925169 0.80232224], -926033.4417635865\n",
      "[0.35912525 0.80250386], -926037.5155401521\n",
      "[0.35902632 0.80266886], -926037.7047020064\n",
      "[0.35894467 0.80279683], -926040.8283022853\n",
      "[0.35889216 0.80289881], -926039.9462373604\n",
      "[0.35883385 0.80295294], -926043.1095041422\n",
      "[0.35879867 0.80297791], -926042.2124798883\n",
      "[0.35877664 0.80297999], -926044.8557004868\n",
      "[0.3587686  0.80295657], -926043.7225377597\n",
      "[0.35876187 0.8029338 ], -926045.4160747547\n",
      "[0.35874698 0.80289936], -926043.1904397458\n",
      "[0.35871286 0.80286876], -926044.0246786224\n",
      "[0.35864414 0.80284061], -926040.8503834619\n",
      "[0.3585433  0.80283388], -926040.9773522604\n",
      "[0.35839747 0.80283443], -926037.154950507\n",
      "[0.35822561 0.80288073], -926035.7314546375\n",
      "[0.35801388 0.80292668], -926030.7065871997\n",
      "[0.35775754 0.80294698], -926028.9421033185\n",
      "[0.35746992 0.80295491], -926023.4225121867\n",
      "[0.35721051 0.80295618], -926022.0497326116\n",
      "[0.35694134 0.80293201], -926017.1553633244\n",
      "[0.35667369 0.80286095], -926015.9728507967\n",
      "[0.35640846 0.80275449], -926010.880027398\n",
      "[0.35618484 0.80268283], -926009.6162608688\n",
      "[0.35597238 0.80257079], -926004.6881235329\n",
      "[0.35578231 0.80241854], -926003.7865277301\n",
      "[0.35560182 0.80223158], -925999.1088306445\n",
      "[0.35546043 0.80201668], -925998.8652635218\n",
      "[0.35531903 0.80177944], -925995.0795223657\n",
      "[0.35517688 0.80155981], -925994.4778818517\n",
      "[0.35501738 0.80133666], -925990.1886984907\n",
      "[0.35486983 0.80111262], -925988.7092677621\n",
      "[0.3546921  0.80090407], -925983.5691958205\n",
      "[0.35450288 0.80071768], -925982.6004770438\n",
      "[0.3542783  0.80055836], -925977.7634412304\n",
      "[0.35403663 0.80044511], -925975.942868989\n",
      "[0.35377358 0.8003566 ], -925970.2888319426\n",
      "[0.35347015 0.80025333], -925969.7095902107\n",
      "[0.35316489 0.80016652], -925965.5201468802\n",
      "[0.35282905 0.80005698], -925965.7990524581\n",
      "[0.35251561 0.79995229], -925962.2669209758\n",
      "[0.35218363 0.79989046], -925961.6221314869\n",
      "[0.35189037 0.7998295 ], -925956.6914854775\n",
      "[0.35162966 0.79979268], -925956.1273825517\n",
      "[0.35142903 0.79974556], -925951.5080169291\n",
      "[0.35128859 0.79969549], -925950.8150424304\n",
      "[0.35122311 0.79962742], -925946.0374861732\n",
      "[0.35119996 0.79953669], -925945.3668355364\n",
      "[0.35123865 0.79943778], -925940.4708639559\n",
      "[0.3512982  0.79930514], -925939.0551899832\n",
      "[0.35138799 0.79919058], -925933.3233557714\n",
      "[0.35143929 0.79906033], -925932.0294466636\n",
      "[0.35149477 0.7989685 ], -925927.0054723574\n",
      "[0.35157634 0.79887465], -925924.9589756392\n",
      "[0.35163258 0.79884141], -925918.9249557732\n",
      "[0.35167222 0.79882604], -925918.023930268\n",
      "[0.35166467 0.79888763], -925913.1033960541\n",
      "[0.35167413 0.79900663], -925912.1959677369\n",
      "[0.35163072 0.79920309], -925907.0534843744\n",
      "[0.35154918 0.79950411], -925906.106159699\n",
      "[0.35143119 0.79985652], -925901.5163281774\n",
      "[0.35130274 0.80021383], -925899.5639921478\n",
      "[0.35117534 0.80058167], -925893.8312628955\n",
      "[0.35107102 0.80093412], -925891.7646886663\n",
      "[0.35100151 0.80125713], -925886.1702643647\n",
      "[0.35100171 0.80157022], -925883.0935997353\n",
      "[0.35105366 0.80183055], -925876.3763839265\n",
      "[0.3511417  0.80210069], -925873.7866033323\n",
      "[0.3512802  0.80230628], -925867.15342482\n",
      "[0.35147811 0.80248083], -925866.0736955687\n",
      "[0.35171154 0.80259575], -925861.1745353502\n",
      "[0.35193499 0.80265178], -925859.7094157705\n",
      "[0.35216401 0.80267165], -925854.3760903152\n",
      "[0.35239456 0.80267076], -925851.2131308259\n",
      "[0.35259343 0.80266317], -925844.177424288\n",
      "[0.3527367  0.80260403], -925840.0608371531\n",
      "[0.35281351 0.8025592 ], -925832.2219631524\n",
      "[0.35281852 0.80254598], -925829.0119229058\n",
      "[0.35273475 0.80256078], -925821.7962845552\n",
      "[0.35257618 0.80260073], -925817.3031958003\n",
      "[0.35233233 0.8026653 ], -925808.9775028788\n",
      "[0.35205812 0.80269556], -925805.3610221638\n",
      "[0.3517328  0.80272375], -925797.9286640561\n",
      "[0.35140983 0.80271968], -925794.4395486249\n",
      "[0.35106937 0.8026888 ], -925786.9632806018\n",
      "[0.35070439 0.80261675], -925783.8153725577\n",
      "[0.35036069 0.80249917], -925776.8971817218\n",
      "[0.35007159 0.80232479], -925773.6307106122\n",
      "[0.34982878 0.8020973 ], -925766.2832257751\n",
      "[0.34964913 0.80182313], -925762.7127383312\n",
      "[0.3495244  0.80149816], -925755.0613338237\n",
      "[0.34947833 0.80110572], -925752.2321908267\n",
      "[0.34946881 0.80069076], -925745.7773382316\n",
      "[0.34954173 0.8002629 ], -925742.9139784238\n",
      "[0.34960729 0.79985575], -925736.5638150783\n",
      "[0.34968595 0.79942496], -925734.5375900326\n",
      "[0.34970746 0.79906654], -925728.6615445955\n",
      "[0.34968553 0.7988095 ], -925726.383515643\n",
      "[0.34957346 0.79865853], -925719.5590295036\n",
      "[0.34940407 0.79864869], -925716.6553841752\n",
      "[0.34914182 0.79874448], -925709.243901271\n",
      "[0.34881812 0.79891184], -925705.3447403073\n",
      "[0.3484526  0.79914252], -925697.4631861734\n",
      "[0.34812533 0.79944301], -925694.2549203523\n",
      "[0.34782779 0.79974323], -925687.0380804371\n",
      "[0.34749422 0.79998833], -925684.3993712411\n",
      "[0.34726618 0.80016461], -925677.3542733049\n",
      "[0.34702546 0.80029268], -925674.163306609\n",
      "[0.34692598 0.80031825], -925666.1200488652\n",
      "[0.34695034 0.80028449], -925662.5152167726\n",
      "[0.34710421 0.80015494], -925654.332919574\n",
      "[0.34732801 0.80000417], -925652.0391463068\n",
      "[0.34762759 0.79979497], -925645.6103380715\n",
      "[0.34790094 0.79957987], -925642.9603017662\n",
      "[0.34818353 0.79935676], -925636.4914026338\n",
      "[0.34844067 0.79912508], -925634.9003236423\n",
      "[0.34862764 0.79894888], -925629.1933659095\n",
      "[0.34876055 0.79886633], -925627.9643123805\n",
      "[0.34876688 0.79887779], -925621.813977229\n",
      "[0.34864325 0.79893706], -925619.2604815401\n",
      "[0.34839247 0.79908426], -925611.7895317519\n",
      "[0.34809832 0.79928397], -925609.0926398856\n",
      "[0.34772498 0.79952899], -925602.2117841096\n",
      "[0.34731714 0.79979244], -925600.3170064273\n",
      "[0.34689209 0.80004613], -925594.7840822858\n",
      "[0.3464999  0.80026968], -925593.9707208707\n",
      "[0.34616808 0.80042221], -925589.2053073221\n",
      "[0.34584439 0.80051656], -925589.522233312\n",
      "[0.34564122 0.80049616], -925585.1991770418\n",
      "[0.34555984 0.80039951], -925583.2331667818\n",
      "[0.34561163 0.80018096], -925576.4698851301\n",
      "[0.34571084 0.79996685], -925574.8482982346\n",
      "[0.34590124 0.79966585], -925568.7955090733\n",
      "[0.34607056 0.79930156], -925568.1618072883\n",
      "[0.34627184 0.79890732], -925563.8273888889\n",
      "[0.34644486 0.79851133], -925563.5869114763\n",
      "[0.34657296 0.79815617], -925559.7196141353\n",
      "[0.34671259 0.79780617], -925560.6280490357\n",
      "[0.3467457  0.79754823], -925557.1024183031\n",
      "[0.34669934 0.79739388], -925557.2775445065\n",
      "[0.34652101 0.79736402], -925552.4846509409\n",
      "[0.34618498 0.79747633], -925552.2434297202\n",
      "[0.34574525 0.79769713], -925547.3326913053\n",
      "[0.34522979 0.79791728], -925547.1756395168\n",
      "[0.34470378 0.79817366], -925543.4485076235\n",
      "[0.34416694 0.79846291], -925544.7502402497\n",
      "[0.34371915 0.79871083], -925542.5148269625\n",
      "[0.34342045 0.79896048], -925544.4423275251\n",
      "[0.34328976 0.79910146], -925541.4022492637\n",
      "[0.34326296 0.79920477], -925541.2707239392\n",
      "[0.34342042 0.79918568], -925536.0295107648\n",
      "[0.34375436 0.79911348], -925535.8948574924\n",
      "[0.34420921 0.79896126], -925531.8215888372\n",
      "[0.34471158 0.79878466], -925534.5725468929\n",
      "[0.34520964 0.79862798], -925534.4438233514\n",
      "[0.34560521 0.79848335], -925539.9493563587\n",
      "[0.34589217 0.79843656], -925541.5325888401\n",
      "[0.3460729  0.79849867], -925548.8623387282\n",
      "[0.34608809 0.79869515], -925550.7683016878\n",
      "[0.34604374 0.79890633], -925555.2952512279\n",
      "[0.3458489  0.79923129], -925554.7699163891\n",
      "[0.3455086  0.79961184], -925559.3952192413\n",
      "[0.34508971 0.80004007], -925560.0103995595\n",
      "[0.34467228 0.8004228 ], -925565.1871617154\n",
      "[0.34427516 0.80077024], -925566.3106981774\n",
      "[0.34403505 0.80102058], -925571.432875701\n",
      "[0.34388463 0.80117413], -925571.3920388058\n",
      "[0.34380663 0.80129084], -925574.8391066948\n",
      "[0.34384479 0.80128617], -925572.489859163\n",
      "[0.34394932 0.80118471], -925574.4542402126\n",
      "[0.34414043 0.80098371], -925571.045957138\n",
      "[0.34435558 0.80073226], -925573.444040465\n",
      "[0.34457901 0.80044253], -925571.2702156743\n",
      "[0.34481765 0.80009781], -925573.9953678265\n",
      "[0.34498643 0.79977765], -925572.1296780828\n",
      "[0.34507544 0.79950759], -925574.2014881609\n",
      "[0.34503969 0.79931434], -925570.8556337584\n",
      "[0.34500546 0.79915119], -925573.9473327447\n",
      "[0.34482407 0.79909025], -925571.8545033885\n",
      "[0.34462994 0.79907576], -925573.71984081\n",
      "[0.34430965 0.79914771], -925570.2781719696\n",
      "[0.34403418 0.79924994], -925572.1780740079\n",
      "[0.34369041 0.79939282], -925569.7012173928\n",
      "[0.34336785 0.79962066], -925572.6057799764\n",
      "[0.3430596  0.79982481], -925571.7816774166\n",
      "[0.34272538 0.80005642], -925574.8461525786\n",
      "[0.34248804 0.80020204], -925573.5081485113\n",
      "[0.34239683 0.80023401], -925577.7426947354\n",
      "[0.34243932 0.80014965], -925576.8020512568\n",
      "[0.34255776 0.80001758], -925579.6279794851\n",
      "[0.34277747 0.79979471], -925577.6782195421\n",
      "[0.34297773 0.79951328], -925580.5483843317\n",
      "[0.34322606 0.79919478], -925579.0903610053\n",
      "[0.34342551 0.79889265], -925582.6975589648\n",
      "[0.34360101 0.79861898], -925582.1028212851\n",
      "[0.34380703 0.79842331], -925586.2664365048\n",
      "[0.34393188 0.79830374], -925585.8887580542\n",
      "[0.34398898 0.79825098], -925590.3773595497\n",
      "[0.3439378  0.79829297], -925589.8482464923\n",
      "[0.34375869 0.79834357], -925592.928969757\n",
      "[0.34349679 0.79846516], -925591.2828827349\n",
      "[0.34319081 0.79868678], -925596.0065884936\n",
      "[0.34286176 0.79893256], -925596.4522801529\n",
      "[0.34255577 0.79919606], -925605.2867568798\n",
      "[0.34229247 0.79942467], -925610.2619730413\n",
      "[0.34211235 0.79969711], -925618.1622164653\n",
      "[0.34203647 0.79988149], -925621.0957766813\n",
      "[0.34196065 0.80000565], -925629.8055202815\n",
      "[0.34200701 0.80001983], -925633.1862284135\n",
      "[0.34212092 0.79998793], -925640.4578841425\n",
      "[0.34232718 0.79985925], -925642.8012789579\n",
      "[0.34259078 0.79967021], -925651.4675469177\n",
      "[0.34288039 0.79943786], -925655.7084728047\n",
      "[0.34315282 0.799276  ], -925664.5868099572\n",
      "[0.34337945 0.79912839], -925668.9634399357\n",
      "[0.34355376 0.79909819], -925677.9176600402\n",
      "[0.34363242 0.79912497], -925681.6650282461\n",
      "[0.34364323 0.79916818], -925690.036464994\n",
      "[0.3435487  0.79927185], -925693.3941549323\n",
      "[0.34337203 0.79946235], -925701.8758724828\n",
      "[0.34313031 0.79968121], -925705.4882494009\n",
      "[0.34291808 0.79988505], -925713.6454111998\n",
      "[0.34270554 0.80006435], -925716.9582040148\n",
      "[0.34251865 0.80016758], -925726.4923518308\n",
      "[0.34237974 0.80020928], -925731.1196857468\n",
      "[0.34227308 0.80016234], -925739.615028617\n",
      "[0.34222084 0.80005001], -925743.3076428446\n",
      "[0.34222691 0.79996079], -925750.8544280985\n",
      "[0.34227359 0.79982001], -925753.1080005962\n",
      "[0.34240266 0.79962807], -925761.3797090739\n",
      "[0.3425214  0.79942379], -925764.8370191195\n",
      "[0.34265513 0.79922223], -925772.777890882\n",
      "[0.34272285 0.79904789], -925776.1905641708\n",
      "[0.34275193 0.79892412], -925785.5321392063\n",
      "[0.342676   0.79885872], -925789.5578217537\n",
      "[0.34246618 0.79885443], -925797.0548284926\n",
      "[0.34215132 0.79891445], -925799.6062553553\n",
      "[0.34179348 0.79901227], -925805.2464545255\n",
      "[0.3413909  0.79913029], -925806.2703546915\n",
      "[0.34098691 0.79918612], -925812.7736919872\n",
      "[0.34062585 0.7991946 ], -925814.8026399991\n",
      "[0.34034034 0.79916052], -925820.9791398866\n",
      "[0.34014905 0.7990473 ], -925822.0545738455\n",
      "[0.34005178 0.79882534], -925830.0868438369\n",
      "[0.34005444 0.79852351], -925832.9968381912\n",
      "[0.3401047 0.7981526], -925842.0510388277\n",
      "[0.34019792 0.79775246], -925846.7245417226\n",
      "[0.34022135 0.79736546], -925855.8787988897\n",
      "[0.34021366 0.79700898], -925860.1181616344\n",
      "[0.34020801 0.79668288], -925869.2839009779\n",
      "[0.34010662 0.79644165], -925873.138730212\n",
      "[0.33996157 0.79622003], -925881.9634941997\n",
      "[0.33969971 0.79610814], -925885.1241352888\n",
      "[0.33938872 0.79606079], -925893.067882391\n",
      "[0.33898483 0.79611253], -925895.7829808907\n",
      "[0.33864115 0.79620487], -925904.7315169238\n",
      "[0.33827117 0.79634513], -925909.0110766834\n",
      "[0.33795754 0.79650699], -925919.4490402095\n",
      "[0.33769763 0.79665466], -925925.2281525751\n",
      "[0.33749591 0.79666495], -925934.7675809994\n",
      "[0.33739235 0.79662376], -925939.0115616642\n",
      "[0.33740653 0.79664891], -925948.0436703854\n",
      "[0.33751725 0.79661865], -925952.2139149403\n",
      "[0.33768646 0.7965787 ], -925960.8962904791\n",
      "[0.33793348 0.79649778], -925964.4676319454\n",
      "[0.33824977 0.79639609], -925975.0908595021\n",
      "[0.33858496 0.79629759], -925980.9542221755\n",
      "[0.33886647 0.79619835], -925991.6029384882\n",
      "[0.33909782 0.79614552], -925997.2288968506\n",
      "[0.33930995 0.79616544], -926005.1974528048\n",
      "[0.33943834 0.79625224], -926007.9554674713\n",
      "[0.3395238  0.79639591], -926014.5759046787\n",
      "[0.33952053 0.79659935], -926016.1689401756\n",
      "[0.33946619 0.79675974], -926023.7185189379\n",
      "[0.3393577  0.79694597], -926025.9484223708\n",
      "[0.339174   0.79708379], -926033.2397634245\n",
      "[0.33897664 0.79720431], -926035.0961961289\n",
      "[0.33880519 0.79732417], -926041.9991812984\n",
      "[0.33868236 0.79737377], -926043.294367214\n",
      "[0.33862038 0.79736869], -926047.8996609838\n",
      "[0.33863842 0.79726889], -926046.8538834758\n",
      "[0.33878242 0.79710609], -926049.9365394126\n",
      "[0.3389828 0.7968703], -926047.7754652441\n",
      "[0.33923808 0.7966649 ], -926052.0322183899\n",
      "[0.33949412 0.79642835], -926051.2486723961\n",
      "[0.3397451  0.79621302], -926055.7349538202\n",
      "[0.33993729 0.79602119], -926055.0024569379\n",
      "[0.34006302 0.79581652], -926059.9675501584\n",
      "[0.34009541 0.79567475], -926059.5185397961\n",
      "[0.34013489 0.7955609 ], -926064.6145228364\n",
      "[0.34007141 0.79552263], -926063.9019738387\n",
      "[0.33999242 0.79545851], -926070.0469154135\n",
      "[0.33982703 0.79545748], -926070.8897919934\n",
      "[0.33965222 0.79543097], -926078.8175525145\n",
      "[0.33943141 0.79544196], -926081.4633183209\n",
      "[0.33918235 0.79543406], -926088.8511941737\n",
      "[0.33894298 0.79541996], -926091.0478342919\n",
      "[0.33873542 0.7953524 ], -926096.6612887615\n",
      "[0.33858556 0.79524494], -926096.52783612\n",
      "[0.33851504 0.79505222], -926103.8538294295\n",
      "[0.33851675 0.79481144], -926105.8698008776\n",
      "[0.33851815 0.79460266], -926111.7753707446\n",
      "[0.33857042 0.79436972], -926112.1114624344\n",
      "[0.33865869 0.79412714], -926116.670649181\n",
      "[0.33876662 0.79388851], -926115.2204612598\n",
      "[0.33883969 0.79371331], -926118.2278330962\n",
      "[0.33888786 0.79357621], -926115.3292682827\n",
      "[0.33885888 0.79346606], -926116.7597799975\n",
      "[0.33878583 0.79340692], -926112.4768467819\n",
      "[0.3386581  0.79334134], -926114.9770673874\n",
      "[0.33849812 0.79331624], -926111.6779975373\n",
      "[0.33833289 0.79333247], -926113.8289769097\n",
      "[0.33816136 0.79336554], -926110.6709461964\n",
      "[0.33806704 0.793446  ], -926112.3384150557\n",
      "[0.33798863 0.79352002], -926108.5019178702\n",
      "[0.33792922 0.79362339], -926109.0867153582\n",
      "[0.33789923 0.79370345], -926104.3948811502\n",
      "[0.33787661 0.79382246], -926105.4038267445\n",
      "[0.33789151 0.79390641], -926100.9618588\n",
      "[0.33801102 0.79400121], -926101.6277817576\n",
      "[0.33816116 0.79405813], -926096.6953411301\n",
      "[0.33830078 0.7940922 ], -926096.9847917005\n",
      "[0.33843642 0.79410535], -926091.7842097777\n",
      "[0.33857292 0.79408279], -926092.2106801551\n",
      "[0.33867213 0.79405346], -926087.0267657562\n",
      "[0.3387645  0.79403509], -926087.3671403523\n",
      "[0.33880172 0.7940178 ], -926081.9344709925\n",
      "[0.33877   0.7939823], -926081.9844022301\n",
      "[0.33868195 0.79394882], -926076.4932739121\n",
      "[0.33851974 0.79390905], -926077.1201592489\n",
      "[0.33832317 0.79385282], -926071.992410287\n",
      "[0.33815789 0.79371179], -926070.8799890303\n",
      "[0.33799859 0.79353102], -926064.3689243322\n",
      "[0.33790952 0.79334064], -926064.2948229606\n",
      "[0.33785235 0.7931057 ], -926058.7382794045\n",
      "[0.33767989 0.7928082 ], -926059.0827212159\n",
      "[0.33754741 0.79247284], -926054.2673286262\n",
      "[0.33741138 0.79211821], -926056.5005713556\n",
      "[0.33731088 0.79175112], -926053.2444682652\n",
      "[0.33723277 0.79139502], -926053.3513376754\n",
      "[0.33717019 0.79105799], -926048.1861514933\n",
      "[0.33720384 0.79075569], -926048.2786336769\n",
      "[0.33722293 0.79051531], -926042.8133908985\n",
      "[0.33729747 0.79031362], -926044.9320493017\n",
      "[0.3373454  0.79019868], -926041.1515665769\n",
      "[0.33733149 0.79014912], -926043.1217226898\n",
      "[0.33729619 0.79019098], -926039.3184956821\n",
      "[0.33721995 0.79023237], -926040.0808844513\n",
      "[0.33715507 0.79034113], -926035.0521941743\n",
      "[0.3370967  0.79050878], -926037.6506067936\n",
      "[0.33710451 0.79069532], -926034.6597749833\n",
      "[0.33713083 0.79089523], -926036.2936161056\n",
      "[0.33726151 0.79108287], -926032.0772423645\n",
      "[0.33747167 0.79124171], -926034.3728998863\n",
      "[0.33778976 0.79137537], -926030.3217362475\n",
      "[0.33807394 0.79157552], -926031.0120860371\n",
      "[0.3384391  0.79175821], -926025.6645115486\n",
      "[0.33883222 0.79192953], -926026.6423900973\n",
      "[0.33926344 0.7921011 ], -926021.6803293166\n",
      "[0.33962804 0.79227123], -926019.8990500197\n",
      "[0.33999118 0.79245576], -926012.6711129568\n",
      "[0.34030765 0.79262207], -926012.236363154\n",
      "[0.34058216 0.79281717], -926005.8886318733\n",
      "[0.34081957 0.7929954 ], -926005.7147225343\n",
      "[0.34100777 0.79320442], -926000.5893139584\n",
      "[0.34119639 0.79341182], -926000.7925272841\n",
      "[0.34134997 0.79362887], -925995.9319491257\n",
      "[0.34143638 0.7939105 ], -925997.4016017513\n",
      "[0.34151893 0.79415781], -925993.4688233243\n",
      "[0.34155921 0.79434697], -925994.6492793189\n",
      "[0.3416362  0.79445524], -925990.3414129886\n",
      "[0.34173972 0.79454709], -925992.7247960797\n",
      "[0.341898   0.79453401], -925989.5776998763\n",
      "[0.3420984  0.79447759], -925993.7380376789\n",
      "[0.34233957 0.79433412], -925992.1879268878\n",
      "[0.34259677 0.79411599], -925999.2379082764\n",
      "[0.34285448 0.79384829], -926000.5829661074\n",
      "[0.34307105 0.79354158], -926006.3947610105\n",
      "[0.3432276  0.79324456], -926006.6553717798\n",
      "[0.34335594 0.79296242], -926011.7090400398\n",
      "[0.34338668 0.79273401], -926010.8857386061\n",
      "[0.34337384 0.79255214], -926016.2450682671\n",
      "[0.34327939 0.79243402], -926015.8033705307\n",
      "[0.34321617 0.79231154], -926021.9632871047\n",
      "[0.34311688 0.79223447], -926022.2523486499\n",
      "[0.34298988 0.79213006], -926027.246035243\n",
      "[0.34287639 0.79204161], -926026.8174200505\n",
      "[0.34275607 0.79194898], -926034.3863780783\n",
      "[0.34271023 0.79183851], -926036.229882754\n",
      "[0.34268339 0.79176479], -926043.7414908512\n",
      "[0.34276845 0.79165726], -926045.1026429138\n",
      "[0.34297557 0.79148501], -926051.6734728821\n",
      "[0.343285  0.7912962], -926052.1822839455\n",
      "[0.34358105 0.7911059 ], -926058.2108499777\n",
      "[0.34391622 0.79095484], -926058.3614388705\n",
      "[0.34428348 0.79089113], -926063.0558507357\n",
      "[0.34463545 0.79090651], -926061.7269714737\n",
      "[0.34500412 0.79093128], -926066.2887967404\n",
      "[0.34530917 0.7910701 ], -926064.4018068466\n",
      "[0.34553764 0.79132959], -926068.3549592851\n",
      "[0.34569979 0.79169305], -926065.6663888263\n",
      "[0.34588352 0.79208493], -926069.222005631\n",
      "[0.34604848 0.79252573], -926066.4885661623\n",
      "[0.34621989 0.79293135], -926069.1475994338\n",
      "[0.34642455 0.79332186], -926065.5872028156\n",
      "[0.34669054 0.79370288], -926065.5392458971\n",
      "[0.34701852 0.79402164], -926059.1559812544\n",
      "[0.34733817 0.79437396], -926056.4727533777\n",
      "[0.34770811 0.79464638], -926047.3173165142\n",
      "[0.34807414 0.79485848], -926044.3585321993\n",
      "[0.34846886 0.79498538], -926035.3736076236\n",
      "[0.34886265 0.79498346], -926033.73478493\n",
      "[0.34922928 0.79493409], -926026.184910021\n",
      "[0.34959462 0.79485975], -926023.98821911\n",
      "[0.34986719 0.79478098], -926015.6715859335\n",
      "[0.35010269 0.7946671 ], -926015.872661967\n",
      "[0.35018336 0.79459883], -926009.7364963939\n",
      "[0.35023919 0.79461787], -926010.1848608169\n",
      "[0.35014256 0.79468702], -926004.2118590603\n",
      "[0.35003586 0.79478914], -926004.8993870101\n",
      "[0.3498363  0.79489921], -925999.5180723352\n",
      "[0.34962334 0.79495553], -925998.3134499005\n",
      "[0.34937971 0.79497069], -925991.0973756437\n",
      "[0.3491926 0.7949671], -925991.7155345738\n",
      "[0.34905047 0.79486692], -925986.1636898466\n",
      "[0.34886577 0.7947411 ], -925984.5771852495\n",
      "[0.34877027 0.79449377], -925976.4928972195\n",
      "[0.34872814 0.79407986], -925971.5092583263\n",
      "[0.34876282 0.79357163], -925960.0544451121\n",
      "[0.34882448 0.7931298 ], -925954.7060290417\n",
      "[0.34889705 0.79266733], -925943.0901307373\n",
      "[0.34893537 0.79222243], -925937.0172131142\n",
      "[0.34892237 0.7918285 ], -925924.6333542123\n",
      "[0.34887762 0.79148721], -925918.6883444096\n",
      "[0.34875514 0.79123713], -925906.3950718548\n",
      "[0.34865941 0.79102769], -925900.7490839949\n",
      "[0.34850183 0.79090728], -925888.6545630025\n",
      "[0.34830133 0.79083357], -925882.7803764545\n",
      "[0.34809723 0.79082007], -925870.8919191539\n",
      "[0.34794972 0.790821  ], -925865.754423335\n",
      "[0.3478713  0.79082915], -925854.4002604341\n",
      "[0.34796518 0.79081891], -925850.6401029401\n",
      "[0.3481456  0.79079772], -925840.555397625\n",
      "[0.34836101 0.79078551], -925839.0652297137\n",
      "[0.34864147 0.79078336], -925831.3150817732\n",
      "[0.34888933 0.7907664 ], -925830.3695618978\n",
      "[0.34916323 0.7907858 ], -925823.1109743536\n",
      "[0.34934871 0.79085015], -925819.9098409949\n",
      "[0.34953092 0.79096937], -925810.2530533598\n",
      "[0.34956665 0.79107575], -925807.4387361115\n",
      "[0.34960909 0.79122346], -925798.4565444565\n",
      "[0.34967392 0.79137626], -925796.4693137379\n",
      "[0.34976273 0.79154796], -925788.1883076221\n",
      "[0.34982029 0.79176874], -925787.3683636084\n",
      "[0.34991542 0.79199138], -925780.5504704833\n",
      "[0.35003307 0.79217827], -925782.2864018641\n",
      "[0.35020299 0.79233951], -925777.7663809942\n",
      "[0.35044436 0.79241329], -925779.1770045671\n",
      "[0.35071654 0.79246257], -925774.5463447812\n",
      "[0.35102507 0.79253733], -925776.686931842\n",
      "[0.35132916 0.79260891], -925772.9106570831\n",
      "[0.35158942 0.7926685 ], -925776.0800261061\n",
      "[0.35179575 0.79275593], -925773.0236942394\n",
      "[0.35195855 0.79284305], -925775.8388286601\n",
      "[0.35205504 0.7929475 ], -925772.6943918654\n",
      "[0.35209595 0.79310353], -925776.2252001404\n",
      "[0.35208521 0.79326328], -925773.4919511538\n",
      "[0.35211165 0.79340353], -925778.9056614719\n",
      "[0.35213078 0.79351195], -925777.9687121522\n",
      "[0.35216629 0.79357937], -925783.4555612169\n",
      "[0.35220843 0.79360266], -925782.2610756356\n",
      "[0.35218294 0.79355676], -925787.8754738966\n",
      "[0.35218316 0.79344927], -925786.6662059982\n",
      "[0.352167   0.79337242], -925792.5926398194\n",
      "[0.35216936 0.79324853], -925791.8123066372\n",
      "[0.3521994  0.79310296], -925796.253599962\n",
      "[0.35225312 0.79291096], -925794.0462081796\n",
      "[0.35232032 0.79268926], -925797.6652635958\n",
      "[0.35237182 0.79246085], -925794.63186405\n",
      "[0.35240274 0.79219466], -925797.3424510134\n",
      "[0.35237818 0.79196893], -925793.3444199698\n",
      "[0.35234981 0.79172968], -925796.9984880702\n",
      "[0.35223996 0.79156212], -925793.7277215363\n",
      "[0.35207313 0.79147471], -925797.7525085495\n",
      "[0.35183117 0.79145846], -925795.4600870222\n",
      "[0.35151187 0.79151448], -925799.28797065\n",
      "[0.35118227 0.79159662], -925796.7597648035\n",
      "[0.35090875 0.79166575], -925800.9159147871\n",
      "[0.35070481 0.79170063], -925798.4645171779\n",
      "[0.3506166  0.79164151], -925799.8584761366\n",
      "[0.35062189 0.79153261], -925794.4950249289\n",
      "[0.35076565 0.79129707], -925796.0720291112\n",
      "[0.3509392  0.79107658], -925791.335811675\n",
      "[0.35111816 0.7909148 ], -925795.3026103713\n",
      "[0.35123391 0.79084733], -925792.7604599072\n",
      "[0.35133034 0.79085019], -925798.6821744177\n",
      "[0.3513266  0.79097654], -925797.347069488\n",
      "[0.35128175 0.79124781], -925801.2731620165\n",
      "[0.35116832 0.79159824], -925798.6769731974\n",
      "[0.35097916 0.79196857], -925802.8068794018\n",
      "[0.35080739 0.79233156], -925800.1255483971\n",
      "[0.3507837  0.79258962], -925804.173596444\n",
      "[0.35083135 0.79278158], -925800.973339659\n",
      "[0.35088581 0.79297443], -925805.6203572949\n",
      "[0.3510194  0.79307793], -925802.684769943\n",
      "[0.35122492 0.79305319], -925804.9931012657\n",
      "[0.35147668 0.79295844], -925800.0093118853\n",
      "[0.35178049 0.79293729], -925800.2895252032\n",
      "[0.35203766 0.79292069], -925793.3213389396\n",
      "[0.35220538 0.79296934], -925792.938704528\n",
      "[0.35227456 0.79306582], -925785.1481601704\n",
      "[0.35222421 0.7932524 ], -925783.891613661\n",
      "[0.35208045 0.79347778], -925774.9483179272\n",
      "[0.35187359 0.79374333], -925773.2127508448\n",
      "[0.35164629 0.79398082], -925764.381973868\n",
      "[0.35149524 0.79411778], -925763.6616063338\n",
      "[0.3513991 0.7941662], -925756.0644411902\n",
      "[0.35127642 0.79421826], -925755.299569597\n",
      "[0.35123135 0.79416903], -925747.2827900556\n",
      "[0.35129314 0.79402923], -925746.6192383367\n",
      "[0.35142419 0.79379709], -925739.1756923655\n",
      "[0.351694   0.79356107], -925738.2712032439\n",
      "[0.35195641 0.79330956], -925731.1101615097\n",
      "[0.35213637 0.79312572], -925733.8156249848\n",
      "[0.35222733 0.79300371], -925729.7042748913\n",
      "[0.35230631 0.793018  ], -925733.1220542381\n",
      "[0.35225715 0.79313641], -925729.3632667137\n",
      "[0.35209272 0.79327063], -925733.64789695\n",
      "[0.3518219  0.79349465], -925731.0078515239\n",
      "[0.35161222 0.79381329], -925735.8520200074\n",
      "[0.35138317 0.79415673], -925734.112879466\n",
      "[0.35114613 0.79444758], -925740.3027435334\n",
      "[0.35096635 0.79470311], -925739.0853347166\n",
      "[0.35080774 0.79502044], -925744.9537479586\n",
      "[0.35075234 0.79524644], -925743.2688446318\n",
      "[0.35070256 0.79546921], -925750.6523211915\n",
      "[0.35074269 0.79558514], -925750.5869713943\n",
      "[0.3508019  0.79565364], -925758.3564647606\n",
      "[0.35091049 0.7956393 ], -925758.6461906179\n",
      "[0.3509991  0.79560459], -925766.8568189469\n",
      "[0.3510564 0.7955391], -925768.2684093005\n",
      "[0.35104555 0.79548705], -925777.4779488101\n",
      "[0.35093106 0.79545632], -925779.6138098541\n",
      "[0.35063958 0.79548853], -925789.1466969842\n",
      "[0.35023297 0.79553905], -925791.5592654585\n",
      "[0.34980396 0.7955711 ], -925801.8916276351\n",
      "[0.34931649 0.79558191], -925805.377057618\n",
      "[0.34878807 0.79560213], -925816.4828518978\n",
      "[0.34828465 0.79555249], -925820.5575109068\n",
      "[0.34789372 0.79548   ], -925835.4222044656\n",
      "[0.34758447 0.79530566], -925843.0806491469\n",
      "[0.34720672 0.79499832], -925858.5099986616\n",
      "[0.34690492 0.79460377], -925866.377263607\n",
      "[0.34664201 0.79416089], -925879.1567232029\n",
      "[0.34643797 0.79367252], -925884.5036868326\n",
      "[0.34620661 0.79307744], -925898.9156986192\n",
      "[0.34596451 0.79252616], -925905.9847156049\n",
      "[0.34575773 0.79207938], -925918.8523293269\n",
      "[0.34548097 0.79176361], -925924.1433672784\n",
      "[0.34521616 0.79149522], -925937.2344970618\n",
      "[0.34488239 0.79139271], -925942.162196238\n",
      "[0.34445823 0.79136174], -925953.3071668985\n",
      "[0.34402869 0.79145476], -925956.9936785706\n",
      "[0.34362337 0.79162135], -925966.508714371\n",
      "[0.34332581 0.79182962], -925968.4881402631\n",
      "[0.34311822 0.79208497], -925977.4110636618\n",
      "[0.34312369 0.79230119], -925977.6464170554\n",
      "[0.34335791 0.79250071], -925984.2098977352\n",
      "[0.34379798 0.79266165], -925982.5051000518\n",
      "[0.34417466 0.79276029], -925988.7567141274\n",
      "[0.34463432 0.79288574], -925988.1632428712\n",
      "[0.34512406 0.79297397], -925997.3614845374\n",
      "[0.34555878 0.79317382], -925999.2637579124\n",
      "[0.34583669 0.79339238], -926007.3724228526\n",
      "[0.34598102 0.79376524], -926007.4732711824\n",
      "[0.34600528 0.79423896], -926015.7353839141\n",
      "[0.34594041 0.79481661], -926016.5840418463\n",
      "[0.34584552 0.79548149], -926024.515392113\n",
      "[0.34578346 0.79613478], -926025.1919086623\n",
      "[0.34578816 0.79682502], -926034.1076142666\n",
      "[0.34594562 0.79737818], -926034.4576280226\n",
      "[0.34617735 0.79782343], -926043.5577852558\n",
      "[0.34658007 0.79807625], -926043.9949482771\n",
      "[0.34702118 0.79809329], -926052.2129761684\n",
      "[0.34754037 0.79797442], -926052.9482102459\n",
      "[0.34800768 0.79784601], -926062.6393101197\n",
      "[0.34837915 0.79770865], -926064.4127854117\n",
      "[0.34859227 0.797572  ], -926074.4896846394\n",
      "[0.34859122 0.79752668], -926075.7289624688\n",
      "[0.34849032 0.7975233 ], -926082.4665196548\n",
      "[0.34816377 0.79762881], -926080.0593118841\n",
      "[0.34773035 0.79766036], -926086.3435117931\n",
      "[0.34718829 0.79772287], -926084.6836581092\n",
      "[0.34667784 0.79768906], -926090.5974188792\n",
      "[0.34621532 0.79758221], -926088.4853542945\n",
      "[0.34582644 0.79747135], -926093.3090348863\n",
      "[0.34558566 0.79723726], -926090.1554314814\n",
      "[0.34538869 0.79694795], -926095.0034182125\n",
      "[0.34533647 0.7965643 ], -926091.7231175109\n",
      "[0.34538419 0.79615015], -926095.9824376552\n",
      "[0.34548668 0.79573501], -926092.8844958359\n",
      "[0.34558593 0.7953881 ], -926097.1393368761\n",
      "[0.34562152 0.79515333], -926093.7429788647\n",
      "[0.34558982 0.79507098], -926098.0278494814\n",
      "[0.34543924 0.79514673], -926093.9945913423\n",
      "[0.34523402 0.7954115 ], -926095.9885632369\n",
      "[0.34497576 0.79578405], -926090.721381519\n",
      "[0.34475793 0.79618516], -926092.6955879332\n",
      "[0.34461398 0.79659042], -926087.5588202664\n",
      "[0.34452521 0.7969078 ], -926089.3514745313\n",
      "[0.34458231 0.79715029], -926083.34119239\n",
      "[0.34470542 0.79736234], -926085.5640973095\n",
      "[0.34496858 0.7974889 ], -926079.85936941\n",
      "[0.34534019 0.79761677], -926082.7519253147\n",
      "[0.3457478 0.7977179], -926078.6226260125\n",
      "[0.34620937 0.79779985], -926082.9877967593\n",
      "[0.34658346 0.79793716], -926079.6545676431\n",
      "[0.34690277 0.79813273], -926083.5016579869\n",
      "[0.34702858 0.79843947], -926078.5696759449\n",
      "[0.34700479 0.79870171], -926079.9289142431\n",
      "[0.34681036 0.79903177], -926072.5848560624\n",
      "[0.34665112 0.79945276], -926074.4251121223\n",
      "[0.34642485 0.79984775], -926067.9037993688\n",
      "[0.34619771 0.80010229], -926068.2585318299\n",
      "[0.34601374 0.8002358 ], -926060.2896314149\n",
      "[0.34602319 0.80031832], -926062.0523013511\n",
      "[0.34610984 0.80025064], -926055.4930762405\n",
      "[0.34627923 0.80004473], -926054.9141244723\n",
      "[0.34644067 0.79977221], -926046.8211944961\n",
      "[0.34659623 0.79941413], -926047.5222441801\n",
      "[0.34664623 0.79910478], -926040.7938055367\n",
      "[0.34662503 0.79890484], -926039.9382760675\n",
      "[0.3464687  0.79881687], -926031.2244189493\n",
      "[0.34617798 0.79868384], -926031.7841085285\n",
      "[0.34582319 0.79863447], -926024.4197369706\n",
      "[0.34542462 0.79865354], -926026.2969771436\n",
      "[0.34508091 0.79868737], -926020.936096848\n",
      "[0.34477578 0.79869245], -926025.2687553461\n",
      "[0.34464363 0.7986549 ], -926021.3320413522\n",
      "[0.34462673 0.79852776], -926024.0463688961\n",
      "[0.34478858 0.79837201], -926018.0012039251\n",
      "[0.34512134 0.79828953], -926019.9822117423\n",
      "[0.34553739 0.79826566], -926013.9539115876\n",
      "[0.34592034 0.79832393], -926015.9236948922\n",
      "[0.34626361 0.7985204 ], -926009.279897057\n",
      "[0.34649858 0.79872804], -926011.184375447\n",
      "[0.34664088 0.79908879], -926004.4575254555\n",
      "[0.34679448 0.79963172], -926004.8774759157\n",
      "[0.3468929  0.80026258], -925996.8685977422\n",
      "[0.34688797 0.80087769], -925997.893097427\n",
      "[0.3469287  0.80146337], -925990.7609592096\n",
      "[0.34695116 0.80195127], -925991.3378082871\n",
      "[0.34707627 0.80233517], -925983.7400442282\n",
      "[0.34719    0.80272143], -925984.4241462366\n",
      "[0.34738911 0.80298632], -925976.4828766241\n",
      "[0.34756452 0.80321528], -925975.2987066593\n",
      "[0.34775536 0.80335625], -925965.9967348459\n",
      "[0.34784236 0.80354512], -925964.169331597\n",
      "[0.34788765 0.80366948], -925954.566544967\n",
      "[0.34782832 0.803599  ], -925951.6204820976\n",
      "[0.34769522 0.80347103], -925940.571005515\n",
      "[0.34752655 0.80342584], -925937.7679376256\n",
      "[0.347263   0.80333113], -925926.0371093202\n",
      "[0.34702782 0.80309288], -925922.4597246008\n",
      "[0.34669241 0.80283113], -925909.92421061\n",
      "[0.34636901 0.80262843], -925905.4330970417\n",
      "[0.34595513 0.80240985], -925892.4311603844\n",
      "[0.34540785 0.80219219], -925889.5377344673\n",
      "[0.34482185 0.80195162], -925878.0670582992\n",
      "[0.34423061 0.80167081], -925873.7737067561\n",
      "[0.34369176 0.80133332], -925860.5908858405\n",
      "[0.34320655 0.80102755], -925852.1373260344\n",
      "[0.34283926 0.80063239], -925834.9707302562\n",
      "[0.34257122 0.80011538], -925827.1190271126\n",
      "[0.34239883 0.79956542], -925811.4018579407\n",
      "[0.34229939 0.79910429], -925806.333540548\n",
      "[0.34220891 0.79871667], -925793.2848492502\n",
      "[0.342154   0.79839096], -925790.9480812966\n",
      "[0.34201899 0.79823469], -925779.8029051848\n",
      "[0.34175094 0.79828588], -925776.931859103\n",
      "[0.34142242 0.79849647], -925765.1088086906\n",
      "[0.34112227 0.79879638], -925761.4083570652\n",
      "[0.34088446 0.79915952], -925749.1700261886\n",
      "[0.34077663 0.79951608], -925746.0672941519\n",
      "[0.3408247  0.79984622], -925733.7364765552\n",
      "[0.3410074  0.80012766], -925729.228035414\n",
      "[0.34134003 0.80037587], -925715.5749038543\n",
      "[0.34170035 0.80061538], -925711.82192419\n",
      "[0.34211891 0.80087551], -925699.5704544749\n",
      "[0.3426031  0.80117031], -925695.2632333844\n",
      "[0.34301611 0.80155348], -925682.2991729355\n",
      "[0.34342017 0.80195577], -925677.1541051778\n",
      "[0.34367008 0.80248397], -925662.6977594343\n",
      "[0.34382714 0.80304634], -925656.6397656271\n",
      "[0.34382951 0.80367926], -925641.9870629669\n",
      "[0.34378361 0.804417  ], -925636.4670898989\n",
      "[0.34368166 0.80511068], -925623.3670180226\n",
      "[0.34358234 0.80571293], -925619.3286881986\n",
      "[0.34353608 0.80615124], -925607.0622707608\n",
      "[0.34363767 0.80654312], -925603.641337186\n",
      "[0.34383103 0.80671252], -925590.9395854987\n",
      "[0.34405872 0.80683691], -925590.4852500411\n",
      "[0.34430545 0.80678569], -925581.7094443088\n",
      "[0.3444696  0.80662314], -925582.5616674734\n",
      "[0.34451599 0.80638944], -925575.0197278862\n",
      "[0.34448255 0.8061485 ], -925575.1998672058\n",
      "[0.34425385 0.80591951], -925566.1485930376\n",
      "[0.34391185 0.80572287], -925564.8604979396\n",
      "[0.34339206 0.80555154], -925553.9508690597\n",
      "[0.34286117 0.80536792], -925551.8147577257\n",
      "[0.34225512 0.80517422], -925540.585329806\n",
      "[0.34163093 0.80494888], -925536.7062686995\n",
      "[0.3410704  0.80464237], -925524.3090937297\n",
      "[0.34052575 0.80430497], -925521.6631322574\n",
      "[0.34011167 0.80388133], -925509.8926933348\n",
      "[0.33978627 0.80341668], -925507.9878672705\n",
      "[0.33957509 0.80291834], -925497.1620070993\n",
      "[0.33938435 0.80235904], -925495.6443641719\n",
      "[0.33918678 0.80188891], -925486.235075011\n",
      "[0.33897294 0.80137335], -925487.1814112224\n",
      "[0.33865623 0.80104999], -925478.7951678582\n",
      "[0.33832164 0.80081147], -925479.001101818\n",
      "[0.33785562 0.8007977 ], -925469.9421525927\n",
      "[0.33724691 0.80083164], -925469.8436511308\n",
      "[0.33661445 0.80101627], -925460.6780391389\n",
      "[0.33594569 0.80127967], -925461.430917077\n",
      "[0.33540816 0.80156741], -925453.0472139836\n",
      "[0.33505331 0.80185765], -925455.0030266157\n",
      "[0.33494558 0.80206713], -925447.0729131754\n",
      "[0.33493452 0.80221422], -925448.1173607741\n",
      "[0.3351104  0.80229097], -925439.8329661186\n",
      "[0.33534944 0.80230603], -925443.0416777784\n",
      "[0.33559457 0.8023697 ], -925437.3707155525\n",
      "[0.335772   0.80246367], -925442.7291141814\n",
      "[0.33580938 0.80269658], -925438.5212442012\n",
      "[0.33582277 0.80300117], -925443.0407747785\n",
      "[0.33565026 0.8034472 ], -925437.3883651946\n",
      "[0.33535536 0.80379456], -925439.1217050343\n",
      "[0.33497155 0.80420758], -925431.9117714926\n",
      "[0.33463841 0.80466494], -925433.1434906822\n",
      "[0.33438416 0.80504494], -925424.8787341332\n",
      "[0.33421239 0.80544149], -925428.5370302852\n",
      "[0.33425328 0.8056539 ], -925421.9013197353\n",
      "[0.33453738 0.80571243], -925423.615830667\n",
      "[0.33497034 0.80562025], -925415.6069871908\n",
      "[0.33541833 0.80552459], -925419.6262864389\n",
      "[0.3358001  0.80544838], -925415.0229701842\n",
      "[0.33598117 0.80535495], -925420.8379037988\n",
      "[0.33596633 0.80538111], -925416.7817835222\n",
      "[0.33581154 0.80541551], -925422.3498983171\n",
      "[0.33550917 0.8055676 ], -925418.466074968\n",
      "[0.33514532 0.80575282], -925421.8869388225\n",
      "[0.33478231 0.80595087], -925416.3938947164\n",
      "[0.33451002 0.80604226], -925424.3656050463\n",
      "[0.33439797 0.80604007], -925422.88794527\n",
      "[0.33429528 0.80601541], -925429.3543496643\n",
      "[0.33438627 0.80588334], -925426.1569536591\n",
      "[0.33464138 0.80568075], -925432.4543568853\n",
      "[0.33496365 0.8054738 ], -925429.9347323042\n",
      "[0.33526311 0.80529429], -925439.4251347198\n",
      "[0.33543575 0.80525129], -925439.8222150224\n",
      "[0.33556074 0.80525718], -925452.0053666065\n",
      "[0.33545805 0.80547093], -925453.6036672973\n",
      "[0.33526577 0.80578294], -925467.2904998286\n",
      "[0.33492977 0.80623077], -925471.825726265\n",
      "[0.3346561  0.80682016], -925484.4410112646\n",
      "[0.33442771 0.80738536], -925488.2737011891\n",
      "[0.3342566  0.80790216], -925500.9071542135\n",
      "[0.33430261 0.80824012], -925503.215481491\n",
      "[0.3344674 0.8083758], -925515.4059758587\n",
      "[0.33482061 0.80833269], -925517.3473969979\n",
      "[0.33515142 0.80822747], -925530.2911975231\n",
      "[0.3354786  0.80808289], -925534.49862163\n",
      "[0.3357913  0.80786208], -925549.9073313554\n",
      "[0.33585853 0.80777343], -925555.8564067099\n",
      "[0.3356355  0.80774749], -925571.0148674287\n",
      "[0.33513876 0.80788676], -925575.6010994152\n",
      "[0.33469238 0.80813891], -925588.5410233698\n",
      "[0.33415121 0.80840983], -925592.8288995593\n",
      "[0.33358906 0.80872031], -925605.2856346624\n",
      "[0.33314173 0.80888263], -925608.559596099\n",
      "[0.33275555 0.80885577], -925621.6546582081\n",
      "[0.33259878 0.80862278], -925624.4360472419\n",
      "[0.33253353 0.80827192], -925635.4786613188\n",
      "[0.33266442 0.80777924], -925636.3678277999\n",
      "[0.3327739  0.80725414], -925647.0620676224\n",
      "[0.33286068 0.8067782 ], -925648.7155149672\n",
      "[0.33278213 0.80638248], -925658.7302939483\n",
      "[0.33251921 0.80619858], -925657.9105182519\n",
      "[0.3321212  0.80625167], -925667.1995146123\n",
      "[0.33159073 0.80649866], -925665.6817203476\n",
      "[0.33106623 0.8066957 ], -925674.7772394506\n",
      "[0.33061919 0.80692606], -925674.0200454455\n",
      "[0.33013672 0.80715285], -925685.9053385002\n",
      "[0.32991886 0.80727753], -925686.8763325656\n",
      "[0.32980496 0.80728837], -925696.5647881251\n",
      "[0.3300016  0.80717874], -925695.0445946597\n",
      "[0.33027008 0.80700857], -925702.707339475\n",
      "[0.33068511 0.80684762], -925700.1676668389\n",
      "[0.33106158 0.80689102], -925704.960060336\n",
      "[0.33134144 0.80711124], -925699.42429113\n",
      "[0.33134645 0.80744141], -925701.6460240355\n",
      "[0.3311959  0.80796261], -925693.4598509497\n",
      "[0.3310285  0.80848546], -925693.1404627302\n",
      "[0.33083959 0.80905941], -925683.1162452169\n",
      "[0.33068198 0.80952371], -925683.9380317339\n",
      "[0.33059426 0.80991922], -925674.6506757643\n",
      "[0.33051719 0.81032012], -925672.7087610834\n",
      "[0.33051663 0.81062221], -925660.6014286908\n",
      "[0.33046812 0.81083883], -925659.4357850034\n",
      "[0.33047143 0.8109377 ], -925648.6106338665\n",
      "[0.33053746 0.81102911], -925647.1388014613\n",
      "[0.33057948 0.81105508], -925635.7163288369\n",
      "[0.33053702 0.81120197], -925641.3712722071\n",
      "[0.33043587 0.8113023 ], -925636.8312496573\n",
      "[0.33030418 0.8114583 ], -925643.2187407684\n",
      "[0.3300877  0.81156288], -925639.4110312191\n",
      "[0.32995178 0.81174635], -925652.0567812908\n",
      "[0.32978673 0.81183125], -925655.1128836487\n",
      "[0.32960122 0.8118104 ], -925669.6280180981\n",
      "[0.32939248 0.81169698], -925674.5145643738\n",
      "[0.32911506 0.81158192], -925687.3049044169\n",
      "[0.32880454 0.81139162], -925689.5533965058\n",
      "[0.32850773 0.81116309], -925703.153010506\n",
      "[0.32818331 0.81088839], -925706.1388437883\n",
      "[0.32778068 0.8106225 ], -925717.9632427861\n",
      "[0.32732208 0.81036239], -925719.2834986984\n",
      "[0.32681004 0.81008633], -925728.0120354594\n",
      "[0.3262478  0.80985918], -925725.694980875\n",
      "[0.32571664 0.80950517], -925733.0837471084\n",
      "[0.32520079 0.80919123], -925729.4368124882\n",
      "[0.32477181 0.80894493], -925738.7626762515\n",
      "[0.32436522 0.80877013], -925736.9496757297\n",
      "[0.3240065  0.80856624], -925744.8683887436\n",
      "[0.32367901 0.80845104], -925742.4052623138\n",
      "[0.32346793 0.80841761], -925751.0031220694\n",
      "[0.32331795 0.80846822], -925749.2020354504\n",
      "[0.32319309 0.80861724], -925760.5956845637\n",
      "[0.32311525 0.80886003], -925761.0487406391\n",
      "[0.32314503 0.80912527], -925771.7876006351\n",
      "[0.32317667 0.80948672], -925771.8485046659\n",
      "[0.32303271 0.80988655], -925780.1372455014\n",
      "[0.32291196 0.81032598], -925777.9478375835\n",
      "[0.32270855 0.81075198], -925785.2896227979\n",
      "[0.32259516 0.81112714], -925782.0477206587\n",
      "[0.32248528 0.81143907], -925788.3713930292\n",
      "[0.32247467 0.81165512], -925783.4318218888\n",
      "[0.32240778 0.81176585], -925788.5939141827\n",
      "[0.32235131 0.81181854], -925782.9677454724\n",
      "[0.32229211 0.81178638], -925786.2618594061\n",
      "[0.32220161 0.81173124], -925778.6283512041\n",
      "[0.32200984 0.81170508], -925782.0196301759\n",
      "[0.32175116 0.81168854], -925774.7852036194\n",
      "[0.32151441 0.81149352], -925780.2029929906\n",
      "[0.32123436 0.81130664], -925774.9638265275\n",
      "[0.32097309 0.81109326], -925781.7927033211\n",
      "[0.32067285 0.81091118], -925777.5549162892\n",
      "[0.32038996 0.8107099 ], -925782.7935232641\n",
      "[0.32011885 0.81055651], -925777.5689590442\n",
      "[0.3199039  0.81035586], -925784.3285299407\n",
      "[0.31977292 0.81017555], -925780.9316602112\n",
      "[0.31966085 0.80999749], -925789.6937668709\n",
      "[0.31964064 0.80987047], -925787.4279337147\n",
      "[0.31953389 0.80979279], -925793.9823463438\n",
      "[0.31950231 0.80980685], -925789.6172252769\n",
      "[0.31949897 0.80996046], -925798.098058017\n",
      "[0.31959825 0.8102074 ], -925796.035986422\n",
      "[0.31982083 0.81055207], -925802.5298935208\n",
      "[0.32012504 0.81098994], -925797.9357876115\n",
      "[0.32037208 0.81147052], -925805.9749921123\n",
      "[0.32067872 0.81201479], -925803.1419798086\n",
      "[0.32104667 0.81248393], -925814.1028836464\n",
      "[0.32141627 0.81300268], -925813.6354547784\n",
      "[0.3217501  0.81352133], -925821.0639226151\n",
      "[0.32202294 0.81409351], -925818.0296275155\n",
      "[0.32224405 0.81454732], -925824.722902931\n",
      "[0.32240678 0.81500076], -925821.3455754175\n",
      "[0.3223416  0.81549201], -925828.7870920929\n",
      "[0.32229319 0.81589436], -925825.5940600558\n",
      "[0.3222597 0.816214 ], -925834.5852991645\n",
      "[0.32236941 0.81633627], -925831.8085057334\n",
      "[0.32259857 0.81619432], -925841.0589121087\n",
      "[0.32287684 0.81590656], -925839.2316748637\n",
      "[0.32324632 0.81559448], -925846.2602083691\n",
      "[0.32342264 0.81532054], -925841.7176119355\n",
      "[0.32342981 0.81506921], -925849.2292404787\n",
      "[0.32313749 0.81494916], -925843.9503390009\n",
      "[0.32275854 0.81488779], -925851.4579358224\n",
      "[0.3222213  0.81488229], -925847.7888561586\n",
      "[0.32162708 0.81476451], -925855.8682356088\n",
      "[0.32112253 0.8145609 ], -925853.0195110587\n",
      "[0.32073704 0.81428937], -925862.428712059\n",
      "[0.32063021 0.81384804], -925859.6782244954\n",
      "[0.32049166 0.81322701], -925870.670363847\n",
      "[0.3205802  0.81255152], -925869.8903211497\n",
      "[0.32078149 0.81187652], -925879.5647019838\n",
      "[0.32101641 0.81133188], -925878.7189472918\n",
      "[0.32122492 0.81086368], -925887.0354907719\n",
      "[0.32130767 0.8106773 ], -925883.44042541\n",
      "[0.32116957 0.81060575], -925890.8283389765\n",
      "[0.32089985 0.81082838], -925886.5058708505\n",
      "[0.32059174 0.81109795], -925893.4178476608\n",
      "[0.32035269 0.81149596], -925889.1162298578\n",
      "[0.32028206 0.81187283], -925893.6790695293\n",
      "[0.3204274  0.81224741], -925887.1467656236\n",
      "[0.32073241 0.81259254], -925891.2337188636\n",
      "[0.32119649 0.81292706], -925885.1621942337\n",
      "[0.3217313  0.81336882], -925891.3142804829\n",
      "[0.32223821 0.81385935], -925887.0291891359\n",
      "[0.32257844 0.81435953], -925895.5543680633\n",
      "[0.32276992 0.81491996], -925893.1383605292\n",
      "[0.32279446 0.81555908], -925900.7023624403\n",
      "[0.32272442 0.81615229], -925897.1934099625\n",
      "[0.32268846 0.81660253], -925906.0028875273\n",
      "[0.32273031 0.81683316], -925902.9238071038\n",
      "[0.32281809 0.81692452], -925912.6843305179\n",
      "[0.32298037 0.81677154], -925909.6316582317\n",
      "[0.32315192 0.81656842], -925917.3820794002\n",
      "[0.32326441 0.81622872], -925913.3907241235\n",
      "[0.32339653 0.81590487], -925923.5487110403\n",
      "[0.32337967 0.81551834], -925921.945858682\n",
      "[0.32326914 0.81506493], -925931.1271436499\n",
      "[0.32302377 0.81459102], -925929.0202587504\n",
      "[0.32269081 0.81401989], -925939.3671759956\n",
      "[0.32235291 0.81340404], -925938.7028414124\n",
      "[0.32201381 0.8128747 ], -925949.3894890649\n",
      "[0.32176458 0.81231092], -925948.4157846228\n",
      "[0.32151628 0.81171357], -925960.1355682587\n",
      "[0.32144393 0.81110309], -925960.3415926289\n",
      "[0.32140983 0.81053042], -925971.9652983099\n",
      "[0.32152151 0.81004887], -925971.5708349402\n",
      "[0.32168237 0.80970687], -925983.9343361598\n",
      "[0.32190589 0.80955568], -925984.6175533655\n",
      "[0.32224161 0.80957092], -925994.7781862718\n",
      "[0.32259549 0.80981637], -925992.6772682315\n",
      "[0.32293562 0.8101691 ], -926003.1257945849\n",
      "[0.32328185 0.8107224 ], -926001.3778426406\n",
      "[0.32352243 0.81143008], -926011.1521667382\n",
      "[0.32390353 0.81217244], -926009.8669735094\n",
      "[0.32453239 0.81293354], -926020.0267158838\n",
      "[0.32534726 0.81359056], -926018.507231507\n",
      "[0.32602982 0.81416811], -926031.068147674\n",
      "[0.32675552 0.81465644], -926032.0278754013\n",
      "[0.32736136 0.81499978], -926042.7551525015\n",
      "[0.32787587 0.81526936], -926041.544200859\n",
      "[0.32827312 0.8155152 ], -926053.1458159899\n",
      "[0.32846114 0.81573275], -926052.0148881171\n",
      "[0.32849763 0.8159118 ], -926060.0999720456\n",
      "[0.32837493 0.81599529], -926055.4392316117\n",
      "[0.32823774 0.81597552], -926062.9273638497\n",
      "[0.32807775 0.81576367], -926057.785625918\n",
      "[0.32789439 0.81536786], -926063.9578085776\n",
      "[0.32774323 0.8147633 ], -926057.4511018841\n",
      "[0.32755984 0.81399469], -926063.4616443864\n",
      "[0.32735155 0.81312296], -926057.2469143677\n",
      "[0.3270409  0.81231015], -926062.287779395\n",
      "[0.32664107 0.81153182], -926055.4793343922\n",
      "[0.32626956 0.81092333], -926060.3970927385\n",
      "[0.32583091 0.81041031], -926052.9563459284\n",
      "[0.32539021 0.81005407], -926059.5450096083\n",
      "[0.32497377 0.80976909], -926054.1881393905\n",
      "[0.324605   0.80961604], -926062.7754816908\n",
      "[0.32437752 0.80948954], -926059.1731029573\n",
      "[0.32415309 0.80944376], -926066.5484492354\n",
      "[0.32415389 0.80937119], -926061.5018889302\n",
      "[0.32430727 0.80916295], -926069.4511191413\n",
      "[0.32456397 0.80901768], -926065.7598257927\n",
      "[0.32479214 0.80907634], -926077.6233135334\n",
      "[0.32495119 0.809294  ], -926077.0159843082\n",
      "[0.32510212 0.80957349], -926089.443895696\n",
      "[0.32515458 0.8099757 ], -926089.8020159594\n",
      "[0.32514078 0.81038998], -926103.5535712116\n",
      "[0.32507425 0.81084983], -926105.1097309798\n",
      "[0.32492232 0.8112948 ], -926119.2372575131\n",
      "[0.32489233 0.81160878], -926121.4412745823\n",
      "[0.3250174  0.81186408], -926136.2839506592\n",
      "[0.32532954 0.81189916], -926138.0052752184\n",
      "[0.32555298 0.81178259], -926150.1406110775\n",
      "[0.32582487 0.81152701], -926149.6955930785\n",
      "[0.32609916 0.81112176], -926158.9082790583\n",
      "[0.32623792 0.81072213], -926155.2307983275\n",
      "[0.32627643 0.81038765], -926163.7907136163\n",
      "[0.32608865 0.8101736 ], -926159.9085110067\n",
      "[0.32574975 0.81014937], -926170.4524720175\n",
      "[0.32533427 0.81017316], -926169.131209458\n",
      "[0.32501216 0.81013668], -926177.7982223172\n",
      "[0.32488582 0.8099876 ], -926173.1084837471\n",
      "[0.3249547  0.80982007], -926177.0837095995\n",
      "[0.32525854 0.80954122], -926168.4476234432\n",
      "[0.32564322 0.80918313], -926173.4974765737\n",
      "[0.32604979 0.80889349], -926167.0487661731\n",
      "[0.32636487 0.80870329], -926172.856542041\n",
      "[0.32647971 0.80875801], -926165.0219245822\n",
      "[0.32654571 0.80899316], -926169.1613548564\n",
      "[0.32648436 0.80941162], -926160.7909789649\n",
      "[0.32650125 0.80989402], -926167.6615575053\n",
      "[0.32657193 0.81039569], -926162.1436460112\n",
      "[0.3266665  0.81081372], -926170.2473973434\n",
      "[0.32695829 0.81111332], -926164.7201855688\n",
      "[0.32736966 0.81137211], -926170.9653945316\n",
      "[0.32795184 0.81149428], -926163.0936287205\n",
      "[0.32863353 0.81155067], -926172.6600378798\n",
      "[0.32926486 0.8115872 ], -926168.8274620202\n",
      "[0.32969363 0.8115595 ], -926176.1605112959\n",
      "[0.32982469 0.8116757 ], -926168.827114757\n",
      "[0.32971334 0.81189205], -926176.9164881227\n",
      "[0.32934095 0.81221038], -926170.3124715224\n",
      "[0.328886   0.81252725], -926173.5907167546\n",
      "[0.32844105 0.81275702], -926163.2589487405\n",
      "[0.32803792 0.812903  ], -926166.9488363272\n",
      "[0.3279363  0.81276467], -926156.7824305207\n",
      "[0.32801655 0.81234274], -926159.0537065804\n",
      "[0.32833098 0.81172118], -926147.7421619021\n",
      "[0.32865016 0.81106732], -926151.6528413318\n",
      "[0.32882462 0.81053624], -926143.6532759729\n",
      "[0.32889051 0.81031585], -926147.0278835372\n",
      "[0.32864042 0.81039248], -926136.3584908448\n",
      "[0.32813726 0.81064693], -926138.5614383451\n",
      "[0.32756853 0.81102142], -926129.3959392109\n",
      "[0.32722128 0.81124131], -926134.565106587\n",
      "[0.32712001 0.81133101], -926126.5715002374\n",
      "[0.32706475 0.81125303], -926129.6244722637\n",
      "[0.32726399 0.81100718], -926119.1704035322\n",
      "[0.32752191 0.81078382], -926123.135440377\n",
      "[0.32779922 0.81055078], -926115.3158557062\n",
      "[0.32795315 0.81025731], -926123.4904630118\n",
      "[0.32788443 0.81015692], -926117.9038047853\n",
      "[0.32755961 0.81025481], -926121.0843266528\n",
      "[0.32711357 0.81046687], -926111.3968738057\n",
      "[0.32682168 0.81067272], -926115.742825868\n",
      "[0.32667406 0.81079138], -926106.7116587044\n",
      "[0.32658752 0.81093033], -926111.5888165663\n",
      "[0.32673062 0.81092054], -926102.6328169166\n",
      "[0.32689044 0.81084131], -926104.0302192365\n",
      "[0.32712362 0.81072568], -926092.5651085514\n",
      "[0.32726548 0.81062352], -926094.7726393258\n",
      "[0.3272986  0.81064041], -926082.6718282321\n",
      "[0.32720279 0.81060034], -926080.81231753\n",
      "[0.32695198 0.81071781], -926063.9198371231\n",
      "[0.32665002 0.81094298], -926061.7646543321\n",
      "[0.32633717 0.81124725], -926045.748152812\n",
      "[0.32604803 0.81138696], -926040.6508263778\n",
      "[0.32593059 0.81147551], -926020.6970212611\n",
      "[0.32590634 0.81163007], -926015.9879997605\n",
      "[0.32606317 0.81173475], -925997.0854589065\n",
      "[0.32634048 0.81182116], -925991.0783821004\n",
      "[0.32663891 0.81195327], -925971.5616621018\n",
      "[0.32693209 0.81204757], -925963.6912285781\n",
      "[0.32701952 0.8123282 ], -925942.2215152514\n",
      "[0.32699157 0.81279543], -925935.124791124\n",
      "[0.32676205 0.81339968], -925914.8332841959\n",
      "[0.32631246 0.81401013], -925911.0998326032\n",
      "[0.32600368 0.81446003], -925894.4384175203\n",
      "[0.32583839 0.81462183], -925890.9711720301\n",
      "[0.32598179 0.81449558], -925872.7183380178\n",
      "[0.32611717 0.81412776], -925867.4732549798\n",
      "[0.32638826 0.8136172 ], -925848.9126505755\n",
      "[0.32674006 0.81320382], -925847.1241544357\n",
      "[0.32689063 0.81291804], -925832.3636531098\n",
      "[0.32671362 0.81272803], -925828.6910822884\n",
      "[0.32619226 0.81278695], -925810.148336803\n",
      "[0.32551594 0.81296416], -925806.0679423667\n",
      "[0.32483771 0.81314752], -925790.5020510483\n",
      "[0.32422625 0.81326065], -925789.9422280943\n",
      "[0.32398947 0.81313315], -925775.1657366578\n",
      "[0.32399406 0.81287483], -925776.354333418\n",
      "[0.32433148 0.81244049], -925763.4257474343\n",
      "[0.32463327 0.81216079], -925765.2801183069\n",
      "[0.32490695 0.81197935], -925753.7208663312\n",
      "[0.32513048 0.81179015], -925757.8086646581\n",
      "[0.32503922 0.81189841], -925746.4149531117\n",
      "[0.32475791 0.81215628], -925747.3124654961\n",
      "[0.32424615 0.81263705], -925733.659706689\n",
      "[0.32356843 0.81318468], -925735.5411884467\n",
      "[0.32310253 0.81360622], -925723.1561426563\n",
      "[0.32299321 0.8139728 ], -925723.4968616213\n",
      "[0.32334908 0.8140179 ], -925707.0624912007\n",
      "[0.32396025 0.81396774], -925709.806051563\n",
      "[0.32472884 0.8137939 ], -925699.1868391722\n",
      "[0.32535124 0.81347856], -925705.7875641417\n",
      "[0.32563819 0.81338691], -925698.2828618719\n",
      "[0.32576912 0.81344729], -925703.645012448\n",
      "[0.32538223 0.81385232], -925692.5802213992\n",
      "[0.32469225 0.81442909], -925697.625214106\n",
      "[0.3239011  0.81501083], -925691.4633081073\n",
      "[0.32334593 0.81548036], -925702.5889543112\n",
      "[0.32323475 0.81555461], -925698.0416011225\n",
      "[0.32334773 0.81550508], -925706.5663484862\n",
      "[0.32384124 0.81510682], -925699.3661212651\n",
      "[0.32421285 0.81458083], -925705.978938472\n",
      "[0.32451575 0.81406085], -925699.0807623689\n",
      "[0.32476428 0.8135633 ], -925708.155783029\n",
      "[0.32454189 0.81339121], -925700.0618704016\n",
      "[0.32391562 0.81330626], -925704.8852016393\n",
      "[0.3229568  0.81348858], -925694.8329649951\n",
      "[0.32209664 0.81371677], -925696.198508029\n",
      "[0.32139923 0.81387092], -925683.9027876543\n",
      "[0.32104522 0.81401209], -925686.3597860299\n",
      "[0.3211289  0.81388012], -925672.3390436968\n",
      "[0.32133014 0.81377995], -925672.9984089722\n",
      "[0.32176254 0.81354991], -925659.9492346805\n",
      "[0.32222281 0.81336357], -925661.2491534633\n",
      "[0.32247232 0.81334971], -925648.8675682794\n",
      "[0.32241677 0.81343095], -925650.0572631134\n",
      "[0.32202749 0.81375849], -925636.8495037943\n",
      "[0.32147253 0.8141734 ], -925643.8814542143\n",
      "[0.32096717 0.8145456 ], -925638.0718551334\n",
      "[0.32072493 0.81474934], -925647.1090359362\n",
      "[0.32077416 0.81473133], -925641.2342329338\n",
      "[0.32095116 0.81465082], -925647.1698884488\n",
      "[0.32125903 0.81444508], -925638.9969315581\n",
      "[0.32144868 0.81440102], -925646.163937316\n",
      "[0.32148535 0.81442814], -925638.0962869877\n",
      "[0.32146096 0.81449075], -925637.3483523874\n",
      "[0.32124672 0.8146233 ], -925620.9332583641\n",
      "[0.32088417 0.81469905], -925619.2734098502\n",
      "[0.32051213 0.81473105], -925602.2711220456\n",
      "[0.32034771 0.81463016], -925601.1803512353\n",
      "[0.32028512 0.81441651], -925584.9697702457\n",
      "[0.32024937 0.81412246], -925583.1813751895\n",
      "[0.32022484 0.81383973], -925566.8970968415\n",
      "[0.31995502 0.81361375], -925566.0583026399\n",
      "[0.31966078 0.81345289], -925552.2611982529\n",
      "[0.31943651 0.81323863], -925553.0326526794\n",
      "[0.31925368 0.81308266], -925540.5249196162\n",
      "[0.31915004 0.81293435], -925544.0115852125\n",
      "[0.31912532 0.81285183], -925534.642375931\n",
      "[0.31913286 0.81296924], -925537.1634245048\n",
      "[0.31916491 0.81317986], -925526.0288870195\n",
      "[0.31900285 0.81337126], -925534.3474595448\n",
      "[0.31892058 0.81359484], -925529.4594137165\n",
      "[0.31894967 0.81379198], -925538.6643088976\n",
      "[0.3191497  0.81390697], -925532.768238843\n",
      "[0.31936661 0.81396427], -925540.0021833855\n",
      "[0.31962364 0.81401674], -925533.0035875615\n",
      "[0.31982455 0.81413185], -925540.0587465266\n",
      "[0.31994288 0.81432481], -925532.8092377443\n",
      "[0.32003518 0.81451759], -925543.9246588969\n",
      "[0.32008242 0.81476097], -925540.0508355148\n",
      "[0.32002372 0.81490248], -925549.5523306249\n",
      "[0.32002535 0.81501412], -925544.0007036927\n",
      "[0.32018963 0.81498918], -925548.1620144801\n",
      "[0.32040581 0.81495435], -925537.467091519\n",
      "[0.32062723 0.81486042], -925543.7150412141\n",
      "[0.3207704  0.81488193], -925535.4074390648\n",
      "[0.32080827 0.81505144], -925539.0519332647\n",
      "[0.32073571 0.81535274], -925527.3052107044\n",
      "[0.32056079 0.81572189], -925525.8105401304\n",
      "[0.32045806 0.81607354], -925509.6917306293\n",
      "[0.32039008 0.81636043], -925507.0264343129\n",
      "[0.32045495 0.81654188], -925489.6865042198\n",
      "[0.32083122 0.81670604], -925488.9276994186\n",
      "[0.32119049 0.81683312], -925473.8179284574\n",
      "[0.32137154 0.81708228], -925476.5241870605\n",
      "[0.32131036 0.81742606], -925464.467524462\n",
      "[0.32119677 0.8177748 ], -925470.5997334023\n",
      "[0.32094013 0.81811759], -925462.4741722126\n",
      "[0.32058304 0.81832556], -925474.0467894733\n",
      "[0.32031118 0.81834683], -925470.5629160014\n",
      "[0.32028242 0.81831138], -925482.2728691155\n",
      "[0.32041675 0.81806706], -925478.446566823\n",
      "[0.32061887 0.81774165], -925493.1940124092\n",
      "[0.32076455 0.81740636], -925493.8077081903\n",
      "[0.32077398 0.81709752], -925510.130702537\n",
      "[0.32055491 0.81693402], -925510.9950971782\n",
      "[0.32021798 0.81710867], -925525.9569507538\n",
      "[0.31985136 0.81730142], -925526.648670943\n",
      "[0.31957218 0.81760607], -925544.0335484475\n",
      "[0.31958766 0.81770249], -925545.5569770886\n",
      "[0.31967403 0.81768846], -925560.6922983973\n",
      "[0.32004525 0.81746213], -925560.6959312214\n",
      "[0.32043092 0.81721045], -925576.2554943131\n",
      "[0.32070748 0.81703886], -925577.3244379866\n",
      "[0.32089064 0.81691411], -925593.0116378181\n",
      "[0.32070411 0.81703623], -925591.761689567\n",
      "[0.32035245 0.81747402], -925606.3655613619\n",
      "[0.31989414 0.81797199], -925606.4762961859\n",
      "[0.31952575 0.8185215 ], -925625.8270576961\n",
      "[0.31951675 0.81875318], -925628.2444958139\n",
      "[0.31978833 0.81885428], -925644.4484995395\n",
      "[0.32037732 0.81863261], -925644.1357770826\n",
      "[0.32105232 0.81823693], -925659.882180671\n",
      "[0.32149904 0.8179094 ], -925660.9069408434\n",
      "[0.32149952 0.81772103], -925674.4123732953\n",
      "[0.32097615 0.81784099], -925670.2264275112\n",
      "[0.3202417  0.81807106], -925679.4904819832\n",
      "[0.31943634 0.81833655], -925675.1632617364\n",
      "[0.31882281 0.81866117], -925687.08396023\n",
      "[0.31872691 0.81864916], -925681.8412541497\n",
      "[0.31886665 0.81867523], -925691.0408957773\n",
      "[0.31948853 0.81841695], -925683.4009716238\n",
      "[0.32007655 0.8181351 ], -925693.7109965774\n",
      "[0.32055731 0.81797189], -925690.3551863089\n",
      "[0.3208479  0.81795922], -925700.2216647833\n",
      "[0.32065105 0.81834278], -925692.5313640519\n",
      "[0.32040805 0.81887844], -925700.1497512679\n",
      "[0.31991245 0.8195876 ], -925692.8307683342\n",
      "[0.31940297 0.8202494 ], -925705.3486513019\n",
      "[0.31914432 0.82067391], -925701.8783702035\n",
      "[0.31913123 0.82070424], -925713.7540321642\n",
      "[0.31938834 0.82046563], -925709.2383574585\n",
      "[0.31979848 0.8201792 ], -925724.6539043626\n",
      "[0.32005676 0.81993891], -925724.667348296\n",
      "[0.32003899 0.81971354], -925745.0337135722\n",
      "[0.31966202 0.81968524], -925748.4134983714\n",
      "[0.31910675 0.81972127], -925766.9871242584\n",
      "[0.31849774 0.81973244], -925770.1373382614\n",
      "[0.31813174 0.81976443], -925789.776365805\n",
      "[0.31811125 0.8195082 ], -925792.0623470334\n",
      "[0.31831201 0.81903273], -925812.9602200723\n",
      "[0.31870021 0.81842551], -925817.9491577107\n",
      "[0.31919674 0.81790821], -925833.4916465405\n",
      "[0.31951672 0.81759348], -925833.0090949952\n",
      "[0.31972618 0.81756161], -925846.9809695948\n",
      "[0.31963672 0.81783377], -925844.0299068372\n",
      "[0.31948147 0.81829791], -925856.7038467996\n",
      "[0.319316   0.81882635], -925853.4343110784\n",
      "[0.31928906 0.81928083], -925862.7465815524\n",
      "[0.3195337  0.81955391], -925854.4722830991\n",
      "[0.31995802 0.81965239], -925862.7272164661\n",
      "[0.32048539 0.81961999], -925854.6327858065\n",
      "[0.32107198 0.81956519], -925861.2938873216\n",
      "[0.32130063 0.81963972], -925850.6880171192\n",
      "[0.32135929 0.81988012], -925853.2888695111\n",
      "[0.3210088 0.820207 ], -925838.402294128\n",
      "[0.32053354 0.82035264], -925838.9658227756\n",
      "[0.32000789 0.82028774], -925823.6131038462\n",
      "[0.31973836 0.8200601 ], -925824.5659651234\n",
      "[0.31961145 0.81947888], -925808.330617417\n",
      "[0.31945996 0.81881231], -925810.253395399\n",
      "[0.31931633 0.81793329], -925795.7214566431\n",
      "[0.31926547 0.81700678], -925798.1600472599\n",
      "[0.31897455 0.81613213], -925783.8223912722\n",
      "[0.31854449 0.81533474], -925786.1991552031\n",
      "[0.31786574 0.81470937], -925771.1559366354\n",
      "[0.31716117 0.81406163], -925770.7276219116\n",
      "[0.31646983 0.81348382], -925754.406789924\n",
      "[0.31586486 0.81310253], -925756.9009060271\n",
      "[0.31561992 0.81264858], -925742.9950769516\n",
      "[0.31542291 0.81218879], -925747.7344640739\n",
      "[0.31561907 0.81169469], -925736.4403224743\n",
      "[0.3160323 0.8111863], -925742.9728313512\n",
      "[0.31642105 0.81094372], -925734.1571552809\n",
      "[0.31651725 0.81092947], -925744.4007731843\n",
      "[0.31640236 0.81131054], -925737.4429633503\n",
      "[0.31616506 0.81180825], -925751.02035203\n",
      "[0.31601593 0.8124443 ], -925749.9469147639\n",
      "[0.31621367 0.81286128], -925764.0919872909\n",
      "[0.31668603 0.81318338], -925762.0186677849\n",
      "[0.31730894 0.8132313 ], -925775.4350967435\n",
      "[0.31784987 0.81333431], -925774.2571085815\n",
      "[0.31826752 0.81340218], -925792.3201714947\n",
      "[0.31823742 0.81372829], -925792.9197628645\n",
      "[0.31797687 0.81404756], -925809.7177929444\n",
      "[0.31751728 0.81439443], -925810.2624909894\n",
      "[0.3171443  0.81457305], -925829.1454576763\n",
      "[0.31701712 0.81443405], -925830.4625774435\n",
      "[0.31713418 0.8140721 ], -925845.7110981258\n",
      "[0.31742082 0.81350442], -925844.0810590556\n",
      "[0.31798161 0.81283767], -925863.3496651794\n",
      "[0.31816131 0.81241106], -925865.1933543411\n",
      "[0.31800833 0.81219555], -925883.9208003537\n",
      "[0.31744887 0.81228029], -925884.7079026331\n",
      "[0.31684215 0.81238742], -925906.0628507142\n",
      "[0.3163179 0.8124883], -925911.5675045929\n",
      "[0.31608001 0.81255039], -925930.7495035077\n",
      "[0.31624966 0.81241732], -925932.0574448805\n",
      "[0.31645416 0.8121067 ], -925945.9429189983\n",
      "[0.31683226 0.81177534], -925943.4574086813\n",
      "[0.31716409 0.81148735], -925958.7438499829\n",
      "[0.31729921 0.81145985], -925955.48192819\n",
      "[0.31726817 0.81148124], -925968.2536792534\n",
      "[0.31697645 0.81181004], -925962.6344053325\n",
      "[0.31647107 0.81228203], -925973.2085322327\n",
      "[0.31613449 0.81270369], -925967.0797047024\n",
      "[0.31606715 0.8129765 ], -925976.3803071713\n",
      "[0.31647198 0.81298119], -925966.0998308519\n",
      "[0.31686805 0.81273657], -925975.1396569669\n",
      "[0.31734514 0.81249941], -925967.4594127923\n",
      "[0.31760011 0.81214895], -925977.8228319357\n",
      "[0.31753283 0.81207047], -925969.9042056124\n",
      "[0.31723286 0.81206063], -925975.1652729543\n",
      "[0.31667208 0.81228389], -925963.8083861101\n",
      "[0.31614239 0.8124237 ], -925970.8039040961\n",
      "[0.31586388 0.81243646], -925960.2511504577\n",
      "[0.3158467  0.81235968], -925965.2530568554\n",
      "[0.3161339  0.81215524], -925952.5047751733\n",
      "[0.31647377 0.81197047], -925960.24044653\n",
      "[0.31677057 0.81190791], -925950.6536848737\n",
      "[0.31680225 0.81185728], -925954.3034986422\n",
      "[0.31654631 0.81211436], -925938.8973382509\n",
      "[0.31622963 0.81267273], -925942.0619576186\n",
      "[0.31590713 0.81329162], -925928.4200407974\n",
      "[0.31585048 0.81379565], -925938.2978118103\n",
      "[0.31606086 0.81411505], -925929.7496364919\n",
      "[0.31644458 0.81441862], -925941.9640460302\n",
      "[0.31693638 0.81459581], -925936.208410989\n",
      "[0.3173087  0.81469564], -925948.0507872563\n",
      "[0.3174661  0.81484244], -925941.2218082726\n",
      "[0.31752937 0.81498728], -925953.3783772113\n",
      "[0.31725415 0.8152289 ], -925945.8644709014\n",
      "[0.31685405 0.81553527], -925953.0061531158\n",
      "[0.31641177 0.81571678], -925941.6751526908\n",
      "[0.31619704 0.81572887], -925948.8089231286\n",
      "[0.31613935 0.81550101], -925937.0651085101\n",
      "[0.31616368 0.81508539], -925942.7300193468\n",
      "[0.31612551 0.81461679], -925930.8102209806\n",
      "[0.31600831 0.81397216], -925938.5898844749\n",
      "[0.31555327 0.8135642 ], -925928.7087544169\n",
      "[0.31492582 0.81304481], -925937.0538906378\n",
      "[0.31410287 0.81277959], -925928.5105115746\n",
      "[0.31334742 0.81247764], -925939.4164696775\n",
      "[0.3128838  0.81220237], -925931.6802896295\n",
      "[0.31258179 0.81208626], -925937.9090826764\n",
      "[0.31284122 0.81190552], -925923.5045257226\n",
      "[0.3134238  0.81184538], -925926.06102091\n",
      "[0.31423635 0.81197326], -925908.9716914356\n",
      "[0.31500095 0.81232915], -925912.6095044555\n",
      "[0.31556774 0.81313401], -925896.5398021829\n",
      "[0.3160261  0.81428763], -925896.9896886029\n",
      "[0.31632949 0.81571671], -925879.5815474206\n",
      "[0.31668045 0.81695285], -925880.1759600256\n",
      "[0.31723416 0.81804248], -925863.5626826278\n",
      "[0.31790134 0.81879646], -925865.5252355146\n",
      "[0.31868901 0.81931715], -925849.4231600364\n",
      "[0.31938769 0.81974755], -925854.6260446103\n",
      "[0.31982968 0.82011377], -925841.9799092504\n",
      "[0.31999706 0.82049324], -925847.4947486249\n",
      "[0.31984528 0.8207943 ], -925835.8751310246\n",
      "[0.319719  0.8209179], -925847.3021814195\n",
      "[0.31955381 0.82076737], -925840.6513854117\n",
      "[0.31912226 0.82049177], -925849.6647634045\n",
      "[0.31888726 0.8198758 ], -925840.5506260172\n",
      "[0.31861615 0.81902525], -925851.8230200189\n",
      "[0.31850035 0.81800403], -925844.8836289152\n",
      "[0.31842354 0.8168656 ], -925854.6582032215\n",
      "[0.3181764  0.81598578], -925844.83095\n",
      "[0.31787197 0.81525451], -925851.3121357394\n",
      "[0.31725798 0.81504038], -925837.0190780262\n",
      "[0.31663051 0.81518013], -925841.5723459545\n",
      "[0.31619041 0.81550438], -925827.8097952938\n",
      "[0.31610973 0.81600457], -925830.4629305953\n",
      "[0.31652823 0.81643121], -925813.6264026521\n",
      "[0.31720547 0.81690457], -925820.1362500243\n",
      "[0.31795434 0.81746865], -925810.5682576936\n",
      "[0.31844048 0.8180796 ], -925813.8899231276\n",
      "[0.31863897 0.81887604], -925799.3312069256\n",
      "[0.31861474 0.81976497], -925804.7850588303\n",
      "[0.31847362 0.82060635], -925792.1709057442\n",
      "[0.31859241 0.8210064 ], -925794.3912538902\n",
      "[0.31877379 0.82115224], -925777.3519943549\n",
      "[0.31889252 0.82112688], -925774.0074562583\n",
      "[0.31889079 0.82096806], -925752.0270980371\n",
      "[0.31875569 0.82068308], -925749.9850255467\n",
      "[0.31840464 0.82038106], -925729.2925449525\n",
      "[0.31800363 0.82000747], -925726.9372880653\n",
      "[0.31753788 0.81963486], -925706.6872462101\n",
      "[0.31714654 0.81930581], -925701.7651710499\n",
      "[0.31679948 0.81902907], -925679.5318052452\n",
      "[0.31664382 0.81889602], -925676.8159986385\n",
      "[0.31656811 0.81883953], -925656.0654679833\n",
      "[0.31632305 0.81899328], -925654.8644921787\n",
      "[0.31621043 0.81917752], -925636.3999623257\n",
      "[0.31625833 0.81933109], -925638.6757282965\n",
      "[0.31631041 0.81956912], -925623.1883363285\n",
      "[0.31627207 0.82005594], -925623.3592370177\n",
      "[0.31617893 0.82058435], -925606.4036067717\n",
      "[0.31617873 0.82101556], -925612.7982056238\n",
      "[0.31617272 0.82133364], -925600.9856643766\n",
      "[0.31623285 0.82151123], -925606.574563702\n",
      "[0.31626246 0.82154808], -925594.4157413185\n",
      "[0.31641139 0.82147651], -925602.7331269234\n",
      "[0.31632605 0.82137261], -925592.3234044\n",
      "[0.31618829 0.82137162], -925600.7975433515\n",
      "[0.31573533 0.82141117], -925589.2780131547\n",
      "[0.31504397 0.82129475], -925593.8850151165\n",
      "[0.31448196 0.82095219], -925579.4839424548\n",
      "[0.31397266 0.82049605], -925581.7508491662\n",
      "[0.3138403  0.81973874], -925563.8212167801\n",
      "[0.313937   0.81897673], -925566.598767431\n",
      "[0.31411168 0.81820886], -925551.2711943167\n",
      "[0.31420251 0.81765374], -925558.4156361951\n",
      "[0.31391869 0.81749987], -925545.3077873212\n",
      "[0.31354102 0.81753949], -925551.020675828\n",
      "[0.31308191 0.81781979], -925538.6590399278\n",
      "[0.31265209 0.81813553], -925548.9031700585\n",
      "[0.31266146 0.81833049], -925538.9728911968\n",
      "[0.31288718 0.81853101], -925548.1322348424\n",
      "[0.31343995 0.81859042], -925538.4238270941\n",
      "[0.3140612 0.8186219], -925554.5604722193\n",
      "[0.31440033 0.81883059], -925552.4878232047\n",
      "[0.31437719 0.81920034], -925567.4220631375\n",
      "[0.31388768 0.81978387], -925562.7709372919\n",
      "[0.31343175 0.8206625 ], -925576.5710142456\n",
      "[0.31308268 0.82125309], -925572.3785350256\n",
      "[0.31285897 0.82169924], -925589.430837002\n",
      "[0.31310911 0.8215087 ], -925585.6203458838\n",
      "[0.31377342 0.82101351], -925602.6800019109\n",
      "[0.31431292 0.82028479], -925603.3320052876\n",
      "[0.31444273 0.81964602], -925626.8008437739\n",
      "[0.31383006 0.81923454], -925627.1357577146\n",
      "[0.31295853 0.81862415], -925647.0659839486\n",
      "[0.31186956 0.81804776], -925649.2341130719\n",
      "[0.31079299 0.81715564], -925671.3681715159\n",
      "[0.310175   0.81604148], -925673.0563164327\n",
      "[0.30987865 0.81488377], -925694.1654206017\n",
      "[0.30989138 0.81382028], -925694.6759392049\n",
      "[0.30984754 0.8130514 ], -925715.0463133021\n",
      "[0.30962518 0.81285106], -925714.317344264\n",
      "[0.30926604 0.81313264], -925735.2935033669\n",
      "[0.30887742 0.813833  ], -925736.606748035\n",
      "[0.3087115  0.81476634], -925763.4572410509\n",
      "[0.30901156 0.81563741], -925770.2159982588\n",
      "[0.30952951 0.81648867], -925792.4606843222\n",
      "[0.31046143 0.81707472], -925794.6982491557\n",
      "[0.31127316 0.81767114], -925818.7079892243\n",
      "[0.31184807 0.81824935], -925823.9778456151\n",
      "[0.31235148 0.81885859], -925844.5362352636\n",
      "[0.31223562 0.81952044], -925842.7909099264\n",
      "[0.31192934 0.82010963], -925861.0472360051\n",
      "[0.31144398 0.82037654], -925859.5968095737\n",
      "[0.31110386 0.8202248 ], -925874.9963153481\n",
      "[0.31092894 0.81950974], -925868.2378662466\n",
      "[0.31077457 0.81848347], -925882.63354351\n",
      "[0.31050036 0.81723974], -925877.5141123817\n",
      "[0.31003384 0.81589551], -925891.3890506788\n",
      "[0.30915806 0.81474601], -925884.6530769614\n",
      "[0.30808303 0.81360739], -925904.3933396188\n",
      "[0.30687358 0.81269563], -925903.7813225941\n",
      "[0.30601089 0.81181245], -925919.543532244\n",
      "[0.30550857 0.81101898], -925913.8357406756\n",
      "[0.30540491 0.81037198], -925929.720036283\n",
      "[0.30549559 0.81003438], -925924.1225440186\n",
      "[0.3055895  0.80992807], -925935.3241123811\n",
      "[0.30551337 0.81034867], -925924.7248429294\n",
      "[0.30534802 0.81082241], -925930.7946591716\n",
      "[0.30518957 0.81155872], -925916.9759365071\n",
      "[0.3050561  0.81250015], -925923.5370846384\n",
      "[0.30518456 0.81331985], -925910.5328137472\n",
      "[0.30536348 0.81391839], -925913.4649659157\n",
      "[0.3057517  0.81421677], -925896.4041613517\n",
      "[0.30629538 0.81422487], -925897.5743708934\n",
      "[0.30655458 0.81417312], -925878.1036620961\n",
      "[0.30652241 0.81436242], -925878.5389712527\n",
      "[0.30606526 0.81458054], -925857.6560000156\n",
      "[0.30545153 0.81476745], -925856.6190310667\n",
      "[0.304988   0.81464407], -925836.2109396852\n",
      "[0.30467171 0.81416075], -925837.0102930097\n",
      "[0.30474625 0.81328864], -925817.0687378064\n",
      "[0.30466412 0.81238034], -925817.8004456738\n",
      "[0.30449528 0.81160499], -925800.1468973748\n",
      "[0.30415905 0.81116222], -925807.5394159509\n",
      "[0.30369644 0.81105062], -925794.7602084791\n",
      "[0.30327243 0.81122305], -925799.501740142\n",
      "[0.30307969 0.81151951], -925783.4759409779\n",
      "[0.30296673 0.81205852], -925786.2896095521\n",
      "[0.30326613 0.81252993], -925768.595366858\n",
      "[0.30371915 0.81293791], -925768.7856219414\n",
      "[0.30419865 0.8134258 ], -925749.6603621538\n",
      "[0.30454477 0.81398722], -925754.7526953077\n",
      "[0.30459213 0.81471512], -925738.351539899\n",
      "[0.30445695 0.81555653], -925739.5521728763\n",
      "[0.30426799 0.81624879], -925719.9229332147\n",
      "[0.30429081 0.81674897], -925721.545548732\n",
      "[0.3044643  0.81686247], -925700.3466793966\n",
      "[0.30476381 0.81664243], -925700.1103861732\n",
      "[0.30486843 0.81623873], -925677.9204343812\n",
      "[0.30481732 0.81581208], -925676.1564037536\n",
      "[0.30432627 0.815441  ], -925652.1902621421\n",
      "[0.30398309 0.81516738], -925650.8031867393\n",
      "[0.30345781 0.81493502], -925629.1628754381\n",
      "[0.30285834 0.81484327], -925633.4616209432\n",
      "[0.30260186 0.81457464], -925617.9812599103\n",
      "[0.30256892 0.81412365], -925620.905996205\n",
      "[0.30289826 0.81360746], -925603.7013463615\n",
      "[0.30326288 0.81331575], -925607.4902199142\n",
      "[0.30349911 0.81333547], -925590.5345828279\n",
      "[0.30371789 0.81366535], -925591.9533094149\n",
      "[0.30362331 0.8143901 ], -925571.4969344\n",
      "[0.30370097 0.81524561], -925574.6869522462\n",
      "[0.30388073 0.81606997], -925557.9857853908\n",
      "[0.30433457 0.81669555], -925561.4045241701\n",
      "[0.30494069 0.81710987], -925544.0579309408\n",
      "[0.30563108 0.81726793], -925547.3454648287\n",
      "[0.30603633 0.8173282 ], -925530.9574105602\n",
      "[0.30618998 0.81731171], -925536.256812412\n",
      "[0.30580353 0.81734425], -925520.5061119159\n",
      "[0.30510805 0.81740265], -925525.5279088957\n",
      "[0.30434155 0.8171761 ], -925511.0860859606\n",
      "[0.30357784 0.8167443 ], -925517.8202606215\n",
      "[0.30326808 0.81578989], -925503.6451416055\n",
      "[0.30315734 0.8145871 ], -925514.1420675847\n",
      "[0.30312048 0.813286  ], -925505.8091560754\n",
      "[0.30275317 0.81222069], -925516.7766162594\n",
      "[0.30196453 0.81152508], -925507.2110932395\n",
      "[0.30103276 0.81101215], -925515.6543836915\n",
      "[0.30012436 0.81067326], -925504.0338204607\n",
      "[0.29949489 0.81023672], -925512.37520469\n",
      "[0.29929009 0.80980817], -925496.7052059158\n",
      "[0.29934175 0.80936952], -925503.0447480003\n",
      "[0.2994728  0.80920789], -925487.3435707287\n",
      "[0.29960129 0.80924091], -925490.8918050738\n",
      "[0.2995099  0.80969657], -925473.1973919773\n",
      "[0.2994065 0.8104071], -925475.7741024941\n",
      "[0.29939924 0.81116727], -925458.6887454321\n",
      "[0.29948628 0.8119196 ], -925462.5792669052\n",
      "[0.30000241 0.81232515], -925445.0542593679\n",
      "[0.30066132 0.81236794], -925453.9340250188\n",
      "[0.30130807 0.81222666], -925443.9085059739\n",
      "[0.30180005 0.81204291], -925456.5633644132\n",
      "[0.30170012 0.81204821], -925445.9398582992\n",
      "[0.3011443 0.8118433], -925457.7194624983\n",
      "[0.30042057 0.81159091], -925447.0492560458\n",
      "[0.30012311 0.81120367], -925459.542074026\n",
      "[0.30022229 0.81052438], -925448.7432058906\n",
      "[0.30049034 0.80985981], -925457.618710612\n",
      "[0.30088799 0.80922546], -925444.0752484029\n",
      "[0.30114577 0.80872086], -925455.623959961\n",
      "[0.30124226 0.80856847], -925445.4100135203\n",
      "[0.30128411 0.8086534 ], -925456.0707491116\n",
      "[0.30126094 0.80904867], -925445.0896171639\n",
      "[0.30148923 0.80937613], -925457.5435163582\n",
      "[0.30199665 0.80977559], -925447.6932284138\n",
      "[0.30245319 0.81039804], -925453.8438667943\n",
      "[0.30310467 0.81102855], -925437.900368701\n",
      "[0.30360286 0.81162865], -925443.2034220638\n",
      "[0.30422474 0.81212995], -925425.8930076064\n",
      "[0.30484822 0.81253318], -925426.9261166343\n",
      "[0.3053106  0.81292003], -925405.3556428135\n",
      "[0.30575849 0.81335378], -925405.1906991269\n",
      "[0.30585496 0.81381008], -925381.9721532903\n",
      "[0.30599055 0.81407739], -925383.062985567\n",
      "[0.30603956 0.81417012], -925362.5762574313\n",
      "[0.30616738 0.81401177], -925365.4665042892\n",
      "[0.3062344  0.81370312], -925347.6156679637\n",
      "[0.30577739 0.81363028], -925349.1843617475\n",
      "[0.30525679 0.81353622], -925329.1059835904\n",
      "[0.30432294 0.81345993], -925334.5147872604\n",
      "[0.30396026 0.81301102], -925316.975239629\n",
      "[0.30377502 0.81253482], -925318.315081214\n",
      "[0.30401133 0.81186923], -925297.842650282\n",
      "[0.30432087 0.81129299], -925300.6432713461\n",
      "[0.30416579 0.81120748], -925280.8013154479\n",
      "[0.30389749 0.81151373], -925283.2738765252\n",
      "[0.30323332 0.81223964], -925262.8272167918\n",
      "[0.30273328 0.81278861], -925268.0485945798\n",
      "[0.3025888  0.81313856], -925250.3944777932\n",
      "[0.30268332 0.81334766], -925256.99493771\n",
      "[0.30308362 0.8132903 ], -925239.6931223082\n",
      "[0.30355747 0.81314416], -925239.3335466826\n",
      "[0.30360765 0.81317627], -925214.1792985094\n",
      "[0.30350303 0.81339888], -925212.0065669884\n",
      "[0.30294428 0.8138091 ], -925185.8048248964\n",
      "[0.30234863 0.81427502], -925183.8454669693\n",
      "[0.30207752 0.81437239], -925159.1359617477\n",
      "[0.30217384 0.81415992], -925159.1085386153\n",
      "[0.30264238 0.81359842], -925138.3591954849\n",
      "[0.30313228 0.81292764], -925141.9605367689\n",
      "[0.30325483 0.81249424], -925124.0591905465\n",
      "[0.302685   0.81240032], -925127.6715975506\n",
      "[0.30176091 0.81261287], -925110.9866949458\n",
      "[0.30089083 0.81282573], -925123.2619592982\n",
      "[0.3006585  0.81270916], -925111.9730085613\n",
      "[0.30097001 0.81242535], -925121.7840196389\n",
      "[0.30159464 0.81207323], -925110.6970972565\n",
      "[0.30232036 0.81163839], -925130.8013056857\n",
      "[0.30216108 0.81193098], -925123.8811479877\n",
      "[0.30153789 0.81262789], -925137.2527850948\n",
      "[0.30051367 0.81362594], -925129.8654979966\n",
      "[0.29968916 0.8141622 ], -925148.5004559071\n",
      "[0.29973231 0.81404891], -925138.6136548168\n",
      "[0.3002601  0.81354884], -925150.3661737336\n",
      "[0.30106797 0.81282132], -925141.6158023337\n",
      "[0.30164571 0.81216314], -925156.6006983065\n",
      "[0.30130535 0.8121879 ], -925142.5241335527\n",
      "[0.30049296 0.81269528], -925152.0071626925\n",
      "[0.29949681 0.81343679], -925142.9361162398\n",
      "[0.29854837 0.81400588], -925157.9424653809\n",
      "[0.29881655 0.81391014], -925143.5864089347\n",
      "[0.29955047 0.81356247], -925158.7975440278\n",
      "[0.30080385 0.81304902], -925154.8695892849\n",
      "[0.30185924 0.8130258 ], -925176.5234445177\n",
      "[0.30208318 0.81370499], -925171.3667077917\n",
      "[0.30178687 0.81470939], -925185.0981229226\n",
      "[0.30114317 0.81600685], -925179.1383568724\n",
      "[0.30038456 0.81726924], -925204.940756621\n",
      "[0.30064493 0.81776873], -925203.2229297752\n",
      "[0.30143969 0.81768076], -925219.5954626412\n",
      "[0.30276796 0.81707143], -925215.995486749\n",
      "[0.30373869 0.81666917], -925247.8597324232\n",
      "[0.30368152 0.8168349 ], -925252.0357422765\n",
      "[0.30294852 0.8174678 ], -925271.2843017819\n",
      "[0.30175584 0.81824884], -925269.6858567717\n",
      "[0.30047783 0.81889083], -925298.5251717813\n",
      "[0.30029887 0.81859412], -925297.5251490782\n",
      "[0.30090382 0.81763114], -925314.570814857\n",
      "[0.30190183 0.81627715], -925313.8224271073\n",
      "[0.30243093 0.81494502], -925342.9565997134\n",
      "[0.30162604 0.81448861], -925340.342904879\n",
      "[0.30028093 0.81457101], -925357.5724650151\n",
      "[0.29840089 0.81502163], -925356.9711055943\n",
      "[0.29697365 0.81539442], -925387.4570764576\n",
      "[0.29699523 0.81487277], -925385.1722702282\n",
      "[0.29754343 0.81380135], -925404.8437587548\n",
      "[0.29857553 0.81256966], -925405.731145558\n",
      "[0.29917989 0.81168587], -925435.9329423564\n",
      "[0.29865758 0.81178997], -925433.4522082418\n",
      "[0.2976852  0.81237802], -925452.7841766836\n",
      "[0.29652915 0.8133816 ], -925455.5876958513\n",
      "[0.29590958 0.81414948], -925482.1888632355\n",
      "[0.29664424 0.81416619], -925477.1426855585\n",
      "[0.29797219 0.81397261], -925491.2190961634\n",
      "[0.29946326 0.81373492], -925486.7782458981\n",
      "[0.30037645 0.81397453], -925510.0382842629\n",
      "[0.30020731 0.81498705], -925502.2467530154\n",
      "[0.29943952 0.8162191 ], -925517.9309940453\n",
      "[0.2989926  0.81718413], -925514.2820219477\n",
      "[0.29911515 0.81778626], -925535.6869789591\n",
      "[0.300327   0.81755872], -925527.5902552367\n",
      "[0.3018037  0.81704257], -925548.1227382587\n",
      "[0.30294182 0.81668694], -925549.5353228931\n",
      "[0.30338455 0.81654732], -925570.9157863929\n",
      "[0.30264914 0.81719446], -925560.7070421346\n",
      "[0.3016526  0.81810981], -925572.9297739955\n",
      "[0.30094632 0.81887248], -925565.11347213\n",
      "[0.30070502 0.8192957 ], -925576.1059158307\n",
      "[0.30167701 0.81892689], -925555.5180301701\n",
      "[0.30303724 0.81824201], -925568.3461939273\n",
      "[0.30412602 0.81783079], -925564.664454053\n",
      "[0.30453259 0.81767908], -925588.3228379203\n",
      "[0.30383746 0.81841364], -925581.7493772729\n",
      "[0.30272456 0.81932993], -925599.2115910114\n",
      "[0.30196378 0.82007595], -925596.3105207995\n",
      "[0.30180971 0.82014935], -925613.9979858297\n",
      "[0.30271105 0.81957883], -925600.7661414274\n",
      "[0.30377465 0.81898207], -925615.8964540908\n",
      "[0.30434042 0.81885406], -925606.6103459147\n",
      "[0.30433166 0.81910538], -925611.7761692527\n",
      "[0.30335073 0.82013416], -925589.6351196951\n",
      "[0.30260486 0.82126349], -925596.5306044809\n",
      "[0.30228387 0.82215443], -925582.9855461919\n",
      "[0.30278243 0.82270195], -925596.9097362732\n",
      "[0.30394198 0.82272051], -925586.6225591404\n",
      "[0.30518563 0.82260848], -925607.3721308357\n",
      "[0.30565412 0.82286334], -925603.5090480335\n",
      "[0.30545337 0.82334906], -925619.9785827153\n",
      "[0.30451985 0.82406233], -925611.0333346652\n",
      "[0.30365309 0.82454751], -925630.0502579359\n",
      "[0.30338827 0.8243947 ], -925623.2510933129\n",
      "[0.30358302 0.82384606], -925640.754983261\n",
      "[0.3043645  0.82280621], -925634.0840838162\n",
      "[0.30510703 0.82187502], -925656.9390665155\n",
      "[0.30507665 0.82148935], -925654.7514184848\n",
      "[0.30465311 0.82169277], -925678.4407658243\n",
      "[0.30378664 0.82227293], -925679.0650486669\n",
      "[0.30292726 0.82297475], -925708.6894905614\n",
      "[0.30312351 0.82306067], -925709.0424923729\n",
      "[0.30387107 0.82296449], -925727.8554183585\n",
      "[0.30537285 0.82246998], -925722.047012291\n",
      "[0.30678239 0.8219576 ], -925742.679938654\n",
      "[0.30724628 0.82220051], -925734.9084177183\n",
      "[0.30711159 0.82274099], -925747.4504214502\n",
      "[0.30628542 0.82380083], -925734.8282204965\n",
      "[0.30546179 0.82483431], -925749.7539681337\n",
      "[0.3055683  0.82519145], -925734.8272662557\n",
      "[0.30629379 0.82498817], -925739.5541737181\n",
      "[0.30764179 0.82428281], -925720.4650981252\n",
      "[0.30859427 0.82371113], -925732.2312854588\n",
      "[0.30859091 0.82368844], -925717.0698954432\n",
      "[0.3081038 0.823973 ], -925725.7555702389\n",
      "[0.3070022  0.82452939], -925712.2857947327\n",
      "[0.30570493 0.82492946], -925732.501719061\n",
      "[0.30537187 0.82451402], -925724.364421262\n",
      "[0.30581527 0.82354568], -925739.9191452864\n",
      "[0.3067522  0.82218021], -925734.4707585931\n",
      "[0.30746329 0.82100902], -925754.2532320812\n",
      "[0.30693656 0.82072232], -925739.6889827236\n",
      "[0.30589066 0.82094851], -925749.5841137472\n",
      "[0.30442201 0.82156015], -925738.1037081938\n",
      "[0.30323477 0.82193308], -925761.0219498806\n",
      "[0.30340784 0.82150075], -925750.3291751351\n",
      "[0.30415571 0.82088165], -925763.6418325717\n",
      "[0.3054254  0.82008778], -925755.4613850444\n",
      "[0.30624005 0.81961445], -925774.1565472486\n",
      "[0.30609401 0.82003938], -925760.648075668\n",
      "[0.3055279  0.82097427], -925768.0305239133\n",
      "[0.30478442 0.82221329], -925753.1691114681\n",
      "[0.30439025 0.82328063], -925771.4963007793\n",
      "[0.30505773 0.82366373], -925758.9245331477\n",
      "[0.30619218 0.8236095 ], -925777.7988529542\n",
      "[0.30732674 0.82349783], -925777.6087851666\n",
      "[0.30822341 0.82363606], -925810.9113134608\n",
      "[0.30789031 0.82446373], -925813.6322565383\n",
      "[0.3069538  0.82530988], -925849.1484497347\n",
      "[0.30586574 0.82605157], -925864.526340289\n",
      "[0.30519816 0.82636843], -925900.0979326842\n",
      "[0.3057161  0.82567022], -925900.6204391536\n",
      "[0.30654856 0.82461751], -925929.8005107816\n",
      "[0.30733762 0.82351898], -925938.0577071748\n",
      "[0.30774648 0.82295094], -925971.8498019399\n",
      "[0.30710862 0.82318034], -925974.8510245534\n",
      "[0.30617533 0.82368754], -926007.1701240537\n",
      "[0.30550544 0.82414308], -926018.0080429007\n",
      "[0.3054028 0.8243732], -926052.0141789295\n",
      "[0.30632821 0.82407438], -926055.6747003243\n",
      "[0.30738423 0.82392293], -926088.11068032\n",
      "[0.3082055  0.82405484], -926096.5047938579\n",
      "[0.30864069 0.82451456], -926130.0355462685\n",
      "[0.30832289 0.82548176], -926135.2497235659\n",
      "[0.30793646 0.82687282], -926171.7042380357\n",
      "[0.30785408 0.82787104], -926184.8178096862\n",
      "[0.30835166 0.82824144], -926221.8993348285\n",
      "[0.30944961 0.82790295], -926231.9868737741\n",
      "[0.31064509 0.82784829], -926273.0379186796\n",
      "[0.31107302 0.82794315], -926285.2148957698\n",
      "[0.310865   0.82802912], -926317.0531873265\n",
      "[0.30991641 0.8282134 ], -926321.4210101364\n",
      "[0.30910252 0.82796222], -926348.6825802847\n",
      "[0.30876457 0.82710926], -926346.3602182501\n",
      "[0.30867826 0.82593184], -926367.9533026298\n",
      "[0.30890706 0.82453898], -926364.1397098581\n",
      "[0.30924703 0.82339842], -926396.6346720653\n",
      "[0.30903541 0.82285509], -926400.8422877792\n",
      "[0.30842947 0.82288918], -926426.1749709104\n",
      "[0.30777297 0.82330044], -926426.3131034843\n",
      "[0.30746793 0.8237239 ], -926447.7000703006\n",
      "[0.30795834 0.82388183], -926437.7566548231\n",
      "[0.30866835 0.82407609], -926454.9218821314\n",
      "[0.30954681 0.8242986 ], -926444.799230751\n",
      "[0.31016197 0.82460886], -926463.871939975\n",
      "[0.31011757 0.82530897], -926455.2246604643\n",
      "[0.30969275 0.82597784], -926473.6132937659\n",
      "[0.3092428  0.82646851], -926466.0194474976\n",
      "[0.30905461 0.82666504], -926479.047400105\n",
      "[0.30928174 0.82630025], -926463.6836553267\n",
      "[0.30957617 0.82586232], -926471.2097257813\n",
      "[0.30968265 0.82533079], -926451.5346799089\n",
      "[0.30948404 0.824725  ], -926450.7139512392\n",
      "[0.30892023 0.82425143], -926422.2223949388\n",
      "[0.30836763 0.82382847], -926424.8543792191\n",
      "[0.30801305 0.82337908], -926401.2980635602\n",
      "[0.30761568 0.82297689], -926402.1450796145\n",
      "[0.30779036 0.82248079], -926376.6472517718\n",
      "[0.30810703 0.82199496], -926380.1376659361\n",
      "[0.30850549 0.82179858], -926357.6621065632\n",
      "[0.308673   0.82199051], -926362.0077516147\n",
      "[0.30857854 0.82269845], -926340.5245477151\n",
      "[0.30820072 0.82364774], -926354.9082721802\n",
      "[0.30826467 0.82443705], -926342.8287053279\n",
      "[0.30870726 0.82503681], -926354.285650851\n",
      "[0.30956488 0.82531117], -926339.5190754932\n",
      "[0.31060626 0.82566054], -926350.5625737077\n",
      "[0.31103978 0.82619647], -926334.2916027965\n",
      "[0.31102583 0.82689006], -926339.4394239165\n",
      "[0.31039092 0.82760916], -926315.3121450092\n",
      "[0.30955037 0.8281789 ], -926322.6216622317\n",
      "[0.30917511 0.8278955 ], -926297.3709073567\n",
      "[0.30917763 0.82715981], -926298.1209960311\n",
      "[0.30936751 0.8258619 ], -926269.7413590904\n",
      "[0.30899064 0.82454388], -926269.1523408925\n",
      "[0.30793701 0.82356204], -926239.1671660296\n",
      "[0.30650976 0.82279611], -926240.2516842\n",
      "[0.30502023 0.82222383], -926217.5430584952\n",
      "[0.30384171 0.82176929], -926222.0962767712\n",
      "[0.30356343 0.82105462], -926198.5503131415\n",
      "[0.30356479 0.82029536], -926204.245985791\n",
      "[0.30373593 0.81985162], -926184.9475462765\n",
      "[0.30385174 0.81983593], -926197.5616497523\n",
      "[0.30340159 0.82063104], -926180.8785063218\n",
      "[0.30293956 0.82191746], -926196.4952189733\n",
      "[0.30270638 0.82326215], -926185.3609158872\n",
      "[0.30291041 0.82448701], -926206.2003748246\n",
      "[0.30377771 0.82516018], -926197.1946456775\n",
      "[0.3049859  0.82555996], -926221.4277383548\n",
      "[0.30574607 0.82590023], -926218.1430039993\n",
      "[0.30595201 0.82626175], -926237.5253533677\n",
      "[0.30517524 0.82674694], -926224.7906924081\n",
      "[0.30433654 0.82714535], -926240.1562426006\n",
      "[0.30369683 0.82690668], -926228.2879487925\n",
      "[0.30340054 0.82633765], -926241.8465377826\n",
      "[0.30373711 0.8250476 ], -926225.7715565896\n",
      "[0.30398408 0.82342057], -926239.0052424558\n",
      "[0.30366512 0.82221915], -926225.3031191803\n",
      "[0.30296608 0.82159944], -926246.5826816628\n",
      "[0.30183701 0.82162666], -926239.8422741019\n",
      "[0.30113284 0.82174899], -926260.8027055915\n",
      "[0.30111838 0.82183132], -926251.6940497541\n",
      "[0.30155643 0.82202159], -926268.5152765652\n",
      "[0.30228672 0.8223458 ], -926258.8384946933\n",
      "[0.3030367  0.82296438], -926277.8235357275\n",
      "[0.30319816 0.82407219], -926268.5630058032\n",
      "[0.30300091 0.82534321], -926290.2558157563\n",
      "[0.30272443 0.82641383], -926286.9444921915\n",
      "[0.30263606 0.82692688], -926311.703821508\n",
      "[0.30296309 0.82666007], -926305.5936986343\n",
      "[0.30331425 0.82597717], -926323.6479871429\n",
      "[0.30317151 0.82515127], -926311.8927332191\n",
      "[0.30230445 0.82443844], -926319.9588890066\n",
      "[0.30099552 0.82379165], -926299.8989338549\n",
      "[0.29969347 0.82332995], -926309.4114596392\n",
      "[0.29921166 0.8223763 ], -926289.6951841385\n",
      "[0.29924885 0.82129945], -926297.7789804451\n",
      "[0.29972655 0.820229  ], -926279.8349837437\n",
      "[0.29988971 0.81981231], -926294.4775511991\n",
      "[0.29948909 0.8202701 ], -926276.9133705237\n",
      "[0.29883567 0.82110192], -926288.5023499618\n",
      "[0.29859773 0.82202213], -926272.6933017246\n",
      "[0.29880439 0.82280523], -926286.7885943408\n",
      "[0.29963993 0.82327158], -926270.170482196\n",
      "[0.30049126 0.82364073], -926279.1009294058\n",
      "[0.30075148 0.82425671], -926258.5885372087\n",
      "[0.30043944 0.82502593], -926267.5080312337\n",
      "[0.29962155 0.82575103], -926247.3122395625\n",
      "[0.29869183 0.82608704], -926260.4100044783\n",
      "[0.29829192 0.82556057], -926241.0054266632\n",
      "[0.29832194 0.82467826], -926243.4152607468\n",
      "[0.29826071 0.82347034], -926219.5122568078\n",
      "[0.29776965 0.82248462], -926223.2058899698\n",
      "[0.29649716 0.8219097 ], -926196.6477579401\n",
      "[0.29481827 0.82176626], -926199.6080556342\n",
      "[0.29357179 0.82148533], -926177.135854401\n",
      "[0.2929252  0.82099897], -926184.1475724685\n",
      "[0.29327067 0.82015651], -926161.7253360407\n",
      "[0.29371959 0.81946721], -926163.1373328969\n",
      "[0.29361071 0.81957565], -926135.0424346902\n",
      "[0.2930583 0.820281 ], -926132.6387525465\n",
      "[0.29226056 0.82150569], -926102.42064477\n",
      "[0.29148375 0.82282151], -926098.391007563\n",
      "[0.29187283 0.82349131], -926060.2708195247\n",
      "[0.29259767 0.82382116], -926050.6958197432\n",
      "[0.29346259 0.8239856 ], -926015.487950964\n",
      "[0.29386976 0.82432362], -926010.7471349062\n",
      "[0.29307814 0.82522332], -925972.1359829365\n",
      "[0.29175524 0.82630895], -925970.4128375252\n",
      "[0.29080852 0.82676438], -925942.1015556207\n",
      "[0.29045324 0.82661255], -925941.7839255807\n",
      "[0.29090609 0.82558503], -925912.2377905981\n",
      "[0.29113811 0.82426483], -925913.2060689448\n",
      "[0.29040027 0.82341233], -925885.2283540268\n",
      "[0.28902301 0.82311769], -925885.4387569089\n",
      "[0.28722421 0.82318471], -925859.8421467209\n",
      "[0.28591011 0.82337821], -925858.778143175\n",
      "[0.28590066 0.82295331], -925823.6684879602\n",
      "[0.28636446 0.82232976], -925821.1819289298\n",
      "[0.28687216 0.82192444], -925793.1390935819\n",
      "[0.28699657 0.8218419 ], -925794.4327398866\n",
      "[0.28605831 0.82272389], -925762.0037062601\n",
      "[0.2852835  0.82404173], -925769.1044947578\n",
      "[0.28513805 0.82512652], -925751.4392057764\n",
      "[0.28556427 0.82594619], -925763.5175008374\n",
      "[0.28659588 0.82634212], -925750.123697996\n",
      "[0.28740973 0.82650961], -925765.1658014449\n",
      "[0.28734194 0.82701649], -925748.6486312444\n",
      "[0.28687541 0.82783663], -925761.9010033248\n",
      "[0.28610451 0.82847892], -925747.2983466751\n",
      "[0.28565406 0.82863646], -925758.5089274354\n",
      "[0.28572066 0.8281161 ], -925737.8505877967\n",
      "[0.28596838 0.82731169], -925745.6344783276\n",
      "[0.28560998 0.82665769], -925726.2924989103\n",
      "[0.28477815 0.82626324], -925733.5766455313\n",
      "[0.28341016 0.82611262], -925713.632497684\n",
      "[0.28208386 0.82585657], -925724.6778440531\n",
      "[0.28141632 0.82523337], -925705.780441721\n",
      "[0.28118667 0.82442609], -925715.1581080386\n",
      "[0.28110067 0.82370893], -925695.6267991385\n",
      "[0.2805577  0.82334021], -925702.0850912627\n",
      "[0.27946485 0.82354766], -925677.1799722832\n",
      "[0.2785118  0.82403477], -925682.1300692552\n",
      "[0.27821201 0.82430708], -925657.6457817698\n",
      "[0.27815445 0.82443163], -925664.5322719192\n",
      "[0.27848935 0.82440273], -925643.269672375\n",
      "[0.2787857  0.82458166], -925653.026143294\n",
      "[0.27848946 0.82515244], -925631.6678362162\n",
      "[0.27825418 0.82575003], -925643.217229908\n",
      "[0.27790385 0.82642034], -925626.7480101461\n",
      "[0.27792643 0.82693582], -925632.4829730139\n",
      "[0.27829912 0.82722451], -925608.7176061607\n",
      "[0.27876413 0.82756187], -925617.2653466606\n",
      "[0.27917148 0.82788977], -925597.7763116144\n",
      "[0.27946694 0.82820565], -925606.0802020384\n",
      "[0.27938963 0.82874555], -925584.5135651553\n",
      "[0.27908057 0.82932131], -925586.9534133713\n",
      "[0.27906223 0.8297194 ], -925558.9710411476\n",
      "[0.27962179 0.82986002], -925556.698350962\n",
      "[0.28012861 0.83008254], -925527.4245166329\n",
      "[0.28046655 0.83040848], -925524.5091176225\n",
      "[0.28029793 0.8310201 ], -925493.8875423272\n",
      "[0.27986662 0.83162766], -925489.2132243469\n",
      "[0.27973    0.83202144], -925456.3593180703\n",
      "[0.28000674 0.83207723], -925454.1694718895\n",
      "[0.28048075 0.83194385], -925422.3865099378\n",
      "[0.28090638 0.83206812], -925413.2764579107\n",
      "[0.28077277 0.83252174], -925373.601588776\n",
      "[0.28052533 0.83304999], -925367.913878219\n",
      "[0.28048057 0.83341704], -925334.3278477491\n",
      "[0.28073235 0.8339732 ], -925332.5360867934\n",
      "[0.28151074 0.83413781], -925303.356918696\n",
      "[0.28207405 0.83406267], -925311.2584694431\n",
      "[0.28220339 0.83419273], -925290.6708807031\n",
      "[0.28163319 0.83441496], -925299.6036842756\n",
      "[0.2810025  0.83459512], -925279.5651740688\n",
      "[0.28078623 0.83465569], -925295.5749138935\n",
      "[0.28086082 0.8345272 ], -925280.8661235722\n",
      "[0.28063597 0.83450453], -925295.9454996716\n",
      "[0.28025811 0.83457501], -925282.4247869429\n",
      "[0.27980339 0.83441491], -925296.9298163109\n",
      "[0.27918639 0.83429211], -925283.0053673993\n",
      "[0.27848868 0.83383472], -925299.627456015\n",
      "[0.27794104 0.83321514], -925287.3138100327\n",
      "[0.27729849 0.83245247], -925298.3346920657\n",
      "[0.27689466 0.83160272], -925279.8935748201\n",
      "[0.27639614 0.83067536], -925287.2477601503\n",
      "[0.27589056 0.82992058], -925264.8593020759\n",
      "[0.27542628 0.82935076], -925278.910874557\n",
      "[0.27508167 0.82897305], -925264.6318002493\n",
      "[0.27495047 0.828827  ], -925280.7904566982\n",
      "[0.27502078 0.82882403], -925266.772678861\n",
      "[0.27530721 0.82919093], -925285.5611819518\n",
      "[0.27553474 0.82968679], -925272.3943645968\n",
      "[0.27578115 0.8300738 ], -925288.8043896622\n",
      "[0.27606261 0.83037873], -925272.988997407\n",
      "[0.27641867 0.83069201], -925289.2050084635\n",
      "[0.27674786 0.83085708], -925276.225009697\n",
      "[0.27712752 0.83105462], -925291.1274880695\n",
      "[0.2773802 0.8311913], -925279.1233432955\n",
      "[0.27743983 0.8313055 ], -925297.3168442531\n",
      "[0.2776012  0.83122297], -925286.8005352186\n",
      "[0.27792453 0.83099504], -925304.7776261081\n",
      "[0.27829919 0.83067851], -925291.7636311995\n",
      "[0.27835059 0.83034566], -925309.2310996412\n",
      "[0.2781643  0.83020176], -925295.7305336333\n",
      "[0.27780362 0.83007013], -925314.5173429752\n",
      "[0.27754791 0.82999505], -925305.0840375706\n",
      "[0.27749182 0.82956155], -925328.2251144741\n",
      "[0.27748105 0.82923267], -925323.8317428147\n",
      "[0.27721278 0.82906898], -925349.7916335431\n",
      "[0.27671602 0.8291351 ], -925346.6716042992\n",
      "[0.27611064 0.82929221], -925374.0849837915\n",
      "[0.27580989 0.82932388], -925370.5327561576\n",
      "[0.27585741 0.82910908], -925400.8434604367\n",
      "[0.27597228 0.82886083], -925401.7066993387\n",
      "[0.27586667 0.82858847], -925434.5191541673\n",
      "[0.27547803 0.82862175], -925438.3031700626\n",
      "[0.27505937 0.82879154], -925475.9120732025\n",
      "[0.27482424 0.8290145 ], -925484.2668448569\n",
      "[0.27493878 0.82926643], -925528.9901439813\n",
      "[0.27543409 0.82942748], -925542.8933758758\n",
      "[0.27561787 0.82969241], -925587.2007306749\n",
      "[0.27578252 0.83006196], -925600.286721388\n",
      "[0.27592667 0.83040099], -925639.9176657487\n",
      "[0.27595917 0.83079505], -925650.1961768783\n",
      "[0.27584769 0.83109114], -925695.7974576451\n",
      "[0.27564152 0.83135162], -925710.2911764999\n",
      "[0.27534508 0.83168814], -925751.964615799\n",
      "[0.27528119 0.83169377], -925761.2761025772\n",
      "[0.27498686 0.83151193], -925803.1379987248\n",
      "[0.274708   0.83105368], -925811.9246431523\n",
      "[0.27437848 0.8303562 ], -925847.2966418148\n",
      "[0.27370678 0.82973279], -925851.275706738\n",
      "[0.2729762  0.82927885], -925886.9383631534\n",
      "[0.27199372 0.82892771], -925892.7593596703\n",
      "[0.27120037 0.82852367], -925935.0625450858\n",
      "[0.27099349 0.82787542], -925945.31115157\n",
      "[0.27130471 0.8274028 ], -925994.820732649\n",
      "[0.27132546 0.82729115], -926012.0516715614\n",
      "[0.27135855 0.8276441 ], -926059.7003109762\n",
      "[0.2710295  0.82835629], -926075.623778687\n",
      "[0.27067307 0.82906228], -926125.339311092\n",
      "[0.27085386 0.82946157], -926143.564020064\n",
      "[0.27111495 0.82939798], -926188.7254456271\n",
      "[0.27138711 0.82927188], -926202.1537542896\n",
      "[0.27144415 0.82905524], -926245.2599602587\n",
      "[0.27086325 0.82913785], -926254.7076136622\n",
      "[0.27005773 0.82926793], -926295.6521541232\n",
      "[0.2697801  0.82899049], -926303.2618875077\n",
      "[0.26997821 0.82847071], -926332.4118658395\n",
      "[0.27045905 0.82775285], -926328.8940565583\n",
      "[0.27069677 0.82721351], -926352.4131142186\n",
      "[0.27019501 0.82720833], -926340.9776628206\n",
      "[0.26947456 0.82752138], -926355.1567171254\n",
      "[0.26931175 0.82763338], -926337.0578702115\n",
      "[0.26966649 0.82772427], -926350.4837203876\n",
      "[0.27062147 0.8275582 ], -926330.7958985155\n",
      "[0.27128219 0.82739328], -926340.6041235364\n",
      "[0.27122045 0.82769609], -926318.7331189608\n",
      "[0.27079746 0.82803193], -926336.8511014911\n",
      "[0.27064519 0.82815651], -926324.6382309422\n",
      "[0.27072888 0.82829995], -926338.6076702343\n",
      "[0.2712088  0.82802286], -926321.0189476621\n",
      "[0.27149138 0.82803963], -926330.9667712023\n",
      "[0.27135872 0.82812271], -926308.2644436277\n",
      "[0.2711617  0.82800937], -926323.7592509175\n",
      "[0.27068466 0.82786349], -926306.368898547\n",
      "[0.27030641 0.82756896], -926316.7964239257\n",
      "[0.27001291 0.82710504], -926295.2449592997\n",
      "[0.26964295 0.82666428], -926301.3952830307\n",
      "[0.26932426 0.8261967 ], -926276.392321649\n",
      "[0.26877174 0.82560594], -926286.9611347705\n",
      "[0.26821381 0.82516266], -926265.2178257824\n",
      "[0.26761803 0.82447141], -926276.1410149612\n",
      "[0.26713924 0.82398976], -926256.6220227887\n",
      "[0.26702239 0.82344593], -926273.4678769208\n",
      "[0.26674586 0.823373  ], -926257.3343272875\n",
      "[0.26637062 0.82393892], -926271.4553035208\n",
      "[0.26610415 0.82465405], -926254.1966189599\n",
      "[0.26620444 0.82530338], -926267.8256960404\n",
      "[0.26676914 0.82559862], -926248.7420903064\n",
      "[0.26739762 0.82561649], -926261.1813023334\n",
      "[0.26715119 0.82585529], -926238.6098759995\n",
      "[0.26653356 0.82595332], -926244.660371392\n",
      "[0.2654867  0.82590722], -926218.455272839\n",
      "[0.26498024 0.82563516], -926226.5990458974\n",
      "[0.26518437 0.82463962], -926200.5219980126\n",
      "[0.26531773 0.82359746], -926207.8547071973\n",
      "[0.26488212 0.82287587], -926181.6757550299\n",
      "[0.26421363 0.82216422], -926189.8158993482\n",
      "[0.26354801 0.8217381 ], -926166.3904997942\n",
      "[0.2633342 0.821513 ], -926169.1606491914\n",
      "[0.26371321 0.82145793], -926138.382028882\n",
      "[0.26417544 0.82168578], -926143.9038897539\n",
      "[0.26456968 0.82240113], -926117.4437075903\n",
      "[0.26480982 0.82348241], -926120.6920949665\n",
      "[0.26487831 0.82477565], -926093.7278975467\n",
      "[0.26517288 0.82606146], -926098.4326591796\n",
      "[0.2658573  0.82688466], -926071.1979904164\n",
      "[0.2664982  0.82740379], -926077.2198382838\n",
      "[0.2666203  0.82768543], -926050.4275431522\n",
      "[0.26651924 0.82787748], -926052.5831341129\n",
      "[0.2658375  0.82773963], -926021.6112187421\n",
      "[0.26469651 0.82718558], -926021.6399573841\n",
      "[0.26427253 0.82575792], -925987.4692816841\n",
      "[0.26445964 0.82406992], -925986.5372672469\n",
      "[0.26423774 0.82259313], -925956.4576789201\n",
      "[0.26360994 0.82190683], -925952.5736534721\n",
      "[0.26256547 0.82190986], -925917.3636973253\n",
      "[0.2618129  0.82185052], -925911.5363821124\n",
      "[0.26214245 0.82170652], -925869.6397569936\n",
      "[0.26308446 0.82170302], -925866.9701579484\n",
      "[0.26365423 0.82236972], -925831.2407194808\n",
      "[0.26388046 0.82363398], -925832.79860696\n",
      "[0.26376683 0.82524578], -925803.097850577\n",
      "[0.26417883 0.82681493], -925802.944885583\n",
      "[0.2652689  0.82768637], -925766.8204057658\n",
      "[0.26632355 0.82815878], -925764.7760187199\n",
      "[0.26694114 0.82832442], -925728.8808214042\n",
      "[0.26692173 0.82874264], -925727.2818904739\n",
      "[0.26633107 0.82894743], -925694.018755615\n",
      "[0.26576453 0.82902717], -925693.8522625336\n",
      "[0.26588576 0.82832238], -925662.2347806724\n",
      "[0.26623211 0.82742218], -925669.6195136505\n",
      "[0.26626611 0.82667666], -925648.8686791684\n",
      "[0.2659014  0.82624452], -925667.0215095028\n",
      "[0.26499107 0.82637158], -925654.94955054\n",
      "[0.26424072 0.82660076], -925685.7780108299\n",
      "[0.2644493  0.82664405], -925681.9367704432\n",
      "[0.26486351 0.82695839], -925706.0632074937\n",
      "[0.26553157 0.8274589 ], -925696.9946258585\n",
      "[0.2659335  0.82811623], -925720.4191616881\n",
      "[0.26559778 0.82929727], -925707.1580741585\n",
      "[0.26480965 0.83000832], -925734.7652506907\n",
      "[0.26445115 0.83034744], -925727.2078161602\n",
      "[0.26432449 0.82993221], -925747.6681801066\n",
      "[0.2644123  0.82930789], -925735.6419591219\n",
      "[0.26427015 0.8289273 ], -925757.2597772068\n",
      "[0.26313549 0.82918221], -925745.0832599462\n",
      "[0.26191791 0.82953794], -925762.3221876778\n",
      "[0.26128823 0.82967056], -925746.4741422533\n",
      "[0.26117188 0.82965282], -925763.0026642445\n",
      "[0.26154664 0.82946129], -925746.8163804869\n",
      "[0.26186585 0.82955686], -925768.3652671523\n",
      "[0.2611806  0.83027252], -925754.352790409\n",
      "[0.26016194 0.83110614], -925775.3197840076\n",
      "[0.25965049 0.83154546], -925764.5198637885\n",
      "[0.25966969 0.83127609], -925784.8584190848\n",
      "[0.25994117 0.83079042], -925773.3521876268\n",
      "[0.25973121 0.83040756], -925788.8984899124\n",
      "[0.25843655 0.83065686], -925765.0316232014\n",
      "[0.25703993 0.83116132], -925768.6188207654\n",
      "[0.25649566 0.83124655], -925735.409998269\n",
      "[0.25646984 0.8309693 ], -925730.0575958866\n",
      "[0.25687669 0.83058567], -925692.320679176\n",
      "[0.25718431 0.83043994], -925699.5471443078\n",
      "[0.25652399 0.83099452], -925672.1923324462\n",
      "[0.25554254 0.83174316], -925679.6216402455\n",
      "[0.25518639 0.83223946], -925656.3080411188\n",
      "[0.25525734 0.83248205], -925667.9911835408\n",
      "[0.25578406 0.83237069], -925648.6125055095\n",
      "[0.256169   0.83231044], -925666.9561274147\n",
      "[0.25550715 0.83268301], -925649.4341397779\n",
      "[0.25443957 0.83317128], -925665.5469976922\n",
      "[0.25388844 0.83335491], -925643.3535881502\n",
      "[0.25408471 0.8332345 ], -925649.4610464667\n",
      "[0.25457227 0.83304073], -925622.3725645965\n",
      "[0.25441211 0.83301123], -925634.0416280177\n",
      "[0.25321162 0.83368637], -925612.4912083664\n",
      "[0.25199878 0.8344981 ], -925630.3214688939\n",
      "[0.25175116 0.83482158], -925615.1724419395\n",
      "[0.2520696  0.83486095], -925636.4267668958\n",
      "[0.25224515 0.83483472], -925628.4784787351\n",
      "[0.25194553 0.83529511], -925651.1571376646\n",
      "[0.25080909 0.83592623], -925637.5351951208\n",
      "[0.24958191 0.83637101], -925661.3167657846\n",
      "[0.24935964 0.83589598], -925645.4313066268\n",
      "[0.2497304  0.83489503], -925665.6919037702\n",
      "[0.24952305 0.83400482], -925650.4047475781\n",
      "[0.24877101 0.83342823], -925662.5872320528\n",
      "[0.2474973  0.83327424], -925642.9680226289\n",
      "[0.24671692 0.83307643], -925664.5798111962\n",
      "[0.24741253 0.83252007], -925648.9142547592\n",
      "[0.24830138 0.83236756], -925670.2134851485\n",
      "[0.24876439 0.83293834], -925659.7892714479\n",
      "[0.24894425 0.83381968], -925689.2479458959\n",
      "[0.248913   0.83517396], -925685.0069671657\n",
      "[0.24901059 0.83647679], -925715.3399627107\n",
      "[0.24994727 0.83728804], -925707.9763711491\n",
      "[0.25091136 0.83798469], -925728.8697707042\n",
      "[0.25138267 0.83863938], -925715.1405798797\n",
      "[0.25138135 0.83910921], -925733.7891183299\n",
      "[0.2508038  0.83940338], -925719.7087701898\n",
      "[0.25026029 0.83895358], -925735.3536616088\n",
      "[0.25017138 0.83788891], -925716.3650528041\n",
      "[0.25029549 0.83661715], -925731.1495027972\n",
      "[0.24986877 0.83564656], -925713.5961804704\n",
      "[0.2494127  0.83503774], -925737.9998404116\n",
      "[0.24875574 0.83473996], -925729.53144629\n",
      "[0.24827936 0.83460281], -925753.2858756807\n",
      "[0.24870647 0.83424297], -925738.9799191994\n",
      "[0.24948305 0.8342477 ], -925757.9933032498\n",
      "[0.24998178 0.83468853], -925741.6423027131\n",
      "[0.25028311 0.83551771], -925759.3270715151\n",
      "[0.25028782 0.83664318], -925743.984565276\n",
      "[0.25038395 0.83747688], -925764.4930650559\n",
      "[0.25145741 0.83768068], -925747.3408404856\n",
      "[0.25272469 0.83784926], -925769.7406835634\n",
      "[0.25335404 0.83819015], -925757.1984099214\n",
      "[0.25329289 0.83862617], -925775.9199659434\n",
      "[0.25283453 0.83894996], -925760.6336499387\n",
      "[0.25271323 0.83882015], -925782.5829424461\n",
      "[0.2530242  0.83815659], -925770.0462580784\n",
      "[0.25319191 0.83763514], -925794.1749247778\n",
      "[0.25262753 0.8373061 ], -925783.5688258405\n",
      "[0.25179418 0.83703821], -925801.6711946079\n",
      "[0.25111606 0.83654856], -925784.3407775172\n",
      "[0.25048118 0.83588788], -925797.9933009342\n",
      "[0.25003961 0.83509456], -925774.8395624746\n",
      "[0.24960971 0.83475972], -925788.8636699013\n",
      "[0.24879651 0.83466885], -925770.6258735863\n",
      "[0.24792344 0.83440421], -925792.3998725192\n",
      "[0.24751978 0.83397906], -925781.2183021083\n",
      "[0.24755041 0.83359235], -925807.5231225777\n",
      "[0.24729152 0.83348467], -925797.1900097859\n",
      "[0.24686188 0.83355086], -925817.4519218976\n",
      "[0.24619075 0.83390082], -925803.2620315653\n",
      "[0.24604381 0.83445579], -925826.0860931787\n",
      "[0.24678834 0.83463834], -925816.4326396578\n",
      "[0.24769933 0.83476352], -925853.031688414\n",
      "[0.24815797 0.83513954], -925855.5393297082\n",
      "[0.2480808  0.83558102], -925884.6680775986\n",
      "[0.24811626 0.83595977], -925876.1234866617\n",
      "[0.24862656 0.83603358], -925896.4859223303\n",
      "[0.2495275  0.83596009], -925880.2194905437\n",
      "[0.24983183 0.83594456], -925899.2206581417\n",
      "[0.24992445 0.83615459], -925883.7166111886\n",
      "[0.25008563 0.83610846], -925908.9227952668\n",
      "[0.25028145 0.83623129], -925897.8278680923\n",
      "[0.25025289 0.83654955], -925912.6940824091\n",
      "[0.25030511 0.83692391], -925891.1949673502\n",
      "[0.25051319 0.83739644], -925907.5695158895\n",
      "[0.25088215 0.83770197], -925889.8031120531\n",
      "[0.25114621 0.83795912], -925910.7657966829\n",
      "[0.25146689 0.83801232], -925896.0703992015\n",
      "[0.25166019 0.83800736], -925914.4998873575\n",
      "[0.25156661 0.83792952], -925893.5489064199\n",
      "[0.25170878 0.83790246], -925907.6589507561\n",
      "[0.25192138 0.83765472], -925885.9110596085\n",
      "[0.25203698 0.83734383], -925898.6131456139\n",
      "[0.25213174 0.83700824], -925878.2946921948\n",
      "[0.25209312 0.83662036], -925894.4372445984\n",
      "[0.25186898 0.83643578], -925877.3626141627\n",
      "[0.25169691 0.83655376], -925901.3006800611\n",
      "[0.25180527 0.83658763], -925890.8107251493\n",
      "[0.25173164 0.83640796], -925921.194988841\n",
      "[0.25154096 0.8362416 ], -925916.5909135315\n",
      "[0.25112624 0.83609703], -925950.6384588681\n",
      "[0.25078524 0.83583029], -925950.2774896517\n",
      "[0.2506914  0.83527187], -925988.0751841553\n",
      "[0.25025341 0.83484999], -925990.2654257752\n",
      "[0.24941888 0.83462711], -926032.5006826536\n",
      "[0.24871783 0.83425021], -926037.4288239973\n",
      "[0.24829043 0.83374188], -926078.0768519851\n",
      "[0.24809755 0.83316029], -926082.30097615\n",
      "[0.24776066 0.83274182], -926116.9123435991\n",
      "[0.24722408 0.83260158], -926114.9824173434\n",
      "[0.24659183 0.8324018 ], -926151.683192138\n",
      "[0.24632388 0.83219373], -926153.344441127\n",
      "[0.24618587 0.83194036], -926190.32231868\n",
      "[0.24628628 0.83178613], -926192.162549087\n",
      "[0.24657024 0.83192795], -926222.0066840156\n",
      "[0.24615527 0.83264443], -926214.4103901344\n",
      "[0.24579017 0.83334891], -926244.8229459682\n",
      "[0.24566619 0.83386308], -926239.4909765885\n",
      "[0.24554558 0.83402396], -926274.1848295791\n",
      "[0.24540294 0.83393507], -926273.2874371745\n",
      "[0.24518299 0.83359187], -926310.2636673534\n",
      "[0.24434853 0.83344091], -926307.4313160809\n",
      "[0.24325268 0.83340987], -926331.261604781\n",
      "[0.24285087 0.8329724 ], -926317.0717932538\n",
      "[0.24278703 0.83233332], -926332.7787064817\n",
      "[0.24290178 0.83179933], -926312.8061518589\n",
      "[0.24299325 0.83141717], -926326.8462054909\n",
      "[0.24187035 0.83191487], -926299.418174772\n",
      "[0.24082215 0.83277207], -926315.9485061057\n",
      "[0.24104894 0.83304918], -926292.2464671466\n",
      "[0.24182312 0.83324853], -926307.4322476716\n",
      "[0.2423216  0.83355244], -926288.8141217963\n",
      "[0.24235401 0.83448191], -926305.4376121402\n",
      "[0.24162124 0.8356265 ], -926286.1928540719\n",
      "[0.24125104 0.83643681], -926304.9269062821\n",
      "[0.24206218 0.83623918], -926281.8084856555\n",
      "[0.24279703 0.83576779], -926293.5292144717\n",
      "[0.24233604 0.83558266], -926266.0115262453\n",
      "[0.24129174 0.83540186], -926282.3467747839\n",
      "[0.24049634 0.83486306], -926267.5996662433\n",
      "[0.24038659 0.83383385], -926289.7133483865\n",
      "[0.24108947 0.83255469], -926281.2342773881\n",
      "[0.24153505 0.83195471], -926308.787953676\n",
      "[0.24083149 0.83248949], -926294.426521306\n",
      "[0.24016793 0.83359709], -926314.1535411112\n",
      "[0.24083361 0.83451075], -926292.7807603497\n",
      "[0.24202373 0.83534495], -926304.4550065742\n",
      "[0.24316612 0.83637381], -926287.3564025174\n",
      "[0.24323197 0.8373133 ], -926302.2739431106\n",
      "[0.24241858 0.83851191], -926281.6413489016\n",
      "[0.24161981 0.83935787], -926298.8922392676\n",
      "[0.24224367 0.83906085], -926272.6497191323\n",
      "[0.24294506 0.83828029], -926278.9835665855\n",
      "[0.24289528 0.83763557], -926249.9829677197\n",
      "[0.24194336 0.83738403], -926261.1983046187\n",
      "[0.24072873 0.83721677], -926239.4075388615\n",
      "[0.23989471 0.83705754], -926248.6142876624\n",
      "[0.2411164  0.83601082], -926208.4530764899\n",
      "[0.24215961 0.83495588], -926213.7769734708\n",
      "[0.24154598 0.83516129], -926173.5673880378\n",
      "[0.24034676 0.83598788], -926174.7544160745\n",
      "[0.2396324  0.83681897], -926147.718193572\n",
      "[0.23957346 0.83697225], -926158.7945254851\n",
      "[0.24079339 0.8365533 ], -926134.4273153216\n",
      "[0.24182162 0.83657207], -926153.1860137553\n",
      "[0.24113804 0.83749258], -926127.7937016129\n",
      "[0.23978701 0.83861989], -926149.6699226968\n",
      "[0.23988256 0.83879588], -926131.1966982186\n",
      "[0.24073011 0.83850373], -926142.3180724564\n",
      "[0.2420387  0.83774361], -926121.0306747006\n",
      "[0.24273223 0.83726935], -926130.0979020497\n",
      "[0.24138924 0.83776268], -926093.7455016744\n",
      "[0.2398144  0.83807178], -926106.5403426306\n",
      "[0.23998621 0.8373877 ], -926077.1905093216\n",
      "[0.24083585 0.83617177], -926082.2340981532\n",
      "[0.24131455 0.83539148], -926055.6297945795\n",
      "[0.24103826 0.83546941], -926055.9570378045\n",
      "[0.23974671 0.83637933], -926019.8272609235\n",
      "[0.2390569  0.83683557], -926026.9224295954\n",
      "[0.24005664 0.83652788], -925991.7213133645\n",
      "[0.2412075  0.83602356], -926003.3870295121\n",
      "[0.2411315  0.83618612], -925975.5970455669\n",
      "[0.23995861 0.83666848], -925979.8427404276\n",
      "[0.23918833 0.83675929], -925951.5588900369\n",
      "[0.23906962 0.83637691], -925953.1954558808\n",
      "[0.24026518 0.83522378], -925915.8776370947\n",
      "[0.24149972 0.83463542], -925928.4321574268\n",
      "[0.24068882 0.83520702], -925893.1264823478\n",
      "[0.23952367 0.83618209], -925903.0129360448\n",
      "[0.23959374 0.83654393], -925876.4771054358\n",
      "[0.24054602 0.83661126], -925882.0210266382\n",
      "[0.24201274 0.83641167], -925858.1139992307\n",
      "[0.2424048  0.83644742], -925872.891046265\n",
      "[0.24090271 0.83743167], -925844.6623455735\n",
      "[0.23951718 0.83830659], -925871.1844054417\n",
      "[0.23998096 0.83807743], -925851.2242108991\n",
      "[0.24080138 0.83753191], -925862.8987465934\n",
      "[0.24115655 0.83709535], -925841.4309251513\n",
      "[0.24096    0.83720446], -925852.9391722018\n",
      "[0.2393744  0.83795007], -925825.7044946091\n",
      "[0.23786367 0.83862623], -925841.3529568784\n",
      "[0.238173   0.83819577], -925811.4809361532\n",
      "[0.23924597 0.83728847], -925821.4719414944\n",
      "[0.23947414 0.83683488], -925798.3427118912\n",
      "[0.23900855 0.83709806], -925802.334309531\n",
      "[0.23760835 0.83796502], -925772.1855601367\n",
      "[0.23680051 0.83841236], -925781.8998457815\n",
      "[0.23766643 0.8380922 ], -925750.5581071115\n",
      "[0.23879072 0.83772791], -925760.515038806\n",
      "[0.23862169 0.83813455], -925734.5548370751\n",
      "[0.23783274 0.83856327], -925742.0370959825\n",
      "[0.23695041 0.83913692], -925719.8149324049\n",
      "[0.23657384 0.83981916], -925733.0063889362\n",
      "[0.23784611 0.83955162], -925705.6313837462\n",
      "[0.2391636  0.83927499], -925716.3485667689\n",
      "[0.23885133 0.83963172], -925687.725057679\n",
      "[0.23764414 0.84022047], -925692.0809937853\n",
      "[0.23657981 0.84049194], -925665.9575732264\n",
      "[0.23591516 0.84001857], -925674.5242647481\n",
      "[0.23672612 0.83868373], -925646.0251924017\n",
      "[0.23712523 0.83762695], -925657.7846893334\n",
      "[0.23568473 0.83768655], -925628.6727715941\n",
      "[0.23430667 0.8380466 ], -925632.8879700268\n",
      "[0.23360294 0.8382241 ], -925608.2500750581\n",
      "[0.23397989 0.83808215], -925615.0900264771\n",
      "[0.23498027 0.83782597], -925590.2811539118\n",
      "[0.23535016 0.8380107 ], -925599.4875912566\n",
      "[0.23481094 0.83882124], -925570.9164545988\n",
      "[0.23447932 0.83962149], -925574.5137009672\n",
      "[0.23481739 0.84009288], -925543.5433082274\n",
      "[0.23548892 0.84038611], -925545.6815264401\n",
      "[0.23608313 0.84062032], -925517.6256483905\n",
      "[0.23653552 0.84101107], -925526.8650366475\n",
      "[0.23638981 0.84150138], -925503.5334800206\n",
      "[0.23597426 0.84225998], -925519.4456914166\n",
      "[0.23623791 0.84226654], -925496.6966235966\n",
      "[0.23663884 0.84215949], -925506.6835924926\n",
      "[0.23695649 0.84173061], -925483.8010465963\n",
      "[0.23684618 0.84154369], -925497.3695436642\n",
      "[0.23610723 0.84143123], -925478.3301903927\n",
      "[0.23566618 0.84123299], -925497.6574726766\n",
      "[0.23557186 0.84067745], -925482.8067267084\n",
      "[0.23574856 0.84011925], -925502.7499682697\n",
      "[0.2354729  0.83983483], -925489.6864572323\n",
      "[0.23512516 0.83987993], -925510.8730847647\n",
      "[0.23474798 0.84000588], -925499.449356849\n",
      "[0.23422505 0.84006377], -925517.2289353956\n",
      "[0.23430982 0.83985556], -925503.4696745592\n",
      "[0.23453582 0.83929769], -925526.6444047586\n",
      "[0.23420457 0.83904618], -925516.8016741098\n",
      "[0.23347146 0.838913  ], -925531.149798572\n",
      "[0.23259357 0.83888041], -925510.239404413\n",
      "[0.23206557 0.83862282], -925524.9194551714\n",
      "[0.23244201 0.83801844], -925504.240365971\n",
      "[0.23276365 0.83748333], -925521.6685886468\n",
      "[0.23242628 0.83751416], -925506.9161977682\n",
      "[0.23227133 0.83789278], -925528.7934227878\n",
      "[0.23236532 0.83838848], -925518.1652875321\n",
      "[0.2328911  0.83844101], -925531.9372754332\n",
      "[0.23360642 0.83856719], -925512.1190961968\n",
      "[0.23434878 0.83891582], -925524.4736522046\n",
      "[0.23426364 0.83977718], -925500.7408365506\n",
      "[0.23398014 0.84069848], -925518.9181425438\n",
      "[0.23449707 0.84115345], -925503.5408358072\n",
      "[0.23539387 0.84150378], -925524.552255941\n",
      "[0.2364008  0.84163277], -925512.5311675185\n",
      "[0.23690436 0.84197444], -925536.6276439476\n",
      "[0.23647634 0.84258705], -925524.2075030345\n",
      "[0.23607488 0.84272121], -925543.6007857946\n",
      "[0.23639929 0.84227696], -925527.0714232735\n",
      "[0.23719954 0.84178565], -925547.6584301969\n",
      "[0.23780705 0.84137256], -925535.6175884977\n",
      "[0.23795013 0.84146165], -925550.0829015817\n",
      "[0.2375736  0.84180573], -925530.6585429781\n",
      "[0.23751047 0.84217574], -925548.9531249221\n",
      "[0.23808454 0.84217248], -925534.6423084727\n",
      "[0.23852849 0.84231943], -925553.4047386115\n",
      "[0.23896535 0.84239513], -925538.4830760563\n",
      "[0.23892572 0.84249041], -925556.9878820913\n",
      "[0.23877228 0.84257432], -925540.9461947992\n",
      "[0.23874787 0.84235907], -925555.8252982934\n",
      "[0.2390602  0.84189244], -925536.7508376543\n",
      "[0.23917032 0.84156812], -925558.1712681782\n",
      "[0.23920877 0.84131057], -925545.727968301\n",
      "[0.23922109 0.84107669], -925573.8404910278\n",
      "[0.23918092 0.84084673], -925567.4905915015\n",
      "[0.23898109 0.84042701], -925588.4710120917\n",
      "[0.23899326 0.83987327], -925576.4538026936\n",
      "[0.23878849 0.83944698], -925600.4241488379\n",
      "[0.23867388 0.83903886], -925589.4182092792\n",
      "[0.23877342 0.83859513], -925609.1827568116\n",
      "[0.23885551 0.83827357], -925594.0569636768\n",
      "[0.23895953 0.83828518], -925611.7942809551\n",
      "[0.23899632 0.83848151], -925596.9244217294\n",
      "[0.23913782 0.83848253], -925624.8571302481\n",
      "[0.23959977 0.83833276], -925620.3438161083\n",
      "[0.23994204 0.83800931], -925656.0398802343\n",
      "[0.2402049  0.83774823], -925656.8703681774\n",
      "[0.24052777 0.83768063], -925695.8356286677\n",
      "[0.24072585 0.83766491], -925700.4451606899\n",
      "[0.24094065 0.83764091], -925740.645678542\n",
      "[0.24107625 0.83754895], -925746.5115663748\n",
      "[0.24106769 0.83730348], -925784.1575730053\n",
      "[0.24095131 0.83699588], -925787.9979379032\n",
      "[0.24079235 0.83685829], -925826.9831753774\n",
      "[0.24089528 0.8364836 ], -925831.3847006666\n",
      "[0.24094345 0.83607445], -925875.8831920602\n",
      "[0.24113903 0.83552299], -925886.7209553659\n",
      "[0.24112778 0.83515451], -925927.1774551496\n",
      "[0.24105219 0.83488333], -925934.1729569659\n",
      "[0.24116297 0.83476234], -925977.4840501825\n",
      "[0.24145032 0.83466375], -925986.2859115951\n",
      "[0.24173308 0.83440332], -926026.2835379384\n",
      "[0.24185031 0.8343735 ], -926029.3833415095\n",
      "[0.2419034  0.83480431], -926066.322353761\n",
      "[0.24203985 0.83521207], -926067.3887162748\n",
      "[0.24243561 0.83539105], -926095.7457272684\n",
      "[0.24290645 0.83535164], -926087.6491188585\n",
      "[0.24351225 0.83532407], -926117.3777080134\n",
      "[0.24341899 0.83534027], -926106.9713295047\n",
      "[0.24323538 0.83524013], -926128.9900449795\n",
      "[0.2430363  0.83482631], -926116.3781713623\n",
      "[0.24304103 0.83432698], -926134.4272477926\n",
      "[0.24328112 0.8334991 ], -926117.3654825715\n",
      "[0.24340971 0.83238712], -926128.5867947285\n",
      "[0.24294885 0.83173091], -926104.1014805995\n",
      "[0.24255209 0.83114418], -926113.4513591315\n",
      "[0.24238808 0.83078192], -926088.3723710178\n",
      "[0.24223591 0.83073159], -926101.2964058003\n",
      "[0.24268505 0.83077277], -926075.9703301972\n",
      "[0.24321548 0.8307867 ], -926090.128767633\n",
      "[0.24344453 0.83122277], -926066.8349048619\n",
      "[0.24340189 0.83228508], -926082.4325797303\n",
      "[0.24360717 0.83326063], -926062.1757336373\n",
      "[0.24363851 0.83358884], -926077.7645002607\n",
      "[0.24433093 0.83338504], -926054.9127458815\n",
      "[0.24498131 0.83300156], -926070.0223964887\n",
      "[0.24496551 0.83286467], -926048.6050972682\n",
      "[0.24482949 0.8327194 ], -926063.2034171694\n",
      "[0.24451531 0.83272133], -926045.6569284444\n",
      "[0.24470891 0.83268029], -926067.175177931\n",
      "[0.24554789 0.83243917], -926053.7913474503\n",
      "[0.24624201 0.83239646], -926078.683236396\n",
      "[0.24669114 0.83277829], -926067.4035228223\n",
      "[0.24703206 0.83322376], -926088.9764658725\n",
      "[0.24724551 0.8340076 ], -926074.7103733467\n",
      "[0.24744607 0.83483794], -926097.6575989767\n",
      "[0.24828546 0.83541684], -926083.034665018\n",
      "[0.24894086 0.83583655], -926103.7924583438\n",
      "[0.24908346 0.83640691], -926088.6141783262\n",
      "[0.24873856 0.8371248 ], -926102.6256844274\n",
      "[0.24861085 0.83749158], -926082.2609965584\n",
      "[0.24898281 0.83783076], -926087.3429666634\n",
      "[0.24959683 0.83773413], -926056.8415293464\n",
      "[0.25002471 0.83752494], -926061.5494033196\n",
      "[0.24968893 0.83750761], -926027.1661401774\n",
      "[0.24913057 0.83761063], -926028.3792241209\n",
      "[0.24896088 0.83744499], -925992.8786068799\n",
      "[0.24909362 0.83711314], -925986.9728360476\n",
      "[0.24942458 0.83673202], -925946.0573298675\n",
      "[0.24939906 0.83670239], -925947.1869056672\n",
      "[0.24868939 0.83715376], -925912.6587784715\n",
      "[0.24803604 0.83745557], -925919.7965370055\n",
      "[0.24805199 0.83744814], -925893.0210852541\n",
      "[0.24877576 0.8374122 ], -925906.2132088697\n",
      "[0.24889138 0.83771852], -925883.1320165638\n",
      "[0.2487715  0.83858523], -925893.370624929\n",
      "[0.24804292 0.83952689], -925865.0746569292\n",
      "[0.24793645 0.83988938], -925875.3558583055\n",
      "[0.24832645 0.83949601], -925845.8644750367\n",
      "[0.24852854 0.83903022], -925851.292258637\n",
      "[0.24762002 0.83871282], -925819.4138966181\n",
      "[0.24667677 0.83831583], -925822.5356802826\n",
      "[0.24607181 0.83746003], -925790.7239901933\n",
      "[0.24581009 0.83629372], -925792.0528186846\n",
      "[0.24597635 0.83496781], -925758.316635546\n",
      "[0.24569873 0.83381843], -925756.7799079621\n",
      "[0.24448142 0.8335225 ], -925714.534879612\n",
      "[0.24364683 0.83363688], -925709.0361079435\n",
      "[0.24377989 0.83369284], -925668.1327441222\n",
      "[0.24449643 0.83379401], -925664.9569882619\n",
      "[0.24525976 0.83412329], -925629.4785715251\n",
      "[0.24564216 0.83455674], -925629.7281337095\n",
      "[0.24503991 0.83540931], -925590.6952488639\n",
      "[0.24473294 0.83620978], -925594.5127320855\n",
      "[0.24516109 0.83624449], -925557.7982050376\n",
      "[0.24598004 0.83593555], -925561.5769136836\n",
      "[0.24656927 0.83537193], -925532.0497820366\n",
      "[0.24635578 0.83481324], -925542.0212457222\n",
      "[0.24557173 0.8343074 ], -925520.032443515\n",
      "[0.24497997 0.83375362], -925546.2249629761\n",
      "[0.2455418  0.83257178], -925533.4342415178\n",
      "[0.24663401 0.83174236], -925564.9074178498\n",
      "[0.24669693 0.83152121], -925556.068031582\n",
      "[0.24590607 0.83182322], -925583.0623373969\n",
      "[0.24518331 0.8320659 ], -925575.06301276\n",
      "[0.24481469 0.83203667], -925605.2675161341\n",
      "[0.24563198 0.83127215], -925595.1820855257\n",
      "[0.24632917 0.83050631], -925621.9861963405\n",
      "[0.24599866 0.83038987], -925607.4080046266\n",
      "[0.24510285 0.83058889], -925625.6636190036\n",
      "[0.2445551  0.83081716], -925608.6585224613\n",
      "[0.24475484 0.83099465], -925626.7353224144\n",
      "[0.24563784 0.83099729], -925612.6268641937\n",
      "[0.24618483 0.831189  ], -925629.9998290308\n",
      "[0.24562281 0.83218073], -925608.6067050012\n",
      "[0.24503047 0.83302187], -925625.3298626209\n",
      "[0.24515059 0.8334993 ], -925603.456034046\n",
      "[0.24606685 0.83395755], -925617.8901447277\n",
      "[0.24683082 0.83436172], -925598.8809870682\n",
      "[0.24720398 0.83473934], -925619.5359267617\n",
      "[0.24656514 0.83535628], -925603.3308419681\n",
      "[0.24590949 0.83568083], -925622.9080996444\n",
      "[0.24609347 0.83512974], -925602.3209395218\n",
      "[0.24649475 0.83445726], -925626.8899908521\n",
      "[0.24671434 0.83371583], -925617.4168146648\n",
      "[0.24634796 0.83294765], -925652.4631588968\n",
      "[0.24547529 0.83246506], -925655.7127223118\n",
      "[0.24474744 0.83203644], -925695.8254008807\n",
      "[0.24525947 0.83113479], -925698.0225638606\n",
      "[0.24591691 0.83014419], -925732.5844015677\n",
      "[0.24580745 0.82986489], -925732.5393889087\n",
      "[0.24519495 0.83004979], -925772.6986069548\n",
      "[0.24493348 0.83026571], -925779.5989720428\n",
      "[0.24500225 0.83024715], -925815.9128236801\n",
      "[0.2459196  0.82985099], -925815.7670895344\n",
      "[0.24671743 0.82999049], -925853.2914951374\n",
      "[0.24661148 0.83054402], -925851.3278794733\n",
      "[0.24684069 0.83089786], -925880.3493390821\n",
      "[0.24674048 0.83118487], -925872.1434908304\n",
      "[0.24677033 0.83124841], -925900.1057467321\n",
      "[0.24700172 0.83086633], -925889.6605178262\n",
      "[0.24707348 0.83008672], -925920.5254291267\n",
      "[0.24691393 0.8292234 ], -925915.4227356578\n",
      "[0.24645468 0.82837954], -925951.7118093654\n",
      "[0.24586972 0.827689  ], -925952.1869910371\n",
      "[0.24534319 0.82686389], -925993.0144108521\n",
      "[0.24492188 0.82619462], -925996.4739041012\n",
      "[0.24440129 0.82593608], -926037.4986493529\n",
      "[0.24426212 0.8257697 ], -926039.5164952351\n",
      "[0.24421627 0.82563679], -926074.4091591537\n",
      "[0.24412976 0.8257858 ], -926071.184032471\n",
      "[0.24378987 0.82587777], -926097.329891018\n",
      "[0.24352066 0.82603809], -926086.2665612145\n",
      "[0.24356529 0.82617471], -926107.4410150618\n",
      "[0.2437278  0.82624524], -926092.6205071833\n",
      "[0.24372692 0.82631685], -926112.8802464278\n",
      "[0.2433507  0.82650161], -926098.2745012821\n",
      "[0.24299066 0.82667298], -926119.8719870877\n",
      "[0.24315185 0.82653037], -926103.7078364418\n",
      "[0.24384421 0.82612509], -926115.7597912491\n",
      "[0.24389938 0.82606482], -926088.9534810242\n",
      "[0.24353932 0.82645474], -926097.4084187674\n",
      "[0.24317324 0.82686638], -926068.1072836189\n",
      "[0.24340846 0.82720179], -926080.0163076455\n",
      "[0.24422322 0.82712842], -926056.4336139475\n",
      "[0.24460979 0.82713003], -926073.6441831077\n",
      "[0.24413186 0.82748939], -926052.2971779162\n",
      "[0.24344988 0.82794887], -926068.6088312721\n",
      "[0.24348083 0.82792362], -926045.3863358328\n",
      "[0.24381071 0.82749072], -926065.6087983407\n",
      "[0.24419545 0.82711049], -926048.1437939038\n",
      "[0.24416427 0.82720008], -926072.0848657656\n",
      "[0.24396791 0.82767385], -926057.5403794463\n",
      "[0.24417966 0.82842203], -926086.6580574656\n",
      "[0.24512709 0.82909676], -926077.9519776156\n",
      "[0.24600158 0.82996515], -926116.5136355471\n",
      "[0.24645548 0.83120193], -926116.0919445417\n",
      "[0.24669327 0.83250744], -926159.7566648927\n",
      "[0.24679612 0.83367073], -926165.8172564567\n",
      "[0.24654186 0.83443648], -926216.5012052552\n",
      "[0.246417   0.83460326], -926229.5789250741\n",
      "[0.24607892 0.83440068], -926283.4038741958\n",
      "[0.24523731 0.83386392], -926300.1660151278\n",
      "[0.24440106 0.83302999], -926349.3120631016\n",
      "[0.24316241 0.83203732], -926359.0346825783\n",
      "[0.24234067 0.83108658], -926409.2939679644\n",
      "[0.24137047 0.83011763], -926419.1498792267\n",
      "[0.2401137  0.82943896], -926460.5136491085\n",
      "[0.23946443 0.82862649], -926463.0544718247\n",
      "[0.23924143 0.8278973 ], -926503.8485204488\n",
      "[0.23906351 0.82761728], -926506.8948164448\n",
      "[0.23910483 0.8275729 ], -926545.719022623\n",
      "[0.23885536 0.82817954], -926545.0436171475\n",
      "[0.23894338 0.8291093 ], -926575.6267833225\n",
      "[0.23959037 0.82999565], -926569.9205973472\n",
      "[0.24066788 0.8307875 ], -926605.2875780716\n",
      "[0.24145622 0.83162437], -926605.3188603215\n",
      "[0.24166427 0.83234738], -926644.7280519506\n",
      "[0.2416165  0.83278627], -926646.8430501644\n",
      "[0.24170631 0.83253742], -926675.2284246148\n",
      "[0.24222313 0.83176275], -926665.6286138537\n",
      "[0.24227751 0.83087376], -926695.6855302479\n",
      "[0.24156387 0.83033532], -926688.3807452549\n",
      "[0.24088739 0.83012849], -926726.2206180566\n",
      "[0.24070961 0.82984648], -926727.243793887\n",
      "[0.24043015 0.82972201], -926770.993644137\n",
      "[0.2405848  0.82961549], -926777.9245851033\n",
      "[0.2408327  0.82953701], -926826.4707791193\n",
      "[0.24042846 0.82997298], -926833.6237787933\n",
      "[0.24031087 0.83029552], -926873.9899011079\n",
      "[0.23998772 0.83071572], -926873.9049733107\n",
      "[0.23974123 0.83094869], -926917.3548817533\n",
      "[0.24015386 0.83073484], -926919.2480903476\n",
      "[0.24038645 0.83060782], -926956.9101085813\n",
      "[0.24022064 0.8306492 ], -926956.2982920295\n",
      "[0.24008126 0.83078967], -927004.5111384946\n",
      "[0.24046272 0.83069664], -927012.3946429701\n",
      "[0.24079181 0.83075376], -927053.9826628694\n",
      "[0.24130067 0.83078836], -927052.7014087199\n",
      "[0.24175288 0.83122605], -927087.2413232327\n",
      "[0.24159395 0.83193419], -927078.2869832927\n",
      "[0.24134761 0.83228649], -927104.3847051796\n",
      "[0.24130322 0.83225913], -927092.9536611657\n",
      "[0.2416704  0.83213334], -927124.3426508297\n",
      "[0.24173418 0.83188599], -927121.067417268\n",
      "[0.24167206 0.83168754], -927158.2824115086\n",
      "[0.24144491 0.83135895], -927154.8227352392\n",
      "[0.241131   0.83085449], -927182.121052218\n",
      "[0.24150449 0.82995972], -927167.2569633613\n",
      "[0.24177283 0.82886824], -927190.9014689456\n",
      "[0.24161816 0.82834131], -927175.7577666778\n",
      "[0.241349   0.82829806], -927197.3662972073\n",
      "[0.24150074 0.82860904], -927179.301131078\n",
      "[0.24223318 0.82879626], -927201.8386392599\n",
      "[0.2433017  0.82939772], -927183.7024510492\n",
      "[0.24418968 0.83016136], -927210.3772165125\n",
      "[0.24425157 0.83164626], -927198.7014375525\n",
      "[0.24405497 0.83328234], -927234.9305320688\n",
      "[0.2448111  0.83419468], -927234.574016958\n",
      "[0.24589506 0.83448626], -927276.8697695842\n",
      "[0.24620554 0.83454416], -927276.8367227224\n",
      "[0.24562439 0.83458232], -927312.4359411057\n",
      "[0.24464533 0.8341307 ], -927305.908810676\n",
      "[0.24417587 0.83308833], -927333.2966550229\n",
      "[0.24477841 0.8312622 ], -927317.3862189513\n",
      "[0.24522056 0.82974208], -927341.8968809708\n",
      "[0.2446521  0.82921448], -927322.0800594167\n",
      "[0.24386672 0.82895399], -927341.0488542267\n",
      "[0.24403808 0.8289816 ], -927317.209849798\n",
      "[0.24487477 0.82902265], -927334.0291428644\n",
      "[0.24606391 0.82974373], -927307.7961641727\n",
      "[0.24685875 0.83099639], -927318.2836718515\n",
      "[0.24664459 0.83321061], -927288.6617441545\n",
      "[0.24648696 0.83540694], -927299.1616963926\n",
      "[0.24816906 0.83637245], -927263.6595632463\n",
      "[0.24979039 0.83703575], -927286.5812959839\n",
      "[0.25021037 0.83766033], -927267.77470754\n",
      "[0.24989071 0.83865352], -927289.7011585823\n",
      "[0.24945323 0.83875348], -927268.9110548306\n",
      "[0.24927324 0.83802993], -927280.9429105123\n",
      "[0.2497714  0.83619112], -927249.9814629854\n",
      "[0.25014321 0.83454367], -927259.6168715586\n",
      "[0.24872235 0.833747  ], -927222.676294859\n",
      "[0.24693474 0.83289216], -927227.7989869225\n",
      "[0.24643695 0.83165784], -927190.6961402893\n",
      "[0.2470367  0.83004708], -927195.4974817883\n",
      "[0.24718853 0.82939251], -927160.0453796734\n",
      "[0.24679777 0.82971955], -927156.5788375863\n",
      "[0.24547761 0.83114513], -927114.6822303734\n",
      "[0.24481239 0.83224489], -927120.0806358964\n",
      "[0.24608235 0.83234539], -927081.1555786938\n",
      "[0.24730379 0.83212818], -927085.1573795442\n",
      "[0.24710366 0.8323901 ], -927044.1656048675\n",
      "[0.24647486 0.83270002], -927034.8096174267\n",
      "[0.24593161 0.83253514], -926985.6800374889\n",
      "[0.24621888 0.8317476 ], -926976.749792128\n",
      "[0.24723641 0.83036852], -926927.7108640982\n",
      "[0.24780844 0.82903881], -926922.784670869\n",
      "[0.24671319 0.82878152], -926872.0355509599\n",
      "[0.24570059 0.8289755 ], -926864.4040473582\n",
      "[0.24613875 0.8287483 ], -926810.7223692163\n",
      "[0.24709582 0.82820742], -926795.9777426865\n",
      "[0.2478003 0.8280827], -926743.6427978658\n",
      "[0.2480364  0.82843853], -926733.1978915517\n",
      "[0.24723974 0.82940246], -926684.7408353597\n",
      "[0.2470763  0.83006601], -926679.51105311\n",
      "[0.24835192 0.82971029], -926630.1790642887\n",
      "[0.24961663 0.82895137], -926622.7159848476\n",
      "[0.24968933 0.8286757 ], -926569.2849016116\n",
      "[0.24926188 0.82888949], -926557.902691522\n",
      "[0.24933862 0.82882217], -926508.3686404644\n",
      "[0.25018495 0.8283804 ], -926489.6267391066\n",
      "[0.25169808 0.82772229], -926433.1553501729\n",
      "[0.25290675 0.82777672], -926420.0386601061\n",
      "[0.25300005 0.82867551], -926366.9704830423\n",
      "[0.25341755 0.82961062], -926354.9463611976\n",
      "[0.25396426 0.8304864 ], -926304.9594096743\n",
      "[0.25447196 0.83163304], -926298.3506558057\n",
      "[0.25540391 0.83219   ], -926253.1176027483\n",
      "[0.25622455 0.83253791], -926247.746622823\n",
      "[0.25628643 0.83261219], -926200.0889978902\n",
      "[0.25621263 0.83283731], -926188.2035134423\n",
      "[0.25590947 0.83239424], -926133.5454266524\n",
      "[0.25555175 0.83124236], -926121.7255634952\n",
      "[0.25581508 0.82931373], -926067.8471521835\n",
      "[0.2563003  0.82733338], -926060.3944083176\n",
      "[0.25590459 0.82605935], -926013.3301917431\n",
      "[0.25546257 0.82522466], -926013.4574569713\n",
      "[0.25499876 0.82514122], -925975.1783623137\n",
      "[0.25515362 0.82522693], -925973.4441970674\n",
      "[0.25633867 0.8255339 ], -925931.7746831878\n",
      "[0.25784355 0.82610335], -925932.399655312\n",
      "[0.25850221 0.8277427 ], -925892.0803230111\n",
      "[0.25863781 0.82986346], -925890.4283151844\n",
      "[0.25947766 0.83164191], -925853.2792675549\n",
      "[0.26092668 0.83297945], -925854.6358795601\n",
      "[0.26271699 0.83364642], -925818.6711764142\n",
      "[0.26389505 0.83424922], -925816.0674229225\n",
      "[0.26395028 0.83476626], -925772.3176595337\n",
      "[0.26407748 0.83494907], -925766.278092088\n",
      "[0.26418767 0.83449565], -925721.2746766496\n",
      "[0.26441062 0.83359849], -925720.1476371168\n",
      "[0.26429428 0.83263342], -925678.712691347\n",
      "[0.26384315 0.83181528], -925669.1380694038\n",
      "[0.26300885 0.83131532], -925618.2527458542\n",
      "[0.2620218 0.8307808], -925598.1515520443\n",
      "[0.26176043 0.83009878], -925536.1711563657\n",
      "[0.26179597 0.82966387], -925523.240375814\n",
      "[0.26133616 0.8299103 ], -925474.3013240442\n",
      "[0.2608821  0.83037183], -925473.6814041532\n",
      "[0.26013447 0.83118568], -925437.302192579\n",
      "[0.25971511 0.83196439], -925440.2947825493\n",
      "[0.2602059  0.83209929], -925402.4156408822\n",
      "[0.26100853 0.8319124 ], -925401.3090182008\n",
      "[0.26088502 0.83194618], -925358.8571521363\n",
      "[0.26056592 0.832196  ], -925357.6566641849\n",
      "[0.26019467 0.8322377 ], -925322.2292656912\n",
      "[0.26036123 0.83194811], -925331.6245240932\n",
      "[0.26127668 0.8313425 ], -925306.7152382103\n",
      "[0.26207339 0.83093406], -925322.496624702\n",
      "[0.2620725  0.83136117], -925298.4634728628\n",
      "[0.2622801  0.83193205], -925311.4883195485\n",
      "[0.26276928 0.83271615], -925284.5038536462\n",
      "[0.26363003 0.83315592], -925296.5490700179\n",
      "[0.26427217 0.83382011], -925269.0757032831\n",
      "[0.26459424 0.83435576], -925274.4998668511\n",
      "[0.26448996 0.83491996], -925241.7655357278\n",
      "[0.26428831 0.8350175 ], -925258.9248776886\n",
      "[0.26434408 0.8346085 ], -925238.5151466305\n",
      "[0.26441879 0.83388568], -925258.7509446132\n",
      "[0.26436494 0.83303644], -925240.0592363897\n",
      "[0.26419881 0.83238898], -925257.3716002239\n",
      "[0.26400473 0.83180385], -925235.1767021307\n",
      "[0.2641279  0.83122254], -925256.8826827564\n",
      "[0.26466911 0.83077198], -925240.1300249294\n",
      "[0.26549854 0.83081299], -925263.3249375459\n",
      "[0.26622248 0.83133558], -925250.2131611308\n",
      "[0.26690878 0.83198523], -925277.6640012048\n",
      "[0.26768735 0.83279449], -925267.3155980617\n",
      "[0.26865802 0.83363121], -925297.8407817944\n",
      "[0.26955791 0.83443168], -925291.979974073\n",
      "[0.2704421 0.8351738], -925325.5481014962\n",
      "[0.27095238 0.83575493], -925320.0048398973\n",
      "[0.2713352  0.83624295], -925350.8980556116\n",
      "[0.27158434 0.83623712], -925343.7847936153\n",
      "[0.2716011  0.83587722], -925376.7528140295\n",
      "[0.27142449 0.83510522], -925369.6449391521\n",
      "[0.27087569 0.83417335], -925400.2413467339\n",
      "[0.27023416 0.83302173], -925393.0571016101\n",
      "[0.26966133 0.83174805], -925420.669956861\n",
      "[0.26920681 0.83059492], -925410.9430614751\n",
      "[0.26899901 0.82970393], -925439.0470106165\n",
      "[0.26867983 0.8293977 ], -925430.7741163117\n",
      "[0.26872056 0.82946604], -925458.6643829545\n",
      "[0.26915818 0.82982309], -925449.677299373\n",
      "[0.26983552 0.83020675], -925475.944290521\n",
      "[0.27034337 0.8309054 ], -925464.5562813631\n",
      "[0.27053272 0.83198514], -925492.7915497262\n",
      "[0.27072374 0.83294193], -925482.7984004994\n",
      "[0.2715243  0.83344648], -925515.335110436\n",
      "[0.27215001 0.83356672], -925507.155349814\n",
      "[0.27223038 0.83336962], -925529.9774179093\n",
      "[0.27154557 0.83316279], -925510.1628011921\n",
      "[0.27066912 0.8327732 ], -925530.477104924\n",
      "[0.27029372 0.83179119], -925511.7688606314\n",
      "[0.27035237 0.83062236], -925532.2669300142\n",
      "[0.27017356 0.82975092], -925515.2978195788\n",
      "[0.26960405 0.82892505], -925538.3289381373\n",
      "[0.26858101 0.82884544], -925522.9457376351\n",
      "[0.26777389 0.82899192], -925550.6158676604\n",
      "[0.26814343 0.82898804], -925536.1242610476\n",
      "[0.268458   0.82900474], -925564.7685315786\n",
      "[0.26849896 0.82968715], -925554.0864814207\n",
      "[0.26821826 0.83054701], -925584.0827407712\n",
      "[0.26801859 0.83134915], -925575.7200574047\n",
      "[0.26778795 0.83209848], -925604.9544687305\n",
      "[0.26810569 0.83205416], -925594.6451332237\n",
      "[0.26856361 0.83144664], -925619.7719969291\n",
      "[0.26793506 0.83089818], -925602.157646485\n",
      "[0.26675884 0.83038984], -925625.6418615143\n",
      "[0.26599108 0.82943954], -925610.9846093742\n",
      "[0.26603372 0.82801266], -925627.8921814748\n",
      "[0.26625132 0.82678002], -925605.6375338618\n",
      "[0.26610068 0.82609305], -925625.3066309387\n",
      "[0.26514759 0.8265161 ], -925604.7776978229\n",
      "[0.26426792 0.82694668], -925626.0130391835\n",
      "[0.2651804  0.82694995], -925602.0873363502\n",
      "[0.26649275 0.82691489], -925619.6277911921\n",
      "[0.26705039 0.82781735], -925596.3707996691\n",
      "[0.26707585 0.82938827], -925619.5741516473\n",
      "[0.2669177  0.83102388], -925607.6801385508\n",
      "[0.26729388 0.83187331], -925638.0215365894\n",
      "[0.26888634 0.83157216], -925624.1148874179\n",
      "[0.27023887 0.83133127], -925655.7300547389\n",
      "[0.269655   0.83167092], -925637.0213161671\n",
      "[0.26861265 0.83190223], -925664.249965298\n",
      "[0.26815803 0.83127534], -925651.3465342883\n",
      "[0.26835627 0.82987568], -925676.6936515446\n",
      "[0.26912671 0.82804418], -925666.6455589923\n",
      "[0.26915003 0.82660612], -925705.0613575238\n",
      "[0.26758106 0.82652104], -925698.8365266391\n",
      "[0.26607395 0.82705362], -925738.196811556\n",
      "[0.26635856 0.82692727], -925729.6829133617\n",
      "[0.26710926 0.82642825], -925751.1484612578\n",
      "[0.26742711 0.82645301], -925735.141469568\n",
      "[0.26713144 0.8268039 ], -925748.7297025019\n",
      "[0.26583597 0.82766982], -925720.1844989934\n",
      "[0.26472566 0.82803994], -925731.948710268\n",
      "[0.26537658 0.82704414], -925693.5053162744\n",
      "[0.26624775 0.82553035], -925703.0824036725\n",
      "[0.26574769 0.82466062], -925670.6404111232\n",
      "[0.26413366 0.8240891 ], -925676.7318242756\n",
      "[0.2628205  0.82363017], -925650.3884627456\n",
      "[0.26281717 0.82272032], -925656.3103298666\n",
      "[0.26427661 0.82167473], -925623.715815492\n",
      "[0.26527024 0.82142397], -925640.7937159532\n",
      "[0.264768   0.82288195], -925609.2300102232\n",
      "[0.26379969 0.82494997], -925630.1270282591\n",
      "[0.26510045 0.82609911], -925602.2043576266\n",
      "[0.2675621  0.82673063], -925608.6679757108\n",
      "[0.26951958 0.82760353], -925584.2504968438\n",
      "[0.2702     0.82903462], -925590.9770944157\n",
      "[0.26933266 0.8308366 ], -925561.3356713544\n",
      "[0.26883325 0.83174409], -925582.0207473465\n",
      "[0.2702296  0.83067185], -925552.3640653904\n",
      "[0.2713101  0.82939809], -925571.7997911449\n",
      "[0.27096686 0.82840349], -925550.3225618815\n",
      "[0.26990834 0.82756623], -925561.3170753381\n",
      "[0.26855143 0.82684485], -925537.1943611896\n",
      "[0.26758932 0.82575861], -925554.5176165206\n",
      "[0.26801154 0.82430178], -925529.374441765\n",
      "[0.26867796 0.82337313], -925548.7357495122\n",
      "[0.26830978 0.82381766], -925524.7901544449\n",
      "[0.26785504 0.82475783], -925544.5565312845\n",
      "[0.26763994 0.82595419], -925527.5621318569\n",
      "[0.26815745 0.82644347], -925543.0567566432\n",
      "[0.26926638 0.82663154], -925520.0265489483\n",
      "[0.26994566 0.82738877], -925540.6075455274\n",
      "[0.26966335 0.82847154], -925521.2059319741\n",
      "[0.26921789 0.82913739], -925541.8151209824\n",
      "[0.26963607 0.82889923], -925519.6504387116\n",
      "[0.27026038 0.8284516 ], -925538.5216178496\n",
      "[0.27039015 0.82804057], -925516.035911402\n",
      "[0.26996235 0.82812848], -925537.0830881423\n",
      "[0.26958479 0.82809007], -925517.4468940704\n",
      "[0.2696308  0.82780548], -925543.4532084935\n",
      "[0.27042335 0.82713908], -925529.820890848\n",
      "[0.27090257 0.82683245], -925558.0422827047\n",
      "[0.27035688 0.82730251], -925545.7096589778\n",
      "[0.26957952 0.82777886], -925571.6763677876\n",
      "[0.26967042 0.82782059], -925555.9029465789\n",
      "[0.27015604 0.82758293], -925572.3812100998\n",
      "[0.27063201 0.82745808], -925551.4419449328\n",
      "[0.27073453 0.82772588], -925564.9673073053\n",
      "[0.26990527 0.82849368], -925538.7709571444\n",
      "[0.26929981 0.8291054 ], -925549.7167339635\n",
      "[0.26960261 0.82909709], -925519.1904317224\n",
      "[0.27003819 0.82875839], -925522.9532365781\n",
      "[0.26998718 0.8285811 ], -925486.8848772108\n",
      "[0.2694856  0.82858448], -925492.7766921226\n",
      "[0.26903154 0.82851845], -925461.8631957003\n",
      "[0.26883339 0.82814646], -925472.3270455647\n",
      "[0.26887379 0.82767852], -925446.6550766054\n",
      "[0.26884751 0.82747253], -925464.7666596775\n",
      "[0.26843852 0.82757702], -925445.6906672168\n",
      "[0.26834066 0.82795022], -925462.3600494027\n",
      "[0.26848403 0.82816947], -925438.7383716028\n",
      "[0.26863231 0.82791363], -925446.4512495386\n",
      "[0.26858446 0.82765535], -925416.9821069244\n",
      "[0.26822083 0.82705129], -925427.738640542\n",
      "[0.26747964 0.82664326], -925400.0752351453\n",
      "[0.26685454 0.82634733], -925411.8552639894\n",
      "[0.26689263 0.82575569], -925382.5917881454\n",
      "[0.26755884 0.82517793], -925391.7366243094\n",
      "[0.26778587 0.82505249], -925361.3256998927\n",
      "[0.26747664 0.82509445], -925373.1163933537\n",
      "[0.26715296 0.82529775], -925348.170014261\n",
      "[0.26726975 0.82541818], -925364.2682500323\n",
      "[0.26825243 0.82517346], -925342.7378254312\n",
      "[0.26924727 0.82561728], -925355.2391991288\n",
      "[0.26946951 0.82655309], -925326.6220631959\n",
      "[0.26983614 0.82785004], -925343.6701434453\n",
      "[0.2706912  0.82857952], -925320.1875307064\n",
      "[0.27192666 0.82872346], -925338.7957299831\n",
      "[0.2724654  0.82886727], -925318.3324524234\n",
      "[0.27215214 0.82908324], -925329.3811931934\n",
      "[0.27143374 0.82901916], -925299.9768144409\n",
      "[0.27109974 0.82853502], -925306.633389331\n",
      "[0.27130254 0.82735099], -925274.0983289959\n",
      "[0.27091039 0.82633596], -925286.2148381978\n",
      "[0.26980794 0.82565935], -925260.3752572357\n",
      "[0.26871493 0.8252367 ], -925278.8820871064\n",
      "[0.26874401 0.8242764 ], -925255.9548682108\n",
      "[0.26909169 0.82323455], -925271.4550492482\n",
      "[0.26930636 0.82262984], -925248.6394256705\n",
      "[0.26946475 0.82271498], -925260.1304045613\n",
      "[0.26896064 0.82344909], -925233.1925277306\n",
      "[0.26887875 0.82406428], -925243.915897019\n",
      "[0.26942668 0.82421599], -925216.0297137104\n",
      "[0.27009692 0.82437395], -925229.7774985002\n",
      "[0.27021852 0.82451728], -925204.8226475893\n",
      "[0.26974636 0.82471587], -925220.8532031517\n",
      "[0.26933917 0.82448065], -925199.3653037366\n",
      "[0.26898704 0.82399803], -925221.0819225672\n",
      "[0.26962116 0.82267154], -925203.6275064371\n",
      "[0.27045393 0.82128082], -925224.7525137193\n",
      "[0.27022805 0.8207249 ], -925205.5871263462\n",
      "[0.26965234 0.82089293], -925228.0401697189\n",
      "[0.26940126 0.82126112], -925214.7004104026\n",
      "[0.2695316 0.8212956], -925237.4849322195\n",
      "[0.27122814 0.82084667], -925216.1820559945\n",
      "[0.27299826 0.8208296 ], -925239.7035272979\n",
      "[0.27314036 0.82212024], -925219.2136094926\n",
      "[0.27258391 0.82355039], -925245.5336076532\n",
      "[0.27244119 0.82466995], -925236.9837084298\n",
      "[0.27329026 0.82518604], -925273.080439209\n",
      "[0.27499383 0.82491565], -925269.263448922\n",
      "[0.27653191 0.82464407], -925313.3374333577\n",
      "[0.27606826 0.825261  ], -925309.0296955565\n",
      "[0.27507229 0.82613706], -925344.7579059683\n",
      "[0.27481187 0.8262369 ], -925343.9094111213\n",
      "[0.27499277 0.82577064], -925381.229714815\n",
      "[0.27612161 0.82445693], -925381.9752041858\n",
      "[0.2766796  0.82335812], -925428.5666190638\n",
      "[0.2754821 0.8234152], -925428.5956672912\n",
      "[0.27416465 0.82368977], -925471.2894268488\n",
      "[0.27366962 0.8237125 ], -925474.2985895707\n",
      "[0.27386194 0.82349508], -925517.5621174228\n",
      "[0.27497733 0.82308586], -925523.3236942445\n",
      "[0.27557737 0.8233826 ], -925567.7326794243\n",
      "[0.27502925 0.82470418], -925571.3231322964\n",
      "[0.27453482 0.82611271], -925612.5048252187\n",
      "[0.27469488 0.82701425], -925613.3723079829\n",
      "[0.27526784 0.82710576], -925658.3896052312\n",
      "[0.27572769 0.82685951], -925663.4849461525\n",
      "[0.27560462 0.82702624], -925705.0711839726\n",
      "[0.27471025 0.82730492], -925705.9025429479\n",
      "[0.27416096 0.8272945 ], -925744.8556090966\n",
      "[0.27431514 0.82658625], -925744.5320337286\n",
      "[0.27428497 0.82586418], -925787.8211315733\n",
      "[0.27398374 0.82520083], -925794.6513268647\n",
      "[0.27338796 0.8248422 ], -925844.2422577722\n",
      "[0.27280182 0.82467745], -925855.2184669395\n",
      "[0.27278853 0.82462756], -925900.0895618267\n",
      "[0.27285333 0.82483068], -925905.8528295815\n",
      "[0.27272374 0.82523951], -925947.1136999741\n",
      "[0.27254615 0.82582685], -925949.2239019498\n",
      "[0.27220184 0.82625088], -925985.4153357266\n",
      "[0.27228935 0.82636643], -925982.8178507416\n",
      "[0.27238031 0.82623979], -926013.2702991118\n",
      "[0.27227313 0.82613515], -926002.5911038112\n",
      "[0.27182406 0.82627269], -926024.2390628348\n",
      "[0.27136119 0.82641997], -926004.0511456727\n",
      "[0.27119667 0.82669447], -926017.5261079919\n",
      "[0.27171714 0.82656286], -925989.9598542495\n",
      "[0.27219413 0.82649511], -926000.7322978005\n",
      "[0.27212745 0.82674796], -925971.4297831154\n",
      "[0.27204285 0.82733605], -925979.3795760348\n",
      "[0.27188545 0.82795434], -925948.1322755242\n",
      "[0.27218548 0.82831149], -925945.4873174344\n",
      "[0.27282215 0.82828678], -925904.5101945105\n",
      "[0.27309325 0.82844296], -925909.0693261761\n",
      "[0.27250544 0.82871437], -925872.3422063264\n",
      "[0.27194234 0.8286651 ], -925880.6727234633\n",
      "[0.27179568 0.82801745], -925848.8957898569\n",
      "[0.27215231 0.82722638], -925856.3612791696\n",
      "[0.27217482 0.82657161], -925824.1711873333\n",
      "[0.27215272 0.82611307], -925832.9247419144\n",
      "[0.27137637 0.82626   ], -925799.743757413\n",
      "[0.27079914 0.82646101], -925805.546264795\n",
      "[0.27119982 0.8262438 ], -925769.2663012374\n",
      "[0.27203631 0.82580758], -925780.1330149393\n",
      "[0.27221319 0.8259931 ], -925751.0787761296\n",
      "[0.27221593 0.82674548], -925759.328672002\n",
      "[0.27184315 0.82769947], -925729.398487992\n",
      "[0.27185216 0.82810933], -925745.3789323842\n",
      "[0.27240413 0.82798106], -925720.0341544967\n",
      "[0.27292785 0.82764864], -925729.4866108489\n",
      "[0.27281339 0.82749799], -925699.2518121708\n",
      "[0.2724096  0.82721939], -925713.1791039564\n",
      "[0.27200417 0.82688616], -925686.5095631467\n",
      "[0.27174676 0.82679606], -925705.3730703125\n",
      "[0.27206877 0.82633866], -925684.4425034005\n",
      "[0.27243999 0.82598847], -925703.7794212388\n",
      "[0.27210694 0.8260018 ], -925681.8158681904\n",
      "[0.27153279 0.82589717], -925698.5343909928\n",
      "[0.27093957 0.82570338], -925676.9574023326\n",
      "[0.27056238 0.8253293 ], -925699.8331955038\n",
      "[0.27056456 0.82474623], -925682.7155666546\n",
      "[0.27075022 0.82415017], -925706.7505693492\n",
      "[0.27000116 0.82423202], -925689.5089977653\n",
      "[0.26960808 0.82477559], -925719.9822295533\n",
      "[0.2693737  0.82518345], -925712.5958106208\n",
      "[0.26965579 0.82509659], -925745.3317250275\n",
      "[0.2699819  0.82487255], -925737.5930511142\n",
      "[0.27013867 0.82491756], -925769.1254485976\n",
      "[0.26955488 0.82543077], -925757.8589681752\n",
      "[0.26880545 0.82575234], -925784.056952167\n",
      "[0.26906275 0.82555947], -925767.720150334\n",
      "[0.26959798 0.82570395], -925789.6876188428\n",
      "[0.2700632  0.82585743], -925771.9762558318\n",
      "[0.27047345 0.8262534 ], -925801.9752550273\n",
      "[0.26996359 0.8271838 ], -925787.3335759438\n",
      "[0.26933173 0.82809193], -925817.5216190756\n",
      "[0.26975317 0.82822151], -925802.4379526427\n",
      "[0.270842   0.82782034], -925827.9564250559\n",
      "[0.27138666 0.82770915], -925814.7092411693\n",
      "[0.27091763 0.82803577], -925842.8081608145\n",
      "[0.26996542 0.82858537], -925832.217473848\n",
      "[0.26932743 0.82870609], -925868.595386135\n",
      "[0.27014239 0.8279674 ], -925859.0967953351\n",
      "[0.27096611 0.82741183], -925895.2406458838\n",
      "[0.27043819 0.82763013], -925887.9685995957\n",
      "[0.26929421 0.8285379 ], -925923.3752273043\n",
      "[0.26870305 0.82901503], -925919.1172779498\n",
      "[0.26895671 0.82867906], -925954.1396589595\n",
      "[0.26972573 0.82790016], -925947.049777911\n",
      "[0.26943142 0.82755509], -925982.1041125857\n",
      "[0.26831938 0.82768185], -925972.8645612516\n",
      "[0.2673782  0.82755006], -926009.8555083553\n",
      "[0.26783574 0.82683859], -926001.0585524676\n",
      "[0.2684245  0.82622808], -926032.6586886984\n",
      "[0.26839376 0.82638744], -926023.7935489152\n",
      "[0.26802281 0.82698935], -926054.6056086394\n",
      "[0.26776895 0.82783895], -926046.779151487\n",
      "[0.26794087 0.82884339], -926076.2515795733\n",
      "[0.26929641 0.82920521], -926061.4399455106\n",
      "[0.27040798 0.82965365], -926082.8347509557\n",
      "[0.27026168 0.83064584], -926059.0905449964\n",
      "[0.26995753 0.83179056], -926078.2328472495\n",
      "[0.26989781 0.83221391], -926056.376575034\n",
      "[0.27021745 0.83229027], -926076.9047435127\n",
      "[0.27094753 0.83152261], -926056.7585744312\n",
      "[0.27094884 0.8309136 ], -926083.1118037096\n",
      "[0.2700274  0.83058783], -926067.4724859727\n",
      "[0.26903254 0.82995091], -926094.8273425121\n",
      "[0.26852219 0.82910965], -926081.2957579107\n",
      "[0.26826148 0.82842804], -926111.1670824155\n",
      "[0.26813939 0.82803828], -926099.3650075577\n",
      "[0.26817397 0.8282861 ], -926131.0560841443\n",
      "[0.26791705 0.82911855], -926122.4310719133\n",
      "[0.26793588 0.83022057], -926155.0737273956\n",
      "[0.26863538 0.83098515], -926144.7998667741\n",
      "[0.26933184 0.83222759], -926169.013264679\n",
      "[0.2703235  0.83305261], -926152.4020875421\n",
      "[0.2712476  0.83387791], -926166.2139954307\n",
      "[0.27164055 0.83448145], -926137.026296366\n",
      "[0.27148631 0.83461558], -926145.8719242762\n",
      "[0.27120325 0.83429869], -926111.6555059974\n",
      "[0.27105171 0.83410144], -926114.1681238917\n",
      "[0.27115126 0.83346071], -926073.9680171701\n",
      "[0.2713696  0.83299482], -926078.4308126655\n",
      "[0.27084126 0.83301438], -926038.8595907228\n",
      "[0.27024696 0.83344705], -926046.627054477\n",
      "[0.26991902 0.83378869], -926011.6517688369\n",
      "[0.26969485 0.83407237], -926026.7758540742\n",
      "[0.26995543 0.83410844], -926000.5194474721\n",
      "[0.27012232 0.83416892], -926019.3531359519\n",
      "[0.26950226 0.83460435], -925997.7028052502\n",
      "[0.269114   0.83531273], -926014.6688034554\n",
      "[0.26877516 0.83573928], -925990.5275263165\n",
      "[0.26856012 0.83603803], -926004.9746937585\n",
      "[0.26874309 0.83570107], -925976.2031483069\n",
      "[0.26891583 0.83506478], -925988.3569273211\n",
      "[0.2685973  0.83447142], -925960.7908300986\n",
      "[0.26803372 0.83398285], -925966.2722214821\n",
      "[0.267302   0.83359044], -925931.0210817636\n",
      "[0.26706315 0.83309177], -925939.25315335\n",
      "[0.26762472 0.83242608], -925906.4906551706\n",
      "[0.26799556 0.83225751], -925911.131722397\n",
      "[0.26791764 0.83269563], -925874.5367207995\n",
      "[0.26777766 0.83322411], -925874.3357176539\n",
      "[0.26774169 0.83377017], -925835.3886685618\n",
      "[0.26807085 0.83415701], -925850.1183958835\n",
      "[0.26835035 0.83437091], -925823.4426443657\n",
      "[0.26794987 0.83483095], -925839.5838040119\n",
      "[0.26760212 0.83481167], -925810.6012370748\n",
      "[0.26758637 0.83402487], -925827.3581985647\n",
      "[0.26728723 0.83300259], -925802.4202052758\n",
      "[0.26675585 0.83237484], -925815.2691396028\n",
      "[0.26610387 0.83164027], -925788.252189613\n",
      "[0.2657131  0.83083107], -925806.2581205681\n",
      "[0.26536438 0.83019311], -925782.8646796355\n",
      "[0.26498894 0.82977733], -925804.1039855299\n",
      "[0.26503745 0.82947827], -925782.6316201282\n",
      "[0.2652428 0.8293802], -925805.322414834\n",
      "[0.26521528 0.82975573], -925785.4431174742\n",
      "[0.26535963 0.83062673], -925808.4149971872\n",
      "[0.2654892  0.83149776], -925787.8208163177\n",
      "[0.26571989 0.83233731], -925811.8913844664\n",
      "[0.26594111 0.83277376], -925791.795606909\n",
      "[0.26597507 0.83328836], -925810.0694255736\n",
      "[0.26588644 0.8331857 ], -925784.9777318214\n",
      "[0.26574529 0.83235438], -925797.6549841417\n",
      "[0.26519368 0.83134609], -925770.3329766996\n",
      "[0.26451836 0.83059233], -925787.1719581923\n",
      "[0.26421698 0.82981996], -925763.4492820849\n",
      "[0.26399367 0.829121  ], -925777.103829106\n",
      "[0.26427535 0.82878138], -925747.3236638724\n",
      "[0.26422757 0.82881846], -925759.039205411\n",
      "[0.26419005 0.82956757], -925730.5821710454\n",
      "[0.26441139 0.83059626], -925739.0865569109\n",
      "[0.26494038 0.83177078], -925708.9948042984\n",
      "[0.26578369 0.83259497], -925726.3488239157\n",
      "[0.26595587 0.83356954], -925702.1023848176\n",
      "[0.26585499 0.83392929], -925710.2674858753\n",
      "[0.26540697 0.83391087], -925673.9082213131\n",
      "[0.26501356 0.83364904], -925680.3907966878\n",
      "[0.26510302 0.83270294], -925644.0856397644\n",
      "[0.26521215 0.83158068], -925658.7250423254\n",
      "[0.26483564 0.83073464], -925632.7858836133\n",
      "[0.26400461 0.83050127], -925653.0107486005\n",
      "[0.26377968 0.83009651], -925633.2870186628\n",
      "[0.26411819 0.82962035], -925650.8630611809\n",
      "[0.2647941  0.82930437], -925627.1483320121\n",
      "[0.2648522  0.82906924], -925644.2504451114\n",
      "[0.26431732 0.82954819], -925618.7027077619\n",
      "[0.26396237 0.8302413 ], -925635.9149135802\n",
      "[0.26490329 0.83033048], -925608.3228884285\n",
      "[0.26548564 0.83049872], -925618.0341462751\n",
      "[0.26571367 0.83078488], -925586.4196283538\n",
      "[0.26588044 0.83104041], -925596.7104066963\n",
      "[0.2656803  0.83121451], -925564.1034675352\n",
      "[0.26576243 0.83112033], -925576.4478187007\n",
      "[0.26595616 0.83054444], -925544.3090235617\n",
      "[0.26626009 0.82988374], -925557.7665592714\n",
      "[0.26580009 0.82944201], -925527.6467640065\n",
      "[0.26524691 0.82921448], -925535.9300571615\n",
      "[0.26519595 0.82864562], -925503.5773539835\n",
      "[0.26538139 0.82810037], -925520.6601001105\n",
      "[0.26537002 0.82784442], -925497.1972154736\n",
      "[0.26488758 0.82822924], -925519.2420780874\n",
      "[0.26448032 0.82869652], -925499.8315137209\n",
      "[0.26440574 0.82907435], -925514.590649843\n",
      "[0.26476298 0.8291314 ], -925488.5160888474\n",
      "[0.26474366 0.82887261], -925509.6118692536\n",
      "[0.26412192 0.82880936], -925489.1022039896\n",
      "[0.26333641 0.82868101], -925519.0001937188\n",
      "[0.26291026 0.82814002], -925505.1352215074\n",
      "[0.262831   0.82748023], -925532.8955019884\n",
      "[0.26259119 0.82679876], -925520.1189370604\n",
      "[0.26222068 0.82668896], -925548.1766153773\n",
      "[0.26186597 0.82674078], -925536.8758981891\n",
      "[0.26180677 0.82645496], -925564.0034260541\n",
      "[0.26217325 0.8261385 ], -925550.2992545334\n",
      "[0.26216348 0.82607397], -925573.7656139899\n",
      "[0.26172258 0.82649038], -925554.3934752499\n",
      "[0.26118531 0.82674599], -925573.2546278395\n",
      "[0.2613067  0.82673802], -925549.8852819677\n",
      "[0.26149394 0.82677758], -925575.3466897382\n",
      "[0.26129085 0.82702306], -925558.791819365\n",
      "[0.26107555 0.82708742], -925585.3620255209\n",
      "[0.26041235 0.82724871], -925567.3245286996\n",
      "[0.26001784 0.82707229], -925594.2481698376\n",
      "[0.26015364 0.82651957], -925576.949446165\n",
      "[0.26011412 0.82598514], -925604.6339468274\n",
      "[0.25989261 0.82584952], -925589.9843753283\n",
      "[0.25935191 0.82609949], -925625.6316047709\n",
      "[0.25943341 0.82638275], -925617.8756913552\n",
      "[0.25993081 0.82705394], -925648.8249490589\n",
      "[0.26064848 0.82789848], -925636.9786361642\n",
      "[0.26103206 0.82862323], -925671.3016123276\n",
      "[0.26075125 0.82962682], -925665.7010494607\n",
      "[0.26096515 0.83008791], -925703.6155654356\n",
      "[0.26137419 0.83007619], -925699.2966281258\n",
      "[0.26150905 0.82997491], -925742.6673707962\n",
      "[0.26125562 0.82977241], -925740.3651167273\n",
      "[0.26104866 0.8295573 ], -925781.0416165665\n",
      "[0.26065867 0.82928509], -925777.0076023256\n",
      "[0.26018325 0.8290883 ], -925819.4507211994\n",
      "[0.26010652 0.82864056], -925819.7737963878\n",
      "[0.26017812 0.8284664 ], -925870.6615934054\n",
      "[0.2599602  0.82853916], -925879.6149446858\n",
      "[0.25957301 0.82868482], -925925.385983082\n",
      "[0.25941098 0.82874454], -925929.9164178764\n",
      "[0.25921472 0.8284479 ], -925975.4507594147\n",
      "[0.25921228 0.82815551], -925978.8508462233\n",
      "[0.25904151 0.82789336], -926026.4899654809\n",
      "[0.25859936 0.82801601], -926031.5674698452\n",
      "[0.25840197 0.82822311], -926074.6420597216\n",
      "[0.25844794 0.82838107], -926073.8415165506\n",
      "[0.25869681 0.82859644], -926112.5001623782\n",
      "[0.2585612  0.82898475], -926105.1567140681\n",
      "[0.25865022 0.82908459], -926137.91935649\n",
      "[0.25843534 0.82920105], -926122.5130519508\n",
      "[0.25813801 0.8293727 ], -926142.9018680787\n",
      "[0.25830928 0.82907188], -926116.1213852147\n",
      "[0.25905465 0.82872672], -926144.2156512272\n",
      "[0.25895708 0.82864163], -926128.7115412401\n",
      "[0.2582308  0.82873193], -926157.3013731595\n",
      "[0.25775458 0.82854273], -926144.3979347046\n",
      "[0.25776093 0.828427  ], -926174.8332076507\n",
      "[0.25874224 0.82782317], -926163.4826701737\n",
      "[0.25937419 0.82736399], -926194.099380902\n",
      "[0.25876386 0.82783047], -926178.783511325\n",
      "[0.25800116 0.82817461], -926213.6080894012\n",
      "[0.25849901 0.82801757], -926200.7062286687\n",
      "[0.2594893  0.82767151], -926236.588073785\n",
      "[0.25984585 0.82794558], -926228.8534481497\n",
      "[0.25957971 0.82876239], -926254.8249959337\n",
      "[0.25926651 0.82974317], -926238.0260155844\n",
      "[0.25947198 0.83064424], -926260.0580931078\n",
      "[0.26056553 0.83086184], -926238.3252953786\n",
      "[0.26136088 0.83088744], -926264.777421741\n",
      "[0.26048067 0.83140163], -926243.1239983282\n",
      "[0.25925342 0.83167175], -926271.89113682\n",
      "[0.25889844 0.83087903], -926253.8143830434\n",
      "[0.25897921 0.82958124], -926284.0349969331\n",
      "[0.25895806 0.82817779], -926273.5444653676\n",
      "[0.25813719 0.82712469], -926301.0416109702\n",
      "[0.25663301 0.82692652], -926286.9192798454\n",
      "[0.25583086 0.82673383], -926317.6493130686\n",
      "[0.25686376 0.82628118], -926300.1567450648\n",
      "[0.25782296 0.82635299], -926332.21789589\n",
      "[0.25789797 0.82761033], -926317.2997770146\n",
      "[0.25768348 0.82963726], -926337.0335408702\n",
      "[0.25838156 0.83123985], -926312.1484634039\n",
      "[0.25976227 0.8323979 ], -926320.879341007\n",
      "[0.26097063 0.83308154], -926289.2759687495\n",
      "[0.26135435 0.83383446], -926302.0234355397\n",
      "[0.26037264 0.83435967], -926267.5750616431\n",
      "[0.25973981 0.8341546 ], -926271.1038146202\n",
      "[0.25981837 0.83267208], -926225.0245317316\n",
      "[0.26025584 0.8307907 ], -926221.9837245714\n",
      "[0.25938127 0.82937407], -926171.8739728843\n",
      "[0.25820601 0.82857504], -926164.6904664832\n",
      "[0.25753629 0.82785235], -926115.7034925425\n",
      "[0.25771372 0.82726785], -926102.3713881591\n",
      "[0.2586971  0.82683759], -926045.9043910981\n",
      "[0.2592089  0.82715218], -926035.4411396233\n",
      "[0.25897979 0.82835926], -925983.5992265942\n",
      "[0.25916832 0.82932968], -925976.185684811\n",
      "[0.26054545 0.82970313], -925925.7297218816\n",
      "[0.26178962 0.83001266], -925922.1727633633\n",
      "[0.26212424 0.83062574], -925874.9861479793\n",
      "[0.26166227 0.83108788], -925872.1566409523\n",
      "[0.26160148 0.83096485], -925825.8070527253\n",
      "[0.26186641 0.8304684 ], -925824.6955617034\n",
      "[0.26217801 0.82970951], -925780.4407068724\n",
      "[0.26200882 0.82877263], -925784.8758357383\n",
      "[0.26103651 0.82845734], -925742.749289297\n",
      "[0.26022466 0.82857702], -925759.232966069\n",
      "[0.26044628 0.82839146], -925731.1843019046\n",
      "[0.26046958 0.82844507], -925742.2731124988\n",
      "[0.26052894 0.82865416], -925710.7061923556\n",
      "[0.26046476 0.82873955], -925725.0296845492\n",
      "[0.25997711 0.82911266], -925694.58997574\n",
      "[0.25927857 0.82931769], -925701.5803758272\n",
      "[0.25930746 0.82905601], -925662.8923865256\n",
      "[0.25967448 0.82876597], -925669.8425377338\n",
      "[0.25982291 0.82863167], -925634.4365158192\n",
      "[0.25997654 0.82866376], -925637.8724208848\n",
      "[0.25993306 0.82898568], -925600.9118361416\n",
      "[0.26013808 0.82952215], -925614.7639763949\n",
      "[0.26137642 0.82969904], -925586.357398044\n",
      "[0.26231336 0.83021369], -925604.3369449764\n",
      "[0.26277667 0.83102682], -925580.7400033156\n",
      "[0.26288479 0.83171819], -925598.7975551989\n",
      "[0.26285066 0.83222618], -925574.7338630848\n",
      "[0.26297462 0.83251764], -925588.7866116867\n",
      "[0.26313221 0.83226426], -925559.151136926\n",
      "[0.26289362 0.83162266], -925568.4052601196\n",
      "[0.2619915  0.83081931], -925534.2516315485\n",
      "[0.2611791  0.83001396], -925545.0953723175\n",
      "[0.26027914 0.82904178], -925516.4288551008\n",
      "[0.25946993 0.82870401], -925530.0400395837\n",
      "[0.25919678 0.82817116], -925504.7770087054\n",
      "[0.25913735 0.82755474], -925523.543378852\n",
      "[0.25861759 0.82751571], -925502.6775946108\n",
      "[0.25798661 0.8276932 ], -925520.4499695003\n",
      "[0.25776375 0.82802318], -925496.2229648092\n",
      "[0.25783936 0.82842868], -925519.4711580272\n",
      "[0.25825442 0.82887025], -925502.5104427275\n",
      "[0.25877525 0.82953121], -925530.7541420761\n",
      "[0.25865583 0.83057732], -925514.6586480608\n",
      "[0.25860188 0.83137931], -925549.1031834224\n",
      "[0.25866005 0.83185516], -925539.6113494221\n",
      "[0.2586379  0.83236957], -925563.390190851\n",
      "[0.25873161 0.83239327], -925542.8560449824\n",
      "[0.2587741  0.83214352], -925568.7208953494\n",
      "[0.25798103 0.83198481], -925549.3632704561\n",
      "[0.25707612 0.83164847], -925572.4421186557\n",
      "[0.25608921 0.831047  ], -925553.5271312848\n",
      "[0.25563477 0.8304744 ], -925583.5921931661\n",
      "[0.25515227 0.82984746], -925573.7696090748\n",
      "[0.2546289 0.8293708], -925603.9925844034\n",
      "[0.25418352 0.8289291 ], -925592.597991326\n",
      "[0.25346214 0.8285229 ], -925613.0903835169\n",
      "[0.25298676 0.8283365 ], -925589.4885410669\n",
      "[0.25299893 0.82819909], -925609.3764045094\n",
      "[0.25304726 0.82837318], -925586.5985924591\n",
      "[0.25313126 0.8289201 ], -925614.024982547\n",
      "[0.25300853 0.8296333 ], -925598.2361164789\n",
      "[0.25316051 0.8303823 ], -925621.0657488938\n",
      "[0.25341595 0.83072839], -925600.7637847723\n",
      "[0.25338729 0.83108217], -925622.3510903837\n",
      "[0.25304143 0.83106007], -925601.6592154982\n",
      "[0.25298649 0.83049154], -925618.0187206237\n",
      "[0.25250788 0.82969919], -925592.8639834303\n",
      "[0.25204954 0.82888924], -925617.6684784719\n",
      "[0.25150025 0.82797496], -925605.5473751095\n",
      "[0.25125809 0.82700206], -925635.9053936409\n",
      "[0.25148688 0.82610726], -925628.3437550357\n",
      "[0.25191436 0.82573495], -925668.9102542672\n",
      "[0.25197239 0.82614025], -925671.6348031289\n",
      "[0.25189247 0.82641551], -925718.8634363041\n",
      "[0.25250206 0.82675857], -925725.363795584\n",
      "[0.25293956 0.82713522], -925764.3521688429\n",
      "[0.25344025 0.82769495], -925758.1561274419\n",
      "[0.25353855 0.82853901], -925790.3249223867\n",
      "[0.2536739  0.82919256], -925778.9254410311\n",
      "[0.25379431 0.82966834], -925807.3301081391\n",
      "[0.25436728 0.82947009], -925793.7261418203\n",
      "[0.25445607 0.82934173], -925828.1335699896\n",
      "[0.25433724 0.82892507], -925819.6992203221\n",
      "[0.25424619 0.82862196], -925859.5250051357\n",
      "[0.25443042 0.82812395], -925856.6117544452\n",
      "[0.2546026  0.82744804], -925895.729929396\n",
      "[0.25476693 0.82702942], -925892.3445931491\n",
      "[0.25479722 0.82689847], -925935.6560382602\n",
      "[0.25501193 0.82707119], -925934.888069928\n",
      "[0.25559028 0.82714103], -925975.7267472442\n",
      "[0.2562869  0.82745538], -925972.7353934444\n",
      "[0.25703483 0.82781042], -926003.8078098354\n",
      "[0.25751114 0.82850062], -925991.074628765\n",
      "[0.25818922 0.82911027], -926016.8838187276\n",
      "[0.25918002 0.82960147], -925997.3158680742\n",
      "[0.25998955 0.82985529], -926019.3054957462\n",
      "[0.26072429 0.83013731], -925995.841907167\n",
      "[0.26121069 0.83027545], -926006.1155883662\n",
      "[0.26138327 0.83056902], -925972.2440307027\n",
      "[0.26156846 0.83088842], -925983.7547264732\n",
      "[0.26201897 0.83106559], -925950.7130213381\n",
      "[0.26243069 0.83115946], -925960.7964291959\n",
      "[0.2626373  0.83129964], -925929.318132507\n",
      "[0.26283401 0.83150748], -925944.0773298747\n",
      "[0.26249847 0.83185069], -925916.5781806739\n",
      "[0.26228593 0.83197418], -925947.6804761852\n",
      "[0.26207456 0.83176668], -925937.295408973\n",
      "[0.26197241 0.83141616], -925968.3324730615\n",
      "[0.26167473 0.83087859], -925955.9169297471\n",
      "[0.26134675 0.83030527], -925986.2021327313\n",
      "[0.26124009 0.8295336 ], -925972.8604818068\n",
      "[0.26076118 0.82886165], -926004.8939295943\n",
      "[0.260903   0.82822477], -925991.4425512702\n",
      "[0.26106618 0.82780606], -926015.5838901955\n",
      "[0.26123629 0.82799208], -925993.0963020137\n",
      "[0.2609986  0.82875806], -926009.1015354259\n",
      "[0.26140874 0.82963912], -925978.3927983453\n",
      "[0.26188948 0.83042034], -925993.1214106202\n",
      "[0.26243702 0.83120991], -925964.0819720207\n",
      "[0.26303227 0.83187345], -925979.4239016728\n",
      "[0.26294177 0.83249341], -925945.2761077703\n",
      "[0.26279047 0.83305204], -925952.929834284\n",
      "[0.26297736 0.83266095], -925911.8271908736\n",
      "[0.26318732 0.83197584], -925909.8097499142\n",
      "[0.26301284 0.8309735 ], -925864.1916949616\n",
      "[0.2628418  0.82971827], -925874.4174659291\n",
      "[0.26234791 0.82878338], -925842.1018086637\n",
      "[0.26197512 0.82788847], -925858.6691879702\n",
      "[0.26237704 0.82715475], -925828.5077550065\n",
      "[0.26264889 0.82700255], -925842.812060774\n",
      "[0.26332894 0.82744685], -925809.3970999572\n",
      "[0.26395406 0.82835743], -925824.8979111349\n",
      "[0.26444517 0.82978743], -925797.3514504491\n",
      "[0.26485697 0.83113082], -925820.2801503692\n",
      "[0.2654233  0.83199717], -925804.0638008058\n",
      "[0.26556645 0.83257449], -925835.9879927282\n",
      "[0.26545275 0.83248226], -925822.6774992337\n",
      "[0.26533579 0.83196932], -925856.469598093\n",
      "[0.26451815 0.83102289], -925843.553864363\n",
      "[0.26366888 0.83011983], -925879.7084541259\n",
      "[0.26292244 0.82868077], -925869.3305949824\n",
      "[0.26213542 0.82694695], -925900.950240067\n",
      "[0.26114716 0.82555362], -925887.7361109677\n",
      "[0.26023601 0.82432091], -925923.332142864\n",
      "[0.25953651 0.82367152], -925910.581300019\n",
      "[0.25894475 0.82334441], -925935.0118413282\n",
      "[0.25882296 0.82351382], -925909.4594302443\n",
      "[0.25851469 0.8237003 ], -925934.9712887451\n",
      "[0.25826104 0.8243369 ], -925911.5835879158\n",
      "[0.25834798 0.82492355], -925935.0302960558\n",
      "[0.25843776 0.82558367], -925910.5095300026\n",
      "[0.25845834 0.82639636], -925937.133939985\n",
      "[0.25874438 0.82679978], -925918.33383012\n",
      "[0.25931092 0.82699806], -925941.8387121123\n",
      "[0.25978609 0.82690511], -925922.0799308874\n",
      "[0.26038052 0.82634259], -925950.7955688811\n",
      "[0.26004865 0.82629081], -925930.2218732805\n",
      "[0.2601842  0.82630041], -925955.7335742944\n",
      "[0.2608474 0.8263037], -925931.6467910161\n",
      "[0.26136916 0.82611514], -925959.0704488883\n",
      "[0.26171726 0.82648628], -925941.2752683628\n",
      "[0.26197071 0.82688963], -925976.9526796975\n",
      "[0.26214874 0.82759295], -925970.4410544013\n",
      "[0.26230825 0.82808025], -926002.5462532481\n",
      "[0.26266129 0.82831728], -925989.8308900531\n",
      "[0.26259828 0.82826331], -926020.0170908697\n",
      "[0.26240037 0.82806474], -925999.383476564\n",
      "[0.26222843 0.82793872], -926027.3881966675\n",
      "[0.26255882 0.82728466], -926006.7525333699\n",
      "[0.26274894 0.82705297], -926019.6502510434\n",
      "[0.2627577  0.82687716], -925983.5873211506\n",
      "[0.26311493 0.82662261], -925991.9522279933\n",
      "[0.26333349 0.82654121], -925952.5807849473\n",
      "[0.26354755 0.82667091], -925964.1295513975\n",
      "[0.26388313 0.82690661], -925930.2776164697\n",
      "[0.26475066 0.82733207], -925939.3667868404\n",
      "[0.26536198 0.82801686], -925903.497160082\n",
      "[0.26550621 0.82866372], -925913.0780272477\n",
      "[0.26527705 0.82943403], -925875.2448317925\n",
      "[0.26541972 0.83011831], -925891.7516096485\n",
      "[0.26603309 0.83024515], -925861.6699992219\n",
      "[0.26619855 0.83020342], -925883.9668148974\n",
      "[0.26530551 0.83042488], -925859.2031156623\n",
      "[0.26424004 0.83078857], -925868.5912045792\n",
      "[0.26408668 0.83029951], -925828.3322465302\n",
      "[0.26430987 0.82956188], -925839.28027448\n",
      "[0.26363989 0.8291399 ], -925802.0361612153\n",
      "[0.26318901 0.82877778], -925810.2936158769\n",
      "[0.2622875  0.82876822], -925772.6628186862\n",
      "[0.26163663 0.82862398], -925776.681424123\n",
      "[0.26189291 0.82814911], -925739.4535986036\n",
      "[0.26207386 0.82777789], -925758.852157423\n",
      "[0.26188705 0.82788333], -925733.8350625397\n",
      "[0.2616303  0.82810946], -925750.3566131508\n",
      "[0.26201637 0.82808136], -925719.5727458961\n",
      "[0.26238172 0.82769862], -925745.5055723281\n",
      "[0.26221529 0.82764811], -925726.4390931765\n",
      "[0.26171423 0.8278491 ], -925751.4472615854\n",
      "[0.2615643  0.82787571], -925730.0707285531\n",
      "[0.26169511 0.82765209], -925753.4895097386\n",
      "[0.26217533 0.8272741 ], -925731.0556650959\n",
      "[0.26243807 0.82761131], -925759.1106470398\n",
      "[0.26222826 0.82816248], -925740.8560111419\n",
      "[0.26225782 0.82832912], -925760.7207024149\n",
      "[0.26290459 0.82800402], -925733.3267981117\n",
      "[0.26336655 0.82743443], -925755.5245079242\n",
      "[0.26335358 0.82721378], -925730.8883988573\n",
      "[0.26294372 0.82729628], -925750.7465676382\n",
      "[0.26292641 0.82737691], -925726.4558787994\n",
      "[0.26300546 0.82735083], -925754.079139818\n",
      "[0.26337755 0.82731641], -925737.084061436\n",
      "[0.2633297  0.82732086], -925763.1897647196\n",
      "[0.26306886 0.82748859], -925746.4317024132\n",
      "[0.26318558 0.8275622 ], -925779.0884481734\n",
      "[0.26329856 0.82749171], -925768.762875238\n",
      "[0.26336114 0.82734186], -925800.6540642872\n",
      "[0.26309434 0.82717461], -925787.1837703469\n",
      "[0.26257533 0.82714504], -925817.8364261427\n",
      "[0.2627325  0.82666703], -925802.2483427358\n",
      "[0.26313211 0.82629669], -925836.6955245173\n",
      "[0.26338633 0.82603214], -925823.9099485674\n",
      "[0.26353234 0.82590135], -925851.6170136379\n",
      "[0.26359195 0.82599841], -925833.7351153604\n",
      "[0.26356294 0.82562701], -925864.8356681041\n",
      "[0.26410957 0.82532004], -925851.2425950436\n",
      "[0.26475928 0.82505873], -925883.9852263544\n",
      "[0.2655406  0.82532556], -925869.8972123227\n",
      "[0.26639046 0.82596553], -925903.087694262\n",
      "[0.26714929 0.82707355], -925889.8163886874\n",
      "[0.26807757 0.82828614], -925921.6712272814\n",
      "[0.26923709 0.8293194 ], -925906.2853868877\n",
      "[0.27014586 0.83030909], -925934.0533638396\n",
      "[0.2709354  0.83095682], -925916.5818446535\n",
      "[0.27155957 0.8312683 ], -925954.6083928372\n",
      "[0.27170907 0.83139195], -925946.8357711423\n",
      "[0.27186869 0.83117844], -925988.2403320103\n",
      "[0.27162404 0.83090674], -925984.7862173661\n",
      "[0.27142457 0.83046879], -926028.9376058328\n",
      "[0.27119395 0.83008108], -926027.7033093421\n",
      "[0.27131666 0.82996098], -926073.2067931641\n",
      "[0.27130917 0.8300685 ], -926070.8764261841\n",
      "[0.27111521 0.83038867], -926110.7490715196\n",
      "[0.27071977 0.83090234], -926103.6528581303\n",
      "[0.27118541 0.83143589], -926144.3073769487\n",
      "[0.27125413 0.83198696], -926137.4400907829\n",
      "[0.27094042 0.83247174], -926175.0723589261\n",
      "[0.27029723 0.83256323], -926165.4471829353\n",
      "[0.26965745 0.83213777], -926201.8779566726\n",
      "[0.26912483 0.83111303], -926191.0018549019\n",
      "[0.26845614 0.82998959], -926220.8811688625\n",
      "[0.26733676 0.82896789], -926201.4405101729\n",
      "[0.26635645 0.82808751], -926220.057899507\n",
      "[0.26608756 0.82715575], -926189.2605088665\n",
      "[0.26595753 0.82664928], -926204.8995940052\n",
      "[0.266021   0.82665635], -926174.4102185484\n",
      "[0.26618143 0.82704424], -926199.2449000722\n",
      "[0.26626485 0.82802638], -926178.0650706264\n",
      "[0.26664086 0.82902458], -926189.6346256747\n",
      "[0.26715664 0.83006007], -926154.957108713\n",
      "[0.26760607 0.83141326], -926167.0812772409\n",
      "[0.26842456 0.83225626], -926130.207727843\n",
      "[0.26895739 0.83231058], -926142.566622701\n",
      "[0.26914904 0.832057  ], -926106.769927319\n",
      "[0.26870009 0.83182592], -926114.7848931312\n",
      "[0.26819312 0.83129528], -926074.3146758908\n",
      "[0.2676939  0.83032363], -926083.934691161\n",
      "[0.26767336 0.82927584], -926045.7944563251\n",
      "[0.26758554 0.82864484], -926057.3216418886\n",
      "[0.26711996 0.82882888], -926019.1482706406\n",
      "[0.26681361 0.82944248], -926022.9317499081\n",
      "[0.26713842 0.83018365], -925979.0574283359\n",
      "[0.26779651 0.83128486], -925989.5123131574\n",
      "[0.26826846 0.83248334], -925953.1756792644\n",
      "[0.26862416 0.83343977], -925963.0221700502\n",
      "[0.26842692 0.83410171], -925926.28688334\n",
      "[0.26841846 0.83447021], -925939.3885133574\n",
      "[0.26846487 0.83405981], -925906.2885537035\n",
      "[0.26856623 0.83329979], -925924.9288128705\n",
      "[0.26814039 0.83239446], -925897.4004402176\n",
      "[0.26770247 0.83202374], -925913.2821110977\n",
      "[0.26762773 0.83144941], -925883.0095875788\n",
      "[0.26779671 0.83133569], -925894.0324877658\n",
      "[0.26808596 0.83137675], -925857.5409524255\n",
      "[0.26843768 0.8314855 ], -925877.0814974887\n",
      "[0.26827851 0.83201351], -925847.6484541002\n",
      "[0.26855968 0.83295336], -925865.0895688209\n",
      "[0.26892726 0.83379561], -925835.6626166415\n",
      "[0.26958939 0.83470623], -925852.7656216809\n",
      "[0.27035162 0.83517105], -925825.1725889706\n",
      "[0.27075931 0.83550305], -925843.0892972517\n",
      "[0.27066734 0.83560374], -925814.9149601057\n",
      "[0.2705836  0.83572466], -925835.7709737194\n",
      "[0.27072727 0.83521212], -925808.0231711306\n",
      "[0.27080409 0.83412198], -925820.4012061754\n",
      "[0.26999652 0.83345284], -925783.6967501664\n",
      "[0.2689649  0.83289346], -925800.1787848787\n",
      "[0.26850933 0.83229321], -925772.5703601249\n",
      "[0.26860174 0.83174231], -925785.3285526638\n",
      "[0.26885505 0.83171455], -925753.8453255206\n",
      "[0.26898296 0.83267978], -925758.1026310961\n",
      "[0.26869392 0.83430154], -925716.3269752526\n",
      "[0.26866229 0.83569155], -925724.9888576254\n",
      "[0.26932386 0.83645532], -925687.9911425782\n",
      "[0.26977142 0.83726407], -925705.3213726076\n",
      "[0.26937236 0.83783602], -925676.119296143\n",
      "[0.26874512 0.83787907], -925697.5199275437\n",
      "[0.26800432 0.83705941], -925671.7263056365\n",
      "[0.26721244 0.83591148], -925698.8082906618\n",
      "[0.26646705 0.83419413], -925681.0417356716\n",
      "[0.26575637 0.83249454], -925706.9863123576\n",
      "[0.26467435 0.83119445], -925687.331871439\n",
      "[0.26386281 0.83041303], -925713.6961146465\n",
      "[0.26341454 0.83012822], -925693.0925156494\n",
      "[0.26340939 0.8303597 ], -925719.570954596\n",
      "[0.26383552 0.83110265], -925697.1549018971\n",
      "[0.26444606 0.83230047], -925710.0501777492\n",
      "[0.26457253 0.83401837], -925680.738060583\n",
      "[0.26477018 0.83598698], -925707.7459236318\n",
      "[0.26531997 0.83713071], -925687.1301368595\n",
      "[0.26583717 0.8374831 ], -925697.8835108099\n",
      "[0.26554298 0.83713778], -925659.2666620179\n",
      "[0.26466342 0.83649963], -925653.7807916316\n",
      "[0.26318149 0.83527275], -925603.8841903843\n",
      "[0.2617394  0.83342524], -925603.3830489402\n",
      "[0.26108059 0.83093013], -925557.6345570262\n",
      "[0.26067304 0.82905484], -925565.5995551301\n",
      "[0.25907771 0.82844598], -925522.31997392\n",
      "[0.25771995 0.82827891], -925526.0216619732\n",
      "[0.25780092 0.828136  ], -925479.7046826826\n",
      "[0.25851081 0.82833363], -925487.0898112243\n",
      "[0.25859187 0.82954607], -925448.2113659389\n",
      "[0.25858868 0.83127383], -925467.9553390584\n",
      "[0.2589252  0.83289079], -925443.3707942934\n",
      "[0.25955413 0.83396428], -925460.8357533648\n",
      "[0.26047552 0.83445437], -925431.3236056747\n",
      "[0.26103735 0.8347134 ], -925446.2761991746\n",
      "[0.26052992 0.83510786], -925412.4495550916\n",
      "[0.25978355 0.83513736], -925420.9387401505\n",
      "[0.26003245 0.83444412], -925380.4016289719\n",
      "[0.25998908 0.83423096], -925392.4056950023\n",
      "[0.26013826 0.83403317], -925358.1750386748\n",
      "[0.25976415 0.83419159], -925371.9033742456\n",
      "[0.25926391 0.83462207], -925338.0114613409\n",
      "[0.25896809 0.83482565], -925346.1891029383\n",
      "[0.2593111  0.83479147], -925305.2893671645\n",
      "[0.25952825 0.83459875], -925306.6950863855\n",
      "[0.25888451 0.83499193], -925261.2755484213\n",
      "[0.25781037 0.83539614], -925273.4832166915\n",
      "[0.25829119 0.83498034], -925237.1066550881\n",
      "[0.25826879 0.83465554], -925249.622400359\n",
      "[0.25803095 0.83461628], -925218.4807765307\n",
      "[0.25737912 0.83496693], -925240.7335648462\n",
      "[0.25694713 0.83534429], -925219.5209310121\n",
      "[0.25726694 0.83557616], -925251.9920001286\n",
      "[0.25767156 0.83573075], -925238.8208105088\n",
      "[0.25761712 0.83594273], -925268.7984701176\n",
      "[0.25668691 0.83649848], -925252.3168351075\n",
      "[0.25616684 0.83709754], -925271.7126983844\n",
      "[0.25659051 0.83695906], -925246.6898320025\n",
      "[0.25650949 0.83674285], -925269.442504941\n",
      "[0.25581004 0.83677896], -925248.0734341445\n",
      "[0.25485223 0.83663138], -925271.6074819552\n",
      "[0.25452178 0.83622932], -925249.7616540111\n",
      "[0.25483513 0.83584443], -925268.0802095565\n",
      "[0.25445158 0.83604309], -925236.3857325715\n",
      "[0.25390306 0.83638738], -925249.636561211\n",
      "[0.25321138 0.83697812], -925216.4698537706\n",
      "[0.25259715 0.83711027], -925228.1655016406\n",
      "[0.25313105 0.8367345 ], -925192.2458989774\n",
      "[0.25351868 0.83634288], -925206.9497965932\n",
      "[0.25238352 0.83702147], -925171.8434183355\n",
      "[0.25101153 0.83737484], -925193.9719689618\n",
      "[0.25135578 0.83695936], -925164.4919793358\n",
      "[0.25198576 0.83659993], -925194.1427898194\n",
      "[0.25173957 0.83689402], -925179.1402021043\n",
      "[0.2514756  0.83717699], -925210.7203500933\n",
      "[0.2509842  0.83775266], -925195.22319232\n",
      "[0.25088317 0.83797951], -925229.8529300522\n",
      "[0.25172782 0.83789627], -925212.2055847177\n",
      "[0.25266665 0.83778746], -925229.7049091907\n",
      "[0.25240266 0.83856479], -925198.454323054\n",
      "[0.25217229 0.83963787], -925215.0019012697\n",
      "[0.2526797  0.84025636], -925186.8981931865\n",
      "[0.25338572 0.84063902], -925203.1765696895\n",
      "[0.25402316 0.84078816], -925170.3411382624\n",
      "[0.25395837 0.84088577], -925188.0266811101\n",
      "[0.25336893 0.84110697], -925161.2576492381\n",
      "[0.25299114 0.84102571], -925182.578569962\n",
      "[0.25330786 0.84048117], -925160.5603322622\n",
      "[0.25331759 0.8400352 ], -925192.5337421418\n",
      "[0.25247147 0.84000737], -925181.3526657237\n",
      "[0.25172186 0.84010587], -925221.5069994513\n",
      "[0.2514075  0.83994794], -925216.192754282\n",
      "[0.25117883 0.83950215], -925260.6910850613\n",
      "[0.2508952  0.83910967], -925259.6426851382\n",
      "[0.25019177 0.8387436 ], -925301.511032532\n",
      "[0.24963819 0.83860403], -925299.3797829692\n",
      "[0.24964484 0.83852422], -925347.3395603902\n",
      "[0.2505517  0.83840498], -925350.1904331186\n",
      "[0.25069628 0.83871116], -925403.4858743577\n",
      "[0.25069339 0.83956492], -925412.5213987841\n",
      "[0.25087335 0.84030392], -925469.5586841888\n",
      "[0.25194485 0.84081788], -925483.314889421\n",
      "[0.25277473 0.84182643], -925547.402619806\n",
      "[0.25294201 0.84311086], -925568.5661042004\n",
      "[0.25308912 0.84417421], -925635.688311312\n",
      "[0.25335536 0.84468952], -925654.9824272885\n",
      "[0.25433087 0.84482968], -925715.0939917575\n",
      "[0.25424316 0.84492334], -925724.9728816528\n",
      "[0.25369064 0.84493249], -925771.7034522702\n",
      "[0.25288473 0.84455639], -925772.5044649993\n",
      "[0.25246726 0.84370806], -925807.4157529573\n",
      "[0.25210242 0.84256778], -925795.2237495861\n",
      "[0.25147442 0.84138277], -925833.6496635419\n",
      "[0.249993  0.8408192], -925826.0004643417\n",
      "[0.24862201 0.84038459], -925865.6646431906\n",
      "[0.24876125 0.83957595], -925857.7348808852\n",
      "[0.24921461 0.83917992], -925906.7059940656\n",
      "[0.2489552  0.83975191], -925910.7319845852\n",
      "[0.24870217 0.84090559], -925961.041809318\n",
      "[0.24871056 0.84209905], -925966.3694432296\n",
      "[0.24916845 0.8429499 ], -926015.9127124819\n",
      "[0.24966702 0.84361722], -926018.0184929223\n",
      "[0.24969347 0.8441323 ], -926065.6954445834\n",
      "[0.24897039 0.84454013], -926066.1061329793\n",
      "[0.24829653 0.84461465], -926108.4285506136\n",
      "[0.24849785 0.84377412], -926098.7479607192\n",
      "[0.24894375 0.84265302], -926131.7478949667\n",
      "[0.24805542 0.84220812], -926113.6015123235\n",
      "[0.24664713 0.84211779], -926151.2551303837\n",
      "[0.24612199 0.84186422], -926144.4798964367\n",
      "[0.24631247 0.84178663], -926189.4841753569\n",
      "[0.2469622  0.84178841], -926191.9902600389\n",
      "[0.24696829 0.84200101], -926232.2696095436\n",
      "[0.24585896 0.84294607], -926225.3523881165\n",
      "[0.24500946 0.84351083], -926270.7374789394\n",
      "[0.24587287 0.84308091], -926266.4927734892\n",
      "[0.24643384 0.84273895], -926309.8879026221\n",
      "[0.2459076  0.84285182], -926302.3167137548\n",
      "[0.24508037 0.84326704], -926335.0351919426\n",
      "[0.24508958 0.84305245], -926320.3879258257\n",
      "[0.24542558 0.84255271], -926347.6092241866\n",
      "[0.24571735 0.84204961], -926333.0440412335\n",
      "[0.24555252 0.84199802], -926377.9378783124\n",
      "[0.24523884 0.84219037], -926379.2358919516\n",
      "[0.24500149 0.84236099], -926413.1587992173\n",
      "[0.24554093 0.84225692], -926401.4879181971\n",
      "[0.24578957 0.84243723], -926435.0327657533\n",
      "[0.24569758 0.84275244], -926426.2222626747\n",
      "[0.24515741 0.84291228], -926462.3875041968\n",
      "[0.2449182  0.84273943], -926453.9176171547\n",
      "[0.24494073 0.84272612], -926493.1244428072\n",
      "[0.24483163 0.84244556], -926485.0394947247\n",
      "[0.24468714 0.84208255], -926511.895400892\n",
      "[0.24416769 0.8416441 ], -926492.1570758421\n",
      "[0.2437642  0.84058176], -926528.8145801008\n",
      "[0.24356724 0.83947629], -926518.7119712132\n",
      "[0.24303985 0.83867053], -926551.9586553657\n",
      "[0.24256715 0.83833686], -926536.3797239171\n",
      "[0.24240263 0.83826254], -926563.563618635\n",
      "[0.24281901 0.83850409], -926544.4914843326\n",
      "[0.24310008 0.83882329], -926574.7486084957\n",
      "[0.24354157 0.83949101], -926560.4655295622\n",
      "[0.24383485 0.84024679], -926595.1173498449\n",
      "[0.24396182 0.84117426], -926584.7858043062\n",
      "[0.24423395 0.8421189 ], -926612.2600083956\n",
      "[0.24478801 0.84263212], -926596.4997281572\n",
      "[0.24532054 0.84288039], -926626.9817037897\n",
      "[0.24496742 0.84307192], -926608.829058609\n",
      "[0.24443686 0.84311047], -926630.9451799113\n",
      "[0.24411337 0.84266624], -926605.184305157\n",
      "[0.24430609 0.84195468], -926626.0706399634\n",
      "[0.24446212 0.84125667], -926602.5324665528\n",
      "[0.2444767  0.84107223], -926632.8847983476\n",
      "[0.24370205 0.84149082], -926616.594900231\n",
      "[0.24341475 0.84194269], -926644.6577935142\n",
      "[0.24384003 0.8421347 ], -926621.1088398057\n",
      "[0.24459056 0.84227784], -926642.4429363456\n",
      "[0.24456847 0.84283552], -926615.4867398037\n",
      "[0.24452208 0.84351958], -926637.7431732604\n",
      "[0.24454234 0.84390089], -926611.8117157998\n",
      "[0.24479983 0.84408925], -926622.2836768547\n",
      "[0.24535169 0.84371821], -926583.2048146426\n",
      "[0.24556731 0.84321571], -926589.1050892149\n",
      "[0.24485988 0.84301823], -926548.9608149477\n",
      "[0.24432865 0.84318936], -926560.1982340588\n",
      "[0.24528628 0.84245133], -926525.0534299692\n",
      "[0.24624676 0.84156299], -926540.1738055879\n",
      "[0.24554147 0.84163682], -926505.0259527619\n",
      "[0.24445947 0.84174003], -926512.5205834445\n",
      "[0.24461273 0.84133379], -926466.939318642\n",
      "[0.24493111 0.84073222], -926458.4408388931\n",
      "[0.24532371 0.8402798 ], -926400.6599693013\n",
      "[0.24523575 0.83999987], -926387.8019879849\n",
      "[0.24431272 0.8403403 ], -926324.8556638184\n",
      "[0.24351507 0.84025567], -926314.4544392723\n",
      "[0.24391836 0.83961934], -926256.3587850475\n",
      "[0.24394495 0.83952632], -926248.0307181841\n",
      "[0.2434911  0.83977992], -926194.8836870502\n",
      "[0.24309592 0.83985859], -926189.5911065035\n",
      "[0.2427899  0.83989663], -926138.1983325634\n",
      "[0.24255085 0.8395956 ], -926127.2380233693\n",
      "[0.24258226 0.83924237], -926068.9344356683\n",
      "[0.24250023 0.83883755], -926057.0411822571\n",
      "[0.24244233 0.83880647], -926001.5323709836\n",
      "[0.24261718 0.83890395], -926000.381099039\n",
      "[0.24289041 0.83943496], -925954.1805903004\n",
      "[0.24336258 0.84009843], -925952.7811633481\n",
      "[0.243722  0.8411885], -925908.2726308793\n",
      "[0.24407702 0.84269273], -925908.4900234315\n",
      "[0.24488827 0.84389143], -925863.5669059849\n",
      "[0.24582331 0.8446268 ], -925860.1637874744\n",
      "[0.24653542 0.8449637 ], -925811.2601809918\n",
      "[0.24687548 0.84517325], -925804.7475045724\n",
      "[0.24672768 0.84503855], -925754.2979097707\n",
      "[0.24658406 0.84450117], -925741.1369138907\n",
      "[0.24671976 0.84349568], -925683.1369562262\n",
      "[0.24662722 0.8426411 ], -925668.633438534\n",
      "[0.24644987 0.84201604], -925610.5050287478\n",
      "[0.24633747 0.84164715], -925598.5718078478\n",
      "[0.24659198 0.84160976], -925541.502376905\n",
      "[0.24719433 0.84148059], -925535.7090021967\n",
      "[0.2473345  0.84221027], -925486.1682829087\n",
      "[0.24744193 0.84298499], -925474.7953882713\n",
      "[0.24766545 0.84395854], -925424.6102605229\n",
      "[0.24822016 0.84476401], -925422.6719820047\n",
      "[0.24865854 0.84539095], -925380.6720460957\n",
      "[0.24875667 0.84553099], -925387.0418776713\n",
      "[0.24837015 0.8453857 ], -925344.5644725078\n",
      "[0.24790708 0.84531394], -925347.7055306856\n",
      "[0.2483981  0.84442032], -925302.5866979747\n",
      "[0.24885635 0.84363567], -925306.046335351\n",
      "[0.24869907 0.84328159], -925267.8835368732\n",
      "[0.24794752 0.842995  ], -925281.1277918793\n",
      "[0.24795014 0.84263141], -925250.1225326622\n",
      "[0.2485915  0.84235571], -925261.7245144743\n",
      "[0.24900776 0.84259389], -925227.3235337243\n",
      "[0.2491103  0.84298964], -925239.2396384866\n",
      "[0.24911141 0.84365284], -925206.204428881\n",
      "[0.24914941 0.84408043], -925212.3825856819\n",
      "[0.24995515 0.84408019], -925172.257900452\n",
      "[0.250486  0.8438477], -925182.4110531356\n",
      "[0.25009223 0.84403203], -925147.0326823177\n",
      "[0.24959157 0.84410774], -925159.8635904987\n",
      "[0.24985044 0.84369828], -925129.6809487662\n",
      "[0.25037121 0.84338406], -925144.065973687\n",
      "[0.25071296 0.84331537], -925115.7715090242\n",
      "[0.25115724 0.84366558], -925135.1386478018\n",
      "[0.25111337 0.8444036 ], -925109.4293124856\n",
      "[0.25156951 0.84489214], -925123.0161975896\n",
      "[0.25211934 0.84524544], -925091.02763158\n",
      "[0.25244466 0.84551615], -925105.2959608617\n",
      "[0.25216329 0.8458514 ], -925076.2821925555\n",
      "[0.25190518 0.84592932], -925092.2896255159\n",
      "[0.25210814 0.84545781], -925066.1019556843\n",
      "[0.25228142 0.84498968], -925084.1982937339\n",
      "[0.2519562  0.84463848], -925058.7380100499\n",
      "[0.25142459 0.84430805], -925081.936492354\n",
      "[0.25108323 0.84405695], -925062.673413408\n",
      "[0.25112123 0.84399585], -925090.1613724384\n",
      "[0.25141533 0.8441418 ], -925075.5264244345\n",
      "[0.25196591 0.84437688], -925108.2192218783\n",
      "[0.25160402 0.84534567], -925097.6007216758\n",
      "[0.25114078 0.84607329], -925131.9351675246\n",
      "[0.25128473 0.84650086], -925122.4570238728\n",
      "[0.2513435 0.8467452], -925162.943724922\n",
      "[0.25151262 0.84690805], -925159.1497373064\n",
      "[0.25115539 0.84748462], -925198.9832894221\n",
      "[0.25074898 0.84787703], -925190.4486389253\n",
      "[0.25035017 0.84789795], -925220.0261280786\n",
      "[0.25025054 0.8476049 ], -925202.7799604337\n",
      "[0.25000042 0.84766901], -925231.2507288856\n",
      "[0.24964269 0.84768117], -925215.9643554771\n",
      "[0.24967113 0.847143  ], -925247.3664762183\n",
      "[0.24904196 0.84689127], -925235.5221059832\n",
      "[0.24825397 0.84678949], -925273.4898581016\n",
      "[0.24796057 0.84651392], -925268.2442858705\n",
      "[0.2481291  0.84617386], -925309.7374818695\n",
      "[0.24803169 0.84603361], -925309.5799062961\n",
      "[0.24779653 0.84612544], -925346.6480103348\n",
      "[0.24690974 0.84645754], -925341.832667895\n",
      "[0.24625122 0.84648226], -925383.9494615957\n",
      "[0.24640856 0.84586198], -925380.8726907196\n",
      "[0.24687513 0.84496556], -925427.5513343662\n",
      "[0.2461101  0.84461898], -925426.5822838609\n",
      "[0.2450958  0.84448303], -925461.0783530438\n",
      "[0.24477838 0.84407431], -925452.330170866\n",
      "[0.24506872 0.84348869], -925489.547855306\n",
      "[0.24525143 0.84328512], -925482.7804600063\n",
      "[0.24494099 0.84370492], -925522.0884489977\n",
      "[0.24461625 0.84450104], -925516.8461738074\n",
      "[0.2445415  0.84524273], -925559.5470948481\n",
      "[0.24535462 0.84566255], -925555.0306416037\n",
      "[0.24588124 0.84609256], -925596.5249530483\n",
      "[0.2452531  0.84695859], -925590.8401286304\n",
      "[0.24435061 0.84750692], -925633.664368403\n",
      "[0.24447962 0.84704241], -925628.0952159937\n",
      "[0.24453674 0.84622334], -925660.0962894713\n",
      "[0.24407524 0.84555686], -925651.1593694744\n",
      "[0.24370013 0.84528262], -925689.731988589\n",
      "[0.24336893 0.84516606], -925686.0141757509\n",
      "[0.24340748 0.84491842], -925734.5916709981\n",
      "[0.24355996 0.84494329], -925739.3749622997\n",
      "[0.24384891 0.84531746], -925792.9594982918\n",
      "[0.243646  0.8460871], -925804.3717473921\n",
      "[0.24357217 0.846757  ], -925864.6433204034\n",
      "[0.2439688  0.84693159], -925879.172328965\n",
      "[0.24448582 0.84712759], -925936.8321519875\n",
      "[0.243921   0.84742748], -925946.1122905177\n",
      "[0.2432831  0.84738139], -925995.5570466251\n",
      "[0.24288099 0.84667491], -925997.6777864402\n",
      "[0.24259795 0.84559559], -926048.046807096\n",
      "[0.24215142 0.8445067 ], -926052.6882355111\n",
      "[0.24163534 0.84388842], -926098.6658208333\n",
      "[0.24090036 0.8438079 ], -926098.661635484\n",
      "[0.24038188 0.84396822], -926137.1721666019\n",
      "[0.24095851 0.84398564], -926130.6973682343\n",
      "[0.24135088 0.84381234], -926163.2603296854\n",
      "[0.24043146 0.84461294], -926146.7606392739\n",
      "[0.23970762 0.84518617], -926177.1825989833\n",
      "[0.24000862 0.84524558], -926158.5912686532\n",
      "[0.24008656 0.8451466 ], -926183.4627300336\n",
      "[0.23988409 0.84512612], -926162.5958879122\n",
      "[0.23949196 0.84515469], -926183.9537733918\n",
      "[0.23917807 0.84500784], -926159.7250556451\n",
      "[0.23876447 0.84443938], -926174.2401895175\n",
      "[0.23866003 0.84370122], -926142.6610372261\n",
      "[0.23814718 0.84314438], -926163.8832042092\n",
      "[0.23774565 0.84281317], -926140.9234880009\n",
      "[0.23795345 0.84287601], -926171.8998935813\n",
      "[0.23832212 0.84330413], -926156.3102033082\n",
      "[0.23915449 0.84414409], -926189.334162232\n",
      "[0.23935774 0.84543098], -926174.2204418331\n",
      "[0.23934801 0.84647502], -926199.6636496654\n",
      "[0.24019541 0.84668525], -926178.5522944102\n",
      "[0.24088672 0.84653434], -926197.87802426\n",
      "[0.24097072 0.84635199], -926171.6181489676\n",
      "[0.24068799 0.84576103], -926191.6930941729\n",
      "[0.2404047 0.8450575], -926167.8151223318\n",
      "[0.2403971  0.84443752], -926190.7001674224\n",
      "[0.24067127 0.84393842], -926166.1904244776\n",
      "[0.2407641  0.84419786], -926189.4095449261\n",
      "[0.24092604 0.84470997], -926165.4911252835\n",
      "[0.24130063 0.84493841], -926184.5671300059\n",
      "[0.24170388 0.8452396 ], -926156.5922095138\n",
      "[0.24198878 0.84607342], -926171.0058377946\n",
      "[0.24192955 0.84689415], -926140.4729336051\n",
      "[0.24211346 0.84707541], -926154.8579840872\n",
      "[0.24199273 0.84686144], -926120.6618857716\n",
      "[0.24162302 0.84663615], -926130.073859619\n",
      "[0.24100184 0.84603204], -926093.320317105\n",
      "[0.24068776 0.84495   ], -926095.5258959515\n",
      "[0.24061076 0.84357948], -926054.6910064056\n",
      "[0.24017869 0.84248335], -926068.1058920444\n",
      "[0.23944857 0.8417723 ], -926037.7212044734\n",
      "[0.23901959 0.84087284], -926062.4921916472\n",
      "[0.23933035 0.84013292], -926043.2121770019\n",
      "[0.23946571 0.83993684], -926074.2331350604\n",
      "[0.23956533 0.84032887], -926057.6913835558\n",
      "[0.2398921 0.8412338], -926077.5151968756\n",
      "[0.24071922 0.84215217], -926048.9647091073\n",
      "[0.24166398 0.84291796], -926065.8831234602\n",
      "[0.24211489 0.84364448], -926033.9762311951\n",
      "[0.24216495 0.84401123], -926053.7994320418\n",
      "[0.24229607 0.84381195], -926026.5093295989\n",
      "[0.24300451 0.84355952], -926048.4332819972\n",
      "[0.24324767 0.84314939], -926024.7999763215\n",
      "[0.24367878 0.84285207], -926049.3225384306\n",
      "[0.2432199 0.842902 ], -926024.8668842915\n",
      "[0.24296279 0.84280242], -926058.2835692171\n",
      "[0.24330408 0.84223154], -926042.833979025\n",
      "[0.24339086 0.84135697], -926074.7452375512\n",
      "[0.24265001 0.84080546], -926062.2332081512\n",
      "[0.2421295  0.84025086], -926097.0720776189\n",
      "[0.24168409 0.83964246], -926087.8029003085\n",
      "[0.24136375 0.83904157], -926127.524552603\n",
      "[0.24119779 0.83839031], -926120.3537710626\n",
      "[0.24103476 0.83794648], -926145.6378561899\n",
      "[0.24070975 0.83786459], -926124.093811591\n",
      "[0.24064471 0.83785302], -926153.1409102542\n",
      "[0.24070293 0.83805302], -926136.8374557461\n",
      "[0.2408075  0.83832355], -926168.61133017\n",
      "[0.24090908 0.8386889 ], -926156.0668213503\n",
      "[0.24083088 0.83908038], -926190.1510239656\n",
      "[0.24065104 0.83940625], -926178.6284520909\n",
      "[0.24039626 0.8398958 ], -926217.8926353216\n",
      "[0.24078311 0.83975277], -926210.8275418379\n",
      "[0.24110797 0.83953505], -926248.2444217475\n",
      "[0.24081752 0.83931375], -926238.8640964233\n",
      "[0.24009523 0.83871242], -926280.4590100236\n",
      "[0.2399179  0.83766789], -926272.9277487268\n",
      "[0.24003775 0.8365428 ], -926311.8826648591\n",
      "[0.24039901 0.83554673], -926305.1013328462\n",
      "[0.24078095 0.83483403], -926349.2797932487\n",
      "[0.24026392 0.83506974], -926347.5263909303\n",
      "[0.23992926 0.83532122], -926398.6998148547\n",
      "[0.24112279 0.83507996], -926398.8725814854\n",
      "[0.24228739 0.83516632], -926436.8462394654\n",
      "[0.24251421 0.83590956], -926424.1733405723\n",
      "[0.24208644 0.83672813], -926455.7334619035\n",
      "[0.24277074 0.8367962 ], -926438.8748150138\n",
      "[0.24375368 0.83642181], -926467.5173509626\n",
      "[0.24402446 0.83622665], -926450.2211566534\n",
      "[0.24344205 0.83658988], -926476.156655338\n",
      "[0.24317819 0.83657576], -926457.1776627309\n",
      "[0.24366755 0.83628666], -926481.0973505342\n",
      "[0.24440811 0.83569863], -926459.7009862087\n",
      "[0.24482729 0.8350505 ], -926475.9966745945\n",
      "[0.24385076 0.83525617], -926442.6269760458\n",
      "[0.24343784 0.8352551 ], -926458.8560924206\n",
      "[0.24431481 0.83469817], -926429.3725862716\n",
      "[0.24534125 0.83415837], -926456.0320149154\n",
      "[0.24519377 0.8346162 ], -926434.2612484144\n",
      "[0.24508696 0.8352811 ], -926453.285226886\n",
      "[0.24601877 0.83558196], -926422.7203976187\n",
      "[0.24690823 0.83574347], -926432.0978482115\n",
      "[0.24790791 0.83606287], -926393.8475200421\n",
      "[0.24853249 0.83662424], -926409.2910767408\n",
      "[0.24880726 0.83745417], -926375.0850877138\n",
      "[0.24915257 0.8381283 ], -926391.9670793157\n",
      "[0.24995021 0.8384598 ], -926358.8394677007\n",
      "[0.25019424 0.83883093], -926374.1537932222\n",
      "[0.24976953 0.83929533], -926341.2797903994\n",
      "[0.24941212 0.83975201], -926356.1224945412\n",
      "[0.24963074 0.83957066], -926322.9446568473\n",
      "[0.24968176 0.83921051], -926331.0315489265\n",
      "[0.2493095  0.83891349], -926292.7713215974\n",
      "[0.24847744 0.83886345], -926294.6523204572\n",
      "[0.24845885 0.83844591], -926249.854714649\n",
      "[0.24887809 0.83767074], -926259.4865251271\n",
      "[0.24824446 0.83774243], -926220.4641887901\n",
      "[0.24704233 0.83824574], -926226.1282016633\n",
      "[0.246909   0.83831477], -926183.8569837647\n",
      "[0.24751615 0.83802044], -926187.3325751235\n",
      "[0.24758503 0.83800034], -926143.0052729804\n",
      "[0.24708673 0.83818916], -926146.5349992388\n",
      "[0.24642747 0.83845913], -926105.9095918897\n",
      "[0.2462098 0.8385835], -926111.5332276756\n",
      "[0.24708027 0.83816849], -926069.228693648\n",
      "[0.24781205 0.83793314], -926080.6397863735\n",
      "[0.24729812 0.83843296], -926042.389131692\n",
      "[0.24668157 0.83900249], -926057.810940776\n",
      "[0.24807873 0.83856919], -926021.0934382495\n",
      "[0.24971029 0.83813374], -926042.7405330039\n",
      "[0.2496787  0.83870402], -926014.8804736773\n",
      "[0.24933504 0.83949953], -926034.6443251669\n",
      "[0.24919988 0.84010521], -926007.741146182\n",
      "[0.24995155 0.84018043], -926034.8866560588\n",
      "[0.25081967 0.83985519], -926016.5139207961\n",
      "[0.25115848 0.84002044], -926036.3261774076\n",
      "[0.25006116 0.84062864], -926005.2434050422\n",
      "[0.2490572  0.84079973], -926025.3954168446\n",
      "[0.25019523 0.83952331], -925986.573350576\n",
      "[0.25138208 0.83837354], -925998.1334237108\n",
      "[0.25043008 0.83855124], -925955.0744346104\n",
      "[0.24912498 0.83922929], -925964.6000292731\n",
      "[0.24952423 0.83918816], -925924.7048965355\n",
      "[0.25105439 0.83911459], -925936.7734798677\n",
      "[0.25203781 0.83962348], -925904.7186509968\n",
      "[0.25207874 0.840771  ], -925916.2585047524\n",
      "[0.25138785 0.84228417], -925881.7860733481\n",
      "[0.25127304 0.84315536], -925895.4030885079\n",
      "[0.25323787 0.84248269], -925853.9916817783\n",
      "[0.25467875 0.84168946], -925865.0928306292\n",
      "[0.2533338  0.84214892], -925816.677304146\n",
      "[0.25148717 0.84289004], -925836.6483374499\n",
      "[0.25204064 0.84216678], -925805.2055452905\n",
      "[0.25324318 0.84110872], -925822.7161888271\n",
      "[0.25364722 0.84066407], -925800.1839148734\n",
      "[0.25277123 0.84066223], -925818.522890153\n",
      "[0.25144199 0.84136895], -925797.681394538\n",
      "[0.25142523 0.84196869], -925818.0316018232\n",
      "[0.25313596 0.84201537], -925789.4865210069\n",
      "[0.25407073 0.84235103], -925806.1801082543\n",
      "[0.25299792 0.84384534], -925769.3951624167\n",
      "[0.25181145 0.84519422], -925782.019894495\n",
      "[0.25218925 0.84520262], -925743.0970857199\n",
      "[0.25304693 0.84453949], -925748.168193749\n",
      "[0.25285399 0.84389768], -925710.4013646648\n",
      "[0.25215526 0.84329646], -925723.6048728253\n",
      "[0.25083238 0.84283391], -925698.8322661065\n",
      "[0.24991041 0.84212842], -925717.1847186704\n",
      "[0.25064233 0.84068511], -925691.5162673764\n",
      "[0.25138434 0.8391668 ], -925714.3965605098\n",
      "[0.25053449 0.83912683], -925690.7054394288\n",
      "[0.24947591 0.8398601 ], -925706.954749087\n",
      "[0.24925313 0.84062066], -925683.323481897\n",
      "[0.24956148 0.84108806], -925691.4426786858\n",
      "[0.25071545 0.84125212], -925658.1356129639\n",
      "[0.2514115  0.84172658], -925675.9216328502\n",
      "[0.25052568 0.84292862], -925644.0719551984\n",
      "[0.2498462  0.84420304], -925659.199613215\n",
      "[0.25061599 0.84416665], -925625.1460911185\n",
      "[0.25169945 0.84383247], -925627.8398428019\n",
      "[0.25180621 0.84354745], -925587.9593396358\n",
      "[0.25098142 0.84332671], -925595.952060368\n",
      "[0.24994579 0.84296554], -925564.845938263\n",
      "[0.2491809  0.84208472], -925570.949686641\n",
      "[0.24982992 0.8405851 ], -925533.460823448\n",
      "[0.24996107 0.83951838], -925541.6861513271\n",
      "[0.24865745 0.83982728], -925503.0746597677\n",
      "[0.24706101 0.84022557], -925507.484542603\n",
      "[0.24664518 0.84044888], -925470.9131339455\n",
      "[0.24674348 0.84058322], -925472.772151499\n",
      "[0.24717142 0.84075242], -925437.9440705087\n",
      "[0.24715467 0.84127483], -925446.6103286587\n",
      "[0.24611573 0.84225889], -925412.238706622\n",
      "[0.24547698 0.84268841], -925416.6581232736\n",
      "[0.24620363 0.8421756 ], -925373.9856842384\n",
      "[0.24720659 0.84134394], -925384.9271447241\n",
      "[0.2469154  0.84122508], -925352.1422108063\n",
      "[0.24626475 0.8411257 ], -925363.4406372915\n",
      "[0.24593513 0.84118235], -925339.7233473622\n",
      "[0.24647596 0.84070199], -925354.1147319155\n",
      "[0.24769795 0.84041328], -925333.4472787\n",
      "[0.24840973 0.8406784 ], -925351.0031984893\n",
      "[0.2479725  0.84203113], -925324.3429466934\n",
      "[0.24777172 0.84319433], -925338.8155651904\n",
      "[0.24894596 0.84361675], -925308.9237612261\n",
      "[0.25036091 0.84413938], -925328.944799732\n",
      "[0.25091368 0.84482336], -925309.7366848855\n",
      "[0.25102436 0.84541333], -925332.5771016912\n",
      "[0.25067628 0.84570868], -925315.8893430026\n",
      "[0.2508504  0.84570603], -925340.3885445851\n",
      "[0.25164181 0.84487434], -925326.1742164331\n",
      "[0.25175364 0.84421769], -925348.9511631349\n",
      "[0.25123425 0.84372001], -925335.5938840159\n",
      "[0.25080266 0.84347052], -925360.4903266471\n",
      "[0.25083562 0.84309792], -925346.8579580827\n",
      "[0.25120833 0.84270475], -925373.0135598306\n",
      "[0.25123104 0.84290862], -925360.3821470026\n",
      "[0.25106931 0.84355652], -925379.5916565988\n",
      "[0.25066502 0.84455966], -925361.3903632658\n",
      "[0.25030709 0.84525332], -925387.2542347948\n",
      "[0.25076096 0.84537037], -925372.0322821445\n",
      "[0.25100644 0.84508762], -925400.4096664651\n",
      "[0.25043514 0.84490849], -925386.5250802198\n",
      "[0.24970826 0.84460814], -925405.8558077464\n",
      "[0.24882022 0.84423049], -925387.6819602756\n",
      "[0.24828187 0.84393919], -925407.2494119696\n",
      "[0.24852946 0.8432451 ], -925390.3613486248\n",
      "[0.24892259 0.84274484], -925421.4054561447\n",
      "[0.24863268 0.84268786], -925411.6710800468\n",
      "[0.2483968  0.84286711], -925437.5865520998\n",
      "[0.24833228 0.84307177], -925422.9968485347\n",
      "[0.24872739 0.84297309], -925449.152324541\n",
      "[0.24927367 0.8428905 ], -925436.8761148899\n",
      "[0.24972821 0.84295745], -925468.9199173431\n",
      "[0.24960286 0.84343961], -925461.1846292609\n",
      "[0.24930714 0.84366508], -925498.503154082\n",
      "[0.25002872 0.84337832], -925495.1604355527\n",
      "[0.25108181 0.84314902], -925534.4748492242\n",
      "[0.251599   0.84325857], -925536.1543307542\n",
      "[0.25186491 0.84362624], -925571.6226736396\n",
      "[0.25171787 0.84420963], -925569.6850476253\n",
      "[0.25164103 0.84449463], -925605.0883031655\n",
      "[0.25255751 0.84421705], -925597.5217130885\n",
      "[0.25367041 0.84404983], -925629.5790432871\n",
      "[0.25393201 0.8443277 ], -925619.9403275523\n",
      "[0.25381384 0.84486694], -925643.8056187192\n",
      "[0.2534757  0.84537845], -925632.4740738948\n",
      "[0.25374494 0.84568492], -925668.5997544399\n",
      "[0.25480548 0.84537743], -925667.4150642235\n",
      "[0.25564706 0.8451366 ], -925708.4952151587\n",
      "[0.25564849 0.84516921], -925705.8780251284\n",
      "[0.25527676 0.84538994], -925739.2195108384\n",
      "[0.25530291 0.84533877], -925728.2579798107\n",
      "[0.25546631 0.84495058], -925744.4035675981\n",
      "[0.25625275 0.84432566], -925718.8558923155\n",
      "[0.25711852 0.84389765], -925734.5774199851\n",
      "[0.25701914 0.84427986], -925709.6200325398\n",
      "[0.25647818 0.84535801], -925727.5835895195\n",
      "[0.25720189 0.84583103], -925706.1112916832\n",
      "[0.25837905 0.84587914], -925731.8745441079\n",
      "[0.25954631 0.84582742], -925721.9936677807\n",
      "[0.2602463  0.84586771], -925755.1932016587\n",
      "[0.25965723 0.84646827], -925745.7281275315\n",
      "[0.25880459 0.84684629], -925786.6210944655\n",
      "[0.25933655 0.84630044], -925781.5512823246\n",
      "[0.26054125 0.84551813], -925817.4449575837\n",
      "[0.26098691 0.8451718 ], -925812.4872403694\n",
      "[0.26069893 0.8449557 ], -925842.8058608219\n",
      "[0.25962814 0.84529842], -925833.4721787699\n",
      "[0.25879424 0.84535658], -925870.7304010047\n",
      "[0.25962042 0.84467601], -925862.9458896505\n",
      "[0.26029056 0.8441105 ], -925900.0707165024\n",
      "[0.26025037 0.84412778], -925897.7103968761\n",
      "[0.25993829 0.84452339], -925929.9565093049\n",
      "[0.25961197 0.84495186], -925919.0103684235\n",
      "[0.25959814 0.84511668], -925940.5027507722\n",
      "[0.2602131  0.84480206], -925916.6208118412\n",
      "[0.26090784 0.84450398], -925935.1174785461\n",
      "[0.26083687 0.84448743], -925911.6253616387\n",
      "[0.26058718 0.84469512], -925934.6704964432\n",
      "[0.26049574 0.84470328], -925921.1821725649\n",
      "[0.26090285 0.84502823], -925948.7538002998\n",
      "[0.26219098 0.8448955 ], -925935.5370130283\n",
      "[0.26314239 0.84480734], -925960.3470715545\n",
      "[0.26326266 0.84527172], -925941.8847061254\n",
      "[0.26331009 0.84591293], -925962.8270007996\n",
      "[0.26367502 0.84637494], -925946.2438148453\n",
      "[0.26435225 0.84649611], -925974.0646139529\n",
      "[0.26522725 0.84636333], -925966.9600292379\n",
      "[0.26563565 0.84610993], -925996.6369344842\n",
      "[0.26521987 0.84620039], -925984.4554687409\n",
      "[0.26468267 0.84636716], -926008.6935629734\n",
      "[0.26493584 0.84599724], -925990.9706490058\n",
      "[0.26547291 0.84569294], -926008.9865667773\n",
      "[0.26572992 0.84547696], -925988.2821232677\n",
      "[0.26536805 0.84555448], -926001.8885029737\n",
      "[0.26454158 0.84582708], -925977.3190351368\n",
      "[0.26419208 0.8457725 ], -925987.5225102386\n",
      "[0.26466408 0.84519313], -925953.716007149\n",
      "[0.2649004 0.8444301], -925957.6002660821\n",
      "[0.26434188 0.84415386], -925919.4108929862\n",
      "[0.26357616 0.84394196], -925918.0763455131\n",
      "[0.26328505 0.84368069], -925880.0686758268\n",
      "[0.26341153 0.84342959], -925891.6743536227\n",
      "[0.26402202 0.84329093], -925865.585240825\n",
      "[0.2644538  0.84379414], -925884.1535889938\n",
      "[0.26441893 0.84480572], -925860.9894543575\n",
      "[0.2644107  0.84564514], -925877.4424086517\n",
      "[0.26479762 0.84622834], -925855.3243049249\n",
      "[0.26531967 0.84643945], -925876.1583114836\n",
      "[0.26558337 0.8465471 ], -925857.7946566514\n",
      "[0.26547177 0.84674247], -925881.6398052655\n",
      "[0.26505331 0.84681962], -925863.9917649685\n",
      "[0.26452848 0.84682277], -925883.651468639\n",
      "[0.26447714 0.84632241], -925859.6319992458\n",
      "[0.26408221 0.84571642], -925875.7286469935\n",
      "[0.26378908 0.84498168], -925854.1807869656\n",
      "[0.26345994 0.84426524], -925868.3859335297\n",
      "[0.26274433 0.84383803], -925843.7417457964\n",
      "[0.26210927 0.8438379 ], -925857.7056138202\n",
      "[0.26195689 0.84372904], -925828.1292483729\n",
      "[0.26215818 0.84339256], -925843.0935893704\n",
      "[0.26217402 0.84331153], -925817.3508974488\n",
      "[0.26231906 0.84369752], -925828.8071342921\n",
      "[0.2618904  0.84439293], -925799.3139828694\n",
      "[0.2613303  0.84517114], -925815.5161776401\n",
      "[0.26157615 0.8452817 ], -925788.1718473176\n",
      "[0.26201443 0.84485836], -925798.4411195356\n",
      "[0.26159839 0.84465859], -925766.5395702552\n",
      "[0.26064494 0.84459737], -925775.7201186685\n",
      "[0.25942565 0.84460554], -925748.0390912971\n",
      "[0.25849855 0.84449594], -925763.8849423081\n",
      "[0.25865144 0.84384621], -925737.8419148227\n",
      "[0.25857703 0.84356247], -925751.1324841843\n",
      "[0.25786091 0.84369505], -925722.1477142726\n",
      "[0.2568858  0.84428063], -925732.0523990499\n",
      "[0.2561843  0.84458434], -925702.8980166063\n",
      "[0.25600475 0.84456473], -925710.9878180892\n",
      "[0.25626088 0.8441199 ], -925681.0381561015\n",
      "[0.25613212 0.84376262], -925694.4818974072\n",
      "[0.25518999 0.84367904], -925665.4487113395\n",
      "[0.25453194 0.84383926], -925674.514476131\n",
      "[0.25458375 0.84345176], -925639.4264034783\n",
      "[0.2547716  0.84289521], -925647.0488416626\n",
      "[0.25485375 0.84239964], -925614.9154925741\n",
      "[0.25474701 0.842253  ], -925629.7435355207\n",
      "[0.25432619 0.84247443], -925604.4086348362\n",
      "[0.25392904 0.84279272], -925617.2864742588\n",
      "[0.25451872 0.84285975], -925584.6312340479\n",
      "[0.25502252 0.84286632], -925587.1975042669\n",
      "[0.25495615 0.84344314], -925548.3383223481\n",
      "[0.25483726 0.84398959], -925559.3839592562\n",
      "[0.25455915 0.84469171], -925533.6452154767\n",
      "[0.2546669  0.84493476], -925546.7090840483\n",
      "[0.25509208 0.84498172], -925519.2465904901\n",
      "[0.25536736 0.84525907], -925533.5152548226\n",
      "[0.25517239 0.84574225], -925505.5773148289\n",
      "[0.25491046 0.84607109], -925513.4302474932\n",
      "[0.25504141 0.8460595 ], -925482.3146539205\n",
      "[0.25550755 0.84580491], -925496.0430020187\n",
      "[0.2557072  0.84557926], -925470.1860962067\n",
      "[0.25520128 0.84553024], -925480.0696396638\n",
      "[0.25457739 0.84550009], -925448.8274861404\n",
      "[0.25437437 0.84529132], -925463.7839842776\n",
      "[0.25457565 0.84487063], -925436.7461259933\n",
      "[0.25437076 0.84441764], -925450.5218186368\n",
      "[0.25332354 0.84444041], -925421.6470335454\n",
      "[0.25254158 0.84487655], -925424.6475494053\n",
      "[0.25243412 0.84493665], -925388.1340378326\n",
      "[0.25207826 0.84486311], -925399.7150112524\n",
      "[0.25177862 0.8445574 ], -925371.676970149\n",
      "[0.2514369  0.84418753], -925374.7351413907\n",
      "[0.25079145 0.84379982], -925340.7589534103\n",
      "[0.24990704 0.84311646], -925352.3755725435\n",
      "[0.24955967 0.84215348], -925323.9865142015\n",
      "[0.24940964 0.84086374], -925341.8793205055\n",
      "[0.24915431 0.840109  ], -925318.3287080205\n",
      "[0.24866058 0.83967601], -925342.5242813888\n",
      "[0.24845063 0.83981855], -925323.5884052846\n",
      "[0.24879411 0.84006268], -925339.8449812451\n",
      "[0.24965645 0.84058644], -925312.4534489973\n",
      "[0.25047335 0.84156285], -925319.7120858633\n",
      "[0.250724   0.84297938], -925285.096452294\n",
      "[0.25116708 0.84408723], -925287.723112761\n",
      "[0.25191424 0.84474837], -925250.0243837504\n",
      "[0.25265178 0.84549808], -925261.0297290372\n",
      "[0.25308103 0.84590163], -925235.0698295216\n",
      "[0.25305639 0.84606066], -925258.3951605827\n",
      "[0.25330871 0.84555008], -925242.3775658937\n",
      "[0.25373898 0.84501828], -925276.193564391\n",
      "[0.25376395 0.84446025], -925269.611790655\n",
      "[0.25366184 0.84426871], -925303.3510419083\n",
      "[0.25363351 0.84405545], -925295.1880188143\n",
      "[0.25387432 0.8437572 ], -925323.6715967265\n",
      "[0.25430585 0.84357342], -925312.442300684\n",
      "[0.25448986 0.84373783], -925349.8925212737\n",
      "[0.2544918 0.8441592], -925348.8960376504\n",
      "[0.25459683 0.84457506], -925400.1508384364\n",
      "[0.25534476 0.84454138], -925410.103903039\n",
      "[0.25597262 0.84457995], -925463.9222882342\n",
      "[0.25653777 0.84444781], -925476.5444148583\n",
      "[0.25673397 0.84421629], -925532.147740669\n",
      "[0.25675232 0.84390138], -925544.1223749692\n",
      "[0.25680928 0.84343786], -925589.6961729984\n",
      "[0.25683948 0.84291405], -925590.9711168073\n",
      "[0.25645826 0.84236966], -925632.3018275052\n",
      "[0.25645635 0.84175344], -925631.482688797\n",
      "[0.25642382 0.84102529], -925672.3686885268\n",
      "[0.25640279 0.84060752], -925674.0278262357\n",
      "[0.25645841 0.8403379 ], -925718.9202423694\n",
      "[0.25591874 0.84073537], -925721.752259647\n",
      "[0.25568148 0.8412753 ], -925767.3580634546\n",
      "[0.25633203 0.8414106 ], -925770.4347658926\n",
      "[0.25737233 0.84134205], -925821.367967235\n",
      "[0.25727961 0.841757  ], -925826.6170396985\n",
      "[0.25680421 0.84253325], -925868.3011119462\n",
      "[0.256761  0.8427307], -925869.4350733495\n",
      "[0.25725452 0.84224409], -925909.6366108805\n",
      "[0.25793687 0.84135487], -925909.4358898082\n",
      "[0.25817789 0.84075576], -925952.3687019931\n",
      "[0.25708937 0.84082999], -925949.2017493721\n",
      "[0.25633118 0.84103323], -925987.9240568723\n",
      "[0.25688904 0.84053591], -925978.4677394989\n",
      "[0.25739906 0.84015417], -926012.520113774\n",
      "[0.25728935 0.84013914], -926005.0605890263\n",
      "[0.25668452 0.84054967], -926044.6292296158\n",
      "[0.2562507 0.8407793], -926044.5939908918\n",
      "[0.25653526 0.84059112], -926087.1607309486\n",
      "[0.25709422 0.840038  ], -926086.9375215019\n",
      "[0.257386   0.83965807], -926122.625344686\n",
      "[0.25666576 0.83968248], -926111.7044338145\n",
      "[0.25600122 0.83943549], -926148.3928878638\n",
      "[0.25624571 0.8386739 ], -926140.3154093217\n",
      "[0.25664845 0.83760658], -926172.9838470264\n",
      "[0.25667643 0.8370555 ], -926161.3455411779\n",
      "[0.25651175 0.83677441], -926189.8134634761\n",
      "[0.25640523 0.83700973], -926173.7035198208\n",
      "[0.25662803 0.83719274], -926195.5163971455\n",
      "[0.25754394 0.83760271], -926171.990023535\n",
      "[0.25826382 0.83843272], -926187.8303668937\n",
      "[0.25867975 0.839792  ], -926162.016510339\n",
      "[0.25884219 0.84115617], -926175.6076489784\n",
      "[0.25982889 0.84196397], -926144.2016180652\n",
      "[0.26092966 0.8421363 ], -926155.7558032535\n",
      "[0.26106194 0.84244035], -926123.4840450063\n",
      "[0.26049199 0.84275579], -926134.4272101395\n",
      "[0.25995465 0.84255676], -926105.5083801736\n",
      "[0.25978279 0.84161978], -926110.4782735192\n",
      "[0.26012585 0.8401408 ], -926075.5047446024\n",
      "[0.25973388 0.83889848], -926087.6030400826\n",
      "[0.25850805 0.83829335], -926054.7471454642\n",
      "[0.25756074 0.83779158], -926065.6598181867\n",
      "[0.25770716 0.83713719], -926030.511483495\n",
      "[0.2580542  0.83680699], -926036.5214300834\n",
      "[0.25805766 0.83723469], -925998.8174748141\n",
      "[0.25764094 0.83767437], -926010.812578848\n",
      "[0.25760483 0.83821663], -925980.5784760149\n",
      "[0.25818229 0.83845866], -925987.423274574\n",
      "[0.25882325 0.83867126], -925950.6606988619\n",
      "[0.25911873 0.83891147], -925963.3067881407\n",
      "[0.25861875 0.83949153], -925934.8294558069\n",
      "[0.25829302 0.8396489 ], -925951.0680111949\n",
      "[0.25929014 0.83900878], -925921.6095782617\n",
      "[0.2598798 0.8384197], -925936.1891985977\n",
      "[0.25974887 0.83842299], -925904.2142861282\n",
      "[0.25918994 0.83839739], -925919.2936944321\n",
      "[0.25918365 0.83837803], -925891.9688587756\n",
      "[0.25974235 0.83810878], -925907.9379323454\n",
      "[0.26038681 0.83814106], -925882.7138330967\n",
      "[0.26055081 0.83811048], -925898.2912397733\n",
      "[0.26009666 0.83862161], -925868.8117403252\n",
      "[0.25981821 0.83929191], -925891.9052953301\n",
      "[0.26035127 0.83958469], -925867.7918728635\n",
      "[0.26078408 0.83944039], -925885.7251808617\n",
      "[0.26034544 0.83968418], -925859.6099800889\n",
      "[0.25993815 0.83978399], -925876.4967849304\n",
      "[0.25944201 0.83970732], -925852.1444308448\n",
      "[0.25904132 0.8393622 ], -925874.4265490103\n",
      "[0.25897054 0.83870105], -925853.4773086294\n",
      "[0.25885361 0.8382806 ], -925876.7217064569\n",
      "[0.25854698 0.83789528], -925858.014359649\n",
      "[0.25826557 0.83776935], -925885.0889486566\n",
      "[0.25811828 0.83757468], -925871.0747243693\n",
      "[0.2579841 0.8372583], -925897.3496184774\n",
      "[0.25798422 0.83695723], -925879.4208419739\n",
      "[0.25771583 0.83670693], -925899.1133908682\n",
      "[0.25756473 0.83662699], -925875.3924815017\n",
      "[0.25732904 0.83644124], -925891.1582199102\n",
      "[0.25733445 0.83639657], -925863.6213632579\n",
      "[0.25733833 0.83680778], -925879.4541687894\n",
      "[0.25729189 0.83738579], -925853.9173962353\n",
      "[0.25744085 0.83820814], -925868.1228762885\n",
      "[0.25761627 0.83883912], -925840.6547668023\n",
      "[0.25786512 0.83948286], -925858.6615620349\n",
      "[0.25789591 0.83983814], -925834.768522097\n",
      "[0.25724562 0.84002223], -925851.43461018\n",
      "[0.25691215 0.83948772], -925826.6833103291\n",
      "[0.25668355 0.83852185], -925848.4720327939\n",
      "[0.25663559 0.83725824], -925826.9742094724\n",
      "[0.25635625 0.83596968], -925846.7166033305\n",
      "[0.25537083 0.83544578], -925816.656176977\n",
      "[0.25501658 0.83541367], -925828.2393524429\n",
      "[0.25553419 0.83556318], -925791.6258373765\n",
      "[0.25633734 0.83610174], -925793.4329134875\n",
      "[0.2569656  0.83714475], -925750.8017643007\n",
      "[0.25717515 0.83840193], -925758.8117377305\n",
      "[0.25759163 0.83948424], -925722.5414584974\n",
      "[0.2582088  0.84010313], -925721.1799793049\n",
      "[0.25847842 0.84050801], -925675.3415661369\n",
      "[0.2584526  0.84074427], -925671.800255553\n",
      "[0.25804427 0.84066563], -925624.4791425659\n",
      "[0.25799793 0.84034479], -925624.9944593963\n",
      "[0.25820759 0.83963254], -925583.7330356087\n",
      "[0.25808998 0.83889904], -925589.3514923229\n",
      "[0.25749745 0.83851246], -925551.7217650769\n",
      "[0.25718614 0.83787309], -925563.3097090296\n",
      "[0.25711479 0.83751362], -925530.885924573\n",
      "[0.25669404 0.83734166], -925548.1836061935\n",
      "[0.25682761 0.83740328], -925522.656298924\n",
      "[0.25693103 0.8377934 ], -925539.818156774\n",
      "[0.25694726 0.83859387], -925510.9699659875\n",
      "[0.25715253 0.83961671], -925528.8500670146\n",
      "[0.25771854 0.84035056], -925501.7110983181\n",
      "[0.25823873 0.84069417], -925519.0804361386\n",
      "[0.25826743 0.8409696 ], -925489.818841814\n",
      "[0.25779002 0.84138054], -925505.1190780854\n",
      "[0.25813982 0.84107665], -925473.701499497\n",
      "[0.25872785 0.8408516 ], -925488.6222003582\n",
      "[0.2593857  0.84050141], -925460.1409965138\n",
      "[0.25929085 0.84022995], -925467.9916246322\n",
      "[0.25861784 0.84039034], -925432.5393328182\n",
      "[0.25826267 0.84015633], -925446.4322936349\n",
      "[0.25861195 0.83978119], -925417.5493514944\n",
      "[0.25895962 0.83943947], -925435.4564154079\n",
      "[0.25836594 0.83988802], -925412.6922942059\n",
      "[0.25788782 0.84018158], -925440.8757203958\n",
      "[0.25770856 0.84043356], -925430.7572753902\n",
      "[0.25758439 0.84042948], -925466.4401579514\n",
      "[0.25763456 0.84030444], -925460.2290367691\n",
      "[0.25798921 0.84049058], -925505.5661113315\n",
      "[0.25757867 0.84099335], -925507.0818948963\n",
      "[0.25717281 0.84099274], -925553.1808328746\n",
      "[0.25747692 0.84047309], -925553.5632540174\n",
      "[0.25777277 0.8399609 ], -925603.6852752226\n",
      "[0.25773866 0.83981961], -925609.8530694691\n",
      "[0.2577498  0.83989316], -925659.4831713095\n",
      "[0.25799784 0.84013679], -925665.9663892603\n",
      "[0.25825868 0.84021535], -925707.5903400121\n",
      "[0.25876317 0.84044305], -925702.9537780724\n",
      "[0.25925829 0.840886  ], -925739.86026144\n",
      "[0.25909631 0.84171582], -925730.374380257\n",
      "[0.2587337  0.84226151], -925769.4256985286\n",
      "[0.25852011 0.84241045], -925766.0654408627\n",
      "[0.25876797 0.84179984], -925810.5265202895\n",
      "[0.25836733 0.84115437], -925808.2350034988\n",
      "[0.25740824 0.84068149], -925847.9976460298\n",
      "[0.25647121 0.84008624], -925840.6804184488\n",
      "[0.25578372 0.83951193], -925881.3996175864\n",
      "[0.256101   0.83867585], -925873.0458191269\n",
      "[0.25649555 0.8383499 ], -925904.3084232968\n",
      "[0.25638324 0.83887003], -925890.4977044417\n",
      "[0.25608976 0.83968001], -925922.075819673\n",
      "[0.25642206 0.84054206], -925913.2577914714\n",
      "[0.25690283 0.84157941], -925956.4143088381\n",
      "[0.25804189 0.8424386 ], -925956.3631709705\n",
      "[0.25877877 0.84335991], -926010.0278841126\n",
      "[0.25904705 0.84445665], -926022.1003634161\n",
      "[0.25896303 0.84541956], -926082.9237163204\n",
      "[0.25958551 0.84569192], -926095.9278359457\n",
      "[0.26009807 0.84617611], -926150.172957875\n",
      "[0.26059624 0.84623322], -926158.9401586561\n",
      "[0.26080748 0.84635975], -926200.2123845477\n",
      "[0.26023028 0.84649318], -926193.8549760171\n",
      "[0.25984638 0.84611138], -926224.212517079\n",
      "[0.25980482 0.84531347], -926209.6783202878\n",
      "[0.25981719 0.84420291], -926243.651403767\n",
      "[0.25913434 0.84350978], -926231.6359613835\n",
      "[0.25806351 0.8434818 ], -926264.8261157465\n",
      "[0.257636   0.84329291], -926251.2992343397\n",
      "[0.25764367 0.84315662], -926286.3390875399\n",
      "[0.25826901 0.84288132], -926273.2756456333\n",
      "[0.25846954 0.84303313], -926297.1380834422\n",
      "[0.25801117 0.84369813], -926271.7821310578\n",
      "[0.25756769 0.84415564], -926294.2788508725\n",
      "[0.25823275 0.84393201], -926267.116270571\n",
      "[0.25929203 0.84390438], -926291.0458656519\n",
      "[0.25918043 0.84434646], -926264.4420211512\n",
      "[0.25850527 0.84494633], -926278.9657449633\n",
      "[0.25825687 0.84501208], -926246.5602855441\n",
      "[0.25842296 0.84485433], -926259.3581896622\n",
      "[0.25928496 0.84402088], -926227.9684145375\n",
      "[0.25941666 0.84302478], -926239.8377336181\n",
      "[0.25816792 0.84269429], -926206.1553628512\n",
      "[0.25714556 0.84226525], -926212.3855019541\n",
      "[0.2572526  0.84136188], -926175.7164023882\n",
      "[0.25753437 0.84052364], -926183.6107269046\n",
      "[0.25730797 0.84038024], -926147.5771544693\n",
      "[0.25686169 0.84088544], -926155.152848599\n",
      "[0.2570804 0.8413444], -926117.2113162292\n",
      "[0.257494   0.84177499], -926123.7520668822\n",
      "[0.25817074 0.84208428], -926085.8702916967\n",
      "[0.25828838 0.8428116 ], -926101.1132453231\n",
      "[0.25818274 0.84345548], -926072.7662330423\n",
      "[0.25787226 0.8442368 ], -926083.3159976357\n",
      "[0.25858764 0.84413566], -926046.0056844192\n",
      "[0.25944027 0.84434621], -926061.6753851003\n",
      "[0.25900973 0.84492773], -926032.6326744852\n",
      "[0.25812977 0.84564489], -926046.9354574515\n",
      "[0.25780978 0.84554833], -926017.7322653548\n",
      "[0.25780135 0.84516639], -926036.1119998163\n",
      "[0.25757348 0.8444357 ], -926011.8773948377\n",
      "[0.25679599 0.84371573], -926025.936310542\n",
      "[0.25514507 0.8431882 ], -925995.6261852203\n",
      "[0.25383388 0.84253117], -926014.6600213305\n",
      "[0.2535797  0.84126803], -925988.7572333284\n",
      "[0.25333482 0.84024708], -926010.6668667994\n",
      "[0.25201112 0.83990176], -925986.0845744569\n",
      "[0.25077474 0.83919726], -926002.821292747\n",
      "[0.25011013 0.83849053], -925975.8263650049\n",
      "[0.24999239 0.83762084], -925992.5209515594\n",
      "[0.24973706 0.83737529], -925964.5884013155\n",
      "[0.24946624 0.83756139], -925988.4677034331\n",
      "[0.24939158 0.83819761], -925970.1877157466\n",
      "[0.24986537 0.83915098], -926002.0835102014\n",
      "[0.25091416 0.84020826], -925992.5931622352\n",
      "[0.25158229 0.84148334], -926025.9772684951\n",
      "[0.25204815 0.84294827], -926015.0605072819\n",
      "[0.25234893 0.84463765], -926048.5895137502\n",
      "[0.25341725 0.8455139 ], -926039.4084017723\n",
      "[0.25405149 0.84598482], -926077.0280599159\n",
      "[0.2538428  0.84604384], -926071.3175360913\n",
      "[0.25309009 0.84563583], -926115.0628911159\n",
      "[0.25220392 0.84453435], -926114.6576754873\n",
      "[0.25141515 0.84279423], -926153.3243279418\n",
      "[0.25021686 0.84099787], -926146.8600725495\n",
      "[0.24890046 0.83929518], -926179.1906065671\n",
      "[0.247373   0.83797924], -926166.3385123038\n",
      "[0.24594631 0.83669997], -926204.4032630629\n",
      "[0.24501728 0.83589311], -926194.1733246627\n",
      "[0.24437658 0.83565804], -926228.2926786572\n",
      "[0.24373862 0.83618625], -926215.3818690187\n",
      "[0.24329011 0.83674668], -926236.4578150383\n",
      "[0.2431608  0.83757461], -926215.4994164378\n",
      "[0.24308418 0.83847916], -926234.1848692038\n",
      "[0.24281671 0.83938945], -926208.7967646176\n",
      "[0.24263815 0.84009665], -926236.2103690731\n",
      "[0.2423608  0.84030441], -926217.4780920603\n",
      "[0.24169933 0.84030057], -926243.0714858272\n",
      "[0.24115417 0.83970603], -926224.0669844571\n",
      "[0.24062835 0.83888058], -926250.6205700977\n",
      "[0.23983048 0.83810806], -926234.5580611188\n",
      "[0.23876511 0.83751035], -926259.052132925\n",
      "[0.23823449 0.83702516], -926242.6039278625\n",
      "[0.23783146 0.83699323], -926266.5371273693\n",
      "[0.23838241 0.83701693], -926245.5399533828\n",
      "[0.23874418 0.83745144], -926269.941184261\n",
      "[0.23844361 0.8386741 ], -926246.2588744005\n",
      "[0.2381511  0.83993447], -926262.4754923022\n",
      "[0.23929492 0.84052681], -926230.5908507254\n",
      "[0.2404971 0.8411912], -926243.8373289212\n",
      "[0.24073689 0.84223203], -926213.8528632256\n",
      "[0.24077109 0.84320794], -926237.4959791782\n",
      "[0.24072902 0.84392211], -926218.0438443554\n",
      "[0.24078256 0.84435887], -926238.9541683994\n",
      "[0.2412626  0.84417219], -926212.5262054654\n",
      "[0.24173831 0.84391713], -926230.8651525817\n",
      "[0.24059488 0.84416595], -926198.4913227713\n",
      "[0.2395327  0.84398643], -926211.23989868\n",
      "[0.23918573 0.8431638 ], -926177.2852778074\n",
      "[0.23913599 0.84207435], -926196.4599940423\n",
      "[0.23876093 0.84130765], -926170.2716636298\n",
      "[0.23843497 0.8410169 ], -926185.329197989\n",
      "[0.23812734 0.8411799 ], -926156.5472214066\n",
      "[0.23808432 0.84143024], -926174.9854120523\n",
      "[0.23925666 0.84146507], -926149.080715848\n",
      "[0.2401508  0.84165226], -926175.9036134281\n",
      "[0.23995238 0.84279312], -926154.7340781854\n",
      "[0.23931966 0.84404094], -926180.2835015074\n",
      "[0.24057742 0.84448838], -926154.398193288\n",
      "[0.24216292 0.84526861], -926176.2974146863\n",
      "[0.24266171 0.84656611], -926153.8937756253\n",
      "[0.24233547 0.84799632], -926167.4830045763\n",
      "[0.24226236 0.84883125], -926136.7515879949\n",
      "[0.24267143 0.84895606], -926150.4993487223\n",
      "[0.24364339 0.84810837], -926116.6364777075\n",
      "[0.24385175 0.84703856], -926113.7295637784\n",
      "[0.24209766 0.84670433], -926058.0734706761\n",
      "[0.24054621 0.84630314], -926058.5386827374\n",
      "[0.24126346 0.8448398 ], -926007.0442852856\n",
      "[0.24212878 0.84303338], -926009.5333222458\n",
      "[0.24115914 0.84278068], -925963.8396549298\n",
      "[0.2399709  0.84297392], -925970.9373761066\n",
      "[0.24003764 0.8432147 ], -925937.6475337872\n",
      "[0.24111508 0.84332281], -925946.7034275059\n",
      "[0.24225445 0.84385732], -925915.5031152813\n",
      "[0.24286655 0.84491895], -925934.8682643867\n",
      "[0.24279424 0.84641856], -925907.8485412317\n",
      "[0.24300376 0.84748467], -925924.8303610473\n",
      "[0.24465462 0.84761659], -925894.1452172304\n",
      "[0.24584734 0.84752654], -925909.7388423461\n",
      "[0.24560544 0.84808975], -925879.8077174135\n",
      "[0.24497359 0.84866745], -925896.3365942996\n",
      "[0.24500993 0.84875518], -925866.4777405496\n",
      "[0.24524914 0.84858475], -925873.4900363835\n",
      "[0.2452354  0.84841031], -925835.4640253636\n",
      "[0.24460267 0.84834381], -925843.8814491789\n",
      "[0.24330964 0.84856786], -925808.5185643627\n",
      "[0.24242865 0.84849862], -925818.1712297631\n",
      "[0.24282029 0.84763088], -925784.3444839645\n",
      "[0.24329647 0.84660177], -925797.1769272904\n",
      "[0.24244097 0.84632741], -925764.1312651497\n",
      "[0.24161868 0.84598768], -925767.6718406901\n",
      "[0.24129359 0.84566143], -925728.7499374103\n",
      "[0.24148616 0.84520654], -925736.9709644776\n",
      "[0.24200689 0.84513777], -925702.524541925\n",
      "[0.2422486  0.84519378], -925718.42649697\n",
      "[0.24188418 0.84610979], -925691.9449846179\n",
      "[0.24186384 0.84706757], -925715.1925322496\n",
      "[0.24305284 0.8476839 ], -925693.4983648737\n",
      "[0.24436307 0.84850406], -925716.8532512843\n",
      "[0.24442474 0.84985129], -925695.5843945541\n",
      "[0.24419989 0.85098078], -925718.0317883083\n",
      "[0.24423668 0.85128355], -925696.4506042668\n",
      "[0.24424325 0.85137916], -925715.0247072482\n",
      "[0.24453838 0.8505164 ], -925687.2732454308\n",
      "[0.24468856 0.84975648], -925700.2538907571\n",
      "[0.24427548 0.84873489], -925670.7453092869\n",
      "[0.2437353  0.84707836], -925689.0250920648\n",
      "[0.24341065 0.8453893 ], -925665.7007748476\n",
      "[0.24323347 0.84408276], -925687.1036253162\n",
      "[0.24324719 0.84333494], -925665.885822375\n",
      "[0.24324413 0.84321688], -925689.351681286\n",
      "[0.24366152 0.84370891], -925670.755780669\n",
      "[0.24414933 0.8446073 ], -925685.3707571831\n",
      "[0.24510295 0.84567791], -925658.0080578078\n",
      "[0.24555236 0.84671489], -925675.3423759384\n",
      "[0.24594129 0.84760302], -925650.9251558639\n",
      "[0.24611593 0.84807103], -925681.9215963406\n",
      "[0.2465236  0.84794887], -925673.7921099243\n",
      "[0.24742573 0.8472729 ], -925713.0250313225\n",
      "[0.24713396 0.84697246], -925707.0758298334\n",
      "[0.24666194 0.8466461 ], -925738.7008037112\n",
      "[0.24642475 0.8461686 ], -925723.8340263999\n",
      "[0.2468137  0.84555058], -925746.527927759\n",
      "[0.24744255 0.84506655], -925724.7356391955\n",
      "[0.24793122 0.84485085], -925757.6102554831\n",
      "[0.24767472 0.84540908], -925746.4721783596\n",
      "[0.24769852 0.84603336], -925788.9204836402\n",
      "[0.24884425 0.8462075 ], -925785.7591996283\n",
      "[0.25009853 0.84630627], -925834.7684110402\n",
      "[0.25007608 0.84706277], -925837.7738386347\n",
      "[0.24957169 0.84750481], -925881.0978297764\n",
      "[0.24978577 0.84736959], -925880.2013807915\n",
      "[0.25048928 0.84717811], -925923.317205329\n",
      "[0.25135268 0.8466872 ], -925921.985722353\n",
      "[0.2516113  0.84629008], -925964.1720515167\n",
      "[0.25086524 0.84636696], -925957.5965503562\n",
      "[0.25004002 0.84636356], -925995.7962615498\n",
      "[0.2507112  0.84559574], -925983.8483020661\n",
      "[0.25129531 0.84514261], -926019.8803805553\n",
      "[0.25118372 0.84520183], -926010.1500152543\n",
      "[0.25051064 0.84535968], -926044.7841197305\n",
      "[0.24998632 0.84548081], -926035.8114832789\n",
      "[0.24972164 0.84541352], -926061.1674684867\n",
      "[0.25043864 0.84481899], -926041.860402417\n",
      "[0.25102417 0.84438501], -926065.0406529761\n",
      "[0.25038157 0.84467986], -926042.7805607987\n",
      "[0.24958288 0.84506741], -926072.3260130225\n",
      "[0.25013867 0.84477148], -926052.1852812954\n",
      "[0.25144707 0.84416425], -926082.7730658262\n",
      "[0.25181503 0.84413846], -926066.850251227\n",
      "[0.2515405  0.84409749], -926099.4487662747\n",
      "[0.25079332 0.84438997], -926091.155139863\n",
      "[0.25098979 0.84437205], -926128.5223391533\n",
      "[0.25229773 0.84376415], -926123.724168895\n",
      "[0.2532617  0.84351141], -926164.8269330349\n",
      "[0.25231215 0.84421833], -926155.2399915144\n",
      "[0.25165756 0.84502461], -926191.5252186455\n",
      "[0.25232699 0.84485059], -926180.9089128475\n",
      "[0.25354782 0.84394418], -926224.0378662697\n",
      "[0.25350658 0.84349738], -926224.7508143574\n",
      "[0.25293541 0.84333807], -926266.1263802133\n",
      "[0.25206057 0.84320343], -926264.0390165987\n",
      "[0.25164552 0.84281363], -926315.3650329502\n",
      "[0.25288542 0.84157896], -926315.3263284707\n",
      "[0.25366337 0.84061752], -926359.4932767465\n",
      "[0.25290785 0.84073062], -926355.3444850099\n",
      "[0.25195928 0.84110394], -926402.0275634377\n",
      "[0.25248342 0.8409261 ], -926406.8481836143\n",
      "[0.25329406 0.84103241], -926447.8604194459\n",
      "[0.25438665 0.84117255], -926448.5380069789\n",
      "[0.25494818 0.84180193], -926500.0049751161\n",
      "[0.25426262 0.84303135], -926506.7049425467\n",
      "[0.25367818 0.84372838], -926564.9528739951\n",
      "[0.25478845 0.84309101], -926576.7716025242\n",
      "[0.25592093 0.84237941], -926633.1082989788\n",
      "[0.25582805 0.84202079], -926644.2524782384\n",
      "[0.25537076 0.84144085], -926699.0548735312\n",
      "[0.25483171 0.84080306], -926706.3368633704\n",
      "[0.25484182 0.83970396], -926741.2573092392\n",
      "[0.25542489 0.83850077], -926728.0597637211\n",
      "[0.25533132 0.83764659], -926761.4599273142\n",
      "[0.2548438  0.83762172], -926753.4905827679\n",
      "[0.25458537 0.83781966], -926790.3418021098\n",
      "[0.25588012 0.83772224], -926780.7585136453\n",
      "[0.25773455 0.83799748], -926814.6911748684\n",
      "[0.25850883 0.83923787], -926801.7910003529\n",
      "[0.25871965 0.84090678], -926837.0710490845\n",
      "[0.25896405 0.84236139], -926829.9992744301\n",
      "[0.25957254 0.84289135], -926867.963310115\n",
      "[0.26079907 0.84252811], -926861.2014771049\n",
      "[0.26141875 0.84209308], -926890.8105039917\n",
      "[0.26049954 0.84211079], -926872.9199764611\n",
      "[0.25950825 0.84209882], -926892.8359491474\n",
      "[0.25946813 0.84135691], -926866.81992809\n",
      "[0.25992227 0.84056984], -926887.0467051134\n",
      "[0.2601209  0.84007421], -926865.4507135291\n",
      "[0.25981303 0.84024215], -926885.9195209892\n",
      "[0.25910158 0.84096754], -926865.3691931124\n",
      "[0.25900407 0.84149626], -926882.98675759\n",
      "[0.25991526 0.84172823], -926856.6014686563\n",
      "[0.26113718 0.84228727], -926883.6984945014\n",
      "[0.2608813  0.84380708], -926863.6836788545\n",
      "[0.26009661 0.84544845], -926884.7689534501\n",
      "[0.26029722 0.84626685], -926861.896215735\n",
      "[0.26106835 0.84663379], -926879.8196728476\n",
      "[0.26195219 0.84645138], -926854.8600973173\n",
      "[0.26209189 0.84616213], -926867.7633322144\n",
      "[0.26082111 0.84623511], -926833.5062551694\n",
      "[0.25971538 0.84595006], -926839.2055607587\n",
      "[0.25965636 0.8448081 ], -926801.5727118127\n",
      "[0.25957708 0.8438994 ], -926807.2473275573\n",
      "[0.2590575  0.84328976], -926771.8744828302\n",
      "[0.25835188 0.84303488], -926774.1914984152\n",
      "[0.25734346 0.84309126], -926734.2305993527\n",
      "[0.25646303 0.84292799], -926736.3409425917\n",
      "[0.25663774 0.84242913], -926694.3914174249\n",
      "[0.25703367 0.84213896], -926692.5170473021\n",
      "[0.25665402 0.84257029], -926645.9265279254\n",
      "[0.25612125 0.84345532], -926652.233324391\n",
      "[0.25572663 0.84419144], -926615.7498093033\n",
      "[0.25569154 0.84472327], -926620.9185878325\n",
      "[0.25618486 0.84452887], -926582.043945596\n",
      "[0.25619706 0.84449212], -926579.0919102636\n",
      "[0.2555236  0.84436605], -926530.5181640238\n",
      "[0.25464612 0.84392522], -926515.5733579047\n",
      "[0.25436306 0.84303397], -926456.012888834\n",
      "[0.25393459 0.84195847], -926449.1089338695\n",
      "[0.25343843 0.84129062], -926398.5603427086\n",
      "[0.25330866 0.84093836], -926398.0837178613\n",
      "[0.25291154 0.84130765], -926354.0478876017\n",
      "[0.25263665 0.84182321], -926355.8173454792\n",
      "[0.25285284 0.84242484], -926317.3182837978\n",
      "[0.25323936 0.84309742], -926321.2075297515\n",
      "[0.25313685 0.84389094], -926283.260444117\n",
      "[0.25280016 0.84453009], -926287.0869225258\n",
      "[0.25262361 0.84453658], -926249.6866091467\n",
      "[0.25239847 0.84457323], -926262.6980324717\n",
      "[0.25198016 0.84409534], -926232.2483107443\n",
      "[0.25171025 0.84318916], -926246.1121126937\n",
      "[0.2511684  0.84212642], -926216.6032614954\n",
      "[0.25042589 0.84157918], -926232.3490982682\n",
      "[0.25010572 0.84084714], -926207.0068039605\n",
      "[0.25033724 0.83997833], -926226.284775137\n",
      "[0.25040768 0.83966602], -926205.2572871841\n",
      "[0.25053039 0.83995614], -926229.8459730069\n",
      "[0.25027911 0.84108716], -926210.8156788849\n",
      "[0.25032111 0.84204883], -926231.8486247633\n",
      "[0.25112262 0.84296821], -926206.8816487063\n",
      "[0.25164862 0.84404295], -926225.4391616507\n",
      "[0.25152078 0.84547722], -926199.4115837072\n",
      "[0.25140018 0.8470566 ], -926209.7174675016\n",
      "[0.2518324  0.84788451], -926175.7789144886\n",
      "[0.25244064 0.84827228], -926187.6185057117\n",
      "[0.25257868 0.84821246], -926155.8500628746\n",
      "[0.25258444 0.84819508], -926166.7442460839\n",
      "[0.25175271 0.84806869], -926135.3520969397\n",
      "[0.25130938 0.84774043], -926147.8250586503\n",
      "[0.25126632 0.84684978], -926118.2686631889\n",
      "[0.2514176  0.84575399], -926142.1308201317\n",
      "[0.25064832 0.84518608], -926124.2912241744\n",
      "[0.24999014 0.84501053], -926141.8175070828\n",
      "[0.24960083 0.8448904 ], -926115.5425658334\n",
      "[0.24972694 0.84498821], -926144.6288542686\n",
      "[0.25009819 0.84505929], -926130.0065101042\n",
      "[0.2503857 0.8449848], -926156.9578648508\n",
      "[0.24999587 0.84520655], -926137.9420123512\n",
      "[0.24947252 0.84578524], -926155.2159476067\n",
      "[0.24951922 0.84569087], -926128.721812544\n",
      "[0.24971151 0.84516944], -926147.0214993535\n",
      "[0.24974564 0.84437705], -926120.6322704544\n",
      "[0.24967068 0.84358852], -926139.4779968554\n",
      "[0.24910079 0.84293742], -926118.0075806777\n",
      "[0.24887462 0.84220471], -926138.2491774606\n",
      "[0.24935007 0.84131942], -926115.2378033986\n",
      "[0.25000532 0.84042832], -926128.572899684\n",
      "[0.24977741 0.8405118 ], -926098.5448984185\n",
      "[0.24933864 0.84106688], -926115.0494211263\n",
      "[0.24965285 0.84161732], -926090.3862535567\n",
      "[0.25045768 0.8421593 ], -926106.6364167243\n",
      "[0.25146509 0.84254707], -926081.85761332\n",
      "[0.25209864 0.84342162], -926094.2846870569\n",
      "[0.25198749 0.84406114], -926063.3811474234\n",
      "[0.25197639 0.84436109], -926075.4535368312\n",
      "[0.252028   0.84368724], -926042.0329882773\n",
      "[0.25216164 0.8427175 ], -926051.4378631951\n",
      "[0.25195471 0.84127516], -926020.5800047168\n",
      "[0.2514658  0.83990681], -926027.5759831781\n",
      "[0.25056192 0.83872436], -925994.2785600652\n",
      "[0.24983919 0.83773775], -926004.82359136\n",
      "[0.24955774 0.83681286], -925974.5899288069\n",
      "[0.24929988 0.83607517], -925990.3479943386\n",
      "[0.24866318 0.83595596], -925964.3289447116\n",
      "[0.24812605 0.83612482], -925976.3346272816\n",
      "[0.24785733 0.83633073], -925947.3968850214\n",
      "[0.24813537 0.83646739], -925959.9069512058\n",
      "[0.24825688 0.83662583], -925931.0370388326\n",
      "[0.24788712 0.83667081], -925940.9128803815\n",
      "[0.24761406 0.83654434], -925907.7461599597\n",
      "[0.24748669 0.83601372], -925915.541329654\n",
      "[0.24780252 0.83533773], -925882.4655644607\n",
      "[0.24804034 0.83454192], -925890.2522880961\n",
      "[0.24744875 0.83452501], -925857.7966458082\n",
      "[0.24708609 0.83480194], -925867.567218463\n",
      "[0.24768027 0.83483513], -925835.5711324852\n",
      "[0.2487782  0.83477581], -925852.1568155256\n",
      "[0.24863272 0.83555781], -925827.2500584091\n",
      "[0.247944  0.8366832], -925847.0324036162\n",
      "[0.24777401 0.83718129], -925829.6914114401\n",
      "[0.2482202  0.83727483], -925857.196441489\n",
      "[0.24886674 0.83665262], -925846.0212529249\n",
      "[0.24881588 0.83610488], -925879.9932323138\n",
      "[0.24692418 0.83591879], -925868.7874988465\n",
      "[0.24510273 0.83536604], -925907.9464485089\n",
      "[0.24530757 0.83332306], -925895.8114196265\n",
      "[0.24594062 0.83126773], -925922.3046686506\n",
      "[0.2450798  0.83029653], -925904.1047784963\n",
      "[0.24359803 0.8300252 ], -925924.5734808607\n",
      "[0.24281332 0.83000093], -925905.2067701502\n",
      "[0.24292879 0.82950946], -925922.0259692442\n",
      "[0.24436395 0.82908862], -925897.6284226532\n",
      "[0.24524616 0.82951635], -925919.775102853\n",
      "[0.24420115 0.83167267], -925891.6179303267\n",
      "[0.24344868 0.83348902], -925912.1883943361\n",
      "[0.24503911 0.83408637], -925880.2173329451\n",
      "[0.24664044 0.83437235], -925898.8116821724\n",
      "[0.24648777 0.8352551 ], -925869.8106306851\n",
      "[0.24568962 0.83621313], -925882.3656461447\n",
      "[0.24505062 0.83653613], -925857.965205746\n",
      "[0.24508906 0.83597018], -925874.7167612062\n",
      "[0.24572056 0.83474018], -925853.7948103343\n",
      "[0.24565314 0.83394564], -925879.656984317\n",
      "[0.24399946 0.83397088], -925860.9246255299\n",
      "[0.24246543 0.8342903 ], -925884.5343343996\n",
      "[0.2427785 0.8337169], -925858.5840306876\n",
      "[0.24344439 0.83328108], -925879.856660152\n",
      "[0.24317058 0.83340858], -925860.570929824\n",
      "[0.24209451 0.83394791], -925872.1357246444\n",
      "[0.24111886 0.83441042], -925845.183820894\n",
      "[0.24070259 0.83401793], -925856.8204805672\n",
      "[0.24135014 0.83302114], -925827.1500443644\n",
      "[0.24115769 0.8322599 ], -925846.7268141386\n",
      "[0.23976576 0.83228236], -925820.7609714738\n",
      "[0.23852742 0.83207873], -925835.5567943295\n",
      "[0.23831392 0.8315717 ], -925806.2767641626\n",
      "[0.23833826 0.83143948], -925820.0665595002\n",
      "[0.23822998 0.83179549], -925792.2549424163\n",
      "[0.23801161 0.83218216], -925805.3125777429\n",
      "[0.23777889 0.8328986 ], -925780.7381438218\n",
      "[0.2375249  0.83391326], -925808.8304351794\n",
      "[0.2379756  0.83456403], -925801.42701864\n",
      "[0.23845489 0.83534801], -925839.9894959247\n",
      "[0.23852825 0.83604634], -925837.3189943699\n",
      "[0.23841348 0.8364482 ], -925873.1291736716\n",
      "[0.23842275 0.8363349 ], -925865.9263487285\n",
      "[0.23851108 0.83591507], -925899.1033867641\n",
      "[0.23829902 0.83528201], -925891.4903585308\n",
      "[0.23822731 0.83481289], -925923.2967886681\n",
      "[0.23758359 0.83447954], -925915.0117016609\n",
      "[0.2368776  0.83404445], -925950.7475347338\n",
      "[0.23698762 0.83326358], -925944.2560437892\n",
      "[0.23736879 0.83264212], -925977.6871549425\n",
      "[0.2372134  0.83246954], -925968.3782825861\n",
      "[0.23686939 0.83269319], -925997.3533490578\n",
      "[0.23652169 0.83294602], -925986.366978636\n",
      "[0.23680706 0.83288878], -926013.1323580346\n",
      "[0.23747534 0.83249805], -925997.5913708764\n",
      "[0.2378156  0.83207975], -926014.9409501645\n",
      "[0.23716933 0.83209293], -925990.0094284664\n",
      "[0.23637072 0.83194553], -926012.5668224562\n",
      "[0.23692792 0.83115149], -925991.8370365121\n",
      "[0.23779123 0.83013839], -926018.154541707\n",
      "[0.23711105 0.83023347], -926001.0597714075\n",
      "[0.2357427  0.83059743], -926029.3667766895\n",
      "[0.23466952 0.83096455], -926020.0399261495\n",
      "[0.23416023 0.83106322], -926054.2201911312\n",
      "[0.234888   0.83039854], -926046.5903298887\n",
      "[0.23530959 0.82989952], -926085.2193423022\n",
      "[0.23339703 0.83036509], -926071.1331093537\n",
      "[0.23137498 0.8305111 ], -926111.2520088409\n",
      "[0.23132301 0.82929053], -926101.6564222527\n",
      "[0.23208926 0.82789238], -926133.2634836149\n",
      "[0.23199035 0.82687181], -926125.3268266857\n",
      "[0.23101775 0.82657665], -926150.2737823952\n",
      "[0.22971525 0.82666794], -926139.1441118569\n",
      "[0.22913231 0.82651192], -926174.7120109434\n",
      "[0.23106426 0.82552318], -926164.5113607158\n",
      "[0.23233096 0.82496554], -926200.5663780764\n",
      "[0.23154057 0.82613529], -926187.9896186331\n",
      "[0.23058331 0.82781463], -926222.412207822\n",
      "[0.23146241 0.82888852], -926213.6043455653\n",
      "[0.23316698 0.82957395], -926244.2152576543\n",
      "[0.234507   0.83039021], -926242.2032506592\n",
      "[0.23497863 0.83149418], -926269.5926568564\n",
      "[0.23419539 0.83275482], -926259.177901717\n",
      "[0.23405119 0.83356969], -926291.1458663837\n",
      "[0.23546755 0.83292231], -926273.8592792198\n",
      "[0.23629827 0.83192669], -926303.0910334097\n",
      "[0.23559142 0.83137158], -926289.8968087985\n",
      "[0.23460065 0.83094471], -926316.4099830862\n",
      "[0.23433641 0.83018116], -926305.9406514227\n",
      "[0.23439631 0.82926463], -926336.93392204\n",
      "[0.23476016 0.82864549], -926328.636292079\n",
      "[0.23487362 0.8282357 ], -926356.747951385\n",
      "[0.23396405 0.82895049], -926343.0074140311\n",
      "[0.23345657 0.82974747], -926370.7573550188\n",
      "[0.23398189 0.83028393], -926358.5870591275\n",
      "[0.23460598 0.83058974], -926381.9167409365\n",
      "[0.23457951 0.83110307], -926366.6491203938\n",
      "[0.23420369 0.8315805 ], -926390.2804179384\n",
      "[0.23357073 0.83175019], -926374.6601826237\n",
      "[0.23339197 0.83144531], -926407.5797074884\n",
      "[0.23364151 0.83047944], -926400.7308606604\n",
      "[0.23373357 0.82940683], -926423.1659199975\n",
      "[0.23275825 0.82877936], -926403.8000350398\n",
      "[0.23175714 0.828177  ], -926431.9062830762\n",
      "[0.2317795 0.8272673], -926420.704775303\n",
      "[0.23251589 0.82646494], -926446.5849984335\n",
      "[0.23281919 0.82645266], -926432.8158028949\n",
      "[0.23238862 0.82739421], -926452.6625507508\n",
      "[0.23239829 0.82858482], -926433.3664562627\n",
      "[0.23292965 0.82987566], -926447.0699326816\n",
      "[0.2345038 0.8307435], -926421.8774442634\n",
      "[0.23558461 0.8319051 ], -926439.3469699903\n",
      "[0.23534681 0.83336458], -926414.7914582366\n",
      "[0.23487931 0.83421968], -926420.9483588114\n",
      "[0.2352797  0.83402316], -926384.2448100925\n",
      "[0.23575364 0.8331584 ], -926386.6432767259\n",
      "[0.23585716 0.83215695], -926349.713487212\n",
      "[0.23597701 0.83144437], -926349.7331176139\n",
      "[0.23544294 0.83120493], -926310.7180699233\n",
      "[0.23491924 0.83097418], -926313.479210689\n",
      "[0.23559797 0.83052927], -926276.6340481903\n",
      "[0.23700522 0.83017648], -926288.7492380143\n",
      "[0.23717365 0.83101896], -926258.1582431673\n",
      "[0.23658068 0.8325045 ], -926276.1814815938\n",
      "[0.23652308 0.83384416], -926258.0008706048\n",
      "[0.23773524 0.83449672], -926278.7740258041\n",
      "[0.23894843 0.83485077], -926264.6160680243\n",
      "[0.2394244  0.83511009], -926288.8969840357\n",
      "[0.23810406 0.83594153], -926267.5425003914\n",
      "[0.23707995 0.83646566], -926298.8280657069\n",
      "[0.23786026 0.83570022], -926282.2505436798\n",
      "[0.23900023 0.83473249], -926313.2696147464\n",
      "[0.23883516 0.83439885], -926302.0214519654\n",
      "[0.23766631 0.83441424], -926322.7713980118\n",
      "[0.23680564 0.83449871], -926308.3968470654\n",
      "[0.23702105 0.83435037], -926336.8630966869\n",
      "[0.23820556 0.83406506], -926322.1790213056\n",
      "[0.23886364 0.83416218], -926349.6333207844\n",
      "[0.23754383 0.8355331 ], -926328.1471904734\n",
      "[0.23636514 0.83681079], -926354.9242640163\n",
      "[0.23683042 0.83705815], -926336.6706791907\n",
      "[0.23755095 0.83682168], -926362.51808933\n",
      "[0.23749854 0.83662597], -926348.5005811278\n",
      "[0.23657809 0.83621702], -926368.6319455302\n",
      "[0.23493766 0.83588069], -926350.6883205152\n",
      "[0.23353981 0.83530328], -926369.0247879777\n",
      "[0.23382933 0.83373743], -926342.2441010397\n",
      "[0.23430313 0.83233523], -926357.6501378388\n",
      "[0.23331086 0.83191681], -926328.5321090807\n",
      "[0.23193194 0.83179761], -926336.7277617219\n",
      "[0.2314976  0.83165548], -926305.6328017921\n",
      "[0.23181601 0.83145642], -926312.8109447777\n",
      "[0.2328736  0.83137698], -926284.8979958444\n",
      "[0.23330001 0.83172831], -926295.4574765415\n",
      "[0.23294905 0.83281753], -926269.7535448368\n",
      "[0.23314514 0.8340061 ], -926292.8054919073\n",
      "[0.23445383 0.83471301], -926276.3798667545\n",
      "[0.23552491 0.83520047], -926299.410687064\n",
      "[0.23583379 0.83593285], -926282.7027187194\n",
      "[0.23609417 0.83674424], -926305.8498509967\n",
      "[0.23643974 0.83718819], -926293.2370603262\n",
      "[0.23701161 0.83738398], -926310.6765123794\n",
      "[0.23766715 0.83719607], -926293.1904395628\n",
      "[0.23824009 0.83700275], -926323.7223350281\n",
      "[0.23797397 0.83713818], -926314.1697256172\n",
      "[0.23760073 0.83724031], -926339.5051616752\n",
      "[0.23756348 0.83708859], -926326.1038858586\n",
      "[0.23730497 0.83665957], -926351.7198390374\n",
      "[0.23759948 0.83601403], -926340.839013965\n",
      "[0.23760988 0.83573703], -926370.1802453755\n",
      "[0.23712832 0.83595057], -926358.5763583102\n",
      "[0.23685686 0.83638246], -926381.8986489233\n",
      "[0.23731925 0.83664615], -926362.658351666\n",
      "[0.23785646 0.83682332], -926381.2021710238\n",
      "[0.23779153 0.83741125], -926362.5012684535\n",
      "[0.23766346 0.83785999], -926382.2609083983\n",
      "[0.23770562 0.83814748], -926363.1279835675\n",
      "[0.2379464  0.83831512], -926380.3469205268\n",
      "[0.23825794 0.83826949], -926353.6984797949\n",
      "[0.23825117 0.83857171], -926363.2960279459\n",
      "[0.23829874 0.8386386 ], -926331.9657874403\n",
      "[0.23825323 0.83869466], -926342.2407462924\n",
      "[0.23863991 0.83833379], -926313.1427479839\n",
      "[0.23908595 0.8375288 ], -926316.5076752818\n",
      "[0.23861618 0.83716   ], -926277.9762574803\n",
      "[0.23771572 0.83679004], -926274.926765099\n",
      "[0.23738012 0.83628136], -926230.8759710782\n",
      "[0.23768547 0.83577086], -926228.568196134\n",
      "[0.23783933 0.83554738], -926189.0432774693\n",
      "[0.23774209 0.83541726], -926195.6701558083\n",
      "[0.23709319 0.83579627], -926165.1067426911\n",
      "[0.23654994 0.83600016], -926181.4208010619\n",
      "[0.23718061 0.83563679], -926155.3433750247\n",
      "[0.23799087 0.83556281], -926143.659845963\n",
      "[0.23800614 0.83558287], -926066.9674926824\n",
      "[0.23759917 0.8356433 ], -926059.7810762349\n",
      "[0.23734272 0.83572877], -925984.9814779349\n",
      "[0.23780917 0.8357802 ], -925984.7369345343\n",
      "[0.23913991 0.83581637], -925890.0540054415\n",
      "[0.24004089 0.83601817], -925888.4584614062\n",
      "[0.23919108 0.83643429], -925812.6178442459\n",
      "[0.23788366 0.83684375], -925822.0537665683\n",
      "[0.23828246 0.83708716], -925751.5074369163\n",
      "[0.2393748  0.83704008], -925756.4066655533\n",
      "[0.24053556 0.83694227], -925683.0131278611\n",
      "[0.24102552 0.83680627], -925677.5498112764\n",
      "[0.23982125 0.83681163], -925586.9352026726\n",
      "[0.23917268 0.83670959], -925592.5083358057\n",
      "[0.24021066 0.8364143 ], -925533.514099637\n",
      "[0.24149695 0.83618683], -925540.1575792438\n",
      "[0.24271042 0.83595623], -925487.868178115\n",
      "[0.24325154 0.83590943], -925496.2222759104\n",
      "[0.24240886 0.83598175], -925434.8712462359\n",
      "[0.24192245 0.83591292], -925444.7073103851\n",
      "[0.24235627 0.83573945], -925398.480422002\n",
      "[0.24339797 0.83559989], -925406.4313848861\n",
      "[0.24471482 0.83541772], -925365.2263720231\n",
      "[0.2454111  0.83519313], -925374.2301678581\n",
      "[0.24476545 0.83508739], -925321.020326237\n",
      "[0.24366365 0.83501134], -925326.8288489911\n",
      "[0.24351271 0.83480568], -925280.4921797682\n",
      "[0.24451793 0.83448133], -925284.01487201\n",
      "[0.24612921 0.83406711], -925238.0123368818\n",
      "[0.24693328 0.83366851], -925243.9533678194\n",
      "[0.24659806 0.83337693], -925187.517871397\n",
      "[0.24612916 0.83310653], -925186.3295584914\n",
      "[0.24610489 0.83280475], -925133.8136438482\n",
      "[0.24666486 0.83243925], -925136.6500953528\n",
      "[0.2479315  0.83201846], -925087.6290608405\n",
      "[0.24901339 0.83159329], -925100.5207613135\n",
      "[0.24908008 0.83130396], -925055.9281628908\n",
      "[0.24875067 0.83107878], -925063.6915063937\n",
      "[0.24824253 0.83092413], -925024.1135993056\n",
      "[0.24812332 0.83074244], -925053.3659954403\n",
      "[0.24896595 0.83052251], -925027.234705379\n",
      "[0.24997188 0.83024914], -925054.1778901942\n",
      "[0.25049086 0.83010399], -925021.629095466\n",
      "[0.25050692 0.83006126], -925040.3122139091\n",
      "[0.24993121 0.8301682 ], -925000.8048729901\n",
      "[0.24976494 0.83024083], -925016.583182622\n",
      "[0.25046704 0.83028896], -924969.625997448\n",
      "[0.25133355 0.83040463], -924983.9232735543\n",
      "[0.25186124 0.83060239], -924942.3838990948\n",
      "[0.25192255 0.83082335], -924961.28767485\n",
      "[0.2515715  0.83109494], -924930.1558913887\n",
      "[0.25158113 0.83130558], -924960.6314141498\n",
      "[0.25201798 0.83144473], -924945.663130708\n",
      "[0.252712   0.83145337], -924983.277249769\n",
      "[0.2533945  0.83141339], -924969.8436586324\n",
      "[0.25383468 0.83131001], -925002.6439960483\n",
      "[0.25415115 0.83116332], -924981.2570602021\n",
      "[0.25420416 0.83104781], -925014.0759248034\n",
      "[0.25484387 0.83083962], -924993.2826507733\n",
      "[0.25596499 0.83063497], -925028.0470965122\n",
      "[0.25689882 0.83044981], -925013.4733616665\n",
      "[0.25720358 0.83031593], -925060.1972129483\n",
      "[0.2570453  0.83025624], -925056.8712985974\n",
      "[0.25696209 0.83016629], -925114.0272707443\n",
      "[0.25743261 0.83003875], -925122.6906698905\n",
      "[0.25779751 0.8298275 ], -925193.4124130217\n",
      "[0.25828972 0.82962833], -925215.2886043355\n",
      "[0.25858976 0.82951053], -925284.8312919717\n",
      "[0.25838728 0.82945975], -925301.2207599285\n",
      "[0.25805301 0.82943662], -925363.5625312261\n",
      "[0.25770528 0.82941183], -925374.3578968175\n",
      "[0.25765342 0.8293335 ], -925431.9277634893\n",
      "[0.25789786 0.82920405], -925439.9631324182\n",
      "[0.25832413 0.82896939], -925501.6603828545\n",
      "[0.25855948 0.82872135], -925513.6275910801\n",
      "[0.25868927 0.82850445], -925577.7452292411\n",
      "[0.25866297 0.82828773], -925588.0607667089\n",
      "[0.25858672 0.82801519], -925642.5673549932\n",
      "[0.25868086 0.82771401], -925642.1142065625\n",
      "[0.25868514 0.82741476], -925702.0650207179\n",
      "[0.25893909 0.82708571], -925706.8772036902\n",
      "[0.25900284 0.82686078], -925766.4274322009\n",
      "[0.2588649  0.82667116], -925772.4138879502\n",
      "[0.25869227 0.82649387], -925831.5265349582\n",
      "[0.25843379 0.82633096], -925839.1506008649\n",
      "[0.25839237 0.82614572], -925902.6444560686\n",
      "[0.25840233 0.82596051], -925915.2743527249\n",
      "[0.25852235 0.82592316], -925986.9703648919\n",
      "[0.25874932 0.82588479], -926004.3555858756\n",
      "[0.25895716 0.82570795], -926073.9898639969\n",
      "[0.25911046 0.82556309], -926091.3756170891\n",
      "[0.25915987 0.82533269], -926155.322787167\n",
      "[0.25892645 0.82517514], -926167.2718542062\n",
      "[0.25849934 0.8250035 ], -926222.8582789062\n",
      "[0.25812971 0.82488816], -926224.0669202872\n",
      "[0.25789833 0.82471101], -926277.9182251855\n",
      "[0.25774267 0.82459383], -926278.4382078247\n",
      "[0.25744703 0.82455253], -926329.6968593169\n",
      "[0.25692689 0.82458789], -926328.1653008361\n",
      "[0.25642919 0.82480125], -926382.4323190589\n",
      "[0.25629734 0.825006  ], -926386.6707129984\n",
      "[0.25639184 0.8252515 ], -926442.1376962237\n",
      "[0.2568834  0.82545464], -926442.7850972826\n",
      "[0.25761083 0.82565717], -926494.5691662828\n",
      "[0.25789513 0.82588895], -926492.3824227294\n",
      "[0.25781365 0.82618088], -926545.3550756926\n",
      "[0.25775551 0.8264625 ], -926542.7434788167\n",
      "[0.25803836 0.82681203], -926596.8078977816\n",
      "[0.25887541 0.82709911], -926594.944355377\n",
      "[0.25975782 0.82734516], -926647.5860954124\n",
      "[0.26048531 0.82758852], -926648.3549481756\n",
      "[0.2607601  0.82776005], -926700.6816222211\n",
      "[0.2607074  0.82793256], -926699.9433561534\n",
      "[0.26058309 0.82806732], -926745.2446947524\n",
      "[0.26076823 0.82812727], -926733.2109899685\n",
      "[0.26094574 0.82822522], -926769.1672180117\n",
      "[0.26136907 0.82823626], -926751.2906531803\n",
      "[0.2617484 0.8283108], -926786.6238625359\n",
      "[0.26169614 0.82834387], -926769.2383802566\n",
      "[0.26174533 0.82827073], -926802.9637663239\n",
      "[0.26142403 0.82813588], -926781.9495222974\n",
      "[0.26075875 0.82793581], -926815.2508724169\n",
      "[0.2602636  0.82761514], -926792.1799922301\n",
      "[0.26004384 0.8271975 ], -926820.0639300337\n",
      "[0.26030849 0.82663659], -926793.3452711581\n",
      "[0.26063864 0.82601184], -926821.0585029928\n",
      "[0.2605799  0.82538404], -926798.6081617656\n",
      "[0.25972072 0.82477916], -926832.120688228\n",
      "[0.25880637 0.82417693], -926811.7061766457\n",
      "[0.25835839 0.82352493], -926837.0503076006\n",
      "[0.25845017 0.82286835], -926807.3020525133\n",
      "[0.25838461 0.82232733], -926820.5629423999\n",
      "[0.25795076 0.82191151], -926781.9716356538\n",
      "[0.2570727  0.82153523], -926800.50181435\n",
      "[0.2561217  0.82125992], -926770.1342701312\n",
      "[0.25539129 0.82106487], -926799.6553884788\n",
      "[0.2553738  0.82087951], -926775.8212270174\n",
      "[0.25578323 0.82074056], -926802.6354538817\n",
      "[0.25637176 0.820658  ], -926772.7341475415\n",
      "[0.25687684 0.82059426], -926792.38342398\n",
      "[0.25679964 0.82065577], -926755.0752398713\n",
      "[0.25651568 0.82090508], -926769.7827488101\n",
      "[0.25661295 0.82117163], -926732.4807898414\n",
      "[0.25737101 0.82145604], -926754.5439872616\n",
      "[0.258491   0.82174397], -926726.6245565538\n",
      "[0.25947193 0.82207259], -926755.9342324683\n",
      "[0.25967257 0.82253177], -926730.8147154138\n",
      "[0.25934827 0.82295684], -926764.4630617474\n",
      "[0.25909378 0.82340261], -926750.8310619754\n",
      "[0.25887084 0.8237294 ], -926784.4101607902\n",
      "[0.25945911 0.82398795], -926761.485246852\n",
      "[0.26015073 0.82407432], -926781.1722492087\n",
      "[0.26047471 0.82419513], -926752.4550476656\n",
      "[0.26054168 0.82427254], -926774.4784412048\n",
      "[0.25970199 0.82443494], -926743.1846636962\n",
      "[0.25885304 0.82455945], -926764.9006144294\n",
      "[0.25831469 0.82462122], -926732.6633917529\n",
      "[0.25827754 0.82458509], -926743.2862348555\n",
      "[0.25856273 0.82447316], -926701.1458390297\n",
      "[0.25881807 0.82431192], -926710.9854187882\n",
      "[0.25872806 0.82414456], -926666.4330237799\n",
      "[0.25869827 0.82399424], -926667.7846882342\n",
      "[0.25844941 0.82381076], -926618.0898229768\n",
      "[0.25826652 0.82359636], -926623.5568447602\n",
      "[0.25852032 0.82331342], -926578.8484615961\n",
      "[0.25890468 0.82302027], -926590.9110107819\n",
      "[0.25947311 0.82271256], -926551.2255417788\n",
      "[0.25980831 0.8224112 ], -926559.3719296198\n",
      "[0.25978862 0.82218882], -926513.9627714679\n",
      "[0.25989356 0.82205605], -926514.6424405341\n",
      "[0.25975232 0.82200569], -926461.6516303065\n",
      "[0.2597759  0.82206734], -926464.0966447673\n",
      "[0.25985975 0.82218073], -926413.800248989\n",
      "[0.26006667 0.82230531], -926421.6630826471\n",
      "[0.26034945 0.82245443], -926377.256658261\n",
      "[0.26051338 0.82261603], -926385.688400525\n",
      "[0.26046094 0.82280446], -926342.411244136\n",
      "[0.26006618 0.82305472], -926352.3264891143\n",
      "[0.2602235  0.82321918], -926312.1859401456\n",
      "[0.26061134 0.8233685 ], -926325.5409836596\n",
      "[0.26134538 0.82343458], -926285.0922758344\n",
      "[0.26185463 0.82348035], -926292.2131432932\n",
      "[0.26192585 0.82353733], -926245.6437035121\n",
      "[0.26182827 0.82366798], -926256.839027612\n",
      "[0.26172507 0.82375767], -926214.8364930546\n",
      "[0.26185653 0.82380318], -926233.5857232147\n",
      "[0.26231587 0.82377921], -926199.657709946\n",
      "[0.2627378 0.8237018], -926212.3379789069\n",
      "[0.26278514 0.82364015], -926169.0469367926\n",
      "[0.26266585 0.82367962], -926176.0349544132\n",
      "[0.26235317 0.82371393], -926128.4660528827\n",
      "[0.26185921 0.82367929], -926132.5441641123\n",
      "[0.26206366 0.82354101], -926083.4159226737\n",
      "[0.26264888 0.82347272], -926084.5209283064\n",
      "[0.26330209 0.8233915 ], -926033.9591560747\n",
      "[0.2636581  0.82335686], -926031.7240036337\n",
      "[0.26348896 0.82338426], -925975.5782435099\n",
      "[0.26314116 0.82346141], -925966.0798718816\n",
      "[0.26316728 0.82352118], -925905.4020595199\n",
      "[0.26360099 0.82355562], -925901.6172505418\n",
      "[0.26436731 0.82359136], -925846.9893040186\n",
      "[0.2648147 0.8236074], -925846.3576621152\n",
      "[0.26494758 0.82370642], -925794.584330659\n",
      "[0.2648329  0.82389409], -925800.0626449125\n",
      "[0.26471853 0.82413846], -925757.8827436516\n",
      "[0.26448353 0.82426091], -925775.305845972\n",
      "[0.26439981 0.82441394], -925744.3054837524\n",
      "[0.26436929 0.8245222 ], -925765.0016202386\n",
      "[0.26446569 0.82465011], -925733.63231197\n",
      "[0.26455634 0.82478985], -925751.5992645189\n",
      "[0.26461762 0.82497021], -925713.5115429026\n",
      "[0.26477198 0.82518007], -925722.7640094749\n",
      "[0.26468389 0.82546025], -925676.0876577582\n",
      "[0.26456344 0.82578162], -925684.5876976274\n",
      "[0.26445668 0.8261483 ], -925640.5239845064\n",
      "[0.26439959 0.82651248], -925652.2623106063\n",
      "[0.26438696 0.82689172], -925612.276385574\n",
      "[0.26438818 0.8271463 ], -925628.7331459946\n",
      "[0.26413431 0.82742574], -925594.5478684008\n",
      "[0.2635519  0.82774862], -925616.7269150261\n",
      "[0.26310706 0.82803725], -925587.3664197115\n",
      "[0.26288086 0.82839526], -925610.770677428\n",
      "[0.2632064  0.82864792], -925579.641830264\n",
      "[0.2637745  0.82877832], -925608.8324926095\n",
      "[0.26410025 0.82889613], -925584.5939259058\n",
      "[0.26411721 0.82906933], -925607.7808098271\n",
      "[0.2636402  0.82925313], -925575.6626091431\n",
      "[0.26329044 0.82938678], -925591.1524857256\n",
      "[0.26346324 0.82944545], -925550.1410396227\n",
      "[0.26369923 0.829562  ], -925563.6154181822\n",
      "[0.26404884 0.82964989], -925527.8541216858\n",
      "[0.26417917 0.829772  ], -925552.149291022\n",
      "[0.26401094 0.82990882], -925525.4473336654\n",
      "[0.2636939 0.8299182], -925545.8496559516\n",
      "[0.26334208 0.82989976], -925513.0949248425\n",
      "[0.26318163 0.8299589 ], -925536.9845797638\n",
      "[0.26338856 0.82995773], -925505.2074621494\n",
      "[0.26365381 0.82987506], -925522.3008421297\n",
      "[0.2639844  0.82977865], -925482.6863698679\n",
      "[0.26418516 0.82967824], -925492.3408275003\n",
      "[0.26405261 0.82962461], -925448.0449132099\n",
      "[0.26382504 0.82968514], -925458.9916516903\n",
      "[0.26359428 0.82977046], -925420.9166926357\n",
      "[0.26331436 0.82985345], -925442.5238870042\n",
      "[0.26345633 0.82991994], -925414.2214273873\n",
      "[0.26381399 0.83009532], -925447.0551426092\n",
      "[0.26421898 0.83028748], -925431.1299004155\n",
      "[0.26444447 0.83049349], -925467.7226453711\n",
      "[0.26428577 0.8307544 ], -925448.828364493\n",
      "[0.26402721 0.83107623], -925482.6038977862\n",
      "[0.26385571 0.83140113], -925460.5212557488\n",
      "[0.26371723 0.83170736], -925496.2480875745\n",
      "[0.26404119 0.83196482], -925479.1017192926\n",
      "[0.26447706 0.83218268], -925516.3287392332\n",
      "[0.26467755 0.83240728], -925504.8127679582\n",
      "[0.26473816 0.83260026], -925545.6223105759\n",
      "[0.26430651 0.83280854], -925533.4918505693\n",
      "[0.26381716 0.83303718], -925583.1396488901\n",
      "[0.26374725 0.83317865], -925578.2582584812\n",
      "[0.26381968 0.83330811], -925619.7092121243\n",
      "[0.26415211 0.8333744 ], -925609.5141744877\n",
      "[0.26412845 0.83344167], -925650.1684473132\n",
      "[0.26376627 0.83350851], -925637.1719982689\n",
      "[0.26337371 0.83370913], -925675.8807815585\n",
      "[0.26320954 0.83385116], -925661.4584071524\n",
      "[0.26330192 0.83398131], -925703.9943858694\n",
      "[0.26357605 0.83407312], -925693.6063219022\n",
      "[0.26359189 0.83411266], -925734.8264744544\n",
      "[0.26350709 0.83416683], -925721.2590197237\n",
      "[0.26359218 0.834174  ], -925764.1859310671\n",
      "[0.26332774 0.83423815], -925755.3341816675\n",
      "[0.26294558 0.83430354], -925796.9945972428\n",
      "[0.26260285 0.83439966], -925787.9125245269\n",
      "[0.26255414 0.83447612], -925833.6031281416\n",
      "[0.26254389 0.8345762 ], -925827.3322338954\n",
      "[0.26226507 0.83483575], -925873.1594018963\n",
      "[0.26173434 0.83514271], -925867.3877328447\n",
      "[0.2609599  0.83548774], -925916.5667590852\n",
      "[0.2604484 0.8357927], -925915.1326017623\n",
      "[0.26036617 0.8358873 ], -925961.8903132161\n",
      "[0.26073167 0.83589156], -925955.7390092508\n",
      "[0.26106615 0.83594139], -925995.8326762608\n",
      "[0.26088267 0.83599209], -925979.9335415126\n",
      "[0.2603641  0.83591084], -926010.3419127339\n",
      "[0.25952187 0.83582719], -925986.4505463276\n",
      "[0.25873816 0.83564044], -926008.6450331032\n",
      "[0.25848497 0.83536547], -925976.5609465331\n",
      "[0.25854746 0.83508479], -925990.0728076261\n",
      "[0.25858161 0.83478674], -925952.4157040989\n",
      "[0.25854085 0.83460632], -925969.9033170159\n",
      "[0.25784008 0.83449928], -925936.4669829648\n",
      "[0.25684296 0.83441083], -925955.0709689261\n",
      "[0.25605539 0.83433131], -925922.671133105\n",
      "[0.25568132 0.83422819], -925938.2305004642\n",
      "[0.25573166 0.83411406], -925903.2506553242\n",
      "[0.2561625  0.83401912], -925922.230562902\n",
      "[0.25611082 0.83401131], -925890.3568636078\n",
      "[0.25570769 0.8341377 ], -925917.293671958\n",
      "[0.25493775 0.83434005], -925893.5097737999\n",
      "[0.25430447 0.83447693], -925923.4157702165\n",
      "[0.25443699 0.83455775], -925900.5902953024\n",
      "[0.2548888  0.83475378], -925926.9209009568\n",
      "[0.25537897 0.83496202], -925903.1448688688\n",
      "[0.25558428 0.83526107], -925927.4176320186\n",
      "[0.25506789 0.835629  ], -925901.1861063956\n",
      "[0.25440065 0.83592662], -925931.9564418185\n",
      "[0.25411845 0.8361554 ], -925914.4105911711\n",
      "[0.25429891 0.83636315], -925943.7305478371\n",
      "[0.25491702 0.83649699], -925921.9497467891\n",
      "[0.2555206  0.83661721], -925949.5790352415\n",
      "[0.25535385 0.8367993 ], -925923.8471531614\n",
      "[0.25468737 0.83695267], -925948.9570293998\n",
      "[0.25395588 0.83709232], -925923.9302593854\n",
      "[0.25343601 0.83725884], -925947.6541823973\n",
      "[0.25383091 0.83730245], -925917.9866300018\n",
      "[0.25449165 0.83730248], -925939.8753197544\n",
      "[0.25488092 0.83731813], -925914.0458670679\n",
      "[0.25490562 0.83726598], -925940.4928580807\n",
      "[0.25417247 0.83729035], -925913.9643754687\n",
      "[0.25331258 0.83733129], -925936.9365601245\n",
      "[0.25298817 0.83732304], -925910.58516151\n",
      "[0.25283923 0.83727006], -925927.2645114645\n",
      "[0.25341481 0.83715785], -925891.9198835037\n",
      "[0.25397213 0.83699923], -925909.3492405273\n",
      "[0.25397897 0.8369285 ], -925878.1587381455\n",
      "[0.25364712 0.83696525], -925894.8252309349\n",
      "[0.25271375 0.83709185], -925863.9201048635\n",
      "[0.25201221 0.8372111 ], -925880.9441744848\n",
      "[0.25190468 0.83727029], -925846.288795299\n",
      "[0.25186707 0.8373086 ], -925862.3669849277\n",
      "[0.25203204 0.83732576], -925830.061620563\n",
      "[0.25230029 0.83735024], -925850.4016180602\n",
      "[0.25206515 0.83742045], -925821.0908604799\n",
      "[0.25142394 0.83763013], -925838.2310847349\n",
      "[0.25078954 0.83782282], -925807.9432002171\n",
      "[0.25038595 0.83795675], -925821.4045082458\n",
      "[0.25065272 0.83798666], -925786.3917547117\n",
      "[0.25118021 0.83804125], -925801.0820867488\n",
      "[0.2514106  0.83808801], -925768.2808169964\n",
      "[0.25109586 0.83823229], -925787.556741033\n",
      "[0.25041162 0.83839057], -925757.882188501\n",
      "[0.24995408 0.83852365], -925771.4640935017\n",
      "[0.24994154 0.83856998], -925732.5213575294\n",
      "[0.25013084 0.83853165], -925742.4689488756\n",
      "[0.25036731 0.8384415 ], -925707.4052401455\n",
      "[0.25008508 0.83832734], -925718.6254881053\n",
      "[0.24959782 0.83819225], -925682.1400185876\n",
      "[0.24921381 0.83815256], -925688.049576225\n",
      "[0.24911167 0.83804434], -925646.469826411\n",
      "[0.24898555 0.83799815], -925657.0575344255\n",
      "[0.24897943 0.83788546], -925619.2877502204\n",
      "[0.24903572 0.83778511], -925634.8948517734\n",
      "[0.24883677 0.83764657], -925602.9621781891\n",
      "[0.24841615 0.83746268], -925619.0893871941\n",
      "[0.24805224 0.83720594], -925585.1221940605\n",
      "[0.24796177 0.83692615], -925599.0286378919\n",
      "[0.2481289  0.83656594], -925564.3143899099\n",
      "[0.24846345 0.83610475], -925582.7133214591\n",
      "[0.24857219 0.83564637], -925556.1511800413\n",
      "[0.24843124 0.8352586 ], -925577.8553656917\n",
      "[0.24825034 0.83491141], -925550.6672276946\n",
      "[0.24811676 0.83465464], -925568.674608304\n",
      "[0.24831913 0.83442731], -925538.3127510534\n",
      "[0.24863886 0.83422932], -925555.8454673928\n",
      "[0.24858506 0.83415614], -925528.2232639699\n",
      "[0.24831446 0.83406453], -925555.0334759386\n",
      "[0.24762801 0.83408747], -925530.7498623196\n",
      "[0.2470167  0.83414408], -925554.4559287169\n",
      "[0.24685278 0.83421671], -925526.4224688604\n",
      "[0.24663724 0.83422565], -925552.5553977996\n",
      "[0.24655988 0.83426658], -925535.0025315303\n",
      "[0.24625047 0.83450415], -925569.5019377745\n",
      "[0.24585028 0.8347728 ], -925559.6213321573\n",
      "[0.24540824 0.83506348], -925589.8640014945\n",
      "[0.24512026 0.83533112], -925568.2854041584\n",
      "[0.24484418 0.83551979], -925588.4470805831\n",
      "[0.24487395 0.8356443 ], -925558.6093222017\n",
      "[0.24519288 0.83573334], -925582.51998814\n",
      "[0.2451524  0.83580562], -925560.2079239304\n",
      "[0.24486857 0.8357724 ], -925589.3860141678\n",
      "[0.24434505 0.83569572], -925565.8875489456\n",
      "[0.24380095 0.83555411], -925589.8910609675\n",
      "[0.24392081 0.83529978], -925565.819033429\n",
      "[0.24450835 0.83504537], -925589.0948408233\n",
      "[0.24514993 0.83477536], -925568.9600492887\n",
      "[0.24541939 0.83462345], -925598.0163582319\n",
      "[0.24502311 0.83455643], -925569.8535166009\n",
      "[0.24423275 0.83460127], -925583.9493974911\n",
      "[0.24384787 0.83463027], -925549.9725054877\n",
      "[0.24375421 0.83455159], -925567.7430146893\n",
      "[0.24423429 0.83444978], -925543.6454962819\n",
      "[0.24488506 0.83420981], -925573.6089929509\n",
      "[0.24490722 0.83408098], -925550.2003473549\n",
      "[0.24439046 0.83409787], -925563.7155334762\n",
      "[0.24369485 0.83421058], -925530.2806338149\n",
      "[0.24343241 0.83435697], -925555.7778596575\n",
      "[0.24382516 0.83451387], -925540.6890462874\n",
      "[0.24461919 0.8346639 ], -925577.8247115101\n",
      "[0.24518945 0.83490382], -925564.6644444352\n",
      "[0.24546303 0.8352966 ], -925601.990212968\n",
      "[0.2447756  0.83582754], -925580.8786190179\n",
      "[0.24405024 0.8364576 ], -925610.8382836905\n",
      "[0.24391951 0.83702149], -925595.1498685898\n",
      "[0.24462009 0.83752355], -925618.7876222094\n",
      "[0.24603222 0.83792506], -925589.136881808\n",
      "[0.24692973 0.83821659], -925607.4126570313\n",
      "[0.2471236  0.83853044], -925569.8474605178\n",
      "[0.24709378 0.8388626 ], -925583.882370767\n",
      "[0.24697284 0.83915303], -925554.050395661\n",
      "[0.24694048 0.83942618], -925579.1797010734\n",
      "[0.24766568 0.83958043], -925556.9041231017\n",
      "[0.24856453 0.83968385], -925588.4116859565\n",
      "[0.24927434 0.83976934], -925568.9907737512\n",
      "[0.24921802 0.83991305], -925597.5276362551\n",
      "[0.24871647 0.84006057], -925582.2876904558\n",
      "[0.24829642 0.84022332], -925621.2231273524\n",
      "[0.24829486 0.84030466], -925615.0163401915\n",
      "[0.24855995 0.84025442], -925656.233683249\n",
      "[0.24875868 0.84017875], -925642.603801595\n",
      "[0.24868833 0.84002538], -925664.5614345506\n",
      "[0.24817294 0.83990205], -925632.1626403322\n",
      "[0.24760075 0.83969788], -925654.2167755809\n",
      "[0.24736481 0.83945854], -925630.9528207942\n",
      "[0.24757022 0.83909346], -925661.9097127139\n",
      "[0.2479429  0.83872203], -925645.8099919392\n",
      "[0.2480322  0.83845259], -925681.0564700784\n",
      "[0.24754828 0.83826923], -925665.563065902\n",
      "[0.24678552 0.83797941], -925706.0774934125\n",
      "[0.24619017 0.83771135], -925700.4865456765\n",
      "[0.24592564 0.83736932], -925749.5229839812\n",
      "[0.24585608 0.8370563 ], -925750.4757882946\n",
      "[0.24567627 0.83676989], -925797.097816911\n",
      "[0.24514187 0.83659139], -925793.3852138973\n",
      "[0.24435125 0.83638004], -925834.9595484976\n",
      "[0.24355755 0.83626049], -925829.5513623758\n",
      "[0.24293688 0.83620398], -925884.0148932528\n",
      "[0.24287098 0.83618097], -925891.123460594\n",
      "[0.24281976 0.83616548], -925939.6859005172\n",
      "[0.24283243 0.83621781], -925939.0137070258\n",
      "[0.24285252 0.83627829], -925982.4743534628\n",
      "[0.24247088 0.83643545], -925974.2922135108\n",
      "[0.24188367 0.83668675], -926006.8890553892\n",
      "[0.24162229 0.83694013], -925992.9628194871\n",
      "[0.24194197 0.83726116], -926034.1452771488\n",
      "[0.24283338 0.83753587], -926026.4207217384\n",
      "[0.24378672 0.83779957], -926073.3783002924\n",
      "[0.2442273  0.83811377], -926068.6750348542\n",
      "[0.24430505 0.83841015], -926103.7873091546\n",
      "[0.24434315 0.83870471], -926092.6368792244\n",
      "[0.24477381 0.83903029], -926131.4183204322\n",
      "[0.24591827 0.83928272], -926120.0440698295\n",
      "[0.24706143 0.83950486], -926151.8488243443\n",
      "[0.2477197  0.83977542], -926132.2485210949\n",
      "[0.24788616 0.84003571], -926154.338334454\n",
      "[0.24767283 0.84034532], -926131.3250292939\n",
      "[0.24767849 0.84052383], -926158.2163676888\n",
      "[0.24834253 0.84063904], -926134.9869539405\n",
      "[0.24913666 0.840781  ], -926156.3191150604\n",
      "[0.24997326 0.84091764], -926130.2856897363\n",
      "[0.25054816 0.84096584], -926151.1851096103\n",
      "[0.25052955 0.84107788], -926122.4949137779\n",
      "[0.25051839 0.84113009], -926143.3208013922\n",
      "[0.25034609 0.84119834], -926115.2370715014\n",
      "[0.25020881 0.84114455], -926127.453006322\n",
      "[0.25035461 0.841061  ], -926088.7100873425\n",
      "[0.25051337 0.84101823], -926103.2953751283\n",
      "[0.25050101 0.84098616], -926070.9044908034\n",
      "[0.2500688  0.84104172], -926093.9471763091\n",
      "[0.24974647 0.84105292], -926066.2275084892\n",
      "[0.24966179 0.84106877], -926080.6148874379\n",
      "[0.24986867 0.84100982], -926047.8743017901\n",
      "[0.2501691 0.8408689], -926062.5445805214\n",
      "[0.25021348 0.84072373], -926031.0229448226\n",
      "[0.24993399 0.84048727], -926046.9289828894\n",
      "[0.2495468 0.8402433], -926012.8566167911\n",
      "[0.24911134 0.84004792], -926030.4150238993\n",
      "[0.24925616 0.83979494], -925998.8396249184\n",
      "[0.2496501  0.83955023], -926018.1175589593\n",
      "[0.24989505 0.83934633], -925995.3039973071\n",
      "[0.24980546 0.83919242], -926022.7329932373\n",
      "[0.24917058 0.83912999], -926000.5450435763\n",
      "[0.24869544 0.8390606 ], -926023.40375738\n",
      "[0.24849198 0.83899585], -925997.3635136429\n",
      "[0.24875219 0.83888964], -926020.0688716429\n",
      "[0.24934583 0.83877277], -925992.4399880474\n",
      "[0.24958112 0.83857905], -926013.837161411\n",
      "[0.24944236 0.83844377], -925981.197824266\n",
      "[0.24920943 0.83830323], -925993.7519282226\n",
      "[0.24884182 0.83820812], -925957.862443471\n",
      "[0.24872226 0.83817217], -925976.3463388409\n",
      "[0.24892274 0.83813376], -925945.9465768144\n",
      "[0.24922524 0.83815989], -925956.3357924498\n",
      "[0.249655   0.83819025], -925914.7102703005\n",
      "[0.25001852 0.83825816], -925922.4051553175\n",
      "[0.25022333 0.83834563], -925877.7063679256\n",
      "[0.25012506 0.83850488], -925883.1532440635\n",
      "[0.25026954 0.83861818], -925841.7366886367\n",
      "[0.25054928 0.83867272], -925848.7735683045\n",
      "[0.25126658 0.83864382], -925810.3642553405\n",
      "[0.25169198 0.83844836], -925825.5264065735\n",
      "[0.25187886 0.83824341], -925789.6533923685\n",
      "[0.25198883 0.83807182], -925803.769671793\n",
      "[0.25181272 0.83791762], -925768.982565696\n",
      "[0.25194381 0.83778385], -925780.3917355976\n",
      "[0.25222574 0.83764528], -925748.300343434\n",
      "[0.25256429 0.83753441], -925766.2752956497\n",
      "[0.25256202 0.83748209], -925733.7244164179\n",
      "[0.25246675 0.83750257], -925743.7262009698\n",
      "[0.25230675 0.8375564 ], -925703.8479368107\n",
      "[0.2520211  0.83773015], -925713.1472659883\n",
      "[0.25210038 0.83788268], -925674.8014802058\n",
      "[0.2522445  0.83805816], -925677.2105263819\n",
      "[0.25240499 0.83822276], -925629.7402562039\n",
      "[0.2523871  0.83841276], -925636.0813443841\n",
      "[0.25209789 0.83859726], -925594.6041197228\n",
      "[0.25180731 0.83871475], -925611.0538161319\n",
      "[0.25186246 0.83874814], -925580.2096046422\n",
      "[0.25220652 0.83869123], -925607.7040452233\n",
      "[0.25271199 0.83857611], -925590.6511162148\n",
      "[0.25305785 0.83836932], -925628.8295159872\n",
      "[0.2529328  0.83818747], -925619.0912609082\n",
      "[0.25278872 0.83803008], -925660.763963783\n",
      "[0.25263851 0.83787413], -925654.6131594783\n",
      "[0.25229575 0.83777754], -925698.1804805241\n",
      "[0.25245156 0.83763867], -925692.8161508949\n",
      "[0.25296754 0.83745404], -925738.0955127741\n",
      "[0.25318265 0.83731221], -925736.574415523\n",
      "[0.25314352 0.83718977], -925779.920179997\n",
      "[0.25250748 0.83715196], -925771.8343052513\n",
      "[0.25204854 0.83706259], -925808.4185550219\n",
      "[0.25196919 0.83696017], -925793.2622548592\n",
      "[0.25245323 0.836858  ], -925828.3260228893\n",
      "[0.25315797 0.83676897], -925815.6905438475\n",
      "[0.25411798 0.8367376 ], -925855.6734417923\n",
      "[0.2544401  0.83680964], -925847.1675168164\n",
      "[0.25435397 0.8368519 ], -925899.5477792291\n",
      "[0.25396159 0.83698118], -925902.3430495033\n",
      "[0.25390329 0.83708895], -925956.2068088861\n",
      "[0.25433428 0.83717994], -925957.7801677521\n",
      "[0.25485657 0.83716755], -926006.6837503845\n",
      "[0.25521895 0.8371847 ], -926005.6687106865\n",
      "[0.25536534 0.83717232], -926051.5663958872\n",
      "[0.25488047 0.83722152], -926044.5983123675\n",
      "[0.25433768 0.83725649], -926090.0283224522\n",
      "[0.25394872 0.8372481 ], -926087.071286355\n",
      "[0.25398166 0.83703516], -926135.1058321265\n",
      "[0.25430032 0.83675572], -926134.3202628162\n",
      "[0.25456999 0.8363696 ], -926181.0863954644\n",
      "[0.2546581  0.83597831], -926177.77415247\n",
      "[0.254489   0.83563252], -926216.221839147\n",
      "[0.25449237 0.83527866], -926202.8470694125\n",
      "[0.25473203 0.83500588], -926241.258747539\n",
      "[0.25509397 0.83474538], -926229.5964208395\n",
      "[0.25548672 0.83456014], -926269.7085689532\n",
      "[0.25555205 0.83443941], -926256.9916870609\n",
      "[0.25515763 0.83445838], -926290.3078054377\n",
      "[0.25468503 0.83450477], -926270.8339800453\n",
      "[0.25435048 0.83470353], -926304.1183797999\n",
      "[0.25439951 0.83485263], -926286.9585292162\n",
      "[0.25427975 0.83498634], -926311.2520455112\n",
      "[0.25422417 0.83507877], -926285.7386209386\n",
      "[0.25413319 0.83516102], -926308.36759811\n",
      "[0.25397183 0.83518726], -926280.2411728285\n",
      "[0.25359626 0.83510375], -926299.7012130967\n",
      "[0.25329183 0.8349554 ], -926267.559618373\n",
      "[0.25300037 0.83484096], -926281.5023815698\n",
      "[0.25300706 0.8346421 ], -926244.4065580908\n",
      "[0.25300076 0.83443662], -926258.6409591677\n",
      "[0.25291745 0.83420494], -926219.8383426658\n",
      "[0.25284846 0.83403544], -926224.5145706575\n",
      "[0.25237306 0.83387654], -926177.4418533875\n",
      "[0.25164045 0.83377097], -926185.0882454881\n",
      "[0.25133691 0.83359174], -926143.4111078656\n",
      "[0.2513021  0.83341191], -926155.0340414739\n",
      "[0.25142574 0.83318796], -926118.3533057014\n",
      "[0.25127513 0.83293661], -926124.6314738526\n",
      "[0.25054676 0.83272299], -926077.9424136064\n",
      "[0.24963762 0.83254377], -926087.6780672069\n",
      "[0.2491237  0.83231168], -926045.4493642307\n",
      "[0.24911277 0.83219156], -926052.9226521889\n",
      "[0.249567   0.83202519], -926008.3761542046\n",
      "[0.25018028 0.83186947], -926026.5191461176\n",
      "[0.25004684 0.831805  ], -925993.639424631\n",
      "[0.24927249 0.8317605 ], -926001.032518372\n",
      "[0.24848231 0.83173345], -925963.7547349114\n",
      "[0.248167   0.83174068], -925974.2529918642\n",
      "[0.24874084 0.83167198], -925933.48890388\n",
      "[0.24940667 0.83159362], -925943.044322178\n",
      "[0.24950984 0.83159485], -925903.3930808837\n",
      "[0.24928465 0.8316779 ], -925911.9862548828\n",
      "[0.24828351 0.83185999], -925872.7814634233\n",
      "[0.24741428 0.83206902], -925895.2427206005\n",
      "[0.247062   0.83223553], -925870.7374722194\n",
      "[0.24733886 0.83237828], -925899.927344872\n",
      "[0.24761326 0.83252523], -925879.1200145357\n",
      "[0.24733215 0.83265918], -925911.534256808\n",
      "[0.24643546 0.83284696], -925888.714489058\n",
      "[0.24568238 0.83308174], -925915.3258502819\n",
      "[0.24546109 0.83323807], -925893.6720185567\n",
      "[0.24549185 0.8334038 ], -925932.3826526239\n",
      "[0.24562012 0.83351412], -925923.5054812664\n",
      "[0.24573183 0.83368161], -925960.6216940181\n",
      "[0.24536237 0.83384756], -925944.280535616\n",
      "[0.2447805  0.83388566], -925990.1569404438\n",
      "[0.24435525 0.83388225], -925981.4708320852\n",
      "[0.24406069 0.83374742], -926020.0068874749\n",
      "[0.24425908 0.83355763], -926006.4233918013\n",
      "[0.24449358 0.8333242 ], -926041.1624128981\n",
      "[0.24447864 0.83313873], -926025.3731290958\n",
      "[0.24460223 0.83308104], -926060.8982535214\n",
      "[0.24420027 0.83312285], -926045.2930730564\n",
      "[0.24397299 0.83336097], -926091.2205448701\n",
      "[0.24399931 0.83361912], -926088.1361928084\n",
      "[0.24427262 0.83375252], -926137.7901114485\n",
      "[0.2445867  0.83391984], -926138.0499825677\n",
      "[0.2447804  0.83412837], -926205.2112835197\n",
      "[0.24477952 0.83438255], -926222.2627165721\n",
      "[0.24461844 0.83469058], -926294.2395580471\n",
      "[0.24470884 0.8350013 ], -926318.3825313799\n",
      "[0.24505911 0.83529137], -926386.9597284958\n",
      "[0.24548749 0.83558784], -926402.171802982\n",
      "[0.24580782 0.83585427], -926454.8535256109\n",
      "[0.24570519 0.83616615], -926451.077345958\n",
      "[0.24552473 0.83647695], -926493.7696243447\n",
      "[0.24550455 0.83676616], -926480.4850143865\n",
      "[0.24562306 0.83695197], -926513.6726060166\n",
      "[0.2459662  0.83711181], -926494.4363125773\n",
      "[0.24595724 0.8372864 ], -926521.3599334478\n",
      "[0.2458385  0.83745188], -926497.468791993\n",
      "[0.24553777 0.83754566], -926522.7836470949\n",
      "[0.24537545 0.83760912], -926497.3399337146\n",
      "[0.24529371 0.83774586], -926520.006757992\n",
      "[0.24514688 0.83786648], -926492.3739602696\n",
      "[0.24486552 0.83801617], -926514.6717445471\n",
      "[0.24458571 0.83813007], -926486.5372814757\n",
      "[0.24443737 0.8382211 ], -926509.3630634678\n",
      "[0.24474187 0.83823244], -926481.2667553475\n",
      "[0.24515314 0.83824476], -926507.9031469238\n",
      "[0.24536491 0.83824544], -926482.398501203\n",
      "[0.24518928 0.83815156], -926504.4954242519\n",
      "[0.24509096 0.83803127], -926473.1997450455\n",
      "[0.24523327 0.83791342], -926490.5079300618\n",
      "[0.24550122 0.83778012], -926457.4706596757\n",
      "[0.24575835 0.83756143], -926475.7527885343\n",
      "[0.24590346 0.83737989], -926444.2516463223\n",
      "[0.24588632 0.83737239], -926458.0752721233\n",
      "[0.24581733 0.8374147 ], -926418.169247145\n",
      "[0.24584518 0.83754461], -926434.3456014153\n",
      "[0.24606431 0.83770237], -926402.3393610545\n",
      "[0.24632532 0.83795991], -926421.3139693121\n",
      "[0.24651809 0.83827195], -926388.2869523574\n",
      "[0.24651758 0.83864878], -926401.7133028463\n",
      "[0.24627617 0.83906982], -926359.1169009034\n",
      "[0.24611854 0.83958187], -926364.5617740406\n",
      "[0.24624062 0.84003664], -926317.9374701999\n",
      "[0.24639837 0.84034363], -926322.1495044163\n",
      "[0.24700252 0.84054783], -926270.1431865698\n",
      "[0.24739731 0.84059773], -926274.8850756536\n",
      "[0.24792315 0.84058205], -926229.5718636179\n",
      "[0.24829327 0.84043074], -926246.7839398339\n",
      "[0.2489611 0.8402245], -926218.8250652454\n",
      "[0.24963703 0.84007028], -926248.2960273017\n",
      "[0.25046054 0.83991779], -926228.6436093425\n",
      "[0.2508542  0.83969588], -926255.7896451586\n",
      "[0.25082727 0.83956106], -926225.3160791803\n",
      "[0.25072535 0.83953675], -926246.9098803538\n",
      "[0.25032982 0.83959533], -926211.7025807061\n",
      "[0.25008553 0.83979013], -926219.2156236835\n",
      "[0.24998458 0.84000368], -926175.9256225348\n",
      "[0.25021612 0.84026675], -926189.9923505682\n",
      "[0.25038157 0.84055554], -926154.8875921089\n",
      "[0.25036186 0.84096906], -926171.78812876\n",
      "[0.25017147 0.84137924], -926137.4010027125\n",
      "[0.24997169 0.84178483], -926162.8423519725\n",
      "[0.25041976 0.84207722], -926135.009955518\n",
      "[0.25125037 0.84232774], -926153.1799127025\n",
      "[0.25194662 0.84252608], -926119.0161640428\n",
      "[0.25233978 0.84273971], -926138.9440628642\n",
      "[0.25203569 0.84295621], -926108.2615943045\n",
      "[0.25131268 0.84314597], -926129.6648948491\n",
      "[0.25124734 0.84319644], -926099.89217097\n",
      "[0.25168389 0.84315438], -926110.6406132056\n",
      "[0.25235539 0.84302871], -926069.2897938329\n",
      "[0.2527302  0.84291064], -926076.9555294771\n",
      "[0.25217471 0.8428283 ], -926031.1857477616\n",
      "[0.25147517 0.84281217], -926042.3937839073\n",
      "[0.25068373 0.84275668], -926008.1296371466\n",
      "[0.25023313 0.84254693], -926025.0847436244\n",
      "[0.25057609 0.84220602], -925988.4946432591\n",
      "[0.25092649 0.84181667], -925996.6111863202\n",
      "[0.25129983 0.84139185], -925958.3108946393\n",
      "[0.25112967 0.84102775], -925968.3273727288\n",
      "[0.25069563 0.84067695], -925933.1443993442\n",
      "[0.25020645 0.84032339], -925948.6936933573\n",
      "[0.25028543 0.83993187], -925912.2914445291\n",
      "[0.25082024 0.83959853], -925916.9222356818\n",
      "[0.25154173 0.83930129], -925868.8828600213\n",
      "[0.25191074 0.83911107], -925872.4556555968\n",
      "[0.25169678 0.83904486], -925825.859370811\n",
      "[0.2511154  0.83897109], -925832.8140701678\n",
      "[0.25060327 0.83894885], -925787.8022629907\n",
      "[0.25056807 0.83882852], -925794.4063180926\n",
      "[0.2508296  0.83873827], -925749.3054494805\n",
      "[0.25127665 0.83876998], -925760.5264089343\n",
      "[0.25117137 0.83891454], -925723.5741772803\n",
      "[0.25091455 0.83910913], -925735.5521581185\n",
      "[0.25049233 0.83936901], -925700.632548329\n",
      "[0.25034137 0.83966043], -925721.311489007\n",
      "[0.25088976 0.83990333], -925689.3678465899\n",
      "[0.25180714 0.84011436], -925703.8091788007\n",
      "[0.25263682 0.84034578], -925669.9451602922\n",
      "[0.25313887 0.84064998], -925685.5146914135\n",
      "[0.2528657  0.84102449], -925649.7254129859\n",
      "[0.25246221 0.84138493], -925650.5119042005\n",
      "[0.25251791 0.84167632], -925597.3470858885\n",
      "[0.25318775 0.84199401], -925589.1997393474\n",
      "[0.25418048 0.84224425], -925533.3816219994\n",
      "[0.25485527 0.842512  ], -925538.9144206557\n",
      "[0.25472717 0.84279509], -925497.663153446\n",
      "[0.25411455 0.84311011], -925509.8669237257\n",
      "[0.25378575 0.84331872], -925474.4075216932\n",
      "[0.2541148  0.84328922], -925480.1610898837\n",
      "[0.25522643 0.84311099], -925429.9926874255\n",
      "[0.25625972 0.84285062], -925433.3561731437\n",
      "[0.25640711 0.84264077], -925391.7001596967\n",
      "[0.25578728 0.84248406], -925410.4319674565\n",
      "[0.25500499 0.84233337], -925387.6978611433\n",
      "[0.25452015 0.8420788 ], -925409.6780813185\n",
      "[0.25510583 0.84172306], -925377.043458567\n",
      "[0.25573813 0.84134912], -925402.5995092279\n",
      "[0.25585129 0.84104893], -925379.208659796\n",
      "[0.25526365 0.84086379], -925402.1442932999\n",
      "[0.25391218 0.84077837], -925375.6671863658\n",
      "[0.25278547 0.84076107], -925404.3825006492\n",
      "[0.25263049 0.84065216], -925379.6316008253\n",
      "[0.25304767 0.84049932], -925403.1212078708\n",
      "[0.25388734 0.84030777], -925380.0018245471\n",
      "[0.2543738  0.84006269], -925412.029349206\n",
      "[0.25397449 0.83991807], -925396.5395241629\n",
      "[0.25329754 0.83974135], -925436.1388134174\n",
      "[0.25299769 0.83953831], -925426.9214751477\n",
      "[0.2530492  0.83935225], -925461.6358808891\n",
      "[0.25367017 0.83911861], -925443.9285631287\n",
      "[0.2542079  0.83894792], -925476.4532877634\n",
      "[0.2539392 0.8388623], -925458.9894927897\n",
      "[0.25340813 0.83889506], -925491.1664728293\n",
      "[0.25254741 0.8389316 ], -925474.2952187579\n",
      "[0.25198943 0.83888535], -925511.6364401696\n",
      "[0.25235149 0.83870042], -925494.3909064573\n",
      "[0.25317439 0.83838089], -925522.5750372458\n",
      "[0.25353091 0.83806006], -925505.4131111101\n",
      "[0.25333858 0.83778222], -925539.7957486318\n",
      "[0.2525088  0.83754551], -925530.1093793517\n",
      "[0.25193415 0.83729824], -925575.7175690576\n",
      "[0.2522611  0.83696037], -925572.2838324073\n",
      "[0.25291531 0.83666709], -925623.9660800635\n",
      "[0.25382933 0.83636066], -925633.1612592373\n",
      "[0.25445564 0.83619587], -925687.8595633217\n",
      "[0.25420999 0.83615106], -925691.7634361902\n",
      "[0.25399018 0.83608911], -925745.8188521555\n",
      "[0.25372455 0.83605404], -925749.7801959744\n",
      "[0.25361995 0.83596568], -925799.5166948646\n",
      "[0.25402963 0.8358308 ], -925797.0567269205\n",
      "[0.25472782 0.8356986 ], -925850.0836438781\n",
      "[0.255269  0.8355906], -925853.1202889305\n",
      "[0.2556653 0.8354673], -925898.7247768044\n",
      "[0.25549056 0.83540783], -925891.7063634612\n",
      "[0.25519415 0.83533482], -925930.4395549862\n",
      "[0.25508645 0.83523656], -925920.3341783216\n",
      "[0.2552287  0.83505057], -925959.9590791069\n",
      "[0.25585197 0.8348166 ], -925947.5287569743\n",
      "[0.25652356 0.83462105], -925983.715145266\n",
      "[0.25700545 0.83447062], -925970.2749474731\n",
      "[0.25720752 0.83421588], -926008.8539176299\n",
      "[0.25695315 0.83405151], -925994.6663607379\n",
      "[0.25668644 0.83389615], -926029.5178286606\n",
      "[0.25671314 0.8337571 ], -926013.43662172\n",
      "[0.25674246 0.83356332], -926043.8715753256\n",
      "[0.25694364 0.83338988], -926027.1927096007\n",
      "[0.25712096 0.83316525], -926054.5439024237\n",
      "[0.25699696 0.8329848 ], -926033.8954041667\n",
      "[0.2566269  0.83281872], -926056.7913681829\n",
      "[0.25629902 0.83264239], -926030.8285945212\n",
      "[0.25603738 0.83225403], -926056.3964614151\n",
      "[0.25614687 0.83182913], -926030.5299959341\n",
      "[0.25638693 0.83140061], -926056.9779893566\n",
      "[0.25647377 0.83101139], -926032.6193937656\n",
      "[0.25613161 0.83066598], -926055.3844787994\n",
      "[0.25557448 0.83038804], -926028.3710307833\n",
      "[0.25518012 0.83019421], -926061.6731602884\n",
      "[0.25532309 0.82998579], -926043.5438724263\n",
      "[0.25572144 0.82976989], -926075.0834339089\n",
      "[0.25584053 0.8296203 ], -926057.7318789535\n",
      "[0.25571656 0.82944411], -926087.4882551136\n",
      "[0.25511246 0.82935456], -926068.823069224\n",
      "[0.25470121 0.82932494], -926105.7165987382\n",
      "[0.25473348 0.82926827], -926093.0690299479\n",
      "[0.25510416 0.82923523], -926130.6190882573\n",
      "[0.25572609 0.82917838], -926119.4301614059\n",
      "[0.25617233 0.82902909], -926155.4042422222\n",
      "[0.25637307 0.82891023], -926140.7419212244\n",
      "[0.25637967 0.82890097], -926176.7009387566\n",
      "[0.25625142 0.8289057 ], -926167.7039692145\n",
      "[0.2562518  0.82891895], -926206.8345042529\n",
      "[0.25658968 0.82887691], -926196.8150247311\n",
      "[0.2574677  0.82879834], -926234.3323419718\n",
      "[0.25816153 0.82871083], -926222.1660107498\n",
      "[0.2586795  0.82865494], -926257.0062621371\n",
      "[0.25866526 0.82861414], -926239.6271684322\n",
      "[0.25844258 0.82856111], -926268.0570301001\n",
      "[0.25860487 0.82842458], -926247.2418067757\n",
      "[0.25917883 0.82826978], -926273.8534810605\n",
      "[0.26012003 0.82804223], -926252.1471507942\n",
      "[0.26094075 0.82775591], -926278.4326233515\n",
      "[0.26124678 0.8275166 ], -926256.2158539046\n",
      "[0.26113911 0.82739887], -926291.3763138348\n",
      "[0.26100534 0.82729663], -926281.0569914143\n",
      "[0.26120237 0.82729641], -926315.7732517914\n",
      "[0.26208126 0.82723574], -926298.2848148127\n",
      "[0.26309648 0.82721802], -926339.9757324606\n",
      "[0.26369052 0.82724584], -926332.139596816\n",
      "[0.26384456 0.82743313], -926374.2184470528\n",
      "[0.26336603 0.82766895], -926362.8568889672\n",
      "[0.26311038 0.82782353], -926393.8782587091\n",
      "[0.26314062 0.82790119], -926373.0379459818\n",
      "[0.26323702 0.82794312], -926394.2689413172\n",
      "[0.26337945 0.82792374], -926365.2624081676\n",
      "[0.26358268 0.82789852], -926381.8275191912\n",
      "[0.26326698 0.82786625], -926347.7061446129\n",
      "[0.26263133 0.82779241], -926360.996947274\n",
      "[0.26206103 0.82765256], -926324.9368025109\n",
      "[0.26171899 0.82751693], -926335.1102943983\n",
      "[0.26196392 0.82727054], -926294.8924229764\n",
      "[0.2623711  0.82711438], -926302.3823994694\n",
      "[0.26265577 0.82693784], -926259.6154814111\n",
      "[0.26275654 0.82677431], -926268.6205593834\n",
      "[0.26230331 0.82665022], -926226.8484103783\n",
      "[0.26175036 0.82643828], -926236.0695549583\n",
      "[0.26122081 0.82620508], -926195.0793884301\n",
      "[0.26069235 0.82593496], -926201.9366180707\n",
      "[0.26069621 0.8255984 ], -926156.24952961\n",
      "[0.2610502  0.82528202], -926156.2689740205\n",
      "[0.26108503 0.82498915], -926109.7095675436\n",
      "[0.26057804 0.8248135 ], -926109.8250032968\n",
      "[0.25979287 0.82467179], -926062.4379253703\n",
      "[0.25932307 0.82451581], -926064.192639544\n",
      "[0.25960325 0.82429272], -926013.9576246712\n",
      "[0.26011194 0.82406638], -926016.709420155\n",
      "[0.26059953 0.82386884], -925967.836269966\n",
      "[0.26081684 0.82366485], -925961.4167028392\n",
      "[0.26033978 0.82358764], -925903.9932965358\n",
      "[0.25973284 0.82358568], -925902.1493872589\n",
      "[0.2594346  0.82360651], -925849.0915610618\n",
      "[0.25955323 0.8236077 ], -925846.2420793029\n",
      "[0.26021423 0.82359523], -925791.892294489\n",
      "[0.26084019 0.82371956], -925786.644384471\n",
      "[0.26072144 0.82395874], -925732.2475096809\n",
      "[0.26048336 0.82418675], -925730.6425638428\n",
      "[0.25972288 0.82448754], -925682.1680695055\n",
      "[0.25880763 0.82472796], -925686.9471636572\n",
      "[0.25867283 0.82487174], -925642.6037366495\n",
      "[0.25936521 0.82491575], -925642.141499851\n",
      "[0.26041699 0.82490731], -925593.0376980163\n",
      "[0.26120665 0.82494956], -925594.1911844171\n",
      "[0.26101208 0.82509598], -925539.703478322\n",
      "[0.26060941 0.82518126], -925534.0420377206\n",
      "[0.26003714 0.82528547], -925480.7061987497\n",
      "[0.25999969 0.82535843], -925479.1896097255\n",
      "[0.26047949 0.82538306], -925429.8769445857\n",
      "[0.26082004 0.82545039], -925444.0855153608\n",
      "[0.26088197 0.82555475], -925410.4961693503\n",
      "[0.26060825 0.82565218], -925432.4564941959\n",
      "[0.25980015 0.82580291], -925404.4496087473\n",
      "[0.25911363 0.82597404], -925437.6315538449\n",
      "[0.25878295 0.82609941], -925420.7544231322\n",
      "[0.25905494 0.82620127], -925449.9508239054\n",
      "[0.25962295 0.82625091], -925427.5065643927\n",
      "[0.25981774 0.8262988 ], -925451.267894864\n",
      "[0.25952385 0.82638296], -925420.6771366666\n",
      "[0.25918087 0.82647286], -925437.615230845\n",
      "[0.25917183 0.82652615], -925403.0822065364\n",
      "[0.25944934 0.82652546], -925412.3330221118\n",
      "[0.26014941 0.82651983], -925372.9871302951\n",
      "[0.26068497 0.8267159 ], -925393.3806302468\n",
      "[0.26079628 0.82702461], -925366.720676718\n",
      "[0.26061594 0.82740119], -925396.2269700638\n",
      "[0.26011199 0.82788019], -925377.5733491995\n",
      "[0.25949397 0.82838908], -925410.3690877254\n",
      "[0.25930677 0.8288821 ], -925393.0213901739\n",
      "[0.25908157 0.82915695], -925429.6831032849\n",
      "[0.25904619 0.82941801], -925417.7906735067\n",
      "[0.25914178 0.82963105], -925455.267101756\n",
      "[0.25893529 0.82987314], -925441.4474575049\n",
      "[0.25819496 0.830114  ], -925482.1136354224\n",
      "[0.2577973  0.83030757], -925474.3426720542\n",
      "[0.25778714 0.83053753], -925511.3146782246\n",
      "[0.2586768  0.83068732], -925496.6835352863\n",
      "[0.25960448 0.83068981], -925535.4847281626\n",
      "[0.26016574 0.83076778], -925526.749635755\n",
      "[0.26016923 0.83080014], -925569.855836076\n",
      "[0.25980449 0.83093396], -925566.4756030681\n",
      "[0.25928584 0.8310718 ], -925616.8512051818\n",
      "[0.2595899  0.83118802], -925617.7925534215\n",
      "[0.26018101 0.83138452], -925673.476359252\n",
      "[0.26094291 0.83161942], -925679.8255767322\n",
      "[0.26142291 0.83179328], -925739.3291468429\n",
      "[0.26078764 0.83211809], -925740.5109565626\n",
      "[0.25992117 0.8324676 ], -925792.916305377\n",
      "[0.25890879 0.83283745], -925794.4482434894\n",
      "[0.25824191 0.83328291], -925835.260491953\n",
      "[0.25833899 0.83361366], -925822.3903049817\n",
      "[0.25862615 0.83383172], -925871.5068950438\n",
      "[0.25874928 0.83401905], -925869.2107109679\n",
      "[0.25851328 0.8342882 ], -925918.0094649236\n",
      "[0.25771414 0.83455427], -925915.2939213141\n",
      "[0.25698853 0.83477117], -925973.1255200453\n",
      "[0.25687353 0.83486449], -925979.623900841\n",
      "[0.25716888 0.83503748], -926034.9021028873\n",
      "[0.2578313  0.83512043], -926036.625585967\n",
      "[0.25833856 0.83523422], -926083.6750151996\n",
      "[0.25809815 0.83538661], -926075.7503053442\n",
      "[0.25757077 0.83551291], -926121.8297303029\n",
      "[0.25684087 0.8356266 ], -926119.071998688\n",
      "[0.25638495 0.83571758], -926176.2900932205\n",
      "[0.25665663 0.83569281], -926180.596889868\n",
      "[0.25729226 0.83558282], -926231.1112591462\n",
      "[0.25747317 0.83548584], -926229.6077793655\n",
      "[0.25720251 0.83546056], -926276.5798403259\n",
      "[0.25628999 0.83546858], -926271.6856974203\n",
      "[0.25541062 0.83537189], -926319.4495057766\n",
      "[0.25537582 0.83516217], -926314.7655330509\n",
      "[0.25589925 0.83494717], -926359.9723024424\n",
      "[0.2566011  0.83469196], -926354.7201199963\n",
      "[0.25719086 0.83440829], -926399.8219468493\n",
      "[0.25667915 0.83423911], -926386.4496442417\n",
      "[0.25549277 0.83409361], -926428.0047752459\n",
      "[0.25458217 0.83394055], -926421.276339139\n",
      "[0.25432917 0.83357686], -926459.803989892\n",
      "[0.25534859 0.83309423], -926436.4030177937\n",
      "[0.25624911 0.83274555], -926471.5169459888\n",
      "[0.25632265 0.83251748], -926455.6246487283\n",
      "[0.25611679 0.83240191], -926494.9289976169\n",
      "[0.25518444 0.832396  ], -926487.7237845083\n",
      "[0.2545115  0.83244324], -926529.581058814\n",
      "[0.25465276 0.83243151], -926516.4155333611\n",
      "[0.25516479 0.83240927], -926545.7281503523\n",
      "[0.25590082 0.83236685], -926523.0008172242\n",
      "[0.25659913 0.83248499], -926547.9639129456\n",
      "[0.25649619 0.832678  ], -926517.8992089904\n",
      "[0.25609026 0.83305126], -926543.3403855993\n",
      "[0.25567109 0.83339767], -926519.5885552664\n",
      "[0.25541996 0.83369832], -926536.2615211315\n",
      "[0.25613455 0.83386259], -926493.4349629951\n",
      "[0.25710207 0.83387951], -926501.4578025523\n",
      "[0.25786068 0.83388458], -926458.2093357734\n",
      "[0.25816409 0.83398051], -926469.1611662584\n",
      "[0.25760269 0.83415018], -926426.8790417121\n",
      "[0.25700351 0.83439386], -926436.6765416937\n",
      "[0.25702379 0.83454301], -926394.9296468176\n",
      "[0.25745846 0.83461735], -926413.1103996763\n",
      "[0.25847215 0.83459424], -926381.9250550488\n",
      "[0.25917143 0.83448374], -926402.8653198546\n",
      "[0.25916252 0.8344217 ], -926369.9839657319\n",
      "[0.25862315 0.83437169], -926381.3420013706\n",
      "[0.25824913 0.83428697], -926340.7281889294\n",
      "[0.2582585  0.83416303], -926353.9126191683\n",
      "[0.25884335 0.83398986], -926313.7898883654\n",
      "[0.25944802 0.83390182], -926327.2006688794\n",
      "[0.25946568 0.83391265], -926288.6450923443\n",
      "[0.25890889 0.83403318], -926306.414782469\n",
      "[0.25788468 0.83423722], -926273.2718002071\n",
      "[0.25685149 0.83436121], -926297.9776696179\n",
      "[0.25670639 0.83441134], -926268.5169397376\n",
      "[0.25712768 0.83442955], -926287.6582632286\n",
      "[0.25739684 0.83446771], -926254.7980965981\n",
      "[0.25749942 0.83453809], -926276.3817165381\n",
      "[0.25682672 0.8346913 ], -926242.1032808595\n",
      "[0.25577439 0.83490454], -926261.5327285557\n",
      "[0.25564029 0.83501966], -926230.42958325\n",
      "[0.25593095 0.83507197], -926253.0612344436\n",
      "[0.25699916 0.83505128], -926224.8598243281\n",
      "[0.25774554 0.83512001], -926251.4831206946\n",
      "[0.257652   0.83529663], -926219.6362441059\n",
      "[0.25726   0.8354948], -926230.8086945869\n",
      "[0.25673028 0.8357425 ], -926189.5008069519\n",
      "[0.25654957 0.8359078 ], -926195.4731024809\n",
      "[0.25731635 0.83601409], -926147.5848754343\n",
      "[0.25791896 0.83592641], -926147.0335851134\n",
      "[0.25840465 0.83590335], -926097.9982277345\n",
      "[0.25870777 0.83584899], -926110.7656696126\n",
      "[0.25828511 0.83593255], -926071.3808512646\n",
      "[0.25796243 0.83606332], -926084.0338402517\n",
      "[0.25778331 0.83622019], -926045.9436118543\n",
      "[0.25772698 0.83640089], -926055.9209579814\n",
      "[0.25805398 0.83655358], -926013.6717668148\n",
      "[0.25811984 0.83648019], -926017.6324978229\n",
      "[0.25799767 0.83640078], -925971.9192211886\n",
      "[0.25765917 0.83631857], -925972.408113685\n",
      "[0.25712251 0.83620381], -925919.9110629775\n",
      "[0.25674086 0.83602203], -925915.7976123756\n",
      "[0.25663393 0.83574714], -925855.5500574298\n",
      "[0.25652311 0.83550262], -925846.3946564414\n",
      "[0.25630361 0.83521383], -925783.2906549168\n",
      "[0.25610374 0.83505087], -925774.7185385766\n",
      "[0.25594365 0.83483445], -925716.9314752471\n",
      "[0.2558159  0.83465508], -925714.3826925863\n",
      "[0.25591215 0.83440276], -925659.9456673717\n",
      "[0.25589867 0.83411268], -925661.6706042564\n",
      "[0.25604764 0.83378177], -925607.6999709881\n",
      "[0.25641838 0.83355619], -925600.4758724156\n",
      "[0.25666492 0.83334394], -925538.7831907427\n",
      "[0.25661422 0.83316705], -925521.3373401533\n",
      "[0.25642373 0.83304011], -925451.714794961\n",
      "[0.25631471 0.83290205], -925428.7020645362\n",
      "[0.25639639 0.83279819], -925355.5259375271\n",
      "[0.25669604 0.8327783 ], -925334.4744570743\n",
      "[0.25721957 0.83278439], -925264.7388085783\n",
      "[0.25767327 0.83288798], -925253.5608730994\n",
      "[0.25799383 0.83305647], -925189.9383893566\n",
      "[0.25820084 0.83328857], -925184.8060337341\n",
      "[0.25828974 0.83356611], -925127.7345804411\n",
      "[0.25857334 0.83385522], -925132.32937363\n",
      "[0.25885124 0.8341688 ], -925087.5895924438\n",
      "[0.25903205 0.83441618], -925100.3812338457\n",
      "[0.2590182  0.83468924], -925067.1505194886\n",
      "[0.25876345 0.83498215], -925092.3964696582\n",
      "[0.25862462 0.8352517 ], -925071.8050610555\n",
      "[0.25884191 0.83549948], -925107.5892210162\n",
      "[0.25938376 0.83568329], -925093.6822005439\n",
      "[0.25998127 0.83581866], -925125.1734432561\n",
      "[0.26032084 0.83593478], -925106.4495210398\n",
      "[0.26091048 0.83612417], -925142.4015305213\n",
      "[0.26115107 0.83629644], -925131.639304508\n",
      "[0.26152156 0.8365446 ], -925173.47475231\n",
      "[0.26204892 0.836724  ], -925163.9734813678\n",
      "[0.26263242 0.83677388], -925198.4835530733\n",
      "[0.26342941 0.83675186], -925182.0243798497\n",
      "[0.26412821 0.8367324 ], -925225.4582998194\n",
      "[0.26424044 0.83673332], -925216.5476552899\n",
      "[0.26395265 0.8367506 ], -925253.6206405872\n",
      "[0.26335444 0.83674973], -925238.1040946812\n",
      "[0.2628893  0.83677146], -925271.370351533\n",
      "[0.26288768 0.83667682], -925254.1644826418\n",
      "[0.26314166 0.83648608], -925286.4191464571\n",
      "[0.2633279  0.83623195], -925269.2525287016\n",
      "[0.26346807 0.83589717], -925298.8379401783\n",
      "[0.26279444 0.83559308], -925274.1672930062\n",
      "[0.26203823 0.83526294], -925304.0174854529\n",
      "[0.26125849 0.83489895], -925285.4392813607\n",
      "[0.26077063 0.83454026], -925311.5323702886\n",
      "[0.26090977 0.83410912], -925287.2331465944\n",
      "[0.26116504 0.83362352], -925321.020075609\n",
      "[0.26117587 0.83318755], -925305.8591329004\n",
      "[0.26071544 0.8327724 ], -925342.8818151\n",
      "[0.25977475 0.83246368], -925329.263456134\n",
      "[0.25882085 0.83210679], -925365.8953004937\n",
      "[0.2585706  0.83175469], -925350.7412440557\n",
      "[0.25842109 0.83155661], -925388.6665167654\n",
      "[0.25887361 0.83139303], -925377.2828533672\n",
      "[0.25928994 0.83135302], -925413.4636905658\n",
      "[0.25904447 0.83148195], -925398.340263281\n",
      "[0.25846471 0.8317316 ], -925425.7383501299\n",
      "[0.25774666 0.83207659], -925405.0902675923\n",
      "[0.25734425 0.83245215], -925437.5006843838\n",
      "[0.25782058 0.83279421], -925419.1881865112\n",
      "[0.25854829 0.83321123], -925447.8607234369\n",
      "[0.2591397  0.83368101], -925427.6707125213\n",
      "[0.25935701 0.83410733], -925461.4792686614\n",
      "[0.25909702 0.83460627], -925446.4689133366\n",
      "[0.25895824 0.83509357], -925490.4736287007\n",
      "[0.25913583 0.83555825], -925486.3273501105\n",
      "[0.2597091 0.8359928], -925538.5139033567\n",
      "[0.26037705 0.83640593], -925543.1600521246\n",
      "[0.26067167 0.83686072], -925598.3866745462\n",
      "[0.26027715 0.83736939], -925599.5434947383\n",
      "[0.25974303 0.83777715], -925643.9875197723\n",
      "[0.25912428 0.83815545], -925631.6854918075\n",
      "[0.25859061 0.83849964], -925664.8398828469\n",
      "[0.25843303 0.83875487], -925643.3634953321\n",
      "[0.25874852 0.83892659], -925673.0109340823\n",
      "[0.25876587 0.83906352], -925653.4132444521\n",
      "[0.25834025 0.83928095], -925679.0048867296\n",
      "[0.25728191 0.83948347], -925651.9695460311\n",
      "[0.25640205 0.83969806], -925681.2625729569\n",
      "[0.25600762 0.8397854 ], -925659.1492620638\n",
      "[0.2560418 0.8398633], -925688.6472241569\n",
      "[0.25640037 0.83984889], -925664.4777799402\n",
      "[0.25639555 0.83973426], -925689.1919208344\n",
      "[0.25577641 0.83965684], -925659.1031462186\n",
      "[0.25533143 0.83957083], -925679.7222613365\n",
      "[0.25462944 0.83950886], -925651.7455391537\n",
      "[0.25389986 0.83936558], -925671.945168205\n",
      "[0.25350142 0.83921113], -925639.7944329592\n",
      "[0.25335698 0.8391324 ], -925653.9067240081\n",
      "[0.25315254 0.83909625], -925616.6040470543\n",
      "[0.25274914 0.83919895], -925628.442666905\n",
      "[0.25212499 0.83935317], -925588.4403039995\n",
      "[0.25143317 0.83963797], -925597.7747613877\n",
      "[0.25132318 0.83987464], -925555.2178642702\n",
      "[0.25143601 0.8400315 ], -925569.1439639068\n",
      "[0.25196295 0.84015934], -925535.016473365\n",
      "[0.25227848 0.84008503], -925551.4660966\n",
      "[0.25208484 0.84007938], -925517.3457060251\n",
      "[0.25162179 0.84001383], -925527.8318598142\n",
      "[0.25129906 0.83996322], -925488.4892268825\n",
      "[0.25129375 0.83991131], -925498.2577373043\n",
      "[0.25186152 0.83984668], -925456.174966323\n",
      "[0.25233687 0.83978913], -925458.4067422391\n",
      "[0.25243131 0.83981222], -925412.6855873001\n",
      "[0.25214287 0.83978229], -925421.7256726974\n",
      "[0.25173248 0.83979767], -925387.7952164653\n",
      "[0.25157989 0.83979864], -925408.1236277173\n",
      "[0.25175144 0.83979199], -925378.0357238848\n",
      "[0.25200206 0.83962209], -925393.658397591\n",
      "[0.25218835 0.83949293], -925359.7038798544\n",
      "[0.25248112 0.83943399], -925381.8974542462\n",
      "[0.25253963 0.83944165], -925353.8102419442\n",
      "[0.25262637 0.8394478 ], -925371.4598159783\n",
      "[0.2527772  0.83950266], -925337.3709550549\n",
      "[0.25282044 0.83955198], -925356.9901400789\n",
      "[0.2531403  0.83963181], -925328.0103339524\n",
      "[0.25360423 0.83975409], -925353.2979823083\n",
      "[0.25395681 0.83993881], -925334.3009471161\n",
      "[0.25418249 0.84014586], -925363.4485820732\n",
      "[0.25426561 0.84041866], -925343.8519747005\n",
      "[0.25451561 0.84060914], -925372.3319414911\n",
      "[0.25449664 0.84084356], -925350.5564811334\n",
      "[0.25430497 0.84106512], -925376.833164297\n",
      "[0.254223  0.8412661], -925354.8130674678\n",
      "[0.25384554 0.84142771], -925387.741569377\n",
      "[0.25390542 0.84150979], -925367.4945768832\n",
      "[0.25418397 0.8414922 ], -925402.7796377618\n",
      "[0.25439186 0.84145319], -925386.3316383341\n",
      "[0.25422903 0.84130143], -925411.7829485912\n",
      "[0.25375067 0.84117698], -925387.897056015\n",
      "[0.25349525 0.84114023], -925419.5394894179\n",
      "[0.25351172 0.84109688], -925402.151568448\n",
      "[0.25391752 0.84114425], -925434.3208127794\n",
      "[0.25462316 0.84119787], -925415.3249641003\n",
      "[0.25494915 0.84132099], -925455.8586232481\n",
      "[0.25489982 0.84152603], -925442.2688426466\n",
      "[0.25488308 0.84168066], -925475.3401395214\n",
      "[0.25462211 0.84189433], -925455.756899561\n",
      "[0.25447464 0.84211216], -925493.5730844347\n",
      "[0.25443406 0.84232791], -925480.5946917797\n",
      "[0.25475364 0.84254144], -925510.5700943789\n",
      "[0.25482434 0.84277522], -925490.7121930962\n",
      "[0.25480847 0.84302577], -925524.6542192999\n",
      "[0.2544247  0.84327755], -925510.2661154479\n",
      "[0.25377223 0.84346405], -925551.8847723932\n",
      "[0.25334418 0.84357418], -925543.7630946313\n",
      "[0.2529639  0.84366167], -925594.9888973683\n",
      "[0.25340229 0.84359526], -925591.1293570084\n",
      "[0.25392485 0.84348712], -925632.0306718557\n",
      "[0.25407621 0.84335787], -925619.8599590628\n",
      "[0.25363709 0.84326842], -925648.613080884\n",
      "[0.25267395 0.8431902 ], -925625.4028898095\n",
      "[0.2518894  0.84310842], -925659.2423592263\n",
      "[0.2516708  0.84293935], -925638.3991795954\n",
      "[0.25193598 0.84271271], -925666.1423743509\n",
      "[0.2520147  0.84248264], -925643.6649649477\n",
      "[0.25180331 0.84234976], -925673.6344684554\n",
      "[0.25108958 0.84225804], -925651.4324130593\n",
      "[0.2503891  0.84208911], -925686.3512950441\n",
      "[0.25027481 0.84185792], -925667.3680388083\n",
      "[0.25078959 0.84163676], -925693.1760446533\n",
      "[0.25157918 0.84140404], -925664.5751114887\n",
      "[0.25246391 0.84138118], -925689.5607963518\n",
      "[0.25270586 0.84145881], -925663.7970091635\n",
      "Performed 3511.0 adaptation steps\n"
     ]
    }
   ],
   "source": [
    "from jax import numpy as jnp, random as jr\n",
    "from jax.flatten_util import ravel_pytree\n",
    "from blackjax.mcmc.integrators import isokinetic_mclachlan, isokinetic_velocity_verlet, isokinetic_yoshida, isokinetic_omelyan\n",
    "from functools import partial\n",
    "\n",
    "warmup_fn = get_mclmc_warmup(lnlike_test, n_steps=4096, config=None, \n",
    "                            desired_energy_var=1e-6, diagonal_preconditioning=True)\n",
    "state2, config2 = warmup_fn(jr.key(43), newparam)\n"
   ]
  },
  {
   "cell_type": "code",
   "execution_count": 93,
   "metadata": {},
   "outputs": [],
   "source": [
    "test_param = copy.deepcopy(state2.position)\n",
    "#test_param['cosmo']=cosmoparaminit_true_new['cosmo']#jnp.array([0.0,0.0])\n",
    "test_param = cosmo2base(test_param)\n",
    "test_param = mesh2base(test_param)\n",
    "#test_param['field'] = cgh2rg(extract_rfftn_from_fftn_jax((fft3d(obs)/np.sqrt(pkmesh))))#\n",
    "test = model(jax.lax.stop_gradient(test_param))#+jax.random.normal(jax.random.PRNGKey(0),[cubegrid_size,cubegrid_size,cubegrid_size])"
   ]
  },
  {
   "cell_type": "code",
   "execution_count": 94,
   "metadata": {},
   "outputs": [
    {
     "data": {
      "text/plain": [
       "<matplotlib.image.AxesImage at 0x7efdcb9b97b0>"
      ]
     },
     "execution_count": 94,
     "metadata": {},
     "output_type": "execute_result"
    },
    {
     "data": {
      "image/png": "[encoded data removed]",
      "text/plain": [
       "<Figure size 640x480 with 1 Axes>"
      ]
     },
     "metadata": {},
     "output_type": "display_data"
    }
   ],
   "source": [
    "plt.imshow(test[0])"
   ]
  },
  {
   "cell_type": "code",
   "execution_count": 95,
   "metadata": {},
   "outputs": [
    {
     "data": {
      "text/plain": [
       "Array([0.25270586, 0.84145881], dtype=float64)"
      ]
     },
     "execution_count": 95,
     "metadata": {},
     "output_type": "execute_result"
    }
   ],
   "source": [
    "cosmo2base(state2.position)['cosmo']"
   ]
  },
  {
   "cell_type": "code",
   "execution_count": 97,
   "metadata": {
    "scrolled": true
   },
   "outputs": [],
   "source": [
    "inverse_mass_matrix = jnp.copy(config2.inverse_mass_matrix)\n",
    "#inverse_mass_matrix  = inverse_mass_matrix.at[0].set(inverse_mass_matrix[1])"
   ]
  },
  {
   "cell_type": "code",
   "execution_count": 98,
   "metadata": {},
   "outputs": [],
   "source": [
    "eval_per_ess = 1e3\n",
    "ss = jnp.median(config2.step_size)\n",
    "config3 = MCLMCAdaptationState(L=0.4 * eval_per_ess/2 * ss, \n",
    "                                step_size=ss, \n",
    "                                inverse_mass_matrix=inverse_mass_matrix )"
   ]
  },
  {
   "cell_type": "code",
   "execution_count": 101,
   "metadata": {},
   "outputs": [],
   "source": [
    "test_param = copy.deepcopy(state2.position)\n",
    "test_param = cosmo2base(test_param)\n",
    "test_param = mesh2base(test_param)\n",
    "#test_param['field'] = cgh2rg(extract_rfftn_from_fftn_jax((fft3d(obs)/np.sqrt(pkmesh))))#\n",
    "test = model(jax.lax.stop_gradient(test_param))#+jax.random.normal(jax.random.PRNGKey(0),[cubegrid_size,cubegrid_size,cubegrid_size])"
   ]
  },
  {
   "cell_type": "code",
   "execution_count": 102,
   "metadata": {},
   "outputs": [
    {
     "data": {
      "text/plain": [
       "<matplotlib.legend.Legend at 0x7efdd0ddee90>"
      ]
     },
     "execution_count": 102,
     "metadata": {},
     "output_type": "execute_result"
    },
    {
     "data": {
      "image/png": "[encoded data removed]",
      "text/plain": [
       "<Figure size 640x480 with 1 Axes>"
      ]
     },
     "metadata": {},
     "output_type": "display_data"
    }
   ],
   "source": [
    "from jaxpm.utils import pktranscoh\n",
    "ks, pk0, pk1, t1,t2= pktranscoh(test, obs, box_shape=[cube_size, cube_size, cube_size])\n",
    "plt.loglog(ks, pk0, label=\"test\")\n",
    "plt.loglog(ks, pk1, label=\"obs\", ls=\"--\")\n",
    "plt.legend()"
   ]
  },
  {
   "cell_type": "code",
   "execution_count": 103,
   "metadata": {},
   "outputs": [
    {
     "data": {
      "text/plain": [
       "[<matplotlib.lines.Line2D at 0x7efdcbda87f0>]"
      ]
     },
     "execution_count": 103,
     "metadata": {},
     "output_type": "execute_result"
    },
    {
     "data": {
      "image/png": "[encoded data removed]",
      "text/plain": [
       "<Figure size 640x480 with 1 Axes>"
      ]
     },
     "metadata": {},
     "output_type": "display_data"
    }
   ],
   "source": [
    "plt.semilogx(ks, t1, label=\"test\")\n"
   ]
  },
  {
   "cell_type": "markdown",
   "metadata": {},
   "source": [
    "# Main run"
   ]
  },
  {
   "cell_type": "code",
   "execution_count": 114,
   "metadata": {},
   "outputs": [],
   "source": [
    "def get_mclmc_run(logdf, n_samples, transform=None, thinning=1, progress_bar=True):\n",
    "    return partial(mclmc_run, \n",
    "                   logdf=logdf,\n",
    "                   n_samples=n_samples,\n",
    "                   transform=transform,\n",
    "                   thinning=thinning,    \n",
    "                   progress_bar=progress_bar)\n",
    "\n",
    "def mclmc_run(rng, state, config:dict|MCLMCAdaptationState, logdf, n_samples,\n",
    "              transform=None, thinning=1, progress_bar=True):\n",
    "    integrator = isokinetic_mclachlan\n",
    "\n",
    "    if integrator == isokinetic_velocity_verlet:\n",
    "        n_eval_per_steps = 1\n",
    "    elif integrator == isokinetic_mclachlan:\n",
    "        n_eval_per_steps = 2\n",
    "    elif integrator == isokinetic_yoshida:\n",
    "        n_eval_per_steps = 3\n",
    "    elif integrator == isokinetic_omelyan:\n",
    "        n_eval_per_steps = 5\n",
    "\n",
    "    if transform is None:\n",
    "        n_dim = len(ravel_pytree(state.position)[0])\n",
    "        transform = lambda state, info: (state.position,\n",
    "                                    {'logdensity': state.logdensity,\n",
    "                                     'mse_per_dim': jnp.mean(info.energy_change**2) / n_dim})\n",
    "\n",
    "\n",
    "    if isinstance(config, dict):\n",
    "        L = config['L']\n",
    "        step_size = config['step_size']\n",
    "        inverse_mass_matrix = config.get('inverse_mass_matrix', 1.0)\n",
    "\n",
    "    elif isinstance(config, MCLMCAdaptationState):\n",
    "        L = config.L\n",
    "        step_size = config.step_size\n",
    "        inverse_mass_matrix = config.inverse_mass_matrix\n",
    "    print(config)\n",
    "    # Use the quick wrapper to build a new kernel with the tuned parameters\n",
    "    sampler = blackjax.mclmc(logdf, L=L, step_size=step_size,\n",
    "                            inverse_mass_matrix=inverse_mass_matrix,\n",
    "                            integrator=integrator,)\n",
    "\n",
    "    # Run the sampler\n",
    "    if thinning==1:\n",
    "        state, history = run_inference_algorithm(\n",
    "            rng_key=rng,\n",
    "            initial_state=state,\n",
    "            inference_algorithm=sampler,\n",
    "            num_steps=n_samples,\n",
    "            transform=transform,\n",
    "            progress_bar=progress_bar,\n",
    "        )\n",
    "    else:\n",
    "        state, history = run_with_thinning(\n",
    "            rng_key=rng,\n",
    "            inference_algorithm=sampler,\n",
    "            num_steps=n_samples,\n",
    "            initial_state=state,\n",
    "            transform=transform,\n",
    "            progress_bar=progress_bar,\n",
    "            thinning=thinning\n",
    "        )\n",
    "    #samples, infos = history\n",
    "\n",
    "    # Register number of evaluations\n",
    "    #infos |= {\"n_evals\": n_eval_per_steps * thinning * jnp.ones(n_samples)}\n",
    "    return state, history\n",
    "\n",
    "from functools import partial\n",
    "from typing import Callable, Union\n",
    "\n",
    "from blackjax.base import SamplingAlgorithm, VIAlgorithm\n",
    "from blackjax.progress_bar import progress_bar_scan\n",
    "from blackjax.types import ArrayLikeTree, PRNGKey\n",
    "\n",
    "def run_with_thinning(\n",
    "    rng_key: PRNGKey,\n",
    "    inference_algorithm: SamplingAlgorithm|VIAlgorithm,\n",
    "    num_steps: int,\n",
    "    initial_state: ArrayLikeTree = None,\n",
    "    initial_position: ArrayLikeTree = None,\n",
    "    progress_bar: bool = False,\n",
    "    thinning: int = 1,\n",
    "    transform: Callable = lambda state, info: (state, info),\n",
    ") -> tuple:\n",
    "    \"\"\"\n",
    "    Wrapper to run an inference algorithm.\n",
    "\n",
    "    Note that this utility function does not work for Stochastic Gradient MCMC samplers\n",
    "    like sghmc, as SG-MCMC samplers require additional control flow for batches of data\n",
    "    to be passed in during each sample.\n",
    "\n",
    "    Parameters\n",
    "    ----------\n",
    "    rng_key\n",
    "        The random state used by JAX's random numbers generator.\n",
    "    initial_state\n",
    "        The initial state of the inference algorithm.\n",
    "    initial_position\n",
    "        The initial position of the inference algorithm. This is used when the initial\n",
    "        state is not provided.\n",
    "    inference_algorithm\n",
    "        One of blackjax's sampling algorithms or variational inference algorithms.\n",
    "    num_steps\n",
    "        Number of MCMC steps.\n",
    "    progress_bar\n",
    "        Whether to display a progress bar.\n",
    "    transform\n",
    "        A transformation of the trace of states to be returned. This is useful for\n",
    "        computing determinstic variables, or returning a subset of the states.\n",
    "        By default, the states are returned as is.\n",
    "    thinning\n",
    "        The thinning factor, meaning a state is returned every `thinning` steps.\n",
    "    \"\"\"\n",
    "\n",
    "    if initial_state is None and initial_position is None:\n",
    "        raise ValueError(\n",
    "            \"Either `initial_state` or `initial_position` must be provided.\"\n",
    "        )\n",
    "    if initial_state is not None and initial_position is not None:\n",
    "        raise ValueError(\n",
    "            \"Only one of `initial_state` or `initial_position` must be provided.\"\n",
    "        )\n",
    "\n",
    "    if initial_state is None:\n",
    "        rng_key, init_key = jr.split(rng_key, 2)\n",
    "        initial_state = inference_algorithm.init(initial_position, init_key)\n",
    "\n",
    "    @jax.jit\n",
    "    def one_sub_step(state, rng_key):\n",
    "        state, info = inference_algorithm.step(rng_key, state)\n",
    "        return state, info\n",
    "    \n",
    "    #def one_step(state, xs):\n",
    "    #    _, rng_key = xs\n",
    "    #    #keys = jr.split(rng_key, thinning)\n",
    "    #    state, info = #lax.scan(one_sub_step, state, keys)\n",
    "    #    return state, transform(state, info)\n",
    "\n",
    "    keys = jr.split(rng_key, num_steps)\n",
    "    #xs = jnp.arange(num_steps), keys\n",
    "    \n",
    "    #scan_fn = gen_scan_fn(num_steps, progress_bar)\n",
    "    #final_state, history = scan_fn(one_step, initial_state, xs)\n",
    "\n",
    "    ys = []\n",
    "    state = initial_state\n",
    "    index = 0 \n",
    "    cpus = jax.devices(\"cpu\")\n",
    "    gpus = jax.devices(\"gpu\")\n",
    "\n",
    "    for k in tqdm(keys):\n",
    "        \n",
    "        state, y = one_sub_step(state, k)\n",
    "        #jax.debug.print(\"{x}\", x=state.position['cosmo'])\n",
    "        #y = jax.jit(lambda y:y, device=gpus[0])(y) \n",
    "        p = jax.jit(lambda y:y, device=cpus[0])(state.position) \n",
    "        \n",
    "        if index%thinning==0:\n",
    "            jax.debug.print(\"{x}\", x=p['cosmo'])\n",
    "            ys.append(p)\n",
    "        index += 1\n",
    "    return state, ys\n",
    "\n",
    "\n",
    "    #return final_state, history\n",
    "from tqdm import tqdm\n",
    "run_fn = get_mclmc_run(lnlike, 150000, progress_bar=True)"
   ]
  },
  {
   "cell_type": "code",
   "execution_count": 115,
   "metadata": {},
   "outputs": [],
   "source": [
    "key = jax.random.key(0)\n",
    "init_key, tune_key, run_key = jax.random.split(key, 3)\n",
    "# create an initial state for the sampler\n",
    "initial_state = blackjax.mcmc.mclmc.init(\n",
    "        position=state2.position, logdensity_fn=lnlike, rng_key=init_key\n",
    ")"
   ]
  },
  {
   "cell_type": "code",
   "execution_count": 116,
   "metadata": {},
   "outputs": [
    {
     "data": {
      "text/plain": [
       "Array(-925663.79700916, dtype=float64)"
      ]
     },
     "execution_count": 116,
     "metadata": {},
     "output_type": "execute_result"
    }
   ],
   "source": [
    "lnlike(initial_state.position)"
   ]
  },
  {
   "cell_type": "code",
   "execution_count": 117,
   "metadata": {},
   "outputs": [
    {
     "data": {
      "text/plain": [
       "MCLMCAdaptationState(L=Array(5497.04421451, dtype=float64), step_size=Array(27.48522107, dtype=float64), inverse_mass_matrix=Array([0.77703756, 0.16076012, 1.99407803, ..., 1.57857764, 1.20073507,\n",
       "       1.28796361], dtype=float64))"
      ]
     },
     "execution_count": 117,
     "metadata": {},
     "output_type": "execute_result"
    }
   ],
   "source": [
    "config3"
   ]
  },
  {
   "cell_type": "code",
   "execution_count": 118,
   "metadata": {},
   "outputs": [
    {
     "name": "stdout",
     "output_type": "stream",
     "text": [
      "MCLMCAdaptationState(L=Array(5497.04421451, dtype=float64), step_size=Array(27.48522107, dtype=float64), inverse_mass_matrix=Array([0.77703756, 0.16076012, 1.99407803, ..., 1.57857764, 1.20073507,\n",
      "       1.28796361], dtype=float64))\n"
     ]
    },
    {
     "name": "stderr",
     "output_type": "stream",
     "text": [
      "  0%|▌                                                                                                                                 | 595/150000 [01:47<3:07:53, 13.25it/s]"
     ]
    },
    {
     "name": "stdout",
     "output_type": "stream",
     "text": [
      "[-0.59987534 -0.40729964]\n"
     ]
    },
    {
     "name": "stderr",
     "output_type": "stream",
     "text": [
      "  0%|▌                                                                                                                                 | 611/150000 [01:48<3:09:30, 13.14it/s]"
     ]
    },
    {
     "name": "stdout",
     "output_type": "stream",
     "text": [
      "[-0.20163121 -0.2913009 ]\n"
     ]
    },
    {
     "name": "stderr",
     "output_type": "stream",
     "text": [
      "  0%|▌                                                                                                                                 | 627/150000 [01:49<3:08:37, 13.20it/s]"
     ]
    },
    {
     "name": "stdout",
     "output_type": "stream",
     "text": [
      "[ 0.07700378 -0.30135814]\n"
     ]
    },
    {
     "name": "stderr",
     "output_type": "stream",
     "text": [
      "  0%|▌                                                                                                                                 | 643/150000 [01:50<3:07:34, 13.27it/s]"
     ]
    },
    {
     "name": "stdout",
     "output_type": "stream",
     "text": [
      "[0.41564751 0.04017866]\n"
     ]
    },
    {
     "name": "stderr",
     "output_type": "stream",
     "text": [
      "  0%|▌                                                                                                                                 | 659/150000 [01:52<3:10:16, 13.08it/s]"
     ]
    },
    {
     "name": "stdout",
     "output_type": "stream",
     "text": [
      "[ 0.28014262 -0.11643124]\n"
     ]
    },
    {
     "name": "stderr",
     "output_type": "stream",
     "text": [
      "  0%|▌                                                                                                                                 | 675/150000 [01:53<3:08:15, 13.22it/s]"
     ]
    },
    {
     "name": "stdout",
     "output_type": "stream",
     "text": [
      "[ 0.34508299 -0.19892854]\n"
     ]
    },
    {
     "name": "stderr",
     "output_type": "stream",
     "text": [
      "  0%|▌                                                                                                                                 | 691/150000 [01:54<3:10:57, 13.03it/s]"
     ]
    },
    {
     "name": "stdout",
     "output_type": "stream",
     "text": [
      "[ 0.7622964  -0.12810726]\n"
     ]
    },
    {
     "name": "stderr",
     "output_type": "stream",
     "text": [
      "  0%|▌                                                                                                                                 | 707/150000 [01:55<3:09:13, 13.15it/s]"
     ]
    },
    {
     "name": "stdout",
     "output_type": "stream",
     "text": [
      "[ 0.66101269 -0.50762968]\n"
     ]
    },
    {
     "name": "stderr",
     "output_type": "stream",
     "text": [
      "  0%|▋                                                                                                                                 | 723/150000 [01:56<3:09:18, 13.14it/s]"
     ]
    },
    {
     "name": "stdout",
     "output_type": "stream",
     "text": [
      "[ 1.13191754 -0.40220929]\n"
     ]
    },
    {
     "name": "stderr",
     "output_type": "stream",
     "text": [
      "  0%|▋                                                                                                                                 | 739/150000 [01:58<3:05:57, 13.38it/s]"
     ]
    },
    {
     "name": "stdout",
     "output_type": "stream",
     "text": [
      "[ 1.44941329 -0.41454838]\n"
     ]
    },
    {
     "name": "stderr",
     "output_type": "stream",
     "text": [
      "  1%|▋                                                                                                                                 | 755/150000 [01:59<3:08:57, 13.16it/s]"
     ]
    },
    {
     "name": "stdout",
     "output_type": "stream",
     "text": [
      "[ 1.39589061 -0.29836848]\n"
     ]
    },
    {
     "name": "stderr",
     "output_type": "stream",
     "text": [
      "  1%|▋                                                                                                                                 | 771/150000 [02:00<3:08:32, 13.19it/s]"
     ]
    },
    {
     "name": "stdout",
     "output_type": "stream",
     "text": [
      "[ 1.12174694 -0.3059846 ]\n"
     ]
    },
    {
     "name": "stderr",
     "output_type": "stream",
     "text": [
      "  1%|▋                                                                                                                                 | 787/150000 [02:01<3:09:50, 13.10it/s]"
     ]
    },
    {
     "name": "stdout",
     "output_type": "stream",
     "text": [
      "[ 0.71513032 -0.29797629]\n"
     ]
    },
    {
     "name": "stderr",
     "output_type": "stream",
     "text": [
      "  1%|▋                                                                                                                                 | 803/150000 [02:02<3:09:12, 13.14it/s]"
     ]
    },
    {
     "name": "stdout",
     "output_type": "stream",
     "text": [
      "[ 0.26981979 -0.33019867]\n"
     ]
    },
    {
     "name": "stderr",
     "output_type": "stream",
     "text": [
      "  1%|▋                                                                                                                                 | 819/150000 [02:04<3:08:43, 13.17it/s]"
     ]
    },
    {
     "name": "stdout",
     "output_type": "stream",
     "text": [
      "[-0.00189845 -0.66965611]\n"
     ]
    },
    {
     "name": "stderr",
     "output_type": "stream",
     "text": [
      "  1%|▋                                                                                                                                 | 835/150000 [02:05<3:07:36, 13.25it/s]"
     ]
    },
    {
     "name": "stdout",
     "output_type": "stream",
     "text": [
      "[ 0.06545543 -0.10587536]\n"
     ]
    },
    {
     "name": "stderr",
     "output_type": "stream",
     "text": [
      "  1%|▋                                                                                                                                 | 851/150000 [02:06<3:10:52, 13.02it/s]"
     ]
    },
    {
     "name": "stdout",
     "output_type": "stream",
     "text": [
      "[-0.33873727 -0.16148088]\n"
     ]
    },
    {
     "name": "stderr",
     "output_type": "stream",
     "text": [
      "  1%|▊                                                                                                                                 | 867/150000 [02:07<3:09:10, 13.14it/s]"
     ]
    },
    {
     "name": "stdout",
     "output_type": "stream",
     "text": [
      "[-0.23934996  0.21593501]\n"
     ]
    },
    {
     "name": "stderr",
     "output_type": "stream",
     "text": [
      "  1%|▊                                                                                                                                 | 883/150000 [02:08<3:08:07, 13.21it/s]"
     ]
    },
    {
     "name": "stdout",
     "output_type": "stream",
     "text": [
      "[-0.83038346  0.32883285]\n"
     ]
    },
    {
     "name": "stderr",
     "output_type": "stream",
     "text": [
      "  1%|▊                                                                                                                                 | 899/150000 [02:10<3:07:06, 13.28it/s]"
     ]
    },
    {
     "name": "stdout",
     "output_type": "stream",
     "text": [
      "[-0.75860772  0.75292304]\n"
     ]
    },
    {
     "name": "stderr",
     "output_type": "stream",
     "text": [
      "  1%|▊                                                                                                                                 | 915/150000 [02:11<3:07:07, 13.28it/s]"
     ]
    },
    {
     "name": "stdout",
     "output_type": "stream",
     "text": [
      "[-0.79492031  1.06624662]\n"
     ]
    },
    {
     "name": "stderr",
     "output_type": "stream",
     "text": [
      "  1%|▊                                                                                                                                 | 931/150000 [02:12<3:08:27, 13.18it/s]"
     ]
    },
    {
     "name": "stdout",
     "output_type": "stream",
     "text": [
      "[-1.18195783  1.28412917]\n"
     ]
    },
    {
     "name": "stderr",
     "output_type": "stream",
     "text": [
      "  1%|▊                                                                                                                                 | 947/150000 [02:13<3:08:10, 13.20it/s]"
     ]
    },
    {
     "name": "stdout",
     "output_type": "stream",
     "text": [
      "[-1.34735345  1.48069898]\n"
     ]
    },
    {
     "name": "stderr",
     "output_type": "stream",
     "text": [
      "  1%|▊                                                                                                                                 | 963/150000 [02:15<3:07:29, 13.25it/s]"
     ]
    },
    {
     "name": "stdout",
     "output_type": "stream",
     "text": [
      "[-1.60823027  1.36698066]\n"
     ]
    },
    {
     "name": "stderr",
     "output_type": "stream",
     "text": [
      "  1%|▊                                                                                                                                 | 979/150000 [02:16<3:07:37, 13.24it/s]"
     ]
    },
    {
     "name": "stdout",
     "output_type": "stream",
     "text": [
      "[-1.8663601   1.15653654]\n"
     ]
    },
    {
     "name": "stderr",
     "output_type": "stream",
     "text": [
      "  1%|▊                                                                                                                                 | 995/150000 [02:17<3:08:07, 13.20it/s]"
     ]
    },
    {
     "name": "stdout",
     "output_type": "stream",
     "text": [
      "[-2.10742569  0.92172864]\n"
     ]
    },
    {
     "name": "stderr",
     "output_type": "stream",
     "text": [
      "  1%|▊                                                                                                                                | 1011/150000 [02:18<3:08:32, 13.17it/s]"
     ]
    },
    {
     "name": "stdout",
     "output_type": "stream",
     "text": [
      "[-1.98285533  0.71502417]\n"
     ]
    },
    {
     "name": "stderr",
     "output_type": "stream",
     "text": [
      "  1%|▉                                                                                                                                | 1027/150000 [02:19<3:07:59, 13.21it/s]"
     ]
    },
    {
     "name": "stdout",
     "output_type": "stream",
     "text": [
      "[-1.83447335  0.38015591]\n"
     ]
    },
    {
     "name": "stderr",
     "output_type": "stream",
     "text": [
      "  1%|▉                                                                                                                                | 1043/150000 [02:21<3:08:24, 13.18it/s]"
     ]
    },
    {
     "name": "stdout",
     "output_type": "stream",
     "text": [
      "[-0.98268937  0.57552713]\n"
     ]
    },
    {
     "name": "stderr",
     "output_type": "stream",
     "text": [
      "  1%|▉                                                                                                                                | 1059/150000 [02:22<3:09:32, 13.10it/s]"
     ]
    },
    {
     "name": "stdout",
     "output_type": "stream",
     "text": [
      "[-0.86513602  0.263835  ]\n"
     ]
    },
    {
     "name": "stderr",
     "output_type": "stream",
     "text": [
      "  1%|▉                                                                                                                                | 1075/150000 [02:23<3:06:37, 13.30it/s]"
     ]
    },
    {
     "name": "stdout",
     "output_type": "stream",
     "text": [
      "[-0.76144811  0.17123098]\n"
     ]
    },
    {
     "name": "stderr",
     "output_type": "stream",
     "text": [
      "  1%|▉                                                                                                                                | 1091/150000 [02:24<3:09:58, 13.06it/s]"
     ]
    },
    {
     "name": "stdout",
     "output_type": "stream",
     "text": [
      "[-0.53859859  0.21856849]\n"
     ]
    },
    {
     "name": "stderr",
     "output_type": "stream",
     "text": [
      "  1%|▉                                                                                                                                | 1107/150000 [02:25<3:07:26, 13.24it/s]"
     ]
    },
    {
     "name": "stdout",
     "output_type": "stream",
     "text": [
      "[-0.37263964  0.2176181 ]\n"
     ]
    },
    {
     "name": "stderr",
     "output_type": "stream",
     "text": [
      "  1%|▉                                                                                                                                | 1123/150000 [02:27<3:08:25, 13.17it/s]"
     ]
    },
    {
     "name": "stdout",
     "output_type": "stream",
     "text": [
      "[-0.20397673  0.13292418]\n"
     ]
    },
    {
     "name": "stderr",
     "output_type": "stream",
     "text": [
      "  1%|▉                                                                                                                                | 1139/150000 [02:28<3:05:31, 13.37it/s]"
     ]
    },
    {
     "name": "stdout",
     "output_type": "stream",
     "text": [
      "[-0.22537362  0.12018506]\n"
     ]
    },
    {
     "name": "stderr",
     "output_type": "stream",
     "text": [
      "  1%|▉                                                                                                                                | 1155/150000 [02:29<3:06:20, 13.31it/s]"
     ]
    },
    {
     "name": "stdout",
     "output_type": "stream",
     "text": [
      "[-0.17763979  0.17911798]\n"
     ]
    },
    {
     "name": "stderr",
     "output_type": "stream",
     "text": [
      "  1%|█                                                                                                                                | 1171/150000 [02:30<3:08:53, 13.13it/s]"
     ]
    },
    {
     "name": "stdout",
     "output_type": "stream",
     "text": [
      "[-0.20122527 -0.00265171]\n"
     ]
    },
    {
     "name": "stderr",
     "output_type": "stream",
     "text": [
      "  1%|█                                                                                                                                | 1187/150000 [02:31<3:08:17, 13.17it/s]"
     ]
    },
    {
     "name": "stdout",
     "output_type": "stream",
     "text": [
      "[-0.35604363  0.18135931]\n"
     ]
    },
    {
     "name": "stderr",
     "output_type": "stream",
     "text": [
      "  1%|█                                                                                                                                | 1203/150000 [02:33<3:08:13, 13.18it/s]"
     ]
    },
    {
     "name": "stdout",
     "output_type": "stream",
     "text": [
      "[-0.31134285  0.62365128]\n"
     ]
    },
    {
     "name": "stderr",
     "output_type": "stream",
     "text": [
      "  1%|█                                                                                                                                | 1219/150000 [02:34<3:09:29, 13.09it/s]"
     ]
    },
    {
     "name": "stdout",
     "output_type": "stream",
     "text": [
      "[-0.35645751  0.82162446]\n"
     ]
    },
    {
     "name": "stderr",
     "output_type": "stream",
     "text": [
      "  1%|█                                                                                                                                | 1235/150000 [02:35<3:07:43, 13.21it/s]"
     ]
    },
    {
     "name": "stdout",
     "output_type": "stream",
     "text": [
      "[-0.31630228  1.06965502]\n"
     ]
    },
    {
     "name": "stderr",
     "output_type": "stream",
     "text": [
      "  1%|█                                                                                                                                | 1251/150000 [02:36<3:08:58, 13.12it/s]"
     ]
    },
    {
     "name": "stdout",
     "output_type": "stream",
     "text": [
      "[-0.46197522  0.98340647]\n"
     ]
    },
    {
     "name": "stderr",
     "output_type": "stream",
     "text": [
      "  1%|█                                                                                                                                | 1267/150000 [02:38<3:08:39, 13.14it/s]"
     ]
    },
    {
     "name": "stdout",
     "output_type": "stream",
     "text": [
      "[-0.55375421  0.87954873]\n"
     ]
    },
    {
     "name": "stderr",
     "output_type": "stream",
     "text": [
      "  1%|█                                                                                                                                | 1283/150000 [02:39<3:06:55, 13.26it/s]"
     ]
    },
    {
     "name": "stdout",
     "output_type": "stream",
     "text": [
      "[-1.0098191   0.70734319]\n"
     ]
    },
    {
     "name": "stderr",
     "output_type": "stream",
     "text": [
      "  1%|█                                                                                                                                | 1299/150000 [02:40<3:07:02, 13.25it/s]"
     ]
    },
    {
     "name": "stdout",
     "output_type": "stream",
     "text": [
      "[-0.88525515  0.74692964]\n"
     ]
    },
    {
     "name": "stderr",
     "output_type": "stream",
     "text": [
      "  1%|█▏                                                                                                                               | 1315/150000 [02:41<3:11:39, 12.93it/s]"
     ]
    },
    {
     "name": "stdout",
     "output_type": "stream",
     "text": [
      "[-0.46901062  0.66143735]\n"
     ]
    },
    {
     "name": "stderr",
     "output_type": "stream",
     "text": [
      "  1%|█▏                                                                                                                               | 1331/150000 [02:42<3:07:16, 13.23it/s]"
     ]
    },
    {
     "name": "stdout",
     "output_type": "stream",
     "text": [
      "[-0.31486489  0.49909382]\n"
     ]
    },
    {
     "name": "stderr",
     "output_type": "stream",
     "text": [
      "  1%|█▏                                                                                                                               | 1347/150000 [02:44<3:07:03, 13.24it/s]"
     ]
    },
    {
     "name": "stdout",
     "output_type": "stream",
     "text": [
      "[0.55701698 0.84780026]\n"
     ]
    },
    {
     "name": "stderr",
     "output_type": "stream",
     "text": [
      "  1%|█▏                                                                                                                               | 1363/150000 [02:45<3:06:40, 13.27it/s]"
     ]
    },
    {
     "name": "stdout",
     "output_type": "stream",
     "text": [
      "[1.03515484 0.7705567 ]\n"
     ]
    },
    {
     "name": "stderr",
     "output_type": "stream",
     "text": [
      "  1%|█▏                                                                                                                               | 1379/150000 [02:46<3:12:48, 12.85it/s]"
     ]
    },
    {
     "name": "stdout",
     "output_type": "stream",
     "text": [
      "[0.73063114 0.26177538]\n"
     ]
    },
    {
     "name": "stderr",
     "output_type": "stream",
     "text": [
      "  1%|█▏                                                                                                                               | 1395/150000 [02:47<3:09:24, 13.08it/s]"
     ]
    },
    {
     "name": "stdout",
     "output_type": "stream",
     "text": [
      "[ 0.72220631 -0.07795237]\n"
     ]
    },
    {
     "name": "stderr",
     "output_type": "stream",
     "text": [
      "  1%|█▏                                                                                                                               | 1411/150000 [02:49<3:08:24, 13.14it/s]"
     ]
    },
    {
     "name": "stdout",
     "output_type": "stream",
     "text": [
      "[ 0.57972691 -0.58191123]\n"
     ]
    },
    {
     "name": "stderr",
     "output_type": "stream",
     "text": [
      "  1%|█▏                                                                                                                               | 1427/150000 [02:50<3:08:09, 13.16it/s]"
     ]
    },
    {
     "name": "stdout",
     "output_type": "stream",
     "text": [
      "[ 0.93153588 -0.66402764]\n"
     ]
    },
    {
     "name": "stderr",
     "output_type": "stream",
     "text": [
      "  1%|█▏                                                                                                                               | 1443/150000 [02:51<3:07:51, 13.18it/s]"
     ]
    },
    {
     "name": "stdout",
     "output_type": "stream",
     "text": [
      "[ 1.37490974 -0.53141299]\n"
     ]
    },
    {
     "name": "stderr",
     "output_type": "stream",
     "text": [
      "  1%|█▎                                                                                                                               | 1459/150000 [02:52<3:08:39, 13.12it/s]"
     ]
    },
    {
     "name": "stdout",
     "output_type": "stream",
     "text": [
      "[ 1.06020968 -0.64778376]\n"
     ]
    },
    {
     "name": "stderr",
     "output_type": "stream",
     "text": [
      "  1%|█▎                                                                                                                               | 1475/150000 [02:53<3:07:45, 13.18it/s]"
     ]
    },
    {
     "name": "stdout",
     "output_type": "stream",
     "text": [
      "[ 1.22570095 -0.36599958]\n"
     ]
    },
    {
     "name": "stderr",
     "output_type": "stream",
     "text": [
      "  1%|█▎                                                                                                                               | 1491/150000 [02:55<3:09:45, 13.04it/s]"
     ]
    },
    {
     "name": "stdout",
     "output_type": "stream",
     "text": [
      "[ 1.09507965 -0.43395239]\n"
     ]
    },
    {
     "name": "stderr",
     "output_type": "stream",
     "text": [
      "  1%|█▎                                                                                                                               | 1507/150000 [02:56<3:07:36, 13.19it/s]"
     ]
    },
    {
     "name": "stdout",
     "output_type": "stream",
     "text": [
      "[ 1.16300682 -0.36464304]\n"
     ]
    },
    {
     "name": "stderr",
     "output_type": "stream",
     "text": [
      "  1%|█▎                                                                                                                               | 1523/150000 [02:57<3:06:47, 13.25it/s]"
     ]
    },
    {
     "name": "stdout",
     "output_type": "stream",
     "text": [
      "[ 1.13051696 -0.26286725]\n"
     ]
    },
    {
     "name": "stderr",
     "output_type": "stream",
     "text": [
      "  1%|█▎                                                                                                                               | 1539/150000 [02:58<3:06:55, 13.24it/s]"
     ]
    },
    {
     "name": "stdout",
     "output_type": "stream",
     "text": [
      "[ 0.88361949 -0.19354231]\n"
     ]
    },
    {
     "name": "stderr",
     "output_type": "stream",
     "text": [
      "  1%|█▎                                                                                                                               | 1555/150000 [02:59<3:07:12, 13.22it/s]"
     ]
    },
    {
     "name": "stdout",
     "output_type": "stream",
     "text": [
      "[ 0.80234543 -0.12273271]\n"
     ]
    },
    {
     "name": "stderr",
     "output_type": "stream",
     "text": [
      "  1%|█▎                                                                                                                               | 1571/150000 [03:01<3:07:38, 13.18it/s]"
     ]
    },
    {
     "name": "stdout",
     "output_type": "stream",
     "text": [
      "[ 0.1761615  -0.30496408]\n"
     ]
    },
    {
     "name": "stderr",
     "output_type": "stream",
     "text": [
      "  1%|█▎                                                                                                                               | 1587/150000 [03:02<3:06:59, 13.23it/s]"
     ]
    },
    {
     "name": "stdout",
     "output_type": "stream",
     "text": [
      "[ 0.22263175 -0.29792292]\n"
     ]
    },
    {
     "name": "stderr",
     "output_type": "stream",
     "text": [
      "  1%|█▍                                                                                                                               | 1603/150000 [03:03<3:10:10, 13.00it/s]"
     ]
    },
    {
     "name": "stdout",
     "output_type": "stream",
     "text": [
      "[-0.37004251 -0.59541113]\n"
     ]
    },
    {
     "name": "stderr",
     "output_type": "stream",
     "text": [
      "  1%|█▍                                                                                                                               | 1619/150000 [03:04<3:07:16, 13.21it/s]"
     ]
    },
    {
     "name": "stdout",
     "output_type": "stream",
     "text": [
      "[-0.5624565  -0.52719158]\n"
     ]
    },
    {
     "name": "stderr",
     "output_type": "stream",
     "text": [
      "  1%|█▍                                                                                                                               | 1635/150000 [03:05<3:06:37, 13.25it/s]"
     ]
    },
    {
     "name": "stdout",
     "output_type": "stream",
     "text": [
      "[-0.64601354 -0.35792124]\n"
     ]
    },
    {
     "name": "stderr",
     "output_type": "stream",
     "text": [
      "  1%|█▍                                                                                                                               | 1651/150000 [03:07<3:07:11, 13.21it/s]"
     ]
    },
    {
     "name": "stdout",
     "output_type": "stream",
     "text": [
      "[-0.6757556  -0.15764769]\n"
     ]
    },
    {
     "name": "stderr",
     "output_type": "stream",
     "text": [
      "  1%|█▍                                                                                                                               | 1667/150000 [03:08<3:06:40, 13.24it/s]"
     ]
    },
    {
     "name": "stdout",
     "output_type": "stream",
     "text": [
      "[-0.68486003  0.0519183 ]\n"
     ]
    },
    {
     "name": "stderr",
     "output_type": "stream",
     "text": [
      "  1%|█▍                                                                                                                               | 1683/150000 [03:09<3:08:51, 13.09it/s]"
     ]
    },
    {
     "name": "stdout",
     "output_type": "stream",
     "text": [
      "[-1.19460478 -0.03406047]\n"
     ]
    },
    {
     "name": "stderr",
     "output_type": "stream",
     "text": [
      "  1%|█▍                                                                                                                               | 1699/150000 [03:10<3:09:17, 13.06it/s]"
     ]
    },
    {
     "name": "stdout",
     "output_type": "stream",
     "text": [
      "[-1.52998359  0.10082621]\n"
     ]
    },
    {
     "name": "stderr",
     "output_type": "stream",
     "text": [
      "  1%|█▍                                                                                                                               | 1715/150000 [03:12<3:09:44, 13.02it/s]"
     ]
    },
    {
     "name": "stdout",
     "output_type": "stream",
     "text": [
      "[-1.59654534  0.34761162]\n"
     ]
    },
    {
     "name": "stderr",
     "output_type": "stream",
     "text": [
      "  1%|█▍                                                                                                                               | 1731/150000 [03:13<3:08:49, 13.09it/s]"
     ]
    },
    {
     "name": "stdout",
     "output_type": "stream",
     "text": [
      "[-1.41360631  0.49046754]\n"
     ]
    },
    {
     "name": "stderr",
     "output_type": "stream",
     "text": [
      "  1%|█▌                                                                                                                               | 1747/150000 [03:14<3:06:37, 13.24it/s]"
     ]
    },
    {
     "name": "stdout",
     "output_type": "stream",
     "text": [
      "[-1.06728822  0.30594079]\n"
     ]
    },
    {
     "name": "stderr",
     "output_type": "stream",
     "text": [
      "  1%|█▌                                                                                                                               | 1763/150000 [03:15<3:06:52, 13.22it/s]"
     ]
    },
    {
     "name": "stdout",
     "output_type": "stream",
     "text": [
      "[-0.55406147  0.20493549]\n"
     ]
    },
    {
     "name": "stderr",
     "output_type": "stream",
     "text": [
      "  1%|█▌                                                                                                                               | 1779/150000 [03:16<3:06:11, 13.27it/s]"
     ]
    },
    {
     "name": "stdout",
     "output_type": "stream",
     "text": [
      "[-0.2159253   0.09308124]\n"
     ]
    },
    {
     "name": "stderr",
     "output_type": "stream",
     "text": [
      "  1%|█▌                                                                                                                               | 1795/150000 [03:18<3:07:39, 13.16it/s]"
     ]
    },
    {
     "name": "stdout",
     "output_type": "stream",
     "text": [
      "[ 0.73022715 -0.070696  ]\n"
     ]
    },
    {
     "name": "stderr",
     "output_type": "stream",
     "text": [
      "  1%|█▌                                                                                                                               | 1811/150000 [03:19<3:07:08, 13.20it/s]"
     ]
    },
    {
     "name": "stdout",
     "output_type": "stream",
     "text": [
      "[ 1.14626621 -0.25168161]\n"
     ]
    },
    {
     "name": "stderr",
     "output_type": "stream",
     "text": [
      "  1%|█▌                                                                                                                               | 1827/150000 [03:20<3:06:47, 13.22it/s]"
     ]
    },
    {
     "name": "stdout",
     "output_type": "stream",
     "text": [
      "[ 1.58446204 -0.33496688]\n"
     ]
    },
    {
     "name": "stderr",
     "output_type": "stream",
     "text": [
      "  1%|█▌                                                                                                                               | 1843/150000 [03:21<3:06:24, 13.25it/s]"
     ]
    },
    {
     "name": "stdout",
     "output_type": "stream",
     "text": [
      "[ 1.64674279 -0.42846879]\n"
     ]
    },
    {
     "name": "stderr",
     "output_type": "stream",
     "text": [
      "  1%|█▌                                                                                                                               | 1859/150000 [03:22<3:07:40, 13.16it/s]"
     ]
    },
    {
     "name": "stdout",
     "output_type": "stream",
     "text": [
      "[ 1.76277768 -0.36325881]\n"
     ]
    },
    {
     "name": "stderr",
     "output_type": "stream",
     "text": [
      "  1%|█▌                                                                                                                               | 1875/150000 [03:24<3:09:08, 13.05it/s]"
     ]
    },
    {
     "name": "stdout",
     "output_type": "stream",
     "text": [
      "[ 1.7555421  -0.36332386]\n"
     ]
    },
    {
     "name": "stderr",
     "output_type": "stream",
     "text": [
      "  1%|█▋                                                                                                                               | 1891/150000 [03:25<3:07:53, 13.14it/s]"
     ]
    },
    {
     "name": "stdout",
     "output_type": "stream",
     "text": [
      "[ 1.78603156 -0.22291895]\n"
     ]
    },
    {
     "name": "stderr",
     "output_type": "stream",
     "text": [
      "  1%|█▋                                                                                                                               | 1907/150000 [03:26<3:06:01, 13.27it/s]"
     ]
    },
    {
     "name": "stdout",
     "output_type": "stream",
     "text": [
      "[ 1.59640964 -0.12059739]\n"
     ]
    },
    {
     "name": "stderr",
     "output_type": "stream",
     "text": [
      "  1%|█▋                                                                                                                               | 1923/150000 [03:27<3:08:10, 13.12it/s]"
     ]
    },
    {
     "name": "stdout",
     "output_type": "stream",
     "text": [
      "[ 1.30574043 -0.15763954]\n"
     ]
    },
    {
     "name": "stderr",
     "output_type": "stream",
     "text": [
      "  1%|█▋                                                                                                                               | 1939/150000 [03:28<3:07:01, 13.19it/s]"
     ]
    },
    {
     "name": "stdout",
     "output_type": "stream",
     "text": [
      "[ 0.87952863 -0.28028501]\n"
     ]
    },
    {
     "name": "stderr",
     "output_type": "stream",
     "text": [
      "  1%|█▋                                                                                                                               | 1955/150000 [03:30<3:06:59, 13.20it/s]"
     ]
    },
    {
     "name": "stdout",
     "output_type": "stream",
     "text": [
      "[ 0.64878297 -0.1245045 ]\n"
     ]
    },
    {
     "name": "stderr",
     "output_type": "stream",
     "text": [
      "  1%|█▋                                                                                                                               | 1971/150000 [03:31<3:07:03, 13.19it/s]"
     ]
    },
    {
     "name": "stdout",
     "output_type": "stream",
     "text": [
      "[0.49224701 0.03122662]\n"
     ]
    },
    {
     "name": "stderr",
     "output_type": "stream",
     "text": [
      "  1%|█▋                                                                                                                               | 1987/150000 [03:32<3:05:50, 13.27it/s]"
     ]
    },
    {
     "name": "stdout",
     "output_type": "stream",
     "text": [
      "[0.39590178 0.28206827]\n"
     ]
    },
    {
     "name": "stderr",
     "output_type": "stream",
     "text": [
      "  1%|█▋                                                                                                                               | 2003/150000 [03:33<3:08:16, 13.10it/s]"
     ]
    },
    {
     "name": "stdout",
     "output_type": "stream",
     "text": [
      "[0.12123401 0.52370636]\n"
     ]
    },
    {
     "name": "stderr",
     "output_type": "stream",
     "text": [
      "  1%|█▋                                                                                                                               | 2019/150000 [03:35<3:05:30, 13.30it/s]"
     ]
    },
    {
     "name": "stdout",
     "output_type": "stream",
     "text": [
      "[-0.59640581  0.49016535]\n"
     ]
    },
    {
     "name": "stderr",
     "output_type": "stream",
     "text": [
      "  1%|█▊                                                                                                                               | 2035/150000 [03:36<3:08:27, 13.09it/s]"
     ]
    },
    {
     "name": "stdout",
     "output_type": "stream",
     "text": [
      "[-1.15734734  0.74755315]\n"
     ]
    },
    {
     "name": "stderr",
     "output_type": "stream",
     "text": [
      "  1%|█▊                                                                                                                               | 2051/150000 [03:37<3:07:43, 13.13it/s]"
     ]
    },
    {
     "name": "stdout",
     "output_type": "stream",
     "text": [
      "[-1.82353416  0.86703058]\n"
     ]
    },
    {
     "name": "stderr",
     "output_type": "stream",
     "text": [
      "  1%|█▊                                                                                                                               | 2067/150000 [03:38<3:06:49, 13.20it/s]"
     ]
    },
    {
     "name": "stdout",
     "output_type": "stream",
     "text": [
      "[-2.23236118  0.7358142 ]\n"
     ]
    },
    {
     "name": "stderr",
     "output_type": "stream",
     "text": [
      "  1%|█▊                                                                                                                               | 2083/150000 [03:39<3:07:02, 13.18it/s]"
     ]
    },
    {
     "name": "stdout",
     "output_type": "stream",
     "text": [
      "[-2.23002221  0.82178256]\n"
     ]
    },
    {
     "name": "stderr",
     "output_type": "stream",
     "text": [
      "  1%|█▊                                                                                                                               | 2099/150000 [03:41<3:07:50, 13.12it/s]"
     ]
    },
    {
     "name": "stdout",
     "output_type": "stream",
     "text": [
      "[-1.97970843  0.9333261 ]\n"
     ]
    },
    {
     "name": "stderr",
     "output_type": "stream",
     "text": [
      "  1%|█▊                                                                                                                               | 2115/150000 [03:42<3:06:50, 13.19it/s]"
     ]
    },
    {
     "name": "stdout",
     "output_type": "stream",
     "text": [
      "[-1.66379452  0.75078344]\n"
     ]
    },
    {
     "name": "stderr",
     "output_type": "stream",
     "text": [
      "  1%|█▊                                                                                                                               | 2131/150000 [03:43<3:06:53, 13.19it/s]"
     ]
    },
    {
     "name": "stdout",
     "output_type": "stream",
     "text": [
      "[-0.82152886  0.84614118]\n"
     ]
    },
    {
     "name": "stderr",
     "output_type": "stream",
     "text": [
      "  1%|█▊                                                                                                                               | 2147/150000 [03:44<3:05:53, 13.26it/s]"
     ]
    },
    {
     "name": "stdout",
     "output_type": "stream",
     "text": [
      "[-0.89796415  0.24976965]\n"
     ]
    },
    {
     "name": "stderr",
     "output_type": "stream",
     "text": [
      "  1%|█▊                                                                                                                               | 2163/150000 [03:45<3:07:22, 13.15it/s]"
     ]
    },
    {
     "name": "stdout",
     "output_type": "stream",
     "text": [
      "[-1.33449663 -0.15077079]\n"
     ]
    },
    {
     "name": "stderr",
     "output_type": "stream",
     "text": [
      "  1%|█▊                                                                                                                               | 2179/150000 [03:47<3:05:13, 13.30it/s]"
     ]
    },
    {
     "name": "stdout",
     "output_type": "stream",
     "text": [
      "[-1.03173068 -0.16868007]\n"
     ]
    },
    {
     "name": "stderr",
     "output_type": "stream",
     "text": [
      "  1%|█▉                                                                                                                               | 2195/150000 [03:48<3:06:51, 13.18it/s]"
     ]
    },
    {
     "name": "stdout",
     "output_type": "stream",
     "text": [
      "[-0.98995104 -0.36592033]\n"
     ]
    },
    {
     "name": "stderr",
     "output_type": "stream",
     "text": [
      "  1%|█▉                                                                                                                               | 2211/150000 [03:49<3:05:46, 13.26it/s]"
     ]
    },
    {
     "name": "stdout",
     "output_type": "stream",
     "text": [
      "[-0.77659678 -0.21407814]\n"
     ]
    },
    {
     "name": "stderr",
     "output_type": "stream",
     "text": [
      "  1%|█▉                                                                                                                               | 2227/150000 [03:50<3:05:03, 13.31it/s]"
     ]
    },
    {
     "name": "stdout",
     "output_type": "stream",
     "text": [
      "[-0.4220792  -0.13147444]\n"
     ]
    },
    {
     "name": "stderr",
     "output_type": "stream",
     "text": [
      "  1%|█▉                                                                                                                               | 2243/150000 [03:51<3:05:24, 13.28it/s]"
     ]
    },
    {
     "name": "stdout",
     "output_type": "stream",
     "text": [
      "[-0.1574671  0.0014804]\n"
     ]
    },
    {
     "name": "stderr",
     "output_type": "stream",
     "text": [
      "  2%|█▉                                                                                                                               | 2259/150000 [03:53<3:06:10, 13.23it/s]"
     ]
    },
    {
     "name": "stdout",
     "output_type": "stream",
     "text": [
      "[-0.2876089 -0.1301084]\n"
     ]
    },
    {
     "name": "stderr",
     "output_type": "stream",
     "text": [
      "  2%|█▉                                                                                                                               | 2275/150000 [03:54<3:06:28, 13.20it/s]"
     ]
    },
    {
     "name": "stdout",
     "output_type": "stream",
     "text": [
      "[-0.20925797 -0.0884905 ]\n"
     ]
    },
    {
     "name": "stderr",
     "output_type": "stream",
     "text": [
      "  2%|█▉                                                                                                                               | 2291/150000 [03:55<3:07:40, 13.12it/s]"
     ]
    },
    {
     "name": "stdout",
     "output_type": "stream",
     "text": [
      "[-0.31338763 -0.14064477]\n"
     ]
    },
    {
     "name": "stderr",
     "output_type": "stream",
     "text": [
      "  2%|█▉                                                                                                                               | 2307/150000 [03:56<3:06:24, 13.21it/s]"
     ]
    },
    {
     "name": "stdout",
     "output_type": "stream",
     "text": [
      "[-0.63818918 -0.26656353]\n"
     ]
    },
    {
     "name": "stderr",
     "output_type": "stream",
     "text": [
      "  2%|█▉                                                                                                                               | 2323/150000 [03:58<3:05:12, 13.29it/s]"
     ]
    },
    {
     "name": "stdout",
     "output_type": "stream",
     "text": [
      "[-0.55961471 -0.06792999]\n"
     ]
    },
    {
     "name": "stderr",
     "output_type": "stream",
     "text": [
      "  2%|██                                                                                                                               | 2339/150000 [03:59<3:05:29, 13.27it/s]"
     ]
    },
    {
     "name": "stdout",
     "output_type": "stream",
     "text": [
      "[-0.61131489  0.02913074]\n"
     ]
    },
    {
     "name": "stderr",
     "output_type": "stream",
     "text": [
      "  2%|██                                                                                                                               | 2355/150000 [04:00<3:04:18, 13.35it/s]"
     ]
    },
    {
     "name": "stdout",
     "output_type": "stream",
     "text": [
      "[-0.21610794  0.30604037]\n"
     ]
    },
    {
     "name": "stderr",
     "output_type": "stream",
     "text": [
      "  2%|██                                                                                                                               | 2371/150000 [04:01<3:07:14, 13.14it/s]"
     ]
    },
    {
     "name": "stdout",
     "output_type": "stream",
     "text": [
      "[-0.23298073  0.27262317]\n"
     ]
    },
    {
     "name": "stderr",
     "output_type": "stream",
     "text": [
      "  2%|██                                                                                                                               | 2387/150000 [04:02<3:06:14, 13.21it/s]"
     ]
    },
    {
     "name": "stdout",
     "output_type": "stream",
     "text": [
      "[0.27077795 0.59384768]\n"
     ]
    },
    {
     "name": "stderr",
     "output_type": "stream",
     "text": [
      "  2%|██                                                                                                                               | 2403/150000 [04:04<3:07:54, 13.09it/s]"
     ]
    },
    {
     "name": "stdout",
     "output_type": "stream",
     "text": [
      "[-0.09108079  0.25722098]\n"
     ]
    },
    {
     "name": "stderr",
     "output_type": "stream",
     "text": [
      "  2%|██                                                                                                                               | 2419/150000 [04:05<3:07:29, 13.12it/s]"
     ]
    },
    {
     "name": "stdout",
     "output_type": "stream",
     "text": [
      "[-0.23333938  0.21214641]\n"
     ]
    },
    {
     "name": "stderr",
     "output_type": "stream",
     "text": [
      "  2%|██                                                                                                                               | 2435/150000 [04:06<3:06:16, 13.20it/s]"
     ]
    },
    {
     "name": "stdout",
     "output_type": "stream",
     "text": [
      "[0.0554252  0.50321148]\n"
     ]
    },
    {
     "name": "stderr",
     "output_type": "stream",
     "text": [
      "  2%|██                                                                                                                               | 2451/150000 [04:07<3:06:21, 13.20it/s]"
     ]
    },
    {
     "name": "stdout",
     "output_type": "stream",
     "text": [
      "[-0.29958382  0.11480346]\n"
     ]
    },
    {
     "name": "stderr",
     "output_type": "stream",
     "text": [
      "  2%|██                                                                                                                               | 2467/150000 [04:08<3:06:34, 13.18it/s]"
     ]
    },
    {
     "name": "stdout",
     "output_type": "stream",
     "text": [
      "[-0.09092721  0.28251781]\n"
     ]
    },
    {
     "name": "stderr",
     "output_type": "stream",
     "text": [
      "  2%|██▏                                                                                                                              | 2483/150000 [04:10<3:06:12, 13.20it/s]"
     ]
    },
    {
     "name": "stdout",
     "output_type": "stream",
     "text": [
      "[-0.21566407  0.26756578]\n"
     ]
    },
    {
     "name": "stderr",
     "output_type": "stream",
     "text": [
      "  2%|██▏                                                                                                                              | 2499/150000 [04:11<3:06:40, 13.17it/s]"
     ]
    },
    {
     "name": "stdout",
     "output_type": "stream",
     "text": [
      "[-0.61905116  0.32225377]\n"
     ]
    },
    {
     "name": "stderr",
     "output_type": "stream",
     "text": [
      "  2%|██▏                                                                                                                              | 2515/150000 [04:12<3:05:48, 13.23it/s]"
     ]
    },
    {
     "name": "stdout",
     "output_type": "stream",
     "text": [
      "[-1.10079532  0.29841575]\n"
     ]
    },
    {
     "name": "stderr",
     "output_type": "stream",
     "text": [
      "  2%|██▏                                                                                                                              | 2531/150000 [04:13<3:05:47, 13.23it/s]"
     ]
    },
    {
     "name": "stdout",
     "output_type": "stream",
     "text": [
      "[-0.99105951  0.59586954]\n"
     ]
    },
    {
     "name": "stderr",
     "output_type": "stream",
     "text": [
      "  2%|██▏                                                                                                                              | 2547/150000 [04:14<3:05:51, 13.22it/s]"
     ]
    },
    {
     "name": "stdout",
     "output_type": "stream",
     "text": [
      "[-1.4716169   0.50724449]\n"
     ]
    },
    {
     "name": "stderr",
     "output_type": "stream",
     "text": [
      "  2%|██▏                                                                                                                              | 2563/150000 [04:16<3:06:50, 13.15it/s]"
     ]
    },
    {
     "name": "stdout",
     "output_type": "stream",
     "text": [
      "[-1.45971624  0.6601019 ]\n"
     ]
    },
    {
     "name": "stderr",
     "output_type": "stream",
     "text": [
      "  2%|██▏                                                                                                                              | 2579/150000 [04:17<3:07:01, 13.14it/s]"
     ]
    },
    {
     "name": "stdout",
     "output_type": "stream",
     "text": [
      "[-1.39880452  0.96238521]\n"
     ]
    },
    {
     "name": "stderr",
     "output_type": "stream",
     "text": [
      "  2%|██▏                                                                                                                              | 2595/150000 [04:18<3:02:53, 13.43it/s]"
     ]
    },
    {
     "name": "stdout",
     "output_type": "stream",
     "text": [
      "[-1.21860239  1.11566698]\n"
     ]
    },
    {
     "name": "stderr",
     "output_type": "stream",
     "text": [
      "  2%|██▏                                                                                                                              | 2611/150000 [04:19<3:04:01, 13.35it/s]"
     ]
    },
    {
     "name": "stdout",
     "output_type": "stream",
     "text": [
      "[-1.79996305  1.19953283]\n"
     ]
    },
    {
     "name": "stderr",
     "output_type": "stream",
     "text": [
      "  2%|██▎                                                                                                                              | 2627/150000 [04:20<2:59:04, 13.72it/s]"
     ]
    },
    {
     "name": "stdout",
     "output_type": "stream",
     "text": [
      "[-2.25259331  1.21809198]\n"
     ]
    },
    {
     "name": "stderr",
     "output_type": "stream",
     "text": [
      "  2%|██▎                                                                                                                              | 2643/150000 [04:22<2:49:01, 14.53it/s]"
     ]
    },
    {
     "name": "stdout",
     "output_type": "stream",
     "text": [
      "[-2.20536408  1.04658552]\n"
     ]
    },
    {
     "name": "stderr",
     "output_type": "stream",
     "text": [
      "  2%|██▎                                                                                                                              | 2659/150000 [04:23<2:54:10, 14.10it/s]"
     ]
    },
    {
     "name": "stdout",
     "output_type": "stream",
     "text": [
      "[-1.56213758  1.0913346 ]\n"
     ]
    },
    {
     "name": "stderr",
     "output_type": "stream",
     "text": [
      "  2%|██▎                                                                                                                              | 2675/150000 [04:24<2:55:41, 13.98it/s]"
     ]
    },
    {
     "name": "stdout",
     "output_type": "stream",
     "text": [
      "[-1.35616943  0.92231604]\n"
     ]
    },
    {
     "name": "stderr",
     "output_type": "stream",
     "text": [
      "  2%|██▎                                                                                                                              | 2691/150000 [04:25<3:03:20, 13.39it/s]"
     ]
    },
    {
     "name": "stdout",
     "output_type": "stream",
     "text": [
      "[-1.0404834   0.86200638]\n"
     ]
    },
    {
     "name": "stderr",
     "output_type": "stream",
     "text": [
      "  2%|██▎                                                                                                                              | 2707/150000 [04:26<2:57:46, 13.81it/s]"
     ]
    },
    {
     "name": "stdout",
     "output_type": "stream",
     "text": [
      "[-0.8409328   0.63865125]\n"
     ]
    },
    {
     "name": "stderr",
     "output_type": "stream",
     "text": [
      "  2%|██▎                                                                                                                              | 2723/150000 [04:27<2:57:15, 13.85it/s]"
     ]
    },
    {
     "name": "stdout",
     "output_type": "stream",
     "text": [
      "[-0.27260782  0.78882619]\n"
     ]
    },
    {
     "name": "stderr",
     "output_type": "stream",
     "text": [
      "  2%|██▎                                                                                                                              | 2739/150000 [04:29<3:06:26, 13.16it/s]"
     ]
    },
    {
     "name": "stdout",
     "output_type": "stream",
     "text": [
      "[-0.38179738  0.62333156]\n"
     ]
    },
    {
     "name": "stderr",
     "output_type": "stream",
     "text": [
      "  2%|██▎                                                                                                                              | 2755/150000 [04:30<3:03:41, 13.36it/s]"
     ]
    },
    {
     "name": "stdout",
     "output_type": "stream",
     "text": [
      "[-0.24016189  0.43074609]\n"
     ]
    },
    {
     "name": "stderr",
     "output_type": "stream",
     "text": [
      "  2%|██▍                                                                                                                              | 2771/150000 [04:31<3:05:28, 13.23it/s]"
     ]
    },
    {
     "name": "stdout",
     "output_type": "stream",
     "text": [
      "[-0.14491568 -0.17152236]\n"
     ]
    },
    {
     "name": "stderr",
     "output_type": "stream",
     "text": [
      "  2%|██▍                                                                                                                              | 2787/150000 [04:32<3:06:58, 13.12it/s]"
     ]
    },
    {
     "name": "stdout",
     "output_type": "stream",
     "text": [
      "[ 0.23493482 -0.29938959]\n"
     ]
    },
    {
     "name": "stderr",
     "output_type": "stream",
     "text": [
      "  2%|██▍                                                                                                                              | 2803/150000 [04:33<3:07:39, 13.07it/s]"
     ]
    },
    {
     "name": "stdout",
     "output_type": "stream",
     "text": [
      "[ 0.91486683 -0.33071398]\n"
     ]
    },
    {
     "name": "stderr",
     "output_type": "stream",
     "text": [
      "  2%|██▍                                                                                                                              | 2819/150000 [04:35<3:05:00, 13.26it/s]"
     ]
    },
    {
     "name": "stdout",
     "output_type": "stream",
     "text": [
      "[ 1.33048241 -0.38641242]\n"
     ]
    },
    {
     "name": "stderr",
     "output_type": "stream",
     "text": [
      "  2%|██▍                                                                                                                              | 2835/150000 [04:36<3:04:18, 13.31it/s]"
     ]
    },
    {
     "name": "stdout",
     "output_type": "stream",
     "text": [
      "[ 1.31513012 -0.19970595]\n"
     ]
    },
    {
     "name": "stderr",
     "output_type": "stream",
     "text": [
      "  2%|██▍                                                                                                                              | 2851/150000 [04:37<3:08:41, 13.00it/s]"
     ]
    },
    {
     "name": "stdout",
     "output_type": "stream",
     "text": [
      "[ 0.85925863 -0.21605617]\n"
     ]
    },
    {
     "name": "stderr",
     "output_type": "stream",
     "text": [
      "  2%|██▍                                                                                                                              | 2867/150000 [04:38<3:04:57, 13.26it/s]"
     ]
    },
    {
     "name": "stdout",
     "output_type": "stream",
     "text": [
      "[0.85302565 0.19183569]\n"
     ]
    },
    {
     "name": "stderr",
     "output_type": "stream",
     "text": [
      "  2%|██▍                                                                                                                              | 2883/150000 [04:39<3:04:31, 13.29it/s]"
     ]
    },
    {
     "name": "stdout",
     "output_type": "stream",
     "text": [
      "[0.46578133 0.23878293]\n"
     ]
    },
    {
     "name": "stderr",
     "output_type": "stream",
     "text": [
      "  2%|██▍                                                                                                                              | 2899/150000 [04:41<3:06:27, 13.15it/s]"
     ]
    },
    {
     "name": "stdout",
     "output_type": "stream",
     "text": [
      "[0.09397634 0.12644744]\n"
     ]
    },
    {
     "name": "stderr",
     "output_type": "stream",
     "text": [
      "  2%|██▌                                                                                                                              | 2915/150000 [04:42<3:05:35, 13.21it/s]"
     ]
    },
    {
     "name": "stdout",
     "output_type": "stream",
     "text": [
      "[-0.07532623  0.28421969]\n"
     ]
    },
    {
     "name": "stderr",
     "output_type": "stream",
     "text": [
      "  2%|██▌                                                                                                                              | 2931/150000 [04:43<3:06:02, 13.17it/s]"
     ]
    },
    {
     "name": "stdout",
     "output_type": "stream",
     "text": [
      "[-0.27485257  0.40781724]\n"
     ]
    },
    {
     "name": "stderr",
     "output_type": "stream",
     "text": [
      "  2%|██▌                                                                                                                              | 2947/150000 [04:44<3:04:46, 13.26it/s]"
     ]
    },
    {
     "name": "stdout",
     "output_type": "stream",
     "text": [
      "[0.00611742 0.75051128]\n"
     ]
    },
    {
     "name": "stderr",
     "output_type": "stream",
     "text": [
      "  2%|██▌                                                                                                                              | 2963/150000 [04:45<3:05:35, 13.20it/s]"
     ]
    },
    {
     "name": "stdout",
     "output_type": "stream",
     "text": [
      "[-0.2524331   0.66262976]\n"
     ]
    },
    {
     "name": "stderr",
     "output_type": "stream",
     "text": [
      "  2%|██▌                                                                                                                              | 2979/150000 [04:47<3:04:15, 13.30it/s]"
     ]
    },
    {
     "name": "stdout",
     "output_type": "stream",
     "text": [
      "[-0.51210727  0.53453224]\n"
     ]
    },
    {
     "name": "stderr",
     "output_type": "stream",
     "text": [
      "  2%|██▌                                                                                                                              | 2995/150000 [04:48<3:06:50, 13.11it/s]"
     ]
    },
    {
     "name": "stdout",
     "output_type": "stream",
     "text": [
      "[-0.52004586  0.49893215]\n"
     ]
    },
    {
     "name": "stderr",
     "output_type": "stream",
     "text": [
      "  2%|██▌                                                                                                                              | 3011/150000 [04:49<3:04:17, 13.29it/s]"
     ]
    },
    {
     "name": "stdout",
     "output_type": "stream",
     "text": [
      "[-0.25854095  0.49891649]\n"
     ]
    },
    {
     "name": "stderr",
     "output_type": "stream",
     "text": [
      "  2%|██▌                                                                                                                              | 3027/150000 [04:50<3:08:01, 13.03it/s]"
     ]
    },
    {
     "name": "stdout",
     "output_type": "stream",
     "text": [
      "[0.08728868 0.49404366]\n"
     ]
    },
    {
     "name": "stderr",
     "output_type": "stream",
     "text": [
      "  2%|██▌                                                                                                                              | 3043/150000 [04:52<3:05:51, 13.18it/s]"
     ]
    },
    {
     "name": "stdout",
     "output_type": "stream",
     "text": [
      "[0.45258032 0.44492395]\n"
     ]
    },
    {
     "name": "stderr",
     "output_type": "stream",
     "text": [
      "  2%|██▋                                                                                                                              | 3059/150000 [04:53<3:05:54, 13.17it/s]"
     ]
    },
    {
     "name": "stdout",
     "output_type": "stream",
     "text": [
      "[0.81613848 0.38344516]\n"
     ]
    },
    {
     "name": "stderr",
     "output_type": "stream",
     "text": [
      "  2%|██▋                                                                                                                              | 3075/150000 [04:54<3:05:41, 13.19it/s]"
     ]
    },
    {
     "name": "stdout",
     "output_type": "stream",
     "text": [
      "[ 0.66937054 -0.0806879 ]\n"
     ]
    },
    {
     "name": "stderr",
     "output_type": "stream",
     "text": [
      "  2%|██▋                                                                                                                              | 3091/150000 [04:55<3:06:44, 13.11it/s]"
     ]
    },
    {
     "name": "stdout",
     "output_type": "stream",
     "text": [
      "[ 0.49228742 -0.16158232]\n"
     ]
    },
    {
     "name": "stderr",
     "output_type": "stream",
     "text": [
      "  2%|██▋                                                                                                                              | 3107/150000 [04:56<3:05:40, 13.19it/s]"
     ]
    },
    {
     "name": "stdout",
     "output_type": "stream",
     "text": [
      "[ 0.48382749 -0.21598111]\n"
     ]
    },
    {
     "name": "stderr",
     "output_type": "stream",
     "text": [
      "  2%|██▋                                                                                                                              | 3123/150000 [04:58<3:06:08, 13.15it/s]"
     ]
    },
    {
     "name": "stdout",
     "output_type": "stream",
     "text": [
      "[ 0.56944852 -0.32254962]\n"
     ]
    },
    {
     "name": "stderr",
     "output_type": "stream",
     "text": [
      "  2%|██▋                                                                                                                              | 3139/150000 [04:59<3:03:55, 13.31it/s]"
     ]
    },
    {
     "name": "stdout",
     "output_type": "stream",
     "text": [
      "[ 0.82619072 -0.29485157]\n"
     ]
    },
    {
     "name": "stderr",
     "output_type": "stream",
     "text": [
      "  2%|██▋                                                                                                                              | 3155/150000 [05:00<3:05:00, 13.23it/s]"
     ]
    },
    {
     "name": "stdout",
     "output_type": "stream",
     "text": [
      "[ 1.26669355 -0.28285578]\n"
     ]
    },
    {
     "name": "stderr",
     "output_type": "stream",
     "text": [
      "  2%|██▋                                                                                                                              | 3171/150000 [05:01<3:05:41, 13.18it/s]"
     ]
    },
    {
     "name": "stdout",
     "output_type": "stream",
     "text": [
      "[ 0.98778668 -0.3667406 ]\n"
     ]
    },
    {
     "name": "stderr",
     "output_type": "stream",
     "text": [
      "  2%|██▋                                                                                                                              | 3187/150000 [05:02<3:06:47, 13.10it/s]"
     ]
    },
    {
     "name": "stdout",
     "output_type": "stream",
     "text": [
      "[ 0.60847474 -0.1846778 ]\n"
     ]
    },
    {
     "name": "stderr",
     "output_type": "stream",
     "text": [
      "  2%|██▊                                                                                                                              | 3203/150000 [05:04<3:06:29, 13.12it/s]"
     ]
    },
    {
     "name": "stdout",
     "output_type": "stream",
     "text": [
      "[ 0.11840366 -0.24895448]\n"
     ]
    },
    {
     "name": "stderr",
     "output_type": "stream",
     "text": [
      "  2%|██▊                                                                                                                              | 3219/150000 [05:05<3:05:15, 13.21it/s]"
     ]
    },
    {
     "name": "stdout",
     "output_type": "stream",
     "text": [
      "[-0.06231918 -0.35241201]\n"
     ]
    },
    {
     "name": "stderr",
     "output_type": "stream",
     "text": [
      "  2%|██▊                                                                                                                              | 3235/150000 [05:06<3:03:16, 13.35it/s]"
     ]
    },
    {
     "name": "stdout",
     "output_type": "stream",
     "text": [
      "[-0.17885788 -0.11281586]\n"
     ]
    },
    {
     "name": "stderr",
     "output_type": "stream",
     "text": [
      "  2%|██▊                                                                                                                              | 3251/150000 [05:07<3:06:14, 13.13it/s]"
     ]
    },
    {
     "name": "stdout",
     "output_type": "stream",
     "text": [
      "[-0.2606114  -0.04544228]\n"
     ]
    },
    {
     "name": "stderr",
     "output_type": "stream",
     "text": [
      "  2%|██▊                                                                                                                              | 3267/150000 [05:08<3:06:49, 13.09it/s]"
     ]
    },
    {
     "name": "stdout",
     "output_type": "stream",
     "text": [
      "[-0.1405487   0.10795127]\n"
     ]
    },
    {
     "name": "stderr",
     "output_type": "stream",
     "text": [
      "  2%|██▊                                                                                                                              | 3283/150000 [05:10<3:04:35, 13.25it/s]"
     ]
    },
    {
     "name": "stdout",
     "output_type": "stream",
     "text": [
      "[-0.60740637  0.08165727]\n"
     ]
    },
    {
     "name": "stderr",
     "output_type": "stream",
     "text": [
      "  2%|██▊                                                                                                                              | 3299/150000 [05:11<3:04:55, 13.22it/s]"
     ]
    },
    {
     "name": "stdout",
     "output_type": "stream",
     "text": [
      "[-0.51527944  0.17044756]\n"
     ]
    },
    {
     "name": "stderr",
     "output_type": "stream",
     "text": [
      "  2%|██▊                                                                                                                              | 3315/150000 [05:12<3:05:23, 13.19it/s]"
     ]
    },
    {
     "name": "stdout",
     "output_type": "stream",
     "text": [
      "[-0.30000938  0.26861492]\n"
     ]
    },
    {
     "name": "stderr",
     "output_type": "stream",
     "text": [
      "  2%|██▊                                                                                                                              | 3331/150000 [05:13<3:06:18, 13.12it/s]"
     ]
    },
    {
     "name": "stdout",
     "output_type": "stream",
     "text": [
      "[-0.36528197  0.1270837 ]\n"
     ]
    },
    {
     "name": "stderr",
     "output_type": "stream",
     "text": [
      "  2%|██▉                                                                                                                              | 3347/150000 [05:15<3:04:11, 13.27it/s]"
     ]
    },
    {
     "name": "stdout",
     "output_type": "stream",
     "text": [
      "[-0.54713339 -0.07757506]\n"
     ]
    },
    {
     "name": "stderr",
     "output_type": "stream",
     "text": [
      "  2%|██▉                                                                                                                              | 3363/150000 [05:16<3:02:56, 13.36it/s]"
     ]
    },
    {
     "name": "stdout",
     "output_type": "stream",
     "text": [
      "[-0.49943201 -0.16314438]\n"
     ]
    },
    {
     "name": "stderr",
     "output_type": "stream",
     "text": [
      "  2%|██▉                                                                                                                              | 3379/150000 [05:17<3:01:45, 13.44it/s]"
     ]
    },
    {
     "name": "stdout",
     "output_type": "stream",
     "text": [
      "[-0.22424666  0.37303196]\n"
     ]
    },
    {
     "name": "stderr",
     "output_type": "stream",
     "text": [
      "  2%|██▉                                                                                                                              | 3395/150000 [05:18<3:04:18, 13.26it/s]"
     ]
    },
    {
     "name": "stdout",
     "output_type": "stream",
     "text": [
      "[-0.39520857  0.27273248]\n"
     ]
    },
    {
     "name": "stderr",
     "output_type": "stream",
     "text": [
      "  2%|██▉                                                                                                                              | 3411/150000 [05:19<3:07:15, 13.05it/s]"
     ]
    },
    {
     "name": "stdout",
     "output_type": "stream",
     "text": [
      "[-0.40317326  0.41783074]\n"
     ]
    },
    {
     "name": "stderr",
     "output_type": "stream",
     "text": [
      "  2%|██▉                                                                                                                              | 3427/150000 [05:21<3:05:52, 13.14it/s]"
     ]
    },
    {
     "name": "stdout",
     "output_type": "stream",
     "text": [
      "[-0.61228302  0.5918961 ]\n"
     ]
    },
    {
     "name": "stderr",
     "output_type": "stream",
     "text": [
      "  2%|██▉                                                                                                                              | 3443/150000 [05:22<3:05:02, 13.20it/s]"
     ]
    },
    {
     "name": "stdout",
     "output_type": "stream",
     "text": [
      "[-0.81955886  0.93358956]\n"
     ]
    },
    {
     "name": "stderr",
     "output_type": "stream",
     "text": [
      "  2%|██▉                                                                                                                              | 3459/150000 [05:23<3:06:56, 13.06it/s]"
     ]
    },
    {
     "name": "stdout",
     "output_type": "stream",
     "text": [
      "[-1.43863458  0.76339406]\n"
     ]
    },
    {
     "name": "stderr",
     "output_type": "stream",
     "text": [
      "  2%|██▉                                                                                                                              | 3475/150000 [05:24<3:07:05, 13.05it/s]"
     ]
    },
    {
     "name": "stdout",
     "output_type": "stream",
     "text": [
      "[-1.52673204  0.84526445]\n"
     ]
    },
    {
     "name": "stderr",
     "output_type": "stream",
     "text": [
      "  2%|███                                                                                                                              | 3491/150000 [05:25<3:06:02, 13.12it/s]"
     ]
    },
    {
     "name": "stdout",
     "output_type": "stream",
     "text": [
      "[-1.45633043  0.76133679]\n"
     ]
    },
    {
     "name": "stderr",
     "output_type": "stream",
     "text": [
      "  2%|███                                                                                                                              | 3507/150000 [05:27<3:04:30, 13.23it/s]"
     ]
    },
    {
     "name": "stdout",
     "output_type": "stream",
     "text": [
      "[-1.24580234  0.7693344 ]\n"
     ]
    },
    {
     "name": "stderr",
     "output_type": "stream",
     "text": [
      "  2%|███                                                                                                                              | 3523/150000 [05:28<3:06:28, 13.09it/s]"
     ]
    },
    {
     "name": "stdout",
     "output_type": "stream",
     "text": [
      "[-0.99278347  0.81116617]\n"
     ]
    },
    {
     "name": "stderr",
     "output_type": "stream",
     "text": [
      "  2%|███                                                                                                                              | 3539/150000 [05:29<3:03:14, 13.32it/s]"
     ]
    },
    {
     "name": "stdout",
     "output_type": "stream",
     "text": [
      "[-1.187533    0.55517337]\n"
     ]
    },
    {
     "name": "stderr",
     "output_type": "stream",
     "text": [
      "  2%|███                                                                                                                              | 3555/150000 [05:30<3:04:58, 13.20it/s]"
     ]
    },
    {
     "name": "stdout",
     "output_type": "stream",
     "text": [
      "[-1.2460738   0.45262185]\n"
     ]
    },
    {
     "name": "stderr",
     "output_type": "stream",
     "text": [
      "  2%|███                                                                                                                              | 3571/150000 [05:31<3:05:07, 13.18it/s]"
     ]
    },
    {
     "name": "stdout",
     "output_type": "stream",
     "text": [
      "[-1.00970179  0.33662194]\n"
     ]
    },
    {
     "name": "stderr",
     "output_type": "stream",
     "text": [
      "  2%|███                                                                                                                              | 3587/150000 [05:33<3:05:20, 13.17it/s]"
     ]
    },
    {
     "name": "stdout",
     "output_type": "stream",
     "text": [
      "[-0.94952868  0.06040483]\n"
     ]
    },
    {
     "name": "stderr",
     "output_type": "stream",
     "text": [
      "  2%|███                                                                                                                              | 3603/150000 [05:34<3:05:41, 13.14it/s]"
     ]
    },
    {
     "name": "stdout",
     "output_type": "stream",
     "text": [
      "[-1.03639247 -0.04873258]\n"
     ]
    },
    {
     "name": "stderr",
     "output_type": "stream",
     "text": [
      "  2%|███                                                                                                                              | 3619/150000 [05:35<3:05:05, 13.18it/s]"
     ]
    },
    {
     "name": "stdout",
     "output_type": "stream",
     "text": [
      "[-0.59963051  0.09475626]\n"
     ]
    },
    {
     "name": "stderr",
     "output_type": "stream",
     "text": [
      "  2%|███▏                                                                                                                             | 3635/150000 [05:36<3:03:35, 13.29it/s]"
     ]
    },
    {
     "name": "stdout",
     "output_type": "stream",
     "text": [
      "[-0.53516534 -0.02513964]\n"
     ]
    },
    {
     "name": "stderr",
     "output_type": "stream",
     "text": [
      "  2%|███▏                                                                                                                             | 3651/150000 [05:38<3:05:29, 13.15it/s]"
     ]
    },
    {
     "name": "stdout",
     "output_type": "stream",
     "text": [
      "[-0.07525507  0.26660861]\n"
     ]
    },
    {
     "name": "stderr",
     "output_type": "stream",
     "text": [
      "  2%|███▏                                                                                                                             | 3667/150000 [05:39<3:05:33, 13.14it/s]"
     ]
    },
    {
     "name": "stdout",
     "output_type": "stream",
     "text": [
      "[-0.26454303  0.14738568]\n"
     ]
    },
    {
     "name": "stderr",
     "output_type": "stream",
     "text": [
      "  2%|███▏                                                                                                                             | 3683/150000 [05:40<3:05:23, 13.15it/s]"
     ]
    },
    {
     "name": "stdout",
     "output_type": "stream",
     "text": [
      "[-0.58705199 -0.05642499]\n"
     ]
    },
    {
     "name": "stderr",
     "output_type": "stream",
     "text": [
      "  2%|███▏                                                                                                                             | 3699/150000 [05:41<3:03:46, 13.27it/s]"
     ]
    },
    {
     "name": "stdout",
     "output_type": "stream",
     "text": [
      "[-0.44955993 -0.40413552]\n"
     ]
    },
    {
     "name": "stderr",
     "output_type": "stream",
     "text": [
      "  2%|███▏                                                                                                                             | 3715/150000 [05:42<3:06:53, 13.05it/s]"
     ]
    },
    {
     "name": "stdout",
     "output_type": "stream",
     "text": [
      "[ 0.16942674 -0.61231584]\n"
     ]
    },
    {
     "name": "stderr",
     "output_type": "stream",
     "text": [
      "  2%|███▏                                                                                                                             | 3731/150000 [05:44<3:03:12, 13.31it/s]"
     ]
    },
    {
     "name": "stdout",
     "output_type": "stream",
     "text": [
      "[ 0.54201603 -0.67993314]\n"
     ]
    },
    {
     "name": "stderr",
     "output_type": "stream",
     "text": [
      "  2%|███▏                                                                                                                             | 3747/150000 [05:45<3:06:09, 13.09it/s]"
     ]
    },
    {
     "name": "stdout",
     "output_type": "stream",
     "text": [
      "[ 1.18909407 -0.40975687]\n"
     ]
    },
    {
     "name": "stderr",
     "output_type": "stream",
     "text": [
      "  3%|███▏                                                                                                                             | 3763/150000 [05:46<3:02:09, 13.38it/s]"
     ]
    },
    {
     "name": "stdout",
     "output_type": "stream",
     "text": [
      "[ 0.901699   -0.73349805]\n"
     ]
    },
    {
     "name": "stderr",
     "output_type": "stream",
     "text": [
      "  3%|███▏                                                                                                                             | 3779/150000 [05:47<3:03:36, 13.27it/s]"
     ]
    },
    {
     "name": "stdout",
     "output_type": "stream",
     "text": [
      "[ 0.69749233 -0.75279676]\n"
     ]
    },
    {
     "name": "stderr",
     "output_type": "stream",
     "text": [
      "  3%|███▎                                                                                                                             | 3795/150000 [05:48<3:02:34, 13.35it/s]"
     ]
    },
    {
     "name": "stdout",
     "output_type": "stream",
     "text": [
      "[ 0.67119747 -0.87297665]\n"
     ]
    },
    {
     "name": "stderr",
     "output_type": "stream",
     "text": [
      "  3%|███▎                                                                                                                             | 3811/150000 [05:50<3:02:49, 13.33it/s]"
     ]
    },
    {
     "name": "stdout",
     "output_type": "stream",
     "text": [
      "[ 0.59535188 -0.72832445]\n"
     ]
    },
    {
     "name": "stderr",
     "output_type": "stream",
     "text": [
      "  3%|███▎                                                                                                                             | 3827/150000 [05:51<3:03:12, 13.30it/s]"
     ]
    },
    {
     "name": "stdout",
     "output_type": "stream",
     "text": [
      "[ 0.74785449 -0.44242334]\n"
     ]
    },
    {
     "name": "stderr",
     "output_type": "stream",
     "text": [
      "  3%|███▎                                                                                                                             | 3843/150000 [05:52<3:05:20, 13.14it/s]"
     ]
    },
    {
     "name": "stdout",
     "output_type": "stream",
     "text": [
      "[ 0.56735129 -0.36076775]\n"
     ]
    },
    {
     "name": "stderr",
     "output_type": "stream",
     "text": [
      "  3%|███▎                                                                                                                             | 3859/150000 [05:53<3:04:58, 13.17it/s]"
     ]
    },
    {
     "name": "stdout",
     "output_type": "stream",
     "text": [
      "[ 0.05197782 -0.49382238]\n"
     ]
    },
    {
     "name": "stderr",
     "output_type": "stream",
     "text": [
      "  3%|███▎                                                                                                                             | 3875/150000 [05:54<3:04:38, 13.19it/s]"
     ]
    },
    {
     "name": "stdout",
     "output_type": "stream",
     "text": [
      "[ 0.11518025 -0.05379033]\n"
     ]
    },
    {
     "name": "stderr",
     "output_type": "stream",
     "text": [
      "  3%|███▎                                                                                                                             | 3891/150000 [05:56<3:05:00, 13.16it/s]"
     ]
    },
    {
     "name": "stdout",
     "output_type": "stream",
     "text": [
      "[0.27260139 0.18217821]\n"
     ]
    },
    {
     "name": "stderr",
     "output_type": "stream",
     "text": [
      "  3%|███▎                                                                                                                             | 3907/150000 [05:57<3:02:47, 13.32it/s]"
     ]
    },
    {
     "name": "stdout",
     "output_type": "stream",
     "text": [
      "[-0.07388766  0.15890251]\n"
     ]
    },
    {
     "name": "stderr",
     "output_type": "stream",
     "text": [
      "  3%|███▎                                                                                                                             | 3923/150000 [05:58<3:04:18, 13.21it/s]"
     ]
    },
    {
     "name": "stdout",
     "output_type": "stream",
     "text": [
      "[-0.1263406   0.49196687]\n"
     ]
    },
    {
     "name": "stderr",
     "output_type": "stream",
     "text": [
      "  3%|███▍                                                                                                                             | 3939/150000 [05:59<3:03:30, 13.27it/s]"
     ]
    },
    {
     "name": "stdout",
     "output_type": "stream",
     "text": [
      "[-0.50271144  0.63218757]\n"
     ]
    },
    {
     "name": "stderr",
     "output_type": "stream",
     "text": [
      "  3%|███▍                                                                                                                             | 3955/150000 [06:01<3:07:08, 13.01it/s]"
     ]
    },
    {
     "name": "stdout",
     "output_type": "stream",
     "text": [
      "[-0.91482801  0.68235691]\n"
     ]
    },
    {
     "name": "stderr",
     "output_type": "stream",
     "text": [
      "  3%|███▍                                                                                                                             | 3971/150000 [06:02<3:04:49, 13.17it/s]"
     ]
    },
    {
     "name": "stdout",
     "output_type": "stream",
     "text": [
      "[-1.06742667  0.58652027]\n"
     ]
    },
    {
     "name": "stderr",
     "output_type": "stream",
     "text": [
      "  3%|███▍                                                                                                                             | 3987/150000 [06:03<3:03:05, 13.29it/s]"
     ]
    },
    {
     "name": "stdout",
     "output_type": "stream",
     "text": [
      "[-0.64557444  0.77706798]\n"
     ]
    },
    {
     "name": "stderr",
     "output_type": "stream",
     "text": [
      "  3%|███▍                                                                                                                             | 4003/150000 [06:04<3:05:04, 13.15it/s]"
     ]
    },
    {
     "name": "stdout",
     "output_type": "stream",
     "text": [
      "[-0.42623793  0.8016608 ]\n"
     ]
    },
    {
     "name": "stderr",
     "output_type": "stream",
     "text": [
      "  3%|███▍                                                                                                                             | 4019/150000 [06:05<3:03:43, 13.24it/s]"
     ]
    },
    {
     "name": "stdout",
     "output_type": "stream",
     "text": [
      "[-0.54838043  0.56761586]\n"
     ]
    },
    {
     "name": "stderr",
     "output_type": "stream",
     "text": [
      "  3%|███▍                                                                                                                             | 4035/150000 [06:07<3:03:37, 13.25it/s]"
     ]
    },
    {
     "name": "stdout",
     "output_type": "stream",
     "text": [
      "[-0.26312522  0.64074918]\n"
     ]
    },
    {
     "name": "stderr",
     "output_type": "stream",
     "text": [
      "  3%|███▍                                                                                                                             | 4051/150000 [06:08<3:04:08, 13.21it/s]"
     ]
    },
    {
     "name": "stdout",
     "output_type": "stream",
     "text": [
      "[-0.45973091  0.32794542]\n"
     ]
    },
    {
     "name": "stderr",
     "output_type": "stream",
     "text": [
      "  3%|███▍                                                                                                                             | 4067/150000 [06:09<3:04:01, 13.22it/s]"
     ]
    },
    {
     "name": "stdout",
     "output_type": "stream",
     "text": [
      "[-0.34911236  0.26908758]\n"
     ]
    },
    {
     "name": "stderr",
     "output_type": "stream",
     "text": [
      "  3%|███▌                                                                                                                             | 4083/150000 [06:10<3:03:16, 13.27it/s]"
     ]
    },
    {
     "name": "stdout",
     "output_type": "stream",
     "text": [
      "[-0.23931022  0.21075962]\n"
     ]
    },
    {
     "name": "stderr",
     "output_type": "stream",
     "text": [
      "  3%|███▌                                                                                                                             | 4099/150000 [06:11<3:03:49, 13.23it/s]"
     ]
    },
    {
     "name": "stdout",
     "output_type": "stream",
     "text": [
      "[-0.10401614  0.10084171]\n"
     ]
    },
    {
     "name": "stderr",
     "output_type": "stream",
     "text": [
      "  3%|███▌                                                                                                                             | 4115/150000 [06:13<3:03:22, 13.26it/s]"
     ]
    },
    {
     "name": "stdout",
     "output_type": "stream",
     "text": [
      "[-0.03111342 -0.04897203]\n"
     ]
    },
    {
     "name": "stderr",
     "output_type": "stream",
     "text": [
      "  3%|███▌                                                                                                                             | 4131/150000 [06:14<3:03:01, 13.28it/s]"
     ]
    },
    {
     "name": "stdout",
     "output_type": "stream",
     "text": [
      "[-0.07710167 -0.19680392]\n"
     ]
    },
    {
     "name": "stderr",
     "output_type": "stream",
     "text": [
      "  3%|███▌                                                                                                                             | 4147/150000 [06:15<3:03:27, 13.25it/s]"
     ]
    },
    {
     "name": "stdout",
     "output_type": "stream",
     "text": [
      "[-0.24500209 -0.18271066]\n"
     ]
    },
    {
     "name": "stderr",
     "output_type": "stream",
     "text": [
      "  3%|███▌                                                                                                                             | 4163/150000 [06:16<3:03:27, 13.25it/s]"
     ]
    },
    {
     "name": "stdout",
     "output_type": "stream",
     "text": [
      "[-0.54646444 -0.18230328]\n"
     ]
    },
    {
     "name": "stderr",
     "output_type": "stream",
     "text": [
      "  3%|███▌                                                                                                                             | 4179/150000 [06:17<3:03:39, 13.23it/s]"
     ]
    },
    {
     "name": "stdout",
     "output_type": "stream",
     "text": [
      "[-0.20442563  0.00296292]\n"
     ]
    },
    {
     "name": "stderr",
     "output_type": "stream",
     "text": [
      "  3%|███▌                                                                                                                             | 4195/150000 [06:19<3:02:43, 13.30it/s]"
     ]
    },
    {
     "name": "stdout",
     "output_type": "stream",
     "text": [
      "[-0.16449614  0.25439574]\n"
     ]
    },
    {
     "name": "stderr",
     "output_type": "stream",
     "text": [
      "  3%|███▌                                                                                                                             | 4211/150000 [06:20<3:03:31, 13.24it/s]"
     ]
    },
    {
     "name": "stdout",
     "output_type": "stream",
     "text": [
      "[-0.52203737  0.25066619]\n"
     ]
    },
    {
     "name": "stderr",
     "output_type": "stream",
     "text": [
      "  3%|███▋                                                                                                                             | 4227/150000 [06:21<3:03:41, 13.23it/s]"
     ]
    },
    {
     "name": "stdout",
     "output_type": "stream",
     "text": [
      "[-0.66944123  0.34296226]\n"
     ]
    },
    {
     "name": "stderr",
     "output_type": "stream",
     "text": [
      "  3%|███▋                                                                                                                             | 4243/150000 [06:22<3:03:46, 13.22it/s]"
     ]
    },
    {
     "name": "stdout",
     "output_type": "stream",
     "text": [
      "[-0.89299829  0.48173369]\n"
     ]
    },
    {
     "name": "stderr",
     "output_type": "stream",
     "text": [
      "  3%|███▋                                                                                                                             | 4259/150000 [06:24<3:03:26, 13.24it/s]"
     ]
    },
    {
     "name": "stdout",
     "output_type": "stream",
     "text": [
      "[-0.92561886  0.42411424]\n"
     ]
    },
    {
     "name": "stderr",
     "output_type": "stream",
     "text": [
      "  3%|███▋                                                                                                                             | 4275/150000 [06:25<3:04:48, 13.14it/s]"
     ]
    },
    {
     "name": "stdout",
     "output_type": "stream",
     "text": [
      "[-0.80473511  0.27270304]\n"
     ]
    },
    {
     "name": "stderr",
     "output_type": "stream",
     "text": [
      "  3%|███▋                                                                                                                             | 4291/150000 [06:26<3:03:38, 13.22it/s]"
     ]
    },
    {
     "name": "stdout",
     "output_type": "stream",
     "text": [
      "[-0.44873226  0.31032642]\n"
     ]
    },
    {
     "name": "stderr",
     "output_type": "stream",
     "text": [
      "  3%|███▋                                                                                                                             | 4307/150000 [06:27<3:04:15, 13.18it/s]"
     ]
    },
    {
     "name": "stdout",
     "output_type": "stream",
     "text": [
      "[-0.55644394 -0.03663769]\n"
     ]
    },
    {
     "name": "stderr",
     "output_type": "stream",
     "text": [
      "  3%|███▋                                                                                                                             | 4323/150000 [06:28<3:03:22, 13.24it/s]"
     ]
    },
    {
     "name": "stdout",
     "output_type": "stream",
     "text": [
      "[-0.2388237   0.00948572]\n"
     ]
    },
    {
     "name": "stderr",
     "output_type": "stream",
     "text": [
      "  3%|███▋                                                                                                                             | 4339/150000 [06:30<3:02:09, 13.33it/s]"
     ]
    },
    {
     "name": "stdout",
     "output_type": "stream",
     "text": [
      "[-0.21621665 -0.00196503]\n"
     ]
    },
    {
     "name": "stderr",
     "output_type": "stream",
     "text": [
      "  3%|███▋                                                                                                                             | 4355/150000 [06:31<3:00:57, 13.41it/s]"
     ]
    },
    {
     "name": "stdout",
     "output_type": "stream",
     "text": [
      "[-0.10633429 -0.07949547]\n"
     ]
    },
    {
     "name": "stderr",
     "output_type": "stream",
     "text": [
      "  3%|███▊                                                                                                                             | 4371/150000 [06:32<3:01:03, 13.41it/s]"
     ]
    },
    {
     "name": "stdout",
     "output_type": "stream",
     "text": [
      "[ 0.13191083 -0.15140073]\n"
     ]
    },
    {
     "name": "stderr",
     "output_type": "stream",
     "text": [
      "  3%|███▊                                                                                                                             | 4387/150000 [06:33<3:03:15, 13.24it/s]"
     ]
    },
    {
     "name": "stdout",
     "output_type": "stream",
     "text": [
      "[ 0.71262087 -0.06900151]\n"
     ]
    },
    {
     "name": "stderr",
     "output_type": "stream",
     "text": [
      "  3%|███▊                                                                                                                             | 4403/150000 [06:34<3:04:22, 13.16it/s]"
     ]
    },
    {
     "name": "stdout",
     "output_type": "stream",
     "text": [
      "[1.10420606 0.14392387]\n"
     ]
    },
    {
     "name": "stderr",
     "output_type": "stream",
     "text": [
      "  3%|███▊                                                                                                                             | 4419/150000 [06:36<3:04:53, 13.12it/s]"
     ]
    },
    {
     "name": "stdout",
     "output_type": "stream",
     "text": [
      "[1.20447551 0.29690468]\n"
     ]
    },
    {
     "name": "stderr",
     "output_type": "stream",
     "text": [
      "  3%|███▊                                                                                                                             | 4435/150000 [06:37<3:04:55, 13.12it/s]"
     ]
    },
    {
     "name": "stdout",
     "output_type": "stream",
     "text": [
      "[1.00921003 0.08930905]\n"
     ]
    },
    {
     "name": "stderr",
     "output_type": "stream",
     "text": [
      "  3%|███▊                                                                                                                             | 4451/150000 [06:38<3:02:50, 13.27it/s]"
     ]
    },
    {
     "name": "stdout",
     "output_type": "stream",
     "text": [
      "[ 0.83973663 -0.1199478 ]\n"
     ]
    },
    {
     "name": "stderr",
     "output_type": "stream",
     "text": [
      "  3%|███▊                                                                                                                             | 4467/150000 [06:39<3:02:47, 13.27it/s]"
     ]
    },
    {
     "name": "stdout",
     "output_type": "stream",
     "text": [
      "[ 0.7643458  -0.23932239]\n"
     ]
    },
    {
     "name": "stderr",
     "output_type": "stream",
     "text": [
      "  3%|███▊                                                                                                                             | 4483/150000 [06:40<3:06:05, 13.03it/s]"
     ]
    },
    {
     "name": "stdout",
     "output_type": "stream",
     "text": [
      "[ 0.58285252 -0.23712531]\n"
     ]
    },
    {
     "name": "stderr",
     "output_type": "stream",
     "text": [
      "  3%|███▊                                                                                                                             | 4499/150000 [06:42<3:02:53, 13.26it/s]"
     ]
    },
    {
     "name": "stdout",
     "output_type": "stream",
     "text": [
      "[ 0.74544667 -0.0876699 ]\n"
     ]
    },
    {
     "name": "stderr",
     "output_type": "stream",
     "text": [
      "  3%|███▉                                                                                                                             | 4515/150000 [06:43<3:02:48, 13.26it/s]"
     ]
    },
    {
     "name": "stdout",
     "output_type": "stream",
     "text": [
      "[0.83595309 0.08535638]\n"
     ]
    },
    {
     "name": "stderr",
     "output_type": "stream",
     "text": [
      "  3%|███▉                                                                                                                             | 4531/150000 [06:44<3:02:21, 13.29it/s]"
     ]
    },
    {
     "name": "stdout",
     "output_type": "stream",
     "text": [
      "[0.75579154 0.05540534]\n"
     ]
    },
    {
     "name": "stderr",
     "output_type": "stream",
     "text": [
      "  3%|███▉                                                                                                                             | 4547/150000 [06:45<3:05:10, 13.09it/s]"
     ]
    },
    {
     "name": "stdout",
     "output_type": "stream",
     "text": [
      "[0.54557738 0.06847732]\n"
     ]
    },
    {
     "name": "stderr",
     "output_type": "stream",
     "text": [
      "  3%|███▉                                                                                                                             | 4563/150000 [06:46<3:03:45, 13.19it/s]"
     ]
    },
    {
     "name": "stdout",
     "output_type": "stream",
     "text": [
      "[0.36481269 0.09367513]\n"
     ]
    },
    {
     "name": "stderr",
     "output_type": "stream",
     "text": [
      "  3%|███▉                                                                                                                             | 4579/150000 [06:48<3:01:26, 13.36it/s]"
     ]
    },
    {
     "name": "stdout",
     "output_type": "stream",
     "text": [
      "[0.53893101 0.12781229]\n"
     ]
    },
    {
     "name": "stderr",
     "output_type": "stream",
     "text": [
      "  3%|███▉                                                                                                                             | 4595/150000 [06:49<3:02:05, 13.31it/s]"
     ]
    },
    {
     "name": "stdout",
     "output_type": "stream",
     "text": [
      "[0.93974656 0.43545946]\n"
     ]
    },
    {
     "name": "stderr",
     "output_type": "stream",
     "text": [
      "  3%|███▉                                                                                                                             | 4611/150000 [06:50<3:04:49, 13.11it/s]"
     ]
    },
    {
     "name": "stdout",
     "output_type": "stream",
     "text": [
      "[1.15378446 0.34084931]\n"
     ]
    },
    {
     "name": "stderr",
     "output_type": "stream",
     "text": [
      "  3%|███▉                                                                                                                             | 4627/150000 [06:51<3:03:11, 13.23it/s]"
     ]
    },
    {
     "name": "stdout",
     "output_type": "stream",
     "text": [
      "[1.00515435 0.05527288]\n"
     ]
    },
    {
     "name": "stderr",
     "output_type": "stream",
     "text": [
      "  3%|███▉                                                                                                                             | 4643/150000 [06:52<3:05:08, 13.08it/s]"
     ]
    },
    {
     "name": "stdout",
     "output_type": "stream",
     "text": [
      "[ 0.77665379 -0.29039828]\n"
     ]
    },
    {
     "name": "stderr",
     "output_type": "stream",
     "text": [
      "  3%|████                                                                                                                             | 4659/150000 [06:54<3:03:45, 13.18it/s]"
     ]
    },
    {
     "name": "stdout",
     "output_type": "stream",
     "text": [
      "[ 0.83905521 -0.2338813 ]\n"
     ]
    },
    {
     "name": "stderr",
     "output_type": "stream",
     "text": [
      "  3%|████                                                                                                                             | 4675/150000 [06:55<3:03:26, 13.20it/s]"
     ]
    },
    {
     "name": "stdout",
     "output_type": "stream",
     "text": [
      "[ 0.74467279 -0.3016511 ]\n"
     ]
    },
    {
     "name": "stderr",
     "output_type": "stream",
     "text": [
      "  3%|████                                                                                                                             | 4691/150000 [06:56<3:04:11, 13.15it/s]"
     ]
    },
    {
     "name": "stdout",
     "output_type": "stream",
     "text": [
      "[ 0.92855312 -0.25185393]\n"
     ]
    },
    {
     "name": "stderr",
     "output_type": "stream",
     "text": [
      "  3%|████                                                                                                                             | 4707/150000 [06:57<3:05:39, 13.04it/s]"
     ]
    },
    {
     "name": "stdout",
     "output_type": "stream",
     "text": [
      "[ 0.76271434 -0.31657771]\n"
     ]
    },
    {
     "name": "stderr",
     "output_type": "stream",
     "text": [
      "  3%|████                                                                                                                             | 4723/150000 [06:59<3:03:43, 13.18it/s]"
     ]
    },
    {
     "name": "stdout",
     "output_type": "stream",
     "text": [
      "[ 0.77461352 -0.20553966]\n"
     ]
    },
    {
     "name": "stderr",
     "output_type": "stream",
     "text": [
      "  3%|████                                                                                                                             | 4739/150000 [07:00<3:02:20, 13.28it/s]"
     ]
    },
    {
     "name": "stdout",
     "output_type": "stream",
     "text": [
      "[ 0.67692926 -0.11166016]\n"
     ]
    },
    {
     "name": "stderr",
     "output_type": "stream",
     "text": [
      "  3%|████                                                                                                                             | 4755/150000 [07:01<3:02:58, 13.23it/s]"
     ]
    },
    {
     "name": "stdout",
     "output_type": "stream",
     "text": [
      "[0.56134419 0.04802071]\n"
     ]
    },
    {
     "name": "stderr",
     "output_type": "stream",
     "text": [
      "  3%|████                                                                                                                             | 4771/150000 [07:02<3:02:14, 13.28it/s]"
     ]
    },
    {
     "name": "stdout",
     "output_type": "stream",
     "text": [
      "[0.49094289 0.08067391]\n"
     ]
    },
    {
     "name": "stderr",
     "output_type": "stream",
     "text": [
      "  3%|████                                                                                                                             | 4787/150000 [07:03<3:03:15, 13.21it/s]"
     ]
    },
    {
     "name": "stdout",
     "output_type": "stream",
     "text": [
      "[0.48517872 0.30689375]\n"
     ]
    },
    {
     "name": "stderr",
     "output_type": "stream",
     "text": [
      "  3%|████▏                                                                                                                            | 4803/150000 [07:05<3:02:42, 13.25it/s]"
     ]
    },
    {
     "name": "stdout",
     "output_type": "stream",
     "text": [
      "[0.37068362 0.46431758]\n"
     ]
    },
    {
     "name": "stderr",
     "output_type": "stream",
     "text": [
      "  3%|████▏                                                                                                                            | 4819/150000 [07:06<3:01:55, 13.30it/s]"
     ]
    },
    {
     "name": "stdout",
     "output_type": "stream",
     "text": [
      "[0.29389737 0.54393799]\n"
     ]
    },
    {
     "name": "stderr",
     "output_type": "stream",
     "text": [
      "  3%|████▏                                                                                                                            | 4835/150000 [07:07<3:02:20, 13.27it/s]"
     ]
    },
    {
     "name": "stdout",
     "output_type": "stream",
     "text": [
      "[0.14661343 0.47812245]\n"
     ]
    },
    {
     "name": "stderr",
     "output_type": "stream",
     "text": [
      "  3%|████▏                                                                                                                            | 4851/150000 [07:08<3:04:07, 13.14it/s]"
     ]
    },
    {
     "name": "stdout",
     "output_type": "stream",
     "text": [
      "[0.06650535 0.52190243]\n"
     ]
    },
    {
     "name": "stderr",
     "output_type": "stream",
     "text": [
      "  3%|████▏                                                                                                                            | 4867/150000 [07:09<3:01:22, 13.34it/s]"
     ]
    },
    {
     "name": "stdout",
     "output_type": "stream",
     "text": [
      "[-0.0828516  0.6682798]\n"
     ]
    },
    {
     "name": "stderr",
     "output_type": "stream",
     "text": [
      "  3%|████▏                                                                                                                            | 4883/150000 [07:11<3:04:09, 13.13it/s]"
     ]
    },
    {
     "name": "stdout",
     "output_type": "stream",
     "text": [
      "[-0.37352511  0.60299387]\n"
     ]
    },
    {
     "name": "stderr",
     "output_type": "stream",
     "text": [
      "  3%|████▏                                                                                                                            | 4899/150000 [07:12<3:04:09, 13.13it/s]"
     ]
    },
    {
     "name": "stdout",
     "output_type": "stream",
     "text": [
      "[-0.733939    0.37989571]\n"
     ]
    },
    {
     "name": "stderr",
     "output_type": "stream",
     "text": [
      "  3%|████▏                                                                                                                            | 4915/150000 [07:13<3:07:09, 12.92it/s]"
     ]
    },
    {
     "name": "stdout",
     "output_type": "stream",
     "text": [
      "[-0.92413476  0.27609592]\n"
     ]
    },
    {
     "name": "stderr",
     "output_type": "stream",
     "text": [
      "  3%|████▏                                                                                                                            | 4931/150000 [07:14<3:00:54, 13.37it/s]"
     ]
    },
    {
     "name": "stdout",
     "output_type": "stream",
     "text": [
      "[-0.99044474  0.14840298]\n"
     ]
    },
    {
     "name": "stderr",
     "output_type": "stream",
     "text": [
      "  3%|████▎                                                                                                                            | 4947/150000 [07:15<3:03:12, 13.20it/s]"
     ]
    },
    {
     "name": "stdout",
     "output_type": "stream",
     "text": [
      "[-1.07348551  0.07775204]\n"
     ]
    },
    {
     "name": "stderr",
     "output_type": "stream",
     "text": [
      "  3%|████▎                                                                                                                            | 4963/150000 [07:17<3:02:32, 13.24it/s]"
     ]
    },
    {
     "name": "stdout",
     "output_type": "stream",
     "text": [
      "[-1.06238111  0.2402864 ]\n"
     ]
    },
    {
     "name": "stderr",
     "output_type": "stream",
     "text": [
      "  3%|████▎                                                                                                                            | 4979/150000 [07:18<3:03:34, 13.17it/s]"
     ]
    },
    {
     "name": "stdout",
     "output_type": "stream",
     "text": [
      "[-1.0282763   0.16608972]\n"
     ]
    },
    {
     "name": "stderr",
     "output_type": "stream",
     "text": [
      "  3%|████▎                                                                                                                            | 4995/150000 [07:19<3:03:45, 13.15it/s]"
     ]
    },
    {
     "name": "stdout",
     "output_type": "stream",
     "text": [
      "[-0.25279619  0.54821596]\n"
     ]
    },
    {
     "name": "stderr",
     "output_type": "stream",
     "text": [
      "  3%|████▎                                                                                                                            | 5011/150000 [07:20<3:02:43, 13.22it/s]"
     ]
    },
    {
     "name": "stdout",
     "output_type": "stream",
     "text": [
      "[0.08469581 0.63412305]\n"
     ]
    },
    {
     "name": "stderr",
     "output_type": "stream",
     "text": [
      "  3%|████▎                                                                                                                            | 5027/150000 [07:22<3:01:56, 13.28it/s]"
     ]
    },
    {
     "name": "stdout",
     "output_type": "stream",
     "text": [
      "[0.02021383 0.42886219]\n"
     ]
    },
    {
     "name": "stderr",
     "output_type": "stream",
     "text": [
      "  3%|████▎                                                                                                                            | 5043/150000 [07:23<3:03:48, 13.14it/s]"
     ]
    },
    {
     "name": "stdout",
     "output_type": "stream",
     "text": [
      "[0.07575211 0.10929704]\n"
     ]
    },
    {
     "name": "stderr",
     "output_type": "stream",
     "text": [
      "  3%|████▎                                                                                                                            | 5059/150000 [07:24<3:02:06, 13.27it/s]"
     ]
    },
    {
     "name": "stdout",
     "output_type": "stream",
     "text": [
      "[0.56599419 0.08261638]\n"
     ]
    },
    {
     "name": "stderr",
     "output_type": "stream",
     "text": [
      "  3%|████▎                                                                                                                            | 5075/150000 [07:25<3:01:53, 13.28it/s]"
     ]
    },
    {
     "name": "stdout",
     "output_type": "stream",
     "text": [
      "[ 0.98909439 -0.08564577]\n"
     ]
    },
    {
     "name": "stderr",
     "output_type": "stream",
     "text": [
      "  3%|████▍                                                                                                                            | 5091/150000 [07:26<3:02:39, 13.22it/s]"
     ]
    },
    {
     "name": "stdout",
     "output_type": "stream",
     "text": [
      "[ 0.63639846 -0.42366864]\n"
     ]
    },
    {
     "name": "stderr",
     "output_type": "stream",
     "text": [
      "  3%|████▍                                                                                                                            | 5107/150000 [07:28<3:03:30, 13.16it/s]"
     ]
    },
    {
     "name": "stdout",
     "output_type": "stream",
     "text": [
      "[ 0.85121085 -0.51753737]\n"
     ]
    },
    {
     "name": "stderr",
     "output_type": "stream",
     "text": [
      "  3%|████▍                                                                                                                            | 5123/150000 [07:29<2:59:56, 13.42it/s]"
     ]
    },
    {
     "name": "stdout",
     "output_type": "stream",
     "text": [
      "[ 1.0056384  -0.72788441]\n"
     ]
    },
    {
     "name": "stderr",
     "output_type": "stream",
     "text": [
      "  3%|████▍                                                                                                                            | 5139/150000 [07:30<3:01:59, 13.27it/s]"
     ]
    },
    {
     "name": "stdout",
     "output_type": "stream",
     "text": [
      "[ 1.01625227 -0.93561593]\n"
     ]
    },
    {
     "name": "stderr",
     "output_type": "stream",
     "text": [
      "  3%|████▍                                                                                                                            | 5155/150000 [07:31<3:02:49, 13.20it/s]"
     ]
    },
    {
     "name": "stdout",
     "output_type": "stream",
     "text": [
      "[ 1.43636756 -0.77574452]\n"
     ]
    },
    {
     "name": "stderr",
     "output_type": "stream",
     "text": [
      "  3%|████▍                                                                                                                            | 5171/150000 [07:32<3:01:22, 13.31it/s]"
     ]
    },
    {
     "name": "stdout",
     "output_type": "stream",
     "text": [
      "[ 1.56527799 -0.90191918]\n"
     ]
    },
    {
     "name": "stderr",
     "output_type": "stream",
     "text": [
      "  3%|████▍                                                                                                                            | 5187/150000 [07:34<3:04:20, 13.09it/s]"
     ]
    },
    {
     "name": "stdout",
     "output_type": "stream",
     "text": [
      "[ 1.75901277 -1.02096323]\n"
     ]
    },
    {
     "name": "stderr",
     "output_type": "stream",
     "text": [
      "  3%|████▍                                                                                                                            | 5203/150000 [07:35<3:02:26, 13.23it/s]"
     ]
    },
    {
     "name": "stdout",
     "output_type": "stream",
     "text": [
      "[ 1.88203159 -1.10197034]\n"
     ]
    },
    {
     "name": "stderr",
     "output_type": "stream",
     "text": [
      "  3%|████▍                                                                                                                            | 5219/150000 [07:36<3:02:04, 13.25it/s]"
     ]
    },
    {
     "name": "stdout",
     "output_type": "stream",
     "text": [
      "[ 2.09755632 -0.96635145]\n"
     ]
    },
    {
     "name": "stderr",
     "output_type": "stream",
     "text": [
      "  3%|████▌                                                                                                                            | 5235/150000 [07:37<3:02:39, 13.21it/s]"
     ]
    },
    {
     "name": "stdout",
     "output_type": "stream",
     "text": [
      "[ 2.11777046 -0.72464473]\n"
     ]
    },
    {
     "name": "stderr",
     "output_type": "stream",
     "text": [
      "  4%|████▌                                                                                                                            | 5251/150000 [07:38<3:03:58, 13.11it/s]"
     ]
    },
    {
     "name": "stdout",
     "output_type": "stream",
     "text": [
      "[ 1.69119815 -0.73373739]\n"
     ]
    },
    {
     "name": "stderr",
     "output_type": "stream",
     "text": [
      "  4%|████▌                                                                                                                            | 5267/150000 [07:40<3:02:37, 13.21it/s]"
     ]
    },
    {
     "name": "stdout",
     "output_type": "stream",
     "text": [
      "[ 1.05021537 -0.72339162]\n"
     ]
    },
    {
     "name": "stderr",
     "output_type": "stream",
     "text": [
      "  4%|████▌                                                                                                                            | 5283/150000 [07:41<3:00:56, 13.33it/s]"
     ]
    },
    {
     "name": "stdout",
     "output_type": "stream",
     "text": [
      "[ 0.70559106 -0.53292702]\n"
     ]
    },
    {
     "name": "stderr",
     "output_type": "stream",
     "text": [
      "  4%|████▌                                                                                                                            | 5299/150000 [07:42<3:02:13, 13.23it/s]"
     ]
    },
    {
     "name": "stdout",
     "output_type": "stream",
     "text": [
      "[0.46647058 0.07360694]\n"
     ]
    },
    {
     "name": "stderr",
     "output_type": "stream",
     "text": [
      "  4%|████▌                                                                                                                            | 5315/150000 [07:43<3:03:17, 13.16it/s]"
     ]
    },
    {
     "name": "stdout",
     "output_type": "stream",
     "text": [
      "[0.16776469 0.43599541]\n"
     ]
    },
    {
     "name": "stderr",
     "output_type": "stream",
     "text": [
      "  4%|████▌                                                                                                                            | 5331/150000 [07:44<3:01:53, 13.26it/s]"
     ]
    },
    {
     "name": "stdout",
     "output_type": "stream",
     "text": [
      "[-0.10757487  0.73662425]\n"
     ]
    },
    {
     "name": "stderr",
     "output_type": "stream",
     "text": [
      "  4%|████▌                                                                                                                            | 5347/150000 [07:46<3:04:15, 13.08it/s]"
     ]
    },
    {
     "name": "stdout",
     "output_type": "stream",
     "text": [
      "[-0.69073484  0.94709643]\n"
     ]
    },
    {
     "name": "stderr",
     "output_type": "stream",
     "text": [
      "  4%|████▌                                                                                                                            | 5363/150000 [07:47<3:02:38, 13.20it/s]"
     ]
    },
    {
     "name": "stdout",
     "output_type": "stream",
     "text": [
      "[-0.97719112  1.21482703]\n"
     ]
    },
    {
     "name": "stderr",
     "output_type": "stream",
     "text": [
      "  4%|████▋                                                                                                                            | 5379/150000 [07:48<3:02:02, 13.24it/s]"
     ]
    },
    {
     "name": "stdout",
     "output_type": "stream",
     "text": [
      "[-1.07697727  1.28552433]\n"
     ]
    },
    {
     "name": "stderr",
     "output_type": "stream",
     "text": [
      "  4%|████▋                                                                                                                            | 5395/150000 [07:49<3:00:45, 13.33it/s]"
     ]
    },
    {
     "name": "stdout",
     "output_type": "stream",
     "text": [
      "[-0.98470684  1.47148126]\n"
     ]
    },
    {
     "name": "stderr",
     "output_type": "stream",
     "text": [
      "  4%|████▋                                                                                                                            | 5411/150000 [07:51<3:00:40, 13.34it/s]"
     ]
    },
    {
     "name": "stdout",
     "output_type": "stream",
     "text": [
      "[-1.54986347  1.14008156]\n"
     ]
    },
    {
     "name": "stderr",
     "output_type": "stream",
     "text": [
      "  4%|████▋                                                                                                                            | 5427/150000 [07:52<3:01:54, 13.25it/s]"
     ]
    },
    {
     "name": "stdout",
     "output_type": "stream",
     "text": [
      "[-1.50989863  1.12059917]\n"
     ]
    },
    {
     "name": "stderr",
     "output_type": "stream",
     "text": [
      "  4%|████▋                                                                                                                            | 5443/150000 [07:53<3:02:34, 13.20it/s]"
     ]
    },
    {
     "name": "stdout",
     "output_type": "stream",
     "text": [
      "[-1.17573844  1.110368  ]\n"
     ]
    },
    {
     "name": "stderr",
     "output_type": "stream",
     "text": [
      "  4%|████▋                                                                                                                            | 5459/150000 [07:54<3:02:42, 13.18it/s]"
     ]
    },
    {
     "name": "stdout",
     "output_type": "stream",
     "text": [
      "[-0.8053895  1.0375808]\n"
     ]
    },
    {
     "name": "stderr",
     "output_type": "stream",
     "text": [
      "  4%|████▋                                                                                                                            | 5475/150000 [07:55<3:01:22, 13.28it/s]"
     ]
    },
    {
     "name": "stdout",
     "output_type": "stream",
     "text": [
      "[-0.87169783  0.59822018]\n"
     ]
    },
    {
     "name": "stderr",
     "output_type": "stream",
     "text": [
      "  4%|████▋                                                                                                                            | 5491/150000 [07:57<3:01:58, 13.24it/s]"
     ]
    },
    {
     "name": "stdout",
     "output_type": "stream",
     "text": [
      "[-0.63377171  0.57375889]\n"
     ]
    },
    {
     "name": "stderr",
     "output_type": "stream",
     "text": [
      "  4%|████▋                                                                                                                            | 5507/150000 [07:58<3:01:03, 13.30it/s]"
     ]
    },
    {
     "name": "stdout",
     "output_type": "stream",
     "text": [
      "[-0.60935231  0.45958906]\n"
     ]
    },
    {
     "name": "stderr",
     "output_type": "stream",
     "text": [
      "  4%|████▋                                                                                                                            | 5523/150000 [07:59<3:01:28, 13.27it/s]"
     ]
    },
    {
     "name": "stdout",
     "output_type": "stream",
     "text": [
      "[-0.69663098  0.3893777 ]\n"
     ]
    },
    {
     "name": "stderr",
     "output_type": "stream",
     "text": [
      "  4%|████▊                                                                                                                            | 5539/150000 [08:00<3:01:53, 13.24it/s]"
     ]
    },
    {
     "name": "stdout",
     "output_type": "stream",
     "text": [
      "[-0.94866228  0.25477929]\n"
     ]
    },
    {
     "name": "stderr",
     "output_type": "stream",
     "text": [
      "  4%|████▊                                                                                                                            | 5555/150000 [08:01<3:04:12, 13.07it/s]"
     ]
    },
    {
     "name": "stdout",
     "output_type": "stream",
     "text": [
      "[-0.99401679  0.43238253]\n"
     ]
    },
    {
     "name": "stderr",
     "output_type": "stream",
     "text": [
      "  4%|████▊                                                                                                                            | 5571/150000 [08:03<3:00:48, 13.31it/s]"
     ]
    },
    {
     "name": "stdout",
     "output_type": "stream",
     "text": [
      "[-0.93148071  0.54501146]\n"
     ]
    },
    {
     "name": "stderr",
     "output_type": "stream",
     "text": [
      "  4%|████▊                                                                                                                            | 5587/150000 [08:04<3:01:16, 13.28it/s]"
     ]
    },
    {
     "name": "stdout",
     "output_type": "stream",
     "text": [
      "[-0.6977485   0.83223539]\n"
     ]
    },
    {
     "name": "stderr",
     "output_type": "stream",
     "text": [
      "  4%|████▊                                                                                                                            | 5603/150000 [08:05<3:03:08, 13.14it/s]"
     ]
    },
    {
     "name": "stdout",
     "output_type": "stream",
     "text": [
      "[-1.11060884  0.90487584]\n"
     ]
    },
    {
     "name": "stderr",
     "output_type": "stream",
     "text": [
      "  4%|████▊                                                                                                                            | 5619/150000 [08:06<3:02:44, 13.17it/s]"
     ]
    },
    {
     "name": "stdout",
     "output_type": "stream",
     "text": [
      "[-1.16410489  1.04253367]\n"
     ]
    },
    {
     "name": "stderr",
     "output_type": "stream",
     "text": [
      "  4%|████▊                                                                                                                            | 5635/150000 [08:07<3:02:24, 13.19it/s]"
     ]
    },
    {
     "name": "stdout",
     "output_type": "stream",
     "text": [
      "[-1.24755092  0.81358862]\n"
     ]
    },
    {
     "name": "stderr",
     "output_type": "stream",
     "text": [
      "  4%|████▊                                                                                                                            | 5651/150000 [08:09<3:01:11, 13.28it/s]"
     ]
    },
    {
     "name": "stdout",
     "output_type": "stream",
     "text": [
      "[-1.1024178   0.91102587]\n"
     ]
    },
    {
     "name": "stderr",
     "output_type": "stream",
     "text": [
      "  4%|████▊                                                                                                                            | 5667/150000 [08:10<3:01:38, 13.24it/s]"
     ]
    },
    {
     "name": "stdout",
     "output_type": "stream",
     "text": [
      "[-1.15950525  0.75056194]\n"
     ]
    },
    {
     "name": "stderr",
     "output_type": "stream",
     "text": [
      "  4%|████▉                                                                                                                            | 5683/150000 [08:11<3:02:19, 13.19it/s]"
     ]
    },
    {
     "name": "stdout",
     "output_type": "stream",
     "text": [
      "[-0.89966117  0.60768268]\n"
     ]
    },
    {
     "name": "stderr",
     "output_type": "stream",
     "text": [
      "  4%|████▉                                                                                                                            | 5699/150000 [08:12<3:02:07, 13.21it/s]"
     ]
    },
    {
     "name": "stdout",
     "output_type": "stream",
     "text": [
      "[-0.73829225  0.41274958]\n"
     ]
    },
    {
     "name": "stderr",
     "output_type": "stream",
     "text": [
      "  4%|████▉                                                                                                                            | 5715/150000 [08:13<3:02:49, 13.15it/s]"
     ]
    },
    {
     "name": "stdout",
     "output_type": "stream",
     "text": [
      "[-0.08170983  0.56325623]\n"
     ]
    },
    {
     "name": "stderr",
     "output_type": "stream",
     "text": [
      "  4%|████▉                                                                                                                            | 5731/150000 [08:15<3:00:16, 13.34it/s]"
     ]
    },
    {
     "name": "stdout",
     "output_type": "stream",
     "text": [
      "[-0.27192798  0.27677919]\n"
     ]
    },
    {
     "name": "stderr",
     "output_type": "stream",
     "text": [
      "  4%|████▉                                                                                                                            | 5747/150000 [08:16<3:02:34, 13.17it/s]"
     ]
    },
    {
     "name": "stdout",
     "output_type": "stream",
     "text": [
      "[0.22894102 0.41305329]\n"
     ]
    },
    {
     "name": "stderr",
     "output_type": "stream",
     "text": [
      "  4%|████▉                                                                                                                            | 5763/150000 [08:17<3:03:22, 13.11it/s]"
     ]
    },
    {
     "name": "stdout",
     "output_type": "stream",
     "text": [
      "[-0.1642018   0.11319361]\n"
     ]
    },
    {
     "name": "stderr",
     "output_type": "stream",
     "text": [
      "  4%|████▉                                                                                                                            | 5779/150000 [08:18<3:04:36, 13.02it/s]"
     ]
    },
    {
     "name": "stdout",
     "output_type": "stream",
     "text": [
      "[-0.16860461  0.07349973]\n"
     ]
    },
    {
     "name": "stderr",
     "output_type": "stream",
     "text": [
      "  4%|████▉                                                                                                                            | 5795/150000 [08:20<3:00:16, 13.33it/s]"
     ]
    },
    {
     "name": "stdout",
     "output_type": "stream",
     "text": [
      "[0.16614366 0.40823493]\n"
     ]
    },
    {
     "name": "stderr",
     "output_type": "stream",
     "text": [
      "  4%|████▉                                                                                                                            | 5811/150000 [08:21<2:58:59, 13.43it/s]"
     ]
    },
    {
     "name": "stdout",
     "output_type": "stream",
     "text": [
      "[0.19278763 0.45520646]\n"
     ]
    },
    {
     "name": "stderr",
     "output_type": "stream",
     "text": [
      "  4%|█████                                                                                                                            | 5827/150000 [08:22<3:00:35, 13.31it/s]"
     ]
    },
    {
     "name": "stdout",
     "output_type": "stream",
     "text": [
      "[0.06476519 0.59178583]\n"
     ]
    },
    {
     "name": "stderr",
     "output_type": "stream",
     "text": [
      "  4%|█████                                                                                                                            | 5843/150000 [08:23<3:01:22, 13.25it/s]"
     ]
    },
    {
     "name": "stdout",
     "output_type": "stream",
     "text": [
      "[0.14593772 0.70721045]\n"
     ]
    },
    {
     "name": "stderr",
     "output_type": "stream",
     "text": [
      "  4%|█████                                                                                                                            | 5859/150000 [08:24<3:02:04, 13.19it/s]"
     ]
    },
    {
     "name": "stdout",
     "output_type": "stream",
     "text": [
      "[0.18076243 0.81474495]\n"
     ]
    },
    {
     "name": "stderr",
     "output_type": "stream",
     "text": [
      "  4%|█████                                                                                                                            | 5875/150000 [08:26<3:02:47, 13.14it/s]"
     ]
    },
    {
     "name": "stdout",
     "output_type": "stream",
     "text": [
      "[0.16202231 1.04890624]\n"
     ]
    },
    {
     "name": "stderr",
     "output_type": "stream",
     "text": [
      "  4%|█████                                                                                                                            | 5891/150000 [08:27<3:01:29, 13.23it/s]"
     ]
    },
    {
     "name": "stdout",
     "output_type": "stream",
     "text": [
      "[-0.58636494  1.11900884]\n"
     ]
    },
    {
     "name": "stderr",
     "output_type": "stream",
     "text": [
      "  4%|█████                                                                                                                            | 5907/150000 [08:28<3:01:29, 13.23it/s]"
     ]
    },
    {
     "name": "stdout",
     "output_type": "stream",
     "text": [
      "[-1.04989982  1.3848743 ]\n"
     ]
    },
    {
     "name": "stderr",
     "output_type": "stream",
     "text": [
      "  4%|█████                                                                                                                            | 5923/150000 [08:29<3:01:57, 13.20it/s]IOPub message rate exceeded.\n",
      "The Jupyter server will temporarily stop sending output\n",
      "to the client in order to avoid crashing it.\n",
      "To change this limit, set the config variable\n",
      "`--ServerApp.iopub_msg_rate_limit`.\n",
      "\n",
      "Current values:\n",
      "ServerApp.iopub_msg_rate_limit=1000.0 (msgs/sec)\n",
      "ServerApp.rate_limit_window=3.0 (secs)\n",
      "\n"
     ]
    }
   ],
   "source": [
    "from blackjax.progress_bar import gen_scan_fn # XXX: blackjax >= 1.2.3\n",
    "state, samples = run_fn(jr.key(49), initial_state, config3, thinning=16)"
   ]
  },
  {
   "cell_type": "code",
   "execution_count": 30,
   "metadata": {},
   "outputs": [],
   "source": [
    "sall = []\n",
    "#samples['cosmo'] = samples['cosmo']*(jnp.array([0.05,0.1]))+ np.array([0.26, 0.83])\n",
    "for s in samples:\n",
    "    s=cosmo2base(s)\n",
    "    sall.append(s['cosmo'])\n",
    "sall = np.array(sall)"
   ]
  },
  {
   "cell_type": "code",
   "execution_count": 38,
   "metadata": {},
   "outputs": [
    {
     "name": "stdout",
     "output_type": "stream",
     "text": [
      "Removed no burn in\n",
      "Removed no burn in\n"
     ]
    },
    {
     "data": {
      "image/png": "[encoded data removed]",
      "text/plain": [
       "<Figure size 400x400 with 3 Axes>"
      ]
     },
     "metadata": {},
     "output_type": "display_data"
    }
   ],
   "source": [
    "# Get the getdist MCSamples objects for the samples, specifying same parameter\n",
    "# names and labels; if not specified weights are assumed to all be unity\n",
    "%matplotlib inline\n",
    "names = [\"omegac\", 's8']\n",
    "labels =  [r\"\\Omega_{c}\", r'S_8']\n",
    "from getdist import plots, MCSamples\n",
    "import getdist\n",
    "samples = MCSamples(samples=sall[:],names = names, labels=labels,label = 'MCLMC')\n",
    "\n",
    "# Triangle plot\n",
    "g = plots.get_subplot_plotter()\n",
    "g.triangle_plot([samples, samples2], filled=True)\n"
   ]
  },
  {
   "cell_type": "code",
   "execution_count": null,
   "metadata": {},
   "outputs": [],
   "source": []
  },
  {
   "cell_type": "code",
   "execution_count": null,
   "metadata": {},
   "outputs": [],
   "source": []
  }
 ],
 "metadata": {
  "colab": {
   "provenance": []
  },
  "kernelspec": {
   "display_name": "Python 3 (ipykernel)",
   "language": "python",
   "name": "python3"
  },
  "language_info": {
   "codemirror_mode": {
    "name": "ipython",
    "version": 3
   },
   "file_extension": ".py",
   "mimetype": "text/x-python",
   "name": "python",
   "nbconvert_exporter": "python",
   "pygments_lexer": "ipython3",
   "version": "3.10.13"
  }
 },
 "nbformat": 4,
 "nbformat_minor": 4
}
