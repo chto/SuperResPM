{
 "cells": [
  {
   "cell_type": "code",
   "execution_count": 1,
   "metadata": {},
   "outputs": [
    {
     "name": "stdout",
     "output_type": "stream",
     "text": [
      "jax:    0.5.2\n",
      "jaxlib: 0.5.1\n",
      "numpy:  1.26.4\n",
      "python: 3.10.13 | packaged by conda-forge | (main, Dec 23 2023, 15:36:39) [GCC 12.3.0]\n",
      "device info: NVIDIA A100-PCIE-40GB-1, 1 local devices\"\n",
      "process_count: 1\n",
      "platform: uname_result(system='Linux', node='midway3-0294.rcc.local', release='4.18.0-305.3.1.el8.x86_64', version='#1 SMP Tue Jun 1 16:14:33 UTC 2021', machine='x86_64')\n",
      "\n",
      "\n",
      "$ nvidia-smi\n",
      "Fri Apr 18 18:41:29 2025       \n",
      "+---------------------------------------------------------------------------------------+\n",
      "| NVIDIA-SMI 535.161.08             Driver Version: 535.161.08   CUDA Version: 12.2     |\n",
      "|-----------------------------------------+----------------------+----------------------+\n",
      "| GPU  Name                 Persistence-M | Bus-Id        Disp.A | Volatile Uncorr. ECC |\n",
      "| Fan  Temp   Perf          Pwr:Usage/Cap |         Memory-Usage | GPU-Util  Compute M. |\n",
      "|                                         |                      |               MIG M. |\n",
      "|=========================================+======================+======================|\n",
      "|   0  NVIDIA A100-PCIE-40GB          On  | 00000000:D8:00.0 Off |                    0 |\n",
      "| N/A   32C    P0              34W / 250W |  31268MiB / 40960MiB |      0%      Default |\n",
      "|                                         |                      |             Disabled |\n",
      "+-----------------------------------------+----------------------+----------------------+\n",
      "                                                                                         \n",
      "+---------------------------------------------------------------------------------------+\n",
      "| Processes:                                                                            |\n",
      "|  GPU   GI   CI        PID   Type   Process name                            GPU Memory |\n",
      "|        ID   ID                                                             Usage      |\n",
      "|=======================================================================================|\n",
      "|    0   N/A  N/A   3664339      C   ...to/chto/anaconda/newenv4/bin/python    30834MiB |\n",
      "|    0   N/A  N/A   3664363      C   ...to/chto/anaconda/newenv4/bin/python      420MiB |\n",
      "+---------------------------------------------------------------------------------------+\n",
      "\n",
      "NVIDIA A100-PCIE-40GB\n"
     ]
    },
    {
     "name": "stderr",
     "output_type": "stream",
     "text": [
      "/project/chto/chto/anaconda/newenv4/lib/python3.10/pty.py:89: RuntimeWarning: os.fork() was called. os.fork() is incompatible with multithreaded code, and JAX is multithreaded, so this will likely lead to a deadlock.\n",
      "  pid, fd = os.forkpty()\n"
     ]
    }
   ],
   "source": [
    "from tqdm import tqdm\n",
    "from jax.example_libraries.optimizers import adam\n",
    "from jax import value_and_grad\n",
    "from collections import namedtuple\n",
    "import os\n",
    "#os.environ[\"CUDA_VISIBLE_DEVICES\"] ='3'\n",
    "import numpy as np\n",
    "import matplotlib.pyplot as plt \n",
    "import jax\n",
    "import jax.numpy as jnp\n",
    "from jaxpm.growth import (dGf2a, dGfa, growth_factor, growth_factor_second,\n",
    "                          growth_rate, growth_rate_second, dGfa, Gf)\n",
    "from jax import tree\n",
    "from jax import tree\n",
    "from jaxpm.pm import pm_forces\n",
    "from diffrax import ConstantStepSize,  SaveAt, diffeqsolve,StepTo\n",
    "from jaxpm.plotting import plot_fields_single_projection\n",
    "from jaxpm.painting import cic_paint , cic_paint_dx\n",
    "import diffrax\n",
    "#jax.config.update(\"jax_enable_x64\", True)\n",
    "import jax\n",
    "jax.print_environment_info()\n",
    "from SuperResPM.configure import Configuration\n",
    "from SuperResPM.diffrax_helper import FPMODE,FPMLeapFrog,symplectic_ode\n",
    "import matplotlib.pyplot as plt\n",
    "import matplotlib_inline\n",
    "matplotlib_inline.backend_inline.set_matplotlib_formats('jpeg')\n",
    "import jax_cosmo as jc\n",
    "from diffrax import ConstantStepSize\n",
    "from jaxpm.pm import linear_field, lpt\n",
    "!nvidia-smi --query-gpu=gpu_name --format=csv,noheader\n",
    "%matplotlib inline \n"
   ]
  },
  {
   "cell_type": "code",
   "execution_count": 2,
   "metadata": {},
   "outputs": [],
   "source": [
    "os.environ[\"XLA_PYTHON_CLIENT_MEM_FRACTION\"] = \".95\"\n",
    "os.environ[\"XLA_PYTHON_CLIENT_PREALLOCATE\"] = \"true\"\n",
    "jax.config.update(\"jax_enable_x64\", True)"
   ]
  },
  {
   "cell_type": "code",
   "execution_count": null,
   "metadata": {},
   "outputs": [],
   "source": []
  },
  {
   "cell_type": "code",
   "execution_count": 3,
   "metadata": {},
   "outputs": [],
   "source": [
    "\n",
    "def full_field_model_pm_test(\n",
    "    cube_size,\n",
    "    cubegrid_size,\n",
    "    a_init,\n",
    "    a_center,\n",
    "    adjoint\n",
    "):\n",
    "    @jax.jit\n",
    "    def forward_model(cosmoin, lin_field):\n",
    "        def paint_density(t, y, args):\n",
    "            # Load positions and apply boundary conditions\n",
    "            pos = y[0]\n",
    "            x = pos[..., 1]\n",
    "            y = pos[..., 2]\n",
    "            z = pos[..., 0]\n",
    "\n",
    "            # Paint all the particles that fall into slice\n",
    "            ss=args[1]\n",
    "            density = cic_paint(jnp.zeros(ss),jnp.c_[x, y, z])\n",
    "\n",
    "            return density\n",
    "            \n",
    "        particles = jnp.stack(\n",
    "            jnp.meshgrid(\n",
    "                *[jnp.arange(s) for s in [cubegrid_size, cubegrid_size, cubegrid_size]]\n",
    "            ),\n",
    "            axis=-1)\n",
    "        conf = Configuration(mesh_shape=[cubegrid_size, cubegrid_size, cubegrid_size],\n",
    "                     snapshots= [1],\n",
    "                     BoxSize=cube_size, \n",
    "                     initial_t0=a_init,\n",
    "                     final_time = 1.0,\n",
    "                     density_plane_npix = 10,\n",
    "                     dt0=0.01)\n",
    "\n",
    "        \n",
    "        eps, p, f = lpt(cosmoin, lin_field, particles, a=conf.initial_t0)\n",
    "        \n",
    "        term = tree.map(\n",
    "            FPMODE,\n",
    "            symplectic_ode(conf.mesh_shape, paint_absolute_pos=True)\n",
    "        )\n",
    "        initforce = pm_forces(\n",
    "            particles + eps,\n",
    "            mesh_shape=conf.mesh_shape,\n",
    "            paint_absolute_pos=True,\n",
    "        )* 1.5* cosmoin.Omega_m  \n",
    "\n",
    "        solver = FPMLeapFrog(initial_t0=conf.initial_t0, final_t1=conf.final_time)\n",
    "        saveat = SaveAt(t1=True)\n",
    "        stepsize_controller = ConstantStepSize()\n",
    "        solution = diffeqsolve(\n",
    "            term,\n",
    "            solver,\n",
    "            t0=conf.initial_t0,\n",
    "            t1=conf.final_time,\n",
    "            dt0=conf.dt0,\n",
    "            y0=jnp.stack([particles + eps, p, initforce], axis=0),\n",
    "            args=[cosmoin, None, conf.initial_t0, conf, 0, 0],\\\n",
    "            saveat=saveat,\n",
    "            adjoint=adjoint,\n",
    "            stepsize_controller=stepsize_controller,\n",
    "        )\n",
    "        \n",
    "        args = [None, [cubegrid_size, cubegrid_size, cubegrid_size]]\n",
    "        density = paint_density(0, solution.ys[-1], args)\n",
    "        return density\n",
    "    return forward_model\n",
    "#####################################################################################################################\n"
   ]
  },
  {
   "cell_type": "code",
   "execution_count": 4,
   "metadata": {},
   "outputs": [],
   "source": [
    "\n",
    "#if __name__ == \"__main__\":\n",
    "key_number = 1\n",
    "# Set output directory\n",
    "dir_out = \"./\"\n",
    "#Path(dir_out).mkdir(parents=True, exist_ok=True)\n",
    "# Sim configuration\n",
    "cube_size = 128.0  # Mpc/h\n",
    "cubegrid_size = 32  # npix\n",
    "a_init = 0.05\n",
    "# Initialize the density model\n",
    "dens_model_Recursive= full_field_model_pm_test(\n",
    "    cube_size=cube_size,\n",
    "    cubegrid_size=cubegrid_size,\n",
    "    a_init = a_init,\n",
    "    a_center=[1],#np.linspace(a_init,1,41)[::-1], \n",
    "    adjoint=diffrax.RecursiveCheckpointAdjoint(20)\n",
    ")\n",
    "dens_model_Reversible= full_field_model_pm_test(\n",
    "    cube_size=cube_size,\n",
    "    cubegrid_size=cubegrid_size,\n",
    "    a_init = a_init,\n",
    "    a_center=[1],#np.linspace(a_init,1,41)[::-1], \n",
    "    adjoint=diffrax.ReversibleAdjoint()#diffrax.RecursiveCheckpointAdjoint()#\n",
    ")\n"
   ]
  },
  {
   "cell_type": "code",
   "execution_count": 18,
   "metadata": {},
   "outputs": [],
   "source": [
    "def buildmodel(dens_model):\n",
    "    @jax.jit\n",
    "    def model(param):\n",
    "        Omega_c, sigma8= param\n",
    "        model_cosmo = jc.Cosmology(\n",
    "            Omega_c=Omega_c,\n",
    "            sigma8=sigma8,\n",
    "            Omega_b=0.0492,\n",
    "            Omega_k=0.0,\n",
    "            h=0.67,\n",
    "            n_s=0.96,\n",
    "            w0=-1,\n",
    "            wa=0.0,\n",
    "        )\n",
    "        Workspace = namedtuple('_workspace', ['background_radial_comoving_distance', 'background_growth_factor'])\n",
    "        model_cosmo._workspace =Workspace(None, None)\n",
    "        ain=np.atleast_1d(1)\n",
    "        _ =  growth_rate_second(model_cosmo,ain)\n",
    "        _ = growth_rate(model_cosmo, ain)\n",
    "        _ = growth_factor(model_cosmo, ain)\n",
    "        jc.background.radial_comoving_distance(model_cosmo, ain)\n",
    "        k = jnp.logspace(-4, 1, 128)\n",
    "        pk = jc.power.linear_matter_power(model_cosmo, k)\n",
    "        pk_fn = lambda x: jnp.interp(x.reshape([-1]), k, pk).reshape(x.shape)\n",
    "        lin_field = linear_field(\n",
    "            [cubegrid_size, cubegrid_size, cubegrid_size],\n",
    "            [cube_size, cube_size, cube_size],\n",
    "            pk_fn, jax.random.PRNGKey(0))\n",
    "        dens = dens_model(model_cosmo, lin_field)\n",
    "        return dens\n",
    "    return model    \n"
   ]
  },
  {
   "cell_type": "code",
   "execution_count": 19,
   "metadata": {},
   "outputs": [],
   "source": [
    "densobs = buildmodel(dens_model=dens_model_Recursive)(jnp.array([0.3,0.8]))\n"
   ]
  },
  {
   "cell_type": "code",
   "execution_count": 48,
   "metadata": {},
   "outputs": [],
   "source": [
    "model_Reversible = buildmodel(dens_model=dens_model_Reversible)\n",
    "model_Recursive = buildmodel(dens_model=dens_model_Recursive)"
   ]
  },
  {
   "cell_type": "code",
   "execution_count": 49,
   "metadata": {},
   "outputs": [],
   "source": [
    "def lnlikelihood(param, model):\n",
    "    din = model(param)\n",
    "    return jnp.sum(-0.5*(densobs-din)**2)"
   ]
  },
  {
   "cell_type": "code",
   "execution_count": 50,
   "metadata": {},
   "outputs": [],
   "source": [
    "dL = jax.value_and_grad(lnlikelihood)"
   ]
  },
  {
   "cell_type": "code",
   "execution_count": 44,
   "metadata": {},
   "outputs": [],
   "source": [
    "cosmology_omegam = np.random.normal(size=100)*0.02+0.3"
   ]
  },
  {
   "cell_type": "code",
   "execution_count": 45,
   "metadata": {},
   "outputs": [],
   "source": [
    "cosmology_sigma8 = np.random.normal(size=100)*0.1+0.8"
   ]
  },
  {
   "cell_type": "code",
   "execution_count": 58,
   "metadata": {},
   "outputs": [
    {
     "name": "stdout",
     "output_type": "stream",
     "text": [
      " "
     ]
    },
    {
     "data": {
      "text/plain": [
       "         310109 function calls (309413 primitive calls) in 1.323 seconds\n",
       "\n",
       "   Ordered by: internal time\n",
       "\n",
       "   ncalls  tottime  percall  cumtime  percall filename:lineno(function)\n",
       "        1    0.797    0.797    0.802    0.802 pxla.py:2649(_get_layouts_from_executable)\n",
       "        8    0.233    0.029    1.237    0.155 pjit.py:1695(_pjit_call_impl)\n",
       "        1    0.176    0.176    0.176    0.176 pxla.py:1277(__call__)\n",
       "      6/1    0.006    0.001    1.321    1.321 traceback_util.py:176(reraise_with_filtered_traceback)\n",
       "    67396    0.006    0.000    0.006    0.000 {built-in method builtins.isinstance}\n",
       "     2191    0.004    0.000    0.004    0.000 {jaxlib.utils.safe_zip}\n",
       "    241/4    0.003    0.000    0.016    0.004 partial_eval.py:1344(_jaxpr_forwarding)\n",
       "     2031    0.003    0.000    0.004    0.000 sharding_impls.py:666(get_replicated)\n",
       "        1    0.003    0.003    0.015    0.015 util.py:222(toposort)\n",
       "        1    0.003    0.003    0.026    0.026 partial_eval.py:754(tracers_to_jaxpr)\n",
       "     6114    0.003    0.000    0.008    0.000 partial_eval.py:536(parents)\n",
       "     2030    0.003    0.000    0.004    0.000 array.py:1251(_array_global_result_handler)\n",
       "        2    0.003    0.001    0.003    0.002 pxla.py:2850(<listcomp>)\n",
       "     2031    0.002    0.000    0.008    0.000 partial_eval.py:163(new_instantiated_const)\n",
       "     2038    0.002    0.000    0.005    0.000 partial_eval.py:781(newvar)\n",
       "     2033    0.002    0.000    0.002    0.000 layout.py:40(__init__)\n",
       "     8161    0.002    0.000    0.005    0.000 partial_eval.py:532(aval)\n",
       "     8162    0.002    0.000    0.003    0.000 partial_eval.py:131(get_aval)\n",
       "        8    0.002    0.000    0.002    0.000 dispatch.py:83(apply_primitive)\n",
       "        1    0.002    0.002    0.817    0.817 pxla.py:2899(from_hlo)\n",
       "     4106    0.002    0.000    0.004    0.000 array.py:1103(_get_aval_array)\n",
       "4112/4110    0.002    0.000    0.006    0.000 core.py:1541(get_aval)\n",
       "    19379    0.002    0.000    0.004    0.000 {method 'get' of 'dict' objects}\n",
       "     4590    0.002    0.000    0.003    0.000 dtypes.py:411(issubdtype)\n",
       "      241    0.002    0.000    0.002    0.000 partial_eval.py:1356(<listcomp>)\n",
       "    22410    0.002    0.000    0.002    0.000 {built-in method builtins.id}\n",
       "       94    0.002    0.000    0.014    0.000 {jaxlib.utils.safe_map}\n",
       "     6081    0.002    0.000    0.002    0.000 ad_util.py:72(<lambda>)\n",
       "     2033    0.001    0.000    0.004    0.000 layout.py:47(from_pjrt_layout)\n",
       "        1    0.001    0.001    0.005    0.005 util.py:254(check_toposort)\n",
       "      245    0.001    0.000    0.001    0.000 partial_eval.py:1374(prune_closed_jaxpr_outputs)\n",
       "       25    0.001    0.000    0.001    0.000 core.py:228(<listcomp>)\n",
       "        1    0.001    0.001    0.008    0.008 pxla.py:2807(_maybe_get_and_check_out_shardings)\n",
       "     1084    0.001    0.000    0.002    0.000 core.py:379(replace)\n",
       "     6136    0.001    0.000    0.002    0.000 core.py:1497(update_aval_with_sharding)\n",
       "   237/47    0.001    0.000    0.013    0.000 pjit.py:1822(_pjit_forwarding)\n",
       "     2063    0.001    0.000    0.001    0.000 util.py:298(wrapper)\n",
       "     2037    0.001    0.000    0.001    0.000 ad.py:313(read_primal)\n",
       "   237/47    0.001    0.000    0.014    0.000 pjit.py:1832(pjit_forwarding_rule)\n",
       "     8182    0.001    0.000    0.001    0.000 partial_eval.py:127(get_known)\n",
       "       26    0.001    0.000    0.003    0.000 tree_util.py:81(tree_unflatten)\n",
       "    12294    0.001    0.000    0.001    0.000 {method 'append' of 'list' objects}\n",
       "     2078    0.001    0.000    0.002    0.000 {built-in method builtins.all}\n",
       "     8254    0.001    0.000    0.001    0.000 pjit.py:2151(<genexpr>)\n",
       "     4106    0.001    0.000    0.001    0.000 pjit.py:2316(<genexpr>)\n",
       "     2053    0.001    0.000    0.001    0.000 partial_eval.py:105(__new__)\n",
       "     2042    0.001    0.000    0.002    0.000 core.py:1873(__hash__)\n",
       "     2051    0.001    0.000    0.001    0.000 partial_eval.py:521(__init__)\n",
       "     2082    0.001    0.000    0.001    0.000 {built-in method builtins.hasattr}\n",
       "     4125    0.001    0.000    0.001    0.000 {built-in method __new__ of type object at 0x55dd2f36c5e0}\n",
       "       64    0.001    0.000    0.002    0.000 pjit.py:2150(keep_where)\n",
       "     4114    0.001    0.000    0.001    0.000 array.py:316(sharding)\n",
       "      847    0.001    0.000    0.001    0.000 partial_eval.py:1349(<listcomp>)\n",
       "        1    0.001    0.001    0.006    0.006 pxla.py:1209(<listcomp>)\n",
       "     2038    0.001    0.000    0.001    0.000 core.py:423(__init__)\n",
       "        1    0.001    0.001    0.005    0.005 pxla.py:2484(<listcomp>)\n",
       "     2039    0.001    0.000    0.002    0.000 partial_eval.py:120(unknown)\n",
       "     2030    0.001    0.000    0.005    0.000 pxla.py:297(global_aval_to_result_handler)\n",
       "     4075    0.001    0.000    0.001    0.000 util.py:257(<genexpr>)\n",
       "     6092    0.001    0.000    0.001    0.000 ad_util.py:64(__init__)\n",
       "      237    0.001    0.000    0.001    0.000 pjit.py:1824(<listcomp>)\n",
       "        9    0.001    0.000    0.001    0.000 util.py:93(unzip2)\n",
       "     2039    0.001    0.000    0.001    0.000 partial_eval.py:778(get_atom)\n",
       "     1090    0.001    0.000    0.001    0.000 core.py:366(__init__)\n",
       "     6228    0.001    0.000    0.001    0.000 {built-in method builtins.next}\n",
       "     2038    0.001    0.000    0.003    0.000 pjit.py:2332(<genexpr>)\n",
       "2120/2117    0.000    0.000    0.001    0.000 {built-in method builtins.hash}\n",
       "        8    0.000    0.000    0.001    0.000 util.py:165(<listcomp>)\n",
       "     2032    0.000    0.000    0.001    0.000 ad.py:323(write_primal)\n",
       "      373    0.000    0.000    0.001    0.000 lax.py:5558(_broadcast_in_dim_fwd_rule)\n",
       "        3    0.000    0.000    0.000    0.000 {built-in method fromkeys}\n",
       "        4    0.000    0.000    1.035    0.259 pjit.py:2123(_pjit_partial_eval)\n",
       "     2033    0.000    0.000    0.001    0.000 pxla.py:1859(<genexpr>)\n",
       "        4    0.000    0.000    0.245    0.061 pjit.py:2310(_pjit_transpose)\n",
       "        4    0.000    0.000    0.001    0.000 pjit.py:2181(<listcomp>)\n",
       "        1    0.000    0.000    0.004    0.004 pxla.py:2208(lower_sharding_computation)\n",
       "      237    0.000    0.000    0.001    0.000 lax.py:4347(_convert_elt_type_fwd_rule)\n",
       "     2038    0.000    0.000    0.001    0.000 partial_eval.py:788(type_substitute)\n",
       "        2    0.000    0.000    0.000    0.000 pxla.py:1842(<listcomp>)\n",
       "     2038    0.000    0.000    0.000    0.000 ad.py:294(write_cotangent)\n",
       "     2042    0.000    0.000    0.001    0.000 named_sharding.py:150(__hash__)\n",
       "     2031    0.000    0.000    0.000    0.000 pxla.py:2947(<genexpr>)\n",
       "     2034    0.000    0.000    0.000    0.000 sharding_impls.py:640(memory_kind)\n",
       "     2033    0.000    0.000    0.001    0.000 pxla.py:1852(<genexpr>)\n",
       "       24    0.000    0.000    0.002    0.000 pjit.py:2315(prune_type)\n",
       "     2031    0.000    0.000    0.000    0.000 pxla.py:2685(<genexpr>)\n",
       "    28/14    0.000    0.000    1.273    0.091 core.py:504(_true_bind)\n",
       "        1    0.000    0.000    0.005    0.005 pxla.py:2464(get_out_shardings_from_executable)\n",
       "     2032    0.000    0.000    0.000    0.000 pxla.py:2931(<genexpr>)\n",
       "     2050    0.000    0.000    0.000    0.000 core.py:1381(full_lower)\n",
       "     2042    0.000    0.000    0.000    0.000 {method 'setdefault' of 'dict' objects}\n",
       "     4077    0.000    0.000    0.000    0.000 {method 'pop' of 'list' objects}\n",
       "      237    0.000    0.000    0.000    0.000 pjit.py:1835(<listcomp>)\n",
       "        1    0.000    0.000    0.000    0.000 tree_util.py:95(tree_structure)\n",
       "        1    0.000    0.000    1.065    1.065 partial_eval.py:582(trace_to_subjaxpr_nounits)\n",
       "      237    0.000    0.000    0.000    0.000 pjit.py:1828(<listcomp>)\n",
       "        1    0.000    0.000    0.000    0.000 partial_eval.py:1613(<dictcomp>)\n",
       "     2046    0.000    0.000    0.000    0.000 {method 'add' of 'set' objects}\n",
       "      374    0.000    0.000    0.000    0.000 core.py:2167(definitely_equal_shape)\n",
       "      237    0.000    0.000    0.000    0.000 pjit.py:1829(<listcomp>)\n",
       "       78    0.000    0.000    0.001    0.000 ipkernel.py:775(_clean_thread_parent_frames)\n",
       "     2031    0.000    0.000    0.000    0.000 pxla.py:2257(<genexpr>)\n",
       "     2036    0.000    0.000    0.000    0.000 ad.py:397(is_undefined_primal)\n",
       "     2300    0.000    0.000    0.000    0.000 util.py:289(_ignore)\n",
       "       24    0.000    0.000    0.000    0.000 dtypes.py:814(dtype)\n",
       "      237    0.000    0.000    0.000    0.000 pjit.py:1839(<listcomp>)\n",
       "     2038    0.000    0.000    0.000    0.000 ad.py:392(__init__)\n",
       "       26    0.000    0.000    0.001    0.000 {built-in method builtins.any}\n",
       "       16    0.000    0.000    0.000    0.000 core.py:1004(check_eval_args)\n",
       "        2    0.000    0.000    0.001    0.000 pxla.py:1851(__hash__)\n",
       "        1    0.000    0.000    0.000    0.000 pxla.py:1646(check_if_any_auto)\n",
       "        1    0.000    0.000    0.249    0.249 ad.py:289(backward_pass)\n",
       "        2    0.000    0.000    0.000    0.000 pxla.py:2611(maybe_recover_user_shardings)\n",
       "      237    0.000    0.000    0.000    0.000 pjit.py:1826(<listcomp>)\n",
       "       11    0.000    0.000    0.000    0.000 tree_util.py:73(tree_flatten)\n",
       "     2040    0.000    0.000    0.000    0.000 {method 'extend' of 'list' objects}\n",
       "        4    0.000    0.000    0.001    0.000 pjit.py:701(_infer_params)\n",
       "        1    0.000    0.000    0.000    0.000 sharding_impls.py:658(is_fully_replicated)\n",
       "       39    0.000    0.000    0.000    0.000 ipkernel.py:790(<setcomp>)\n",
       "  948/946    0.000    0.000    0.000    0.000 {built-in method builtins.len}\n",
       "        4    0.000    0.000    1.035    0.259 pjit.py:2026(_pjit_jvp)\n",
       "       39    0.000    0.000    0.000    0.000 threading.py:1478(enumerate)\n",
       "      733    0.000    0.000    0.000    0.000 core.py:103(invars)\n",
       "      241    0.000    0.000    0.000    0.000 partial_eval.py:1355(<dictcomp>)\n",
       "       43    0.000    0.000    0.000    0.000 config.py:218(trace_context)\n",
       "       98    0.000    0.000    0.000    0.000 core.py:1122(set_trace)\n",
       "       10    0.000    0.000    1.036    0.104 partial_eval.py:205(process_primitive)\n",
       "        5    0.000    0.000    0.000    0.000 inspect.py:3050(_bind)\n",
       "        5    0.000    0.000    0.000    0.000 pxla.py:3073(reflatten_outputs_for_dispatch)\n",
       "      390    0.000    0.000    0.000    0.000 threading.py:1145(ident)\n",
       "       16    0.000    0.000    1.240    0.078 core.py:1011(process_primitive)\n",
       "        1    0.000    0.000    1.323    1.323 {built-in method builtins.exec}\n",
       "       23    0.000    0.000    0.000    0.000 core.py:1821(get_sharding)\n",
       "    28/14    0.000    0.000    1.273    0.091 core.py:500(bind)\n",
       "       20    0.000    0.000    0.000    0.000 util.py:125(split_list)\n",
       "        4    0.000    0.000    0.000    0.000 pjit.py:2169(<listcomp>)\n",
       "        8    0.000    0.000    0.000    0.000 pjit.py:1715(<genexpr>)\n",
       "        1    0.000    0.000    0.002    0.002 lax_numpy.py:5387(array)\n",
       "        5    0.000    0.000    0.000    0.000 api_util.py:661(_non_static_arg_names)\n",
       "        6    0.000    0.000    1.037    0.173 ad.py:431(process_primitive)\n",
       "        4    0.000    0.000    0.000    0.000 pjit.py:2183(<listcomp>)\n",
       "       31    0.000    0.000    0.000    0.000 contextlib.py:102(__init__)\n",
       "        4    0.000    0.000    0.002    0.001 lax.py:1349(_convert_element_type)\n",
       "        1    0.000    0.000    1.065    1.065 partial_eval.py:614(_trace_to_subjaxpr_nounits)\n",
       "        1    0.000    0.000    0.249    0.249 ad.py:264(unbound_vjp)\n",
       "      306    0.000    0.000    0.000    0.000 core.py:213(<lambda>)\n",
       "        4    0.000    0.000    1.037    0.259 pjit.py:179(_python_pjit_helper)\n",
       "       78    0.000    0.000    0.000    0.000 __init__.py:96(_xla_gc_callback)\n",
       "       23    0.000    0.000    0.001    0.000 core.py:1840(__init__)\n",
       "      279    0.000    0.000    0.000    0.000 core.py:107(outvars)\n",
       "        9    0.000    0.000    0.000    0.000 {method 'sub' of 're.Pattern' objects}\n",
       "    89/78    0.000    0.000    0.000    0.000 {built-in method builtins.getattr}\n",
       "        1    0.000    0.000    1.038    1.038 4153632163.py:1(lnlikelihood)\n",
       "    11/10    0.000    0.000    0.000    0.000 functools.py:961(__get__)\n",
       "      242    0.000    0.000    0.000    0.000 core.py:111(eqns)\n",
       "       25    0.000    0.000    0.000    0.000 core.py:1702(canonicalize_shape)\n",
       "       11    0.000    0.000    0.000    0.000 named_sharding.py:500(preprocess)\n",
       "        1    0.000    0.000    0.000    0.000 inspect.py:2280(_signature_from_function)\n",
       "    32/14    0.000    0.000    1.272    0.091 core.py:524(bind_with_trace)\n",
       "       38    0.000    0.000    0.000    0.000 core.py:1148(set_current_trace)\n",
       "        1    0.000    0.000    1.315    1.315 api.py:454(value_and_grad_f)\n",
       "        4    0.000    0.000    0.000    0.000 partial_eval.py:1522(move_binders_to_front)\n",
       "        6    0.000    0.000    0.000    0.000 partial_eval.py:716(new_eqn_recipe)\n",
       "       11    0.000    0.000    0.000    0.000 named_sharding.py:357(from_user_input)\n",
       "       15    0.000    0.000    0.000    0.000 linear_util.py:190(wrap)\n",
       "      4/1    0.000    0.000    1.065    1.065 profiler.py:331(wrapper)\n",
       "        5    0.000    0.000    0.000    0.000 linear_util.py:347(wrap_init)\n",
       "       25    0.000    0.000    0.001    0.000 core.py:226(out_avals)\n",
       "        1    0.000    0.000    0.000    0.000 pxla.py:1725(_get_and_check_device_assignment)\n",
       "        4    0.000    0.000    0.000    0.000 ad.py:1073(jvp_jaxpr)\n",
       "        4    0.000    0.000    1.037    0.259 pjit.py:334(cache_miss)\n",
       "        2    0.000    0.000    0.002    0.001 ufunc_api.py:173(__call__)\n",
       "       13    0.000    0.000    0.000    0.000 api_util.py:683(<genexpr>)\n",
       "        6    0.000    0.000    0.000    0.000 source_info_util.py:216(current)\n",
       "        6    0.000    0.000    0.001    0.000 partial_eval.py:213(default_process_primitive)\n",
       "        1    0.000    0.000    0.000    0.000 array.py:1202(_array_shard_arg)\n",
       "       31    0.000    0.000    0.000    0.000 contextlib.py:139(__exit__)\n",
       "       17    0.000    0.000    0.000    0.000 core.py:1804(_maybe_modify_sharding)\n",
       "       15    0.000    0.000    0.000    0.000 core.py:1760(canonicalize_value)\n",
       "        5    0.000    0.000    0.001    0.000 api_util.py:585(debug_info)\n",
       "        1    0.000    0.000    1.065    1.065 ad.py:230(linearize)\n",
       "       11    0.000    0.000    0.000    0.000 dtypes.py:795(is_weakly_typed)\n",
       "       31    0.000    0.000    0.000    0.000 contextlib.py:279(helper)\n",
       "        2    0.000    0.000    0.000    0.000 dtypes.py:838(_lattice_result_type)\n",
       "       23    0.000    0.000    0.000    0.000 core.py:1638(_dtype_object)\n",
       "       31    0.000    0.000    0.000    0.000 contextlib.py:130(__enter__)\n",
       "       16    0.000    0.000    0.000    0.000 source_info_util.py:146(replace)\n",
       "        1    0.000    0.000    1.065    1.065 partial_eval.py:565(trace_to_jaxpr_nounits)\n",
       "        5    0.000    0.000    0.000    0.000 util.py:150(merge_lists)\n",
       "        2    0.000    0.000    0.000    0.000 utils.py:68(call_sharding_rule)\n",
       "       13    0.000    0.000    0.000    0.000 core.py:1879(to_tangent_aval)\n",
       "        1    0.000    0.000    0.000    0.000 inspect.py:2375(_signature_from_callable)\n",
       "       19    0.000    0.000    0.000    0.000 dtypes.py:319(canonicalize_dtype)\n",
       "        1    0.000    0.000    1.003    1.003 pjit.py:1699(call_impl_cache_miss)\n",
       "        9    0.000    0.000    0.000    0.000 linear_util.py:364(_clean_keystr_arg_names)\n",
       "      136    0.000    0.000    0.000    0.000 pxla.py:2277(<genexpr>)\n",
       "      138    0.000    0.000    0.000    0.000 pxla.py:2313(<genexpr>)\n",
       "        1    0.000    0.000    1.003    1.003 pjit.py:1624(_pjit_call_impl_python)\n",
       "        7    0.000    0.000    0.000    0.000 ad.py:553(maybe_jvp_tracer)\n",
       "        4    0.000    0.000    0.000    0.000 partial_eval.py:879(partial_eval_jaxpr_nounits)\n",
       "        7    0.000    0.000    0.000    0.000 linear_util.py:259(transformation_with_aux2)\n",
       "        2    0.000    0.000    0.000    0.000 tree_util.py:350(tree_map)\n",
       "        2    0.000    0.000    0.000    0.000 utils.py:84(standard_abstract_eval)\n",
       "       16    0.000    0.000    0.000    0.000 tree_util.py:1151(tree_flatten_with_path)\n",
       "       15    0.000    0.000    0.000    0.000 core.py:1914(primal_dtype_to_tangent_dtype)\n",
       "        3    0.000    0.000    0.000    0.000 named_sharding.py:245(with_spec)\n",
       "       25    0.000    0.000    0.000    0.000 linear_util.py:171(__init__)\n",
       "       33    0.000    0.000    0.000    0.000 core.py:1683(_canonicalize_dimension)\n",
       "        1    0.000    0.000    0.000    0.000 dtypes.py:895(check_user_dtype_supported)\n",
       "        8    0.000    0.000    0.000    0.000 core.py:1515(shaped_abstractify)\n",
       "       22    0.000    0.000    0.000    0.000 core.py:731(<lambda>)\n",
       "        1    0.000    0.000    1.323    1.323 <string>:1(<module>)\n",
       "        1    0.000    0.000    1.038    1.038 ad.py:113(jvp_subtrace)\n",
       "       22    0.000    0.000    0.000    0.000 partition_spec.py:51(__new__)\n",
       "        3    0.000    0.000    0.000    0.000 abstract_arrays.py:55(_make_shaped_array_for_numpy_array)\n",
       "        4    0.000    0.000    0.000    0.000 pjit.py:737(_infer_input_type)\n",
       "        9    0.000    0.000    0.000    0.000 re.py:324(_subx)\n",
       "        3    0.000    0.000    0.003    0.001 array_methods.py:574(deferring_binary_op)\n",
       "       20    0.000    0.000    0.000    0.000 partial_eval.py:147(to_jaxpr_tracer)\n",
       "       15    0.000    0.000    0.000    0.000 {built-in method _abc._abc_instancecheck}\n",
       "        2    0.000    0.000    0.000    0.000 inspect.py:612(unwrap)\n",
       "        1    0.000    0.000    0.000    0.000 pxla.py:2007(are_all_shardings_default_mem_kind)\n",
       "        2    0.000    0.000    0.000    0.000 inspect.py:2637(__init__)\n",
       "        1    0.000    0.000    0.000    0.000 lax.py:2873(full)\n",
       "        4    0.000    0.000    0.000    0.000 typing.py:1247(__hash__)\n",
       "       13    0.000    0.000    0.000    0.000 partial_eval.py:156(new_const)\n",
       "        9    0.000    0.000    0.000    0.000 tree_util.py:724(keystr)\n",
       "        5    0.000    0.000    0.000    0.000 core.py:1481(valid_jaxtype)\n",
       "       16    0.000    0.000    0.000    0.000 tree_util.py:1168(generate_key_paths)\n",
       "        1    0.000    0.000    0.000    0.000 api_util.py:204(argnums_partial)\n",
       "      163    0.000    0.000    0.000    0.000 {method 'keys' of 'dict' objects}\n",
       "       33    0.000    0.000    0.000    0.000 mesh.py:466(__hash__)\n",
       "        4    0.000    0.000    0.000    0.000 pjit.py:694(disallow_use_mesh_and_legacy_mesh_ctx_mgr_together)\n",
       "        1    0.000    0.000    1.065    1.065 api.py:2009(_vjp)\n",
       "        6    0.000    0.000    0.000    0.000 core.py:292(__enter__)\n",
       "        7    0.000    0.000    0.000    0.000 core.py:222(in_avals)\n",
       "        8    0.000    0.000    0.000    0.000 dispatch.py:285(check_arg)\n",
       "       24    0.000    0.000    0.000    0.000 pjit.py:2046(_filter_zeros)\n",
       "       15    0.000    0.000    0.000    0.000 core.py:238(effects)\n",
       "        1    0.000    0.000    0.000    0.000 api.py:498(_check_input_dtype_revderiv)\n",
       "        5    0.000    0.000    0.000    0.000 pjit.py:258(_get_fastpath_data)\n",
       "        1    0.000    0.000    0.000    0.000 api_util.py:637(fun_sourceinfo)\n",
       "        1    0.000    0.000    0.000    0.000 pxla.py:2093(_get_num_devices)\n",
       "        4    0.000    0.000    0.002    0.001 linear_util.py:434(memoized_fun)\n",
       "       30    0.000    0.000    0.000    0.000 mesh.py:503(empty)\n",
       "       16    0.000    0.000    0.000    0.000 tree_util.py:1159(tree_leaves_with_path)\n",
       "        7    0.000    0.000    0.000    0.000 ad.py:310(read_cotangent)\n",
       "        1    0.000    0.000    1.038    1.038 api_util.py:275(_argnums_partial)\n",
       "      7/4    0.000    0.000    0.002    0.000 lax.py:4369(_convert_element_type_bind_with_trace)\n",
       "        1    0.000    0.000    1.039    1.039 ad.py:72(jvpfun)\n",
       "       11    0.000    0.000    0.000    0.000 named_sharding.py:510(_check_unique_resources)\n",
       "        2    0.000    0.000    0.000    0.000 tree_util.py:87(tree_leaves)\n",
       "        2    0.000    0.000    0.000    0.000 array.py:589(layout)\n",
       "        4    0.000    0.000    0.000    0.000 source_info_util.py:291(transform_name_stack)\n",
       "       14    0.000    0.000    0.000    0.000 partial_eval.py:116(known)\n",
       "        9    0.000    0.000    0.000    0.000 ad.py:424(to_primal_tangent_pair)\n",
       "        8    0.000    0.000    0.001    0.000 util.py:161(subs_list)\n",
       "        2    0.000    0.000    0.000    0.000 tree_util.py:540(__new__)\n",
       "       12    0.000    0.000    0.000    0.000 source_info_util.py:236(user_context)\n",
       "        1    0.000    0.000    0.817    0.817 pxla.py:2441(compile)\n",
       "        1    0.000    0.000    0.000    0.000 inspect.py:2920(__init__)\n",
       "       82    0.000    0.000    0.000    0.000 {method 'values' of 'dict' objects}\n",
       "       15    0.000    0.000    0.000    0.000 abc.py:117(__instancecheck__)\n",
       "        1    0.000    0.000    1.038    1.038 linear_util.py:368(_get_result_paths_thunk)\n",
       "       10    0.000    0.000    0.000    0.000 {method 'join' of 'str' objects}\n",
       "        4    0.000    0.000    0.000    0.000 named_sharding.py:157(__eq__)\n",
       "        1    0.000    0.000    0.000    0.000 pxla.py:1253(_handle_token_bufs)\n",
       "       18    0.000    0.000    0.000    0.000 ad.py:569(aval)\n",
       "        2    0.000    0.000    0.000    0.000 {built-in method numpy.asarray}\n",
       "        1    0.000    0.000    0.000    0.000 partial_eval.py:167(new_arg)\n",
       "        6    0.000    0.000    0.000    0.000 core.py:320(__exit__)\n",
       "       25    0.000    0.000    0.000    0.000 named_sharding.py:389(__eq__)\n",
       "        1    0.000    0.000    0.000    0.000 pxla.py:2996(<listcomp>)\n",
       "        1    0.000    0.000    0.001    0.001 reductions.py:240(sum)\n",
       "        3    0.000    0.000    0.000    0.000 dtypes.py:602(_dtype_and_weaktype)\n",
       "       11    0.000    0.000    0.000    0.000 named_sharding.py:338(__init__)\n",
       "       48    0.000    0.000    0.000    0.000 pjit.py:2047(<genexpr>)\n",
       "       50    0.000    0.000    0.000    0.000 {method '__exit__' of '_thread.RLock' objects}\n",
       "       10    0.000    0.000    0.000    0.000 <string>:2(__init__)\n",
       "       40    0.000    0.000    0.000    0.000 partial_eval.py:124(is_known)\n",
       "        1    0.000    0.000    0.000    0.000 core.py:123(__init__)\n",
       "        4    0.000    0.000    0.000    0.000 typing.py:306(inner)\n",
       "        1    0.000    0.000    0.000    0.000 pjit.py:1455(_resolve_in_layouts)\n",
       "        1    0.000    0.000    0.000    0.000 ad.py:903(standard_jvp2)\n",
       "        1    0.000    0.000    0.000    0.000 pjit.py:1515(_resolve_in_shardings)\n",
       "        6    0.000    0.000    0.000    0.000 api_util.py:235(_ensure_inbounds)\n",
       "       41    0.000    0.000    0.000    0.000 mesh.py:491(size)\n",
       "        2    0.000    0.000    0.000    0.000 source_info_util.py:106(transform)\n",
       "        1    0.000    0.000    1.065    1.065 ad.py:258(vjp)\n",
       "        2    0.000    0.000    0.000    0.000 ad.py:241(<genexpr>)\n",
       "        6    0.000    0.000    0.000    0.000 core.py:333(__init__)\n",
       "        4    0.000    0.000    0.000    0.000 partial_eval.py:1543(move_binders_to_back)\n",
       "        4    0.000    0.000    0.000    0.000 linear_util.py:202(populate_stores)\n",
       "        4    0.000    0.000    0.000    0.000 typing.py:1040(__or__)\n",
       "        1    0.000    0.000    0.000    0.000 lax.py:7787(_const)\n",
       "        1    0.000    0.000    0.002    0.002 ufuncs.py:2565(power)\n",
       "       44    0.000    0.000    0.000    0.000 {built-in method builtins.iter}\n",
       "        1    0.000    0.000    0.249    0.249 api.py:1898(_vjp_pullback_wrapper)\n",
       "        5    0.000    0.000    0.000    0.000 inspect.py:3181(bind)\n",
       "        8    0.000    0.000    0.000    0.000 core.py:1002(<lambda>)\n",
       "       14    0.000    0.000    0.000    0.000 ad.py:433(<genexpr>)\n",
       "        1    0.000    0.000    0.000    0.000 pxla.py:2513(_get_in_shardings_from_xla)\n",
       "        2    0.000    0.000    0.000    0.000 core.py:879(__getattr__)\n",
       "        1    0.000    0.000    0.001    0.001 lax.py:3973(_integer_pow_jvp)\n",
       "        1    0.000    0.000    0.000    0.000 ad.py:75(<listcomp>)\n",
       "       16    0.000    0.000    0.000    0.000 source_info_util.py:142(__init__)\n",
       "        7    0.000    0.000    0.000    0.000 ad.py:562(__init__)\n",
       "        4    0.000    0.000    0.000    0.000 ad_util.py:68(from_primal_value)\n",
       "       12    0.000    0.000    0.000    0.000 core.py:628(is_valid)\n",
       "        4    0.000    0.000    0.000    0.000 core.py:1139(take_current_trace)\n",
       "        8    0.000    0.000    0.000    0.000 linear_util.py:228(transformation2)\n",
       "        1    0.000    0.000    0.004    0.004 pjit.py:1732(_pjit_lower)\n",
       "        6    0.000    0.000    0.000    0.000 core.py:401(new_jaxpr_eqn)\n",
       "        8    0.000    0.000    0.000    0.000 pjit.py:325(_get_cpp_global_cache)\n",
       "        1    0.000    0.000    0.000    0.000 lax.py:3079(full_like)\n",
       "        4    0.000    0.000    0.000    0.000 pjit.py:2234(<listcomp>)\n",
       "        2    0.000    0.000    0.000    0.000 __init__.py:430(_replace)\n",
       "        9    0.000    0.000    0.000    0.000 source_info_util.py:262(current_name_stack)\n",
       "        1    0.000    0.000    0.000    0.000 pxla.py:2280(<listcomp>)\n",
       "        6    0.000    0.000    0.000    0.000 util.py:129(_arraylike)\n",
       "        1    0.000    0.000    0.000    0.000 pxla.py:2763(_maybe_get_and_check_in_shardings)\n",
       "       11    0.000    0.000    0.000    0.000 named_sharding.py:400(__iter__)\n",
       "       14    0.000    0.000    0.000    0.000 pjit.py:2130(<genexpr>)\n",
       "        2    0.000    0.000    0.000    0.000 partition_spec.py:60(_normalized_spec_for_aval)\n",
       "        1    0.000    0.000    0.000    0.000 lax.py:2231(broadcast)\n",
       "        4    0.000    0.000    0.000    0.000 pjit.py:2201(<listcomp>)\n",
       "       13    0.000    0.000    0.000    0.000 partial_eval.py:219(<genexpr>)\n",
       "        1    0.000    0.000    0.000    0.000 lax.py:3445(naryop_dtype_rule)\n",
       "        1    0.000    0.000    0.000    0.000 partial_eval.py:1610(make_jaxpr_effects)\n",
       "       18    0.000    0.000    0.000    0.000 {built-in method builtins.sum}\n",
       "        5    0.000    0.000    0.000    0.000 core.py:1535(abstractify)\n",
       "       36    0.000    0.000    0.000    0.000 core.py:1805(<genexpr>)\n",
       "       23    0.000    0.000    0.000    0.000 named_sharding.py:386(__hash__)\n",
       "        1    0.000    0.000    0.000    0.000 pxla.py:1223(__init__)\n",
       "        4    0.000    0.000    0.000    0.000 core.py:1202(trace_state_clean)\n",
       "       11    0.000    0.000    0.000    0.000 named_sharding.py:383(<listcomp>)\n",
       "        1    0.000    0.000    0.001    0.001 ad.py:892(standard_jvp)\n",
       "        1    0.000    0.000    0.006    0.006 pxla.py:2879(build_unsafe_call)\n",
       "        1    0.000    0.000    0.000    0.000 inspect.py:66(get_annotations)\n",
       "        4    0.000    0.000    0.000    0.000 pjit.py:2232(<listcomp>)\n",
       "        1    0.000    0.000    0.000    0.000 lax.py:3541(_unbroadcast)\n",
       "        1    0.000    0.000    0.000    0.000 sharding_impls.py:614(__hash__)\n",
       "        2    0.000    0.000    0.000    0.000 enum.py:359(__call__)\n",
       "        1    0.000    0.000    1.039    1.039 api_util.py:69(flatten_fun)\n",
       "        2    0.000    0.000    0.000    0.000 core.py:1750(_make_lengths_same)\n",
       "       11    0.000    0.000    0.000    0.000 linear_util.py:106(val)\n",
       "        6    0.000    0.000    0.000    0.000 source_info_util.py:115(__add__)\n",
       "        1    0.000    0.000    0.000    0.000 lax.py:2252(broadcast_in_dim)\n",
       "        1    0.000    0.000    0.000    0.000 pxla.py:124(shard_args)\n",
       "        1    0.000    0.000    0.000    0.000 sharding_impls.py:605(__eq__)\n",
       "        2    0.000    0.000    0.000    0.000 ad.py:240(<genexpr>)\n",
       "        1    0.000    0.000    0.000    0.000 lax.py:109(_try_broadcast_shapes)\n",
       "        1    0.000    0.000    0.000    0.000 api_util.py:49(_ensure_index_tuple)\n",
       "        2    0.000    0.000    0.002    0.001 array_methods.py:1059(op)\n",
       "        4    0.000    0.000    0.000    0.000 core.py:1867(__eq__)\n",
       "        3    0.000    0.000    0.000    0.000 op_shardings.py:48(is_op_sharding_replicated)\n",
       "        5    0.000    0.000    0.000    0.000 util.py:156(<listcomp>)\n",
       "        5    0.000    0.000    0.000    0.000 tree_util.py:358(<genexpr>)\n",
       "        1    0.000    0.000    0.001    0.001 util.py:102(promote_dtypes_numeric)\n",
       "        4    0.000    0.000    0.000    0.000 weakref.py:508(setdefault)\n",
       "        1    0.000    0.000    0.000    0.000 {built-in method numpy.array}\n",
       "        1    0.000    0.000    0.000    0.000 linear_util.py:301(resolve_result_paths)\n",
       "       12    0.000    0.000    0.000    0.000 mesh.py:563(get_abstract_mesh)\n",
       "        3    0.000    0.000    0.000    0.000 fromnumeric.py:3176(ndim)\n",
       "        3    0.000    0.000    0.000    0.000 array.py:308(ndim)\n",
       "        1    0.000    0.000    1.038    1.038 api_util.py:86(flatten_fun_nokwargs)\n",
       "        2    0.000    0.000    0.000    0.000 core.py:1581(concrete_or_error)\n",
       "        4    0.000    0.000    0.000    0.000 core.py:598(check_avals_context_mesh)\n",
       "       26    0.000    0.000    0.000    0.000 inspect.py:2687(name)\n",
       "        1    0.000    0.000    0.000    0.000 pxla.py:107(to_xc_copy_semantics)\n",
       "        3    0.000    0.000    0.000    0.000 abstract_arrays.py:75(_make_abstract_python_scalar)\n",
       "        3    0.000    0.000    0.000    0.000 dtypes.py:352(_scalar_type_to_dtype)\n",
       "        1    0.000    0.000    0.000    0.000 lax.py:7803(_one)\n",
       "        5    0.000    0.000    0.000    0.000 dtypes.py:839(<genexpr>)\n",
       "        4    0.000    0.000    0.000    0.000 mesh.py:370(empty)\n",
       "        1    0.000    0.000    0.000    0.000 pxla.py:3089(__init__)\n",
       "       35    0.000    0.000    0.000    0.000 {built-in method _operator.index}\n",
       "        1    0.000    0.000    0.000    0.000 api_util.py:218(<listcomp>)\n",
       "        5    0.000    0.000    0.000    0.000 inspect.py:2779(__init__)\n",
       "        2    0.000    0.000    0.000    0.000 numeric.py:1855(isscalar)\n",
       "       39    0.000    0.000    0.000    0.000 inspect.py:2699(kind)\n",
       "        5    0.000    0.000    0.000    0.000 api_util.py:675(<listcomp>)\n",
       "        6    0.000    0.000    0.000    0.000 partial_eval.py:218(<listcomp>)\n",
       "        1    0.000    0.000    0.004    0.004 pjit.py:1607(_resolve_and_lower)\n",
       "        9    0.000    0.000    0.000    0.000 util.py:171(<genexpr>)\n",
       "        1    0.000    0.000    0.000    0.000 ad.py:64(jvp)\n",
       "        4    0.000    0.000    0.000    0.000 pjit.py:2039(<listcomp>)\n",
       "        3    0.000    0.000    0.000    0.000 util.py:561(stable_unique)\n",
       "        6    0.000    0.000    0.000    0.000 core.py:340(manager)\n",
       "        2    0.000    0.000    0.001    0.000 pxla.py:1856(__eq__)\n",
       "        1    0.000    0.000    0.000    0.000 lax.py:4298(_convert_element_type_transpose_rule)\n",
       "        1    0.000    0.000    0.000    0.000 pxla.py:1718(get_default_device)\n",
       "        1    0.000    0.000    0.000    0.000 lax.py:4109(_mul_transpose)\n",
       "        1    0.000    0.000    0.000    0.000 util.py:260(_remove_duplicates)\n",
       "        7    0.000    0.000    0.000    0.000 array.py:300(shape)\n",
       "        3    0.000    0.000    0.000    0.000 util.py:168(check_arraylike)\n",
       "       22    0.000    0.000    0.000    0.000 multiarray.py:669(result_type)\n",
       "        1    0.000    0.000    0.000    0.000 source_info_util.py:121(__str__)\n",
       "        1    0.000    0.000    0.000    0.000 pxla.py:1159(__init__)\n",
       "        5    0.000    0.000    0.000    0.000 pjit.py:2030(<genexpr>)\n",
       "        3    0.000    0.000    0.000    0.000 inspect.py:2969(<genexpr>)\n",
       "        1    0.000    0.000    0.000    0.000 {method 'astype' of 'numpy.ndarray' objects}\n",
       "        4    0.000    0.000    0.000    0.000 ad.py:443(<listcomp>)\n",
       "        5    0.000    0.000    0.000    0.000 {method 'values' of 'mappingproxy' objects}\n",
       "        4    0.000    0.000    0.000    0.000 pjit.py:2042(<listcomp>)\n",
       "        6    0.000    0.000    0.000    0.000 dtypes.py:1002(is_string_dtype)\n",
       "        1    0.000    0.000    0.006    0.006 pxla.py:1205(global_avals_to_results_handler)\n",
       "        8    0.000    0.000    0.000    0.000 pxla.py:3060(contains_explicit_attributes)\n",
       "        1    0.000    0.000    0.000    0.000 lax.py:4311(_convert_element_type_jvp_rule)\n",
       "        7    0.000    0.000    0.000    0.000 linear_util.py:94(__init__)\n",
       "        1    0.000    0.000    0.000    0.000 pxla.py:2141(_discharge_refs_jaxpr)\n",
       "        2    0.000    0.000    0.000    0.000 core.py:556(abstract_eval_)\n",
       "        1    0.000    0.000    0.000    0.000 array.py:643(_check_if_deleted)\n",
       "        2    0.000    0.000    0.000    0.000 layout.py:100(__init__)\n",
       "        2    0.000    0.000    0.000    0.000 partial_eval.py:386(_current_truncated_name_stack)\n",
       "        6    0.000    0.000    0.000    0.000 partial_eval.py:804(<listcomp>)\n",
       "       15    0.000    0.000    0.000    0.000 core.py:115(effects)\n",
       "        6    0.000    0.000    0.000    0.000 partial_eval.py:733(<listcomp>)\n",
       "        1    0.000    0.000    0.000    0.000 partial_eval.py:620(<listcomp>)\n",
       "        3    0.000    0.000    0.001    0.000 lax.py:1034(mul)\n",
       "        6    0.000    0.000    0.000    0.000 ad.py:404(get_primitive_transpose)\n",
       "       14    0.000    0.000    0.000    0.000 {method 'items' of 'dict' objects}\n",
       "        2    0.000    0.000    0.000    0.000 pxla.py:1840(__init__)\n",
       "       12    0.000    0.000    0.000    0.000 dtypes.py:604(<genexpr>)\n",
       "        4    0.000    0.000    0.000    0.000 pjit.py:2161(<listcomp>)\n",
       "        7    0.000    0.000    0.000    0.000 core.py:224(<listcomp>)\n",
       "        2    0.000    0.000    0.000    0.000 {built-in method builtins.max}\n",
       "        7    0.000    0.000    0.000    0.000 linear_util.py:265(<lambda>)\n",
       "        1    0.000    0.000    1.065    1.065 linear_util.py:208(call_wrapped)\n",
       "        1    0.000    0.000    0.000    0.000 xla_bridge.py:1051(get_device_backend)\n",
       "      2/1    0.000    0.000    0.249    0.249 tree_util.py:475(__call__)\n",
       "        2    0.000    0.000    0.000    0.000 layout.py:65(__eq__)\n",
       "        2    0.000    0.000    0.000    0.000 pxla.py:2275(<genexpr>)\n",
       "       14    0.000    0.000    0.000    0.000 pjit.py:2131(<genexpr>)\n",
       "        6    0.000    0.000    0.000    0.000 xla_metadata.py:48(current_xla_metadata)\n",
       "        1    0.000    0.000    0.000    0.000 dispatch.py:149(set_output_runtime_token)\n",
       "        1    0.000    0.000    0.001    0.001 ad.py:894(<listcomp>)\n",
       "        1    0.000    0.000    0.000    0.000 partial_eval.py:618(<listcomp>)\n",
       "        2    0.000    0.000    0.000    0.000 __init__.py:420(_make)\n",
       "        2    0.000    0.000    0.000    0.000 utils.py:51(_get_abstract_mesh_from_avals)\n",
       "        1    0.000    0.000    0.000    0.000 lax.py:3472(broadcasting_shape_rule)\n",
       "        1    0.000    0.000    0.000    0.000 pxla.py:2891(load)\n",
       "        1    0.000    0.000    0.000    0.000 partial_eval.py:619(<listcomp>)\n",
       "        1    0.000    0.000    0.000    0.000 inspect.py:3252(signature)\n",
       "        1    0.000    0.000    0.000    0.000 api.py:518(_check_output_dtype_revderiv)\n",
       "       10    0.000    0.000    0.000    0.000 named_sharding.py:146(memory_kind)\n",
       "        4    0.000    0.000    0.000    0.000 core.py:1118(is_top_level)\n",
       "        4    0.000    0.000    0.000    0.000 pxla.py:2614(<genexpr>)\n",
       "        4    0.000    0.000    0.000    0.000 pjit.py:172(__hash__)\n",
       "       22    0.000    0.000    0.000    0.000 partition_spec.py:48(__init__)\n",
       "        9    0.000    0.000    0.000    0.000 core.py:214(<lambda>)\n",
       "        2    0.000    0.000    0.000    0.000 sharding_impls.py:147(__hash__)\n",
       "        3    0.000    0.000    0.000    0.000 partial_eval.py:187(instantiate_const)\n",
       "        4    0.000    0.000    0.000    0.000 pjit.py:2128(<listcomp>)\n",
       "        4    0.000    0.000    0.000    0.000 pjit.py:2180(<dictcomp>)\n",
       "       15    0.000    0.000    0.000    0.000 {method 'pop' of 'dict' objects}\n",
       "        1    0.000    0.000    0.000    0.000 dtypes.py:277(to_numeric_dtype)\n",
       "        1    0.000    0.000    0.000    0.000 ad.py:117(<listcomp>)\n",
       "        1    0.000    0.000    0.000    0.000 inspect.py:2998(from_callable)\n",
       "        5    0.000    0.000    0.000    0.000 api_util.py:676(<dictcomp>)\n",
       "        1    0.000    0.000    0.000    0.000 partial_eval.py:142(__init__)\n",
       "        1    0.000    0.000    0.000    0.000 sharding_impls.py:599(_hlo_sharding_hash)\n",
       "      2/1    0.000    0.000    0.001    0.001 lax.py:831(integer_pow)\n",
       "        2    0.000    0.000    0.000    0.000 core.py:1223(ensure_no_leaks)\n",
       "        2    0.000    0.000    0.000    0.000 source_info_util.py:109(__getitem__)\n",
       "        1    0.000    0.000    0.000    0.000 api_util.py:616(fun_signature)\n",
       "       12    0.000    0.000    0.000    0.000 linear_util.py:112(__nonzero__)\n",
       "        1    0.000    0.000    0.000    0.000 lax.py:7742(check_same_dtypes)\n",
       "        6    0.000    0.000    0.000    0.000 compute_on.py:39(current_compute_type)\n",
       "        2    0.000    0.000    0.000    0.000 pxla.py:3245(check_device_backend_on_shardings)\n",
       "        3    0.000    0.000    0.000    0.000 util.py:193(<genexpr>)\n",
       "        1    0.000    0.000    0.000    0.000 reductions.py:217(force)\n",
       "        1    0.000    0.000    0.001    0.001 util.py:109(<listcomp>)\n",
       "        1    0.000    0.000    0.000    0.000 pxla.py:2424(__init__)\n",
       "        3    0.000    0.000    0.000    0.000 partial_eval.py:589(<genexpr>)\n",
       "        7    0.000    0.000    0.000    0.000 linear_util.py:97(store)\n",
       "        1    0.000    0.000    0.000    0.000 util.py:489(__init__)\n",
       "        2    0.000    0.000    0.000    0.000 ad.py:905(<genexpr>)\n",
       "        2    0.000    0.000    0.000    0.000 core.py:1846(update)\n",
       "        3    0.000    0.000    0.000    0.000 abc.py:121(__subclasscheck__)\n",
       "        2    0.000    0.000    0.003    0.002 pxla.py:2848(finalize_shardings)\n",
       "        1    0.000    0.000    0.000    0.000 api.py:485(_check_scalar)\n",
       "       12    0.000    0.000    0.000    0.000 pjit.py:2145(<genexpr>)\n",
       "        6    0.000    0.000    0.000    0.000 lax.py:121(<genexpr>)\n",
       "        1    0.000    0.000    0.000    0.000 lax_numpy.py:5573(canonicalize_device_to_sharding)\n",
       "        5    0.000    0.000    0.006    0.001 pxla.py:3111(unsafe_call)\n",
       "        1    0.000    0.000    0.000    0.000 sharding_impls.py:1143(is_single_device_sharding)\n",
       "        1    0.000    0.000    0.000    0.000 xla.py:115(canonicalize_dtype)\n",
       "        3    0.000    0.000    0.000    0.000 partial_eval.py:626(<genexpr>)\n",
       "        4    0.000    0.000    0.000    0.000 pjit.py:2067(<listcomp>)\n",
       "        1    0.000    0.000    0.000    0.000 ad.py:420(__init__)\n",
       "        5    0.000    0.000    0.000    0.000 utils.py:86(<genexpr>)\n",
       "        3    0.000    0.000    0.000    0.000 {built-in method _abc._abc_subclasscheck}\n",
       "        3    0.000    0.000    0.000    0.000 fromnumeric.py:1980(shape)\n",
       "        2    0.000    0.000    0.000    0.000 inspect.py:277(isfunction)\n",
       "        3    0.000    0.000    0.000    0.000 lax_numpy.py:5546(<genexpr>)\n",
       "        1    0.000    0.000    0.000    0.000 dispatch.py:314(needs_check_special)\n",
       "        4    0.000    0.000    0.000    0.000 util.py:692(test_event)\n",
       "        1    0.000    0.000    0.000    0.000 core.py:2589(typematch)\n",
       "        1    0.000    0.000    0.000    0.000 ad.py:266(<listcomp>)\n",
       "        2    0.000    0.000    0.000    0.000 lax_numpy.py:5518(<lambda>)\n",
       "        1    0.000    0.000    0.000    0.000 api_util.py:282(<listcomp>)\n",
       "       11    0.000    0.000    0.000    0.000 mesh.py:499(_internal_device_list)\n",
       "        4    0.000    0.000    0.000    0.000 pjit.py:2132(<genexpr>)\n",
       "        1    0.000    0.000    0.000    0.000 sharding_impls.py:1253(canonicalize_sharding)\n",
       "      3/2    0.000    0.000    0.000    0.000 core.py:1557(to_concrete_value)\n",
       "        1    0.000    0.000    0.000    0.000 {built-in method builtins.sorted}\n",
       "        2    0.000    0.000    0.000    0.000 core.py:1680(update_weak_type)\n",
       "        5    0.000    0.000    0.000    0.000 inspect.py:3006(parameters)\n",
       "        1    0.000    0.000    0.000    0.000 source_info_util.py:89(wrap)\n",
       "        3    0.000    0.000    0.000    0.000 dtypes.py:809(check_valid_dtype)\n",
       "        2    0.000    0.000    0.000    0.000 <frozen importlib._bootstrap>:1053(_handle_fromlist)\n",
       "        2    0.000    0.000    0.000    0.000 {built-in method _functools.reduce}\n",
       "        1    0.000    0.000    0.000    0.000 core.py:2582(typecompat)\n",
       "        2    0.000    0.000    0.000    0.000 pxla.py:2684(<genexpr>)\n",
       "        4    0.000    0.000    0.000    0.000 mesh.py:366(size)\n",
       "        2    0.000    0.000    0.000    0.000 layout.py:61(__hash__)\n",
       "        1    0.000    0.000    0.000    0.000 lax.py:115(<setcomp>)\n",
       "        8    0.000    0.000    0.000    0.000 array.py:304(dtype)\n",
       "        1    0.000    0.000    0.000    0.000 sharding_impls.py:160(num_devices)\n",
       "        3    0.000    0.000    0.000    0.000 lax_numpy.py:5521(<genexpr>)\n",
       "        2    0.000    0.000    0.000    0.000 <string>:1(<lambda>)\n",
       "        1    0.000    0.000    0.000    0.000 reductions.py:216(_ensure_optional_axes)\n",
       "        2    0.000    0.000    0.000    0.000 source_info_util.py:112(__len__)\n",
       "        1    0.000    0.000    0.000    0.000 <string>:2(__eq__)\n",
       "        6    0.000    0.000    0.000    0.000 core.py:289(__init__)\n",
       "        1    0.000    0.000    0.000    0.000 op_shardings.py:56(are_op_shardings_equal)\n",
       "        2    0.000    0.000    0.000    0.000 core.py:1554(is_concrete)\n",
       "        3    0.000    0.000    0.000    0.000 core.py:1390(same_referent)\n",
       "        1    0.000    0.000    0.000    0.000 sharding_impls.py:152(__eq__)\n",
       "        2    0.000    0.000    0.000    0.000 api_util.py:220(<genexpr>)\n",
       "        1    0.000    0.000    0.000    0.000 util.py:501(__call__)\n",
       "        4    0.000    0.000    0.000    0.000 lax.py:3452(<genexpr>)\n",
       "        1    0.000    0.000    0.000    0.000 sharding.py:173(_addressable_device_assignment)\n",
       "        1    0.000    0.000    0.000    0.000 <string>:2(__hash__)\n",
       "        1    0.000    0.000    0.000    0.000 pxla.py:1168(__call__)\n",
       "        2    0.000    0.000    0.000    0.000 named_sharding.py:216(_is_concrete)\n",
       "        2    0.000    0.000    0.000    0.000 enum.py:678(__new__)\n",
       "        3    0.000    0.000    0.000    0.000 lax.py:7746(<genexpr>)\n",
       "        3    0.000    0.000    0.000    0.000 core.py:1396(definitely_equal)\n",
       "        6    0.000    0.000    0.000    0.000 core.py:1387(get_referent)\n",
       "        3    0.000    0.000    0.000    0.000 lax_numpy.py:5520(<lambda>)\n",
       "        2    0.000    0.000    0.000    0.000 lax.py:7752(<genexpr>)\n",
       "        1    0.000    0.000    0.000    0.000 utils.py:138(_standard_weak_type_rule)\n",
       "        1    0.000    0.000    0.000    0.000 inspect.py:629(_is_wrapper)\n",
       "        2    0.000    0.000    0.000    0.000 ad.py:948(instantiate_zeros)\n",
       "        1    0.000    0.000    0.000    0.000 partial_eval.py:633(<listcomp>)\n",
       "        2    0.000    0.000    0.000    0.000 partial_eval.py:222(<listcomp>)\n",
       "        1    0.000    0.000    0.000    0.000 pxla.py:1184(__init__)\n",
       "        2    0.000    0.000    0.000    0.000 core.py:1428(strip_weak_type)\n",
       "        1    0.000    0.000    0.000    0.000 inspect.py:632(_is_wrapper)\n",
       "        1    0.000    0.000    0.000    0.000 util.py:344(__init__)\n",
       "        1    0.000    0.000    0.000    0.000 sharding_impls.py:164(device_set)\n",
       "        4    0.000    0.000    0.000    0.000 ad.py:401(<lambda>)\n",
       "        3    0.000    0.000    0.000    0.000 {built-in method builtins.callable}\n",
       "        1    0.000    0.000    0.000    0.000 ad.py:83(<listcomp>)\n",
       "        1    0.000    0.000    0.000    0.000 array.py:464(is_fully_addressable)\n",
       "        1    0.000    0.000    0.000    0.000 util.py:191(check_no_float0s)\n",
       "        3    0.000    0.000    0.000    0.000 utils.py:49(_get_array_abstraction_level)\n",
       "        2    0.000    0.000    0.000    0.000 {method 'isidentifier' of 'str' objects}\n",
       "        2    0.000    0.000    0.000    0.000 ad.py:291(<genexpr>)\n",
       "        1    0.000    0.000    0.000    0.000 util.py:239(<listcomp>)\n",
       "        2    0.000    0.000    0.000    0.000 ad.py:910(add_tangents)\n",
       "        3    0.000    0.000    0.000    0.000 fromnumeric.py:3172(_ndim_dispatcher)\n",
       "        2    0.000    0.000    0.000    0.000 ad.py:247(<genexpr>)\n",
       "        2    0.000    0.000    0.000    0.000 {built-in method sys.getrecursionlimit}\n",
       "        2    0.000    0.000    0.000    0.000 core.py:1656(__ne__)\n",
       "        2    0.000    0.000    0.000    0.000 tree_util.py:472(__init__)\n",
       "        2    0.000    0.000    0.000    0.000 core.py:1431(normalize)\n",
       "        2    0.000    0.000    0.000    0.000 profiler.py:420(trace)\n",
       "        5    0.000    0.000    0.000    0.000 pjit.py:254(_need_to_rebuild_with_fdo)\n",
       "        2    0.000    0.000    0.000    0.000 ad.py:265(<genexpr>)\n",
       "        1    0.000    0.000    0.000    0.000 pxla.py:1279(<listcomp>)\n",
       "        1    0.000    0.000    0.000    0.000 ad.py:579(to_concrete_value)\n",
       "        1    0.000    0.000    0.000    0.000 mesh.py:576(get_concrete_mesh)\n",
       "        1    0.000    0.000    0.000    0.000 pxla.py:2168(_concretize_abstract_out_shardings)\n",
       "        3    0.000    0.000    0.000    0.000 sharding_impls.py:168(memory_kind)\n",
       "        2    0.000    0.000    0.000    0.000 tree_util.py:357(<listcomp>)\n",
       "        2    0.000    0.000    0.000    0.000 partial_eval.py:810(<genexpr>)\n",
       "        2    0.000    0.000    0.000    0.000 pxla.py:2945(<genexpr>)\n",
       "        1    0.000    0.000    0.000    0.000 linear_util.py:186(__name__)\n",
       "        2    0.000    0.000    0.000    0.000 pxla.py:2241(<genexpr>)\n",
       "        2    0.000    0.000    0.000    0.000 pxla.py:2276(<genexpr>)\n",
       "        4    0.000    0.000    0.000    0.000 typing.py:1737(cast)\n",
       "        2    0.000    0.000    0.000    0.000 partial_eval.py:553(is_known)\n",
       "        1    0.000    0.000    0.000    0.000 lax.py:3473(<listcomp>)\n",
       "        1    0.000    0.000    0.000    0.000 utils.py:33(_input_dtype)\n",
       "        1    0.000    0.000    0.000    0.000 linear_util.py:371(<listcomp>)\n",
       "        1    0.000    0.000    0.000    0.000 core.py:625(invalidate)\n",
       "        1    0.000    0.000    0.000    0.000 core.py:1584(<lambda>)\n",
       "        1    0.000    0.000    0.000    0.000 partial_eval.py:592(<listcomp>)\n",
       "        1    0.000    0.000    0.000    0.000 ad.py:252(<listcomp>)\n",
       "        3    0.000    0.000    0.000    0.000 fromnumeric.py:1976(_shape_dispatcher)\n",
       "        1    0.000    0.000    0.000    0.000 core.py:437(gensym)\n",
       "        1    0.000    0.000    0.000    0.000 {method 'disable' of '_lsprof.Profiler' objects}\n",
       "        1    0.000    0.000    0.000    0.000 dtypes.py:803(is_python_scalar)\n",
       "        2    0.000    0.000    0.000    0.000 utils.py:139(<genexpr>)\n",
       "        1    0.000    0.000    0.000    0.000 partial_eval.py:631(<listcomp>)\n",
       "        1    0.000    0.000    0.000    0.000 pxla.py:1244(_add_tokens_to_inputs)\n",
       "        1    0.000    0.000    0.000    0.000 pxla.py:2143(<genexpr>)\n",
       "        1    0.000    0.000    0.000    0.000 pxla.py:2155(<genexpr>)\n",
       "        1    0.000    0.000    0.000    0.000 pxla.py:2194(_get_context_mesh)\n",
       "        1    0.000    0.000    0.000    0.000 {built-in method from_iterable}\n",
       "        1    0.000    0.000    0.000    0.000 sharding_impls.py:178(_device_assignment)\n",
       "        2    0.000    0.000    0.000    0.000 pxla.py:2242(<genexpr>)\n",
       "        1    0.000    0.000    0.000    0.000 lax.py:4275(_convert_element_type_shape_rule)\n",
       "        2    0.000    0.000    0.000    0.000 sharding_impls.py:194(is_fully_addressable)\n",
       "        1    0.000    0.000    0.000    0.000 core.py:99(constvars)\n",
       "        1    0.000    0.000    0.000    0.000 lax.py:4294(_convert_element_type_weak_type_rule)\n",
       "        1    0.000    0.000    0.000    0.000 pxla.py:122(identity)\n",
       "        1    0.000    0.000    0.000    0.000 lax.py:4290(_convert_element_type_dtype_rule)"
      ]
     },
     "metadata": {},
     "output_type": "display_data"
    }
   ],
   "source": [
    "%prun dL(jnp.array([omegam, sigma8]), model)[1]"
   ]
  },
  {
   "cell_type": "code",
   "execution_count": null,
   "metadata": {},
   "outputs": [
    {
     "name": "stderr",
     "output_type": "stream",
     "text": [
      "1it [00:02,  2.41s/it]"
     ]
    },
    {
     "name": "stdout",
     "output_type": "stream",
     "text": [
      "[ 24686.1405158  -60941.33766088] [ 24686.14051578 -60941.33766088]\n"
     ]
    },
    {
     "name": "stderr",
     "output_type": "stream",
     "text": [
      "2it [00:04,  2.36s/it]"
     ]
    },
    {
     "name": "stdout",
     "output_type": "stream",
     "text": [
      "[-29868.63212627  98381.36408115] [-29868.63212623  98381.36408115]\n"
     ]
    },
    {
     "name": "stderr",
     "output_type": "stream",
     "text": [
      "3it [00:07,  2.34s/it]"
     ]
    },
    {
     "name": "stdout",
     "output_type": "stream",
     "text": [
      "[  53210.2275851  -144244.69526582] [  53210.22758505 -144244.69526581]\n"
     ]
    },
    {
     "name": "stderr",
     "output_type": "stream",
     "text": [
      "4it [00:09,  2.34s/it]"
     ]
    },
    {
     "name": "stdout",
     "output_type": "stream",
     "text": [
      "[-63092.52090346 234577.05153544] [-63092.52090339 234577.05153544]\n"
     ]
    },
    {
     "name": "stderr",
     "output_type": "stream",
     "text": [
      "5it [00:11,  2.33s/it]"
     ]
    },
    {
     "name": "stdout",
     "output_type": "stream",
     "text": [
      "[  98234.09088212 -196127.14783364] [  98234.09088203 -196127.14783364]\n"
     ]
    },
    {
     "name": "stderr",
     "output_type": "stream",
     "text": [
      "6it [00:14,  2.33s/it]"
     ]
    },
    {
     "name": "stdout",
     "output_type": "stream",
     "text": [
      "[-56420.38455385 179238.58949039] [-56420.3845538  179238.58949038]\n"
     ]
    },
    {
     "name": "stderr",
     "output_type": "stream",
     "text": [
      "7it [00:16,  2.33s/it]"
     ]
    },
    {
     "name": "stdout",
     "output_type": "stream",
     "text": [
      "[-68653.03775826 261376.2603356 ] [-68653.03775818 261376.2603356 ]\n"
     ]
    },
    {
     "name": "stderr",
     "output_type": "stream",
     "text": [
      "8it [00:18,  2.32s/it]"
     ]
    },
    {
     "name": "stdout",
     "output_type": "stream",
     "text": [
      "[  41976.61913872 -148272.04370967] [  41976.61913866 -148272.04370967]\n"
     ]
    },
    {
     "name": "stderr",
     "output_type": "stream",
     "text": [
      "9it [00:20,  2.32s/it]"
     ]
    },
    {
     "name": "stdout",
     "output_type": "stream",
     "text": [
      "[  51253.00543919 -110199.40181756] [  51253.00543914 -110199.40181756]\n"
     ]
    },
    {
     "name": "stderr",
     "output_type": "stream",
     "text": [
      "10it [00:23,  2.34s/it]"
     ]
    },
    {
     "name": "stdout",
     "output_type": "stream",
     "text": [
      "[-29964.71964342  75671.68290032] [-29964.7196434   75671.68290032]\n"
     ]
    },
    {
     "name": "stderr",
     "output_type": "stream",
     "text": [
      "11it [00:26,  2.43s/it]"
     ]
    },
    {
     "name": "stdout",
     "output_type": "stream",
     "text": [
      "[  46162.07833703 -127833.20858325] [  46162.07833698 -127833.20858325]\n"
     ]
    },
    {
     "name": "stderr",
     "output_type": "stream",
     "text": [
      "12it [00:28,  2.43s/it]"
     ]
    },
    {
     "name": "stdout",
     "output_type": "stream",
     "text": [
      "[-37724.55300665 139095.63918748] [-37724.5530066  139095.63918748]\n"
     ]
    },
    {
     "name": "stderr",
     "output_type": "stream",
     "text": [
      "13it [00:30,  2.44s/it]"
     ]
    },
    {
     "name": "stdout",
     "output_type": "stream",
     "text": [
      "[-22258.78154748  41697.58030399] [-22258.78154747  41697.58030399]\n"
     ]
    },
    {
     "name": "stderr",
     "output_type": "stream",
     "text": [
      "14it [00:33,  2.47s/it]"
     ]
    },
    {
     "name": "stdout",
     "output_type": "stream",
     "text": [
      "[-18939.86567329  42813.68363395] [-18939.86567328  42813.68363395]\n"
     ]
    },
    {
     "name": "stderr",
     "output_type": "stream",
     "text": [
      "15it [00:35,  2.35s/it]"
     ]
    },
    {
     "name": "stdout",
     "output_type": "stream",
     "text": [
      "[-6189.69285678 31920.7296083 ] [-6189.69285677 31920.7296083 ]\n"
     ]
    },
    {
     "name": "stderr",
     "output_type": "stream",
     "text": [
      "16it [00:37,  2.26s/it]"
     ]
    },
    {
     "name": "stdout",
     "output_type": "stream",
     "text": [
      "[-18642.94198974  39369.09774421] [-18642.94198972  39369.09774421]\n"
     ]
    },
    {
     "name": "stderr",
     "output_type": "stream",
     "text": [
      "17it [00:39,  2.21s/it]"
     ]
    },
    {
     "name": "stdout",
     "output_type": "stream",
     "text": [
      "[-47499.49800645 162139.94238137] [-47499.49800639 162139.94238137]\n"
     ]
    },
    {
     "name": "stderr",
     "output_type": "stream",
     "text": [
      "18it [00:42,  2.31s/it]"
     ]
    },
    {
     "name": "stdout",
     "output_type": "stream",
     "text": [
      "[ 21798.84960367 -88553.94112931] [ 21798.84960363 -88553.94112931]\n"
     ]
    },
    {
     "name": "stderr",
     "output_type": "stream",
     "text": [
      "19it [00:44,  2.36s/it]"
     ]
    },
    {
     "name": "stdout",
     "output_type": "stream",
     "text": [
      "[ 12222.14679504 -45147.64389324] [ 12222.14679503 -45147.64389323]\n"
     ]
    },
    {
     "name": "stderr",
     "output_type": "stream",
     "text": [
      "20it [00:47,  2.44s/it]"
     ]
    },
    {
     "name": "stdout",
     "output_type": "stream",
     "text": [
      "[-7888.81499215 33567.76004748] [-7888.81499214 33567.76004748]\n"
     ]
    },
    {
     "name": "stderr",
     "output_type": "stream",
     "text": [
      "21it [00:49,  2.47s/it]"
     ]
    },
    {
     "name": "stdout",
     "output_type": "stream",
     "text": [
      "[ 28340.86675608 -96262.92404018] [ 28340.86675604 -96262.92404018]\n"
     ]
    },
    {
     "name": "stderr",
     "output_type": "stream",
     "text": [
      "22it [00:52,  2.49s/it]"
     ]
    },
    {
     "name": "stdout",
     "output_type": "stream",
     "text": [
      "[-11439.17824494  38626.64611562] [-11439.17824493  38626.64611562]\n"
     ]
    },
    {
     "name": "stderr",
     "output_type": "stream",
     "text": [
      "23it [00:54,  2.50s/it]"
     ]
    },
    {
     "name": "stdout",
     "output_type": "stream",
     "text": [
      "[ 18661.00303559 -53228.34686561] [ 18661.00303557 -53228.34686561]\n"
     ]
    },
    {
     "name": "stderr",
     "output_type": "stream",
     "text": [
      "24it [00:57,  2.57s/it]"
     ]
    },
    {
     "name": "stdout",
     "output_type": "stream",
     "text": [
      "[-56711.2647539 217900.5825729] [-56711.26475383 217900.5825729 ]\n"
     ]
    },
    {
     "name": "stderr",
     "output_type": "stream",
     "text": [
      "25it [01:00,  2.70s/it]"
     ]
    },
    {
     "name": "stdout",
     "output_type": "stream",
     "text": [
      "[  5044.81937748 -15971.66648978] [  5044.81937748 -15971.66648978]\n"
     ]
    },
    {
     "name": "stderr",
     "output_type": "stream",
     "text": [
      "26it [01:03,  2.72s/it]"
     ]
    },
    {
     "name": "stdout",
     "output_type": "stream",
     "text": [
      "[-90832.65394141 355887.05850002] [-90832.6539413  355887.05850002]\n"
     ]
    },
    {
     "name": "stderr",
     "output_type": "stream",
     "text": [
      "27it [01:06,  2.75s/it]"
     ]
    },
    {
     "name": "stdout",
     "output_type": "stream",
     "text": [
      "[  72635.49864355 -154373.37660925] [  72635.49864348 -154373.37660924]\n"
     ]
    },
    {
     "name": "stderr",
     "output_type": "stream",
     "text": [
      "28it [01:08,  2.73s/it]"
     ]
    },
    {
     "name": "stdout",
     "output_type": "stream",
     "text": [
      "[  1611.80652073 -10499.29878654] [  1611.80652073 -10499.29878654]\n"
     ]
    },
    {
     "name": "stderr",
     "output_type": "stream",
     "text": [
      "29it [01:11,  2.71s/it]"
     ]
    },
    {
     "name": "stdout",
     "output_type": "stream",
     "text": [
      "[  6236.9296544  -19489.84044313] [  6236.92965439 -19489.84044313]\n"
     ]
    },
    {
     "name": "stderr",
     "output_type": "stream",
     "text": [
      "30it [01:14,  2.71s/it]"
     ]
    },
    {
     "name": "stdout",
     "output_type": "stream",
     "text": [
      "[  5854.45205615 -18046.44480799] [  5854.45205614 -18046.44480799]\n"
     ]
    },
    {
     "name": "stderr",
     "output_type": "stream",
     "text": [
      "31it [01:17,  2.73s/it]"
     ]
    },
    {
     "name": "stdout",
     "output_type": "stream",
     "text": [
      "[  68041.95086058 -153685.42975848] [  68041.95086052 -153685.42975848]\n"
     ]
    },
    {
     "name": "stderr",
     "output_type": "stream",
     "text": [
      "32it [01:19,  2.68s/it]"
     ]
    },
    {
     "name": "stdout",
     "output_type": "stream",
     "text": [
      "[  64112.05082882 -138786.45734203] [  64112.05082876 -138786.45734203]\n"
     ]
    },
    {
     "name": "stderr",
     "output_type": "stream",
     "text": [
      "33it [01:22,  2.64s/it]"
     ]
    },
    {
     "name": "stdout",
     "output_type": "stream",
     "text": [
      "[ 4676.00064914 17329.53238141] [ 4676.00064915 17329.53238141]\n"
     ]
    },
    {
     "name": "stderr",
     "output_type": "stream",
     "text": [
      "34it [01:24,  2.59s/it]"
     ]
    },
    {
     "name": "stdout",
     "output_type": "stream",
     "text": [
      "[-41858.83787715 156078.18160311] [-41858.8378771  156078.18160311]\n"
     ]
    },
    {
     "name": "stderr",
     "output_type": "stream",
     "text": [
      "35it [01:27,  2.59s/it]"
     ]
    },
    {
     "name": "stdout",
     "output_type": "stream",
     "text": [
      "[-133723.79309339  563832.8547049 ] [-133723.79309323  563832.85470489]\n"
     ]
    }
   ],
   "source": [
    "derivative=[]\n",
    "for omegam, sigma8 in tqdm(zip(cosmology_omegam, cosmology_sigma8)):\n",
    "    d1 = dL(jnp.array([omegam, sigma8]), model_Reversible)[1]\n",
    "    d2 = dL(jnp.array([omegam, sigma8]), model_Recursive)[1]\n",
    "    derivative.append([d1,d2])\n",
    "    print(d1,d2)"
   ]
  },
  {
   "cell_type": "code",
   "execution_count": 52,
   "metadata": {},
   "outputs": [],
   "source": [
    "derivative = np.array(derivative)"
   ]
  },
  {
   "cell_type": "code",
   "execution_count": 53,
   "metadata": {},
   "outputs": [
    {
     "data": {
      "text/plain": [
       "(100, 2, 2)"
      ]
     },
     "execution_count": 53,
     "metadata": {},
     "output_type": "execute_result"
    }
   ],
   "source": [
    "derivative.shape"
   ]
  },
  {
   "cell_type": "code",
   "execution_count": 57,
   "metadata": {},
   "outputs": [
    {
     "data": {
      "text/plain": [
       "[<matplotlib.lines.Line2D at 0x7f94cf3dc9d0>]"
      ]
     },
     "execution_count": 57,
     "metadata": {},
     "output_type": "execute_result"
    },
    {
     "data": {
      "image/jpeg": "[encoded data removed]",
      "text/plain": [
       "<Figure size 640x480 with 1 Axes>"
      ]
     },
     "metadata": {},
     "output_type": "display_data"
    }
   ],
   "source": [
    "plt.plot(derivative[:,0,0],derivative[:,1,0], \"+\")\n",
    "plt.plot(derivative[:,0,0],derivative[:,0,0], lw=1)\n",
    "\n",
    "\n"
   ]
  },
  {
   "cell_type": "code",
   "execution_count": 54,
   "metadata": {},
   "outputs": [
    {
     "data": {
      "text/plain": [
       "(Array(-12840.21854635, dtype=float64),\n",
       " Array([315351.19248804, 493830.4151344 ], dtype=float64))"
      ]
     },
     "execution_count": 54,
     "metadata": {},
     "output_type": "execute_result"
    }
   ],
   "source": [
    "jax.value_and_grad(lnlikelihood)(jnp.array([0.2,0.8]), dens_model=dens_model_Recursive)"
   ]
  },
  {
   "cell_type": "code",
   "execution_count": 74,
   "metadata": {},
   "outputs": [
    {
     "data": {
      "text/plain": [
       "(32,)"
      ]
     },
     "execution_count": 74,
     "metadata": {},
     "output_type": "execute_result"
    }
   ],
   "source": [
    "cubegrid_size"
   ]
  },
  {
   "cell_type": "code",
   "execution_count": 9,
   "metadata": {},
   "outputs": [],
   "source": [
    "\n",
    "#adjoint = diffrax.RecursiveCheckpointAdjoint()#\n",
    "def paint_density(t, y, args2):\n",
    "        # Load positions and apply boundary conditions\n",
    "        pos = y[0]\n",
    "        x = pos[..., 1]\n",
    "        y = pos[..., 2]\n",
    "        z = pos[..., 0]\n",
    "\n",
    "        # Paint all the particles that fall into slice\n",
    "        ss=args2[1]\n",
    "        density = cic_paint(jnp.zeros(ss),jnp.c_[x, y, z])\n",
    "\n",
    "        return density\n",
    "    \n",
    "#def forward_model(cosmoin, lin_field, conf):\n",
    "#\n",
    "#    eps, p, f = lpt(cosmoin, lin_field,  a=conf.initial_t0)\n",
    "#    \n",
    "#    ode_fn = tree.map(\n",
    "#        FPMODE,\n",
    "#        symplectic_ode(conf.mesh_shape, paint_absolute_pos=False)\n",
    "#    )\n",
    "#    solver = FPMLeapFrog(initial_t0=conf.initial_t0, final_t1=conf.final_time)\n",
    "#    saveat = SaveAt(t1=True)\n",
    "#    stepsize_controller = ConstantStepSize()\n",
    "#    \n",
    "#    initforce = pm_forces(\n",
    "#        eps,\n",
    "#        mesh_shape=conf.mesh_shape,\n",
    "#        paint_absolute_pos=False,\n",
    "#    )* 1.5* cosmoin.Omega_m  \n",
    "#\n",
    "#    solution = diffeqsolve(\n",
    "#        ode_fn,\n",
    "#        solver,\n",
    "#        t0=conf.initial_t0,\n",
    "#        t1=conf.final_time,\n",
    "#        dt0=conf.dt0,\n",
    "#        y0=jnp.stack([eps, p, initforce], axis=0),\n",
    "#        args=[cosmoin, None, conf.initial_t0, conf, 0, 0],\\\n",
    "#        saveat=saveat,\n",
    "#        adjoint=adjoint,\n",
    "#        stepsize_controller=stepsize_controller,\n",
    "#    )\n",
    "#    a, b, c = jnp.meshgrid(jnp.arange(conf.mesh_shape[0]),\n",
    "#                           jnp.arange(conf.mesh_shape[1]),\n",
    "#                           jnp.arange(conf.mesh_shape[2]),\n",
    "#                           indexing='ij')\n",
    "#    pmid = jnp.stack([a , b , c], axis=-1)\n",
    "#    args = [None, [cubegrid_size, cubegrid_size, cubegrid_size]]\n",
    "#    density = paint_density(0,  pmid+solution.ys[-1], args)\n",
    "#    return density"
   ]
  },
  {
   "cell_type": "code",
   "execution_count": 15,
   "metadata": {},
   "outputs": [],
   "source": [
    "\n",
    "def forward_model(cosmo, lin_field, conf):\n",
    "    mesh_shape = conf.mesh_shape\n",
    "    initial_t0 = conf.initial_t0\n",
    "    final_time = conf.final_time\n",
    "    snapshots = conf.snapshots\n",
    "    nmesh = conf.mesh_shape[0]\n",
    "    dt0 = conf.dt0\n",
    "    \n",
    "    dx, p, f = lpt(cosmo, lin_field, a=conf.initial_t0)\n",
    "    \n",
    "    ode_fn = tree.map(\n",
    "        FPMODE,\n",
    "        symplectic_ode(conf.mesh_shape, paint_absolute_pos=False)\n",
    "    )\n",
    "    solver = FPMLeapFrog(initial_t0=conf.initial_t0, final_t1=conf.final_time)\n",
    "    stepsize_controller = ConstantStepSize()\n",
    "\n",
    "    initforce = pm_forces(\n",
    "        dx,\n",
    "        mesh_shape=mesh_shape,\n",
    "        paint_absolute_pos=False,\n",
    "    )* 1.5* cosmo.Omega_m        \n",
    "    y0=jnp.stack([dx, p,initforce], axis=0)\n",
    "    \n",
    "    res = diffeqsolve(ode_fn,solver,\\\n",
    "                  t0=initial_t0,\\\n",
    "                  t1=final_time,\\\n",
    "                  dt0=dt0,\\\n",
    "                  y0=y0,\n",
    "                  args=[cosmo, None, initial_t0, conf, 0, 0],\\\n",
    "                  saveat=SaveAt(t1=True),\n",
    "                  stepsize_controller=stepsize_controller, adjoint=adjoint)\n",
    "    \n",
    "    a, b, c = jnp.meshgrid(jnp.arange(conf.mesh_shape[0]),\n",
    "                           jnp.arange(conf.mesh_shape[1]),\n",
    "                           jnp.arange(conf.mesh_shape[2]),\n",
    "                           indexing='ij')\n",
    "    pmid = jnp.stack([a , b , c], axis=-1)\n",
    "    density = paint_density(res.ts[-1],(pmid+res.ys[-1]), [None, conf.mesh_shape] )\n",
    "    return density"
   ]
  },
  {
   "cell_type": "code",
   "execution_count": 20,
   "metadata": {},
   "outputs": [],
   "source": [
    "#@jax.jit\n",
    "def model2(param):\n",
    "    Omega_c, sigma8= param\n",
    "    model_cosmo = jc.Cosmology(\n",
    "        Omega_c=Omega_c,\n",
    "        sigma8=sigma8,\n",
    "        Omega_b=0.0492,\n",
    "        Omega_k=0.0,\n",
    "        h=0.67,\n",
    "        n_s=0.96,\n",
    "        w0=-1,\n",
    "        wa=0.0,\n",
    "    )\n",
    "    cube_size = 256.0  # Mpc/h\n",
    "    cubegrid_size = 32  # npix\n",
    "    a_init = 0.05\n",
    "    Workspace = namedtuple('_workspace', ['background_radial_comoving_distance', 'background_growth_factor'])\n",
    "    model_cosmo._workspace =Workspace(None, None)\n",
    "    ain=np.atleast_1d(1)\n",
    "    _ =  growth_rate_second(model_cosmo,ain)\n",
    "    _ = growth_rate(model_cosmo, ain)\n",
    "    _ = growth_factor(model_cosmo, ain)\n",
    "    jc.background.radial_comoving_distance(model_cosmo, ain)\n",
    "    k = jnp.logspace(-4, 1, 128)\n",
    "    pk = jc.power.linear_matter_power(model_cosmo, k)\n",
    "    pk_fn = lambda x: jnp.interp(x.reshape([-1]), k, pk).reshape(x.shape)\n",
    "    conf = Configuration(mesh_shape=[cubegrid_size, cubegrid_size, cubegrid_size],\n",
    "            snapshots= [1],\n",
    "            BoxSize=[cube_size,cube_size, cube_size], \n",
    "            initial_t0=a_init,\n",
    "            final_time = 1.0,\n",
    "            density_plane_npix = 10,\n",
    "            dt0=0.01)\n",
    "    lin_field = linear_field(\n",
    "        conf.mesh_shape,\n",
    "        conf.BoxSize,\n",
    "        pk_fn, jax.random.PRNGKey(0))\n",
    "\n",
    "    dens = forward_model(model_cosmo, lin_field, conf)\n",
    "    return dens\n",
    "    \n"
   ]
  },
  {
   "cell_type": "code",
   "execution_count": 21,
   "metadata": {},
   "outputs": [],
   "source": [
    "def lnlikelihood(param):\n",
    "    din = model2(param)\n",
    "    return jnp.sum(-0.5*(densobs-din)**2)"
   ]
  },
  {
   "cell_type": "code",
   "execution_count": 22,
   "metadata": {},
   "outputs": [
    {
     "data": {
      "text/plain": [
       "(Array(-673767.11556316, dtype=float64),\n",
       " Array([-2152545.66228224,  1173596.57404377], dtype=float64))"
      ]
     },
     "execution_count": 22,
     "metadata": {},
     "output_type": "execute_result"
    }
   ],
   "source": [
    "adjoint=diffrax.ReversibleAdjoint()\n",
    "\n",
    "jax.value_and_grad(lnlikelihood)(jnp.array([0.2,0.8]))"
   ]
  },
  {
   "cell_type": "code",
   "execution_count": null,
   "metadata": {},
   "outputs": [],
   "source": []
  },
  {
   "cell_type": "code",
   "execution_count": 24,
   "metadata": {},
   "outputs": [
    {
     "data": {
      "text/plain": [
       "(Array(-673767.11556316, dtype=float64),\n",
       " Array([-1231946.67694215,  1172649.02512137], dtype=float64))"
      ]
     },
     "execution_count": 24,
     "metadata": {},
     "output_type": "execute_result"
    }
   ],
   "source": [
    "adjoint=diffrax.RecursiveCheckpointAdjoint(20)\n",
    "jax.value_and_grad(lnlikelihood)(jnp.array([0.2,0.8]))"
   ]
  },
  {
   "cell_type": "code",
   "execution_count": null,
   "metadata": {},
   "outputs": [],
   "source": []
  },
  {
   "cell_type": "code",
   "execution_count": null,
   "metadata": {},
   "outputs": [],
   "source": []
  }
 ],
 "metadata": {
  "colab": {
   "provenance": []
  },
  "kernelspec": {
   "display_name": "Python 3 (ipykernel)",
   "language": "python",
   "name": "python3"
  },
  "language_info": {
   "codemirror_mode": {
    "name": "ipython",
    "version": 3
   },
   "file_extension": ".py",
   "mimetype": "text/x-python",
   "name": "python",
   "nbconvert_exporter": "python",
   "pygments_lexer": "ipython3",
   "version": "3.10.13"
  }
 },
 "nbformat": 4,
 "nbformat_minor": 4
}
