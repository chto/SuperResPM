{
 "cells": [
  {
   "cell_type": "code",
   "execution_count": null,
   "metadata": {
    "colab": {
     "base_uri": "https://localhost:8080/"
    },
    "id": "88Usb-islNaS",
    "outputId": "7c91ac7d-741c-4f12-e583-7c5497783996"
   },
   "outputs": [],
   "source": [
    "#!pip install --quiet blackjax\n",
    "#!pip install jax_tqdm"
   ]
  },
  {
   "cell_type": "code",
   "execution_count": null,
   "metadata": {
    "id": "LR28WlW-lQxD"
   },
   "outputs": [],
   "source": [
    "from jax_tqdm import scan_tqdm\n",
    "import jax\n",
    "import jax.numpy as jnp\n",
    "import jax.scipy.stats as stats\n",
    "from blackjax.mcmc.hmc import HMCState\n",
    "import blackjax\n",
    "import numpy as np\n",
    "import matplotlib.pyplot as plt\n",
    "%matplotlib inline"
   ]
  },
  {
   "cell_type": "code",
   "execution_count": null,
   "metadata": {
    "id": "HzMA6ky5IUQh"
   },
   "outputs": [],
   "source": []
  },
  {
   "cell_type": "code",
   "execution_count": null,
   "metadata": {
    "id": "2V2MVEenlVhK"
   },
   "outputs": [],
   "source": [
    "def gaussdist(sigma):\n",
    "    '''A model that randomly generates 3D Gaussian profile'''\n",
    "    size=128\n",
    "\n",
    "    # Calculate the center coordinate\n",
    "    center = (size - 1) / 2.0\n",
    "\n",
    "    # Create a 3D grid of indices\n",
    "    x, y, z = jnp.meshgrid(jnp.arange(size), jnp.arange(size), jnp.arange(size), indexing='ij')\n",
    "\n",
    "    # Compute the squared distance from the center for each element\n",
    "    d2 = (x - center)**2 + (y - center)**2 + (z - center)**2\n",
    "    # Compute the Gaussian profile\n",
    "    prof = jnp.exp(-d2 / (2 * sigma**2))\n",
    "    return prof\n"
   ]
  },
  {
   "cell_type": "code",
   "execution_count": null,
   "metadata": {
    "colab": {
     "base_uri": "https://localhost:8080/",
     "height": 448
    },
    "id": "-pfw8ecxlyD2",
    "outputId": "00de472f-3ee0-4925-bf9f-1231de221962"
   },
   "outputs": [],
   "source": [
    "truesigma = 100\n",
    "mean = gaussdist(truesigma)\n",
    "rng = np.random.default_rng()\n",
    "Obs = rng.normal(mean, 0.01) #Add noise\n",
    "plt.imshow(Obs[:,:,5])\n"
   ]
  },
  {
   "cell_type": "code",
   "execution_count": null,
   "metadata": {
    "colab": {
     "base_uri": "https://localhost:8080/",
     "height": 448
    },
    "id": "G9rBwGhGMwUS",
    "outputId": "d860d812-4789-4a30-e65e-203c1d889100"
   },
   "outputs": [],
   "source": [
    "plt.imshow(mean[:,:,5])\n"
   ]
  },
  {
   "cell_type": "code",
   "execution_count": null,
   "metadata": {
    "id": "vK6d3F29ou6D"
   },
   "outputs": [],
   "source": [
    "def loglikelihood_fn(mean, observed=Obs):\n",
    "    \"\"\"Univariate Normal\"\"\"\n",
    "    return -0.5*jnp.sum(((mean-observed)/0.01)**2)\n",
    "\n",
    "loglikelihood = lambda x: loglikelihood_fn(**x)\n",
    "\n",
    "inv_mass_matrix = 0.1*np.ones(1)\n",
    "step_size = 1e-3\n",
    "nuts = blackjax.nuts(loglikelihood, step_size, inv_mass_matrix)"
   ]
  },
  {
   "cell_type": "code",
   "execution_count": null,
   "metadata": {
    "colab": {
     "base_uri": "https://localhost:8080/"
    },
    "id": "lQfdEOazrJ2Z",
    "outputId": "a1c979fd-693e-419b-92f9-6d242b897a26"
   },
   "outputs": [],
   "source": [
    "loglikelihood_fn(mean)"
   ]
  },
  {
   "cell_type": "code",
   "execution_count": null,
   "metadata": {
    "id": "D5GgViwQVojG"
   },
   "outputs": [],
   "source": [
    "from jax import lax\n",
    "def progress_bar_scan(num_samples, message=None):\n",
    "    \"Progress bar for a JAX scan\"\n",
    "    if message is None:\n",
    "            message = f\"Running for {num_samples:,} iterations\"\n",
    "    tqdm_bars = {}\n",
    "\n",
    "    if num_samples > 20:\n",
    "        print_rate = int(num_samples / 20)\n",
    "    else:\n",
    "        print_rate = 1 # if you run the sampler for less than 20 iterations\n",
    "    remainder = num_samples % print_rate\n",
    "\n",
    "    def _define_tqdm(arg, transform):\n",
    "        tqdm_bars[0] = tqdm(range(num_samples))\n",
    "        tqdm_bars[0].set_description(message, refresh=False)\n",
    "\n",
    "    def _update_tqdm(arg, transform):\n",
    "        tqdm_bars[0].update(arg)\n",
    "\n",
    "    def _update_progress_bar(iter_num):\n",
    "        \"Updates tqdm progress bar of a JAX scan or loop\"\n",
    "        _ = lax.cond(\n",
    "            iter_num == 0,\n",
    "            lambda _: host_callback.id_tap(_define_tqdm, None, result=iter_num),\n",
    "            lambda _: iter_num,\n",
    "            operand=None,\n",
    "        )\n",
    "\n",
    "        _ = lax.cond(\n",
    "            # update tqdm every multiple of `print_rate` except at the end\n",
    "            (iter_num % print_rate == 0) & (iter_num != num_samples-remainder),\n",
    "            lambda _: host_callback.id_tap(_update_tqdm, print_rate, result=iter_num),\n",
    "            lambda _: iter_num,\n",
    "            operand=None,\n",
    "        )\n",
    "\n",
    "        _ = lax.cond(\n",
    "            # update tqdm by `remainder`\n",
    "            iter_num == num_samples-remainder,\n",
    "            lambda _: host_callback.id_tap(_update_tqdm, remainder, result=iter_num),\n",
    "            lambda _: iter_num,\n",
    "            operand=None,\n",
    "        )\n",
    "\n",
    "    def _close_tqdm(arg, transform):\n",
    "        tqdm_bars[0].close()\n",
    "\n",
    "    def close_tqdm(result, iter_num):\n",
    "        return lax.cond(\n",
    "            iter_num == num_samples-1,\n",
    "            lambda _: host_callback.id_tap(_close_tqdm, None, result=result),\n",
    "            lambda _: result,\n",
    "            operand=None,\n",
    "        )\n",
    "\n",
    "\n",
    "    def _progress_bar_scan(func):\n",
    "        \"\"\"Decorator that adds a progress bar to `body_fun` used in `lax.scan`.\n",
    "        Note that `body_fun` must either be looping over `np.arange(num_samples)`,\n",
    "        or be looping over a tuple who's first element is `np.arange(num_samples)`\n",
    "        This means that `iter_num` is the current iteration number\n",
    "        \"\"\"\n",
    "\n",
    "        def wrapper_progress_bar(carry, x):\n",
    "            if type(x) is tuple:\n",
    "                iter_num, *_ = x\n",
    "            else:\n",
    "                iter_num = x\n",
    "            _update_progress_bar(iter_num)\n",
    "            result = func(carry, x)\n",
    "            return close_tqdm(result, iter_num)\n",
    "\n",
    "        return wrapper_progress_bar\n",
    "\n",
    "    return _progress_bar_scan"
   ]
  },
  {
   "cell_type": "code",
   "execution_count": null,
   "metadata": {
    "id": "ybOYQPmulZQu"
   },
   "outputs": [],
   "source": [
    "from functools import total_ordering\n",
    "import jax\n",
    "import jax.numpy as jnp\n",
    "import operator\n",
    "\n",
    "def scan_with_stop(f, init, xs=None, reverse=False, unroll=1, store_every=1):\n",
    "  store_every = operator.index(store_every)\n",
    "  assert store_every > 0\n",
    "\n",
    "  kwds = dict(reverse=reverse, unroll=unroll)\n",
    "\n",
    "  if store_every == 1:\n",
    "    return jax.lax.scan(f, init, xs=xs, **kwds)\n",
    "\n",
    "  N, rem = divmod(len(xs), store_every)\n",
    "\n",
    "  if rem:\n",
    "    raise ValueError(\"store_every must evenly divide len(xs)\")\n",
    "\n",
    "  xs = xs.reshape(N, store_every, *xs.shape[1:])\n",
    "\n",
    "  @scan_tqdm(len(xs))\n",
    "  def f_outer(carry, xs):\n",
    "    poskey= carry.position.keys()\n",
    "    carry, ys = jax.lax.scan(f, carry, xs=xs[1], **kwds)\n",
    "    logdensitygrad = {}\n",
    "    for keys in ys.logdensity_grad.keys():\n",
    "        logdensitygrad[keys]=ys.logdensity_grad[keys][-1]\n",
    "    position = {}\n",
    "    for keys in ys.position.keys():\n",
    "        position[keys]=ys.position[keys][-1]\n",
    "    return carry, HMCState(position, ys.logdensity[-1], logdensitygrad)\n",
    "  return jax.lax.scan(f_outer, init, xs=(np.arange(len(xs)), xs), **kwds)\n",
    "\n"
   ]
  },
  {
   "cell_type": "code",
   "execution_count": null,
   "metadata": {
    "id": "tGAGrc6rn0Zp"
   },
   "outputs": [],
   "source": [
    "@jax.jit\n",
    "def one_step(state, rng_key):\n",
    "    state, _ = nuts.step(rng_key, state)\n",
    "    return state, state\n",
    "def inference_loop(rng_key, kernel, initial_state, num_samples, thin=10):\n",
    "    keys = jax.random.split(rng_key, num_samples)\n",
    "    store_every= int(num_samples/int(num_samples/thin))\n",
    "    _, states  = scan_with_stop(one_step, initial_state, keys,store_every=store_every)\n",
    "\n",
    "    return states"
   ]
  },
  {
   "cell_type": "code",
   "execution_count": null,
   "metadata": {
    "colab": {
     "base_uri": "https://localhost:8080/",
     "height": 120,
     "referenced_widgets": [
      "e16ff3ac066446c386bb2ef4f22853db",
      "7d03aea6a1b84fcababa1c4647b465c5",
      "06af9c19ba1346a1b68afe30bab79b05",
      "6537c03b0ede45fc95db6550b1c8744e",
      "8873e65ce0654cabb4e125cc1aab0a9b",
      "9b292b7d3b6e4ede9dd0baa68dd89d03",
      "a834b3ee45ab4085bf679bbbd511532a",
      "b22b71cc64ea4349a1da8c7ed270c2f7",
      "5bcf667ba58141e38fc0c98c33589563",
      "848708746a4b4b1b9f38595b3bebd968",
      "2fe061c27c994bf786f084cc540a43a2"
     ]
    },
    "id": "v-6rziHppvVH",
    "outputId": "fb25ac46-86f6-4df8-fb9c-e99c5aba0b58"
   },
   "outputs": [],
   "source": [
    "initial_position = {\"mean\": np.zeros_like(mean)}\n",
    "initial_state = nuts.init(initial_position)\n",
    "\n",
    "rng_key = jax.random.key(0)\n",
    "rng_key, sample_key = jax.random.split(rng_key)\n",
    "%time one_step(initial_state, rng_key)\n",
    "%time one_step(initial_state, rng_key)\n",
    "\n",
    "states = inference_loop(sample_key, nuts.step, initial_state, 4_000, thin=2)"
   ]
  },
  {
   "cell_type": "code",
   "execution_count": null,
   "metadata": {
    "id": "7TwrHq4tqLaj"
   },
   "outputs": [],
   "source": [
    "mcmc_samples = states.position"
   ]
  },
  {
   "cell_type": "code",
   "execution_count": null,
   "metadata": {
    "colab": {
     "base_uri": "https://localhost:8080/"
    },
    "id": "cCtLac8kXISn",
    "outputId": "148dacb6-1f32-4515-e7e7-a6a033fe2fb0"
   },
   "outputs": [],
   "source": [
    "mcmc_samples['mean'].shape"
   ]
  },
  {
   "cell_type": "code",
   "execution_count": null,
   "metadata": {
    "colab": {
     "base_uri": "https://localhost:8080/",
     "height": 448
    },
    "id": "pxStiMwWq0Cc",
    "outputId": "b0f8e4cf-6f40-4572-cbbd-a1f0c634a7be"
   },
   "outputs": [],
   "source": [
    "fig, axes = plt.subplots(1,4,figsize=(10,10))\n",
    "axes[0].imshow(mcmc_samples['mean'][0,:,:,5])\n",
    "axes[1].imshow(mcmc_samples['mean'][4,:,:,5])\n",
    "axes[2].imshow(mcmc_samples['mean'][9,:,:,5])\n",
    "axes[3].imshow(mcmc_samples['mean'][399,:,:,5])"
   ]
  },
  {
   "cell_type": "markdown",
   "metadata": {},
   "source": [
    "# Check memory "
   ]
  },
  {
   "cell_type": "code",
   "execution_count": null,
   "metadata": {
    "colab": {
     "base_uri": "https://localhost:8080/",
     "height": 49,
     "referenced_widgets": [
      "f6d44d8d0a7244819c5c2a27c35917e6",
      "5fe1ae500ae94305b3a30da55c6f3c13",
      "3f081045001440199e3c2fac97df8ee4",
      "086ee7d87a7d498c8d9e74b7179b8a03",
      "9cfd93f3d6d9484d9ce33feba23c5ca6",
      "e8791107a99f4b1494a6402aeefcc741",
      "38d94bd218d64ba7be703c4210dcb960",
      "8e2a2bfaa3e543e9842ced42f20aaa23",
      "6cfd5ecb34af451b90a3ab9bca4da20f",
      "4f5508fc50c74a47aae6db520e7b928b",
      "6997a1fcc33e4d63a6f3afd3069b8f44"
     ]
    },
    "id": "VG72EcCNuj6a",
    "outputId": "517669e0-bb46-445c-e413-6e554631c316"
   },
   "outputs": [],
   "source": [
    "with jax.profiler.trace(\"./log\"):\n",
    "  try:\n",
    "      del states\n",
    "  except :\n",
    "       pass\n",
    "  jax.clear_caches()\n",
    "  initial_position = {\"mean\": np.zeros_like(mean)}\n",
    "  initial_state = nuts.init(initial_position)\n",
    "  rng_key = jax.random.key(0)\n",
    "  %time one_step(initial_state, rng_key)\n",
    "  rng_key, sample_key = jax.random.split(rng_key)\n",
    "  states = inference_loop(sample_key, nuts.step, initial_state, 800, thin=100)\n",
    "  states.position['mean'].block_until_ready()"
   ]
  },
  {
   "cell_type": "markdown",
   "metadata": {},
   "source": [
    "800 steps but thin 100 (Memory usage: 18.88 GiB )\t "
   ]
  },
  {
   "cell_type": "code",
   "execution_count": null,
   "metadata": {
    "id": "0f_Q-pA5vYhi"
   },
   "outputs": [],
   "source": [
    "with jax.profiler.trace(\"./log\"):\n",
    "  try:\n",
    "      del states\n",
    "  except :\n",
    "       pass\n",
    "  jax.clear_caches()\n",
    "  initial_position = {\"mean\": np.zeros_like(mean)}\n",
    "  initial_state = nuts.init(initial_position)\n",
    "  rng_key = jax.random.key(0)\n",
    "  %time one_step(initial_state, rng_key)\n",
    "  rng_key, sample_key = jax.random.split(rng_key)\n",
    "  states = inference_loop(sample_key, nuts.step, initial_state, 800, thin=1)\n",
    "  states.position['mean'].block_until_ready()"
   ]
  },
  {
   "cell_type": "markdown",
   "metadata": {},
   "source": [
    "800 steps without thin (Memory usage: 28.60 GiB )\t "
   ]
  },
  {
   "cell_type": "code",
   "execution_count": null,
   "metadata": {
    "id": "GHAHIeRIlZxp"
   },
   "outputs": [],
   "source": [
    "with jax.profiler.trace(\"./log\"):\n",
    "  jax.clear_caches()\n",
    "  try:\n",
    "      del states\n",
    "  except :\n",
    "       pass\n",
    "  initial_position = {\"mean\": np.zeros_like(mean)}\n",
    "  initial_state = nuts.init(initial_position)\n",
    "  rng_key = jax.random.key(0)\n",
    "  %time one_step(initial_state, rng_key)\n",
    "  rng_key, sample_key = jax.random.split(rng_key)\n",
    "  states = inference_loop(sample_key, nuts.step, initial_state, 2, thin=1)\n",
    "  states.position['mean'].block_until_ready()"
   ]
  },
  {
   "cell_type": "markdown",
   "metadata": {},
   "source": [
    "Two steps for benchmark (Memory usage: 16.13 GiB )"
   ]
  },
  {
   "cell_type": "code",
   "execution_count": null,
   "metadata": {},
   "outputs": [],
   "source": []
  }
 ],
 "metadata": {
  "accelerator": "GPU",
  "colab": {
   "gpuType": "T4",
   "provenance": []
  },
  "kernelspec": {
   "display_name": "Python 3 (ipykernel)",
   "language": "python",
   "name": "python3"
  },
  "language_info": {
   "codemirror_mode": {
    "name": "ipython",
    "version": 3
   },
   "file_extension": ".py",
   "mimetype": "text/x-python",
   "name": "python",
   "nbconvert_exporter": "python",
   "pygments_lexer": "ipython3",
   "version": "3.10.13"
  },
  "widgets": {
   "application/vnd.jupyter.widget-state+json": {
    "06af9c19ba1346a1b68afe30bab79b05": {
     "model_module": "@jupyter-widgets/controls",
     "model_module_version": "1.5.0",
     "model_name": "FloatProgressModel",
     "state": {
      "_dom_classes": [],
      "_model_module": "@jupyter-widgets/controls",
      "_model_module_version": "1.5.0",
      "_model_name": "FloatProgressModel",
      "_view_count": null,
      "_view_module": "@jupyter-widgets/controls",
      "_view_module_version": "1.5.0",
      "_view_name": "ProgressView",
      "bar_style": "success",
      "description": "",
      "description_tooltip": null,
      "layout": "IPY_MODEL_b22b71cc64ea4349a1da8c7ed270c2f7",
      "max": 400,
      "min": 0,
      "orientation": "horizontal",
      "style": "IPY_MODEL_5bcf667ba58141e38fc0c98c33589563",
      "value": 400
     }
    },
    "086ee7d87a7d498c8d9e74b7179b8a03": {
     "model_module": "@jupyter-widgets/controls",
     "model_module_version": "1.5.0",
     "model_name": "HTMLModel",
     "state": {
      "_dom_classes": [],
      "_model_module": "@jupyter-widgets/controls",
      "_model_module_version": "1.5.0",
      "_model_name": "HTMLModel",
      "_view_count": null,
      "_view_module": "@jupyter-widgets/controls",
      "_view_module_version": "1.5.0",
      "_view_name": "HTMLView",
      "description": "",
      "description_tooltip": null,
      "layout": "IPY_MODEL_4f5508fc50c74a47aae6db520e7b928b",
      "placeholder": "​",
      "style": "IPY_MODEL_6997a1fcc33e4d63a6f3afd3069b8f44",
      "value": " 40/40 [00:58&lt;00:00,  1.88s/it]"
     }
    },
    "2fe061c27c994bf786f084cc540a43a2": {
     "model_module": "@jupyter-widgets/controls",
     "model_module_version": "1.5.0",
     "model_name": "DescriptionStyleModel",
     "state": {
      "_model_module": "@jupyter-widgets/controls",
      "_model_module_version": "1.5.0",
      "_model_name": "DescriptionStyleModel",
      "_view_count": null,
      "_view_module": "@jupyter-widgets/base",
      "_view_module_version": "1.2.0",
      "_view_name": "StyleView",
      "description_width": ""
     }
    },
    "38d94bd218d64ba7be703c4210dcb960": {
     "model_module": "@jupyter-widgets/controls",
     "model_module_version": "1.5.0",
     "model_name": "DescriptionStyleModel",
     "state": {
      "_model_module": "@jupyter-widgets/controls",
      "_model_module_version": "1.5.0",
      "_model_name": "DescriptionStyleModel",
      "_view_count": null,
      "_view_module": "@jupyter-widgets/base",
      "_view_module_version": "1.2.0",
      "_view_name": "StyleView",
      "description_width": ""
     }
    },
    "3f081045001440199e3c2fac97df8ee4": {
     "model_module": "@jupyter-widgets/controls",
     "model_module_version": "1.5.0",
     "model_name": "FloatProgressModel",
     "state": {
      "_dom_classes": [],
      "_model_module": "@jupyter-widgets/controls",
      "_model_module_version": "1.5.0",
      "_model_name": "FloatProgressModel",
      "_view_count": null,
      "_view_module": "@jupyter-widgets/controls",
      "_view_module_version": "1.5.0",
      "_view_name": "ProgressView",
      "bar_style": "success",
      "description": "",
      "description_tooltip": null,
      "layout": "IPY_MODEL_8e2a2bfaa3e543e9842ced42f20aaa23",
      "max": 40,
      "min": 0,
      "orientation": "horizontal",
      "style": "IPY_MODEL_6cfd5ecb34af451b90a3ab9bca4da20f",
      "value": 40
     }
    },
    "4f5508fc50c74a47aae6db520e7b928b": {
     "model_module": "@jupyter-widgets/base",
     "model_module_version": "1.2.0",
     "model_name": "LayoutModel",
     "state": {
      "_model_module": "@jupyter-widgets/base",
      "_model_module_version": "1.2.0",
      "_model_name": "LayoutModel",
      "_view_count": null,
      "_view_module": "@jupyter-widgets/base",
      "_view_module_version": "1.2.0",
      "_view_name": "LayoutView",
      "align_content": null,
      "align_items": null,
      "align_self": null,
      "border": null,
      "bottom": null,
      "display": null,
      "flex": null,
      "flex_flow": null,
      "grid_area": null,
      "grid_auto_columns": null,
      "grid_auto_flow": null,
      "grid_auto_rows": null,
      "grid_column": null,
      "grid_gap": null,
      "grid_row": null,
      "grid_template_areas": null,
      "grid_template_columns": null,
      "grid_template_rows": null,
      "height": null,
      "justify_content": null,
      "justify_items": null,
      "left": null,
      "margin": null,
      "max_height": null,
      "max_width": null,
      "min_height": null,
      "min_width": null,
      "object_fit": null,
      "object_position": null,
      "order": null,
      "overflow": null,
      "overflow_x": null,
      "overflow_y": null,
      "padding": null,
      "right": null,
      "top": null,
      "visibility": null,
      "width": null
     }
    },
    "5bcf667ba58141e38fc0c98c33589563": {
     "model_module": "@jupyter-widgets/controls",
     "model_module_version": "1.5.0",
     "model_name": "ProgressStyleModel",
     "state": {
      "_model_module": "@jupyter-widgets/controls",
      "_model_module_version": "1.5.0",
      "_model_name": "ProgressStyleModel",
      "_view_count": null,
      "_view_module": "@jupyter-widgets/base",
      "_view_module_version": "1.2.0",
      "_view_name": "StyleView",
      "bar_color": null,
      "description_width": ""
     }
    },
    "5fe1ae500ae94305b3a30da55c6f3c13": {
     "model_module": "@jupyter-widgets/controls",
     "model_module_version": "1.5.0",
     "model_name": "HTMLModel",
     "state": {
      "_dom_classes": [],
      "_model_module": "@jupyter-widgets/controls",
      "_model_module_version": "1.5.0",
      "_model_name": "HTMLModel",
      "_view_count": null,
      "_view_module": "@jupyter-widgets/controls",
      "_view_module_version": "1.5.0",
      "_view_name": "HTMLView",
      "description": "",
      "description_tooltip": null,
      "layout": "IPY_MODEL_e8791107a99f4b1494a6402aeefcc741",
      "placeholder": "​",
      "style": "IPY_MODEL_38d94bd218d64ba7be703c4210dcb960",
      "value": "Running for 40 iterations: 100%"
     }
    },
    "6537c03b0ede45fc95db6550b1c8744e": {
     "model_module": "@jupyter-widgets/controls",
     "model_module_version": "1.5.0",
     "model_name": "HTMLModel",
     "state": {
      "_dom_classes": [],
      "_model_module": "@jupyter-widgets/controls",
      "_model_module_version": "1.5.0",
      "_model_name": "HTMLModel",
      "_view_count": null,
      "_view_module": "@jupyter-widgets/controls",
      "_view_module_version": "1.5.0",
      "_view_name": "HTMLView",
      "description": "",
      "description_tooltip": null,
      "layout": "IPY_MODEL_848708746a4b4b1b9f38595b3bebd968",
      "placeholder": "​",
      "style": "IPY_MODEL_2fe061c27c994bf786f084cc540a43a2",
      "value": " 400/400 [01:03&lt;00:00,  6.48it/s]"
     }
    },
    "6997a1fcc33e4d63a6f3afd3069b8f44": {
     "model_module": "@jupyter-widgets/controls",
     "model_module_version": "1.5.0",
     "model_name": "DescriptionStyleModel",
     "state": {
      "_model_module": "@jupyter-widgets/controls",
      "_model_module_version": "1.5.0",
      "_model_name": "DescriptionStyleModel",
      "_view_count": null,
      "_view_module": "@jupyter-widgets/base",
      "_view_module_version": "1.2.0",
      "_view_name": "StyleView",
      "description_width": ""
     }
    },
    "6cfd5ecb34af451b90a3ab9bca4da20f": {
     "model_module": "@jupyter-widgets/controls",
     "model_module_version": "1.5.0",
     "model_name": "ProgressStyleModel",
     "state": {
      "_model_module": "@jupyter-widgets/controls",
      "_model_module_version": "1.5.0",
      "_model_name": "ProgressStyleModel",
      "_view_count": null,
      "_view_module": "@jupyter-widgets/base",
      "_view_module_version": "1.2.0",
      "_view_name": "StyleView",
      "bar_color": null,
      "description_width": ""
     }
    },
    "7d03aea6a1b84fcababa1c4647b465c5": {
     "model_module": "@jupyter-widgets/controls",
     "model_module_version": "1.5.0",
     "model_name": "HTMLModel",
     "state": {
      "_dom_classes": [],
      "_model_module": "@jupyter-widgets/controls",
      "_model_module_version": "1.5.0",
      "_model_name": "HTMLModel",
      "_view_count": null,
      "_view_module": "@jupyter-widgets/controls",
      "_view_module_version": "1.5.0",
      "_view_name": "HTMLView",
      "description": "",
      "description_tooltip": null,
      "layout": "IPY_MODEL_9b292b7d3b6e4ede9dd0baa68dd89d03",
      "placeholder": "​",
      "style": "IPY_MODEL_a834b3ee45ab4085bf679bbbd511532a",
      "value": "Running for 400 iterations: 100%"
     }
    },
    "848708746a4b4b1b9f38595b3bebd968": {
     "model_module": "@jupyter-widgets/base",
     "model_module_version": "1.2.0",
     "model_name": "LayoutModel",
     "state": {
      "_model_module": "@jupyter-widgets/base",
      "_model_module_version": "1.2.0",
      "_model_name": "LayoutModel",
      "_view_count": null,
      "_view_module": "@jupyter-widgets/base",
      "_view_module_version": "1.2.0",
      "_view_name": "LayoutView",
      "align_content": null,
      "align_items": null,
      "align_self": null,
      "border": null,
      "bottom": null,
      "display": null,
      "flex": null,
      "flex_flow": null,
      "grid_area": null,
      "grid_auto_columns": null,
      "grid_auto_flow": null,
      "grid_auto_rows": null,
      "grid_column": null,
      "grid_gap": null,
      "grid_row": null,
      "grid_template_areas": null,
      "grid_template_columns": null,
      "grid_template_rows": null,
      "height": null,
      "justify_content": null,
      "justify_items": null,
      "left": null,
      "margin": null,
      "max_height": null,
      "max_width": null,
      "min_height": null,
      "min_width": null,
      "object_fit": null,
      "object_position": null,
      "order": null,
      "overflow": null,
      "overflow_x": null,
      "overflow_y": null,
      "padding": null,
      "right": null,
      "top": null,
      "visibility": null,
      "width": null
     }
    },
    "8873e65ce0654cabb4e125cc1aab0a9b": {
     "model_module": "@jupyter-widgets/base",
     "model_module_version": "1.2.0",
     "model_name": "LayoutModel",
     "state": {
      "_model_module": "@jupyter-widgets/base",
      "_model_module_version": "1.2.0",
      "_model_name": "LayoutModel",
      "_view_count": null,
      "_view_module": "@jupyter-widgets/base",
      "_view_module_version": "1.2.0",
      "_view_name": "LayoutView",
      "align_content": null,
      "align_items": null,
      "align_self": null,
      "border": null,
      "bottom": null,
      "display": null,
      "flex": null,
      "flex_flow": null,
      "grid_area": null,
      "grid_auto_columns": null,
      "grid_auto_flow": null,
      "grid_auto_rows": null,
      "grid_column": null,
      "grid_gap": null,
      "grid_row": null,
      "grid_template_areas": null,
      "grid_template_columns": null,
      "grid_template_rows": null,
      "height": null,
      "justify_content": null,
      "justify_items": null,
      "left": null,
      "margin": null,
      "max_height": null,
      "max_width": null,
      "min_height": null,
      "min_width": null,
      "object_fit": null,
      "object_position": null,
      "order": null,
      "overflow": null,
      "overflow_x": null,
      "overflow_y": null,
      "padding": null,
      "right": null,
      "top": null,
      "visibility": null,
      "width": null
     }
    },
    "8e2a2bfaa3e543e9842ced42f20aaa23": {
     "model_module": "@jupyter-widgets/base",
     "model_module_version": "1.2.0",
     "model_name": "LayoutModel",
     "state": {
      "_model_module": "@jupyter-widgets/base",
      "_model_module_version": "1.2.0",
      "_model_name": "LayoutModel",
      "_view_count": null,
      "_view_module": "@jupyter-widgets/base",
      "_view_module_version": "1.2.0",
      "_view_name": "LayoutView",
      "align_content": null,
      "align_items": null,
      "align_self": null,
      "border": null,
      "bottom": null,
      "display": null,
      "flex": null,
      "flex_flow": null,
      "grid_area": null,
      "grid_auto_columns": null,
      "grid_auto_flow": null,
      "grid_auto_rows": null,
      "grid_column": null,
      "grid_gap": null,
      "grid_row": null,
      "grid_template_areas": null,
      "grid_template_columns": null,
      "grid_template_rows": null,
      "height": null,
      "justify_content": null,
      "justify_items": null,
      "left": null,
      "margin": null,
      "max_height": null,
      "max_width": null,
      "min_height": null,
      "min_width": null,
      "object_fit": null,
      "object_position": null,
      "order": null,
      "overflow": null,
      "overflow_x": null,
      "overflow_y": null,
      "padding": null,
      "right": null,
      "top": null,
      "visibility": null,
      "width": null
     }
    },
    "9b292b7d3b6e4ede9dd0baa68dd89d03": {
     "model_module": "@jupyter-widgets/base",
     "model_module_version": "1.2.0",
     "model_name": "LayoutModel",
     "state": {
      "_model_module": "@jupyter-widgets/base",
      "_model_module_version": "1.2.0",
      "_model_name": "LayoutModel",
      "_view_count": null,
      "_view_module": "@jupyter-widgets/base",
      "_view_module_version": "1.2.0",
      "_view_name": "LayoutView",
      "align_content": null,
      "align_items": null,
      "align_self": null,
      "border": null,
      "bottom": null,
      "display": null,
      "flex": null,
      "flex_flow": null,
      "grid_area": null,
      "grid_auto_columns": null,
      "grid_auto_flow": null,
      "grid_auto_rows": null,
      "grid_column": null,
      "grid_gap": null,
      "grid_row": null,
      "grid_template_areas": null,
      "grid_template_columns": null,
      "grid_template_rows": null,
      "height": null,
      "justify_content": null,
      "justify_items": null,
      "left": null,
      "margin": null,
      "max_height": null,
      "max_width": null,
      "min_height": null,
      "min_width": null,
      "object_fit": null,
      "object_position": null,
      "order": null,
      "overflow": null,
      "overflow_x": null,
      "overflow_y": null,
      "padding": null,
      "right": null,
      "top": null,
      "visibility": null,
      "width": null
     }
    },
    "9cfd93f3d6d9484d9ce33feba23c5ca6": {
     "model_module": "@jupyter-widgets/base",
     "model_module_version": "1.2.0",
     "model_name": "LayoutModel",
     "state": {
      "_model_module": "@jupyter-widgets/base",
      "_model_module_version": "1.2.0",
      "_model_name": "LayoutModel",
      "_view_count": null,
      "_view_module": "@jupyter-widgets/base",
      "_view_module_version": "1.2.0",
      "_view_name": "LayoutView",
      "align_content": null,
      "align_items": null,
      "align_self": null,
      "border": null,
      "bottom": null,
      "display": null,
      "flex": null,
      "flex_flow": null,
      "grid_area": null,
      "grid_auto_columns": null,
      "grid_auto_flow": null,
      "grid_auto_rows": null,
      "grid_column": null,
      "grid_gap": null,
      "grid_row": null,
      "grid_template_areas": null,
      "grid_template_columns": null,
      "grid_template_rows": null,
      "height": null,
      "justify_content": null,
      "justify_items": null,
      "left": null,
      "margin": null,
      "max_height": null,
      "max_width": null,
      "min_height": null,
      "min_width": null,
      "object_fit": null,
      "object_position": null,
      "order": null,
      "overflow": null,
      "overflow_x": null,
      "overflow_y": null,
      "padding": null,
      "right": null,
      "top": null,
      "visibility": null,
      "width": null
     }
    },
    "a834b3ee45ab4085bf679bbbd511532a": {
     "model_module": "@jupyter-widgets/controls",
     "model_module_version": "1.5.0",
     "model_name": "DescriptionStyleModel",
     "state": {
      "_model_module": "@jupyter-widgets/controls",
      "_model_module_version": "1.5.0",
      "_model_name": "DescriptionStyleModel",
      "_view_count": null,
      "_view_module": "@jupyter-widgets/base",
      "_view_module_version": "1.2.0",
      "_view_name": "StyleView",
      "description_width": ""
     }
    },
    "b22b71cc64ea4349a1da8c7ed270c2f7": {
     "model_module": "@jupyter-widgets/base",
     "model_module_version": "1.2.0",
     "model_name": "LayoutModel",
     "state": {
      "_model_module": "@jupyter-widgets/base",
      "_model_module_version": "1.2.0",
      "_model_name": "LayoutModel",
      "_view_count": null,
      "_view_module": "@jupyter-widgets/base",
      "_view_module_version": "1.2.0",
      "_view_name": "LayoutView",
      "align_content": null,
      "align_items": null,
      "align_self": null,
      "border": null,
      "bottom": null,
      "display": null,
      "flex": null,
      "flex_flow": null,
      "grid_area": null,
      "grid_auto_columns": null,
      "grid_auto_flow": null,
      "grid_auto_rows": null,
      "grid_column": null,
      "grid_gap": null,
      "grid_row": null,
      "grid_template_areas": null,
      "grid_template_columns": null,
      "grid_template_rows": null,
      "height": null,
      "justify_content": null,
      "justify_items": null,
      "left": null,
      "margin": null,
      "max_height": null,
      "max_width": null,
      "min_height": null,
      "min_width": null,
      "object_fit": null,
      "object_position": null,
      "order": null,
      "overflow": null,
      "overflow_x": null,
      "overflow_y": null,
      "padding": null,
      "right": null,
      "top": null,
      "visibility": null,
      "width": null
     }
    },
    "e16ff3ac066446c386bb2ef4f22853db": {
     "model_module": "@jupyter-widgets/controls",
     "model_module_version": "1.5.0",
     "model_name": "HBoxModel",
     "state": {
      "_dom_classes": [],
      "_model_module": "@jupyter-widgets/controls",
      "_model_module_version": "1.5.0",
      "_model_name": "HBoxModel",
      "_view_count": null,
      "_view_module": "@jupyter-widgets/controls",
      "_view_module_version": "1.5.0",
      "_view_name": "HBoxView",
      "box_style": "",
      "children": [
       "IPY_MODEL_7d03aea6a1b84fcababa1c4647b465c5",
       "IPY_MODEL_06af9c19ba1346a1b68afe30bab79b05",
       "IPY_MODEL_6537c03b0ede45fc95db6550b1c8744e"
      ],
      "layout": "IPY_MODEL_8873e65ce0654cabb4e125cc1aab0a9b"
     }
    },
    "e8791107a99f4b1494a6402aeefcc741": {
     "model_module": "@jupyter-widgets/base",
     "model_module_version": "1.2.0",
     "model_name": "LayoutModel",
     "state": {
      "_model_module": "@jupyter-widgets/base",
      "_model_module_version": "1.2.0",
      "_model_name": "LayoutModel",
      "_view_count": null,
      "_view_module": "@jupyter-widgets/base",
      "_view_module_version": "1.2.0",
      "_view_name": "LayoutView",
      "align_content": null,
      "align_items": null,
      "align_self": null,
      "border": null,
      "bottom": null,
      "display": null,
      "flex": null,
      "flex_flow": null,
      "grid_area": null,
      "grid_auto_columns": null,
      "grid_auto_flow": null,
      "grid_auto_rows": null,
      "grid_column": null,
      "grid_gap": null,
      "grid_row": null,
      "grid_template_areas": null,
      "grid_template_columns": null,
      "grid_template_rows": null,
      "height": null,
      "justify_content": null,
      "justify_items": null,
      "left": null,
      "margin": null,
      "max_height": null,
      "max_width": null,
      "min_height": null,
      "min_width": null,
      "object_fit": null,
      "object_position": null,
      "order": null,
      "overflow": null,
      "overflow_x": null,
      "overflow_y": null,
      "padding": null,
      "right": null,
      "top": null,
      "visibility": null,
      "width": null
     }
    },
    "f6d44d8d0a7244819c5c2a27c35917e6": {
     "model_module": "@jupyter-widgets/controls",
     "model_module_version": "1.5.0",
     "model_name": "HBoxModel",
     "state": {
      "_dom_classes": [],
      "_model_module": "@jupyter-widgets/controls",
      "_model_module_version": "1.5.0",
      "_model_name": "HBoxModel",
      "_view_count": null,
      "_view_module": "@jupyter-widgets/controls",
      "_view_module_version": "1.5.0",
      "_view_name": "HBoxView",
      "box_style": "",
      "children": [
       "IPY_MODEL_5fe1ae500ae94305b3a30da55c6f3c13",
       "IPY_MODEL_3f081045001440199e3c2fac97df8ee4",
       "IPY_MODEL_086ee7d87a7d498c8d9e74b7179b8a03"
      ],
      "layout": "IPY_MODEL_9cfd93f3d6d9484d9ce33feba23c5ca6"
     }
    }
   }
  }
 },
 "nbformat": 4,
 "nbformat_minor": 4
}
