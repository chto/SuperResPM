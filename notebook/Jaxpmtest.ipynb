{
 "cells": [
  {
   "cell_type": "code",
   "execution_count": 1,
   "id": "6e8a31dd-5979-4c25-93b2-5a906e6b5a7a",
   "metadata": {},
   "outputs": [
    {
     "name": "stdout",
     "output_type": "stream",
     "text": [
      "jax:    0.5.2\n",
      "jaxlib: 0.5.1\n",
      "numpy:  1.26.4\n",
      "python: 3.10.13 | packaged by conda-forge | (main, Dec 23 2023, 15:36:39) [GCC 12.3.0]\n",
      "device info: Quadro RTX 6000-1, 1 local devices\"\n",
      "process_count: 1\n",
      "platform: uname_result(system='Linux', node='midway3-0284.rcc.local', release='4.18.0-305.3.1.el8.x86_64', version='#1 SMP Tue Jun 1 16:14:33 UTC 2021', machine='x86_64')\n",
      "\n",
      "\n",
      "$ nvidia-smi\n",
      "Mon Apr  7 22:14:41 2025       \n",
      "+---------------------------------------------------------------------------------------+\n",
      "| NVIDIA-SMI 535.161.08             Driver Version: 535.161.08   CUDA Version: 12.2     |\n",
      "|-----------------------------------------+----------------------+----------------------+\n",
      "| GPU  Name                 Persistence-M | Bus-Id        Disp.A | Volatile Uncorr. ECC |\n",
      "| Fan  Temp   Perf          Pwr:Usage/Cap |         Memory-Usage | GPU-Util  Compute M. |\n",
      "|                                         |                      |               MIG M. |\n",
      "|=========================================+======================+======================|\n",
      "|   0  Quadro RTX 6000                On  | 00000000:2F:00.0 Off |                  Off |\n",
      "| N/A   40C    P0              57W / 250W |    339MiB / 24576MiB |      0%      Default |\n",
      "|                                         |                      |                  N/A |\n",
      "+-----------------------------------------+----------------------+----------------------+\n",
      "                                                                                         \n",
      "+---------------------------------------------------------------------------------------+\n",
      "| Processes:                                                                            |\n",
      "|  GPU   GI   CI        PID   Type   Process name                            GPU Memory |\n",
      "|        ID   ID                                                             Usage      |\n",
      "|=======================================================================================|\n",
      "|    0   N/A  N/A   4129677      C   ...to/chto/anaconda/newenv4/bin/python      168MiB |\n",
      "|    0   N/A  N/A   4139837      C   ...to/chto/anaconda/newenv4/bin/python      168MiB |\n",
      "+---------------------------------------------------------------------------------------+\n",
      "\n",
      "Quadro RTX 6000\n"
     ]
    },
    {
     "name": "stderr",
     "output_type": "stream",
     "text": [
      "/project/chto/chto/anaconda/newenv4/lib/python3.10/pty.py:89: RuntimeWarning: os.fork() was called. os.fork() is incompatible with multithreaded code, and JAX is multithreaded, so this will likely lead to a deadlock.\n",
      "  pid, fd = os.forkpty()\n"
     ]
    }
   ],
   "source": [
    "import numpy as np\n",
    "import matplotlib.pyplot as plt \n",
    "import jax\n",
    "import jax.numpy as jnp\n",
    "from jaxpm.growth import (dGf2a, dGfa, growth_factor, growth_factor_second,\n",
    "                          growth_rate, growth_rate_second, dGfa, Gf)\n",
    "from jax import tree\n",
    "from jax import tree\n",
    "from jaxpm.pm import pm_forces\n",
    "from diffrax import ConstantStepSize,  SaveAt, diffeqsolve,StepTo\n",
    "from jaxpm.plotting import plot_fields_single_projection\n",
    "from jaxpm.painting import cic_paint , cic_paint_dx\n",
    "import diffrax\n",
    "#jax.config.update(\"jax_enable_x64\", True)\n",
    "import jax\n",
    "jax.print_environment_info()\n",
    "\n",
    "!nvidia-smi --query-gpu=gpu_name --format=csv,noheader\n",
    "%matplotlib inline \n"
   ]
  },
  {
   "cell_type": "code",
   "execution_count": 2,
   "id": "e8f00b20-c2ff-462d-9394-fa30a163a6c7",
   "metadata": {},
   "outputs": [],
   "source": [
    "from SuperResPM.configure import Configuration"
   ]
  },
  {
   "cell_type": "code",
   "execution_count": 3,
   "id": "a0eea92a-28aa-4671-9366-e767e3e12be3",
   "metadata": {},
   "outputs": [],
   "source": [
    "import matplotlib.pyplot as plt\n",
    "import matplotlib_inline\n",
    "matplotlib_inline.backend_inline.set_matplotlib_formats('jpeg')\n"
   ]
  },
  {
   "cell_type": "code",
   "execution_count": 4,
   "id": "c26c1800-fb11-44a6-a2cb-925cea7ca53f",
   "metadata": {},
   "outputs": [],
   "source": [
    "from SuperResPM.diffrax_helper import FPMODE,FPMLeapFrog,symplectic_ode"
   ]
  },
  {
   "cell_type": "code",
   "execution_count": 5,
   "id": "c05596cb-2803-42cf-9b7a-bb9cd1bca822",
   "metadata": {},
   "outputs": [],
   "source": [
    "cosmo_in = [0.3175, 0.049, 0.6711, 0.9624, 0.834]#Omega_m                 Omega_b                  h                        n_s                      sigma_8\n",
    "import jax_cosmo as jc\n",
    "from diffrax import ConstantStepSize\n",
    "from jaxpm.pm import linear_field, lpt"
   ]
  },
  {
   "cell_type": "markdown",
   "id": "6323d90d-118a-40a2-89b4-1a080829f786",
   "metadata": {},
   "source": [
    "# Tutorial "
   ]
  },
  {
   "cell_type": "markdown",
   "id": "0c56eed0-e7ee-4c8d-95be-09ce0b7527d7",
   "metadata": {},
   "source": [
    "In this set of code, I add a fastPM-like leapfrog solver to diffrax. This solver also allows a gradient calculation with the reversible adjoint method.  \n",
    "\n",
    "The API should be similar to jaxpm with standard diffrax solver. \n",
    "\n",
    "Some additonal modification of APT details below:\n",
    "\n",
    "- This code declares the solver. \n",
    ">>>\n",
    "\n",
    "        ode_fn = tree.map(\n",
    "                FPMODE,\n",
    "                symplectic_ode(mesh_shape, paint_absolute_pos=paint_absolute_pos>0)\n",
    "        )\n",
    "        solver = FPMLeapFrog(initial_t0=initial_t0, final_t1=final_time)\n",
    "        \n",
    "\n",
    "-  In addition to dx and p, we also need the initial force (or acceleration) at the start point. You can get it with pm_force in jaxpm.\n",
    "   Note that the calculation can be slightly different depending on whether you do absolute position or relative position. \n",
    ">>>\n",
    "        if paint_absolute_pos>0:\n",
    "            initforce = pm_forces(\n",
    "                particles+dx,\n",
    "                mesh_shape=mesh_shape,\n",
    "                paint_absolute_pos=paint_absolute_pos>0,\n",
    "            )* 1.5* cosmo.Omega_m\n",
    "        else:\n",
    "            initforce = pm_forces(\n",
    "                dx,\n",
    "                mesh_shape=mesh_shape,\n",
    "                paint_absolute_pos=paint_absolute_pos>0,\n",
    "            )* 1.5* cosmo.Omega_m        \n",
    "        if paint_absolute_pos>0:\n",
    "            y0= jnp.stack([particles+dx, p,initforce], axis=0)\n",
    "        else:\n",
    "            y0= jnp.stack([dx, p,initforce], axis=0)\n",
    "\n",
    "- Also, since jax_cosmo is not a pure function, we have to initialize it first. \n",
    "\n",
    "  >>>\n",
    "    cosmo = jc.Cosmology(Omega_c=cosmo_in[0]-cosmo_in[1], Omega_b=cosmo_in[1], h=cosmo_in[2], sigma8 = cosmo_in[4], n_s=cosmo_in[3],\n",
    "                      Omega_k=0., w0=-1., wa=0.)\n",
    "    ain=np.atleast_1d(1)\n",
    "    _ =  growth_rate_second(cosmo,ain)\n",
    "    _ = growth_rate(cosmo, ain)\n",
    "    _ = growth_factor(cosmo, ain)\n",
    "    jc.background.radial_comoving_distance(cosmo, ain)\n",
    "  >>>\n",
    "\n",
    "- Finally, we can just do the ordinary diffeqsolve. Note that the args value has two zeroes at the end. Those are for bookkeeping reasons. You can put whatever value you want. \n",
    ">>>\n",
    "        res = diffeqsolve(ode_fn,solver,\\\n",
    "                      t0=initial_t0,\\\n",
    "                      t1=final_time,\\\n",
    "                      dt0=dt0,\\\n",
    "                      y0=y0,\n",
    "                      args=[cosmo, cosmo._workspace, initial_t0, conf, 0, 0],\\\n",
    "                      saveat=SaveAt(t1=True),\n",
    "                      stepsize_controller=stepsize_controller,adjoint=diffrax.ReversibleAdjoint())\n",
    "\n",
    "\n",
    "### Content in this notebook. \n",
    "To test the implementation, I did the following tests \n",
    "- 1. Running code two times to test reproducibility\n",
    "  2. Running code forward and backward to test reversibility, which is important for gradient calculation. \n",
    "  3. Optimizing the code to produce faspm universe. This is to check that the overall gradient makes sense.\n",
    "  4. Check against nbosy simulation (Qujote) to make sure that the cosmology calculation is valid.  "
   ]
  },
  {
   "cell_type": "markdown",
   "id": "a2fc3ff6-1d13-49d3-a0a5-a460c2a08772",
   "metadata": {},
   "source": [
    "# Test reproducibility"
   ]
  },
  {
   "cell_type": "code",
   "execution_count": 7,
   "id": "57a1f0b2-020b-44e9-b83e-1855167f22d8",
   "metadata": {},
   "outputs": [],
   "source": [
    "def check_reproducibility(\n",
    "        nmesh,\n",
    "        da,\n",
    "        seed=0,\n",
    "        paint_absolute_pos=0\n",
    "    ):\n",
    "\n",
    "\n",
    "    conf = Configuration(mesh_shape=[nmesh, nmesh, nmesh], \n",
    "                     snapshots= [1],\n",
    "                     BoxSize=[256,256,256], \n",
    "                     initial_t0=1/64,\n",
    "                     final_time = 1,\n",
    "                     density_plane_npix = nmesh,\n",
    "                     dt0=da,\n",
    "                     density_plane_width= 100.0\n",
    "                    )\n",
    "    cosmo = jc.Cosmology(Omega_c=cosmo_in[0]-cosmo_in[1], Omega_b=cosmo_in[1], h=cosmo_in[2], sigma8 = cosmo_in[4], n_s=cosmo_in[3],\n",
    "                      Omega_k=0., w0=-1., wa=0.)\n",
    "    ain=np.atleast_1d(1)\n",
    "    _ =  growth_rate_second(cosmo,ain)\n",
    "    _ = growth_rate(cosmo, ain)\n",
    "    _ = growth_factor(cosmo, ain)\n",
    "    jc.background.radial_comoving_distance(cosmo, ain)\n",
    "    \n",
    "    particles = jnp.stack(jnp.meshgrid(*[jnp.arange(s) for s in conf.mesh_shape]),axis=-1).reshape([-1,3])\n",
    "    k = jnp.logspace(-4, 1, 128)\n",
    "    pk = jc.power.linear_matter_power(cosmo, k)\n",
    "    pk_fn = lambda x: jnp.interp(x.reshape([-1]), k, pk).reshape(x.shape)\n",
    "    # Create initial conditions and particle\n",
    "    initial_conditions = linear_field(conf.mesh_shape, conf.BoxSize, pk_fn, seed=jax.random.PRNGKey(seed))\n",
    "    #@jax.jit\n",
    "    def model(initial_conditions, cosmo, conf, particles,paint_absolute_pos):\n",
    "        mesh_shape = conf.mesh_shape\n",
    "        initial_t0 = conf.initial_t0\n",
    "        final_time = conf.final_time\n",
    "        snapshots = conf.snapshots\n",
    "        nmesh = conf.mesh_shape[0]\n",
    "        dt0 = conf.dt0\n",
    "        if paint_absolute_pos>0:\n",
    "            dx, p, f = lpt(cosmo, initial_conditions, particles, a=conf.initial_t0)\n",
    "        else:\n",
    "            dx, p, f = lpt(cosmo, initial_conditions, a=conf.initial_t0)\n",
    "        ode_fn = tree.map(\n",
    "                FPMODE,\n",
    "                symplectic_ode(mesh_shape, paint_absolute_pos=paint_absolute_pos>0)\n",
    "        )\n",
    "        solver = FPMLeapFrog(initial_t0=initial_t0, final_t1=final_time)\n",
    "\n",
    "        stepsize_controller = ConstantStepSize()\n",
    "        if paint_absolute_pos>0:\n",
    "            initforce = pm_forces(\n",
    "                particles+dx,\n",
    "                mesh_shape=mesh_shape,\n",
    "                paint_absolute_pos=paint_absolute_pos>0,\n",
    "            )* 1.5* cosmo.Omega_m\n",
    "        else:\n",
    "            initforce = pm_forces(\n",
    "                dx,\n",
    "                mesh_shape=mesh_shape,\n",
    "                paint_absolute_pos=paint_absolute_pos>0,\n",
    "            )* 1.5* cosmo.Omega_m        \n",
    "        if paint_absolute_pos>0:\n",
    "            y0= jnp.stack([particles+dx, p,initforce], axis=0)\n",
    "        else:\n",
    "            y0= jnp.stack([dx, p,initforce], axis=0)\n",
    "        res = diffeqsolve(ode_fn,solver,\\\n",
    "                      t0=initial_t0,\\\n",
    "                      t1=final_time,\\\n",
    "                      dt0=dt0,\\\n",
    "                      y0=y0,\n",
    "                      args=[cosmo, cosmo._workspace, initial_t0, conf, 0, 0],\\\n",
    "                      saveat=SaveAt(t1=True),\n",
    "                      stepsize_controller=stepsize_controller,adjoint=diffrax.ReversibleAdjoint())\n",
    "        return res\n",
    "    p1 = model(initial_conditions, cosmo, conf, particles, paint_absolute_pos).ys\n",
    "    p2 = model(initial_conditions, cosmo, conf, particles, paint_absolute_pos).ys\n",
    "    diffpos = np.std(p1[0,0].flatten()-p2[0,0].flatten())/np.std(p1[0,0].flatten())\n",
    "    diffvel = np.std(p1[0,1].flatten()-p2[0,1].flatten())/np.std(p1[0,1].flatten())\n",
    "    print(f\"nmesh: {nmesh}, timestep: {da :3}\", f'rel error in pos: {diffpos}, vel:{diffvel}')\n",
    "    return p1, p2\n"
   ]
  },
  {
   "cell_type": "code",
   "execution_count": null,
   "id": "dc1e5756-44aa-40db-b36d-3bfdba00b698",
   "metadata": {},
   "outputs": [],
   "source": []
  },
  {
   "cell_type": "code",
   "execution_count": 8,
   "id": "5f3b8328-9355-42df-937a-d9bf36d3bbd4",
   "metadata": {},
   "outputs": [],
   "source": [
    "nmesh=64\n",
    "conf = Configuration(mesh_shape=[nmesh, nmesh, nmesh], \n",
    "                     snapshots= [1],\n",
    "                     BoxSize=[256,256,256], \n",
    "                     initial_t0=1/64,\n",
    "                     final_time = 1,\n",
    "                     density_plane_npix = nmesh,\n",
    "                     dt0=0.1,\n",
    "                     density_plane_width= 100.0\n",
    "                    )"
   ]
  },
  {
   "cell_type": "code",
   "execution_count": 8,
   "id": "d83253d2-93ce-48e9-8313-613976e144be",
   "metadata": {},
   "outputs": [],
   "source": [
    "particles = jnp.stack(jnp.meshgrid(*[jnp.arange(s) for s in conf.mesh_shape]),axis=-1).reshape([-1,3])"
   ]
  },
  {
   "cell_type": "code",
   "execution_count": 9,
   "id": "2b490859-287f-433f-a53b-b498d1056cf0",
   "metadata": {},
   "outputs": [
    {
     "name": "stderr",
     "output_type": "stream",
     "text": [
      "/project/chto/chto/anaconda/newenv4/lib/python3.10/site-packages/jax/_src/numpy/array_methods.py:122: UserWarning: Explicitly requested dtype <class 'jax.numpy.int64'> requested in astype is not available, and will be truncated to dtype int32. To enable more dtypes, set the jax_enable_x64 configuration option or the JAX_ENABLE_X64 shell environment variable. See https://github.com/jax-ml/jax#current-gotchas for more.\n",
      "  return lax_numpy.astype(self, dtype, copy=copy, device=device)\n"
     ]
    },
    {
     "name": "stdout",
     "output_type": "stream",
     "text": [
      "nmesh: 64, timestep: 0.01 rel error in pos: 1.1569404279043738e-07, vel:1.3421469020613586e-06\n"
     ]
    }
   ],
   "source": [
    "p1, p2 = check_reproducibility(nmesh=64, da=0.01, paint_absolute_pos=1)"
   ]
  },
  {
   "cell_type": "code",
   "execution_count": 10,
   "id": "0b6a90af-dd79-4b9e-b602-527e806c2cd0",
   "metadata": {},
   "outputs": [
    {
     "name": "stdout",
     "output_type": "stream",
     "text": [
      "nmesh: 64, timestep: 0.01 rel error in pos: 4.303087553125806e-05, vel:6.014339305693284e-05\n"
     ]
    }
   ],
   "source": [
    "p3,p4 = check_reproducibility(nmesh=64, da=0.01, paint_absolute_pos=0)"
   ]
  },
  {
   "cell_type": "code",
   "execution_count": 11,
   "id": "19ad95e8-82cf-4c26-89c8-8e905c6ce3b5",
   "metadata": {},
   "outputs": [
    {
     "data": {
      "image/jpeg": "[encoded data removed]",
      "text/plain": [
       "<Figure size 2000x500 with 2 Axes>"
      ]
     },
     "metadata": {},
     "output_type": "display_data"
    }
   ],
   "source": [
    "mesh_shape = [64,64,64]\n",
    "\n",
    "fields = {\"ab pos\" : cic_paint(jnp.zeros(mesh_shape),p1[0][0]),\"no ab pos\" : cic_paint_dx(p3[0][0])}\n",
    "plot_fields_single_projection(fields)"
   ]
  },
  {
   "cell_type": "code",
   "execution_count": null,
   "id": "048a5438-0384-46e1-b210-f528c94174ca",
   "metadata": {},
   "outputs": [],
   "source": []
  },
  {
   "cell_type": "code",
   "execution_count": 12,
   "id": "d0e4851a-0a3b-4daa-8d78-47678a06ffed",
   "metadata": {},
   "outputs": [],
   "source": [
    "#Test Reversibility"
   ]
  },
  {
   "cell_type": "code",
   "execution_count": 6,
   "id": "0c7b93d7-fa0d-41e7-b88e-ceb74159e2ca",
   "metadata": {},
   "outputs": [],
   "source": [
    "def check_reverse(\n",
    "        nmesh,\n",
    "        da,\n",
    "        seed=0,\n",
    "        paint_absolute_pos=0\n",
    "    ):\n",
    "\n",
    "\n",
    "    conf = Configuration(mesh_shape=[nmesh, nmesh, nmesh], \n",
    "                     snapshots= [1],\n",
    "                     BoxSize=[256,256,256], \n",
    "                     initial_t0=1/64.,\n",
    "                     final_time = 1.0,\n",
    "                     density_plane_npix = nmesh,\n",
    "                     dt0=da,\n",
    "                     density_plane_width= 100.0\n",
    "            )\n",
    "    conf_inv = Configuration(mesh_shape=[nmesh, nmesh, nmesh], \n",
    "                     snapshots= [1],\n",
    "                     BoxSize=[256,256,256], \n",
    "                     initial_t0=1.0,\n",
    "                     final_time =1/64.,\n",
    "                     density_plane_npix = nmesh,\n",
    "                     dt0=-1*da,\n",
    "                     density_plane_width= 100.0\n",
    "             )\n",
    "    cosmo = jc.Cosmology(Omega_c=cosmo_in[0]-cosmo_in[1], Omega_b=cosmo_in[1], h=cosmo_in[2], sigma8 = cosmo_in[4], n_s=cosmo_in[3],\n",
    "                      Omega_k=0., w0=-1., wa=0.)\n",
    "    ain = np.atleast_1d(1)\n",
    "    _ =  growth_rate_second(cosmo,ain)\n",
    "    _ = growth_rate(cosmo, ain)\n",
    "    _ = growth_factor(cosmo, ain)\n",
    "    jc.background.radial_comoving_distance(cosmo, ain)\n",
    "    \n",
    "    particles = jnp.stack(jnp.meshgrid(*[jnp.arange(s) for s in conf.mesh_shape]),axis=-1).reshape([-1,3])\n",
    "    k = jnp.logspace(-4, 1, 128)\n",
    "    pk = jc.power.linear_matter_power(cosmo, k)\n",
    "    pk_fn = lambda x: jnp.interp(x.reshape([-1]), k, pk).reshape(x.shape)\n",
    "    \n",
    "    # Create initial conditions and particle\n",
    "    initial_conditions = linear_field(conf.mesh_shape, conf.BoxSize, pk_fn, seed=jax.random.PRNGKey(seed))\n",
    "    #@jax.jit\n",
    "    def model(initial_conditions, cosmo, conf, conf_inv, particles,paint_absolute_pos):\n",
    "        mesh_shape = conf.mesh_shape\n",
    "        initial_t0 = conf.initial_t0\n",
    "        final_time = conf.final_time\n",
    "        snapshots = conf.snapshots\n",
    "        nmesh = conf.mesh_shape[0]\n",
    "        dt0 = conf.dt0\n",
    "        if paint_absolute_pos>0:\n",
    "            dx, p, f = lpt(cosmo, initial_conditions, particles, a=conf.initial_t0)\n",
    "        else:\n",
    "            dx, p, f = lpt(cosmo, initial_conditions, a=conf.initial_t0)\n",
    "        ode_fn = tree.map(\n",
    "                FPMODE,\n",
    "                symplectic_ode(mesh_shape, paint_absolute_pos=paint_absolute_pos>0)\n",
    "        )\n",
    "        solver = FPMLeapFrog(initial_t0=initial_t0, final_t1=final_time)\n",
    "        solver_rev = FPMLeapFrog(initial_t0=final_time, final_t1=initial_t0)\n",
    "\n",
    "        if paint_absolute_pos>0:\n",
    "            initforce = pm_forces(\n",
    "                particles+dx,\n",
    "                mesh_shape=mesh_shape,\n",
    "                paint_absolute_pos=paint_absolute_pos>0,\n",
    "            )* 1.5* cosmo.Omega_m\n",
    "        else:\n",
    "            initforce = pm_forces(\n",
    "                dx,\n",
    "                mesh_shape=mesh_shape,\n",
    "                paint_absolute_pos=paint_absolute_pos>0,\n",
    "            )* 1.5* cosmo.Omega_m        \n",
    "        if paint_absolute_pos>0:\n",
    "            y0= jnp.stack([particles+dx, p,initforce], axis=0)\n",
    "        else:\n",
    "            y0= jnp.stack([dx, p,initforce], axis=0)\n",
    "\n",
    "\n",
    "        step_num=jnp.ceil((conf.final_time - conf.initial_t0) / dt0)\n",
    "        tseris = np.linspace(conf.initial_t0,conf.final_time, num=1+int(step_num))\n",
    "        \n",
    "        tseris_inv = tseris[::-1]\n",
    "        stepsize_controller = StepTo(tseris)\n",
    "        stepsize_controller_inv = StepTo(tseris_inv)\n",
    "\n",
    "        res = diffeqsolve(ode_fn,solver,\\\n",
    "                      t0=initial_t0,\\\n",
    "                      t1=final_time,\\\n",
    "                      dt0=None,\\\n",
    "                      y0=y0,\n",
    "                      args=[cosmo, cosmo._workspace, initial_t0, conf, 0, 0],\\\n",
    "                      saveat=SaveAt(ts=[final_time]),\n",
    "                      stepsize_controller=stepsize_controller,adjoint=diffrax.ReversibleAdjoint())\n",
    "        \n",
    "        res2 = diffeqsolve(ode_fn,solver_rev ,\\\n",
    "                      t0=final_time,\\\n",
    "                      t1=initial_t0,\\\n",
    "                      dt0=None,\\\n",
    "                      y0=res.ys[0],\n",
    "                      args=[cosmo, cosmo._workspace, final_time, conf_inv, 0, 0],\\\n",
    "                      saveat=SaveAt(ts=[initial_t0]),\n",
    "                      stepsize_controller=stepsize_controller_inv,adjoint=diffrax.ReversibleAdjoint())\n",
    "        \n",
    "        return res2, res,y0\n",
    "        \n",
    "    p1old, p11, p2 = model(initial_conditions, cosmo, conf, conf_inv,particles, paint_absolute_pos)\n",
    "    p1 = p1old.ys[0]\n",
    "    diffpos = np.std(p1[0].flatten()-p2[0].flatten())/np.std(p1[0].flatten())\n",
    "    diffvel = np.std(p1[1].flatten()-p2[1].flatten())/np.std(p1[1].flatten())\n",
    "    print(f\"nmesh: {nmesh}, timestep: {da :3}\", f'rel error in pos: {diffpos}, vel:{diffvel}')\n",
    "    return p1old, p11,p2\n"
   ]
  },
  {
   "cell_type": "code",
   "execution_count": 7,
   "id": "ba21f772-3394-46fa-88e8-cabe35070624",
   "metadata": {},
   "outputs": [
    {
     "name": "stderr",
     "output_type": "stream",
     "text": [
      "/project/chto/chto/anaconda/newenv4/lib/python3.10/site-packages/jax/_src/numpy/array_methods.py:122: UserWarning: Explicitly requested dtype <class 'jax.numpy.int64'> requested in astype is not available, and will be truncated to dtype int32. To enable more dtypes, set the jax_enable_x64 configuration option or the JAX_ENABLE_X64 shell environment variable. See https://github.com/jax-ml/jax#current-gotchas for more.\n",
      "  return lax_numpy.astype(self, dtype, copy=copy, device=device)\n"
     ]
    },
    {
     "name": "stdout",
     "output_type": "stream",
     "text": [
      "nmesh: 64, timestep: 0.01 rel error in pos: 0.00819802563637495, vel:0.024429699406027794\n"
     ]
    }
   ],
   "source": [
    "backward, middle, init = check_reverse(nmesh=64, da=0.01, paint_absolute_pos=0)"
   ]
  },
  {
   "cell_type": "code",
   "execution_count": 15,
   "id": "cd66b0b3-1b26-451f-a5bc-a34b07cc45e5",
   "metadata": {},
   "outputs": [
    {
     "data": {
      "image/jpeg": "[encoded data removed]",
      "text/plain": [
       "<Figure size 2000x500 with 3 Axes>"
      ]
     },
     "metadata": {},
     "output_type": "display_data"
    }
   ],
   "source": [
    "fields = {\"init\" : cic_paint_dx(init[0]), \"backward\" : cic_paint_dx(backward.ys[0][0]), \"forward\" : cic_paint_dx(middle.ys[0][0])}\n",
    "plot_fields_single_projection(fields)"
   ]
  },
  {
   "cell_type": "markdown",
   "id": "16f924c2-cd1d-4d03-a783-3b3780edcf0f",
   "metadata": {},
   "source": [
    "# Check whether I can produce jaxpm universe"
   ]
  },
  {
   "cell_type": "code",
   "execution_count": 6,
   "id": "a512f618-629c-4444-ba5b-9558bfd30f54",
   "metadata": {},
   "outputs": [],
   "source": [
    "from PIL import Image, ImageFont, ImageDraw\n",
    "nmesh=256\n",
    "\n",
    "text = 'jaxpm'\n",
    "\n",
    "ptcl_spacing = 10.\n",
    "ptcl_grid_shape = (nmesh, nmesh, nmesh)\n",
    "mesh_shape = (nmesh,nmesh,nmesh)\n",
    "im_shape = (nmesh,nmesh)\n",
    "xy = (int(nmesh/2), int(nmesh/2))\n",
    "\n",
    "im = Image.new('L', im_shape[::-1], 255)\n",
    "draw = ImageDraw.Draw(im)\n",
    "fontsize=20\n",
    "draw.text(xy, text, anchor='mm',font = ImageFont.truetype(\"/home/chto/code/pmwd/docs/nova/NovaRoundSlim-BookOblique.ttf\",size=80)\n",
    ")\n",
    "\n",
    "# normalize the image to make the target\n",
    "im_tgt = 1 - jnp.asarray(im) / 255\n",
    "im_tgt *= jnp.prod(jnp.array(ptcl_grid_shape)) / im_tgt.sum()\n",
    "im_tgt= im_tgt/im_tgt.sum()-1\n"
   ]
  },
  {
   "cell_type": "code",
   "execution_count": 7,
   "id": "34559421-c24c-4fb5-9110-044d19fc1d42",
   "metadata": {},
   "outputs": [
    {
     "data": {
      "text/plain": [
       "<matplotlib.image.AxesImage at 0x7f0b1e714e50>"
      ]
     },
     "execution_count": 7,
     "metadata": {},
     "output_type": "execute_result"
    },
    {
     "data": {
      "image/jpeg": "[encoded data removed]",
      "text/plain": [
       "<Figure size 640x480 with 1 Axes>"
      ]
     },
     "metadata": {},
     "output_type": "display_data"
    }
   ],
   "source": [
    "plt.imshow(im_tgt)"
   ]
  },
  {
   "cell_type": "code",
   "execution_count": 8,
   "id": "e02547f7-2332-4378-a9c3-3bf1cd3c6903",
   "metadata": {},
   "outputs": [],
   "source": [
    "from jaxpm.painting import cic_paint_2d\n",
    "def density_plane_fn(t, y, args):\n",
    "    cosmo, config = args\n",
    "    positions = y\n",
    "    nc = config.mesh_shape\n",
    "    nx, ny, nz = nc\n",
    "    density_plane_npix= config.density_plane_npix\n",
    "    density_plane_width = config.density_plane_width\n",
    "    # Converts time t to comoving distance in voxel coordinates\n",
    "    w = density_plane_width /config.BoxSize[2] * nc[2]\n",
    "    center = 16 #jc.background.radial_comoving_distance(cosmo, t) / config['BoxSize'][2] * nc[2]\n",
    "\n",
    "    xy = positions[..., :2]\n",
    "    d = positions[..., 2]\n",
    "\n",
    "    # Apply 2d periodic conditions\n",
    "    xy = jnp.mod(xy, nx)\n",
    "\n",
    "    # Rescaling positions to target grid\n",
    "    xy = xy / nx * density_plane_npix\n",
    "\n",
    "    # Selecting only particles that fall inside the volume of interest\n",
    "    weight = jnp.where((d > (center - w / 2)) & (d <= (center + w / 2)), 1., 0.)\n",
    "\n",
    "    # Painting density plane\n",
    "    density_plane = cic_paint_2d(jnp.zeros([density_plane_npix, density_plane_npix]), xy, weight)\n",
    "\n",
    "    # Apply density normalization\n",
    "    density_plane = density_plane / ((nx / density_plane_npix) *\n",
    "                                     (ny / density_plane_npix) * w)\n",
    "\n",
    "    return density_plane\n",
    "import equinox as eqx\n"
   ]
  },
  {
   "cell_type": "code",
   "execution_count": 9,
   "id": "1f6b196f-5fc5-4a44-aa25-4dc51496a008",
   "metadata": {},
   "outputs": [
    {
     "name": "stderr",
     "output_type": "stream",
     "text": [
      "/project/chto/chto/anaconda/newenv4/lib/python3.10/site-packages/jax/_src/numpy/array_methods.py:122: UserWarning: Explicitly requested dtype <class 'jax.numpy.int64'> requested in astype is not available, and will be truncated to dtype int32. To enable more dtypes, set the jax_enable_x64 configuration option or the JAX_ENABLE_X64 shell environment variable. See https://github.com/jax-ml/jax#current-gotchas for more.\n",
      "  return lax_numpy.astype(self, dtype, copy=copy, device=device)\n"
     ]
    }
   ],
   "source": [
    "nmesh = 256\n",
    "da = 0.1\n",
    "seed=0 \n",
    "\n",
    "\n",
    "conf = Configuration(mesh_shape=[nmesh, nmesh, nmesh], \n",
    "                 snapshots= [1],\n",
    "                 BoxSize=[256,256,256], \n",
    "                 initial_t0=1/64,\n",
    "                 final_time = 1,\n",
    "                 density_plane_npix = nmesh,\n",
    "                 dt0=da,\n",
    "                 density_plane_width= 100.0\n",
    "                )\n",
    "cosmo = jc.Cosmology(Omega_c=cosmo_in[0]-cosmo_in[1], Omega_b=cosmo_in[1], h=cosmo_in[2], sigma8 = cosmo_in[4], n_s=cosmo_in[3],\n",
    "                  Omega_k=0., w0=-1., wa=0.)\n",
    "ain=np.atleast_1d(1)\n",
    "_ =  growth_rate_second(cosmo,ain)\n",
    "_ = growth_rate(cosmo, ain)\n",
    "_ = growth_factor(cosmo, ain)\n",
    "jc.background.radial_comoving_distance(cosmo, ain)\n",
    "\n",
    "k = jnp.logspace(-4, 1, 128)\n",
    "pk = jc.power.linear_matter_power(cosmo, k)\n",
    "pk_fn = lambda x: jnp.interp(x.reshape([-1]), k, pk).reshape(x.shape)\n",
    "# Create initial conditions and particle\n",
    "initial_conditions = linear_field(conf.mesh_shape, conf.BoxSize, pk_fn, seed=jax.random.PRNGKey(seed))\n",
    "@jax.jit\n",
    "def model(initial_conditions, cosmo, conf,):\n",
    "    mesh_shape = conf.mesh_shape\n",
    "    initial_t0 = conf.initial_t0\n",
    "    final_time = conf.final_time\n",
    "    snapshots = conf.snapshots\n",
    "    nmesh = conf.mesh_shape[0]\n",
    "    dt0 = conf.dt0\n",
    "    dx, p, f = lpt(cosmo, initial_conditions, a=conf.initial_t0)\n",
    "    ode_fn = tree.map(\n",
    "            FPMODE,\n",
    "            symplectic_ode(mesh_shape, paint_absolute_pos=False)\n",
    "    )\n",
    "    solver = FPMLeapFrog(initial_t0=initial_t0, final_t1=final_time)\n",
    "    stepsize_controller = ConstantStepSize()\n",
    "\n",
    "    initforce = pm_forces(\n",
    "        dx,\n",
    "        mesh_shape=mesh_shape,\n",
    "        paint_absolute_pos=False,\n",
    "    )* 1.5* cosmo.Omega_m        \n",
    "    \n",
    "    y0= jnp.stack([dx, p,initforce], axis=0)\n",
    "    res = diffeqsolve(ode_fn,solver,\\\n",
    "                  t0=initial_t0,\\\n",
    "                  t1=final_time,\\\n",
    "                  dt0=dt0,\\\n",
    "                  y0=y0,\n",
    "                  args=[cosmo, cosmo._workspace, initial_t0, conf, 0, 0],\\\n",
    "                  saveat=SaveAt(t1=True),\n",
    "                  stepsize_controller=stepsize_controller,adjoint=diffrax.ReversibleAdjoint())\n",
    "\n",
    "    a, b, c = jnp.meshgrid(jnp.arange(conf.mesh_shape[0]),\n",
    "                           jnp.arange(conf.mesh_shape[1]),\n",
    "                           jnp.arange(conf.mesh_shape[2]),\n",
    "                           indexing='ij')\n",
    "    pmid = jnp.stack([a , b , c], axis=-1)\n",
    "    \n",
    "    res2 = density_plane_fn(res.ts[-1], (pmid+res.ys[0][0]).reshape(-1,3), [cosmo,conf])\n",
    "    return res2/np.sum(res2)-1\n",
    "p1 = model(initial_conditions, cosmo, conf)\n"
   ]
  },
  {
   "cell_type": "code",
   "execution_count": 10,
   "id": "c20a88b8-2f96-438f-a0b0-4a1a2f0bdcdb",
   "metadata": {},
   "outputs": [
    {
     "data": {
      "text/plain": [
       "<matplotlib.image.AxesImage at 0x7f0ac015f5e0>"
      ]
     },
     "execution_count": 10,
     "metadata": {},
     "output_type": "execute_result"
    },
    {
     "data": {
      "image/jpeg": "[encoded data removed]",
      "text/plain": [
       "<Figure size 640x480 with 1 Axes>"
      ]
     },
     "metadata": {},
     "output_type": "display_data"
    }
   ],
   "source": [
    "plt.imshow(p1)"
   ]
  },
  {
   "cell_type": "code",
   "execution_count": 11,
   "id": "4d4109b0-1681-4374-9af9-d636d2a550e1",
   "metadata": {},
   "outputs": [],
   "source": [
    "from tqdm import tqdm\n",
    "from jax.example_libraries.optimizers import adam\n",
    "from jax import value_and_grad\n",
    "def obj(initial_conditions):\n",
    "    dens = model(initial_conditions, cosmo, conf)\n",
    "    \n",
    "    return (dens - im_tgt).var() / im_tgt.var()\n",
    "    \n",
    "obj_valgrad = jax.jit(jax.value_and_grad(obj))"
   ]
  },
  {
   "cell_type": "code",
   "execution_count": 13,
   "id": "a7b6fcda-6f92-492d-81ea-b3a48d36125e",
   "metadata": {},
   "outputs": [
    {
     "name": "stdout",
     "output_type": "stream",
     "text": [
      " "
     ]
    },
    {
     "data": {
      "text/plain": [
       "         1869 function calls (1867 primitive calls) in 2.698 seconds\n",
       "\n",
       "   Ordered by: internal time\n",
       "\n",
       "   ncalls  tottime  percall  cumtime  percall filename:lineno(function)\n",
       "        1    2.520    2.520    2.520    2.520 pxla.py:1277(__call__)\n",
       "        1    0.176    0.176    0.176    0.176 pxla.py:2649(_get_layouts_from_executable)\n",
       "        3    0.000    0.000    0.000    0.000 {built-in method fromkeys}\n",
       "        1    0.000    0.000    0.000    0.000 pxla.py:2464(get_out_shardings_from_executable)\n",
       "        1    0.000    0.000    0.001    0.001 pxla.py:2208(lower_sharding_computation)\n",
       "     1032    0.000    0.000    0.000    0.000 {built-in method builtins.isinstance}\n",
       "        1    0.000    0.000    0.176    0.176 pxla.py:2899(from_hlo)\n",
       "        1    0.000    0.000    0.000    0.000 pjit.py:701(_infer_params)\n",
       "        1    0.000    0.000    0.000    0.000 pxla.py:1725(_get_and_check_device_assignment)\n",
       "        1    0.000    0.000    2.698    2.698 <string>:1(<module>)\n",
       "      188    0.000    0.000    0.000    0.000 pxla.py:2277(<genexpr>)\n",
       "        1    0.000    0.000    2.698    2.698 pjit.py:179(_python_pjit_helper)\n",
       "      190    0.000    0.000    0.000    0.000 pxla.py:2313(<genexpr>)\n",
       "        1    0.000    0.000    0.000    0.000 pxla.py:2007(are_all_shardings_default_mem_kind)\n",
       "        2    0.000    0.000    0.000    0.000 pxla.py:2611(maybe_recover_user_shardings)\n",
       "        1    0.000    0.000    2.698    2.698 {built-in method builtins.exec}\n",
       "        1    0.000    0.000    0.000    0.000 array.py:1202(_array_shard_arg)\n",
       "        8    0.000    0.000    0.000    0.000 config.py:218(trace_context)\n",
       "        5    0.000    0.000    0.000    0.000 util.py:298(wrapper)\n",
       "        1    0.000    0.000    0.000    0.000 pxla.py:2093(_get_num_devices)\n",
       "      3/2    0.000    0.000    2.521    1.261 profiler.py:331(wrapper)\n",
       "        1    0.000    0.000    2.698    2.698 pjit.py:1624(_pjit_call_impl_python)\n",
       "        1    0.000    0.000    2.698    2.698 traceback_util.py:176(reraise_with_filtered_traceback)\n",
       "        3    0.000    0.000    0.000    0.000 sharding_impls.py:666(get_replicated)\n",
       "        1    0.000    0.000    0.000    0.000 api_util.py:661(_non_static_arg_names)\n",
       "      3/2    0.000    0.000    0.000    0.000 functools.py:961(__get__)\n",
       "        1    0.000    0.000    0.000    0.000 pjit.py:694(disallow_use_mesh_and_legacy_mesh_ctx_mgr_together)\n",
       "        1    0.000    0.000    0.000    0.000 inspect.py:3050(_bind)\n",
       "        5    0.000    0.000    0.000    0.000 layout.py:47(from_pjrt_layout)\n",
       "        2    0.000    0.000    0.000    0.000 array.py:1251(_array_global_result_handler)\n",
       "        4    0.000    0.000    0.000    0.000 {built-in method builtins.any}\n",
       "       12    0.000    0.000    0.000    0.000 {built-in method builtins.hash}\n",
       "        2    0.000    0.000    0.000    0.000 named_sharding.py:157(__eq__)\n",
       "        1    0.000    0.000    0.000    0.000 sharding_impls.py:599(_hlo_sharding_hash)\n",
       "        1    0.000    0.000    0.000    0.000 pxla.py:1253(_handle_token_bufs)\n",
       "        1    0.000    0.000    2.698    2.698 pjit.py:334(cache_miss)\n",
       "        2    0.000    0.000    0.000    0.000 array.py:589(layout)\n",
       "        1    0.000    0.000    0.000    0.000 pxla.py:2280(<listcomp>)\n",
       "        2    0.000    0.000    0.000    0.000 pxla.py:2850(<listcomp>)\n",
       "       13    0.000    0.000    0.000    0.000 {jaxlib.utils.safe_zip}\n",
       "        1    0.000    0.000    0.000    0.000 pjit.py:1515(_resolve_in_shardings)\n",
       "        5    0.000    0.000    0.000    0.000 layout.py:40(__init__)\n",
       "        1    0.000    0.000    0.000    0.000 pjit.py:1455(_resolve_in_layouts)\n",
       "        1    0.000    0.000    0.000    0.000 pxla.py:2996(<listcomp>)\n",
       "        2    0.000    0.000    0.000    0.000 layout.py:65(__eq__)\n",
       "        1    0.000    0.000    0.000    0.000 api_util.py:585(debug_info)\n",
       "        1    0.000    0.000    0.000    0.000 pxla.py:1718(get_default_device)\n",
       "        1    0.000    0.000    0.000    0.000 {method 'sub' of 're.Pattern' objects}\n",
       "        1    0.000    0.000    0.000    0.000 pxla.py:2807(_maybe_get_and_check_out_shardings)\n",
       "        2    0.000    0.000    0.000    0.000 api_util.py:683(<genexpr>)\n",
       "        1    0.000    0.000    0.000    0.000 pjit.py:737(_infer_input_type)\n",
       "        1    0.000    0.000    0.000    0.000 source_info_util.py:121(__str__)\n",
       "        1    0.000    0.000    0.000    0.000 linear_util.py:364(_clean_keystr_arg_names)\n",
       "        1    0.000    0.000    0.000    0.000 tree_util.py:1151(tree_flatten_with_path)\n",
       "        1    0.000    0.000    0.000    0.000 pxla.py:3073(reflatten_outputs_for_dispatch)\n",
       "        1    0.000    0.000    0.000    0.000 pxla.py:2763(_maybe_get_and_check_in_shardings)\n",
       "        1    0.000    0.000    0.176    0.176 pxla.py:2441(compile)\n",
       "        3    0.000    0.000    0.000    0.000 core.py:222(in_avals)\n",
       "        1    0.000    0.000    0.001    0.001 pjit.py:1732(_pjit_lower)\n",
       "        1    0.000    0.000    0.000    0.000 core.py:1202(trace_state_clean)\n",
       "        2    0.000    0.000    0.000    0.000 core.py:1867(__eq__)\n",
       "        5    0.000    0.000    0.000    0.000 dtypes.py:411(issubdtype)\n",
       "        1    0.000    0.000    0.000    0.000 re.py:324(_subx)\n",
       "        1    0.000    0.000    0.000    0.000 pxla.py:2513(_get_in_shardings_from_xla)\n",
       "        1    0.000    0.000    0.000    0.000 pjit.py:258(_get_fastpath_data)\n",
       "        1    0.000    0.000    0.000    0.000 sharding_impls.py:614(__hash__)\n",
       "        1    0.000    0.000    0.000    0.000 pxla.py:2879(build_unsafe_call)\n",
       "        2    0.000    0.000    0.000    0.000 layout.py:100(__init__)\n",
       "        1    0.000    0.000    0.001    0.001 pjit.py:1607(_resolve_and_lower)\n",
       "        1    0.000    0.000    0.000    0.000 core.py:1481(valid_jaxtype)\n",
       "        6    0.000    0.000    0.000    0.000 {built-in method builtins.next}\n",
       "        2    0.000    0.000    0.000    0.000 pxla.py:1840(__init__)\n",
       "        1    0.000    0.000    0.000    0.000 dispatch.py:285(check_arg)\n",
       "       11    0.000    0.000    0.000    0.000 {built-in method builtins.hasattr}\n",
       "        2    0.000    0.000    0.000    0.000 pxla.py:1856(__eq__)\n",
       "        3    0.000    0.000    0.000    0.000 core.py:238(effects)\n",
       "        1    0.000    0.000    0.000    0.000 core.py:1515(shaped_abstractify)\n",
       "       23    0.000    0.000    0.000    0.000 {built-in method builtins.len}\n",
       "        6    0.000    0.000    0.000    0.000 {built-in method builtins.all}\n",
       "        1    0.000    0.000    0.000    0.000 pxla.py:124(shard_args)\n",
       "        1    0.000    0.000    0.000    0.000 pxla.py:2141(_discharge_refs_jaxpr)\n",
       "        2    0.000    0.000    0.000    0.000 array.py:1103(_get_aval_array)\n",
       "        1    0.000    0.000    0.000    0.000 <string>:1(<lambda>)\n",
       "        1    0.000    0.000    0.000    0.000 dispatch.py:314(needs_check_special)\n",
       "        1    0.000    0.000    0.000    0.000 pxla.py:3089(__init__)\n",
       "        1    0.000    0.000    0.000    0.000 pxla.py:1223(__init__)\n",
       "        1    0.000    0.000    0.000    0.000 sharding_impls.py:605(__eq__)\n",
       "        1    0.000    0.000    0.000    0.000 contextlib.py:102(__init__)\n",
       "        2    0.000    0.000    0.000    0.000 pxla.py:1851(__hash__)\n",
       "        1    0.000    0.000    0.000    0.000 array.py:643(_check_if_deleted)\n",
       "        1    0.000    0.000    0.000    0.000 pxla.py:107(to_xc_copy_semantics)\n",
       "        1    0.000    0.000    0.000    0.000 contextlib.py:139(__exit__)\n",
       "        3    0.000    0.000    0.000    0.000 op_shardings.py:48(is_op_sharding_replicated)\n",
       "        6    0.000    0.000    0.000    0.000 {built-in method builtins.getattr}\n",
       "        1    0.000    0.000    0.000    0.000 <string>:2(__init__)\n",
       "        1    0.000    0.000    0.000    0.000 pxla.py:1159(__init__)\n",
       "        1    0.000    0.000    0.000    0.000 xla_bridge.py:1051(get_device_backend)\n",
       "        3    0.000    0.000    0.000    0.000 core.py:1873(__hash__)\n",
       "        1    0.000    0.000    0.000    0.000 dispatch.py:149(set_output_runtime_token)\n",
       "        1    0.000    0.000    0.000    0.000 tree_util.py:724(keystr)\n",
       "        5    0.000    0.000    0.000    0.000 pxla.py:1852(<genexpr>)\n",
       "        1    0.000    0.000    0.000    0.000 core.py:226(out_avals)\n",
       "        2    0.000    0.000    0.000    0.000 tree_util.py:81(tree_unflatten)\n",
       "        1    0.000    0.000    0.000    0.000 core.py:1541(get_aval)\n",
       "        4    0.000    0.000    0.000    0.000 pxla.py:2614(<genexpr>)\n",
       "        1    0.000    0.000    0.000    0.000 core.py:1118(is_top_level)\n",
       "        5    0.000    0.000    0.000    0.000 pxla.py:1859(<genexpr>)\n",
       "        1    0.000    0.000    0.000    0.000 sharding_impls.py:1143(is_single_device_sharding)\n",
       "        1    0.000    0.000    0.000    0.000 pxla.py:2424(__init__)\n",
       "        1    0.000    0.000    0.000    0.000 tree_util.py:1159(tree_leaves_with_path)\n",
       "        4    0.000    0.000    0.000    0.000 core.py:1497(update_aval_with_sharding)\n",
       "        1    0.000    0.000    0.000    0.000 sharding_impls.py:658(is_fully_replicated)\n",
       "       10    0.000    0.000    0.000    0.000 array.py:316(sharding)\n",
       "        1    0.000    0.000    0.000    0.000 pxla.py:2484(<listcomp>)\n",
       "        1    0.000    0.000    0.000    0.000 pxla.py:2891(load)\n",
       "        2    0.000    0.000    0.000    0.000 sharding_impls.py:147(__hash__)\n",
       "        1    0.000    0.000    0.000    0.000 xla.py:115(canonicalize_dtype)\n",
       "        3    0.000    0.000    0.000    0.000 util.py:561(stable_unique)\n",
       "        2    0.000    0.000    0.000    0.000 pxla.py:3245(check_device_backend_on_shardings)\n",
       "       17    0.000    0.000    0.000    0.000 {method 'append' of 'list' objects}\n",
       "        2    0.000    0.000    0.000    0.000 sharding_impls.py:152(__eq__)\n",
       "        1    0.000    0.000    0.000    0.000 {jaxlib.utils.safe_map}\n",
       "        1    0.000    0.000    0.000    0.000 pxla.py:1205(global_avals_to_results_handler)\n",
       "        3    0.000    0.000    0.000    0.000 named_sharding.py:150(__hash__)\n",
       "        3    0.000    0.000    0.000    0.000 core.py:224(<listcomp>)\n",
       "        5    0.000    0.000    0.000    0.000 pxla.py:3111(unsafe_call)\n",
       "        1    0.000    0.000    0.000    0.000 dtypes.py:1002(is_string_dtype)\n",
       "        9    0.000    0.000    0.000    0.000 core.py:213(<lambda>)\n",
       "        1    0.000    0.000    0.000    0.000 core.py:1535(abstractify)\n",
       "        2    0.000    0.000    0.000    0.000 pxla.py:297(global_aval_to_result_handler)\n",
       "        2    0.000    0.000    0.000    0.000 pxla.py:2275(<genexpr>)\n",
       "        1    0.000    0.000    0.000    0.000 mesh.py:370(empty)\n",
       "        1    0.000    0.000    0.000    0.000 inspect.py:3181(bind)\n",
       "        1    0.000    0.000    0.000    0.000 pxla.py:1184(__init__)\n",
       "        2    0.000    0.000    0.000    0.000 pxla.py:2848(finalize_shardings)\n",
       "        2    0.000    0.000    0.000    0.000 layout.py:61(__hash__)\n",
       "        1    0.000    0.000    0.000    0.000 pxla.py:1646(check_if_any_auto)\n",
       "        2    0.000    0.000    0.000    0.000 <frozen importlib._bootstrap>:1053(_handle_fromlist)\n",
       "        6    0.000    0.000    0.000    0.000 sharding_impls.py:640(memory_kind)\n",
       "        1    0.000    0.000    0.000    0.000 core.py:228(<listcomp>)\n",
       "        4    0.000    0.000    0.000    0.000 util.py:692(test_event)\n",
       "        1    0.000    0.000    0.000    0.000 source_info_util.py:89(wrap)\n",
       "        4    0.000    0.000    0.000    0.000 named_sharding.py:146(memory_kind)\n",
       "        9    0.000    0.000    0.000    0.000 {method 'get' of 'dict' objects}\n",
       "        2    0.000    0.000    0.000    0.000 pxla.py:1842(<listcomp>)\n",
       "        1    0.000    0.000    0.000    0.000 sharding_impls.py:160(num_devices)\n",
       "        1    0.000    0.000    0.000    0.000 <string>:2(__hash__)\n",
       "        2    0.000    0.000    0.000    0.000 named_sharding.py:389(__eq__)\n",
       "        1    0.000    0.000    0.000    0.000 pxla.py:1209(<listcomp>)\n",
       "        1    0.000    0.000    0.000    0.000 mesh.py:366(size)\n",
       "        1    0.000    0.000    0.000    0.000 op_shardings.py:56(are_op_shardings_equal)\n",
       "        1    0.000    0.000    0.000    0.000 contextlib.py:279(helper)\n",
       "        2    0.000    0.000    0.000    0.000 {method 'join' of 'str' objects}\n",
       "        1    0.000    0.000    0.000    0.000 api_util.py:235(_ensure_inbounds)\n",
       "        5    0.000    0.000    0.000    0.000 util.py:289(_ignore)\n",
       "        4    0.000    0.000    0.000    0.000 pxla.py:2931(<genexpr>)\n",
       "        1    0.000    0.000    0.000    0.000 tree_util.py:1168(generate_key_paths)\n",
       "        1    0.000    0.000    0.000    0.000 array.py:464(is_fully_addressable)\n",
       "        3    0.000    0.000    0.000    0.000 core.py:103(invars)\n",
       "        1    0.000    0.000    0.000    0.000 pxla.py:1168(__call__)\n",
       "        1    0.000    0.000    0.000    0.000 mesh.py:576(get_concrete_mesh)\n",
       "        1    0.000    0.000    0.000    0.000 <string>:2(__eq__)\n",
       "        5    0.000    0.000    0.000    0.000 sharding_impls.py:168(memory_kind)\n",
       "        1    0.000    0.000    0.000    0.000 contextlib.py:130(__enter__)\n",
       "        2    0.000    0.000    0.000    0.000 pxla.py:2684(<genexpr>)\n",
       "        1    0.000    0.000    0.000    0.000 api_util.py:675(<listcomp>)\n",
       "        1    0.000    0.000    0.000    0.000 pjit.py:172(__hash__)\n",
       "        1    0.000    0.000    0.000    0.000 inspect.py:2779(__init__)\n",
       "        1    0.000    0.000    0.000    0.000 sharding.py:173(_addressable_device_assignment)\n",
       "        3    0.000    0.000    0.000    0.000 core.py:115(effects)\n",
       "        1    0.000    0.000    0.000    0.000 sharding_impls.py:164(device_set)\n",
       "        1    0.000    0.000    0.000    0.000 pxla.py:1279(<listcomp>)\n",
       "        2    0.000    0.000    0.000    0.000 profiler.py:420(trace)\n",
       "        3    0.000    0.000    0.000    0.000 pxla.py:2685(<genexpr>)\n",
       "        3    0.000    0.000    0.000    0.000 pxla.py:2257(<genexpr>)\n",
       "        2    0.000    0.000    0.000    0.000 pxla.py:2241(<genexpr>)\n",
       "        3    0.000    0.000    0.000    0.000 {built-in method builtins.id}\n",
       "        3    0.000    0.000    0.000    0.000 pxla.py:2947(<genexpr>)\n",
       "        3    0.000    0.000    0.000    0.000 {method '__exit__' of '_thread.RLock' objects}\n",
       "        2    0.000    0.000    0.000    0.000 pxla.py:2945(<genexpr>)\n",
       "        1    0.000    0.000    0.000    0.000 array.py:300(shape)\n",
       "        1    0.000    0.000    0.000    0.000 pxla.py:2168(_concretize_abstract_out_shardings)\n",
       "        2    0.000    0.000    0.000    0.000 pxla.py:2276(<genexpr>)\n",
       "        1    0.000    0.000    0.000    0.000 {method 'disable' of '_lsprof.Profiler' objects}\n",
       "        1    0.000    0.000    0.000    0.000 core.py:1004(check_eval_args)\n",
       "        2    0.000    0.000    0.000    0.000 {built-in method __new__ of type object at 0x55a15ec895e0}\n",
       "        1    0.000    0.000    0.000    0.000 sharding_impls.py:178(_device_assignment)\n",
       "        1    0.000    0.000    0.000    0.000 core.py:1381(full_lower)\n",
       "        4    0.000    0.000    0.000    0.000 {method 'keys' of 'dict' objects}\n",
       "        3    0.000    0.000    0.000    0.000 {method 'items' of 'dict' objects}\n",
       "        1    0.000    0.000    0.000    0.000 pxla.py:2194(_get_context_mesh)\n",
       "        1    0.000    0.000    0.000    0.000 pxla.py:2143(<genexpr>)\n",
       "        1    0.000    0.000    0.000    0.000 pxla.py:1244(_add_tokens_to_inputs)\n",
       "        1    0.000    0.000    0.000    0.000 {method 'values' of 'mappingproxy' objects}\n",
       "        1    0.000    0.000    0.000    0.000 pjit.py:254(_need_to_rebuild_with_fdo)\n",
       "        2    0.000    0.000    0.000    0.000 sharding_impls.py:194(is_fully_addressable)\n",
       "        1    0.000    0.000    0.000    0.000 core.py:214(<lambda>)\n",
       "        1    0.000    0.000    0.000    0.000 {built-in method from_iterable}\n",
       "        1    0.000    0.000    0.000    0.000 inspect.py:3006(parameters)\n",
       "        2    0.000    0.000    0.000    0.000 {built-in method builtins.iter}\n",
       "        1    0.000    0.000    0.000    0.000 api_util.py:676(<dictcomp>)\n",
       "        2    0.000    0.000    0.000    0.000 pxla.py:2242(<genexpr>)\n",
       "        2    0.000    0.000    0.000    0.000 inspect.py:2699(kind)\n",
       "        1    0.000    0.000    0.000    0.000 core.py:107(outvars)\n",
       "        1    0.000    0.000    0.000    0.000 pxla.py:2155(<genexpr>)\n",
       "        2    0.000    0.000    0.000    0.000 inspect.py:2687(name)\n",
       "        1    0.000    0.000    0.000    0.000 pxla.py:122(identity)\n",
       "        1    0.000    0.000    0.000    0.000 {method 'values' of 'dict' objects}"
      ]
     },
     "metadata": {},
     "output_type": "display_data"
    }
   ],
   "source": [
    "%prun obj_valgrad(initial_conditions)"
   ]
  },
  {
   "cell_type": "code",
   "execution_count": 14,
   "id": "0f91a2f2-4bb7-4815-a83f-913cc7f2d77b",
   "metadata": {},
   "outputs": [],
   "source": [
    "#Check runtime and memory\n",
    "#%prun obj_valgrad(initial_conditions)\n",
    "#with jax.profiler.trace(\"tensorborard/\"):\n",
    "#    _,_ =obj_valgrad(initial_conditions)#.block_until_ready()\n"
   ]
  },
  {
   "cell_type": "code",
   "execution_count": 15,
   "id": "af65f921-936a-45d8-acfe-2b70b526e161",
   "metadata": {},
   "outputs": [],
   "source": [
    "cpu_device = jax.devices('cpu')[0]"
   ]
  },
  {
   "cell_type": "code",
   "execution_count": 16,
   "id": "8a1a52a2-b075-4fe0-8b15-6527813f9c9b",
   "metadata": {},
   "outputs": [],
   "source": [
    "from tqdm import tqdm\n",
    "from jax.example_libraries.optimizers import adam\n",
    "from jax import value_and_grad\n",
    "def optim(tgt, initial_conditions, cosmo, conf, iters=100, lr=0.1):\n",
    "    init, update, get_params = adam(lr)\n",
    "    state = init(initial_conditions)\n",
    "    #@jax.jit\n",
    "    def step(i, state, tgt, cosmo, conf):\n",
    "        initial_conditions = get_params(state)\n",
    "        value, grads = obj_valgrad(initial_conditions)\n",
    "        state = update(i, grads, state)\n",
    "        jax.debug.print(\"{y} loss {x}\", x=value, y=i)\n",
    "        return value, state\n",
    "    tgt = jnp.asarray(tgt)\n",
    "    \n",
    "    initall = []\n",
    "    for i in tqdm(range(iters)):\n",
    "        value, state = step(i, state, tgt, cosmo, conf)\n",
    "        initall.append(jax.jit(get_params, device=cpu_device)(state))\n",
    "        #jax.clear_caches() \n",
    "    initial_conditions = get_params(state)\n",
    "    return value, initial_conditions, initall"
   ]
  },
  {
   "cell_type": "code",
   "execution_count": null,
   "id": "91a4d441-ffb2-4812-bf03-f7e0f5db6ad7",
   "metadata": {},
   "outputs": [
    {
     "name": "stderr",
     "output_type": "stream",
     "text": [
      "  0%|▎                                                                                                                                                                                | 1/500 [00:03<26:09,  3.14s/it]"
     ]
    },
    {
     "name": "stdout",
     "output_type": "stream",
     "text": [
      "0 loss 1.090367317199707\n"
     ]
    },
    {
     "name": "stderr",
     "output_type": "stream",
     "text": [
      "  0%|▋                                                                                                                                                                                | 2/500 [00:05<24:31,  2.96s/it]"
     ]
    },
    {
     "name": "stdout",
     "output_type": "stream",
     "text": [
      "1 loss 1.0633419752120972\n"
     ]
    },
    {
     "name": "stderr",
     "output_type": "stream",
     "text": [
      "  1%|█                                                                                                                                                                                | 3/500 [00:08<23:58,  2.89s/it]"
     ]
    },
    {
     "name": "stdout",
     "output_type": "stream",
     "text": [
      "2 loss 1.045209527015686\n"
     ]
    },
    {
     "name": "stderr",
     "output_type": "stream",
     "text": [
      "  1%|█▍                                                                                                                                                                               | 4/500 [00:11<23:42,  2.87s/it]"
     ]
    },
    {
     "name": "stdout",
     "output_type": "stream",
     "text": [
      "3 loss 1.0295987129211426\n"
     ]
    },
    {
     "name": "stderr",
     "output_type": "stream",
     "text": [
      "  1%|█▊                                                                                                                                                                               | 5/500 [00:14<23:32,  2.85s/it]"
     ]
    },
    {
     "name": "stdout",
     "output_type": "stream",
     "text": [
      "4 loss 1.0146608352661133\n"
     ]
    },
    {
     "name": "stderr",
     "output_type": "stream",
     "text": [
      "  1%|██                                                                                                                                                                               | 6/500 [00:17<23:24,  2.84s/it]"
     ]
    },
    {
     "name": "stdout",
     "output_type": "stream",
     "text": [
      "5 loss 1.0006753206253052\n"
     ]
    },
    {
     "name": "stderr",
     "output_type": "stream",
     "text": [
      "  1%|██▍                                                                                                                                                                              | 7/500 [00:20<23:19,  2.84s/it]"
     ]
    },
    {
     "name": "stdout",
     "output_type": "stream",
     "text": [
      "6 loss 0.9858233332633972\n"
     ]
    },
    {
     "name": "stderr",
     "output_type": "stream",
     "text": [
      "  2%|██▊                                                                                                                                                                              | 8/500 [00:22<23:13,  2.83s/it]"
     ]
    },
    {
     "name": "stdout",
     "output_type": "stream",
     "text": [
      "7 loss 0.9709124565124512\n"
     ]
    },
    {
     "name": "stderr",
     "output_type": "stream",
     "text": [
      "  2%|███▏                                                                                                                                                                             | 9/500 [00:25<23:09,  2.83s/it]"
     ]
    },
    {
     "name": "stdout",
     "output_type": "stream",
     "text": [
      "8 loss 0.9578410983085632\n"
     ]
    },
    {
     "name": "stderr",
     "output_type": "stream",
     "text": [
      "  2%|███▌                                                                                                                                                                            | 10/500 [00:28<23:06,  2.83s/it]"
     ]
    },
    {
     "name": "stdout",
     "output_type": "stream",
     "text": [
      "9 loss 0.946280300617218\n"
     ]
    },
    {
     "name": "stderr",
     "output_type": "stream",
     "text": [
      "  2%|███▊                                                                                                                                                                            | 11/500 [00:31<23:03,  2.83s/it]"
     ]
    },
    {
     "name": "stdout",
     "output_type": "stream",
     "text": [
      "10 loss 0.9352635145187378\n"
     ]
    },
    {
     "name": "stderr",
     "output_type": "stream",
     "text": [
      "  2%|████▏                                                                                                                                                                           | 12/500 [00:34<22:59,  2.83s/it]"
     ]
    },
    {
     "name": "stdout",
     "output_type": "stream",
     "text": [
      "11 loss 0.9243565201759338\n"
     ]
    },
    {
     "name": "stderr",
     "output_type": "stream",
     "text": [
      "  3%|████▌                                                                                                                                                                           | 13/500 [00:37<22:56,  2.83s/it]"
     ]
    },
    {
     "name": "stdout",
     "output_type": "stream",
     "text": [
      "12 loss 0.9125955700874329\n"
     ]
    },
    {
     "name": "stderr",
     "output_type": "stream",
     "text": [
      "  3%|████▉                                                                                                                                                                           | 14/500 [00:39<22:53,  2.83s/it]"
     ]
    },
    {
     "name": "stdout",
     "output_type": "stream",
     "text": [
      "13 loss 0.9005900025367737\n"
     ]
    },
    {
     "name": "stderr",
     "output_type": "stream",
     "text": [
      "  3%|█████▎                                                                                                                                                                          | 15/500 [00:42<22:51,  2.83s/it]"
     ]
    },
    {
     "name": "stdout",
     "output_type": "stream",
     "text": [
      "14 loss 0.8898316025733948\n"
     ]
    },
    {
     "name": "stderr",
     "output_type": "stream",
     "text": [
      "  3%|█████▋                                                                                                                                                                          | 16/500 [00:45<22:47,  2.83s/it]"
     ]
    },
    {
     "name": "stdout",
     "output_type": "stream",
     "text": [
      "15 loss 0.8802164793014526\n"
     ]
    },
    {
     "name": "stderr",
     "output_type": "stream",
     "text": [
      "  3%|█████▉                                                                                                                                                                          | 17/500 [00:48<22:43,  2.82s/it]"
     ]
    },
    {
     "name": "stdout",
     "output_type": "stream",
     "text": [
      "16 loss 0.870062530040741\n"
     ]
    },
    {
     "name": "stderr",
     "output_type": "stream",
     "text": [
      "  4%|██████▎                                                                                                                                                                         | 18/500 [00:51<22:41,  2.82s/it]"
     ]
    },
    {
     "name": "stdout",
     "output_type": "stream",
     "text": [
      "17 loss 0.8604196310043335\n"
     ]
    },
    {
     "name": "stderr",
     "output_type": "stream",
     "text": [
      "  4%|██████▋                                                                                                                                                                         | 19/500 [00:53<22:37,  2.82s/it]"
     ]
    },
    {
     "name": "stdout",
     "output_type": "stream",
     "text": [
      "18 loss 0.8506972193717957\n"
     ]
    },
    {
     "name": "stderr",
     "output_type": "stream",
     "text": [
      "  4%|███████                                                                                                                                                                         | 20/500 [00:56<22:34,  2.82s/it]"
     ]
    },
    {
     "name": "stdout",
     "output_type": "stream",
     "text": [
      "19 loss 0.8402960896492004\n"
     ]
    },
    {
     "name": "stderr",
     "output_type": "stream",
     "text": [
      "  4%|███████▍                                                                                                                                                                        | 21/500 [00:59<22:32,  2.82s/it]"
     ]
    },
    {
     "name": "stdout",
     "output_type": "stream",
     "text": [
      "20 loss 0.8302951455116272\n"
     ]
    },
    {
     "name": "stderr",
     "output_type": "stream",
     "text": [
      "  4%|███████▋                                                                                                                                                                        | 22/500 [01:02<22:30,  2.82s/it]"
     ]
    },
    {
     "name": "stdout",
     "output_type": "stream",
     "text": [
      "21 loss 0.8211338520050049\n"
     ]
    },
    {
     "name": "stderr",
     "output_type": "stream",
     "text": [
      "  5%|████████                                                                                                                                                                        | 23/500 [01:05<22:26,  2.82s/it]"
     ]
    },
    {
     "name": "stdout",
     "output_type": "stream",
     "text": [
      "22 loss 0.8126480579376221\n"
     ]
    },
    {
     "name": "stderr",
     "output_type": "stream",
     "text": [
      "  5%|████████▍                                                                                                                                                                       | 24/500 [01:08<22:24,  2.82s/it]"
     ]
    },
    {
     "name": "stdout",
     "output_type": "stream",
     "text": [
      "23 loss 0.8047407269477844\n"
     ]
    },
    {
     "name": "stderr",
     "output_type": "stream",
     "text": [
      "  5%|████████▊                                                                                                                                                                       | 25/500 [01:10<22:23,  2.83s/it]"
     ]
    },
    {
     "name": "stdout",
     "output_type": "stream",
     "text": [
      "24 loss 0.7968543171882629\n"
     ]
    },
    {
     "name": "stderr",
     "output_type": "stream",
     "text": [
      "  5%|█████████▏                                                                                                                                                                      | 26/500 [01:13<22:20,  2.83s/it]"
     ]
    },
    {
     "name": "stdout",
     "output_type": "stream",
     "text": [
      "25 loss 0.789260983467102\n"
     ]
    },
    {
     "name": "stderr",
     "output_type": "stream",
     "text": [
      "  5%|█████████▌                                                                                                                                                                      | 27/500 [01:16<22:16,  2.83s/it]"
     ]
    },
    {
     "name": "stdout",
     "output_type": "stream",
     "text": [
      "26 loss 0.7826585173606873\n"
     ]
    },
    {
     "name": "stderr",
     "output_type": "stream",
     "text": [
      "  6%|█████████▊                                                                                                                                                                      | 28/500 [01:19<22:13,  2.83s/it]"
     ]
    },
    {
     "name": "stdout",
     "output_type": "stream",
     "text": [
      "27 loss 0.7761842012405396\n"
     ]
    },
    {
     "name": "stderr",
     "output_type": "stream",
     "text": [
      "  6%|██████████▏                                                                                                                                                                     | 29/500 [01:22<22:10,  2.83s/it]"
     ]
    },
    {
     "name": "stdout",
     "output_type": "stream",
     "text": [
      "28 loss 0.7695777416229248\n"
     ]
    },
    {
     "name": "stderr",
     "output_type": "stream",
     "text": [
      "  6%|██████████▌                                                                                                                                                                     | 30/500 [01:25<22:08,  2.83s/it]"
     ]
    },
    {
     "name": "stdout",
     "output_type": "stream",
     "text": [
      "29 loss 0.763029932975769\n"
     ]
    },
    {
     "name": "stderr",
     "output_type": "stream",
     "text": [
      "  6%|██████████▉                                                                                                                                                                     | 31/500 [01:27<22:05,  2.83s/it]"
     ]
    },
    {
     "name": "stdout",
     "output_type": "stream",
     "text": [
      "30 loss 0.7565602660179138\n"
     ]
    },
    {
     "name": "stderr",
     "output_type": "stream",
     "text": [
      "  6%|███████████▎                                                                                                                                                                    | 32/500 [01:30<22:03,  2.83s/it]"
     ]
    },
    {
     "name": "stdout",
     "output_type": "stream",
     "text": [
      "31 loss 0.7504663467407227\n"
     ]
    },
    {
     "name": "stderr",
     "output_type": "stream",
     "text": [
      "  7%|███████████▌                                                                                                                                                                    | 33/500 [01:33<21:59,  2.83s/it]"
     ]
    },
    {
     "name": "stdout",
     "output_type": "stream",
     "text": [
      "32 loss 0.7446191906929016\n"
     ]
    },
    {
     "name": "stderr",
     "output_type": "stream",
     "text": [
      "  7%|███████████▉                                                                                                                                                                    | 34/500 [01:36<21:57,  2.83s/it]"
     ]
    },
    {
     "name": "stdout",
     "output_type": "stream",
     "text": [
      "33 loss 0.7388617396354675\n"
     ]
    },
    {
     "name": "stderr",
     "output_type": "stream",
     "text": [
      "  7%|████████████▎                                                                                                                                                                   | 35/500 [01:39<21:53,  2.82s/it]"
     ]
    },
    {
     "name": "stdout",
     "output_type": "stream",
     "text": [
      "34 loss 0.7330236434936523\n"
     ]
    },
    {
     "name": "stderr",
     "output_type": "stream",
     "text": [
      "  7%|████████████▋                                                                                                                                                                   | 36/500 [01:42<21:50,  2.82s/it]"
     ]
    },
    {
     "name": "stdout",
     "output_type": "stream",
     "text": [
      "35 loss 0.7270017266273499\n"
     ]
    },
    {
     "name": "stderr",
     "output_type": "stream",
     "text": [
      "  7%|█████████████                                                                                                                                                                   | 37/500 [01:44<21:48,  2.83s/it]"
     ]
    },
    {
     "name": "stdout",
     "output_type": "stream",
     "text": [
      "36 loss 0.721198558807373\n"
     ]
    },
    {
     "name": "stderr",
     "output_type": "stream",
     "text": [
      "  8%|█████████████▍                                                                                                                                                                  | 38/500 [01:47<21:46,  2.83s/it]"
     ]
    },
    {
     "name": "stdout",
     "output_type": "stream",
     "text": [
      "37 loss 0.7159629464149475\n"
     ]
    },
    {
     "name": "stderr",
     "output_type": "stream",
     "text": [
      "  8%|█████████████▋                                                                                                                                                                  | 39/500 [01:50<21:43,  2.83s/it]"
     ]
    },
    {
     "name": "stdout",
     "output_type": "stream",
     "text": [
      "38 loss 0.7104490995407104\n"
     ]
    },
    {
     "name": "stderr",
     "output_type": "stream",
     "text": [
      "  8%|██████████████                                                                                                                                                                  | 40/500 [01:53<21:40,  2.83s/it]"
     ]
    },
    {
     "name": "stdout",
     "output_type": "stream",
     "text": [
      "39 loss 0.7046354413032532\n"
     ]
    },
    {
     "name": "stderr",
     "output_type": "stream",
     "text": [
      "  8%|██████████████▍                                                                                                                                                                 | 41/500 [01:56<21:37,  2.83s/it]"
     ]
    },
    {
     "name": "stdout",
     "output_type": "stream",
     "text": [
      "40 loss 0.6992689967155457\n"
     ]
    },
    {
     "name": "stderr",
     "output_type": "stream",
     "text": [
      "  8%|██████████████▊                                                                                                                                                                 | 42/500 [01:58<21:35,  2.83s/it]"
     ]
    },
    {
     "name": "stdout",
     "output_type": "stream",
     "text": [
      "41 loss 0.6939848065376282\n"
     ]
    },
    {
     "name": "stderr",
     "output_type": "stream",
     "text": [
      "  9%|███████████████▏                                                                                                                                                                | 43/500 [02:01<21:32,  2.83s/it]"
     ]
    },
    {
     "name": "stdout",
     "output_type": "stream",
     "text": [
      "42 loss 0.6889059543609619\n"
     ]
    },
    {
     "name": "stderr",
     "output_type": "stream",
     "text": [
      "  9%|███████████████▍                                                                                                                                                                | 44/500 [02:04<21:29,  2.83s/it]"
     ]
    },
    {
     "name": "stdout",
     "output_type": "stream",
     "text": [
      "43 loss 0.6837449669837952\n"
     ]
    },
    {
     "name": "stderr",
     "output_type": "stream",
     "text": [
      "  9%|███████████████▊                                                                                                                                                                | 45/500 [02:07<21:28,  2.83s/it]"
     ]
    },
    {
     "name": "stdout",
     "output_type": "stream",
     "text": [
      "44 loss 0.6788484454154968\n"
     ]
    },
    {
     "name": "stderr",
     "output_type": "stream",
     "text": [
      "  9%|████████████████▏                                                                                                                                                               | 46/500 [02:10<21:26,  2.83s/it]"
     ]
    },
    {
     "name": "stdout",
     "output_type": "stream",
     "text": [
      "45 loss 0.6737843751907349\n"
     ]
    },
    {
     "name": "stderr",
     "output_type": "stream",
     "text": [
      "  9%|████████████████▌                                                                                                                                                               | 47/500 [02:13<21:22,  2.83s/it]"
     ]
    },
    {
     "name": "stdout",
     "output_type": "stream",
     "text": [
      "46 loss 0.6685346961021423\n"
     ]
    },
    {
     "name": "stderr",
     "output_type": "stream",
     "text": [
      " 10%|████████████████▉                                                                                                                                                               | 48/500 [02:15<21:19,  2.83s/it]"
     ]
    },
    {
     "name": "stdout",
     "output_type": "stream",
     "text": [
      "47 loss 0.663254976272583\n"
     ]
    },
    {
     "name": "stderr",
     "output_type": "stream",
     "text": [
      " 10%|█████████████████▏                                                                                                                                                              | 49/500 [02:18<21:17,  2.83s/it]"
     ]
    },
    {
     "name": "stdout",
     "output_type": "stream",
     "text": [
      "48 loss 0.658395528793335\n"
     ]
    },
    {
     "name": "stderr",
     "output_type": "stream",
     "text": [
      " 10%|█████████████████▌                                                                                                                                                              | 50/500 [02:21<21:15,  2.83s/it]"
     ]
    },
    {
     "name": "stdout",
     "output_type": "stream",
     "text": [
      "49 loss 0.6536766886711121\n"
     ]
    },
    {
     "name": "stderr",
     "output_type": "stream",
     "text": [
      " 10%|█████████████████▉                                                                                                                                                              | 51/500 [02:24<21:11,  2.83s/it]"
     ]
    },
    {
     "name": "stdout",
     "output_type": "stream",
     "text": [
      "50 loss 0.6487855315208435\n"
     ]
    },
    {
     "name": "stderr",
     "output_type": "stream",
     "text": [
      " 10%|██████████████████▎                                                                                                                                                             | 52/500 [02:27<21:08,  2.83s/it]"
     ]
    },
    {
     "name": "stdout",
     "output_type": "stream",
     "text": [
      "51 loss 0.6439735889434814\n"
     ]
    },
    {
     "name": "stderr",
     "output_type": "stream",
     "text": [
      " 11%|██████████████████▋                                                                                                                                                             | 53/500 [02:30<21:06,  2.83s/it]"
     ]
    },
    {
     "name": "stdout",
     "output_type": "stream",
     "text": [
      "52 loss 0.6388628482818604\n"
     ]
    },
    {
     "name": "stderr",
     "output_type": "stream",
     "text": [
      " 11%|███████████████████                                                                                                                                                             | 54/500 [02:32<21:04,  2.83s/it]"
     ]
    },
    {
     "name": "stdout",
     "output_type": "stream",
     "text": [
      "53 loss 0.6338284015655518\n"
     ]
    },
    {
     "name": "stderr",
     "output_type": "stream",
     "text": [
      " 11%|███████████████████▎                                                                                                                                                            | 55/500 [02:35<21:00,  2.83s/it]"
     ]
    },
    {
     "name": "stdout",
     "output_type": "stream",
     "text": [
      "54 loss 0.6288179159164429\n"
     ]
    },
    {
     "name": "stderr",
     "output_type": "stream",
     "text": [
      " 11%|███████████████████▋                                                                                                                                                            | 56/500 [02:38<20:58,  2.83s/it]"
     ]
    },
    {
     "name": "stdout",
     "output_type": "stream",
     "text": [
      "55 loss 0.6236178874969482\n"
     ]
    },
    {
     "name": "stderr",
     "output_type": "stream",
     "text": [
      " 11%|████████████████████                                                                                                                                                            | 57/500 [02:41<20:54,  2.83s/it]"
     ]
    },
    {
     "name": "stdout",
     "output_type": "stream",
     "text": [
      "56 loss 0.6186352968215942\n"
     ]
    },
    {
     "name": "stderr",
     "output_type": "stream",
     "text": [
      " 12%|████████████████████▍                                                                                                                                                           | 58/500 [02:44<20:51,  2.83s/it]"
     ]
    },
    {
     "name": "stdout",
     "output_type": "stream",
     "text": [
      "57 loss 0.6138918399810791\n"
     ]
    },
    {
     "name": "stderr",
     "output_type": "stream",
     "text": [
      " 12%|████████████████████▊                                                                                                                                                           | 59/500 [02:47<20:48,  2.83s/it]"
     ]
    },
    {
     "name": "stdout",
     "output_type": "stream",
     "text": [
      "58 loss 0.6093277335166931\n"
     ]
    },
    {
     "name": "stderr",
     "output_type": "stream",
     "text": [
      " 12%|█████████████████████                                                                                                                                                           | 60/500 [02:49<20:46,  2.83s/it]"
     ]
    },
    {
     "name": "stdout",
     "output_type": "stream",
     "text": [
      "59 loss 0.6048154234886169\n"
     ]
    },
    {
     "name": "stderr",
     "output_type": "stream",
     "text": [
      " 12%|█████████████████████▍                                                                                                                                                          | 61/500 [02:52<20:44,  2.84s/it]"
     ]
    },
    {
     "name": "stdout",
     "output_type": "stream",
     "text": [
      "60 loss 0.6001509428024292\n"
     ]
    },
    {
     "name": "stderr",
     "output_type": "stream",
     "text": [
      " 12%|█████████████████████▊                                                                                                                                                          | 62/500 [02:55<20:42,  2.84s/it]"
     ]
    },
    {
     "name": "stdout",
     "output_type": "stream",
     "text": [
      "61 loss 0.5956290364265442\n"
     ]
    },
    {
     "name": "stderr",
     "output_type": "stream",
     "text": [
      " 13%|██████████████████████▏                                                                                                                                                         | 63/500 [02:58<20:39,  2.84s/it]"
     ]
    },
    {
     "name": "stdout",
     "output_type": "stream",
     "text": [
      "62 loss 0.5915685892105103\n"
     ]
    },
    {
     "name": "stderr",
     "output_type": "stream",
     "text": [
      " 13%|██████████████████████▌                                                                                                                                                         | 64/500 [03:01<20:36,  2.84s/it]"
     ]
    },
    {
     "name": "stdout",
     "output_type": "stream",
     "text": [
      "63 loss 0.5878387093544006\n"
     ]
    },
    {
     "name": "stderr",
     "output_type": "stream",
     "text": [
      " 13%|██████████████████████▉                                                                                                                                                         | 65/500 [03:04<20:33,  2.84s/it]"
     ]
    },
    {
     "name": "stdout",
     "output_type": "stream",
     "text": [
      "64 loss 0.5839881300926208\n"
     ]
    },
    {
     "name": "stderr",
     "output_type": "stream",
     "text": [
      " 13%|███████████████████████▏                                                                                                                                                        | 66/500 [03:07<20:30,  2.84s/it]"
     ]
    },
    {
     "name": "stdout",
     "output_type": "stream",
     "text": [
      "65 loss 0.5802189707756042\n"
     ]
    },
    {
     "name": "stderr",
     "output_type": "stream",
     "text": [
      " 13%|███████████████████████▌                                                                                                                                                        | 67/500 [03:09<20:28,  2.84s/it]"
     ]
    },
    {
     "name": "stdout",
     "output_type": "stream",
     "text": [
      "66 loss 0.5764337778091431\n"
     ]
    },
    {
     "name": "stderr",
     "output_type": "stream",
     "text": [
      " 14%|███████████████████████▉                                                                                                                                                        | 68/500 [03:12<20:25,  2.84s/it]"
     ]
    },
    {
     "name": "stdout",
     "output_type": "stream",
     "text": [
      "67 loss 0.5727868676185608\n"
     ]
    },
    {
     "name": "stderr",
     "output_type": "stream",
     "text": [
      " 14%|████████████████████████▎                                                                                                                                                       | 69/500 [03:15<20:22,  2.84s/it]"
     ]
    },
    {
     "name": "stdout",
     "output_type": "stream",
     "text": [
      "68 loss 0.5695176720619202\n"
     ]
    },
    {
     "name": "stderr",
     "output_type": "stream",
     "text": [
      " 14%|████████████████████████▋                                                                                                                                                       | 70/500 [03:18<20:20,  2.84s/it]"
     ]
    },
    {
     "name": "stdout",
     "output_type": "stream",
     "text": [
      "69 loss 0.5664553642272949\n"
     ]
    },
    {
     "name": "stderr",
     "output_type": "stream",
     "text": [
      " 14%|████████████████████████▉                                                                                                                                                       | 71/500 [03:21<20:17,  2.84s/it]"
     ]
    },
    {
     "name": "stdout",
     "output_type": "stream",
     "text": [
      "70 loss 0.5635437965393066\n"
     ]
    },
    {
     "name": "stderr",
     "output_type": "stream",
     "text": [
      " 14%|█████████████████████████▎                                                                                                                                                      | 72/500 [03:24<20:15,  2.84s/it]"
     ]
    },
    {
     "name": "stdout",
     "output_type": "stream",
     "text": [
      "71 loss 0.560016930103302\n"
     ]
    },
    {
     "name": "stderr",
     "output_type": "stream",
     "text": [
      " 15%|█████████████████████████▋                                                                                                                                                      | 73/500 [03:26<20:12,  2.84s/it]"
     ]
    },
    {
     "name": "stdout",
     "output_type": "stream",
     "text": [
      "72 loss 0.5558573603630066\n"
     ]
    },
    {
     "name": "stderr",
     "output_type": "stream",
     "text": [
      " 15%|██████████████████████████                                                                                                                                                      | 74/500 [03:29<20:09,  2.84s/it]"
     ]
    },
    {
     "name": "stdout",
     "output_type": "stream",
     "text": [
      "73 loss 0.5527053475379944\n"
     ]
    },
    {
     "name": "stderr",
     "output_type": "stream",
     "text": [
      " 15%|██████████████████████████▍                                                                                                                                                     | 75/500 [03:32<20:05,  2.84s/it]"
     ]
    },
    {
     "name": "stdout",
     "output_type": "stream",
     "text": [
      "74 loss 0.5500802397727966\n"
     ]
    },
    {
     "name": "stderr",
     "output_type": "stream",
     "text": [
      " 15%|██████████████████████████▊                                                                                                                                                     | 76/500 [03:35<20:03,  2.84s/it]"
     ]
    },
    {
     "name": "stdout",
     "output_type": "stream",
     "text": [
      "75 loss 0.5474867820739746\n"
     ]
    },
    {
     "name": "stderr",
     "output_type": "stream",
     "text": [
      " 15%|███████████████████████████                                                                                                                                                     | 77/500 [03:38<20:01,  2.84s/it]"
     ]
    },
    {
     "name": "stdout",
     "output_type": "stream",
     "text": [
      "76 loss 0.5445327758789062\n"
     ]
    },
    {
     "name": "stderr",
     "output_type": "stream",
     "text": [
      " 16%|███████████████████████████▍                                                                                                                                                    | 78/500 [03:41<20:00,  2.84s/it]"
     ]
    },
    {
     "name": "stdout",
     "output_type": "stream",
     "text": [
      "77 loss 0.5407780408859253\n"
     ]
    },
    {
     "name": "stderr",
     "output_type": "stream",
     "text": [
      " 16%|███████████████████████████▊                                                                                                                                                    | 79/500 [03:43<19:57,  2.84s/it]"
     ]
    },
    {
     "name": "stdout",
     "output_type": "stream",
     "text": [
      "78 loss 0.537581205368042\n"
     ]
    },
    {
     "name": "stderr",
     "output_type": "stream",
     "text": [
      " 16%|████████████████████████████▏                                                                                                                                                   | 80/500 [03:46<19:54,  2.84s/it]"
     ]
    },
    {
     "name": "stdout",
     "output_type": "stream",
     "text": [
      "79 loss 0.5351647734642029\n"
     ]
    },
    {
     "name": "stderr",
     "output_type": "stream",
     "text": [
      " 16%|████████████████████████████▌                                                                                                                                                   | 81/500 [03:49<19:50,  2.84s/it]"
     ]
    },
    {
     "name": "stdout",
     "output_type": "stream",
     "text": [
      "80 loss 0.5325737595558167\n"
     ]
    },
    {
     "name": "stderr",
     "output_type": "stream",
     "text": [
      " 16%|████████████████████████████▊                                                                                                                                                   | 82/500 [03:52<19:49,  2.84s/it]"
     ]
    },
    {
     "name": "stdout",
     "output_type": "stream",
     "text": [
      "81 loss 0.5301016569137573\n"
     ]
    },
    {
     "name": "stderr",
     "output_type": "stream",
     "text": [
      " 17%|█████████████████████████████▏                                                                                                                                                  | 83/500 [03:55<19:46,  2.85s/it]"
     ]
    },
    {
     "name": "stdout",
     "output_type": "stream",
     "text": [
      "82 loss 0.5272460579872131\n"
     ]
    },
    {
     "name": "stderr",
     "output_type": "stream",
     "text": [
      " 17%|█████████████████████████████▌                                                                                                                                                  | 84/500 [03:58<19:44,  2.85s/it]"
     ]
    },
    {
     "name": "stdout",
     "output_type": "stream",
     "text": [
      "83 loss 0.5236768126487732\n"
     ]
    },
    {
     "name": "stderr",
     "output_type": "stream",
     "text": [
      " 17%|█████████████████████████████▉                                                                                                                                                  | 85/500 [04:01<19:41,  2.85s/it]"
     ]
    },
    {
     "name": "stdout",
     "output_type": "stream",
     "text": [
      "84 loss 0.5206641554832458\n"
     ]
    },
    {
     "name": "stderr",
     "output_type": "stream",
     "text": [
      " 17%|██████████████████████████████▎                                                                                                                                                 | 86/500 [04:03<19:39,  2.85s/it]"
     ]
    },
    {
     "name": "stdout",
     "output_type": "stream",
     "text": [
      "85 loss 0.5185787081718445\n"
     ]
    },
    {
     "name": "stderr",
     "output_type": "stream",
     "text": [
      " 17%|██████████████████████████████▌                                                                                                                                                 | 87/500 [04:06<19:35,  2.85s/it]"
     ]
    },
    {
     "name": "stdout",
     "output_type": "stream",
     "text": [
      "86 loss 0.5163140892982483\n"
     ]
    },
    {
     "name": "stderr",
     "output_type": "stream",
     "text": [
      " 18%|██████████████████████████████▉                                                                                                                                                 | 88/500 [04:09<19:33,  2.85s/it]"
     ]
    },
    {
     "name": "stdout",
     "output_type": "stream",
     "text": [
      "87 loss 0.5140685439109802\n"
     ]
    },
    {
     "name": "stderr",
     "output_type": "stream",
     "text": [
      " 18%|███████████████████████████████▎                                                                                                                                                | 89/500 [04:12<19:30,  2.85s/it]"
     ]
    },
    {
     "name": "stdout",
     "output_type": "stream",
     "text": [
      "88 loss 0.5120940804481506\n"
     ]
    },
    {
     "name": "stderr",
     "output_type": "stream",
     "text": [
      " 18%|███████████████████████████████▋                                                                                                                                                | 90/500 [04:15<19:27,  2.85s/it]"
     ]
    },
    {
     "name": "stdout",
     "output_type": "stream",
     "text": [
      "89 loss 0.5098937749862671\n"
     ]
    },
    {
     "name": "stderr",
     "output_type": "stream",
     "text": [
      " 18%|████████████████████████████████                                                                                                                                                | 91/500 [04:18<19:24,  2.85s/it]"
     ]
    },
    {
     "name": "stdout",
     "output_type": "stream",
     "text": [
      "90 loss 0.5073598027229309\n"
     ]
    },
    {
     "name": "stderr",
     "output_type": "stream",
     "text": [
      " 18%|████████████████████████████████▍                                                                                                                                               | 92/500 [04:20<19:21,  2.85s/it]"
     ]
    },
    {
     "name": "stdout",
     "output_type": "stream",
     "text": [
      "91 loss 0.5047523379325867\n"
     ]
    },
    {
     "name": "stderr",
     "output_type": "stream",
     "text": [
      " 19%|████████████████████████████████▋                                                                                                                                               | 93/500 [04:23<19:19,  2.85s/it]"
     ]
    },
    {
     "name": "stdout",
     "output_type": "stream",
     "text": [
      "92 loss 0.502526581287384\n"
     ]
    },
    {
     "name": "stderr",
     "output_type": "stream",
     "text": [
      " 19%|█████████████████████████████████                                                                                                                                               | 94/500 [04:26<19:17,  2.85s/it]"
     ]
    },
    {
     "name": "stdout",
     "output_type": "stream",
     "text": [
      "93 loss 0.5004652738571167\n"
     ]
    },
    {
     "name": "stderr",
     "output_type": "stream",
     "text": [
      " 19%|█████████████████████████████████▍                                                                                                                                              | 95/500 [04:29<19:13,  2.85s/it]"
     ]
    },
    {
     "name": "stdout",
     "output_type": "stream",
     "text": [
      "94 loss 0.4979912042617798\n"
     ]
    },
    {
     "name": "stderr",
     "output_type": "stream",
     "text": [
      " 19%|█████████████████████████████████▊                                                                                                                                              | 96/500 [04:32<19:11,  2.85s/it]"
     ]
    },
    {
     "name": "stdout",
     "output_type": "stream",
     "text": [
      "95 loss 0.49580109119415283\n"
     ]
    },
    {
     "name": "stderr",
     "output_type": "stream",
     "text": [
      " 19%|██████████████████████████████████▏                                                                                                                                             | 97/500 [04:35<19:08,  2.85s/it]"
     ]
    },
    {
     "name": "stdout",
     "output_type": "stream",
     "text": [
      "96 loss 0.4938182830810547\n"
     ]
    },
    {
     "name": "stderr",
     "output_type": "stream",
     "text": [
      " 20%|██████████████████████████████████▍                                                                                                                                             | 98/500 [04:38<19:06,  2.85s/it]"
     ]
    },
    {
     "name": "stdout",
     "output_type": "stream",
     "text": [
      "97 loss 0.4913618564605713\n"
     ]
    },
    {
     "name": "stderr",
     "output_type": "stream",
     "text": [
      " 20%|██████████████████████████████████▊                                                                                                                                             | 99/500 [04:40<19:02,  2.85s/it]"
     ]
    },
    {
     "name": "stdout",
     "output_type": "stream",
     "text": [
      "98 loss 0.4892450273036957\n"
     ]
    },
    {
     "name": "stderr",
     "output_type": "stream",
     "text": [
      " 20%|███████████████████████████████████                                                                                                                                            | 100/500 [04:43<19:00,  2.85s/it]"
     ]
    },
    {
     "name": "stdout",
     "output_type": "stream",
     "text": [
      "99 loss 0.4871169924736023\n"
     ]
    },
    {
     "name": "stderr",
     "output_type": "stream",
     "text": [
      " 20%|███████████████████████████████████▎                                                                                                                                           | 101/500 [04:46<18:57,  2.85s/it]"
     ]
    },
    {
     "name": "stdout",
     "output_type": "stream",
     "text": [
      "100 loss 0.4858599901199341\n"
     ]
    },
    {
     "name": "stderr",
     "output_type": "stream",
     "text": [
      " 20%|███████████████████████████████████▋                                                                                                                                           | 102/500 [04:49<18:54,  2.85s/it]"
     ]
    },
    {
     "name": "stdout",
     "output_type": "stream",
     "text": [
      "101 loss 0.4866996705532074\n"
     ]
    },
    {
     "name": "stderr",
     "output_type": "stream",
     "text": [
      " 21%|████████████████████████████████████                                                                                                                                           | 103/500 [04:52<18:50,  2.85s/it]"
     ]
    },
    {
     "name": "stdout",
     "output_type": "stream",
     "text": [
      "102 loss 0.48740509152412415\n"
     ]
    },
    {
     "name": "stderr",
     "output_type": "stream",
     "text": [
      " 21%|████████████████████████████████████▍                                                                                                                                          | 104/500 [04:55<18:48,  2.85s/it]"
     ]
    },
    {
     "name": "stdout",
     "output_type": "stream",
     "text": [
      "103 loss 0.4834144413471222\n"
     ]
    },
    {
     "name": "stderr",
     "output_type": "stream",
     "text": [
      " 21%|████████████████████████████████████▊                                                                                                                                          | 105/500 [04:58<18:46,  2.85s/it]"
     ]
    },
    {
     "name": "stdout",
     "output_type": "stream",
     "text": [
      "104 loss 0.47783467173576355\n"
     ]
    },
    {
     "name": "stderr",
     "output_type": "stream",
     "text": [
      " 21%|█████████████████████████████████████                                                                                                                                          | 106/500 [05:00<18:43,  2.85s/it]"
     ]
    },
    {
     "name": "stdout",
     "output_type": "stream",
     "text": [
      "105 loss 0.4770389795303345\n"
     ]
    },
    {
     "name": "stderr",
     "output_type": "stream",
     "text": [
      " 21%|█████████████████████████████████████▍                                                                                                                                         | 107/500 [05:03<18:39,  2.85s/it]"
     ]
    },
    {
     "name": "stdout",
     "output_type": "stream",
     "text": [
      "106 loss 0.4779355525970459\n"
     ]
    },
    {
     "name": "stderr",
     "output_type": "stream",
     "text": [
      " 22%|█████████████████████████████████████▊                                                                                                                                         | 108/500 [05:06<18:38,  2.85s/it]"
     ]
    },
    {
     "name": "stdout",
     "output_type": "stream",
     "text": [
      "107 loss 0.4740087687969208\n"
     ]
    },
    {
     "name": "stderr",
     "output_type": "stream",
     "text": [
      " 22%|██████████████████████████████████████▏                                                                                                                                        | 109/500 [05:09<18:34,  2.85s/it]"
     ]
    },
    {
     "name": "stdout",
     "output_type": "stream",
     "text": [
      "108 loss 0.47069433331489563\n"
     ]
    },
    {
     "name": "stderr",
     "output_type": "stream",
     "text": [
      " 22%|██████████████████████████████████████▌                                                                                                                                        | 110/500 [05:12<18:32,  2.85s/it]"
     ]
    },
    {
     "name": "stdout",
     "output_type": "stream",
     "text": [
      "109 loss 0.4708717167377472\n"
     ]
    },
    {
     "name": "stderr",
     "output_type": "stream",
     "text": [
      " 22%|██████████████████████████████████████▊                                                                                                                                        | 111/500 [05:15<18:29,  2.85s/it]"
     ]
    },
    {
     "name": "stdout",
     "output_type": "stream",
     "text": [
      "110 loss 0.4692503809928894\n"
     ]
    },
    {
     "name": "stderr",
     "output_type": "stream",
     "text": [
      " 22%|███████████████████████████████████████▏                                                                                                                                       | 112/500 [05:17<18:27,  2.85s/it]"
     ]
    },
    {
     "name": "stdout",
     "output_type": "stream",
     "text": [
      "111 loss 0.4657304584980011\n"
     ]
    },
    {
     "name": "stderr",
     "output_type": "stream",
     "text": [
      " 23%|███████████████████████████████████████▌                                                                                                                                       | 113/500 [05:20<18:25,  2.86s/it]"
     ]
    },
    {
     "name": "stdout",
     "output_type": "stream",
     "text": [
      "112 loss 0.464556485414505\n"
     ]
    },
    {
     "name": "stderr",
     "output_type": "stream",
     "text": [
      " 23%|███████████████████████████████████████▉                                                                                                                                       | 114/500 [05:23<18:23,  2.86s/it]"
     ]
    },
    {
     "name": "stdout",
     "output_type": "stream",
     "text": [
      "113 loss 0.4634731113910675\n"
     ]
    },
    {
     "name": "stderr",
     "output_type": "stream",
     "text": [
      " 23%|████████████████████████████████████████▎                                                                                                                                      | 115/500 [05:26<18:20,  2.86s/it]"
     ]
    },
    {
     "name": "stdout",
     "output_type": "stream",
     "text": [
      "114 loss 0.4605885446071625\n"
     ]
    },
    {
     "name": "stderr",
     "output_type": "stream",
     "text": [
      " 23%|████████████████████████████████████████▌                                                                                                                                      | 116/500 [05:29<18:21,  2.87s/it]"
     ]
    },
    {
     "name": "stdout",
     "output_type": "stream",
     "text": [
      "115 loss 0.4588755667209625\n"
     ]
    },
    {
     "name": "stderr",
     "output_type": "stream",
     "text": [
      " 23%|████████████████████████████████████████▉                                                                                                                                      | 117/500 [05:32<18:18,  2.87s/it]"
     ]
    },
    {
     "name": "stdout",
     "output_type": "stream",
     "text": [
      "116 loss 0.4578353464603424\n"
     ]
    },
    {
     "name": "stderr",
     "output_type": "stream",
     "text": [
      " 24%|█████████████████████████████████████████▎                                                                                                                                     | 118/500 [05:35<18:15,  2.87s/it]"
     ]
    },
    {
     "name": "stdout",
     "output_type": "stream",
     "text": [
      "117 loss 0.4554426074028015\n"
     ]
    },
    {
     "name": "stderr",
     "output_type": "stream",
     "text": [
      " 24%|█████████████████████████████████████████▋                                                                                                                                     | 119/500 [05:38<18:14,  2.87s/it]"
     ]
    },
    {
     "name": "stdout",
     "output_type": "stream",
     "text": [
      "118 loss 0.4541645050048828\n"
     ]
    },
    {
     "name": "stderr",
     "output_type": "stream",
     "text": [
      " 24%|██████████████████████████████████████████                                                                                                                                     | 120/500 [05:40<18:13,  2.88s/it]"
     ]
    },
    {
     "name": "stdout",
     "output_type": "stream",
     "text": [
      "119 loss 0.4537060856819153\n"
     ]
    },
    {
     "name": "stderr",
     "output_type": "stream",
     "text": [
      " 24%|██████████████████████████████████████████▎                                                                                                                                    | 121/500 [05:43<18:13,  2.88s/it]"
     ]
    },
    {
     "name": "stdout",
     "output_type": "stream",
     "text": [
      "120 loss 0.4516734480857849\n"
     ]
    },
    {
     "name": "stderr",
     "output_type": "stream",
     "text": [
      " 24%|██████████████████████████████████████████▋                                                                                                                                    | 122/500 [05:46<18:11,  2.89s/it]"
     ]
    },
    {
     "name": "stdout",
     "output_type": "stream",
     "text": [
      "121 loss 0.4501376152038574\n"
     ]
    },
    {
     "name": "stderr",
     "output_type": "stream",
     "text": [
      " 25%|███████████████████████████████████████████                                                                                                                                    | 123/500 [05:49<18:08,  2.89s/it]"
     ]
    },
    {
     "name": "stdout",
     "output_type": "stream",
     "text": [
      "122 loss 0.4499657452106476\n"
     ]
    },
    {
     "name": "stderr",
     "output_type": "stream",
     "text": [
      " 25%|███████████████████████████████████████████▍                                                                                                                                   | 124/500 [05:52<18:07,  2.89s/it]"
     ]
    },
    {
     "name": "stdout",
     "output_type": "stream",
     "text": [
      "123 loss 0.4483771324157715\n"
     ]
    },
    {
     "name": "stderr",
     "output_type": "stream",
     "text": [
      " 25%|███████████████████████████████████████████▊                                                                                                                                   | 125/500 [05:55<18:04,  2.89s/it]"
     ]
    },
    {
     "name": "stdout",
     "output_type": "stream",
     "text": [
      "124 loss 0.44600939750671387\n"
     ]
    },
    {
     "name": "stderr",
     "output_type": "stream",
     "text": [
      " 25%|████████████████████████████████████████████                                                                                                                                   | 126/500 [05:58<18:01,  2.89s/it]"
     ]
    },
    {
     "name": "stdout",
     "output_type": "stream",
     "text": [
      "125 loss 0.44464734196662903\n"
     ]
    },
    {
     "name": "stderr",
     "output_type": "stream",
     "text": [
      " 25%|████████████████████████████████████████████▍                                                                                                                                  | 127/500 [06:01<17:59,  2.90s/it]"
     ]
    },
    {
     "name": "stdout",
     "output_type": "stream",
     "text": [
      "126 loss 0.44380807876586914\n"
     ]
    },
    {
     "name": "stderr",
     "output_type": "stream",
     "text": [
      " 26%|████████████████████████████████████████████▊                                                                                                                                  | 128/500 [06:04<17:57,  2.90s/it]"
     ]
    },
    {
     "name": "stdout",
     "output_type": "stream",
     "text": [
      "127 loss 0.44237518310546875\n"
     ]
    },
    {
     "name": "stderr",
     "output_type": "stream",
     "text": [
      " 26%|█████████████████████████████████████████████▏                                                                                                                                 | 129/500 [06:07<17:55,  2.90s/it]"
     ]
    },
    {
     "name": "stdout",
     "output_type": "stream",
     "text": [
      "128 loss 0.44050362706184387\n"
     ]
    },
    {
     "name": "stderr",
     "output_type": "stream",
     "text": [
      " 26%|█████████████████████████████████████████████▌                                                                                                                                 | 130/500 [06:09<17:51,  2.90s/it]"
     ]
    },
    {
     "name": "stdout",
     "output_type": "stream",
     "text": [
      "129 loss 0.4393376111984253\n"
     ]
    },
    {
     "name": "stderr",
     "output_type": "stream",
     "text": [
      " 26%|█████████████████████████████████████████████▊                                                                                                                                 | 131/500 [06:12<17:48,  2.90s/it]"
     ]
    },
    {
     "name": "stdout",
     "output_type": "stream",
     "text": [
      "130 loss 0.43809276819229126\n"
     ]
    },
    {
     "name": "stderr",
     "output_type": "stream",
     "text": [
      " 26%|██████████████████████████████████████████████▏                                                                                                                                | 132/500 [06:15<17:45,  2.89s/it]"
     ]
    },
    {
     "name": "stdout",
     "output_type": "stream",
     "text": [
      "131 loss 0.43656110763549805\n"
     ]
    },
    {
     "name": "stderr",
     "output_type": "stream",
     "text": [
      " 27%|██████████████████████████████████████████████▌                                                                                                                                | 133/500 [06:18<17:43,  2.90s/it]"
     ]
    },
    {
     "name": "stdout",
     "output_type": "stream",
     "text": [
      "132 loss 0.43467190861701965\n"
     ]
    },
    {
     "name": "stderr",
     "output_type": "stream",
     "text": [
      " 27%|██████████████████████████████████████████████▉                                                                                                                                | 134/500 [06:21<17:41,  2.90s/it]"
     ]
    },
    {
     "name": "stdout",
     "output_type": "stream",
     "text": [
      "133 loss 0.4333142340183258\n"
     ]
    },
    {
     "name": "stderr",
     "output_type": "stream",
     "text": [
      " 27%|███████████████████████████████████████████████▎                                                                                                                               | 135/500 [06:24<17:37,  2.90s/it]"
     ]
    },
    {
     "name": "stdout",
     "output_type": "stream",
     "text": [
      "134 loss 0.43214571475982666\n"
     ]
    },
    {
     "name": "stderr",
     "output_type": "stream",
     "text": [
      " 27%|███████████████████████████████████████████████▌                                                                                                                               | 136/500 [06:27<17:34,  2.90s/it]"
     ]
    },
    {
     "name": "stdout",
     "output_type": "stream",
     "text": [
      "135 loss 0.43086549639701843\n"
     ]
    },
    {
     "name": "stderr",
     "output_type": "stream",
     "text": [
      " 27%|███████████████████████████████████████████████▉                                                                                                                               | 137/500 [06:30<17:33,  2.90s/it]"
     ]
    },
    {
     "name": "stdout",
     "output_type": "stream",
     "text": [
      "136 loss 0.4293747544288635\n"
     ]
    },
    {
     "name": "stderr",
     "output_type": "stream",
     "text": [
      " 28%|████████████████████████████████████████████████▎                                                                                                                              | 138/500 [06:33<17:33,  2.91s/it]"
     ]
    },
    {
     "name": "stdout",
     "output_type": "stream",
     "text": [
      "137 loss 0.42803019285202026\n"
     ]
    },
    {
     "name": "stderr",
     "output_type": "stream",
     "text": [
      " 28%|████████████████████████████████████████████████▋                                                                                                                              | 139/500 [06:36<17:28,  2.90s/it]"
     ]
    },
    {
     "name": "stdout",
     "output_type": "stream",
     "text": [
      "138 loss 0.4269711375236511\n"
     ]
    },
    {
     "name": "stderr",
     "output_type": "stream",
     "text": [
      " 28%|█████████████████████████████████████████████████                                                                                                                              | 140/500 [06:38<17:24,  2.90s/it]"
     ]
    },
    {
     "name": "stdout",
     "output_type": "stream",
     "text": [
      "139 loss 0.42624005675315857\n"
     ]
    },
    {
     "name": "stderr",
     "output_type": "stream",
     "text": [
      " 28%|█████████████████████████████████████████████████▎                                                                                                                             | 141/500 [06:41<17:20,  2.90s/it]"
     ]
    },
    {
     "name": "stdout",
     "output_type": "stream",
     "text": [
      "140 loss 0.4255235195159912\n"
     ]
    },
    {
     "name": "stderr",
     "output_type": "stream",
     "text": [
      " 28%|█████████████████████████████████████████████████▋                                                                                                                             | 142/500 [06:44<17:17,  2.90s/it]"
     ]
    },
    {
     "name": "stdout",
     "output_type": "stream",
     "text": [
      "141 loss 0.4247898459434509\n"
     ]
    },
    {
     "name": "stderr",
     "output_type": "stream",
     "text": [
      " 29%|██████████████████████████████████████████████████                                                                                                                             | 143/500 [06:47<17:16,  2.90s/it]"
     ]
    },
    {
     "name": "stdout",
     "output_type": "stream",
     "text": [
      "142 loss 0.42424216866493225\n"
     ]
    },
    {
     "name": "stderr",
     "output_type": "stream",
     "text": [
      " 29%|██████████████████████████████████████████████████▍                                                                                                                            | 144/500 [06:50<17:14,  2.91s/it]"
     ]
    },
    {
     "name": "stdout",
     "output_type": "stream",
     "text": [
      "143 loss 0.42428046464920044\n"
     ]
    },
    {
     "name": "stderr",
     "output_type": "stream",
     "text": [
      " 29%|██████████████████████████████████████████████████▊                                                                                                                            | 145/500 [06:53<17:10,  2.90s/it]"
     ]
    },
    {
     "name": "stdout",
     "output_type": "stream",
     "text": [
      "144 loss 0.4251537024974823\n"
     ]
    },
    {
     "name": "stderr",
     "output_type": "stream",
     "text": [
      " 29%|███████████████████████████████████████████████████                                                                                                                            | 146/500 [06:56<17:07,  2.90s/it]"
     ]
    },
    {
     "name": "stdout",
     "output_type": "stream",
     "text": [
      "145 loss 0.425407737493515\n"
     ]
    },
    {
     "name": "stderr",
     "output_type": "stream",
     "text": [
      " 29%|███████████████████████████████████████████████████▍                                                                                                                           | 147/500 [06:59<17:04,  2.90s/it]"
     ]
    },
    {
     "name": "stdout",
     "output_type": "stream",
     "text": [
      "146 loss 0.421876460313797\n"
     ]
    },
    {
     "name": "stderr",
     "output_type": "stream",
     "text": [
      " 30%|███████████████████████████████████████████████████▊                                                                                                                           | 148/500 [07:02<17:03,  2.91s/it]"
     ]
    },
    {
     "name": "stdout",
     "output_type": "stream",
     "text": [
      "147 loss 0.4174056649208069\n"
     ]
    },
    {
     "name": "stderr",
     "output_type": "stream",
     "text": [
      " 30%|████████████████████████████████████████████████████▏                                                                                                                          | 149/500 [07:05<17:01,  2.91s/it]"
     ]
    },
    {
     "name": "stdout",
     "output_type": "stream",
     "text": [
      "148 loss 0.41589561104774475\n"
     ]
    },
    {
     "name": "stderr",
     "output_type": "stream",
     "text": [
      " 30%|████████████████████████████████████████████████████▌                                                                                                                          | 150/500 [07:07<16:57,  2.91s/it]"
     ]
    },
    {
     "name": "stdout",
     "output_type": "stream",
     "text": [
      "149 loss 0.41620299220085144\n"
     ]
    },
    {
     "name": "stderr",
     "output_type": "stream",
     "text": [
      " 30%|████████████████████████████████████████████████████▊                                                                                                                          | 151/500 [07:10<16:54,  2.91s/it]"
     ]
    },
    {
     "name": "stdout",
     "output_type": "stream",
     "text": [
      "150 loss 0.41644129157066345\n"
     ]
    },
    {
     "name": "stderr",
     "output_type": "stream",
     "text": [
      " 30%|█████████████████████████████████████████████████████▏                                                                                                                         | 152/500 [07:13<16:51,  2.91s/it]"
     ]
    },
    {
     "name": "stdout",
     "output_type": "stream",
     "text": [
      "151 loss 0.41459494829177856\n"
     ]
    },
    {
     "name": "stderr",
     "output_type": "stream",
     "text": [
      " 31%|█████████████████████████████████████████████████████▌                                                                                                                         | 153/500 [07:16<16:47,  2.90s/it]"
     ]
    },
    {
     "name": "stdout",
     "output_type": "stream",
     "text": [
      "152 loss 0.41217920184135437\n"
     ]
    },
    {
     "name": "stderr",
     "output_type": "stream",
     "text": [
      " 31%|█████████████████████████████████████████████████████▉                                                                                                                         | 154/500 [07:19<16:45,  2.91s/it]"
     ]
    },
    {
     "name": "stdout",
     "output_type": "stream",
     "text": [
      "153 loss 0.41047823429107666\n"
     ]
    },
    {
     "name": "stderr",
     "output_type": "stream",
     "text": [
      " 31%|██████████████████████████████████████████████████████▎                                                                                                                        | 155/500 [07:22<16:42,  2.91s/it]"
     ]
    },
    {
     "name": "stdout",
     "output_type": "stream",
     "text": [
      "154 loss 0.40958401560783386\n"
     ]
    },
    {
     "name": "stderr",
     "output_type": "stream",
     "text": [
      " 31%|██████████████████████████████████████████████████████▌                                                                                                                        | 156/500 [07:25<16:39,  2.91s/it]"
     ]
    },
    {
     "name": "stdout",
     "output_type": "stream",
     "text": [
      "155 loss 0.4094378352165222\n"
     ]
    },
    {
     "name": "stderr",
     "output_type": "stream",
     "text": [
      " 31%|██████████████████████████████████████████████████████▉                                                                                                                        | 157/500 [07:28<16:36,  2.91s/it]"
     ]
    },
    {
     "name": "stdout",
     "output_type": "stream",
     "text": [
      "156 loss 0.4088055193424225\n"
     ]
    },
    {
     "name": "stderr",
     "output_type": "stream",
     "text": [
      " 32%|███████████████████████████████████████████████████████▎                                                                                                                       | 158/500 [07:31<16:33,  2.91s/it]"
     ]
    },
    {
     "name": "stdout",
     "output_type": "stream",
     "text": [
      "157 loss 0.4079681932926178\n"
     ]
    },
    {
     "name": "stderr",
     "output_type": "stream",
     "text": [
      " 32%|███████████████████████████████████████████████████████▋                                                                                                                       | 159/500 [07:34<16:31,  2.91s/it]"
     ]
    },
    {
     "name": "stdout",
     "output_type": "stream",
     "text": [
      "158 loss 0.4066224694252014\n"
     ]
    },
    {
     "name": "stderr",
     "output_type": "stream",
     "text": [
      " 32%|████████████████████████████████████████████████████████                                                                                                                       | 160/500 [07:37<16:28,  2.91s/it]"
     ]
    },
    {
     "name": "stdout",
     "output_type": "stream",
     "text": [
      "159 loss 0.4050247371196747\n"
     ]
    },
    {
     "name": "stderr",
     "output_type": "stream",
     "text": [
      " 32%|████████████████████████████████████████████████████████▎                                                                                                                      | 161/500 [07:39<16:25,  2.91s/it]"
     ]
    },
    {
     "name": "stdout",
     "output_type": "stream",
     "text": [
      "160 loss 0.40370121598243713\n"
     ]
    },
    {
     "name": "stderr",
     "output_type": "stream",
     "text": [
      " 32%|████████████████████████████████████████████████████████▋                                                                                                                      | 162/500 [07:42<16:22,  2.91s/it]"
     ]
    },
    {
     "name": "stdout",
     "output_type": "stream",
     "text": [
      "161 loss 0.4031286835670471\n"
     ]
    },
    {
     "name": "stderr",
     "output_type": "stream",
     "text": [
      " 33%|█████████████████████████████████████████████████████████                                                                                                                      | 163/500 [07:45<16:20,  2.91s/it]"
     ]
    },
    {
     "name": "stdout",
     "output_type": "stream",
     "text": [
      "162 loss 0.40266576409339905\n"
     ]
    },
    {
     "name": "stderr",
     "output_type": "stream",
     "text": [
      " 33%|█████████████████████████████████████████████████████████▍                                                                                                                     | 164/500 [07:48<16:17,  2.91s/it]"
     ]
    },
    {
     "name": "stdout",
     "output_type": "stream",
     "text": [
      "163 loss 0.40151727199554443\n"
     ]
    },
    {
     "name": "stderr",
     "output_type": "stream",
     "text": [
      " 33%|█████████████████████████████████████████████████████████▊                                                                                                                     | 165/500 [07:51<16:14,  2.91s/it]"
     ]
    },
    {
     "name": "stdout",
     "output_type": "stream",
     "text": [
      "164 loss 0.40004464983940125\n"
     ]
    },
    {
     "name": "stderr",
     "output_type": "stream",
     "text": [
      " 33%|██████████████████████████████████████████████████████████                                                                                                                     | 166/500 [07:54<16:12,  2.91s/it]"
     ]
    },
    {
     "name": "stdout",
     "output_type": "stream",
     "text": [
      "165 loss 0.3990285396575928\n"
     ]
    },
    {
     "name": "stderr",
     "output_type": "stream",
     "text": [
      " 33%|██████████████████████████████████████████████████████████▍                                                                                                                    | 167/500 [07:57<16:09,  2.91s/it]"
     ]
    },
    {
     "name": "stdout",
     "output_type": "stream",
     "text": [
      "166 loss 0.39880073070526123\n"
     ]
    },
    {
     "name": "stderr",
     "output_type": "stream",
     "text": [
      " 34%|██████████████████████████████████████████████████████████▊                                                                                                                    | 168/500 [08:00<16:07,  2.91s/it]"
     ]
    },
    {
     "name": "stdout",
     "output_type": "stream",
     "text": [
      "167 loss 0.39877060055732727\n"
     ]
    },
    {
     "name": "stderr",
     "output_type": "stream",
     "text": [
      " 34%|███████████████████████████████████████████████████████████▏                                                                                                                   | 169/500 [08:03<16:06,  2.92s/it]"
     ]
    },
    {
     "name": "stdout",
     "output_type": "stream",
     "text": [
      "168 loss 0.3983645439147949\n"
     ]
    },
    {
     "name": "stderr",
     "output_type": "stream",
     "text": [
      " 34%|███████████████████████████████████████████████████████████▌                                                                                                                   | 170/500 [08:06<16:03,  2.92s/it]"
     ]
    },
    {
     "name": "stdout",
     "output_type": "stream",
     "text": [
      "169 loss 0.3970707654953003\n"
     ]
    },
    {
     "name": "stderr",
     "output_type": "stream",
     "text": [
      " 34%|███████████████████████████████████████████████████████████▊                                                                                                                   | 171/500 [08:09<15:59,  2.92s/it]"
     ]
    },
    {
     "name": "stdout",
     "output_type": "stream",
     "text": [
      "170 loss 0.395785391330719\n"
     ]
    },
    {
     "name": "stderr",
     "output_type": "stream",
     "text": [
      " 34%|████████████████████████████████████████████████████████████▏                                                                                                                  | 172/500 [08:12<15:57,  2.92s/it]"
     ]
    },
    {
     "name": "stdout",
     "output_type": "stream",
     "text": [
      "171 loss 0.39507025480270386\n"
     ]
    },
    {
     "name": "stderr",
     "output_type": "stream",
     "text": [
      " 35%|████████████████████████████████████████████████████████████▌                                                                                                                  | 173/500 [08:14<15:54,  2.92s/it]"
     ]
    },
    {
     "name": "stdout",
     "output_type": "stream",
     "text": [
      "172 loss 0.3950096070766449\n"
     ]
    },
    {
     "name": "stderr",
     "output_type": "stream",
     "text": [
      " 35%|████████████████████████████████████████████████████████████▉                                                                                                                  | 174/500 [08:17<15:53,  2.93s/it]"
     ]
    },
    {
     "name": "stdout",
     "output_type": "stream",
     "text": [
      "173 loss 0.395041823387146\n"
     ]
    },
    {
     "name": "stderr",
     "output_type": "stream",
     "text": [
      " 35%|█████████████████████████████████████████████████████████████▏                                                                                                                 | 175/500 [08:20<15:51,  2.93s/it]"
     ]
    },
    {
     "name": "stdout",
     "output_type": "stream",
     "text": [
      "174 loss 0.39450037479400635\n"
     ]
    },
    {
     "name": "stderr",
     "output_type": "stream",
     "text": [
      " 35%|█████████████████████████████████████████████████████████████▌                                                                                                                 | 176/500 [08:23<15:47,  2.92s/it]"
     ]
    },
    {
     "name": "stdout",
     "output_type": "stream",
     "text": [
      "175 loss 0.392690509557724\n"
     ]
    },
    {
     "name": "stderr",
     "output_type": "stream",
     "text": [
      " 35%|█████████████████████████████████████████████████████████████▉                                                                                                                 | 177/500 [08:26<15:43,  2.92s/it]"
     ]
    },
    {
     "name": "stdout",
     "output_type": "stream",
     "text": [
      "176 loss 0.3908011019229889\n"
     ]
    },
    {
     "name": "stderr",
     "output_type": "stream",
     "text": [
      " 36%|██████████████████████████████████████████████████████████████▎                                                                                                                | 178/500 [08:29<15:40,  2.92s/it]"
     ]
    },
    {
     "name": "stdout",
     "output_type": "stream",
     "text": [
      "177 loss 0.3895389139652252\n"
     ]
    },
    {
     "name": "stderr",
     "output_type": "stream",
     "text": [
      " 36%|██████████████████████████████████████████████████████████████▋                                                                                                                | 179/500 [08:32<15:36,  2.92s/it]"
     ]
    },
    {
     "name": "stdout",
     "output_type": "stream",
     "text": [
      "178 loss 0.3890276849269867\n"
     ]
    },
    {
     "name": "stderr",
     "output_type": "stream",
     "text": [
      " 36%|███████████████████████████████████████████████████████████████                                                                                                                | 180/500 [08:35<15:36,  2.93s/it]"
     ]
    },
    {
     "name": "stdout",
     "output_type": "stream",
     "text": [
      "179 loss 0.3889959156513214\n"
     ]
    },
    {
     "name": "stderr",
     "output_type": "stream",
     "text": [
      " 36%|███████████████████████████████████████████████████████████████▎                                                                                                               | 181/500 [08:38<15:32,  2.92s/it]"
     ]
    },
    {
     "name": "stdout",
     "output_type": "stream",
     "text": [
      "180 loss 0.3888745605945587\n"
     ]
    },
    {
     "name": "stderr",
     "output_type": "stream",
     "text": [
      " 36%|███████████████████████████████████████████████████████████████▋                                                                                                               | 182/500 [08:41<15:28,  2.92s/it]"
     ]
    },
    {
     "name": "stdout",
     "output_type": "stream",
     "text": [
      "181 loss 0.3883274793624878\n"
     ]
    },
    {
     "name": "stderr",
     "output_type": "stream",
     "text": [
      " 37%|████████████████████████████████████████████████████████████████                                                                                                               | 183/500 [08:44<15:25,  2.92s/it]"
     ]
    },
    {
     "name": "stdout",
     "output_type": "stream",
     "text": [
      "182 loss 0.3871501684188843\n"
     ]
    },
    {
     "name": "stderr",
     "output_type": "stream",
     "text": [
      " 37%|████████████████████████████████████████████████████████████████▍                                                                                                              | 184/500 [08:47<15:22,  2.92s/it]"
     ]
    },
    {
     "name": "stdout",
     "output_type": "stream",
     "text": [
      "183 loss 0.38596880435943604\n"
     ]
    },
    {
     "name": "stderr",
     "output_type": "stream",
     "text": [
      " 37%|████████████████████████████████████████████████████████████████▊                                                                                                              | 185/500 [08:50<15:21,  2.93s/it]"
     ]
    },
    {
     "name": "stdout",
     "output_type": "stream",
     "text": [
      "184 loss 0.38498982787132263\n"
     ]
    },
    {
     "name": "stderr",
     "output_type": "stream",
     "text": [
      " 37%|█████████████████████████████████████████████████████████████████                                                                                                              | 186/500 [08:52<15:18,  2.92s/it]"
     ]
    },
    {
     "name": "stdout",
     "output_type": "stream",
     "text": [
      "185 loss 0.38433876633644104\n"
     ]
    },
    {
     "name": "stderr",
     "output_type": "stream",
     "text": [
      " 37%|█████████████████████████████████████████████████████████████████▍                                                                                                             | 187/500 [08:55<15:14,  2.92s/it]"
     ]
    },
    {
     "name": "stdout",
     "output_type": "stream",
     "text": [
      "186 loss 0.38390180468559265\n"
     ]
    },
    {
     "name": "stderr",
     "output_type": "stream",
     "text": [
      " 38%|█████████████████████████████████████████████████████████████████▊                                                                                                             | 188/500 [08:58<15:13,  2.93s/it]"
     ]
    },
    {
     "name": "stdout",
     "output_type": "stream",
     "text": [
      "187 loss 0.3836005628108978\n"
     ]
    },
    {
     "name": "stderr",
     "output_type": "stream",
     "text": [
      " 38%|██████████████████████████████████████████████████████████████████▏                                                                                                            | 189/500 [09:01<15:09,  2.93s/it]"
     ]
    },
    {
     "name": "stdout",
     "output_type": "stream",
     "text": [
      "188 loss 0.383026659488678\n"
     ]
    },
    {
     "name": "stderr",
     "output_type": "stream",
     "text": [
      " 38%|██████████████████████████████████████████████████████████████████▌                                                                                                            | 190/500 [09:04<15:07,  2.93s/it]"
     ]
    },
    {
     "name": "stdout",
     "output_type": "stream",
     "text": [
      "189 loss 0.3824222683906555\n"
     ]
    },
    {
     "name": "stderr",
     "output_type": "stream",
     "text": [
      " 38%|██████████████████████████████████████████████████████████████████▊                                                                                                            | 191/500 [09:07<15:03,  2.93s/it]"
     ]
    },
    {
     "name": "stdout",
     "output_type": "stream",
     "text": [
      "190 loss 0.3819741904735565\n"
     ]
    },
    {
     "name": "stderr",
     "output_type": "stream",
     "text": [
      " 38%|███████████████████████████████████████████████████████████████████▏                                                                                                           | 192/500 [09:10<15:02,  2.93s/it]"
     ]
    },
    {
     "name": "stdout",
     "output_type": "stream",
     "text": [
      "191 loss 0.3819151818752289\n"
     ]
    },
    {
     "name": "stderr",
     "output_type": "stream",
     "text": [
      " 39%|███████████████████████████████████████████████████████████████████▌                                                                                                           | 193/500 [09:13<15:01,  2.94s/it]"
     ]
    },
    {
     "name": "stdout",
     "output_type": "stream",
     "text": [
      "192 loss 0.3820951581001282\n"
     ]
    },
    {
     "name": "stderr",
     "output_type": "stream",
     "text": [
      " 39%|███████████████████████████████████████████████████████████████████▉                                                                                                           | 194/500 [09:16<14:59,  2.94s/it]"
     ]
    },
    {
     "name": "stdout",
     "output_type": "stream",
     "text": [
      "193 loss 0.3813333511352539\n"
     ]
    },
    {
     "name": "stderr",
     "output_type": "stream",
     "text": [
      " 39%|████████████████████████████████████████████████████████████████████▎                                                                                                          | 195/500 [09:19<14:55,  2.94s/it]"
     ]
    },
    {
     "name": "stdout",
     "output_type": "stream",
     "text": [
      "194 loss 0.37998855113983154\n"
     ]
    },
    {
     "name": "stderr",
     "output_type": "stream",
     "text": [
      " 39%|████████████████████████████████████████████████████████████████████▌                                                                                                          | 196/500 [09:22<14:51,  2.93s/it]"
     ]
    },
    {
     "name": "stdout",
     "output_type": "stream",
     "text": [
      "195 loss 0.3781597316265106\n"
     ]
    },
    {
     "name": "stderr",
     "output_type": "stream",
     "text": [
      " 39%|████████████████████████████████████████████████████████████████████▉                                                                                                          | 197/500 [09:25<14:48,  2.93s/it]"
     ]
    },
    {
     "name": "stdout",
     "output_type": "stream",
     "text": [
      "196 loss 0.3771599531173706\n"
     ]
    },
    {
     "name": "stderr",
     "output_type": "stream",
     "text": [
      " 40%|█████████████████████████████████████████████████████████████████████▎                                                                                                         | 198/500 [09:28<14:45,  2.93s/it]"
     ]
    },
    {
     "name": "stdout",
     "output_type": "stream",
     "text": [
      "197 loss 0.3768008351325989\n"
     ]
    },
    {
     "name": "stderr",
     "output_type": "stream",
     "text": [
      " 40%|█████████████████████████████████████████████████████████████████████▋                                                                                                         | 199/500 [09:31<14:42,  2.93s/it]"
     ]
    },
    {
     "name": "stdout",
     "output_type": "stream",
     "text": [
      "198 loss 0.37625381350517273\n"
     ]
    },
    {
     "name": "stderr",
     "output_type": "stream",
     "text": [
      " 40%|██████████████████████████████████████████████████████████████████████                                                                                                         | 200/500 [09:34<14:39,  2.93s/it]"
     ]
    },
    {
     "name": "stdout",
     "output_type": "stream",
     "text": [
      "199 loss 0.37455135583877563\n"
     ]
    },
    {
     "name": "stderr",
     "output_type": "stream",
     "text": [
      " 40%|██████████████████████████████████████████████████████████████████████▎                                                                                                        | 201/500 [09:36<14:36,  2.93s/it]"
     ]
    },
    {
     "name": "stdout",
     "output_type": "stream",
     "text": [
      "200 loss 0.37265416979789734\n"
     ]
    },
    {
     "name": "stderr",
     "output_type": "stream",
     "text": [
      " 40%|██████████████████████████████████████████████████████████████████████▋                                                                                                        | 202/500 [09:39<14:33,  2.93s/it]"
     ]
    },
    {
     "name": "stdout",
     "output_type": "stream",
     "text": [
      "201 loss 0.3722960948944092\n"
     ]
    },
    {
     "name": "stderr",
     "output_type": "stream",
     "text": [
      " 41%|███████████████████████████████████████████████████████████████████████                                                                                                        | 203/500 [09:42<14:31,  2.94s/it]"
     ]
    },
    {
     "name": "stdout",
     "output_type": "stream",
     "text": [
      "202 loss 0.37323445081710815\n"
     ]
    },
    {
     "name": "stderr",
     "output_type": "stream",
     "text": [
      " 41%|███████████████████████████████████████████████████████████████████████▍                                                                                                       | 204/500 [09:45<14:29,  2.94s/it]"
     ]
    },
    {
     "name": "stdout",
     "output_type": "stream",
     "text": [
      "203 loss 0.37347841262817383\n"
     ]
    },
    {
     "name": "stderr",
     "output_type": "stream",
     "text": [
      " 41%|███████████████████████████████████████████████████████████████████████▊                                                                                                       | 205/500 [09:48<14:26,  2.94s/it]"
     ]
    },
    {
     "name": "stdout",
     "output_type": "stream",
     "text": [
      "204 loss 0.37128522992134094\n"
     ]
    },
    {
     "name": "stderr",
     "output_type": "stream",
     "text": [
      " 41%|████████████████████████████████████████████████████████████████████████                                                                                                       | 206/500 [09:51<14:22,  2.94s/it]"
     ]
    },
    {
     "name": "stdout",
     "output_type": "stream",
     "text": [
      "205 loss 0.3692815899848938\n"
     ]
    },
    {
     "name": "stderr",
     "output_type": "stream",
     "text": [
      " 41%|████████████████████████████████████████████████████████████████████████▍                                                                                                      | 207/500 [09:54<14:19,  2.93s/it]"
     ]
    },
    {
     "name": "stdout",
     "output_type": "stream",
     "text": [
      "206 loss 0.36930185556411743\n"
     ]
    },
    {
     "name": "stderr",
     "output_type": "stream",
     "text": [
      " 42%|████████████████████████████████████████████████████████████████████████▊                                                                                                      | 208/500 [09:57<14:18,  2.94s/it]"
     ]
    },
    {
     "name": "stdout",
     "output_type": "stream",
     "text": [
      "207 loss 0.36957985162734985\n"
     ]
    },
    {
     "name": "stderr",
     "output_type": "stream",
     "text": [
      " 42%|█████████████████████████████████████████████████████████████████████████▏                                                                                                     | 209/500 [10:00<14:14,  2.94s/it]"
     ]
    },
    {
     "name": "stdout",
     "output_type": "stream",
     "text": [
      "208 loss 0.36798086762428284\n"
     ]
    },
    {
     "name": "stderr",
     "output_type": "stream",
     "text": [
      " 42%|█████████████████████████████████████████████████████████████████████████▌                                                                                                     | 210/500 [10:03<14:12,  2.94s/it]"
     ]
    },
    {
     "name": "stdout",
     "output_type": "stream",
     "text": [
      "209 loss 0.3659263551235199\n"
     ]
    },
    {
     "name": "stderr",
     "output_type": "stream",
     "text": [
      " 42%|█████████████████████████████████████████████████████████████████████████▊                                                                                                     | 211/500 [10:06<14:08,  2.94s/it]"
     ]
    },
    {
     "name": "stdout",
     "output_type": "stream",
     "text": [
      "210 loss 0.36550062894821167\n"
     ]
    },
    {
     "name": "stderr",
     "output_type": "stream",
     "text": [
      " 42%|██████████████████████████████████████████████████████████████████████████▏                                                                                                    | 212/500 [10:09<14:05,  2.94s/it]"
     ]
    },
    {
     "name": "stdout",
     "output_type": "stream",
     "text": [
      "211 loss 0.36589598655700684\n"
     ]
    },
    {
     "name": "stderr",
     "output_type": "stream",
     "text": [
      " 43%|██████████████████████████████████████████████████████████████████████████▌                                                                                                    | 213/500 [10:12<14:01,  2.93s/it]"
     ]
    },
    {
     "name": "stdout",
     "output_type": "stream",
     "text": [
      "212 loss 0.3654411733150482\n"
     ]
    },
    {
     "name": "stderr",
     "output_type": "stream",
     "text": [
      " 43%|██████████████████████████████████████████████████████████████████████████▉                                                                                                    | 214/500 [10:15<13:58,  2.93s/it]"
     ]
    },
    {
     "name": "stdout",
     "output_type": "stream",
     "text": [
      "213 loss 0.36432623863220215\n"
     ]
    },
    {
     "name": "stderr",
     "output_type": "stream",
     "text": [
      " 43%|███████████████████████████████████████████████████████████████████████████▎                                                                                                   | 215/500 [10:18<13:56,  2.93s/it]"
     ]
    },
    {
     "name": "stdout",
     "output_type": "stream",
     "text": [
      "214 loss 0.3633732199668884\n"
     ]
    },
    {
     "name": "stderr",
     "output_type": "stream",
     "text": [
      " 43%|███████████████████████████████████████████████████████████████████████████▌                                                                                                   | 216/500 [10:20<13:52,  2.93s/it]"
     ]
    },
    {
     "name": "stdout",
     "output_type": "stream",
     "text": [
      "215 loss 0.36371293663978577\n"
     ]
    },
    {
     "name": "stderr",
     "output_type": "stream",
     "text": [
      " 43%|███████████████████████████████████████████████████████████████████████████▉                                                                                                   | 217/500 [10:23<13:51,  2.94s/it]"
     ]
    },
    {
     "name": "stdout",
     "output_type": "stream",
     "text": [
      "216 loss 0.36440154910087585\n"
     ]
    },
    {
     "name": "stderr",
     "output_type": "stream",
     "text": [
      " 44%|████████████████████████████████████████████████████████████████████████████▎                                                                                                  | 218/500 [10:26<13:48,  2.94s/it]"
     ]
    },
    {
     "name": "stdout",
     "output_type": "stream",
     "text": [
      "217 loss 0.3639930486679077\n"
     ]
    },
    {
     "name": "stderr",
     "output_type": "stream",
     "text": [
      " 44%|████████████████████████████████████████████████████████████████████████████▋                                                                                                  | 219/500 [10:29<13:45,  2.94s/it]"
     ]
    },
    {
     "name": "stdout",
     "output_type": "stream",
     "text": [
      "218 loss 0.36302390694618225\n"
     ]
    },
    {
     "name": "stderr",
     "output_type": "stream",
     "text": [
      " 44%|█████████████████████████████████████████████████████████████████████████████                                                                                                  | 220/500 [10:32<13:43,  2.94s/it]"
     ]
    },
    {
     "name": "stdout",
     "output_type": "stream",
     "text": [
      "219 loss 0.3627462685108185\n"
     ]
    },
    {
     "name": "stderr",
     "output_type": "stream",
     "text": [
      " 44%|█████████████████████████████████████████████████████████████████████████████▎                                                                                                 | 221/500 [10:35<13:39,  2.94s/it]"
     ]
    },
    {
     "name": "stdout",
     "output_type": "stream",
     "text": [
      "220 loss 0.36298513412475586\n"
     ]
    },
    {
     "name": "stderr",
     "output_type": "stream",
     "text": [
      " 44%|█████████████████████████████████████████████████████████████████████████████▋                                                                                                 | 222/500 [10:38<13:38,  2.94s/it]"
     ]
    },
    {
     "name": "stdout",
     "output_type": "stream",
     "text": [
      "221 loss 0.36225825548171997\n"
     ]
    },
    {
     "name": "stderr",
     "output_type": "stream",
     "text": [
      " 45%|██████████████████████████████████████████████████████████████████████████████                                                                                                 | 223/500 [10:41<13:34,  2.94s/it]"
     ]
    },
    {
     "name": "stdout",
     "output_type": "stream",
     "text": [
      "222 loss 0.35998570919036865\n"
     ]
    },
    {
     "name": "stderr",
     "output_type": "stream",
     "text": [
      " 45%|██████████████████████████████████████████████████████████████████████████████▍                                                                                                | 224/500 [10:44<13:30,  2.94s/it]"
     ]
    },
    {
     "name": "stdout",
     "output_type": "stream",
     "text": [
      "223 loss 0.3581816554069519\n"
     ]
    },
    {
     "name": "stderr",
     "output_type": "stream",
     "text": [
      " 45%|██████████████████████████████████████████████████████████████████████████████▊                                                                                                | 225/500 [10:47<13:28,  2.94s/it]"
     ]
    },
    {
     "name": "stdout",
     "output_type": "stream",
     "text": [
      "224 loss 0.3577498197555542\n"
     ]
    },
    {
     "name": "stderr",
     "output_type": "stream",
     "text": [
      " 45%|███████████████████████████████████████████████████████████████████████████████                                                                                                | 226/500 [10:50<13:25,  2.94s/it]"
     ]
    },
    {
     "name": "stdout",
     "output_type": "stream",
     "text": [
      "225 loss 0.358236163854599\n"
     ]
    },
    {
     "name": "stderr",
     "output_type": "stream",
     "text": [
      " 45%|███████████████████████████████████████████████████████████████████████████████▍                                                                                               | 227/500 [10:53<13:21,  2.94s/it]"
     ]
    },
    {
     "name": "stdout",
     "output_type": "stream",
     "text": [
      "226 loss 0.3582076132297516\n"
     ]
    },
    {
     "name": "stderr",
     "output_type": "stream",
     "text": [
      " 46%|███████████████████████████████████████████████████████████████████████████████▊                                                                                               | 228/500 [10:56<13:18,  2.94s/it]"
     ]
    },
    {
     "name": "stdout",
     "output_type": "stream",
     "text": [
      "227 loss 0.3574725389480591\n"
     ]
    },
    {
     "name": "stderr",
     "output_type": "stream",
     "text": [
      " 46%|████████████████████████████████████████████████████████████████████████████████▏                                                                                              | 229/500 [10:59<13:16,  2.94s/it]"
     ]
    },
    {
     "name": "stdout",
     "output_type": "stream",
     "text": [
      "228 loss 0.35702285170555115\n"
     ]
    },
    {
     "name": "stderr",
     "output_type": "stream",
     "text": [
      " 46%|████████████████████████████████████████████████████████████████████████████████▌                                                                                              | 230/500 [11:02<13:12,  2.94s/it]"
     ]
    },
    {
     "name": "stdout",
     "output_type": "stream",
     "text": [
      "229 loss 0.35662642121315\n"
     ]
    },
    {
     "name": "stderr",
     "output_type": "stream",
     "text": [
      " 46%|████████████████████████████████████████████████████████████████████████████████▊                                                                                              | 231/500 [11:05<13:11,  2.94s/it]"
     ]
    },
    {
     "name": "stdout",
     "output_type": "stream",
     "text": [
      "230 loss 0.35581669211387634\n"
     ]
    },
    {
     "name": "stderr",
     "output_type": "stream",
     "text": [
      " 46%|█████████████████████████████████████████████████████████████████████████████████▏                                                                                             | 232/500 [11:07<13:07,  2.94s/it]"
     ]
    },
    {
     "name": "stdout",
     "output_type": "stream",
     "text": [
      "231 loss 0.35441890358924866\n"
     ]
    },
    {
     "name": "stderr",
     "output_type": "stream",
     "text": [
      " 47%|█████████████████████████████████████████████████████████████████████████████████▌                                                                                             | 233/500 [11:10<13:03,  2.94s/it]"
     ]
    },
    {
     "name": "stdout",
     "output_type": "stream",
     "text": [
      "232 loss 0.3535356819629669\n"
     ]
    },
    {
     "name": "stderr",
     "output_type": "stream",
     "text": [
      " 47%|█████████████████████████████████████████████████████████████████████████████████▉                                                                                             | 234/500 [11:13<13:01,  2.94s/it]"
     ]
    },
    {
     "name": "stdout",
     "output_type": "stream",
     "text": [
      "233 loss 0.353429913520813\n"
     ]
    },
    {
     "name": "stderr",
     "output_type": "stream",
     "text": [
      " 47%|██████████████████████████████████████████████████████████████████████████████████▎                                                                                            | 235/500 [11:16<12:59,  2.94s/it]"
     ]
    },
    {
     "name": "stdout",
     "output_type": "stream",
     "text": [
      "234 loss 0.3533918559551239\n"
     ]
    },
    {
     "name": "stderr",
     "output_type": "stream",
     "text": [
      " 47%|██████████████████████████████████████████████████████████████████████████████████▌                                                                                            | 236/500 [11:19<12:57,  2.94s/it]"
     ]
    },
    {
     "name": "stdout",
     "output_type": "stream",
     "text": [
      "235 loss 0.35308071970939636\n"
     ]
    },
    {
     "name": "stderr",
     "output_type": "stream",
     "text": [
      " 47%|██████████████████████████████████████████████████████████████████████████████████▉                                                                                            | 237/500 [11:22<12:55,  2.95s/it]"
     ]
    },
    {
     "name": "stdout",
     "output_type": "stream",
     "text": [
      "236 loss 0.35207921266555786\n"
     ]
    },
    {
     "name": "stderr",
     "output_type": "stream",
     "text": [
      " 48%|███████████████████████████████████████████████████████████████████████████████████▎                                                                                           | 238/500 [11:25<12:51,  2.94s/it]"
     ]
    },
    {
     "name": "stdout",
     "output_type": "stream",
     "text": [
      "237 loss 0.3511037826538086\n"
     ]
    },
    {
     "name": "stderr",
     "output_type": "stream",
     "text": [
      " 48%|███████████████████████████████████████████████████████████████████████████████████▋                                                                                           | 239/500 [11:28<12:49,  2.95s/it]"
     ]
    },
    {
     "name": "stdout",
     "output_type": "stream",
     "text": [
      "238 loss 0.35055604577064514\n"
     ]
    },
    {
     "name": "stderr",
     "output_type": "stream",
     "text": [
      " 48%|████████████████████████████████████████████████████████████████████████████████████                                                                                           | 240/500 [11:31<12:45,  2.94s/it]"
     ]
    },
    {
     "name": "stdout",
     "output_type": "stream",
     "text": [
      "239 loss 0.35024622082710266\n"
     ]
    },
    {
     "name": "stderr",
     "output_type": "stream",
     "text": [
      " 48%|████████████████████████████████████████████████████████████████████████████████████▎                                                                                          | 241/500 [11:34<12:41,  2.94s/it]"
     ]
    },
    {
     "name": "stdout",
     "output_type": "stream",
     "text": [
      "240 loss 0.34953105449676514\n"
     ]
    },
    {
     "name": "stderr",
     "output_type": "stream",
     "text": [
      " 48%|████████████████████████████████████████████████████████████████████████████████████▋                                                                                          | 242/500 [11:37<12:38,  2.94s/it]"
     ]
    },
    {
     "name": "stdout",
     "output_type": "stream",
     "text": [
      "241 loss 0.3487100601196289\n"
     ]
    },
    {
     "name": "stderr",
     "output_type": "stream",
     "text": [
      " 49%|█████████████████████████████████████████████████████████████████████████████████████                                                                                          | 243/500 [11:40<12:34,  2.94s/it]"
     ]
    },
    {
     "name": "stdout",
     "output_type": "stream",
     "text": [
      "242 loss 0.34845390915870667\n"
     ]
    },
    {
     "name": "stderr",
     "output_type": "stream",
     "text": [
      " 49%|█████████████████████████████████████████████████████████████████████████████████████▍                                                                                         | 244/500 [11:43<12:32,  2.94s/it]"
     ]
    },
    {
     "name": "stdout",
     "output_type": "stream",
     "text": [
      "243 loss 0.3485783636569977\n"
     ]
    },
    {
     "name": "stderr",
     "output_type": "stream",
     "text": [
      " 49%|█████████████████████████████████████████████████████████████████████████████████████▊                                                                                         | 245/500 [11:46<12:30,  2.94s/it]"
     ]
    },
    {
     "name": "stdout",
     "output_type": "stream",
     "text": [
      "244 loss 0.3490246534347534\n"
     ]
    },
    {
     "name": "stderr",
     "output_type": "stream",
     "text": [
      " 49%|██████████████████████████████████████████████████████████████████████████████████████                                                                                         | 246/500 [11:49<12:26,  2.94s/it]"
     ]
    },
    {
     "name": "stdout",
     "output_type": "stream",
     "text": [
      "245 loss 0.3491789698600769\n"
     ]
    },
    {
     "name": "stderr",
     "output_type": "stream",
     "text": [
      " 49%|██████████████████████████████████████████████████████████████████████████████████████▍                                                                                        | 247/500 [11:52<12:23,  2.94s/it]"
     ]
    },
    {
     "name": "stdout",
     "output_type": "stream",
     "text": [
      "246 loss 0.3487376570701599\n"
     ]
    },
    {
     "name": "stderr",
     "output_type": "stream",
     "text": [
      " 50%|██████████████████████████████████████████████████████████████████████████████████████▊                                                                                        | 248/500 [11:55<12:21,  2.94s/it]"
     ]
    },
    {
     "name": "stdout",
     "output_type": "stream",
     "text": [
      "247 loss 0.3485976457595825\n"
     ]
    },
    {
     "name": "stderr",
     "output_type": "stream",
     "text": [
      " 50%|███████████████████████████████████████████████████████████████████████████████████████▏                                                                                       | 249/500 [11:58<12:18,  2.94s/it]"
     ]
    },
    {
     "name": "stdout",
     "output_type": "stream",
     "text": [
      "248 loss 0.34874534606933594\n"
     ]
    },
    {
     "name": "stderr",
     "output_type": "stream",
     "text": [
      " 50%|███████████████████████████████████████████████████████████████████████████████████████▌                                                                                       | 250/500 [12:00<12:16,  2.95s/it]"
     ]
    },
    {
     "name": "stdout",
     "output_type": "stream",
     "text": [
      "249 loss 0.34829190373420715\n"
     ]
    }
   ],
   "source": [
    "loss, initial_conditions_optim, initall = optim(im_tgt, initial_conditions, cosmo, conf, iters=500)\n",
    "loss, initial_conditions.std(), initial_conditions_optim.std()"
   ]
  },
  {
   "cell_type": "code",
   "execution_count": null,
   "id": "366fd09f-a0ee-4be0-bc75-9f040fc11adb",
   "metadata": {},
   "outputs": [],
   "source": [
    "gpu_device = jax.devices('gpu')[0]"
   ]
  },
  {
   "cell_type": "code",
   "execution_count": null,
   "id": "e986281a-0170-442f-9cd4-8afc303a5bc4",
   "metadata": {},
   "outputs": [],
   "source": [
    "cpu2gpu=jax.jit(lambda x: x, device=gpu_device)"
   ]
  },
  {
   "cell_type": "code",
   "execution_count": null,
   "id": "90e25ea8-103c-44e5-9320-393c2df0080a",
   "metadata": {},
   "outputs": [],
   "source": [
    "res0 = model(cpu2gpu(initial_conditions), cosmo, conf)\n",
    "res1 = model(cpu2gpu(initall[9]), cosmo, conf)\n",
    "res2 = model(cpu2gpu(initall[99]), cosmo, conf)\n",
    "res3 = model(cpu2gpu(initall[499]), cosmo, conf)\n"
   ]
  },
  {
   "cell_type": "code",
   "execution_count": 31,
   "id": "8daa069c-564d-4388-9cfa-1997bed0a273",
   "metadata": {},
   "outputs": [
    {
     "data": {
      "image/jpeg": "[encoded data removed]",
      "text/plain": [
       "<Figure size 1000x1000 with 4 Axes>"
      ]
     },
     "metadata": {},
     "output_type": "display_data"
    }
   ],
   "source": [
    "fig, axes  = plt.subplots(2,2, figsize=(10,10))\n",
    "vmax=-0.9995\n",
    "vmin=-1.0\n",
    "axes[0,0].imshow(res0, vmax=vmax,vmin=vmin)\n",
    "axes[0,1].imshow(res1, vmax=vmax,vmin=vmin)\n",
    "axes[1,0].imshow(res2, vmax=vmax,vmin=vmin)\n",
    "axes[1,1].imshow(res3, vmax=vmax,vmin=vmin)\n",
    "ind=0\n",
    "iterlist=[1, 10, 100, 500]\n",
    "for i in range(2):\n",
    "    for j in range(2):\n",
    "        axes[i,j].text(40, 30, \"iteration: {0}\".format(iterlist[ind]), c=\"w\")\n",
    "        ind+=1"
   ]
  },
  {
   "cell_type": "code",
   "execution_count": 30,
   "id": "46123ba6-5927-4663-8be2-0397af9a883d",
   "metadata": {},
   "outputs": [
    {
     "data": {
      "text/plain": [
       "<matplotlib.image.AxesImage at 0x7f62581a3e20>"
      ]
     },
     "execution_count": 30,
     "metadata": {},
     "output_type": "execute_result"
    },
    {
     "data": {
      "image/jpeg": "[encoded data removed]",
      "text/plain": [
       "<Figure size 640x480 with 1 Axes>"
      ]
     },
     "metadata": {},
     "output_type": "display_data"
    }
   ],
   "source": [
    "plt.imshow(im_tgt)"
   ]
  },
  {
   "cell_type": "markdown",
   "id": "f82e83fe-c5f4-4bd2-99b2-592c8aba7362",
   "metadata": {},
   "source": [
    "## Compare with Nbody simulation "
   ]
  },
  {
   "cell_type": "code",
   "execution_count": 6,
   "id": "6a56a2fd-8603-4f40-be52-9b0732a75953",
   "metadata": {},
   "outputs": [],
   "source": [
    "import numpy as np\n",
    "import readgadget\n",
    "\n",
    "# input files\n",
    "snapshot = '/project/chto/chto/Qujote/Fiducial/snapdir/0/ICs_chto/////ics'\n",
    "ptype    = [1] #[1](CDM), [2](neutrinos) or [1,2](CDM+neutrinos)\n",
    "\n",
    "# read header\n",
    "header   = readgadget.header(snapshot)\n",
    "BoxSize  = header.boxsize/1e3  #Mpc/h\n",
    "Nall     = header.nall         #Total number of particles\n",
    "Masses   = header.massarr*1e10 #Masses of the particles in Msun/h\n",
    "Omega_m  = header.omega_m      #value of Omega_m\n",
    "Omega_l  = header.omega_l      #value of Omega_l\n",
    "h        = header.hubble       #value of h\n",
    "redshift = header.redshift     #redshift of the snapshot\n",
    "Hubble   = 100.0*np.sqrt(Omega_m*(1.0+redshift)**3+Omega_l)#Value of H(z) in km/s/(Mpc/h)\n",
    "init_chto = readgadget.read_block(\"/project/chto/chto/Qujote/Fiducial/snapdir/0/ics_256_init\", \"POS \", ptype)#positions in Mpc/h\n",
    "\n",
    "# read positions, velocities and IDs of the particles\n",
    "disp_chto = readgadget.read_block(snapshot, \"POS \", ptype)/1000#positions in Mpc/h\n",
    "vel_chto = readgadget.read_block(snapshot, \"VEL \", ptype)     #peculiar velocities in km/s\n",
    "ids_chto = readgadget.read_block(snapshot, \"ID  \", ptype)   "
   ]
  },
  {
   "cell_type": "code",
   "execution_count": 7,
   "id": "4f115e65-c31d-42c4-a466-e5ec8ff34f21",
   "metadata": {},
   "outputs": [],
   "source": [
    "cosmo_in = [0.3175, 0.049, 0.6711, 0.9624, 0.834]#Omega_m                 Omega_b                  h                        n_s                      sigma_8\n"
   ]
  },
  {
   "cell_type": "code",
   "execution_count": 8,
   "id": "0b81842e-974e-429d-a307-fb3979adb0b0",
   "metadata": {},
   "outputs": [],
   "source": [
    "#k = jnp.logspace(-4, 1, 128)\n",
    "nmesh = round(len(disp_chto)**(1/3))\n",
    "mesh_shape = [nmesh, nmesh, nmesh]\n",
    "box_size = [BoxSize, BoxSize, BoxSize]"
   ]
  },
  {
   "cell_type": "code",
   "execution_count": null,
   "id": "17ebd692-d19f-40d6-b9b4-047be2ed5e16",
   "metadata": {},
   "outputs": [
    {
     "name": "stderr",
     "output_type": "stream",
     "text": [
      "/project/chto/chto/anaconda/newenv4/lib/python3.10/site-packages/jax/_src/numpy/array_methods.py:122: UserWarning: Explicitly requested dtype <class 'jax.numpy.int64'> requested in astype is not available, and will be truncated to dtype int32. To enable more dtypes, set the jax_enable_x64 configuration option or the JAX_ENABLE_X64 shell environment variable. See https://github.com/jax-ml/jax#current-gotchas for more.\n",
      "  return lax_numpy.astype(self, dtype, copy=copy, device=device)\n"
     ]
    }
   ],
   "source": [
    "particles = init_chto.astype(np.float64)\n",
    "# Initial displacement\n",
    "\n",
    "cosmo = jc.Cosmology(Omega_c=cosmo_in[0]-cosmo_in[1], Omega_b=cosmo_in[1], h=cosmo_in[2], sigma8 = cosmo_in[4], n_s=cosmo_in[3],\n",
    "                      Omega_k=0., w0=-1., wa=0.)\n",
    "ain=np.atleast_1d(1)\n",
    "_ =  growth_rate_second(cosmo,ain)\n",
    "_ = growth_rate(cosmo, ain)\n",
    "_ = growth_factor(cosmo, ain)\n",
    "jc.background.radial_comoving_distance(cosmo, ain)\n",
    "    \n",
    "\n",
    "dx = disp_chto.astype(np.float64)/BoxSize*nmesh\n",
    "dt0= 0.01\n",
    "p= (vel_chto.astype(np.float64))*header.time/100/BoxSize*nmesh#/cosmo.h\n",
    "\n",
    "\n",
    "\n",
    "\n",
    "\n",
    "conf = Configuration(mesh_shape=[nmesh, nmesh, nmesh], \n",
    "                     snapshots= [1],\n",
    "                     BoxSize=box_size, \n",
    "                     initial_t0=header.time,\n",
    "                     final_time = 1,\n",
    "                     density_plane_npix = nmesh,\n",
    "                     dt0=dt0)\n",
    "\n",
    "\n",
    "\n",
    "ode_fn = tree.map(\n",
    "        FPMODE,\n",
    "        symplectic_ode(conf.mesh_shape, paint_absolute_pos=True)\n",
    ")\n",
    "solver = FPMLeapFrog(initial_t0=conf.initial_t0, final_t1=conf.final_time)\n",
    "stepsize_controller = ConstantStepSize()\n",
    "\n",
    "initforce = pm_forces(\n",
    "        init_chto/conf.BoxSize*conf.mesh_shape[0]/1000+dx,\n",
    "        mesh_shape=mesh_shape,\n",
    "        paint_absolute_pos=True,\n",
    "    )* 1.5* cosmo.Omega_m  \n",
    "\n",
    "y0= jnp.stack([init_chto/BoxSize*nmesh/1000+dx, p,initforce], axis=0)\n",
    "\n",
    "res = diffeqsolve(ode_fn,solver,\\\n",
    "                  t0=conf.initial_t0,\\\n",
    "                  t1=conf.final_time,\\\n",
    "                  dt0=conf.dt0,\\\n",
    "                  y0=y0,\n",
    "                  args=[cosmo, cosmo._workspace, conf.initial_t0, conf, 0, 0],\\\n",
    "                  saveat=SaveAt(t1=True),\n",
    "                  stepsize_controller=stepsize_controller,adjoint=diffrax.ReversibleAdjoint())\n"
   ]
  },
  {
   "cell_type": "code",
   "execution_count": null,
   "id": "651963e2-01e5-41b0-814a-a3346e12b729",
   "metadata": {},
   "outputs": [],
   "source": [
    "res"
   ]
  },
  {
   "cell_type": "code",
   "execution_count": null,
   "id": "c65bc3a9-70c2-42e7-bd71-2936c1b5354e",
   "metadata": {},
   "outputs": [],
   "source": [
    "from jaxpm.plotting import plot_fields_single_projection\n",
    "fields={}\n",
    "field = res.ys[0][0]\n",
    "fields[f\"a=1\"] = jnp.log10(cic_paint(jnp.zeros(mesh_shape) , field)+1)\n",
    "plot_fields_single_projection(fields)\n"
   ]
  },
  {
   "cell_type": "markdown",
   "id": "6f5e2e32-2e54-49b6-9e94-cc236feb27f9",
   "metadata": {},
   "source": [
    "# Check powerspectra "
   ]
  },
  {
   "cell_type": "code",
   "execution_count": 19,
   "id": "b6be277b-524c-4043-9c36-bf7295f82269",
   "metadata": {},
   "outputs": [],
   "source": [
    "import numpy as np\n",
    "import readgadget\n",
    "import MAS_library as MASL"
   ]
  },
  {
   "cell_type": "code",
   "execution_count": 20,
   "id": "f39319c0-2af5-435d-a497-e68a13146edb",
   "metadata": {},
   "outputs": [
    {
     "name": "stdout",
     "output_type": "stream",
     "text": [
      "\n",
      "Using CIC mass assignment scheme\n",
      "Time taken = 37.533 seconds\n",
      "\n",
      "-1.000 < delta < 4780.165\n",
      "<delta> = 0.000\n",
      "shape of the matrix: (1024, 1024, 1024)\n",
      "density field data type: float32\n"
     ]
    }
   ],
   "source": [
    "#snapshot = '/project/chto/chto/Qujote/Fiducial/snapdir/0/ICs/ics' #location of the snapshot\n",
    "\n",
    "snapshot = '/project/chto/chto/Qujote/Fiducial/snapdir/0/snapdir_004/snap_004' #location of the snapshot\n",
    "grid     = 1024  #the density field will have grid^3 voxels\n",
    "MAS      = 'CIC'  #Mass-assignment scheme:'NGP', 'CIC', 'TSC', 'PCS'\n",
    "verbose  = True   #whether to print information about the progress\n",
    "ptype    = [1]    #[1](CDM), [2](neutrinos) or [1,2](CDM+neutrinos)\n",
    "# read header\n",
    "header   = readgadget.header(snapshot)\n",
    "BoxSize  = header.boxsize/1e3  #Mpc/h\n",
    "redshift = header.redshift     #redshift of the snapshot\n",
    "#Masses   = header.massarr*1e10 #Masses of the particles in Msun/h\n",
    "\n",
    "# read positions, velocities and IDs of the particles\n",
    "pos = readgadget.read_block(snapshot, \"POS \", ptype)/1e3 #positions in Mpc/h\n",
    "delta = np.zeros((grid,grid,grid), dtype=np.float32)\n",
    "# construct 3D density field\n",
    "MASL.MA(pos, delta, BoxSize, MAS, verbose=verbose)\n",
    "delta /= np.mean(delta, dtype=np.float64);  delta -= 1.0\n",
    "\n",
    "print('%.3f < delta < %.3f'%(np.min(delta), np.max(delta)))\n",
    "print('<delta> = %.3f'%np.mean(delta))\n",
    "print('shape of the matrix:', delta.shape)\n",
    "print('density field data type:', delta.dtype)\n"
   ]
  },
  {
   "cell_type": "code",
   "execution_count": 21,
   "id": "c6e8a96c-f9a8-41df-8b13-12edffe291d4",
   "metadata": {},
   "outputs": [
    {
     "name": "stdout",
     "output_type": "stream",
     "text": [
      "\n",
      "Computing power spectrum of the field...\n",
      "Time to complete loop = 34.68\n",
      "Time taken = 57.62 seconds\n"
     ]
    }
   ],
   "source": [
    "# compute power spectrum\n",
    "import Pk_library as PKL\n",
    "axis=0\n",
    "threads=1\n",
    "Pk = PKL.Pk(delta, BoxSize, axis, MAS, threads, verbose)\n",
    "# Pk is a python class containing the 1D, 2D and 3D power spectra, that can be retrieved as\n",
    "\n",
    "# 1D P(k)\n",
    "k1D      = Pk.k1D\n",
    "Pk1D     = Pk.Pk1D\n",
    "Nmodes1D = Pk.Nmodes1D"
   ]
  },
  {
   "cell_type": "code",
   "execution_count": 22,
   "id": "a10a3c05-b8c1-4a7f-b531-befa4a333298",
   "metadata": {},
   "outputs": [],
   "source": [
    "def get_delta(pos_in):\n",
    "    delta = np.zeros((grid,grid,grid), dtype=np.float32)\n",
    "    # construct 3D density field\n",
    "    MASL.MA(pos_in, delta, BoxSize, MAS, verbose=verbose)\n",
    "    #delta *= Masses[1]\n",
    "    \n",
    "    # now check that the mass in the density field is equal to the total mass in the simulation\n",
    "    #print('%.3e should be equal to\\n%.3e'%(np.sum(delta, dtype=np.float64), pos.shape[0]*Masses[1]))\n",
    "    # at this point, delta contains the effective number of particles in each voxel\n",
    "    # now compute overdensity and density constrast\n",
    "    delta /= np.mean(delta, dtype=np.float64);  delta -= 1.0\n",
    "    return delta"
   ]
  },
  {
   "cell_type": "code",
   "execution_count": 23,
   "id": "81e79f96-ebe1-4497-9c0f-b640d4228b28",
   "metadata": {},
   "outputs": [],
   "source": [
    "def getpos(sol, boxsize, nmesh):\n",
    "    return (sol/nmesh*boxsize)%boxsize"
   ]
  },
  {
   "cell_type": "code",
   "execution_count": 25,
   "id": "6cfca1de-8ba6-4037-891c-b731c48b36c3",
   "metadata": {},
   "outputs": [
    {
     "name": "stdout",
     "output_type": "stream",
     "text": [
      "\n",
      "Using CIC mass assignment scheme\n",
      "Time taken = 3.972 seconds\n",
      "\n",
      "\n",
      "Computing power spectrum of the field...\n",
      "Time to complete loop = 34.78\n",
      "Time taken = 57.59 seconds\n"
     ]
    }
   ],
   "source": [
    "delta_jaxpm =get_delta(np.asarray(getpos(res.ys[0][0], BoxSize, nmesh)).astype('float32'))\n",
    "Pk_jaxpm = PKL.Pk(delta_jaxpm, BoxSize, axis, MAS, threads, verbose)\n"
   ]
  },
  {
   "cell_type": "code",
   "execution_count": 26,
   "id": "040e8065-e523-4c8a-9c60-2fd24458b8c6",
   "metadata": {},
   "outputs": [
    {
     "data": {
      "text/plain": [
       "(0.1, 1.5)"
      ]
     },
     "execution_count": 26,
     "metadata": {},
     "output_type": "execute_result"
    },
    {
     "data": {
      "image/jpeg": "[encoded data removed]",
      "text/plain": [
       "<Figure size 500x1000 with 2 Axes>"
      ]
     },
     "metadata": {},
     "output_type": "display_data"
    }
   ],
   "source": [
    "clist = ['k','r','g','b', 'm']\n",
    "fig, axes=plt.subplots(2,1,figsize=(5,10), sharex=True)\n",
    "axes[0].plot(Pk.k3D, Pk.Pk[:,0], label=\"Qujote (1024^3\", c=clist[0])\n",
    "axes[0].plot(Pk_jaxpm.k3D, Pk_jaxpm.Pk[:,0], label=\"jaxpm Leapfrog Runtime 5.61s \", c=clist[4])\n",
    "\n",
    "axes[0].set_xscale('log')\n",
    "axes[0].set_yscale('log')\n",
    "axes[1].plot(Pk_jaxpm.k3D, Pk_jaxpm.Pk[:,0]/Pk.Pk[:,0], label=\"jaxpm Leapfrog\", c=clist[4])\n",
    "\n",
    "axes[0].legend()\n",
    "axes[0].set_ylabel(\"pk\")\n",
    "axes[1].set_ylabel(\"pk/pk[high res]\")\n",
    "axes[1].set_xlabel(\"k (h/Mpc)\")\n",
    "axes[1].set_ylim(0.1,1.5)\n",
    "plt.ylim(0.1,1.5)"
   ]
  },
  {
   "cell_type": "code",
   "execution_count": null,
   "id": "466aa0c7-b2fe-4707-8900-ff8d28fc92ff",
   "metadata": {},
   "outputs": [],
   "source": []
  }
 ],
 "metadata": {
  "kernelspec": {
   "display_name": "Python 3 (ipykernel)",
   "language": "python",
   "name": "python3"
  },
  "language_info": {
   "codemirror_mode": {
    "name": "ipython",
    "version": 3
   },
   "file_extension": ".py",
   "mimetype": "text/x-python",
   "name": "python",
   "nbconvert_exporter": "python",
   "pygments_lexer": "ipython3",
   "version": "3.10.13"
  }
 },
 "nbformat": 4,
 "nbformat_minor": 5
}
